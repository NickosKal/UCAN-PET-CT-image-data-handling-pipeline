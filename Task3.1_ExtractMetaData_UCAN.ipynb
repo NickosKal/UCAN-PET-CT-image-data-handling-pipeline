{
 "cells": [
  {
   "cell_type": "code",
   "execution_count": null,
   "metadata": {},
   "outputs": [],
   "source": [
    "import numpy as np\n",
    "import pandas as pd\n",
    "import pydicom as dicom\n",
    "import matplotlib.pylab as plt\n",
    "import glob\n",
    "import SimpleITK as sitk\n",
    "import re\n",
    "\n",
    "import os\n",
    "pd.set_option('display.max_colwidth', None)\n",
    "pd.set_option('display.max_columns', None)\n",
    "dicom.config.convert_wrong_length_to_UN = True"
   ]
  },
  {
   "cell_type": "code",
   "execution_count": null,
   "metadata": {},
   "outputs": [],
   "source": [
    "#path = \"F:/U-CAN-Lymfom_A/Ashish_SampleResampling/sample_data/\"\n",
    "\n",
    "#path = \"F:/U-CAN-Lymfom_A/Raw_DCM_transf_date_20221205__06__n86_90GB\"\n",
    "\n",
    "source_path = \"/media/andres/T7 Shield/ucan_lymfom\"\n",
    "destination_path = os.path.join(source_path, \"metadata.xlsx\")\n",
    "selection_dataframe = os.path.join(source_path, \"Final_Selected_exams_from_U-CAN-Lymfom.xlsx\" )"
   ]
  },
  {
   "cell_type": "code",
   "execution_count": null,
   "metadata": {},
   "outputs": [],
   "source": [
    "directory_list = list()\n",
    "for root, dirs, files in os.walk(source_path, topdown=False):\n",
    "    for name in dirs:\n",
    "        directory_list.append(os.path.join(root, name))"
   ]
  },
  {
   "cell_type": "code",
   "execution_count": null,
   "metadata": {},
   "outputs": [],
   "source": [
    "remove_list = [ 'PR----BONE-PULM-mm',\n",
    "                'PR----Lunga-0.6-ax-mm',\n",
    "                'PR----WB-Venfas-0.6-ax-mm',\n",
    "                'PR----LUNG-1.25-AX-mm',\n",
    "                'PR----WB-Ben-lunga-0.6-ax-mm',\n",
    "                'PR----WB-Venfas-3-ax-mm',\n",
    "                'PR----LUNG-1.25-AX-mm',\n",
    "                'PR----BONE-1.25-AX-mm',\n",
    "                'PR----LUNG-1.25-AX-mm',\n",
    "                'PR----Lunga-0.6-ax-mm',\n",
    "                'PR----SAVED-IMAGES-PR-mm',\n",
    "                'PR----e1-QCFX-S-400-Static-mm',\n",
    "                'PR----WB-Venfas-0.6-ax-mm',\n",
    "                'PR----WB-VEN-AX-mm',\n",
    "                'PR----WB-Ben-lunga-0.6-ax-mm',\n",
    "                'PR----LUNG-1.25-AX-mm',\n",
    "                'PR----THORAX-AX-mm',\n",
    "                'PR----LUNG-1.25-AX-mm',\n",
    "                'PR----THORAX-INANDAD-mm',\n",
    "                'PR----KEY_IMAGES-PR-mm',\n",
    "                'PR----SAVED-PR-mm',\n",
    "                'Examinations that miss either CT or PET or both',\n",
    "                'MR-',\n",
    "                'sag',\n",
    "                'cor',\n",
    "                'ot-'\n",
    "            ]\n",
    "\n",
    "keep_list = [\"CT-\", \"PT-\"]"
   ]
  },
  {
   "cell_type": "code",
   "execution_count": null,
   "metadata": {},
   "outputs": [],
   "source": [
    "findir_lst = []\n",
    "rejection_lst = []\n",
    "\n",
    "for dir in directory_list:\n",
    "    dir = dir.replace('\\\\', '/')\n",
    "    if any(item.lower() in dir.lower() for item in keep_list) and all(\n",
    "            item.lower() not in dir.lower() for item in remove_list):\n",
    "        print(dir)\n",
    "        findir_lst.append(dir)\n",
    "    else:\n",
    "        rejection_lst.append(dir)"
   ]
  },
  {
   "cell_type": "code",
   "execution_count": null,
   "metadata": {},
   "outputs": [],
   "source": [
    "len(rejection_lst)"
   ]
  },
  {
   "cell_type": "code",
   "execution_count": null,
   "metadata": {},
   "outputs": [],
   "source": [
    "ucan_md_dict = {'dir': [],\n",
    "                'source_dir': [],\n",
    "                'patient_dir': [],\n",
    "                'image_dir': [],\n",
    "                'dicom_img': [],\n",
    "                'patient_id': [],\n",
    "                'patient_age': [],\n",
    "                'patient_sex': [],\n",
    "                'patient_weight': [],\n",
    "                'patient_size': [],\n",
    "                'rows': [],\n",
    "                'columns': [],\n",
    "                'num_slices': [],\n",
    "                'pixel_spacing': [],\n",
    "                'slice_thickness': [],\n",
    "                'img_pos': [],\n",
    "                'img_orient': [],\n",
    "                'for_uid': [],\n",
    "                'att_corr': [],\n",
    "                'recons_method': [],\n",
    "                'image_type': [],\n",
    "                'aquisition_dt': [],\n",
    "                'aquisition_time': [],\n",
    "                'study_desc': [],\n",
    "                'series_desc': [],\n",
    "                'protocol': [],\n",
    "                'corr_img': [],\n",
    "                'modality': [],\n",
    "                'manufacturer': [],\n",
    "                'manufacturer_model': [],\n",
    "                'radiopharmaceutical': [],\n",
    "                'radiopharmaceutical_volume': [],\n",
    "                'radiopharmaceutical_start_time': [],\n",
    "                'radionuclide_total_dose': [],\n",
    "                'radionuclide_half_life': [],\n",
    "                'radionuclide_positron_fraction': [],\n",
    "                'radiopharmaceutical_start_date_time': [],\n",
    "                }\n",
    "\n",
    "#emptydir_lst = []\n",
    "\n",
    "for dir in findir_lst:\n",
    "    #if len(os.listdir(dir))<100:\n",
    "    #    emptydir_lst.append(dir)\n",
    "    #    continue\n",
    "\n",
    "    ucan_md_dict['dir'].append(dir)\n",
    "    ucan_md_dict['dicom_img'].append(os.listdir(dir)[0])\n",
    "    \n",
    "    ucan_md_dict['source_dir'].append(dir.rsplit(sep='/', maxsplit=2)[-3])\n",
    "    ucan_md_dict['patient_dir'].append(dir.rsplit(sep='/', maxsplit=2)[-2])\n",
    "    ucan_md_dict['image_dir'].append(dir.rsplit(sep='/', maxsplit=2)[-1])  \n",
    "                                            \n",
    "    #print(os.listdir(dir)[0])\n",
    "    ds = dicom.dcmread(dir + '/' + str(os.listdir(dir)[0]))\n",
    "\n",
    "    meta_info = str(ds.fix_meta_info)#.split('\\n')\n",
    "    \n",
    "    max_range = 500\n",
    "    \n",
    "    #PatientID\n",
    "    try:\n",
    "        id = re.search(r\"\\b(0010, 0020)\\b\", meta_info).start()\n",
    "        element = meta_info[id:id+max_range].split('\\n')[0].split(':')[1]\n",
    "        ucan_md_dict['patient_id'].append(element)\n",
    "    except:\n",
    "        ucan_md_dict['patient_id'].append('')\n",
    "    \n",
    "    #PatientAge \n",
    "    try:\n",
    "        id = re.search(r\"\\b(0010, 1010)\\b\", meta_info).start()\n",
    "        element = meta_info[id:id+max_range].split('\\n')[0].split(':')[1]\n",
    "        ucan_md_dict['patient_age'].append(element)\n",
    "    except:\n",
    "        ucan_md_dict['patient_age'].append('')\n",
    "\n",
    "    #PatientSex\n",
    "    try:\n",
    "        id = re.search(r\"\\b(0010, 0040)\\b\", meta_info).start()\n",
    "        element = meta_info[id:id+max_range].split('\\n')[0].split(':')[1]\n",
    "        ucan_md_dict['patient_sex'].append(element)\n",
    "    except:\n",
    "        ucan_md_dict['patient_sex'].append('')\n",
    "\n",
    "    #Patient Size\n",
    "    try:\n",
    "        id = re.search(r\"\\b(0010, 1020)\\b\", meta_info).start()\n",
    "        element = meta_info[id:id+max_range].split('\\n')[0].split(':')[1]\n",
    "        ucan_md_dict['patient_size'].append(element)\n",
    "    except:\n",
    "        ucan_md_dict['patient_size'].append('')\n",
    "\n",
    "    #Patient Weight\n",
    "    try:\n",
    "        id = re.search(r\"\\b(0010, 1030)\\b\", meta_info).start()\n",
    "        element = meta_info[id:id+max_range].split('\\n')[0].split(':')[1]\n",
    "        ucan_md_dict['patient_weight'].append(element)\n",
    "    except:\n",
    "        ucan_md_dict['patient_weight'].append('')\n",
    "    \n",
    "    #Rows\n",
    "    try:\n",
    "        id = re.search(r\"\\b(0028, 0010)\\b\", meta_info).start()\n",
    "        element = meta_info[id:id+max_range].split('\\n')[0].split(':')[1]\n",
    "        ucan_md_dict['rows'].append(element)\n",
    "    except:\n",
    "        ucan_md_dict['rows'].append('')\n",
    "\n",
    "    #Columns\n",
    "    try:\n",
    "        id = re.search(r\"\\b(0028, 0011)\\b\", meta_info).start()\n",
    "        element = meta_info[id:id+max_range].split('\\n')[0].split(':')[1]\n",
    "        ucan_md_dict['columns'].append(element)\n",
    "    except:\n",
    "        ucan_md_dict['columns'].append('')\n",
    "\n",
    "    #Num of slices\n",
    "    try:\n",
    "        id = re.search(r\"\\b(07a1, 1002)\\b\", meta_info).start()\n",
    "        element = meta_info[id:id+max_range].split('\\n')[0].split(':')[1]\n",
    "        ucan_md_dict['num_slices'].append(element)\n",
    "    except:\n",
    "        ucan_md_dict['num_slices'].append('')\n",
    "\n",
    "    #Pixel spacing\n",
    "    try:\n",
    "        id = re.search(r\"\\b(0028, 0030)\\b\", meta_info).start()\n",
    "        element = meta_info[id:id+max_range].split('\\n')[0].split(':')[1]\n",
    "        ucan_md_dict['pixel_spacing'].append(element)\n",
    "    except:\n",
    "        ucan_md_dict['pixel_spacing'].append('')\n",
    "\n",
    "    #Slice thickness\n",
    "    try:\n",
    "        id = re.search(r\"\\b(0018, 0050)\\b\", meta_info).start()\n",
    "        element = meta_info[id:id+max_range].split('\\n')[0].split(':')[1]\n",
    "        ucan_md_dict['slice_thickness'].append(element)\n",
    "    except:\n",
    "        ucan_md_dict['slice_thickness'].append('')\n",
    "\n",
    "    #Image positioning\n",
    "    try:\n",
    "        id = re.search(r\"\\b(0020, 0032)\\b\", meta_info).start()\n",
    "        element = meta_info[id:id+max_range].split('\\n')[0].split(':')[1]\n",
    "        ucan_md_dict['img_pos'].append(element)\n",
    "    except:\n",
    "        ucan_md_dict['img_pos'].append('')\n",
    "\n",
    "    #Image orientation\n",
    "    try:\n",
    "        id = re.search(r\"\\b(0020, 0037)\\b\", meta_info).start()\n",
    "        element = meta_info[id:id+max_range].split('\\n')[0].split(':')[1]\n",
    "        ucan_md_dict['img_orient'].append(element)\n",
    "    except:\n",
    "        ucan_md_dict['img_orient'].append('')\n",
    "\n",
    "    #Frame of reference UID\n",
    "    try:\n",
    "        id = re.search(r\"\\b(0020, 0052)\\b\", meta_info).start()\n",
    "        element = meta_info[id:id+max_range].split('\\n')[0].split(':')[1]\n",
    "        ucan_md_dict['for_uid'].append(element)\n",
    "    except:\n",
    "        ucan_md_dict['for_uid'].append('')\n",
    "\n",
    "    #Attenuation Correction Method\n",
    "    try:\n",
    "        id = re.search(r\"\\b(0054, 1101)\\b\", meta_info).start()\n",
    "        element = meta_info[id:id+max_range].split('\\n')[0].split(':')[1]\n",
    "        ucan_md_dict['att_corr'].append(element)\n",
    "    except:\n",
    "        ucan_md_dict['att_corr'].append('')\n",
    "\n",
    "    #Reconstruction Method\n",
    "    try:\n",
    "        id = re.search(r\"\\b(0054, 1103)\\b\", meta_info).start()\n",
    "        element = meta_info[id:id+max_range].split('\\n')[0].split(':')[1]\n",
    "        ucan_md_dict['recons_method'].append(element)\n",
    "    except:\n",
    "        ucan_md_dict['recons_method'].append('')\n",
    "\n",
    "    #Image Type\n",
    "    try:\n",
    "        id = re.search(r\"\\b(0008, 0008)\\b\", meta_info).start()\n",
    "        element = meta_info[id:id+max_range].split('\\n')[0].split(':')[1]\n",
    "        ucan_md_dict['image_type'].append(element)\n",
    "    except:\n",
    "        ucan_md_dict['image_type'].append('')\n",
    "\n",
    "    #Aquisition Date\n",
    "    try:\n",
    "        id = re.search(r\"\\b(0008, 0022)\\b\", meta_info).start()\n",
    "        element = meta_info[id:id+max_range].split('\\n')[0].split(':')[1]\n",
    "        ucan_md_dict['aquisition_dt'].append(element)\n",
    "    except:\n",
    "        ucan_md_dict['aquisition_dt'].append('')\n",
    "    \n",
    "    #Aquisition Time\n",
    "    try:\n",
    "        id = re.search(r\"\\b(0008, 0032)\\b\", meta_info).start()\n",
    "        element = meta_info[id:id+max_range].split('\\n')[0].split(':')[1]\n",
    "        ucan_md_dict['aquisition_time'].append(element)\n",
    "    except:\n",
    "        ucan_md_dict['aquisition_time'].append('')\n",
    "\n",
    "    #Study Description\n",
    "    try:\n",
    "        id = re.search(r\"\\b(0008, 1030)\\b\", meta_info).start()\n",
    "        element = meta_info[id:id+max_range].split('\\n')[0].split(':')[1]\n",
    "        ucan_md_dict['study_desc'].append(element)\n",
    "    except:\n",
    "        ucan_md_dict['study_desc'].append('')\n",
    "\n",
    "    #Series Description\n",
    "    try:\n",
    "        id = re.search(r\"\\b(0008, 103e)\\b\", meta_info).start()\n",
    "        element = meta_info[id:id+max_range].split('\\n')[0].split(':')[1]\n",
    "        ucan_md_dict['series_desc'].append(element)\n",
    "    except:\n",
    "        ucan_md_dict['series_desc'].append('')\n",
    "\n",
    "    #Protocol Name \n",
    "    try:\n",
    "        id = re.search(r\"\\b(0018, 1030)\\b\", meta_info).start()\n",
    "        element = meta_info[id:id+max_range].split('\\n')[0].split(':')[1]\n",
    "        ucan_md_dict['protocol'].append(element)\n",
    "    except:\n",
    "        ucan_md_dict['protocol'].append('')\n",
    "\n",
    "    #Corrected Image\n",
    "    try:\n",
    "        id = re.search(r\"\\b(0028, 0051)\\b\", meta_info).start()\n",
    "        element = meta_info[id:id+max_range].split('\\n')[0].split(':')[1]\n",
    "        ucan_md_dict['corr_img'].append(element)\n",
    "    except:\n",
    "        ucan_md_dict['corr_img'].append('')\n",
    "\n",
    "    #Modality\n",
    "    try:\n",
    "        id = re.search(r\"\\b(0008, 0060)\\b\", meta_info).start()\n",
    "        element = meta_info[id:id+max_range].split('\\n')[0].split(':')[1]\n",
    "        ucan_md_dict['modality'].append(element)\n",
    "    except:\n",
    "        ucan_md_dict['modality'].append('')\n",
    "\n",
    "    #Manufacturer\n",
    "    try:\n",
    "        id = re.search(r\"\\b(0008, 0070)\\b\", meta_info).start()\n",
    "        element = meta_info[id:id+max_range].split('\\n')[0].split(':')[1]\n",
    "        ucan_md_dict['manufacturer'].append(element)\n",
    "    except:\n",
    "        ucan_md_dict['manufacturer'].append('')\n",
    "\n",
    "    #Manufacturer_model\n",
    "    try:\n",
    "        id = re.search(r\"\\b(0008, 1090)\\b\", meta_info).start()\n",
    "        element = meta_info[id:id+max_range].split('\\n')[0].split(':')[1]\n",
    "        ucan_md_dict['manufacturer_model'].append(element)\n",
    "    except:\n",
    "        ucan_md_dict['manufacturer_model'].append('')\n",
    "    # Radiopharmaceutical\n",
    "    try:\n",
    "        id = re.search(r\"\\b(0018, 0031)\\b\", meta_info).start()\n",
    "        element = meta_info[id:id+max_range].split('\\n')[0].split(':')[1]\n",
    "        ucan_md_dict['radiopharmaceutical'].append(element)\n",
    "    except:\n",
    "        ucan_md_dict['radiopharmaceutical'].append('')\n",
    "     # Radiopharmaceutical Volume\n",
    "    try:\n",
    "        id = re.search(r\"\\b(0018, 1071)\\b\", meta_info).start()\n",
    "        element = meta_info[id:id+max_range].split('\\n')[0].split(':')[1]\n",
    "        ucan_md_dict['radiopharmaceutical_volume'].append(element)\n",
    "    except:\n",
    "        ucan_md_dict['radiopharmaceutical_volume'].append('')\n",
    "     # Radiopharmaceutical Start Time\n",
    "    try:\n",
    "        id = re.search(r\"\\b(0018, 1072)\\b\", meta_info).start()\n",
    "        element = meta_info[id:id+max_range].split('\\n')[0].split(':')[1]\n",
    "        ucan_md_dict['radiopharmaceutical_start_time'].append(element)\n",
    "    except:\n",
    "        ucan_md_dict['radiopharmaceutical_start_time'].append('')\n",
    "     # Radionuclide Total Dose\n",
    "    try:\n",
    "        id = re.search(r\"\\b(0018, 1074)\\b\", meta_info).start()\n",
    "        element = meta_info[id:id+max_range].split('\\n')[0].split(':')[1]\n",
    "        ucan_md_dict['radionuclide_total_dose'].append(element)\n",
    "    except:\n",
    "        ucan_md_dict['radionuclide_total_dose'].append('')\n",
    "     # Radionuclide Half Life\n",
    "    try:\n",
    "        id = re.search(r\"\\b(0018, 1075)\\b\", meta_info).start()\n",
    "        element = meta_info[id:id+max_range].split('\\n')[0].split(':')[1]\n",
    "        ucan_md_dict['radionuclide_half_life'].append(element)\n",
    "    except:\n",
    "        ucan_md_dict['radionuclide_half_life'].append('')\n",
    "     # Radionuclide Positron Fraction\n",
    "    try:\n",
    "        id = re.search(r\"\\b(0018, 1076)\\b\", meta_info).start()\n",
    "        element = meta_info[id:id+max_range].split('\\n')[0].split(':')[1]\n",
    "        ucan_md_dict['radionuclide_positron_fraction'].append(element)\n",
    "    except:\n",
    "        ucan_md_dict['radionuclide_positron_fraction'].append('')\n",
    "     # Radiopharmaceutical Start Date Time\n",
    "    try:\n",
    "        id = re.search(r\"\\b(0018, 1078)\\b\", meta_info).start()\n",
    "        element = meta_info[id:id+max_range].split('\\n')[0].split(':')[1]\n",
    "        ucan_md_dict['radiopharmaceutical_start_date_time'].append(element)\n",
    "    except:\n",
    "        ucan_md_dict['radiopharmaceutical_start_date_time'].append('')\n"
   ]
  },
  {
   "cell_type": "code",
   "execution_count": null,
   "metadata": {},
   "outputs": [],
   "source": [
    "\"\"\"\n",
    "with open(r'F:/U-CAN-Lymfom_A/Ashish_SampleResampling/metadata_extraction/dir_lessthan_100images.txt', 'w') as fp:\n",
    "    for item in emptydir_lst:\n",
    "        # write each item on a new line\n",
    "        fp.write(\"%s\\n\" % item)\n",
    "    print('Done')\n",
    "\n",
    "len(emptydir_lst)\n",
    "\n",
    "Done\n",
    "2399\n",
    "\"\"\""
   ]
  },
  {
   "cell_type": "code",
   "execution_count": null,
   "metadata": {},
   "outputs": [],
   "source": [
    "ucan_md = pd.DataFrame(ucan_md_dict)\n",
    "print(ucan_md.shape)\n",
    "#(8325, 29)\n",
    "#(8275, 29)\n",
    "ucan_md.head(2)"
   ]
  },
  {
   "cell_type": "code",
   "execution_count": null,
   "metadata": {},
   "outputs": [],
   "source": [
    "ucan_md.dtypes\n",
    "ucan_md['imgsz_x'] = np.int64(ucan_md['rows'].str.replace(\"'\",\"\").replace(\" \",\"\"))\n",
    "ucan_md['imgsz_y'] = np.int64(ucan_md['columns'])\n",
    "ucan_md['num_slices'] = np.int64(ucan_md['num_slices'])\n",
    "ucan_md['voxsz_x'] = ucan_md['pixel_spacing'].apply(lambda x: (np.float64(x.replace(\" \",\"\").replace(\"[\",\"\").replace(\"]\",\"\").split(',')[0])))\n",
    "ucan_md['voxsz_y'] = ucan_md['pixel_spacing'].apply(lambda x: (np.float64(x.replace(\" \",\"\").replace(\"[\",\"\").replace(\"]\",\"\").split(',')[1])))\n",
    "ucan_md['slice_thickness'] = np.float64(ucan_md['slice_thickness'].str.replace(\"'\",\"\").replace(\" \",\"\"))\n",
    "ucan_md.head(2)"
   ]
  },
  {
   "cell_type": "code",
   "execution_count": null,
   "metadata": {},
   "outputs": [],
   "source": [
    "ucan_md['image_size'] = ucan_md.apply(lambda x: (x.imgsz_x, x.imgsz_y, x.num_slices), axis=1)\n",
    "ucan_md['voxel_size'] = ucan_md.apply(lambda x: (x.voxsz_x, x.voxsz_y, x.slice_thickness), axis=1)\n",
    "ucan_md.head(2)"
   ]
  },
  {
   "cell_type": "code",
   "execution_count": null,
   "metadata": {},
   "outputs": [],
   "source": [
    "ucan_md.columns"
   ]
  },
  {
   "cell_type": "code",
   "execution_count": null,
   "metadata": {},
   "outputs": [],
   "source": [
    "#order columns\n",
    "new_col_lst = ['dir', 'source_dir', 'patient_dir', 'image_dir', 'dicom_img',\n",
    "       'patient_id', 'patient_age', 'patient_sex', 'patient_weight',\n",
    "       'patient_size', 'rows', 'columns', 'imgsz_x', 'imgsz_y', 'num_slices', \n",
    "       'voxsz_x', 'voxsz_y', 'slice_thickness',  'pixel_spacing',\n",
    "       'image_size', 'voxel_size', 'img_pos', 'img_orient', 'for_uid', 'att_corr',\n",
    "       'recons_method', 'image_type', 'aquisition_dt', 'aquisition_time', 'study_desc',\n",
    "       'series_desc', 'protocol', 'corr_img', 'modality', 'manufacturer',\n",
    "       'manufacturer_model', 'radiopharmaceutical', 'radiopharmaceutical_volume',\n",
    "       'radiopharmaceutical_start_time', 'radionuclide_total_dose', \n",
    "       'radionuclide_half_life', 'radionuclide_positron_fraction', \n",
    "       'radiopharmaceutical_start_date_time'\n",
    "       ]\n",
    "\n",
    "ucan_md = ucan_md[new_col_lst]"
   ]
  },
  {
   "cell_type": "code",
   "execution_count": null,
   "metadata": {},
   "outputs": [],
   "source": [
    "print(\"Toal CT folders: \", ucan_md[ucan_md['image_dir'].str.contains('CT')].shape[0])\n",
    "print(\"Toal PT folders: \", ucan_md[ucan_md['image_dir'].str.contains('PT')].shape[0])"
   ]
  },
  {
   "cell_type": "code",
   "execution_count": null,
   "metadata": {},
   "outputs": [],
   "source": [
    "ucan_md.to_excel(destination_path)"
   ]
  },
  {
   "cell_type": "code",
   "execution_count": null,
   "metadata": {},
   "outputs": [],
   "source": [
    "ucan_md.num_slices.min()"
   ]
  },
  {
   "cell_type": "code",
   "execution_count": null,
   "metadata": {},
   "outputs": [],
   "source": [
    "ucan_md[ucan_md['num_slices']<=100].to_excel(os.path.join(source_path, 'exams_with_less_than_100_slices.xlsx'))\n",
    "\n",
    "lessthan100slices_summ = ucan_md[np.int64(ucan_md['num_slices'])<=100].groupby(['modality', 'slice_thickness', 'num_slices']).agg({'dicom_img':'count'}).sort_values('dicom_img' ,ascending=False).reset_index()\n",
    "lessthan100slices_summ.to_excel(os.path.join(source_path, 'exams_with_less_than_100_slices_final.xlsx'))\n",
    "\n",
    "print(lessthan100slices_summ.shape)\n",
    "#(785, 4)\n",
    "lessthan100slices_summ.head(10)"
   ]
  },
  {
   "cell_type": "code",
   "execution_count": null,
   "metadata": {},
   "outputs": [],
   "source": [
    "ucan_md_voxeldist = ucan_md.groupby(['modality', 'voxel_size']).agg({'dicom_img':'count'}).sort_values('dicom_img' ,ascending=False).reset_index()\n",
    "ucan_md_voxeldist.to_excel(os.path.join(source_path, 'ucan_exams_md_voxeldist.xlsx'))\n",
    "ucan_md_voxeldist.head(10)\n"
   ]
  },
  {
   "cell_type": "code",
   "execution_count": null,
   "metadata": {},
   "outputs": [],
   "source": [
    "ucan_md_imgszdist = ucan_md.groupby(['modality', 'image_size']).agg({'dicom_img':'count'}).sort_values('dicom_img' ,ascending=False).reset_index()\n",
    "ucan_md_imgszdist.to_excel(os.path.join(source_path, 'ucan_exams_md_imgszdist.xlsx'))\n",
    "ucan_md_imgszdist.head(10)"
   ]
  },
  {
   "cell_type": "code",
   "execution_count": null,
   "metadata": {},
   "outputs": [],
   "source": [
    "ucan_md_gt200slices = ucan_md[ucan_md['num_slices']>=200]\n",
    "ucan_md_gt200slices.to_excel(os.path.join(source_path, 'ucan_exams_with_more_than_200_slices.xlsx'))\n",
    "print(ucan_md_gt200slices.shape)\n",
    "ucan_md_gt200slices.head(2)"
   ]
  },
  {
   "cell_type": "code",
   "execution_count": null,
   "metadata": {},
   "outputs": [],
   "source": [
    "ucan_md_gt200slices.groupby('voxel_size').agg({'dicom_img':'count'}).sort_values('dicom_img' ,ascending=False)"
   ]
  },
  {
   "cell_type": "code",
   "execution_count": null,
   "metadata": {},
   "outputs": [],
   "source": [
    "ucan_md_gt200slices_voxeldist = ucan_md_gt200slices.groupby(['modality', 'voxel_size']).agg({'dicom_img':'count'}).sort_values('dicom_img' ,ascending=False).reset_index()\n",
    "ucan_md_gt200slices_voxeldist.to_excel(os.path.join(source_path, 'ucan_exams_with_more_than_200_slices_voxeldist.xlsx'))\n",
    "ucan_md_gt200slices_voxeldist.head(10)\n"
   ]
  },
  {
   "cell_type": "code",
   "execution_count": null,
   "metadata": {},
   "outputs": [],
   "source": [
    "ucan_md_gt200slices_imgszdist = ucan_md_gt200slices.groupby(['modality', 'image_size']).agg({'dicom_img':'count'}).sort_values('dicom_img' ,ascending=False).reset_index()\n",
    "ucan_md_gt200slices_imgszdist.to_excel(os.path.join(source_path, 'ucan_exams_with_more_than_200_slices_imagesizedist.xlsx'))\n",
    "ucan_md_gt200slices_imgszdist.head(10)"
   ]
  },
  {
   "cell_type": "code",
   "execution_count": null,
   "metadata": {},
   "outputs": [],
   "source": [
    "Lessthan_200Slices = ucan_md[ucan_md['num_slices']<200]\n",
    "Lessthan_200Slices.to_excel(os.path.join(source_path, \"less_than_200_slices.xlsx\"))\n",
    "print(Lessthan_200Slices.shape)\n",
    "Lessthan_200Slices.head(2)"
   ]
  },
  {
   "cell_type": "code",
   "execution_count": null,
   "metadata": {},
   "outputs": [],
   "source": [
    "ucan_md[ucan_md['image_dir'].str.contains('-ax-')][ucan_md['num_slices']<200][ucan_md['image_dir'].str.contains('PT-')]"
   ]
  },
  {
   "cell_type": "code",
   "execution_count": null,
   "metadata": {},
   "outputs": [],
   "source": [
    "ucan_md[ucan_md['num_slices']<200]"
   ]
  },
  {
   "cell_type": "code",
   "execution_count": null,
   "metadata": {},
   "outputs": [],
   "source": [
    "ucan_md.groupby(['patient_sex']).sum()"
   ]
  },
  {
   "cell_type": "markdown",
   "metadata": {},
   "source": [
    "### Match metadata with selected files"
   ]
  },
  {
   "cell_type": "code",
   "execution_count": null,
   "metadata": {},
   "outputs": [],
   "source": [
    "metadata = pd.read_excel(destination_path)\n",
    "# metadata['dir'] = metadata['dir'].str.replace('/','\\\\')\n",
    "print(metadata.shape)\n",
    "metadata.head(2)"
   ]
  },
  {
   "cell_type": "code",
   "execution_count": null,
   "metadata": {},
   "outputs": [],
   "source": [
    "selected_imgs = pd.read_excel(selection_dataframe)\n",
    "print(selected_imgs.shape)\n",
    "selected_imgs.head(2)"
   ]
  },
  {
   "cell_type": "code",
   "execution_count": null,
   "metadata": {},
   "outputs": [],
   "source": [
    "master_data = pd.merge(selected_imgs, metadata, how=\"inner\", left_on=['directory'], right_on=['dir'], sort=True, suffixes=(\"_x\", \"_y\"))\n",
    "\n",
    "col_drop_lst = ['dir', 'source_dir', 'patient_dir',\t'image_dir', 'patient_sex', 'rows',\t'columns', 'pixel_spacing']\n",
    "\n",
    "master_data = master_data.drop(columns=col_drop_lst)\n",
    "\n",
    "master_data['patient_id'] = master_data['patient_id'].apply(lambda x: x.split('_')[1].replace(\"'\",\"\"))\n",
    "master_data['patient_age'] = master_data['patient_age'].apply(lambda x: x.replace(\"'\",\"\").replace(\"Y\",\"\").replace(\" \",\"\"))#.astype('Int64')\n",
    "master_data['modality'] = master_data['modality'].apply(lambda x: x.strip().replace(\"'\",\"\").strip())\n",
    "\n",
    "master_data.to_excel(os.path.join(source_path, \"Finalized_dataset.xlsx\"))\n",
    "\n",
    "print(master_data.shape)\n",
    "master_data.head(2)"
   ]
  },
  {
   "cell_type": "code",
   "execution_count": null,
   "metadata": {},
   "outputs": [],
   "source": [
    "print(master_data[master_data['patient_age']==''].shape)\n",
    "\n",
    "master_data[master_data['patient_age']=='']"
   ]
  },
  {
   "cell_type": "code",
   "execution_count": null,
   "metadata": {},
   "outputs": [],
   "source": [
    "master_data_imgszdist = master_data.groupby(['modality', 'image_size']).agg({'dicom_img':'count'}).sort_values('dicom_img' ,ascending=False).reset_index()\n",
    "master_data_imgszdist.to_excel(os.path.join(source_path, \"master_data_imgszdist.xlsx\"))\n",
    "print(master_data_imgszdist.shape)\n",
    "master_data_imgszdist.head(10)"
   ]
  },
  {
   "cell_type": "code",
   "execution_count": null,
   "metadata": {},
   "outputs": [],
   "source": [
    "master_data_voxszdist = master_data.groupby(['modality', 'voxel_size']).agg({'dicom_img':'count'}).sort_values('dicom_img' ,ascending=False).reset_index()\n",
    "master_data_voxszdist.to_excel(os.path.join(source_path, \"master_data_voxszdist.xlsx\"))\n",
    "print(master_data_voxszdist.shape)\n",
    "master_data_voxszdist.head(10)"
   ]
  },
  {
   "cell_type": "code",
   "execution_count": null,
   "metadata": {},
   "outputs": [],
   "source": [
    "master_data.columns"
   ]
  },
  {
   "cell_type": "code",
   "execution_count": null,
   "metadata": {},
   "outputs": [],
   "source": [
    "master_data = pd.read_excel(os.path.join(source_path, \"Finalized_dataset.xlsx\"))\n",
    "\n",
    "#master_data['modality'] = master_data['modality'].apply(lambda x: x.strip().replace(\"'\",\"\").strip())\n",
    "#master_data.to_csv('F:/U-CAN-Lymfom_A/Selected_for_UCAN_project/Selected_exams_from_U-CAN-Lymfom_A_MasterDataset_2Oct2023.csv', index=False)\n"
   ]
  },
  {
   "cell_type": "code",
   "execution_count": null,
   "metadata": {},
   "outputs": [],
   "source": [
    "print(\"Mode of x image dims: \", master_data['imgsz_x'].mode()[0])\n",
    "print(\"Mode of y image dims: \", master_data['imgsz_y'].mode()[0])\n",
    "print(\"Mode of z image dims: \", master_data['num_slices'].mode()[0])\n",
    "print(\"Mode of x voxel dims: \", master_data['voxsz_x'].mode()[0])\n",
    "print(\"Mode of y voxel dims: \", master_data['voxsz_y'].mode()[0])\n",
    "print(\"Mode of z voxel dims: \", master_data['slice_thickness'].mode()[0])"
   ]
  },
  {
   "cell_type": "code",
   "execution_count": null,
   "metadata": {},
   "outputs": [],
   "source": [
    "master_data[['imgsz_x','imgsz_y','num_slices','voxsz_x','voxsz_y','slice_thickness']].describe()"
   ]
  },
  {
   "cell_type": "markdown",
   "metadata": {},
   "source": [
    "### New size and spacing based on master data\n",
    "\n",
    "new_size = [384, 384, 384]\n",
    "new_spacing = [2, 2, 3]"
   ]
  },
  {
   "cell_type": "code",
   "execution_count": null,
   "metadata": {},
   "outputs": [],
   "source": [
    "master_data.head(2)\n",
    "master_data.npr.nunique()"
   ]
  },
  {
   "cell_type": "code",
   "execution_count": null,
   "metadata": {},
   "outputs": [],
   "source": [
    "master_data.patient_directory.nunique()"
   ]
  },
  {
   "cell_type": "markdown",
   "metadata": {},
   "source": []
  }
 ],
 "metadata": {
  "kernelspec": {
   "display_name": "dlfia",
   "language": "python",
   "name": "python3"
  },
  "language_info": {
   "codemirror_mode": {
    "name": "ipython",
    "version": 3
   },
   "file_extension": ".py",
   "mimetype": "text/x-python",
   "name": "python",
   "nbconvert_exporter": "python",
   "pygments_lexer": "ipython3",
   "version": "3.11.5"
  },
  "orig_nbformat": 4
 },
 "nbformat": 4,
 "nbformat_minor": 2
}
