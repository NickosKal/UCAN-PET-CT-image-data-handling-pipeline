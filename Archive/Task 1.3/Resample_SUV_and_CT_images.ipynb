{
 "cells": [
  {
   "cell_type": "code",
   "execution_count": 1,
   "metadata": {
    "ExecuteTime": {
     "end_time": "2023-10-31T12:25:52.518560200Z",
     "start_time": "2023-10-31T12:25:49.330737600Z"
    }
   },
   "outputs": [],
   "source": [
    "import os\n",
    "import sys\n",
    "import shutil\n",
    "import numpy as np\n",
    "import pandas as pd\n",
    "import pydicom as dicom\n",
    "import matplotlib.pylab as plt\n",
    "import SimpleITK as sitk\n",
    "from datetime import datetime\n"
   ]
  },
  {
   "cell_type": "code",
   "execution_count": 2,
   "metadata": {
    "ExecuteTime": {
     "end_time": "2023-10-31T12:26:15.540191700Z",
     "start_time": "2023-10-31T12:26:15.477641600Z"
    }
   },
   "outputs": [
    {
     "name": "stdout",
     "output_type": "stream",
     "text": [
      "env: SITK_SHOW_COMMAND=\"/home/andres/Downloads/Slicer-5.4.0-linux-amd64/Slicer\"\n"
     ]
    }
   ],
   "source": [
    "%env SITK_SHOW_COMMAND \"/home/andres/Downloads/Slicer-5.4.0-linux-amd64/Slicer\"\n",
    "pd.set_option('display.max_colwidth', None)\n",
    "pd.set_option('display.max_columns', None)\n",
    "dicom.config.convert_wrong_length_to_UN = True"
   ]
  },
  {
   "cell_type": "code",
   "execution_count": 3,
   "metadata": {
    "ExecuteTime": {
     "end_time": "2023-10-31T12:37:52.375064900Z",
     "start_time": "2023-10-31T12:37:52.343648800Z"
    }
   },
   "outputs": [],
   "source": [
    "parent_dir = os.path.abspath('..')\n",
    "if parent_dir not in sys.path:\n",
    "    sys.path.append(parent_dir)"
   ]
  },
  {
   "cell_type": "code",
   "execution_count": 4,
   "metadata": {
    "collapsed": false
   },
   "outputs": [],
   "source": [
    "from Utils import utils"
   ]
  },
  {
   "cell_type": "code",
   "execution_count": 5,
   "metadata": {
    "ExecuteTime": {
     "end_time": "2023-10-31T12:26:26.432808700Z",
     "start_time": "2023-10-31T12:26:26.370298500Z"
    }
   },
   "outputs": [
    {
     "data": {
      "text/plain": [
       "{'common': {'paths': {'source_path_wd': 'E:/U-CAN-Lymfom_A',\n",
       "   'source_path_bd': '/media/andres/T7 Shield/ucan_lymfom'}},\n",
       " 'selection': {'filenames': {'rejected_folder_filename': 'Rejected_exams_from_U-CAN-Lymfom.xlsx',\n",
       "   'sourcefiltered_folder_filename': 'SourceFiltered_exams_from_U-CAN-Lymfom.xlsx',\n",
       "   'incomplete_folders_filename_initial': 'Excel_files/06_11_2023/No_PT_or_CT_exams_from_U-CAN-Lymfom_before_selection_process.xlsx',\n",
       "   'incomplete_folders_filename_final': 'Excel_files/06_11_2023/No_PT_or_CT_exams_from_U-CAN-Lymfom_after_selection_process.xlsx',\n",
       "   'selected_folders_beforefiltering_filename': 'Excel_files/06_11_2023/Selected_exams_after_filtering_from_U-CAN-Lymfom.xlsx',\n",
       "   'selected_folders_afterfiltering_filename': 'Excel_files/06_11_2023/Selected_exams_before_filtering_from_U-CAN-Lymfom.xlsx',\n",
       "   'final_selected_images_filename': 'Excel_files/06_11_2023/Final_Selected_exams_from_U-CAN-Lymfom.xlsx',\n",
       "   'list_of_distorted_images_filename': 'Excel_files/06_11_2023/exams_with_distorted_images_file.xlsx'}},\n",
       " 'metadata': {'filenames': {'final_selected_images_filename': 'Excel_files/06_11_2023/Finalized_dataset.xlsx'}},\n",
       " 'resampling': {'voxel_spacing': [2.0364201068878174, 2.0364201068878174, 3.0],\n",
       "  'image_size': [256, 256, 256]},\n",
       " 'projections': {'paths': {'destination_path': 'Selected_for_UCAN_project/2dprojections'},\n",
       "  'variables': {'modality': ['CT', 'PT', 'SUV'],\n",
       "   'tissue_type': ['LT', 'AT', 'LT', 'B', 'N'],\n",
       "   'projection_type': ['sum', 'min', 'max', 'mean', 'std'],\n",
       "   'angles': [0, 90]}}}"
      ]
     },
     "execution_count": 5,
     "metadata": {},
     "output_type": "execute_result"
    }
   ],
   "source": [
    "config = utils.read_config()\n",
    "config"
   ]
  },
  {
   "cell_type": "code",
   "execution_count": 6,
   "metadata": {
    "ExecuteTime": {
     "end_time": "2023-10-31T12:26:28.862639100Z",
     "start_time": "2023-10-31T12:26:28.846763300Z"
    }
   },
   "outputs": [],
   "source": [
    "#source_path_wd = \"/media/andres/T7 Shield1/U-CAN-Lymfom_A/Selected_for_UCAN_project\"\n",
    "#source_path_bd = \"/media/andres/T7 Shield/ucan_lymfom\"\n",
    "\n",
    "source_path_wd = config['common']['paths']['source_path_wd']\n",
    "source_path_bd = config['common']['paths']['source_path_bd']\n",
    "\n",
    "master_data_wd_filename = config['metadata']['filenames']['final_selected_images_filename']\n",
    "master_data_bd_filename = config['metadata']['filenames']['final_selected_images_filename']\n"
   ]
  },
  {
   "cell_type": "code",
   "execution_count": 7,
   "metadata": {},
   "outputs": [
    {
     "data": {
      "text/plain": [
       "'Excel_files/06_11_2023/Finalized_dataset.xlsx'"
      ]
     },
     "execution_count": 7,
     "metadata": {},
     "output_type": "execute_result"
    }
   ],
   "source": [
    "master_data_bd_filename"
   ]
  },
  {
   "cell_type": "code",
   "execution_count": 8,
   "metadata": {
    "ExecuteTime": {
     "end_time": "2023-10-31T12:26:37.488555700Z",
     "start_time": "2023-10-31T12:26:37.441654200Z"
    }
   },
   "outputs": [],
   "source": [
    "final_selected_images_filename = config['selection']['filenames']['final_selected_images_filename']\n",
    "final_selected_folders_bd = source_path_bd + '/' + final_selected_images_filename"
   ]
  },
  {
   "cell_type": "code",
   "execution_count": 10,
   "metadata": {
    "ExecuteTime": {
     "end_time": "2023-10-31T12:26:41.540378900Z",
     "start_time": "2023-10-31T12:26:38.817670700Z"
    }
   },
   "outputs": [
    {
     "name": "stdout",
     "output_type": "stream",
     "text": [
      "Reading master data for black disk\n",
      "(3646, 45)\n"
     ]
    },
    {
     "data": {
      "text/html": [
       "<div>\n",
       "<style scoped>\n",
       "    .dataframe tbody tr th:only-of-type {\n",
       "        vertical-align: middle;\n",
       "    }\n",
       "\n",
       "    .dataframe tbody tr th {\n",
       "        vertical-align: top;\n",
       "    }\n",
       "\n",
       "    .dataframe thead th {\n",
       "        text-align: right;\n",
       "    }\n",
       "</style>\n",
       "<table border=\"1\" class=\"dataframe\">\n",
       "  <thead>\n",
       "    <tr style=\"text-align: right;\">\n",
       "      <th></th>\n",
       "      <th>Unnamed: 0</th>\n",
       "      <th>Unnamed: 0_x</th>\n",
       "      <th>directory</th>\n",
       "      <th>source_directory</th>\n",
       "      <th>patient_directory</th>\n",
       "      <th>PET-CT_info</th>\n",
       "      <th>system</th>\n",
       "      <th>npr</th>\n",
       "      <th>scan_date</th>\n",
       "      <th>Unnamed: 0_y</th>\n",
       "      <th>dicom_img</th>\n",
       "      <th>patient_id</th>\n",
       "      <th>patient_age</th>\n",
       "      <th>patient_weight</th>\n",
       "      <th>patient_size</th>\n",
       "      <th>imgsz_x</th>\n",
       "      <th>imgsz_y</th>\n",
       "      <th>num_slices</th>\n",
       "      <th>voxsz_x</th>\n",
       "      <th>voxsz_y</th>\n",
       "      <th>slice_thickness</th>\n",
       "      <th>image_size</th>\n",
       "      <th>voxel_size</th>\n",
       "      <th>img_pos</th>\n",
       "      <th>img_orient</th>\n",
       "      <th>for_uid</th>\n",
       "      <th>att_corr</th>\n",
       "      <th>recons_method</th>\n",
       "      <th>image_type</th>\n",
       "      <th>aquisition_dt</th>\n",
       "      <th>aquisition_time</th>\n",
       "      <th>study_desc</th>\n",
       "      <th>series_desc</th>\n",
       "      <th>protocol</th>\n",
       "      <th>corr_img</th>\n",
       "      <th>modality</th>\n",
       "      <th>manufacturer</th>\n",
       "      <th>manufacturer_model</th>\n",
       "      <th>radiopharmaceutical</th>\n",
       "      <th>radiopharmaceutical_volume</th>\n",
       "      <th>radiopharmaceutical_start_time</th>\n",
       "      <th>radionuclide_total_dose</th>\n",
       "      <th>radionuclide_half_life</th>\n",
       "      <th>radionuclide_positron_fraction</th>\n",
       "      <th>radiopharmaceutical_start_date_time</th>\n",
       "    </tr>\n",
       "  </thead>\n",
       "  <tbody>\n",
       "    <tr>\n",
       "      <th>0</th>\n",
       "      <td>0</td>\n",
       "      <td>3689</td>\n",
       "      <td>/media/andres/T7 Shield/ucan_lymfom/ASPTCTX0001_lpr385705046400-20140313/CT-20140313-152551-6.1_UAS-WB-FDG-3D-STANDARD_CT_RECON-3.750000mm</td>\n",
       "      <td>/media/andres/T7 Shield/ucan_lymfom</td>\n",
       "      <td>ASPTCTX0001_lpr385705046400-20140313</td>\n",
       "      <td>CT-20140313-152551-6.1_UAS-WB-FDG-3D-STANDARD_CT_RECON-3.750000mm</td>\n",
       "      <td>ASPTCTX0001</td>\n",
       "      <td>lpr385705046400</td>\n",
       "      <td>20140313</td>\n",
       "      <td>13743</td>\n",
       "      <td>1.2.840.113619.2.55.3.4240671514.332.1394175950.81.1</td>\n",
       "      <td>lpr385705046400</td>\n",
       "      <td>33.0</td>\n",
       "      <td>'69.0'</td>\n",
       "      <td>'1.73'</td>\n",
       "      <td>512</td>\n",
       "      <td>512</td>\n",
       "      <td>215</td>\n",
       "      <td>0.976562</td>\n",
       "      <td>0.976562</td>\n",
       "      <td>3.75</td>\n",
       "      <td>(512, 512, 215)</td>\n",
       "      <td>(0.976562, 0.976562, 3.75)</td>\n",
       "      <td>[-250.000, -250.000, 167.080]</td>\n",
       "      <td>[1.000000, 0.000000, 0.000000, 0.000000, 1.000000, 0.000000]</td>\n",
       "      <td>1.2.840.113619.2.55.3.4240671514.332.1394175949.830.13830.1</td>\n",
       "      <td>NaN</td>\n",
       "      <td>NaN</td>\n",
       "      <td>['ORIGINAL', 'PRIMARY', 'AXIAL']</td>\n",
       "      <td>'20140313'</td>\n",
       "      <td>'152608'</td>\n",
       "      <td>'FDG WB 1 h'</td>\n",
       "      <td>'STANDARD CT RECON'</td>\n",
       "      <td>'6.1 UAS-WB-FDG-3D'</td>\n",
       "      <td>NaN</td>\n",
       "      <td>CT</td>\n",
       "      <td>'GE MEDICAL SYSTEMS'</td>\n",
       "      <td>'Discovery STE'</td>\n",
       "      <td>NaN</td>\n",
       "      <td>NaN</td>\n",
       "      <td>NaN</td>\n",
       "      <td>NaN</td>\n",
       "      <td>NaN</td>\n",
       "      <td>NaN</td>\n",
       "      <td>NaN</td>\n",
       "    </tr>\n",
       "    <tr>\n",
       "      <th>1</th>\n",
       "      <td>1</td>\n",
       "      <td>3690</td>\n",
       "      <td>/media/andres/T7 Shield/ucan_lymfom/ASPTCTX0001_lpr385705046400-20140313/PT-20140313-152728-UAS-WB-FDG-3D-UAS-WB-FDG-3D-AC-3.2700mm</td>\n",
       "      <td>/media/andres/T7 Shield/ucan_lymfom</td>\n",
       "      <td>ASPTCTX0001_lpr385705046400-20140313</td>\n",
       "      <td>PT-20140313-152728-UAS-WB-FDG-3D-UAS-WB-FDG-3D-AC-3.2700mm</td>\n",
       "      <td>ASPTCTX0001</td>\n",
       "      <td>lpr385705046400</td>\n",
       "      <td>20140313</td>\n",
       "      <td>13745</td>\n",
       "      <td>1.2.840.113619.2.131.4240671514.1394722651.463822</td>\n",
       "      <td>lpr385705046400</td>\n",
       "      <td>33.0</td>\n",
       "      <td>'69.0'</td>\n",
       "      <td>'1.73'</td>\n",
       "      <td>128</td>\n",
       "      <td>128</td>\n",
       "      <td>247</td>\n",
       "      <td>3.906250</td>\n",
       "      <td>3.906250</td>\n",
       "      <td>3.27</td>\n",
       "      <td>(128, 128, 247)</td>\n",
       "      <td>(3.90625, 3.90625, 3.27)</td>\n",
       "      <td>[-248.04687500000, -248.04687500000, 169.020004272460]</td>\n",
       "      <td>[1, 0, 0, 0, 1, -0]</td>\n",
       "      <td>1.2.840.113619.2.55.3.4240671514.332.1394175949.830.13830.1</td>\n",
       "      <td>'measured,, 0.096000 cm-1,'</td>\n",
       "      <td>'3D IR'</td>\n",
       "      <td>['ORIGINAL', 'PRIMARY']</td>\n",
       "      <td>'20140313'</td>\n",
       "      <td>'154238'</td>\n",
       "      <td>'FDG WB 1 h'</td>\n",
       "      <td>'UAS-WB-FDG-3D-AC'</td>\n",
       "      <td>'UAS-WB-FDG-3D'</td>\n",
       "      <td>['DECY', 'ATTN', 'SCAT', 'DTIM', 'RAN', 'DCAL', 'SLSENS', 'NORM']</td>\n",
       "      <td>PT</td>\n",
       "      <td>'GE MEDICAL SYSTEMS'</td>\n",
       "      <td>'Discovery STE'</td>\n",
       "      <td>'FDG -- fluorodeoxyglucose'</td>\n",
       "      <td>'0.0'</td>\n",
       "      <td>'141400.00'</td>\n",
       "      <td>'259344912.0'</td>\n",
       "      <td>'6588.0'</td>\n",
       "      <td>'0.97000002861023'</td>\n",
       "      <td>'20140313141400.00'</td>\n",
       "    </tr>\n",
       "  </tbody>\n",
       "</table>\n",
       "</div>"
      ],
      "text/plain": [
       "   Unnamed: 0  Unnamed: 0_x  \\\n",
       "0           0          3689   \n",
       "1           1          3690   \n",
       "\n",
       "                                                                                                                                    directory  \\\n",
       "0  /media/andres/T7 Shield/ucan_lymfom/ASPTCTX0001_lpr385705046400-20140313/CT-20140313-152551-6.1_UAS-WB-FDG-3D-STANDARD_CT_RECON-3.750000mm   \n",
       "1         /media/andres/T7 Shield/ucan_lymfom/ASPTCTX0001_lpr385705046400-20140313/PT-20140313-152728-UAS-WB-FDG-3D-UAS-WB-FDG-3D-AC-3.2700mm   \n",
       "\n",
       "                      source_directory                     patient_directory  \\\n",
       "0  /media/andres/T7 Shield/ucan_lymfom  ASPTCTX0001_lpr385705046400-20140313   \n",
       "1  /media/andres/T7 Shield/ucan_lymfom  ASPTCTX0001_lpr385705046400-20140313   \n",
       "\n",
       "                                                         PET-CT_info  \\\n",
       "0  CT-20140313-152551-6.1_UAS-WB-FDG-3D-STANDARD_CT_RECON-3.750000mm   \n",
       "1         PT-20140313-152728-UAS-WB-FDG-3D-UAS-WB-FDG-3D-AC-3.2700mm   \n",
       "\n",
       "        system              npr  scan_date  Unnamed: 0_y  \\\n",
       "0  ASPTCTX0001  lpr385705046400   20140313         13743   \n",
       "1  ASPTCTX0001  lpr385705046400   20140313         13745   \n",
       "\n",
       "                                              dicom_img       patient_id  \\\n",
       "0  1.2.840.113619.2.55.3.4240671514.332.1394175950.81.1  lpr385705046400   \n",
       "1     1.2.840.113619.2.131.4240671514.1394722651.463822  lpr385705046400   \n",
       "\n",
       "   patient_age patient_weight patient_size  imgsz_x  imgsz_y  num_slices  \\\n",
       "0         33.0         '69.0'       '1.73'      512      512         215   \n",
       "1         33.0         '69.0'       '1.73'      128      128         247   \n",
       "\n",
       "    voxsz_x   voxsz_y  slice_thickness       image_size  \\\n",
       "0  0.976562  0.976562             3.75  (512, 512, 215)   \n",
       "1  3.906250  3.906250             3.27  (128, 128, 247)   \n",
       "\n",
       "                   voxel_size  \\\n",
       "0  (0.976562, 0.976562, 3.75)   \n",
       "1    (3.90625, 3.90625, 3.27)   \n",
       "\n",
       "                                                   img_pos  \\\n",
       "0                            [-250.000, -250.000, 167.080]   \n",
       "1   [-248.04687500000, -248.04687500000, 169.020004272460]   \n",
       "\n",
       "                                                      img_orient  \\\n",
       "0   [1.000000, 0.000000, 0.000000, 0.000000, 1.000000, 0.000000]   \n",
       "1                                            [1, 0, 0, 0, 1, -0]   \n",
       "\n",
       "                                                        for_uid  \\\n",
       "0   1.2.840.113619.2.55.3.4240671514.332.1394175949.830.13830.1   \n",
       "1   1.2.840.113619.2.55.3.4240671514.332.1394175949.830.13830.1   \n",
       "\n",
       "                       att_corr recons_method  \\\n",
       "0                           NaN           NaN   \n",
       "1   'measured,, 0.096000 cm-1,'       '3D IR'   \n",
       "\n",
       "                          image_type aquisition_dt aquisition_time  \\\n",
       "0   ['ORIGINAL', 'PRIMARY', 'AXIAL']    '20140313'        '152608'   \n",
       "1            ['ORIGINAL', 'PRIMARY']    '20140313'        '154238'   \n",
       "\n",
       "      study_desc           series_desc              protocol  \\\n",
       "0   'FDG WB 1 h'   'STANDARD CT RECON'   '6.1 UAS-WB-FDG-3D'   \n",
       "1   'FDG WB 1 h'    'UAS-WB-FDG-3D-AC'       'UAS-WB-FDG-3D'   \n",
       "\n",
       "                                                             corr_img  \\\n",
       "0                                                                 NaN   \n",
       "1   ['DECY', 'ATTN', 'SCAT', 'DTIM', 'RAN', 'DCAL', 'SLSENS', 'NORM']   \n",
       "\n",
       "  modality           manufacturer manufacturer_model  \\\n",
       "0       CT   'GE MEDICAL SYSTEMS'    'Discovery STE'   \n",
       "1       PT   'GE MEDICAL SYSTEMS'    'Discovery STE'   \n",
       "\n",
       "            radiopharmaceutical radiopharmaceutical_volume  \\\n",
       "0                           NaN                        NaN   \n",
       "1   'FDG -- fluorodeoxyglucose'                      '0.0'   \n",
       "\n",
       "  radiopharmaceutical_start_time radionuclide_total_dose  \\\n",
       "0                            NaN                     NaN   \n",
       "1                    '141400.00'           '259344912.0'   \n",
       "\n",
       "  radionuclide_half_life radionuclide_positron_fraction  \\\n",
       "0                    NaN                            NaN   \n",
       "1               '6588.0'             '0.97000002861023'   \n",
       "\n",
       "  radiopharmaceutical_start_date_time  \n",
       "0                                 NaN  \n",
       "1                 '20140313141400.00'  "
      ]
     },
     "execution_count": 10,
     "metadata": {},
     "output_type": "execute_result"
    }
   ],
   "source": [
    "# master_data for black disk\n",
    "print(\"Reading master data for black disk\")\n",
    "master_data_bd = pd.read_excel(os.path.join(source_path_bd, master_data_bd_filename))\n",
    "#master_data_wd[['system', 'npr', 'scan_date']]= master_data_wd['patient_directory'].str.split(pat='_|-', n=2, expand=True)\n",
    "print(master_data_bd.shape)\n",
    "\n",
    "master_data_bd.head(2)"
   ]
  },
  {
   "cell_type": "code",
   "execution_count": null,
   "metadata": {},
   "outputs": [],
   "source": [
    "# master data from white disk\n",
    "print(\"Readin master data from white disk\")\n",
    "master_data_wd = pd.read_excel(os.path.join(source_path_bd, master_data_wd_filename))\n",
    "master_data_wd[['system', 'npr', 'scan_date']]= master_data_wd['patient_directory'].str.split(pat='_|-', n=2, expand=True)\n",
    "print(master_data_wd.shape)\n",
    "\n",
    "master_data_wd.head(2)"
   ]
  },
  {
   "cell_type": "code",
   "execution_count": null,
   "metadata": {},
   "outputs": [],
   "source": [
    "misclassified_df = pd.read_excel(source_path_bd + '/MisclassifiedSelected_files.xlsx')\n",
    "misclassified_df[['source_directory', 'patient_directory', 'PET-CT_info']] = misclassified_df['directory'].str.rsplit(pat='/', n=2, expand=True)\n",
    "misclassified_patient_directory_list = misclassified_df.patient_directory.to_list()\n",
    "misclassified_df.head()"
   ]
  },
  {
   "cell_type": "code",
   "execution_count": null,
   "metadata": {},
   "outputs": [],
   "source": [
    "master_data_bd[np.logical_and(master_data_bd.num_slices >200,master_data_bd.num_slices < 250)].head(2) # 488"
   ]
  },
  {
   "cell_type": "code",
   "execution_count": null,
   "metadata": {},
   "outputs": [],
   "source": [
    "exams_with_lt250 = master_data_wd[master_data_wd.num_slices < 250].patient_directory.to_list()\n",
    "len(exams_with_lt250)"
   ]
  },
  {
   "cell_type": "code",
   "execution_count": null,
   "metadata": {},
   "outputs": [],
   "source": [
    "master_data_wd_filtered = master_data_wd[~master_data_wd.patient_directory.isin(exams_with_lt250)].copy().reset_index()\n",
    "master_data_wd_filtered.shape"
   ]
  },
  {
   "cell_type": "code",
   "execution_count": null,
   "metadata": {},
   "outputs": [],
   "source": [
    "master_data_wd_filtered.patient_directory.nunique()"
   ]
  },
  {
   "cell_type": "code",
   "execution_count": 11,
   "metadata": {
    "ExecuteTime": {
     "end_time": "2023-10-31T12:28:01.239986700Z",
     "start_time": "2023-10-31T12:28:01.208473800Z"
    }
   },
   "outputs": [
    {
     "name": "stdout",
     "output_type": "stream",
     "text": [
      "config_size:  [256, 256, 256]\n",
      "config_spacing:  [2.0364201068878174, 2.0364201068878174, 3.0]\n"
     ]
    }
   ],
   "source": [
    "config_size = config['resampling']['image_size']\n",
    "config_spacing = config['resampling']['voxel_spacing']\n",
    "print('config_size: ', config_size)\n",
    "print('config_spacing: ', config_spacing)"
   ]
  },
  {
   "cell_type": "code",
   "execution_count": null,
   "metadata": {},
   "outputs": [],
   "source": [
    "sample_SUV_image = sitk.ReadImage('F:/SUV.nii.gz')\n",
    "print(sample_SUV_image.GetSize())\n",
    "config_spacing = list(sample_SUV_image.GetSpacing())\n",
    "config_spacing"
   ]
  },
  {
   "cell_type": "code",
   "execution_count": null,
   "metadata": {},
   "outputs": [],
   "source": [
    "#clip positive values at +3000\n",
    "#set outside image 0 values to -1024"
   ]
  },
  {
   "cell_type": "code",
   "execution_count": 12,
   "metadata": {},
   "outputs": [
    {
     "ename": "AttributeError",
     "evalue": "'str' object has no attribute 'sort_values'",
     "output_type": "error",
     "traceback": [
      "\u001b[0;31m---------------------------------------------------------------------------\u001b[0m",
      "\u001b[0;31mAttributeError\u001b[0m                            Traceback (most recent call last)",
      "\u001b[1;32m/home/andres/VSCode/UCAN-PET-CT-image-data-handling-pipeline/Task1_3/Resample_SUV_and_CT_images.ipynb Cell 19\u001b[0m line \u001b[0;36m1\n\u001b[0;32m----> <a href='vscode-notebook-cell:/home/andres/VSCode/UCAN-PET-CT-image-data-handling-pipeline/Task1_3/Resample_SUV_and_CT_images.ipynb#X24sZmlsZQ%3D%3D?line=0'>1</a>\u001b[0m final_selected_folders_bd_sorted \u001b[39m=\u001b[39m final_selected_folders_bd\u001b[39m.\u001b[39;49msort_values(by\u001b[39m=\u001b[39m[\u001b[39m\"\u001b[39m\u001b[39mpatient_directory\u001b[39m\u001b[39m\"\u001b[39m\t,\u001b[39m\"\u001b[39m\u001b[39mPET-CT_info\u001b[39m\u001b[39m\"\u001b[39m], ascending\u001b[39m=\u001b[39m[\u001b[39mTrue\u001b[39;00m, \u001b[39mFalse\u001b[39;00m])\n\u001b[1;32m      <a href='vscode-notebook-cell:/home/andres/VSCode/UCAN-PET-CT-image-data-handling-pipeline/Task1_3/Resample_SUV_and_CT_images.ipynb#X24sZmlsZQ%3D%3D?line=1'>2</a>\u001b[0m final_selected_folders_bd_sorted\u001b[39m.\u001b[39mhead(\u001b[39m5\u001b[39m)\n",
      "\u001b[0;31mAttributeError\u001b[0m: 'str' object has no attribute 'sort_values'"
     ]
    }
   ],
   "source": [
    "final_selected_folders_bd_sorted = final_selected_folders_bd.sort_values(by=[\"patient_directory\"\t,\"PET-CT_info\"], ascending=[True, False])\n",
    "final_selected_folders_bd_sorted.head(5)"
   ]
  },
  {
   "cell_type": "code",
   "execution_count": null,
   "metadata": {},
   "outputs": [],
   "source": [
    "exception_lst = []\n",
    "resampled_SUV_CT = {'patient_directory' : [],\n",
    "                    'SUV': [],\n",
    "                    'CT' : [],\n",
    "                    'new_size' : []}\n",
    "                    #'SUV_arr': []}\n",
    "\n",
    "for index, row in final_selected_folders_bd_sorted.head(70).iterrows():\n",
    "    #print(index, row['patient_directory'], row['PET-CT_info'])\n",
    "    #if index == 2:\n",
    "    #    break\n",
    "    \n",
    "    #create patient directories\n",
    "    npr_directories = '/media/andres/T7/Sambit/Other_Projects/UCAN/Resampled_SUV_CT/' + str(row['npr']) + '_SUV_CT/'\n",
    "    #npr_directories = 'F:/ucan_lymfom/Resampled_SUV_CT/Sample24Oct2023/' + str(row['npr']) + '_SUV_CT/'\n",
    "    if not os.path.exists(npr_directories):\n",
    "        os.makedirs(npr_directories)\n",
    "    \n",
    "    #create scan date directoriesmaster_data_wd_filtered.head(2)\n",
    "    scan_date_directories = '/media/andres/T7/Sambit/Other_Projects/UCAN/Resampled_SUV_CT/' + str(row['npr']) + '_SUV_CT/' + str(row['scan_date']) + '/'\n",
    "    #scan_date_directories = 'F:/ucan_lymfom/Resampled_SUV_CT/Sample24Oct2023/' + str(row['npr']) + '_SUV_CT/' + str(row['scan_date']) + '/'\n",
    "    if not os.path.exists(scan_date_directories):\n",
    "        os.makedirs(scan_date_directories)\n",
    "        \n",
    "    if row['modality']=='PT':\n",
    "\n",
    "        resampled_SUV_CT['patient_directory'].append(row['patient_directory'])\n",
    "\n",
    "        vol_img = utils.read_dicom(row['directory'])\n",
    "        image_size = vol_img.GetSize()\n",
    "\n",
    "        new_size = [config_size[0], config_size[1], image_size[2]]\n",
    "        resampled_SUV_CT['new_size'].append(new_size)\n",
    "        #print(new_size)   \n",
    "\n",
    "        suv, estimated, raw,spacing,origin,direction = utils.compute_suv(vol_img, PatientWeight, AcquisitionTime, RadiopharmaceuticalStartTime, RadionuclideHalfLife, RadionuclideTotalDose)\n",
    "        suv_img = sitk.GetImageFromArray(suv)\n",
    "\n",
    "        suv_img = sitk.Resample(vol_img, new_size, sitk.Transform(), sitk.sitkNearestNeighbor, #sitk.sitkLinear, \n",
    "                            vol_img.GetOrigin(), config_spacing, vol_img.GetDirection(), 0,\n",
    "                            vol_img.GetPixelID())  \n",
    "        \n",
    "        PatientWeight = float(row['patient_weight'].replace(\"'\", \"\").replace(\" \", \"\"))\n",
    "\n",
    "        AcquisitionTime = str(row['aquisition_time'])\n",
    "        AcquisitionTime = AcquisitionTime.replace(\"'\",\"\").strip()\n",
    "\n",
    "        # Start Time for the Radiopharmaceutical Injection\n",
    "        RadiopharmaceuticalStartTime = row['radiopharmaceutical_start_time'].split('.')[0].replace(\"'\",\"\").strip()\n",
    "\n",
    "        # Half Life for Radionuclide # seconds\n",
    "        RadionuclideHalfLife = row['radionuclide_half_life'].replace(\"'\",\"\").strip()\n",
    "\n",
    "        # Total dose injected for Radionuclide\n",
    "        RadionuclideTotalDose = row['radionuclide_total_dose'].replace(\"'\",\"\").strip()\n",
    "\n",
    "        # suv, estimated, raw,spacing,origin,direction = utils.compute_suv(vol_img, PatientWeight, AcquisitionTime, RadiopharmaceuticalStartTime, RadionuclideHalfLife, RadionuclideTotalDose)\n",
    "        # suv_img = sitk.GetImageFromArray(suv)\n",
    "\n",
    "        # suv_img.SetSpacing(config_spacing)\n",
    "\n",
    "        #suv_img = sitk.Resample(suv_img, new_size, sitk.Transform(), sitk.sitkLinear,\n",
    "        #                    suv_img.GetOrigin(), config_spacing, suv_img.GetDirection(), 0,\n",
    "        #                   suv_img.GetPixelID())\n",
    "        \n",
    "        resampled_SUV_CT['SUV'].append(row['PET-CT_info'])\n",
    "        resampled_SUV_CT['CT'].append('')\n",
    "        #resampled_SUV_CT['SUV_arr'].append(sitk.GetArrayFromImage(suv_img))\n",
    "\n",
    "        save_path= '/media/andres/T7/Sambit/Other_Projects/UCAN/Resampled_SUV_CT/' + str(row['npr']) + '_SUV_CT/' + str(row['scan_date']) + '/' + 'SUV'\n",
    "        #save_path= 'F:/ucan_lymfom/Resampled_SUV_CT/Sample24Oct2023/' + str(row['npr']) + '_SUV_CT/' + str(row['scan_date']) + '/' + 'SUV'\n",
    "\n",
    "        utils.save_as_gz(suv_img, save_path+'.nii.gz')\n",
    "        \n",
    "resampled_SUV_CT_df = pd.DataFrame(resampled_SUV_CT)\n",
    "#resampled_SUV_CT_df.head(2)"
   ]
  },
  {
   "cell_type": "code",
   "execution_count": null,
   "metadata": {},
   "outputs": [],
   "source": []
  },
  {
   "cell_type": "code",
   "execution_count": null,
   "metadata": {},
   "outputs": [],
   "source": [
    "npr126347730283"
   ]
  },
  {
   "cell_type": "code",
   "execution_count": null,
   "metadata": {},
   "outputs": [],
   "source": [
    "master_data_wd_filtered_sorted[master_data_wd_filtered_sorted.npr==\"npr126347730283\"]"
   ]
  },
  {
   "cell_type": "code",
   "execution_count": null,
   "metadata": {
    "ExecuteTime": {
     "end_time": "2023-10-31T12:28:20.781394900Z",
     "start_time": "2023-10-31T12:28:19.004666500Z"
    }
   },
   "outputs": [],
   "source": [
    "img1 = utils.read_dicom(r\"C:\\Users\\NickosKal\\Desktop\\University\\Semester 3\\Project in Image Analysis\\UCAN-PET-CT-image-data-handling-pipeline\\test\\PT-20170807-105022-6.40_WB_FDG_CT_VENFAS-QCFX-S_350-2.7900mm\")\n",
    "image_size = img1.GetSize()\n",
    "\n",
    "new_size = [config_size[0], config_size[1], image_size[2]]\n",
    "\n",
    "img1.GetSpacing(), img1.GetSize(), new_size"
   ]
  },
  {
   "cell_type": "code",
   "execution_count": null,
   "metadata": {
    "ExecuteTime": {
     "end_time": "2023-10-31T12:28:34.983346Z",
     "start_time": "2023-10-31T12:28:34.428954800Z"
    }
   },
   "outputs": [],
   "source": [
    "#img1 = sitk.Resample(img1, new_size, sitk.Transform(), sitk.sitkNearestNeighbor, #sitk.sitkLinear, \n",
    "#                            img1.GetOrigin(), config_spacing, img1.GetDirection(), 0,\n",
    "#                            img1.GetPixelID()) \n",
    "\n",
    "suv, estimated, raw,spacing,origin,direction = utils.compute_suv(img1, 92.0, '110032', '095000.00', '6586.2001953125', '361595072.0')\n",
    "suv_img= sitk.GetImageFromArray(suv)\n",
    "#suv_img.SetSpacing(config_spacing)\n",
    "suv_img.GetSpacing(), suv_img.GetSize(), suv_img.GetOrigin()\n"
   ]
  },
  {
   "cell_type": "code",
   "execution_count": null,
   "metadata": {
    "ExecuteTime": {
     "end_time": "2023-10-31T12:30:23.213851500Z",
     "start_time": "2023-10-31T12:30:22.207009100Z"
    }
   },
   "outputs": [],
   "source": [
    "suv_img = sitk.Resample(suv_img, new_size, sitk.Euler3DTransform(), sitk.sitkNearestNeighbor, #sitk.sitkLinear, \n",
    "                            suv_img.GetOrigin(), config_spacing, suv_img.GetDirection(), 0,\n",
    "                            suv_img.GetPixelID()) \n",
    "suv_img.GetSpacing(), suv_img.GetSize(), suv_img.GetOrigin()\n",
    "utils.save_as_gz(suv_img, r'UCAN-PET-CT-image-data-handling-pipeline'+'SUV.nii.gz')\n"
   ]
  },
  {
   "cell_type": "code",
   "execution_count": null,
   "metadata": {
    "ExecuteTime": {
     "end_time": "2023-10-31T12:30:29.000222400Z",
     "start_time": "2023-10-31T12:30:27.639479100Z"
    }
   },
   "outputs": [],
   "source": [
    "suv_arr=sitk.GetArrayFromImage(suv_img)\n",
    "suv_arr.max(), suv_arr.min(), np.unique(suv_arr)"
   ]
  },
  {
   "cell_type": "code",
   "execution_count": null,
   "metadata": {
    "ExecuteTime": {
     "end_time": "2023-10-31T12:30:57.838903700Z",
     "start_time": "2023-10-31T12:30:55.426864500Z"
    }
   },
   "outputs": [],
   "source": [
    "ct_img= utils.read_dicom(r\"C:\\Users\\NickosKal\\Desktop\\University\\Semester 3\\Project in Image Analysis\\UCAN-PET-CT-image-data-handling-pipeline\\test\\CT-20170807-110734-6.40_WB_FDG_CT_VENFAS-WB_Venfas_3_ax-3.000000mm\")\n",
    "ct_img.GetSpacing(), ct_img.GetSize()"
   ]
  },
  {
   "cell_type": "code",
   "execution_count": null,
   "metadata": {
    "ExecuteTime": {
     "end_time": "2023-10-31T12:31:09.704132100Z",
     "start_time": "2023-10-31T12:31:09.531345900Z"
    }
   },
   "outputs": [],
   "source": [
    "print(new_size)\n",
    "ct_img = sitk.Resample(ct_img, new_size, sitk.Euler3DTransform(), sitk.sitkNearestNeighbor, #sitk.sitkLinear, \n",
    "                            ct_img.GetOrigin(), config_spacing, ct_img.GetDirection(), -1024,\n",
    "                            ct_img.GetPixelID()) \n",
    "ct_img.GetSpacing(), ct_img.GetSize(), ct_img.GetOrigin()#,np.unique(ct_img)"
   ]
  },
  {
   "cell_type": "code",
   "execution_count": null,
   "metadata": {},
   "outputs": [],
   "source": [
    "suv_img1 = sitk.Resample(suv_img, new_size, sitk.Transform(), sitk.sitkNearestNeighbor, #sitk.sitkLinear, \n",
    "                            suv_img.GetOrigin(), config_spacing, suv_img.GetDirection(), 0,\n",
    "                            suv_img.GetPixelID()) \n",
    "#suv_img1.SetSpacing(ct_img.GetOrigin())\n",
    "suv_img1.SetDirection(ct_img.GetDirection())\n",
    "suv_img1.SetOrigin(ct_img.GetOrigin())\n",
    "suv_img1.GetSpacing(), suv_img1.GetSize(), suv_img1.GetOrigin()"
   ]
  },
  {
   "cell_type": "code",
   "execution_count": null,
   "metadata": {
    "ExecuteTime": {
     "end_time": "2023-10-31T12:31:14.781066200Z",
     "start_time": "2023-10-31T12:31:14.714538800Z"
    }
   },
   "outputs": [],
   "source": [
    "np.unique(sitk.GetArrayFromImage(suv_img1))"
   ]
  },
  {
   "cell_type": "code",
   "execution_count": null,
   "metadata": {
    "ExecuteTime": {
     "end_time": "2023-10-31T12:31:53.541722700Z",
     "start_time": "2023-10-31T12:31:52.105580300Z"
    }
   },
   "outputs": [],
   "source": [
    "np.unique(sitk.GetArrayFromImage(ct_img))"
   ]
  },
  {
   "cell_type": "code",
   "execution_count": null,
   "metadata": {
    "ExecuteTime": {
     "end_time": "2023-10-31T12:31:57.180605400Z",
     "start_time": "2023-10-31T12:31:57.156367700Z"
    }
   },
   "outputs": [],
   "source": [
    "ct_img.GetOrigin()"
   ]
  },
  {
   "cell_type": "code",
   "execution_count": null,
   "metadata": {},
   "outputs": [],
   "source": []
  },
  {
   "cell_type": "code",
   "execution_count": null,
   "metadata": {},
   "outputs": [],
   "source": [
    "ct_img_arr = sitk.GetArrayFromImage(ct_img)\n",
    "ct_img_arr[ct_img_arr < -1024] = -1024\n",
    "ct_img = sitk.GetImageFromArray(ct_img_arr)"
   ]
  },
  {
   "cell_type": "code",
   "execution_count": null,
   "metadata": {
    "ExecuteTime": {
     "end_time": "2023-10-31T12:35:30.271525400Z",
     "start_time": "2023-10-31T12:35:25.366145500Z"
    }
   },
   "outputs": [],
   "source": [
    "utils.save_as_gz(suv_img, r'UCAN-PET-CT-image-data-handling-pipeline_'+'SUV.nii.gz')\n",
    "utils.save_as_gz(ct_img, r'UCAN-PET-CT-image-data-handling-pipeline_'+'CT.nii.gz')"
   ]
  },
  {
   "cell_type": "code",
   "execution_count": null,
   "metadata": {},
   "outputs": [],
   "source": [
    "img = sitk.ReadImage(\"/media/andres/T7 Shield/U-CAN-Lymfom_A/Sambit/Resampled_SUV_CT/npr100589333593_SUV_CT/20190205/SUV.nii.gz\")\n",
    "img.GetSpacing(), img.GetSize()"
   ]
  },
  {
   "cell_type": "code",
   "execution_count": null,
   "metadata": {},
   "outputs": [],
   "source": [
    "img = sitk.ReadImage(\"/media/andres/T7 Shield/U-CAN-Lymfom_A/Sambit/Resampled_SUV_CT/npr100589333593_SUV_CT/20190205/CT.nii.gz\")\n",
    "img.GetSpacing(), img.GetSize()"
   ]
  },
  {
   "cell_type": "code",
   "execution_count": null,
   "metadata": {},
   "outputs": [],
   "source": [
    "for index, row in master_data_wd_filtered_sorted.head(70).iterrows():\n",
    "    #print(index, row['patient_directory'], row['PET-CT_info'])\n",
    "    #if index == 2:\n",
    "    #    break\n",
    "    \n",
    "    if row['modality']=='CT':  \n",
    "        #print(row[['patient_directory']])      \n",
    "        resampled_SUV_CT_df.loc[resampled_SUV_CT_df['patient_directory'] == row['patient_directory'], 'CT'] = row['PET-CT_info']\n",
    "\n",
    "        vol_img = utils.read_dicom(row['directory'])\n",
    "        image_size = vol_img.GetSize()\n",
    "\n",
    "        #new_size = resampled_SUV_CT_df.loc[resampled_SUV_CT_df['patient_directory'] == row['patient_directory'], 'new_size'].tolist()[0]\n",
    "\n",
    "        suv_img = sitk.ReadImage('/media/andres/T7/Sambit/Other_Projects/UCAN/Resampled_SUV_CT/' + str(row['npr']) + '_SUV_CT/' + str(row['scan_date']) + '/' + 'SUV' + '.nii.gz')\n",
    "        new_size = suv_img.GetSize()\n",
    "        \n",
    "        #suv_img = sitk.ReadImage('F:/ucan_lymfom/Resampled_SUV_CT/Sample24Oct2023/' + str(row['npr']) + '_SUV_CT/' + str(row['scan_date']) + '/' + 'SUV' + '.nii.gz')\n",
    "        \n",
    "        vol_img = sitk.Resample(vol_img, new_size, sitk.Transform(), sitk.sitkNearestNeighbor, #sitk.sitkLinear,\n",
    "                            vol_img.GetOrigin(), config_spacing, vol_img.GetDirection(), -1024,\n",
    "                            vol_img.GetPixelID())\n",
    "        \n",
    "        vol_img.SetOrigin(suv_img.GetOrigin())\n",
    "        \n",
    "        vol_img_arr = sitk.GetArrayFromImage(vol_img)\n",
    "        vol_img_arr[vol_img_arr < -1024] = -1024\n",
    "\n",
    "        vol_img = sitk.GetImageFromArray(vol_img_arr)\n",
    "\n",
    "        #vol_img = sitk.Clamp(vol_img,upperBound=3000)\n",
    "\n",
    "        save_path= '/media/andres/T7/Sambit/Other_Projects/UCAN/Resampled_SUV_CT/' + str(row['npr']) + '_SUV_CT/' + str(row['scan_date']) + '/' + 'CT'\n",
    "        #save_path= 'F:/ucan_lymfom/Resampled_SUV_CT/Sample24Oct2023/' + str(row['npr']) + '_SUV_CT/' + str(row['scan_date']) + '/' + 'CT'\n",
    "\n",
    "        utils.save_as_gz(vol_img, save_path+'.nii.gz')\n",
    "        \n",
    "#resampled_SUV_CT_df.head(2)"
   ]
  },
  {
   "cell_type": "code",
   "execution_count": null,
   "metadata": {},
   "outputs": [],
   "source": [
    "### Correct origin"
   ]
  },
  {
   "cell_type": "code",
   "execution_count": null,
   "metadata": {},
   "outputs": [],
   "source": [
    "sample_CT = sitk.ReadImage('E:/Sambit/Other_Projects/UCAN/Resampled_SUV_CT/lpr415675513429_SUV_CT/20190201/CT.nii.gz')\n",
    "sample_SUV = sitk.ReadImage('E:/Sambit/Other_Projects/UCAN/Resampled_SUV_CT/lpr415675513429_SUV_CT/20190201/SUV.nii.gz')"
   ]
  },
  {
   "cell_type": "code",
   "execution_count": null,
   "metadata": {},
   "outputs": [],
   "source": [
    "print(sample_CT.GetSize())\n",
    "print(sample_CT.GetSpacing())\n",
    "print(sample_CT.GetOrigin())\n",
    "print(sample_CT.GetDirection())\n",
    "print(sample_SUV.GetSize())\n",
    "print(sample_SUV.GetSpacing())\n",
    "print(sample_SUV.GetOrigin())\n",
    "print(sample_SUV.GetDirection())"
   ]
  },
  {
   "cell_type": "code",
   "execution_count": null,
   "metadata": {},
   "outputs": [],
   "source": [
    "#sample_CT = sitk.Clamp(sample_CT,upperBound=3000)\n",
    "#utils.save_as_gz(sample_CT, save_path+'2.nii.gz')\n",
    "sample_CT_arr = sitk.GetArrayFromImage(sample_CT)\n",
    "print(sample_CT_arr.max())\n",
    "\n",
    "(sample_CT_arr.min())"
   ]
  },
  {
   "cell_type": "code",
   "execution_count": null,
   "metadata": {},
   "outputs": [],
   "source": [
    "sample_CT_arr.size"
   ]
  },
  {
   "cell_type": "code",
   "execution_count": null,
   "metadata": {},
   "outputs": [],
   "source": [
    "sample_CT_arr[sample_CT_arr==0].size"
   ]
  },
  {
   "cell_type": "code",
   "execution_count": null,
   "metadata": {},
   "outputs": [],
   "source": [
    "\n",
    "sample_CT = sitk.ReadImage('/media/andres/T7/Sambit/Other_Projects/UCAN/Resampled_SUV_CT/npr100169878450_SUV_CT/20130412/CT.nii.gz')\n",
    "sample_CT_arr = sitk.GetArrayFromImage(sample_CT)\n",
    "print(sample_CT_arr.max())\n",
    "\n",
    "(sample_CT_arr.min())\n",
    "\n",
    "sample_CT_arr[sample_CT_arr < -1024] = -1024\n",
    "\n",
    "sample_CT_arr.min()"
   ]
  },
  {
   "cell_type": "code",
   "execution_count": null,
   "metadata": {},
   "outputs": [],
   "source": []
  },
  {
   "cell_type": "code",
   "execution_count": null,
   "metadata": {},
   "outputs": [],
   "source": [
    "plt.imshow(sample_CT_arr.transpose(1,2,0))"
   ]
  },
  {
   "cell_type": "code",
   "execution_count": null,
   "metadata": {},
   "outputs": [],
   "source": []
  }
 ],
 "metadata": {
  "kernelspec": {
   "display_name": "dlfia",
   "language": "python",
   "name": "python3"
  },
  "language_info": {
   "codemirror_mode": {
    "name": "ipython",
    "version": 3
   },
   "file_extension": ".py",
   "mimetype": "text/x-python",
   "name": "python",
   "nbconvert_exporter": "python",
   "pygments_lexer": "ipython3",
   "version": "3.11.5"
  },
  "orig_nbformat": 4
 },
 "nbformat": 4,
 "nbformat_minor": 2
}
