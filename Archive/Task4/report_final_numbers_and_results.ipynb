{
 "cells": [
  {
   "cell_type": "code",
   "execution_count": 2,
   "metadata": {},
   "outputs": [
    {
     "name": "stdout",
     "output_type": "stream",
     "text": [
      "env: SITK_SHOW_COMMAND='/home/andres/Downloads/Slicer-5.4.0-linux-amd64/Slicer'\n"
     ]
    }
   ],
   "source": [
    "import numpy as np\n",
    "import pandas as pd\n",
    "import SimpleITK as sitk\n",
    "from tqdm import tqdm\n",
    "import scipy.ndimage\n",
    "import cv2\n",
    "import os\n",
    "from matplotlib import pyplot as plt\n",
    "import sys\n",
    "import skimage\n",
    "from  scipy import ndimage\n",
    "\n",
    "\n",
    "parent_dir = os.path.abspath('../')\n",
    "if \"UCAN-PET-CT-image-data-handling-pipeline\" not in parent_dir:\n",
    "    parent_dir = os.path.abspath('./')\n",
    "\n",
    "if parent_dir not in sys.path:\n",
    "    sys.path.append(parent_dir)\n",
    "print(\"parent_dir: \", parent_dir)\n",
    "\n",
    "from Utils import utils\n",
    "\n",
    "# reading main config file\n",
    "config = utils.read_config()\n",
    "\n",
    "system = 1 # 1 or 2\n",
    "if system == 1:\n",
    "    source_path = config[\"Source\"][\"paths\"][\"source_path_system_1\"]\n",
    "elif system == 2:\n",
    "    os.environ[\"CUDA_VISIBLE_DEVICES\"] = \"0\"\n",
    "    source_path = config[\"Source\"][\"paths\"][\"source_path_system_2\"]\n",
    "else:\n",
    "    source_path = \"\"\n",
    "    print(\"Invalid system\")"
   ]
  },
  {
   "cell_type": "code",
   "execution_count": 6,
   "metadata": {},
   "outputs": [],
   "source": [
    "collages_dataset_for_regression = pd.read_excel(source_path + config[\"collages_for_rergession_dataframe\"])\n",
    "collages_dataset_for_classification = pd.read_excel(source_path + config[\"collages_for_classification_dataframe\"])\n",
    "collages_dataset_for_classification2 = pd.read_excel(source_path + config[\"collages_for_classification_dataframe_new_diagnosis\"])"
   ]
  },
  {
   "cell_type": "markdown",
   "metadata": {},
   "source": [
    "### Regression Summary"
   ]
  },
  {
   "cell_type": "code",
   "execution_count": 13,
   "metadata": {},
   "outputs": [
    {
     "name": "stdout",
     "output_type": "stream",
     "text": [
      "Number of patients:  1062\n",
      "Number of exams:  1783\n"
     ]
    },
    {
     "data": {
      "text/html": [
       "<div>\n",
       "<style scoped>\n",
       "    .dataframe tbody tr th:only-of-type {\n",
       "        vertical-align: middle;\n",
       "    }\n",
       "\n",
       "    .dataframe tbody tr th {\n",
       "        vertical-align: top;\n",
       "    }\n",
       "\n",
       "    .dataframe thead th {\n",
       "        text-align: right;\n",
       "    }\n",
       "</style>\n",
       "<table border=\"1\" class=\"dataframe\">\n",
       "  <thead>\n",
       "    <tr style=\"text-align: right;\">\n",
       "      <th></th>\n",
       "      <th>patient_ID</th>\n",
       "      <th>scan_date</th>\n",
       "      <th>SUV_MIP</th>\n",
       "      <th>CT_MIP</th>\n",
       "      <th>SUV_bone</th>\n",
       "      <th>CT_bone</th>\n",
       "      <th>SUV_lean</th>\n",
       "      <th>CT_lean</th>\n",
       "      <th>SUV_adipose</th>\n",
       "      <th>CT_adipose</th>\n",
       "      <th>SUV_air</th>\n",
       "      <th>CT_air</th>\n",
       "      <th>patient_age</th>\n",
       "    </tr>\n",
       "  </thead>\n",
       "  <tbody>\n",
       "    <tr>\n",
       "      <th>0</th>\n",
       "      <td>lpr385705046400</td>\n",
       "      <td>20140313</td>\n",
       "      <td>/media/andres/T7 Shield1/UCAN_project/collages...</td>\n",
       "      <td>/media/andres/T7 Shield1/UCAN_project/collages...</td>\n",
       "      <td>/media/andres/T7 Shield1/UCAN_project/collages...</td>\n",
       "      <td>/media/andres/T7 Shield1/UCAN_project/collages...</td>\n",
       "      <td>/media/andres/T7 Shield1/UCAN_project/collages...</td>\n",
       "      <td>/media/andres/T7 Shield1/UCAN_project/collages...</td>\n",
       "      <td>/media/andres/T7 Shield1/UCAN_project/collages...</td>\n",
       "      <td>/media/andres/T7 Shield1/UCAN_project/collages...</td>\n",
       "      <td>/media/andres/T7 Shield1/UCAN_project/collages...</td>\n",
       "      <td>/media/andres/T7 Shield1/UCAN_project/collages...</td>\n",
       "      <td>33</td>\n",
       "    </tr>\n",
       "    <tr>\n",
       "      <th>1</th>\n",
       "      <td>lpr415675513429</td>\n",
       "      <td>20190201</td>\n",
       "      <td>/media/andres/T7 Shield1/UCAN_project/collages...</td>\n",
       "      <td>/media/andres/T7 Shield1/UCAN_project/collages...</td>\n",
       "      <td>/media/andres/T7 Shield1/UCAN_project/collages...</td>\n",
       "      <td>/media/andres/T7 Shield1/UCAN_project/collages...</td>\n",
       "      <td>/media/andres/T7 Shield1/UCAN_project/collages...</td>\n",
       "      <td>/media/andres/T7 Shield1/UCAN_project/collages...</td>\n",
       "      <td>/media/andres/T7 Shield1/UCAN_project/collages...</td>\n",
       "      <td>/media/andres/T7 Shield1/UCAN_project/collages...</td>\n",
       "      <td>/media/andres/T7 Shield1/UCAN_project/collages...</td>\n",
       "      <td>/media/andres/T7 Shield1/UCAN_project/collages...</td>\n",
       "      <td>32</td>\n",
       "    </tr>\n",
       "  </tbody>\n",
       "</table>\n",
       "</div>"
      ],
      "text/plain": [
       "        patient_ID  scan_date  \\\n",
       "0  lpr385705046400   20140313   \n",
       "1  lpr415675513429   20190201   \n",
       "\n",
       "                                             SUV_MIP  \\\n",
       "0  /media/andres/T7 Shield1/UCAN_project/collages...   \n",
       "1  /media/andres/T7 Shield1/UCAN_project/collages...   \n",
       "\n",
       "                                              CT_MIP  \\\n",
       "0  /media/andres/T7 Shield1/UCAN_project/collages...   \n",
       "1  /media/andres/T7 Shield1/UCAN_project/collages...   \n",
       "\n",
       "                                            SUV_bone  \\\n",
       "0  /media/andres/T7 Shield1/UCAN_project/collages...   \n",
       "1  /media/andres/T7 Shield1/UCAN_project/collages...   \n",
       "\n",
       "                                             CT_bone  \\\n",
       "0  /media/andres/T7 Shield1/UCAN_project/collages...   \n",
       "1  /media/andres/T7 Shield1/UCAN_project/collages...   \n",
       "\n",
       "                                            SUV_lean  \\\n",
       "0  /media/andres/T7 Shield1/UCAN_project/collages...   \n",
       "1  /media/andres/T7 Shield1/UCAN_project/collages...   \n",
       "\n",
       "                                             CT_lean  \\\n",
       "0  /media/andres/T7 Shield1/UCAN_project/collages...   \n",
       "1  /media/andres/T7 Shield1/UCAN_project/collages...   \n",
       "\n",
       "                                         SUV_adipose  \\\n",
       "0  /media/andres/T7 Shield1/UCAN_project/collages...   \n",
       "1  /media/andres/T7 Shield1/UCAN_project/collages...   \n",
       "\n",
       "                                          CT_adipose  \\\n",
       "0  /media/andres/T7 Shield1/UCAN_project/collages...   \n",
       "1  /media/andres/T7 Shield1/UCAN_project/collages...   \n",
       "\n",
       "                                             SUV_air  \\\n",
       "0  /media/andres/T7 Shield1/UCAN_project/collages...   \n",
       "1  /media/andres/T7 Shield1/UCAN_project/collages...   \n",
       "\n",
       "                                              CT_air  patient_age  \n",
       "0  /media/andres/T7 Shield1/UCAN_project/collages...           33  \n",
       "1  /media/andres/T7 Shield1/UCAN_project/collages...           32  "
      ]
     },
     "execution_count": 13,
     "metadata": {},
     "output_type": "execute_result"
    }
   ],
   "source": [
    "print(\"Number of patients: \", collages_dataset_for_regression.patient_ID.nunique())\n",
    "print(\"Number of exams: \", collages_dataset_for_regression.patient_ID.count())\n",
    "collages_dataset_for_regression.head(2)"
   ]
  },
  {
   "cell_type": "markdown",
   "metadata": {},
   "source": [
    "### Classification Summary"
   ]
  },
  {
   "cell_type": "code",
   "execution_count": 14,
   "metadata": {},
   "outputs": [
    {
     "name": "stdout",
     "output_type": "stream",
     "text": [
      "Number of patients:  364\n",
      "Number of exams:  720\n"
     ]
    },
    {
     "data": {
      "text/html": [
       "<div>\n",
       "<style scoped>\n",
       "    .dataframe tbody tr th:only-of-type {\n",
       "        vertical-align: middle;\n",
       "    }\n",
       "\n",
       "    .dataframe tbody tr th {\n",
       "        vertical-align: top;\n",
       "    }\n",
       "\n",
       "    .dataframe thead th {\n",
       "        text-align: right;\n",
       "    }\n",
       "</style>\n",
       "<table border=\"1\" class=\"dataframe\">\n",
       "  <thead>\n",
       "    <tr style=\"text-align: right;\">\n",
       "      <th></th>\n",
       "      <th>patient_ID</th>\n",
       "      <th>scan_date</th>\n",
       "      <th>SUV_MIP</th>\n",
       "      <th>CT_MIP</th>\n",
       "      <th>SUV_bone</th>\n",
       "      <th>CT_bone</th>\n",
       "      <th>SUV_lean</th>\n",
       "      <th>CT_lean</th>\n",
       "      <th>SUV_adipose</th>\n",
       "      <th>CT_adipose</th>\n",
       "      <th>SUV_air</th>\n",
       "      <th>CT_air</th>\n",
       "      <th>sex</th>\n",
       "      <th>diagnosis_groups</th>\n",
       "      <th>GT_diagnosis_label</th>\n",
       "    </tr>\n",
       "  </thead>\n",
       "  <tbody>\n",
       "    <tr>\n",
       "      <th>0</th>\n",
       "      <td>npr100169878450</td>\n",
       "      <td>20130412</td>\n",
       "      <td>/media/andres/T7 Shield1/UCAN_project/collages...</td>\n",
       "      <td>/media/andres/T7 Shield1/UCAN_project/collages...</td>\n",
       "      <td>/media/andres/T7 Shield1/UCAN_project/collages...</td>\n",
       "      <td>/media/andres/T7 Shield1/UCAN_project/collages...</td>\n",
       "      <td>/media/andres/T7 Shield1/UCAN_project/collages...</td>\n",
       "      <td>/media/andres/T7 Shield1/UCAN_project/collages...</td>\n",
       "      <td>/media/andres/T7 Shield1/UCAN_project/collages...</td>\n",
       "      <td>/media/andres/T7 Shield1/UCAN_project/collages...</td>\n",
       "      <td>/media/andres/T7 Shield1/UCAN_project/collages...</td>\n",
       "      <td>/media/andres/T7 Shield1/UCAN_project/collages...</td>\n",
       "      <td>1</td>\n",
       "      <td>C81</td>\n",
       "      <td>0</td>\n",
       "    </tr>\n",
       "    <tr>\n",
       "      <th>1</th>\n",
       "      <td>npr100169878450</td>\n",
       "      <td>20130611</td>\n",
       "      <td>/media/andres/T7 Shield1/UCAN_project/collages...</td>\n",
       "      <td>/media/andres/T7 Shield1/UCAN_project/collages...</td>\n",
       "      <td>/media/andres/T7 Shield1/UCAN_project/collages...</td>\n",
       "      <td>/media/andres/T7 Shield1/UCAN_project/collages...</td>\n",
       "      <td>/media/andres/T7 Shield1/UCAN_project/collages...</td>\n",
       "      <td>/media/andres/T7 Shield1/UCAN_project/collages...</td>\n",
       "      <td>/media/andres/T7 Shield1/UCAN_project/collages...</td>\n",
       "      <td>/media/andres/T7 Shield1/UCAN_project/collages...</td>\n",
       "      <td>/media/andres/T7 Shield1/UCAN_project/collages...</td>\n",
       "      <td>/media/andres/T7 Shield1/UCAN_project/collages...</td>\n",
       "      <td>1</td>\n",
       "      <td>C81</td>\n",
       "      <td>0</td>\n",
       "    </tr>\n",
       "  </tbody>\n",
       "</table>\n",
       "</div>"
      ],
      "text/plain": [
       "        patient_ID  scan_date  \\\n",
       "0  npr100169878450   20130412   \n",
       "1  npr100169878450   20130611   \n",
       "\n",
       "                                             SUV_MIP  \\\n",
       "0  /media/andres/T7 Shield1/UCAN_project/collages...   \n",
       "1  /media/andres/T7 Shield1/UCAN_project/collages...   \n",
       "\n",
       "                                              CT_MIP  \\\n",
       "0  /media/andres/T7 Shield1/UCAN_project/collages...   \n",
       "1  /media/andres/T7 Shield1/UCAN_project/collages...   \n",
       "\n",
       "                                            SUV_bone  \\\n",
       "0  /media/andres/T7 Shield1/UCAN_project/collages...   \n",
       "1  /media/andres/T7 Shield1/UCAN_project/collages...   \n",
       "\n",
       "                                             CT_bone  \\\n",
       "0  /media/andres/T7 Shield1/UCAN_project/collages...   \n",
       "1  /media/andres/T7 Shield1/UCAN_project/collages...   \n",
       "\n",
       "                                            SUV_lean  \\\n",
       "0  /media/andres/T7 Shield1/UCAN_project/collages...   \n",
       "1  /media/andres/T7 Shield1/UCAN_project/collages...   \n",
       "\n",
       "                                             CT_lean  \\\n",
       "0  /media/andres/T7 Shield1/UCAN_project/collages...   \n",
       "1  /media/andres/T7 Shield1/UCAN_project/collages...   \n",
       "\n",
       "                                         SUV_adipose  \\\n",
       "0  /media/andres/T7 Shield1/UCAN_project/collages...   \n",
       "1  /media/andres/T7 Shield1/UCAN_project/collages...   \n",
       "\n",
       "                                          CT_adipose  \\\n",
       "0  /media/andres/T7 Shield1/UCAN_project/collages...   \n",
       "1  /media/andres/T7 Shield1/UCAN_project/collages...   \n",
       "\n",
       "                                             SUV_air  \\\n",
       "0  /media/andres/T7 Shield1/UCAN_project/collages...   \n",
       "1  /media/andres/T7 Shield1/UCAN_project/collages...   \n",
       "\n",
       "                                              CT_air  sex diagnosis_groups  \\\n",
       "0  /media/andres/T7 Shield1/UCAN_project/collages...    1              C81   \n",
       "1  /media/andres/T7 Shield1/UCAN_project/collages...    1              C81   \n",
       "\n",
       "   GT_diagnosis_label  \n",
       "0                   0  \n",
       "1                   0  "
      ]
     },
     "execution_count": 14,
     "metadata": {},
     "output_type": "execute_result"
    }
   ],
   "source": [
    "print(\"Number of patients: \", collages_dataset_for_classification.patient_ID.nunique())\n",
    "print(\"Number of exams: \", collages_dataset_for_classification.patient_ID.count())\n",
    "collages_dataset_for_classification.head(2)"
   ]
  },
  {
   "cell_type": "code",
   "execution_count": 21,
   "metadata": {},
   "outputs": [
    {
     "data": {
      "text/plain": [
       "sex\n",
       "0    144\n",
       "1    220\n",
       "Name: patient_ID, dtype: int64"
      ]
     },
     "execution_count": 21,
     "metadata": {},
     "output_type": "execute_result"
    }
   ],
   "source": [
    "# sex classification: unique patients\n",
    "collages_dataset_for_classification.groupby(['sex']).patient_ID.nunique()"
   ]
  },
  {
   "cell_type": "code",
   "execution_count": 18,
   "metadata": {},
   "outputs": [
    {
     "data": {
      "text/plain": [
       "sex\n",
       "1    472\n",
       "0    248\n",
       "Name: count, dtype: int64"
      ]
     },
     "execution_count": 18,
     "metadata": {},
     "output_type": "execute_result"
    }
   ],
   "source": [
    "# sex classification: unique exams\n",
    "collages_dataset_for_classification.sex.value_counts()"
   ]
  },
  {
   "cell_type": "code",
   "execution_count": 22,
   "metadata": {},
   "outputs": [
    {
     "data": {
      "text/plain": [
       "diagnosis_groups\n",
       "C81    119\n",
       "C82     32\n",
       "C83    132\n",
       "C84     10\n",
       "C85     59\n",
       "C86      4\n",
       "C88      8\n",
       "Name: patient_ID, dtype: int64"
      ]
     },
     "execution_count": 22,
     "metadata": {},
     "output_type": "execute_result"
    }
   ],
   "source": [
    "# diagnosis classification: unique patients\n",
    "collages_dataset_for_classification.groupby(['diagnosis_groups']).patient_ID.nunique()"
   ]
  },
  {
   "cell_type": "code",
   "execution_count": 19,
   "metadata": {},
   "outputs": [
    {
     "data": {
      "text/plain": [
       "diagnosis_groups\n",
       "C81    302\n",
       "C83    223\n",
       "C85     97\n",
       "C82     51\n",
       "C84     28\n",
       "C88     11\n",
       "C86      8\n",
       "Name: count, dtype: int64"
      ]
     },
     "execution_count": 19,
     "metadata": {},
     "output_type": "execute_result"
    }
   ],
   "source": [
    "# diagnosis classification: unique exams\n",
    "collages_dataset_for_classification.diagnosis_groups.value_counts()"
   ]
  },
  {
   "cell_type": "code",
   "execution_count": 23,
   "metadata": {},
   "outputs": [
    {
     "data": {
      "text/plain": [
       "GT_diagnosis_label\n",
       "0    119\n",
       "1    132\n",
       "2    113\n",
       "Name: patient_ID, dtype: int64"
      ]
     },
     "execution_count": 23,
     "metadata": {},
     "output_type": "execute_result"
    }
   ],
   "source": [
    "# diagnosis classification: unique patients\n",
    "collages_dataset_for_classification.groupby(['GT_diagnosis_label']).patient_ID.nunique()"
   ]
  },
  {
   "cell_type": "code",
   "execution_count": 24,
   "metadata": {},
   "outputs": [
    {
     "data": {
      "text/plain": [
       "GT_diagnosis_label\n",
       "0    302\n",
       "1    223\n",
       "2    195\n",
       "Name: count, dtype: int64"
      ]
     },
     "execution_count": 24,
     "metadata": {},
     "output_type": "execute_result"
    }
   ],
   "source": [
    "# diagnosis classification: unique exams\n",
    "collages_dataset_for_classification.GT_diagnosis_label.value_counts()"
   ]
  },
  {
   "cell_type": "code",
   "execution_count": 15,
   "metadata": {},
   "outputs": [
    {
     "name": "stdout",
     "output_type": "stream",
     "text": [
      "Number of patients:  186\n",
      "Number of exams:  396\n"
     ]
    },
    {
     "data": {
      "text/html": [
       "<div>\n",
       "<style scoped>\n",
       "    .dataframe tbody tr th:only-of-type {\n",
       "        vertical-align: middle;\n",
       "    }\n",
       "\n",
       "    .dataframe tbody tr th {\n",
       "        vertical-align: top;\n",
       "    }\n",
       "\n",
       "    .dataframe thead th {\n",
       "        text-align: right;\n",
       "    }\n",
       "</style>\n",
       "<table border=\"1\" class=\"dataframe\">\n",
       "  <thead>\n",
       "    <tr style=\"text-align: right;\">\n",
       "      <th></th>\n",
       "      <th>Unnamed: 0</th>\n",
       "      <th>SUV_MIP</th>\n",
       "      <th>CT_MIP</th>\n",
       "      <th>SUV_bone</th>\n",
       "      <th>CT_bone</th>\n",
       "      <th>SUV_lean</th>\n",
       "      <th>CT_lean</th>\n",
       "      <th>SUV_adipose</th>\n",
       "      <th>CT_adipose</th>\n",
       "      <th>SUV_air</th>\n",
       "      <th>CT_air</th>\n",
       "      <th>unique_patient_ID_scan_date</th>\n",
       "      <th>patient_ID</th>\n",
       "      <th>scan_date</th>\n",
       "      <th>sex</th>\n",
       "      <th>diagnosis_groups</th>\n",
       "      <th>diagnosis_groups_new</th>\n",
       "      <th>GT_diagnosis_label</th>\n",
       "      <th>GT_diagnosis_label_new</th>\n",
       "    </tr>\n",
       "  </thead>\n",
       "  <tbody>\n",
       "    <tr>\n",
       "      <th>0</th>\n",
       "      <td>1756</td>\n",
       "      <td>/media/andres/T7 Shield1/UCAN_project/collages...</td>\n",
       "      <td>/media/andres/T7 Shield1/UCAN_project/collages...</td>\n",
       "      <td>/media/andres/T7 Shield1/UCAN_project/collages...</td>\n",
       "      <td>/media/andres/T7 Shield1/UCAN_project/collages...</td>\n",
       "      <td>/media/andres/T7 Shield1/UCAN_project/collages...</td>\n",
       "      <td>/media/andres/T7 Shield1/UCAN_project/collages...</td>\n",
       "      <td>/media/andres/T7 Shield1/UCAN_project/collages...</td>\n",
       "      <td>/media/andres/T7 Shield1/UCAN_project/collages...</td>\n",
       "      <td>/media/andres/T7 Shield1/UCAN_project/collages...</td>\n",
       "      <td>/media/andres/T7 Shield1/UCAN_project/collages...</td>\n",
       "      <td>npr967652562138_20100730</td>\n",
       "      <td>npr967652562138</td>\n",
       "      <td>20100730</td>\n",
       "      <td>1</td>\n",
       "      <td>C81</td>\n",
       "      <td>C81.9</td>\n",
       "      <td>0</td>\n",
       "      <td>2</td>\n",
       "    </tr>\n",
       "    <tr>\n",
       "      <th>1</th>\n",
       "      <td>1757</td>\n",
       "      <td>/media/andres/T7 Shield1/UCAN_project/collages...</td>\n",
       "      <td>/media/andres/T7 Shield1/UCAN_project/collages...</td>\n",
       "      <td>/media/andres/T7 Shield1/UCAN_project/collages...</td>\n",
       "      <td>/media/andres/T7 Shield1/UCAN_project/collages...</td>\n",
       "      <td>/media/andres/T7 Shield1/UCAN_project/collages...</td>\n",
       "      <td>/media/andres/T7 Shield1/UCAN_project/collages...</td>\n",
       "      <td>/media/andres/T7 Shield1/UCAN_project/collages...</td>\n",
       "      <td>/media/andres/T7 Shield1/UCAN_project/collages...</td>\n",
       "      <td>/media/andres/T7 Shield1/UCAN_project/collages...</td>\n",
       "      <td>/media/andres/T7 Shield1/UCAN_project/collages...</td>\n",
       "      <td>npr967652562138_20100930</td>\n",
       "      <td>npr967652562138</td>\n",
       "      <td>20100930</td>\n",
       "      <td>1</td>\n",
       "      <td>C81</td>\n",
       "      <td>C81.9</td>\n",
       "      <td>0</td>\n",
       "      <td>2</td>\n",
       "    </tr>\n",
       "  </tbody>\n",
       "</table>\n",
       "</div>"
      ],
      "text/plain": [
       "   Unnamed: 0                                            SUV_MIP  \\\n",
       "0        1756  /media/andres/T7 Shield1/UCAN_project/collages...   \n",
       "1        1757  /media/andres/T7 Shield1/UCAN_project/collages...   \n",
       "\n",
       "                                              CT_MIP  \\\n",
       "0  /media/andres/T7 Shield1/UCAN_project/collages...   \n",
       "1  /media/andres/T7 Shield1/UCAN_project/collages...   \n",
       "\n",
       "                                            SUV_bone  \\\n",
       "0  /media/andres/T7 Shield1/UCAN_project/collages...   \n",
       "1  /media/andres/T7 Shield1/UCAN_project/collages...   \n",
       "\n",
       "                                             CT_bone  \\\n",
       "0  /media/andres/T7 Shield1/UCAN_project/collages...   \n",
       "1  /media/andres/T7 Shield1/UCAN_project/collages...   \n",
       "\n",
       "                                            SUV_lean  \\\n",
       "0  /media/andres/T7 Shield1/UCAN_project/collages...   \n",
       "1  /media/andres/T7 Shield1/UCAN_project/collages...   \n",
       "\n",
       "                                             CT_lean  \\\n",
       "0  /media/andres/T7 Shield1/UCAN_project/collages...   \n",
       "1  /media/andres/T7 Shield1/UCAN_project/collages...   \n",
       "\n",
       "                                         SUV_adipose  \\\n",
       "0  /media/andres/T7 Shield1/UCAN_project/collages...   \n",
       "1  /media/andres/T7 Shield1/UCAN_project/collages...   \n",
       "\n",
       "                                          CT_adipose  \\\n",
       "0  /media/andres/T7 Shield1/UCAN_project/collages...   \n",
       "1  /media/andres/T7 Shield1/UCAN_project/collages...   \n",
       "\n",
       "                                             SUV_air  \\\n",
       "0  /media/andres/T7 Shield1/UCAN_project/collages...   \n",
       "1  /media/andres/T7 Shield1/UCAN_project/collages...   \n",
       "\n",
       "                                              CT_air  \\\n",
       "0  /media/andres/T7 Shield1/UCAN_project/collages...   \n",
       "1  /media/andres/T7 Shield1/UCAN_project/collages...   \n",
       "\n",
       "  unique_patient_ID_scan_date       patient_ID  scan_date  sex  \\\n",
       "0    npr967652562138_20100730  npr967652562138   20100730    1   \n",
       "1    npr967652562138_20100930  npr967652562138   20100930    1   \n",
       "\n",
       "  diagnosis_groups diagnosis_groups_new  GT_diagnosis_label  \\\n",
       "0              C81                C81.9                   0   \n",
       "1              C81                C81.9                   0   \n",
       "\n",
       "   GT_diagnosis_label_new  \n",
       "0                       2  \n",
       "1                       2  "
      ]
     },
     "execution_count": 15,
     "metadata": {},
     "output_type": "execute_result"
    }
   ],
   "source": [
    "print(\"Number of patients: \", collages_dataset_for_classification2.patient_ID.nunique())\n",
    "print(\"Number of exams: \", collages_dataset_for_classification2.patient_ID.count())\n",
    "collages_dataset_for_classification2.head(2)"
   ]
  },
  {
   "cell_type": "code",
   "execution_count": 26,
   "metadata": {},
   "outputs": [
    {
     "data": {
      "text/plain": [
       "GT_diagnosis_label_new\n",
       "0    87\n",
       "1    51\n",
       "2    48\n",
       "Name: patient_ID, dtype: int64"
      ]
     },
     "execution_count": 26,
     "metadata": {},
     "output_type": "execute_result"
    }
   ],
   "source": [
    "collages_dataset_for_classification2.groupby(['GT_diagnosis_label_new']).patient_ID.nunique()"
   ]
  },
  {
   "cell_type": "code",
   "execution_count": 27,
   "metadata": {},
   "outputs": [
    {
     "data": {
      "text/plain": [
       "GT_diagnosis_label_new\n",
       "0    139\n",
       "1    131\n",
       "2    126\n",
       "Name: count, dtype: int64"
      ]
     },
     "execution_count": 27,
     "metadata": {},
     "output_type": "execute_result"
    }
   ],
   "source": [
    "collages_dataset_for_classification2.GT_diagnosis_label_new.value_counts()"
   ]
  },
  {
   "cell_type": "code",
   "execution_count": null,
   "metadata": {},
   "outputs": [],
   "source": [
    "#regression_metrics = utils.evaluate_best_models_all_folds(system=1, type=\"regression\", category=None, experiment_number=3, folds_list=list(range(10)))\n",
    "#print(regression_metrics)\n",
    "\n",
    "# For classification: sex\n",
    "sex_classification_metrics = utils.evaluate_best_models_all_folds(system=1, type=\"classification\", category=\"Sex\", experiment_number=2, folds_list=list(range(10)))\n",
    "print(sex_classification_metrics)\n",
    "\n",
    "# For classification: diagnosis groups - C81, C83, Others\n",
    "diagnosis_classification_metrics = utils.evaluate_best_models_all_folds_metric_based(system=1, type=\"classification\", category=\"Diagnosis\", experiment_number=1, folds_list=list(range(10)))\n",
    "print(diagnosis_classification_metrics)\n",
    "\n",
    "# For classification: diagnosis groups - C83.3, C81.1, C81.9\n",
    "diagnosis_classification_metrics = utils.evaluate_best_models_all_folds_metric_based(system=1, type=\"classification\", category=\"Diagnosis\", experiment_number=2, folds_list=list(range(10)))\n",
    "print(diagnosis_classification_metrics)"
   ]
  }
 ],
 "metadata": {
  "kernelspec": {
   "display_name": "UCANProject",
   "language": "python",
   "name": "python3"
  },
  "language_info": {
   "codemirror_mode": {
    "name": "ipython",
    "version": 3
   },
   "file_extension": ".py",
   "mimetype": "text/x-python",
   "name": "python",
   "nbconvert_exporter": "python",
   "pygments_lexer": "ipython3",
   "version": "3.11.5"
  }
 },
 "nbformat": 4,
 "nbformat_minor": 2
}
