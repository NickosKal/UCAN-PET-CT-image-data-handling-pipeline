{
 "cells": [
  {
   "cell_type": "code",
   "execution_count": 1,
   "metadata": {},
   "outputs": [],
   "source": [
    "import numpy as np\n",
    "import pandas as pd\n",
    "import pydicom as dicom\n",
    "import matplotlib.pylab as plt\n",
    "import glob\n",
    "import SimpleITK as sitk\n",
    "import re\n",
    "import pydicom\n",
    "import os"
   ]
  },
  {
   "cell_type": "code",
   "execution_count": 7,
   "metadata": {},
   "outputs": [],
   "source": [
    "def checkDistortedImg(vol_img, ptype='mean', angle=90):\n",
    "    projection = {'sum': sitk.SumProjection,\n",
    "                  'mean': sitk.MeanProjection,\n",
    "                  'std': sitk.StandardDeviationProjection,\n",
    "                  'min': sitk.MinimumProjection,\n",
    "                  'max': sitk.MaximumProjection}\n",
    "    paxis = 0\n",
    "\n",
    "    rotation_axis = [0, 0, 1]\n",
    "    rotation_angles = np.linspace(-1 / 2 * np.pi, 1 / 2 * np.pi, int(180.0 / angle))  # 15.0 degree\n",
    "\n",
    "    rotation_center = vol_img.TransformContinuousIndexToPhysicalPoint(\n",
    "        [(index - 1) / 2.0 for index in vol_img.GetSize()])\n",
    "\n",
    "    rotation_transform = sitk.VersorRigid3DTransform()\n",
    "    rotation_transform.SetCenter(rotation_center)\n",
    "\n",
    "    # Compute bounding box of rotating volume and the resampling grid structure\n",
    "    image_indexes = list(zip([0, 0, 0], [sz - 1 for sz in vol_img.GetSize()]))\n",
    "    image_bounds = []\n",
    "    for i in image_indexes[0]:\n",
    "        for j in image_indexes[1]:\n",
    "            for k in image_indexes[2]:\n",
    "                image_bounds.append(vol_img.TransformIndexToPhysicalPoint([i, j, k]))\n",
    "\n",
    "    all_points = []\n",
    "    for angle in rotation_angles:\n",
    "        rotation_transform.SetRotation(rotation_axis, angle)\n",
    "        all_points.extend([rotation_transform.TransformPoint(pnt) for pnt in image_bounds])\n",
    "\n",
    "    all_points = np.array(all_points)\n",
    "    min_bounds = all_points.min(0)\n",
    "    max_bounds = all_points.max(0)\n",
    "\n",
    "    new_spc = [np.min(vol_img.GetSpacing())] * 3\n",
    "    new_sz = [int(sz / spc + 0.5) for spc, sz in zip(new_spc, max_bounds - min_bounds)]\n",
    "\n",
    "    for angle in rotation_angles:\n",
    "        rotation_transform.SetRotation(rotation_axis, angle)\n",
    "        resampled_image = sitk.Resample(image1=vol_img,\n",
    "                                        size=new_sz,\n",
    "                                        transform=rotation_transform,\n",
    "                                        interpolator=sitk.sitkLinear,\n",
    "                                        outputOrigin=min_bounds,\n",
    "                                        outputSpacing=new_spc,\n",
    "                                        outputDirection=[1, 0, 0, 0, 1, 0, 0, 0, 1],\n",
    "                                        defaultPixelValue=-20,\n",
    "                                        # HU unit for air in CT, possibly set to 0 in other cases\n",
    "                                        outputPixelType=vol_img.GetPixelID())\n",
    "        proj_image = projection[ptype](resampled_image, paxis)\n",
    "        extract_size = list(proj_image.GetSize())\n",
    "        extract_size[paxis] = 0\n",
    "        sitk.Extract(proj_image, extract_size)\n",
    "\n",
    "\n",
    "def outputDistortedImg(df):\n",
    "    pid = os.getpid()\n",
    "    ppid = os.getppid()\n",
    "    start = time.time()\n",
    "    print(\"PPID %s->%s Started on %s\" % (ppid, pid, str(datetime.now())))\n",
    "\n",
    "    exception_lst = []\n",
    "\n",
    "    for _, row in df.iterrows():\n",
    "        reader = sitk.ImageSeriesReader()\n",
    "        dicom_names = reader.GetGDCMSeriesFileNames(row['directory'])\n",
    "        reader.SetFileNames(dicom_names)\n",
    "        vol_img = reader.Execute()\n",
    "        try:\n",
    "            checkDistortedImg(vol_img)\n",
    "        except:Mem:       32522512    11526808     2814172       60464    18181532    20466524\n",
    "            print(row[\"directory\"])\n",
    "            exception_lst.append(row['directory'])\n",
    "\n",
    "    end = time.time()\n",
    "\n",
    "    print(\"PPID %s Completed in %s\" % (os.getpid(), round((end - start) / 60, 2)))\n",
    "\n",
    "    return exception_lst"
   ]
  },
  {
   "cell_type": "code",
   "execution_count": 11,
   "metadata": {},
   "outputs": [
    {
     "name": "stdout",
     "output_type": "stream",
     "text": [
      "/media/andres/T7 Shield/ucan_lymfom/ASPTCTX0001_npr999612862346-20210628/CT-20210628-114331-3.11_WB_F18_FDG_VENFAS__THORAX_INANDAD-WB_Venfas_3_ax-3.000000mm\n",
      "/media/andres/T7 Shield/ucan_lymfom/ASPTCTX0001_npr999612862346-20210628/PT-20210628-112746-3.11_WB_F18_FDG_VENFAS__THORAX_INANDAD-QCFX-S_400_M.Free-2.8000mm\n",
      "/media/andres/T7 Shield/ucan_lymfom/ASPTCTX0001_npr999612862346-20210407/CT-20210407-105418-3.12_WB_F18_FDG_VENFAS__THORAX_INANDAD-WB_Venfas_0.6_ax-0.625000mm\n",
      "/media/andres/T7 Shield/ucan_lymfom/ASPTCTX0001_npr999612862346-20210407/PT-20210407-104228-3.12_WB_F18_FDG_VENFAS__THORAX_INANDAD-QCFX-S_400_M.Free-2.8000mm\n",
      "/media/andres/T7 Shield/ucan_lymfom/ASPTCTX0001_npr999612862346-20210212/CT-20210212-130055-3.12_WB_FDG_VENFAS__THORAX_INANDAD-WB_Venfas_3_ax-3.000000mm\n",
      "/media/andres/T7 Shield/ucan_lymfom/ASPTCTX0001_npr999612862346-20210212/PT-20210212-124236-3.12_WB_FDG_VENFAS__THORAX_INANDAD-QCFX-S_400_M.Free-2.8000mm\n",
      "/media/andres/T7 Shield/ucan_lymfom/ASPTCTX0001_npr999561275820-20130305/CT-20130305-134653-6.1_UAS-WB-FDG-3D-STANDARD_CT_RECON-3.750000mm\n",
      "/media/andres/T7 Shield/ucan_lymfom/ASPTCTX0001_npr999561275820-20130305/PT-20130305-134840-UAS-WB-FDG-3D-UAS-WB-FDG-3D-AC-3.2700mm\n",
      "/media/andres/T7 Shield/ucan_lymfom/ASPTCTX0001_npr999470312453-20220201/CT-20220201-143746-3.11_WB_F18_FDG_VENFAS__THORAX_INANDAD-WB_Venfas_3_ax-3.000000mm\n"
     ]
    },
    {
     "name": "stderr",
     "output_type": "stream",
     "text": [
      "WARNING: In /tmp/SimpleITK-build/ITK-prefix/include/ITK-5.3/itkImageSeriesReader.hxx, line 477\n",
      "ImageSeriesReader (0x7f001c34ef20): Non uniform sampling or missing slices detected,  maximum nonuniformity:0.000997159\n",
      "\n"
     ]
    },
    {
     "name": "stdout",
     "output_type": "stream",
     "text": [
      "/media/andres/T7 Shield/ucan_lymfom/ASPTCTX0001_npr999470312453-20220201/PT-20220201-142500-3.11_WB_F18_FDG_VENFAS__THORAX_INANDAD-QCFX-S_400_M.Free-2.8000mm\n",
      "/media/andres/T7 Shield/ucan_lymfom/ASPTCTX0001_npr999062108241-20190308/CT-20190308-110945-6.3_UAS-WB-FDG-3D_CT_VENFAS-WB_VEN_AX-0.949219mm\n",
      "/media/andres/T7 Shield/ucan_lymfom/ASPTCTX0001_npr999062108241-20190308/PT-20190308-104217-UAS-WB-FDG-3D_CT_VENFAS-WB-FDG-AC-3.2700mm\n",
      "/media/andres/T7 Shield/ucan_lymfom/ASPTCTX0001_npr998272047145-20210701/PT-20210701-144502-3.11_WB_F18_FDG_VENFAS__THORAX_INANDAD-QCFX-S_400_M.Free-2.8000mm\n",
      "/media/andres/T7 Shield/ucan_lymfom/ASPTCTX0001_npr998272047145-20210701/CT-20210701-150132-3.11_WB_F18_FDG_VENFAS__THORAX_INANDAD-WB_Venfas_3_ax-3.000000mm\n",
      "/media/andres/T7 Shield/ucan_lymfom/ASPTCTX0001_npr997877056847-20120103/CT-20120103-095149-6.3_UAS-WB-FDG-3D-STANDARD_CT_RECON-3.750000mm\n",
      "/media/andres/T7 Shield/ucan_lymfom/ASPTCTX0001_npr997877056847-20120103/PT-20120103-095404-UAS-WB-FDG-3D-UAS-WB-FDG-3D-AC-3.2700mm\n",
      "/media/andres/T7 Shield/ucan_lymfom/ASPTCTX0001_npr997877056847-20110824/CT-20110824-110251-6.3_UAS-WB-FDG-3D-STANDARD_CT_RECON-3.750000mm\n",
      "/media/andres/T7 Shield/ucan_lymfom/ASPTCTX0001_npr997877056847-20110824/PT-20110824-110453-UAS-WB-FDG-3D-UAS-WB-FDG-3D-AC-3.2700mm\n",
      "/media/andres/T7 Shield/ucan_lymfom/ASPTCTX0001_npr995449476000-20160407/CT-20160407-131443-6.1_UAS-WB-FDG-3D-STANDARD_CT_RECON-3.750000mm\n",
      "/media/andres/T7 Shield/ucan_lymfom/ASPTCTX0001_npr995449476000-20160407/PT-20160407-131701-UAS-WB-FDG-3D-WB-FDG-AC-3.2700mm\n",
      "/media/andres/T7 Shield/ucan_lymfom/ASPTCTX0001_npr995000010364-20190918/PT-20190918-102811-3.6_WB_FDG_CT_VENFAS-QCFX-S_400-2.7900mm\n",
      "/media/andres/T7 Shield/ucan_lymfom/ASPTCTX0001_npr995000010364-20190918/CT-20190918-104421-3.6_WB_FDG_CT_VENFAS-WB_Venfas_3_ax-3.000000mm\n"
     ]
    },
    {
     "name": "stderr",
     "output_type": "stream",
     "text": [
      "WARNING: In /tmp/SimpleITK-build/ITK-prefix/include/ITK-5.3/itkImageSeriesReader.hxx, line 477\n",
      "ImageSeriesReader (0x7f001c34ef20): Non uniform sampling or missing slices detected,  maximum nonuniformity:0.000997368\n",
      "\n"
     ]
    },
    {
     "name": "stdout",
     "output_type": "stream",
     "text": [
      "/media/andres/T7 Shield/ucan_lymfom/ASPTCTX0001_npr994849838028-20210310/PT-20210310-101248-3.12_WB_FDG_VENFAS__THORAX_INANDAD-QCFX-S_400_M.Free-2.8000mm\n",
      "/media/andres/T7 Shield/ucan_lymfom/ASPTCTX0001_npr994849838028-20210310/CT-20210310-103202-3.12_WB_FDG_VENFAS__THORAX_INANDAD-WB_Venfas_3_ax-3.000000mm\n"
     ]
    },
    {
     "name": "stderr",
     "output_type": "stream",
     "text": [
      "WARNING: In /tmp/SimpleITK-build/ITK-prefix/include/ITK-5.3/itkImageSeriesReader.hxx, line 477\n",
      "ImageSeriesReader (0x7f001c34ef20): Non uniform sampling or missing slices detected,  maximum nonuniformity:0.00498753\n",
      "\n"
     ]
    },
    {
     "name": "stdout",
     "output_type": "stream",
     "text": [
      "/media/andres/T7 Shield/ucan_lymfom/ASPTCTX0001_npr993867426231-20180326/PT-20180326-110931-UAS-WB-FDG-3D_CT_VENFAS-WB-FDG-AC-3.2700mm\n",
      "/media/andres/T7 Shield/ucan_lymfom/ASPTCTX0001_npr993867426231-20180326/CT-20180326-113432-6.3_UAS-WB-FDG-3D_CT_VENFAS-WB_VEN_AX-0.949219mm\n",
      "/media/andres/T7 Shield/ucan_lymfom/ASPTCTX0001_npr992367836483-20181031/PT-20181031-150153-UAS-WB-FDG-3D_CT_VENFAS-WB-FDG-AC-3.2700mm\n",
      "/media/andres/T7 Shield/ucan_lymfom/ASPTCTX0001_npr992367836483-20181031/CT-20181031-152948-6.3_UAS-WB-FDG-3D_CT_VENFAS-WB_VEN_AX-0.949219mm\n",
      "/media/andres/T7 Shield/ucan_lymfom/ASPTCTX0001_npr991811682588-20160804/PT-20160804-120758-UAS-WB-FDG-3D_VENFASTHORAX_INSP_20160120-WB-FDG-AC-3.2700mm\n",
      "/media/andres/T7 Shield/ucan_lymfom/ASPTCTX0001_npr991811682588-20160804/CT-20160804-124256-6.6_UAS-WB-FDG-3D_VENFASTHORAX_INSP_20160120-WB_VEN_AX-0.949219mm\n",
      "/media/andres/T7 Shield/ucan_lymfom/ASPTCTX0001_npr991043996626-20200605/CT-20200605-100800-3.17_WB_FDG_CT_THORAX_INANDAD-WB_Venfas_3_ax-3.000000mm\n"
     ]
    },
    {
     "name": "stderr",
     "output_type": "stream",
     "text": [
      "WARNING: In /tmp/SimpleITK-build/ITK-prefix/include/ITK-5.3/itkImageSeriesReader.hxx, line 477\n",
      "ImageSeriesReader (0x7f001c34ef20): Non uniform sampling or missing slices detected,  maximum nonuniformity:0.000997368\n",
      "\n"
     ]
    },
    {
     "name": "stdout",
     "output_type": "stream",
     "text": [
      "/media/andres/T7 Shield/ucan_lymfom/ASPTCTX0001_npr991043996626-20200605/PT-20200605-095011-3.17_WB_FDG_CT_THORAX_INANDAD-QCFX-S_400-2.7900mm\n",
      "/media/andres/T7 Shield/ucan_lymfom/ASPTCTX0001_npr988957180883-20190126/PT-20190126-102901-3.5_WB_FDG_CT_VENFAS-QCFX-S_400-2.7900mm\n",
      "/media/andres/T7 Shield/ucan_lymfom/ASPTCTX0001_npr988957180883-20190126/CT-20190126-104518-3.5_WB_FDG_CT_VENFAS-WB_Venfas_3_ax-3.000000mm\n"
     ]
    },
    {
     "name": "stderr",
     "output_type": "stream",
     "text": [
      "WARNING: In /tmp/SimpleITK-build/ITK-prefix/include/ITK-5.3/itkImageSeriesReader.hxx, line 477\n",
      "ImageSeriesReader (0x7f001c34ef20): Non uniform sampling or missing slices detected,  maximum nonuniformity:0.00498684\n",
      "\n"
     ]
    },
    {
     "name": "stdout",
     "output_type": "stream",
     "text": [
      "/media/andres/T7 Shield/ucan_lymfom/ASPTCTX0001_npr988957180883-20180518/PT-20180518-100700-6.39_WB_FDG_CT_VENFAS-WB_AC_FDG_VPFX-S-2.7900mm\n",
      "/media/andres/T7 Shield/ucan_lymfom/ASPTCTX0001_npr988957180883-20180518/CT-20180518-102113-6.39_WB_FDG_CT_VENFAS-WB_Venfas_3_ax-3.000000mm\n"
     ]
    },
    {
     "name": "stderr",
     "output_type": "stream",
     "text": [
      "WARNING: In /tmp/SimpleITK-build/ITK-prefix/include/ITK-5.3/itkImageSeriesReader.hxx, line 477\n",
      "ImageSeriesReader (0x7f001c34ef20): Non uniform sampling or missing slices detected,  maximum nonuniformity:0.000996875\n",
      "\n"
     ]
    },
    {
     "name": "stdout",
     "output_type": "stream",
     "text": [
      "/media/andres/T7 Shield/ucan_lymfom/ASPTCTX0001_npr988957180883-20161227/PT-20161227-113237-UAS-WB-FDG-3D_CT_VENFAS-WB-FDG-AC-3.2700mm\n",
      "/media/andres/T7 Shield/ucan_lymfom/ASPTCTX0001_npr988957180883-20161227/CT-20161227-120308-6.3_UAS-WB-FDG-3D_CT_VENFAS-WB_VEN_AX-0.949219mm\n",
      "/media/andres/T7 Shield/ucan_lymfom/ASPTCTX0001_npr988957180883-20160819/CT-20160819-132246-6.1_UAS-WB-FDG-3D-STANDARD_CT_RECON-3.750000mm\n",
      "/media/andres/T7 Shield/ucan_lymfom/ASPTCTX0001_npr988957180883-20160819/PT-20160819-132426-UAS-WB-FDG-3D-WB-FDG-AC-3.2700mm\n",
      "/media/andres/T7 Shield/ucan_lymfom/ASPTCTX0001_npr988864921432-20220428/PT-20220428-120103-3.8_WB_F18_FDG_VENFAS-QCFX-S_400_M.Free-2.8000mm\n"
     ]
    },
    {
     "name": "stderr",
     "output_type": "stream",
     "text": [
      "WARNING: In /tmp/SimpleITK-build/ITK-prefix/include/ITK-5.3/itkImageSeriesReader.hxx, line 477\n",
      "ImageSeriesReader (0x7f001c34ef20): Non uniform sampling or missing slices detected,  maximum nonuniformity:141.608\n",
      "\n"
     ]
    },
    {
     "name": "stdout",
     "output_type": "stream",
     "text": [
      "/media/andres/T7 Shield/ucan_lymfom/ASPTCTX0001_npr988864921432-20220428/CT-20220428-121324-3.8_WB_F18_FDG_VENFAS-WB_Venfas_3_ax-3.000000mm\n"
     ]
    },
    {
     "name": "stderr",
     "output_type": "stream",
     "text": [
      "WARNING: In /tmp/SimpleITK-build/ITK-prefix/include/ITK-5.3/itkImageSeriesReader.hxx, line 477\n",
      "ImageSeriesReader (0x7f001c34ef20): Non uniform sampling or missing slices detected,  maximum nonuniformity:163.837\n",
      "\n"
     ]
    },
    {
     "name": "stdout",
     "output_type": "stream",
     "text": [
      "/media/andres/T7 Shield/ucan_lymfom/ASPTCTX0001_npr988864921432-20220125/PT-20220125-104104-3.8_WB_F18_FDG_VENFAS-QCFX-S_400_M.Free-2.8000mm\n"
     ]
    },
    {
     "name": "stderr",
     "output_type": "stream",
     "text": [
      "WARNING: In /tmp/SimpleITK-build/ITK-prefix/include/ITK-5.3/itkImageSeriesReader.hxx, line 477\n",
      "ImageSeriesReader (0x7f001c34ef20): Non uniform sampling or missing slices detected,  maximum nonuniformity:105.002\n",
      "\n"
     ]
    },
    {
     "name": "stdout",
     "output_type": "stream",
     "text": [
      "/media/andres/T7 Shield/ucan_lymfom/ASPTCTX0001_npr988864921432-20220125/CT-20220125-105521-3.8_WB_F18_FDG_VENFAS-WB_Venfas_3_ax-3.000000mm\n"
     ]
    },
    {
     "name": "stderr",
     "output_type": "stream",
     "text": [
      "WARNING: In /tmp/SimpleITK-build/ITK-prefix/include/ITK-5.3/itkImageSeriesReader.hxx, line 477\n",
      "ImageSeriesReader (0x7f001c34ef20): Non uniform sampling or missing slices detected,  maximum nonuniformity:616.943\n",
      "\n"
     ]
    },
    {
     "name": "stdout",
     "output_type": "stream",
     "text": [
      "/media/andres/T7 Shield/ucan_lymfom/ASPTCTX0001_npr988864921432-20210721/CT-20210721-124711-3.11_WB_F18_FDG_VENFAS__THORAX_INANDAD-WB_Venfas_3_ax-3.000000mm\n"
     ]
    },
    {
     "name": "stderr",
     "output_type": "stream",
     "text": [
      "WARNING: In /tmp/SimpleITK-build/ITK-prefix/include/ITK-5.3/itkImageSeriesReader.hxx, line 477\n",
      "ImageSeriesReader (0x7f001c34ef20): Non uniform sampling or missing slices detected,  maximum nonuniformity:804.996\n",
      "\n"
     ]
    },
    {
     "ename": "RuntimeError",
     "evalue": "Exception thrown in SimpleITK ResampleImageFilter_Execute: /tmp/SimpleITK-build/ITK-prefix/include/ITK-5.3/itkImportImageContainer.hxx:191:\nFailed to allocate memory for image.",
     "output_type": "error",
     "traceback": [
      "\u001b[0;31m---------------------------------------------------------------------------\u001b[0m",
      "\u001b[0;31mRuntimeError\u001b[0m                              Traceback (most recent call last)",
      "\u001b[0;32m/tmp/ipykernel_1744/1756465026.py\u001b[0m in \u001b[0;36m?\u001b[0;34m()\u001b[0m\n\u001b[1;32m      8\u001b[0m     \u001b[0mreader\u001b[0m \u001b[0;34m=\u001b[0m \u001b[0msitk\u001b[0m\u001b[0;34m.\u001b[0m\u001b[0mImageSeriesReader\u001b[0m\u001b[0;34m(\u001b[0m\u001b[0;34m)\u001b[0m\u001b[0;34m\u001b[0m\u001b[0;34m\u001b[0m\u001b[0m\n\u001b[1;32m      9\u001b[0m     \u001b[0mdicom_names\u001b[0m \u001b[0;34m=\u001b[0m \u001b[0mreader\u001b[0m\u001b[0;34m.\u001b[0m\u001b[0mGetGDCMSeriesFileNames\u001b[0m\u001b[0;34m(\u001b[0m\u001b[0mfile\u001b[0m\u001b[0;34m)\u001b[0m\u001b[0;34m\u001b[0m\u001b[0;34m\u001b[0m\u001b[0m\n\u001b[1;32m     10\u001b[0m     \u001b[0mreader\u001b[0m\u001b[0;34m.\u001b[0m\u001b[0mSetFileNames\u001b[0m\u001b[0;34m(\u001b[0m\u001b[0mdicom_names\u001b[0m\u001b[0;34m)\u001b[0m\u001b[0;34m\u001b[0m\u001b[0;34m\u001b[0m\u001b[0m\n\u001b[1;32m     11\u001b[0m     \u001b[0mvol_img\u001b[0m \u001b[0;34m=\u001b[0m \u001b[0mreader\u001b[0m\u001b[0;34m.\u001b[0m\u001b[0mExecute\u001b[0m\u001b[0;34m(\u001b[0m\u001b[0;34m)\u001b[0m\u001b[0;34m\u001b[0m\u001b[0;34m\u001b[0m\u001b[0m\n\u001b[0;32m---> 12\u001b[0;31m     \u001b[0mcheckDistortedImg\u001b[0m\u001b[0;34m(\u001b[0m\u001b[0mvol_img\u001b[0m\u001b[0;34m=\u001b[0m\u001b[0mvol_img\u001b[0m\u001b[0;34m)\u001b[0m\u001b[0;34m\u001b[0m\u001b[0;34m\u001b[0m\u001b[0m\n\u001b[0m",
      "\u001b[0;32m/tmp/ipykernel_1744/233691796.py\u001b[0m in \u001b[0;36m?\u001b[0;34m(vol_img, ptype, angle)\u001b[0m\n\u001b[1;32m     36\u001b[0m     \u001b[0mnew_sz\u001b[0m \u001b[0;34m=\u001b[0m \u001b[0;34m[\u001b[0m\u001b[0mint\u001b[0m\u001b[0;34m(\u001b[0m\u001b[0msz\u001b[0m \u001b[0;34m/\u001b[0m \u001b[0mspc\u001b[0m \u001b[0;34m+\u001b[0m \u001b[0;36m0.5\u001b[0m\u001b[0;34m)\u001b[0m \u001b[0;32mfor\u001b[0m \u001b[0mspc\u001b[0m\u001b[0;34m,\u001b[0m \u001b[0msz\u001b[0m \u001b[0;32min\u001b[0m \u001b[0mzip\u001b[0m\u001b[0;34m(\u001b[0m\u001b[0mnew_spc\u001b[0m\u001b[0;34m,\u001b[0m \u001b[0mmax_bounds\u001b[0m \u001b[0;34m-\u001b[0m \u001b[0mmin_bounds\u001b[0m\u001b[0;34m)\u001b[0m\u001b[0;34m]\u001b[0m\u001b[0;34m\u001b[0m\u001b[0;34m\u001b[0m\u001b[0m\n\u001b[1;32m     37\u001b[0m \u001b[0;34m\u001b[0m\u001b[0m\n\u001b[1;32m     38\u001b[0m     \u001b[0;32mfor\u001b[0m \u001b[0mangle\u001b[0m \u001b[0;32min\u001b[0m \u001b[0mrotation_angles\u001b[0m\u001b[0;34m:\u001b[0m\u001b[0;34m\u001b[0m\u001b[0;34m\u001b[0m\u001b[0m\n\u001b[1;32m     39\u001b[0m         \u001b[0mrotation_transform\u001b[0m\u001b[0;34m.\u001b[0m\u001b[0mSetRotation\u001b[0m\u001b[0;34m(\u001b[0m\u001b[0mrotation_axis\u001b[0m\u001b[0;34m,\u001b[0m \u001b[0mangle\u001b[0m\u001b[0;34m)\u001b[0m\u001b[0;34m\u001b[0m\u001b[0;34m\u001b[0m\u001b[0m\n\u001b[0;32m---> 40\u001b[0;31m         resampled_image = sitk.Resample(image1=vol_img,\n\u001b[0m\u001b[1;32m     41\u001b[0m                                         \u001b[0msize\u001b[0m\u001b[0;34m=\u001b[0m\u001b[0mnew_sz\u001b[0m\u001b[0;34m,\u001b[0m\u001b[0;34m\u001b[0m\u001b[0;34m\u001b[0m\u001b[0m\n\u001b[1;32m     42\u001b[0m                                         \u001b[0mtransform\u001b[0m\u001b[0;34m=\u001b[0m\u001b[0mrotation_transform\u001b[0m\u001b[0;34m,\u001b[0m\u001b[0;34m\u001b[0m\u001b[0;34m\u001b[0m\u001b[0m\n\u001b[1;32m     43\u001b[0m                                         \u001b[0minterpolator\u001b[0m\u001b[0;34m=\u001b[0m\u001b[0msitk\u001b[0m\u001b[0;34m.\u001b[0m\u001b[0msitkLinear\u001b[0m\u001b[0;34m,\u001b[0m\u001b[0;34m\u001b[0m\u001b[0;34m\u001b[0m\u001b[0m\n",
      "\u001b[0;32m~/anaconda3/envs/UCANProject/lib/python3.11/site-packages/SimpleITK/extra.py\u001b[0m in \u001b[0;36m?\u001b[0;34m(image1, referenceImage, size, *args, **kwargs)\u001b[0m\n\u001b[1;32m    138\u001b[0m \u001b[0;34m\u001b[0m\u001b[0m\n\u001b[1;32m    139\u001b[0m     \u001b[0;32mif\u001b[0m \u001b[0mreferenceImage\u001b[0m \u001b[0;32mis\u001b[0m \u001b[0;32mnot\u001b[0m \u001b[0;32mNone\u001b[0m\u001b[0;34m:\u001b[0m\u001b[0;34m\u001b[0m\u001b[0;34m\u001b[0m\u001b[0m\n\u001b[1;32m    140\u001b[0m         \u001b[0;32mreturn\u001b[0m \u001b[0m_r_image\u001b[0m\u001b[0;34m(\u001b[0m\u001b[0mreferenceImage\u001b[0m\u001b[0;34m,\u001b[0m \u001b[0;34m*\u001b[0m\u001b[0margs\u001b[0m\u001b[0;34m,\u001b[0m \u001b[0;34m**\u001b[0m\u001b[0mkwargs\u001b[0m\u001b[0;34m)\u001b[0m\u001b[0;34m\u001b[0m\u001b[0;34m\u001b[0m\u001b[0m\n\u001b[1;32m    141\u001b[0m     \u001b[0;32mif\u001b[0m \u001b[0msize\u001b[0m \u001b[0;32mis\u001b[0m \u001b[0;32mnot\u001b[0m \u001b[0;32mNone\u001b[0m\u001b[0;34m:\u001b[0m\u001b[0;34m\u001b[0m\u001b[0;34m\u001b[0m\u001b[0m\n\u001b[0;32m--> 142\u001b[0;31m         \u001b[0;32mreturn\u001b[0m \u001b[0m_r\u001b[0m\u001b[0;34m(\u001b[0m\u001b[0msize\u001b[0m\u001b[0;34m,\u001b[0m \u001b[0;34m*\u001b[0m\u001b[0margs\u001b[0m\u001b[0;34m,\u001b[0m \u001b[0;34m**\u001b[0m\u001b[0mkwargs\u001b[0m\u001b[0;34m)\u001b[0m\u001b[0;34m\u001b[0m\u001b[0;34m\u001b[0m\u001b[0m\n\u001b[0m\u001b[1;32m    143\u001b[0m \u001b[0;34m\u001b[0m\u001b[0m\n\u001b[1;32m    144\u001b[0m     \u001b[0;32mreturn\u001b[0m \u001b[0m_r_image\u001b[0m\u001b[0;34m(\u001b[0m\u001b[0mimage1\u001b[0m\u001b[0;34m,\u001b[0m \u001b[0;34m*\u001b[0m\u001b[0margs\u001b[0m\u001b[0;34m,\u001b[0m \u001b[0;34m**\u001b[0m\u001b[0mkwargs\u001b[0m\u001b[0;34m)\u001b[0m\u001b[0;34m\u001b[0m\u001b[0;34m\u001b[0m\u001b[0m\n",
      "\u001b[0;32m~/anaconda3/envs/UCANProject/lib/python3.11/site-packages/SimpleITK/extra.py\u001b[0m in \u001b[0;36m?\u001b[0;34m(size, transform, interpolator, outputOrigin, outputSpacing, outputDirection, defaultPixelValue, outputPixelType, useNearestNeighborExtrapolator)\u001b[0m\n\u001b[1;32m    122\u001b[0m         \u001b[0mresampler\u001b[0m\u001b[0;34m.\u001b[0m\u001b[0mSetOutputDirection\u001b[0m\u001b[0;34m(\u001b[0m\u001b[0moutputDirection\u001b[0m\u001b[0;34m)\u001b[0m\u001b[0;34m\u001b[0m\u001b[0;34m\u001b[0m\u001b[0m\n\u001b[1;32m    123\u001b[0m         \u001b[0mresampler\u001b[0m\u001b[0;34m.\u001b[0m\u001b[0mSetDefaultPixelValue\u001b[0m\u001b[0;34m(\u001b[0m\u001b[0mdefaultPixelValue\u001b[0m\u001b[0;34m)\u001b[0m\u001b[0;34m\u001b[0m\u001b[0;34m\u001b[0m\u001b[0m\n\u001b[1;32m    124\u001b[0m         \u001b[0mresampler\u001b[0m\u001b[0;34m.\u001b[0m\u001b[0mSetOutputPixelType\u001b[0m\u001b[0;34m(\u001b[0m\u001b[0moutputPixelType\u001b[0m\u001b[0;34m)\u001b[0m\u001b[0;34m\u001b[0m\u001b[0;34m\u001b[0m\u001b[0m\n\u001b[1;32m    125\u001b[0m         \u001b[0mresampler\u001b[0m\u001b[0;34m.\u001b[0m\u001b[0mSetUseNearestNeighborExtrapolator\u001b[0m\u001b[0;34m(\u001b[0m\u001b[0museNearestNeighborExtrapolator\u001b[0m\u001b[0;34m)\u001b[0m\u001b[0;34m\u001b[0m\u001b[0;34m\u001b[0m\u001b[0m\n\u001b[0;32m--> 126\u001b[0;31m         \u001b[0;32mreturn\u001b[0m \u001b[0mresampler\u001b[0m\u001b[0;34m.\u001b[0m\u001b[0mExecute\u001b[0m\u001b[0;34m(\u001b[0m\u001b[0mimage1\u001b[0m\u001b[0;34m)\u001b[0m\u001b[0;34m\u001b[0m\u001b[0;34m\u001b[0m\u001b[0m\n\u001b[0m",
      "\u001b[0;32m~/anaconda3/envs/UCANProject/lib/python3.11/site-packages/SimpleITK/SimpleITK.py\u001b[0m in \u001b[0;36m?\u001b[0;34m(self, image1)\u001b[0m\n\u001b[1;32m  50005\u001b[0m         \u001b[0mExecute\u001b[0m \u001b[0mthe\u001b[0m \u001b[0mfilter\u001b[0m \u001b[0mon\u001b[0m \u001b[0mthe\u001b[0m \u001b[0minput\u001b[0m \u001b[0mimage\u001b[0m\u001b[0;34m\u001b[0m\u001b[0;34m\u001b[0m\u001b[0m\n\u001b[1;32m  50006\u001b[0m \u001b[0;34m\u001b[0m\u001b[0m\n\u001b[1;32m  50007\u001b[0m \u001b[0;34m\u001b[0m\u001b[0m\n\u001b[1;32m  50008\u001b[0m         \"\"\"\n\u001b[0;32m> 50009\u001b[0;31m         \u001b[0;32mreturn\u001b[0m \u001b[0m_SimpleITK\u001b[0m\u001b[0;34m.\u001b[0m\u001b[0mResampleImageFilter_Execute\u001b[0m\u001b[0;34m(\u001b[0m\u001b[0mself\u001b[0m\u001b[0;34m,\u001b[0m \u001b[0mimage1\u001b[0m\u001b[0;34m)\u001b[0m\u001b[0;34m\u001b[0m\u001b[0;34m\u001b[0m\u001b[0m\n\u001b[0m",
      "\u001b[0;31mRuntimeError\u001b[0m: Exception thrown in SimpleITK ResampleImageFilter_Execute: /tmp/SimpleITK-build/ITK-prefix/include/ITK-5.3/itkImportImageContainer.hxx:191:\nFailed to allocate memory for image."
     ]
    }
   ],
   "source": [
    "dataset = pd.read_excel(\"/media/andres/T7 Shield/ucan_lymfom/Excel_files/06_11_2023/Final_Selected_exams_from_U-CAN-Lymfom.xlsx\")\n",
    "\n",
    "# distorted_file_to_check = \"/media/andres/T7 Shield/ucan_lymfom/ASPTCTX0001_npr207978513481-20190903/CT-20190903-122850-3.6_WB_FDG_CT_VENFAS-WB_Venfas_3_ax-0.976562mm\"\n",
    "# distorted_file_to_check = \"/media/andres/T7 Shield/ucan_lymfom/ASPTCTX0001_npr207978513481-20190903/CT-20190903-122850-3.6_WB_FDG_CT_VENFAS-WB_Venfas_3_ax-3.000000mm\"\n",
    "\n",
    "for file in dataset[\"directory\"]:\n",
    "    print(file)\n",
    "    reader = sitk.ImageSeriesReader()\n",
    "    dicom_names = reader.GetGDCMSeriesFileNames(file)\n",
    "    reader.SetFileNames(dicom_names)\n",
    "    vol_img = reader.Execute()\n",
    "    checkDistortedImg(vol_img=vol_img)"
   ]
  },
  {
   "cell_type": "code",
   "execution_count": 6,
   "metadata": {},
   "outputs": [
    {
     "ename": "NameError",
     "evalue": "name 'exception_lst' is not defined",
     "output_type": "error",
     "traceback": [
      "\u001b[0;31m---------------------------------------------------------------------------\u001b[0m",
      "\u001b[0;31mNameError\u001b[0m                                 Traceback (most recent call last)",
      "\u001b[1;32m/home/andres/VSCode/UCAN-PET-CT-image-data-handling-pipeline/test_for_distorted_images.ipynb Cell 4\u001b[0m line \u001b[0;36m1\n\u001b[0;32m----> <a href='vscode-notebook-cell:/home/andres/VSCode/UCAN-PET-CT-image-data-handling-pipeline/test_for_distorted_images.ipynb#W3sZmlsZQ%3D%3D?line=0'>1</a>\u001b[0m \u001b[39mprint\u001b[39m(exception_lst)\n\u001b[1;32m      <a href='vscode-notebook-cell:/home/andres/VSCode/UCAN-PET-CT-image-data-handling-pipeline/test_for_distorted_images.ipynb#W3sZmlsZQ%3D%3D?line=1'>2</a>\u001b[0m \u001b[39mlen\u001b[39m(exception_lst)\n",
      "\u001b[0;31mNameError\u001b[0m: name 'exception_lst' is not defined"
     ]
    }
   ],
   "source": [
    "print(exception_lst)\n",
    "len(exception_lst)"
   ]
  },
  {
   "cell_type": "code",
   "execution_count": null,
   "metadata": {},
   "outputs": [],
   "source": []
  },
  {
   "cell_type": "code",
   "execution_count": null,
   "metadata": {},
   "outputs": [],
   "source": [
    "source_path = \"/media/andres/T7 Shield/ucan_lymfom\"\n",
    "destination_path = os.path.join(source_path, \"metadata.xlsx\")\n",
    "\n",
    "directory_list = list()\n",
    "for root, dirs, files in os.walk(source_path, topdown=False):\n",
    "    for name in dirs:\n",
    "        directory_list.append(os.path.join(root, name))"
   ]
  },
  {
   "cell_type": "code",
   "execution_count": null,
   "metadata": {},
   "outputs": [],
   "source": [
    " dataset = pd.DataFrame(directory_list, columns=['directory'])\n",
    " countfiles_selected = {\"directory\": [], \"count\":[]}"
   ]
  },
  {
   "cell_type": "code",
   "execution_count": null,
   "metadata": {},
   "outputs": [],
   "source": [
    "for index, row in dataset.iterrows():\n",
    "    count = 0\n",
    "    for path in os.listdir(row[\"directory\"]):\n",
    "        if os.path.isfile(os.path.join(row[\"directory\"], path)):\n",
    "            count += 1\n",
    "            \n",
    "    countfiles_selected[\"directory\"].append(row[\"directory\"])\n",
    "    countfiles_selected[\"count\"].append(count)\n"
   ]
  },
  {
   "cell_type": "code",
   "execution_count": null,
   "metadata": {},
   "outputs": [],
   "source": [
    "countfiles_selected_df = pd.DataFrame.from_dict(countfiles_selected)\n",
    "exams_with_distorted_images_file = countfiles_selected_df[countfiles_selected_df[\"count\"] < 179].reset_index()\n",
    "print(f\"Number of exams with ones file: {exams_with_distorted_images_file.shape}\")\n",
    "exams_with_distorted_images_file.head(2)"
   ]
  },
  {
   "cell_type": "code",
   "execution_count": null,
   "metadata": {},
   "outputs": [],
   "source": [
    "    exams_with_distorted_images_file[['source_directory', 'patient_directory', 'PET-CT_info']] = exams_with_distorted_images_file['directory'].str.rsplit(pat='/', n=2, expand=True)\n",
    "    exams_with_distorted_images_file[\"patient_directory\"].nunique()"
   ]
  },
  {
   "cell_type": "code",
   "execution_count": null,
   "metadata": {},
   "outputs": [],
   "source": [
    "exams_with_distorted_images_file.to_excel(\"/media/andres/T7 Shield/ucan_lymfom/Excel_files/06_11_2023/exams_with_distorted_images_file.xlsx\")"
   ]
  },
  {
   "cell_type": "code",
   "execution_count": null,
   "metadata": {},
   "outputs": [],
   "source": [
    "dataset.shape"
   ]
  },
  {
   "cell_type": "code",
   "execution_count": null,
   "metadata": {},
   "outputs": [],
   "source": [
    "dataset = dataset[~dataset.directory.isin(exams_with_distorted_images_file.directory)]"
   ]
  },
  {
   "cell_type": "code",
   "execution_count": null,
   "metadata": {},
   "outputs": [],
   "source": [
    "dataset.shape"
   ]
  },
  {
   "cell_type": "code",
   "execution_count": null,
   "metadata": {},
   "outputs": [],
   "source": [
    "dataset.to_excel(\"/media/andres/T7 Shield/ucan_lymfom/Excel_files/06_11_2023/data_ready_for_filtering.xlsx\")"
   ]
  },
  {
   "cell_type": "code",
   "execution_count": null,
   "metadata": {},
   "outputs": [],
   "source": [
    "dataset_test = pd.read_excel(\"/media/andres/T7 Shield/ucan_lymfom/Excel_files/06_11_2023/data_ready_for_filtering.xlsx\")"
   ]
  },
  {
   "cell_type": "code",
   "execution_count": null,
   "metadata": {},
   "outputs": [],
   "source": [
    "type(dataset_test)"
   ]
  },
  {
   "cell_type": "code",
   "execution_count": null,
   "metadata": {},
   "outputs": [],
   "source": [
    "dataset_test.columns"
   ]
  },
  {
   "cell_type": "code",
   "execution_count": null,
   "metadata": {},
   "outputs": [],
   "source": []
  }
 ],
 "metadata": {
  "kernelspec": {
   "display_name": "UCANProject",
   "language": "python",
   "name": "python3"
  },
  "language_info": {
   "codemirror_mode": {
    "name": "ipython",
    "version": 3
   },
   "file_extension": ".py",
   "mimetype": "text/x-python",
   "name": "python",
   "nbconvert_exporter": "python",
   "pygments_lexer": "ipython3",
   "version": "3.11.5"
  }
 },
 "nbformat": 4,
 "nbformat_minor": 2
}
