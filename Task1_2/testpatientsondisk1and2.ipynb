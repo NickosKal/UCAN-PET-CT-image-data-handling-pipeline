{
 "cells": [
  {
   "cell_type": "code",
   "execution_count": 34,
   "metadata": {},
   "outputs": [],
   "source": [
    "import numpy as np\n",
    "import pandas as pd\n",
    "import os\n",
    "import sys"
   ]
  },
  {
   "cell_type": "code",
   "execution_count": 35,
   "metadata": {},
   "outputs": [],
   "source": [
    "parent_dir = os.path.abspath('..')\n",
    "if parent_dir not in sys.path:\n",
    "    sys.path.append(parent_dir)\n",
    "\n",
    "from Utils import utils"
   ]
  },
  {
   "cell_type": "code",
   "execution_count": 36,
   "metadata": {},
   "outputs": [
    {
     "data": {
      "text/plain": [
       "{'common': {'paths': {'source_path_wd': 'E:/U-CAN-Lymfom_A',\n",
       "   'source_path_bd': 'F:/ucan_lymfom'}},\n",
       " 'selection': {'filenames': {'rejected_folder_filename': 'Rejected_exams_from_U-CAN-Lymfom.xlsx',\n",
       "   'sourcefiltered_folder_filename': 'SourceFiltered_exams_from_U-CAN-Lymfom.xlsx',\n",
       "   'incomplete_folders_filename_initial': 'No_PTorCT_exams_from_U-CAN-Lymfom1.xlsx',\n",
       "   'incomplete_folders_filename_final': 'No_PTorCT_exams_from_U-CAN-Lymfom2.xlsx',\n",
       "   'selected_folders_beforefiltering_filename': 'Selected_exams_beforefiltering_from_U-CAN-Lymfom.xlsx',\n",
       "   'selected_folders_afterfiltering_filename': 'Selected_exams_afterfiltering_from_U-CAN-Lymfom.xlsx',\n",
       "   'final_selected_images_filename': 'FinalSelected_exams_from_U-CAN-Lymfom.xlsx',\n",
       "   'list_of_distorted_images_filename': 'Distorted_exams_from_U-CAN-Lymfom.xlsx'}},\n",
       " 'metadata': {'filenames': {'final_selected_images_filename': 'Finalized_dataset.xlsx'}},\n",
       " 'resampling': {'voxel_spacing': [2, 2, 3], 'image_size': [256, 256, 384]},\n",
       " 'projections': {'paths': {'destination_path': 'Selected_for_UCAN_project/2dprojections'},\n",
       "  'variables': {'modality': ['CT', 'PET', 'SUV'],\n",
       "   'tissue_type': ['LT', 'AT', 'LT', 'B', 'N'],\n",
       "   'projection_type': ['sum', 'min', 'max', 'mean', 'std']}}}"
      ]
     },
     "execution_count": 36,
     "metadata": {},
     "output_type": "execute_result"
    }
   ],
   "source": [
    "config = utils.read_config()\n",
    "config"
   ]
  },
  {
   "cell_type": "code",
   "execution_count": 38,
   "metadata": {},
   "outputs": [],
   "source": [
    "#source_path_wd = \"/media/andres/T7 Shield1/U-CAN-Lymfom_A/Selected_for_UCAN_project\"\n",
    "#source_path_bd = \"/media/andres/T7 Shield/ucan_lymfom\"\n",
    "\n",
    "source_path_wd = config['common']['paths']['source_path_wd']\n",
    "source_path_bd = config['common']['paths']['source_path_bd']\n",
    "\n",
    "master_data_wd_filename = config['metadata']['filenames']['final_selected_images_filename']\n",
    "master_data_bd_filename = config['metadata']['filenames']['final_selected_images_filename']\n"
   ]
  },
  {
   "cell_type": "code",
   "execution_count": 39,
   "metadata": {},
   "outputs": [],
   "source": [
    "rejected_folder_filename = config['selection']['filenames']['rejected_folder_filename']\n",
    "sourcefiltered_folder_filename = config['selection']['filenames']['sourcefiltered_folder_filename']\n",
    "incomplete_folders_filename_initial = config['selection']['filenames']['incomplete_folders_filename_initial']\n",
    "incomplete_folders_filename_final = config['selection']['filenames']['incomplete_folders_filename_final']\n",
    "selected_folders_beforefiltering_filename = config['selection']['filenames']['selected_folders_beforefiltering_filename']\n",
    "selected_folders_afterfiltering_filename = config['selection']['filenames']['selected_folders_afterfiltering_filename']\n",
    "final_selected_images_filename = config['selection']['filenames']['final_selected_images_filename']\n",
    "list_of_distorted_images_filename = config['selection']['filenames']['list_of_distorted_images_filename']"
   ]
  },
  {
   "cell_type": "code",
   "execution_count": 40,
   "metadata": {},
   "outputs": [],
   "source": [
    "# Path for files on white disk - 1st dateset\n",
    "\n",
    "rejected_folder_path_wd = os.path.join(source_path_wd, rejected_folder_filename)\n",
    "sourcefiltered_folder_path_wd = os.path.join(source_path_wd, sourcefiltered_folder_filename)\n",
    "incomplete_folders_path1_wd = os.path.join(source_path_wd, incomplete_folders_filename_initial)\n",
    "incomplete_folders_path2_wd = os.path.join(source_path_wd, incomplete_folders_filename_final)\n",
    "selected_folders_beforefiltering_wd = os.path.join(source_path_wd, selected_folders_beforefiltering_filename)\n",
    "selected_folders_afterfiltering_wd = os.path.join(source_path_wd, selected_folders_afterfiltering_filename)\n",
    "final_selected_folders_wd = os.path.join(source_path_wd, final_selected_images_filename)\n",
    "list_of_distorted_images_wd = os.path.join(source_path_wd, list_of_distorted_images_filename)\n",
    "\n",
    "# Path for files on black disk - 2nd dataset\n",
    "\n",
    "rejected_folder_path_bd = os.path.join(source_path_bd, rejected_folder_filename)\n",
    "sourcefiltered_folder_path_bd = os.path.join(source_path_bd, sourcefiltered_folder_filename)\n",
    "incomplete_folders_path1_bd = os.path.join(source_path_bd, incomplete_folders_filename_initial)\n",
    "incomplete_folders_path2_bd = os.path.join(source_path_bd, incomplete_folders_filename_final)\n",
    "selected_folders_beforefiltering_bd = os.path.join(source_path_bd, selected_folders_beforefiltering_filename)\n",
    "selected_folders_afterfiltering_bd = os.path.join(source_path_bd, selected_folders_afterfiltering_filename)\n",
    "final_selected_folders_bd = os.path.join(source_path_bd, final_selected_images_filename)\n",
    "list_of_distorted_images_bd = os.path.join(source_path_bd, list_of_distorted_images_filename)"
   ]
  },
  {
   "cell_type": "code",
   "execution_count": 47,
   "metadata": {},
   "outputs": [
    {
     "name": "stdout",
     "output_type": "stream",
     "text": [
      "Reading master data for white disk\n",
      "(1340, 45)\n"
     ]
    },
    {
     "data": {
      "text/html": [
       "<div>\n",
       "<style scoped>\n",
       "    .dataframe tbody tr th:only-of-type {\n",
       "        vertical-align: middle;\n",
       "    }\n",
       "\n",
       "    .dataframe tbody tr th {\n",
       "        vertical-align: top;\n",
       "    }\n",
       "\n",
       "    .dataframe thead th {\n",
       "        text-align: right;\n",
       "    }\n",
       "</style>\n",
       "<table border=\"1\" class=\"dataframe\">\n",
       "  <thead>\n",
       "    <tr style=\"text-align: right;\">\n",
       "      <th></th>\n",
       "      <th>Unnamed: 0</th>\n",
       "      <th>Unnamed: 0_x</th>\n",
       "      <th>directory</th>\n",
       "      <th>source_directory</th>\n",
       "      <th>patient_directory</th>\n",
       "      <th>PET-CT_info</th>\n",
       "      <th>system</th>\n",
       "      <th>npr</th>\n",
       "      <th>scan_date</th>\n",
       "      <th>Unnamed: 0_y</th>\n",
       "      <th>...</th>\n",
       "      <th>modality</th>\n",
       "      <th>manufacturer</th>\n",
       "      <th>manufacturer_model</th>\n",
       "      <th>radiopharmaceutical</th>\n",
       "      <th>radiopharmaceutical_volume</th>\n",
       "      <th>radiopharmaceutical_start_time</th>\n",
       "      <th>radionuclide_total_dose</th>\n",
       "      <th>radionuclide_half_life</th>\n",
       "      <th>radionuclide_positron_fraction</th>\n",
       "      <th>radiopharmaceutical_start_date_time</th>\n",
       "    </tr>\n",
       "  </thead>\n",
       "  <tbody>\n",
       "    <tr>\n",
       "      <th>0</th>\n",
       "      <td>0</td>\n",
       "      <td>1319</td>\n",
       "      <td>/media/andres/T7 Shield/U-CAN-Lymfom_A/Raw_DCM...</td>\n",
       "      <td>/media/andres/T7 Shield/U-CAN-Lymfom_A/Raw_DCM...</td>\n",
       "      <td>ASPTCTX0001_npr100169878450-20130412</td>\n",
       "      <td>CT-20130412-103438-6.1-UAS-WB-FDG-3D-STANDARD-...</td>\n",
       "      <td>ASPTCTX0001</td>\n",
       "      <td>npr100169878450</td>\n",
       "      <td>20130412</td>\n",
       "      <td>5717</td>\n",
       "      <td>...</td>\n",
       "      <td>CT</td>\n",
       "      <td>'GE MEDICAL SYSTEMS'</td>\n",
       "      <td>'Discovery STE'</td>\n",
       "      <td>NaN</td>\n",
       "      <td>NaN</td>\n",
       "      <td>NaN</td>\n",
       "      <td>NaN</td>\n",
       "      <td>NaN</td>\n",
       "      <td>NaN</td>\n",
       "      <td>NaN</td>\n",
       "    </tr>\n",
       "    <tr>\n",
       "      <th>1</th>\n",
       "      <td>1</td>\n",
       "      <td>1318</td>\n",
       "      <td>/media/andres/T7 Shield/U-CAN-Lymfom_A/Raw_DCM...</td>\n",
       "      <td>/media/andres/T7 Shield/U-CAN-Lymfom_A/Raw_DCM...</td>\n",
       "      <td>ASPTCTX0001_npr100169878450-20130412</td>\n",
       "      <td>PT-20130412-103617-UAS-WB-FDG-3D-UAS-WB-FDG-3D...</td>\n",
       "      <td>ASPTCTX0001</td>\n",
       "      <td>npr100169878450</td>\n",
       "      <td>20130412</td>\n",
       "      <td>5718</td>\n",
       "      <td>...</td>\n",
       "      <td>PT</td>\n",
       "      <td>'GE MEDICAL SYSTEMS'</td>\n",
       "      <td>'Discovery STE'</td>\n",
       "      <td>'FDG -- fluorodeoxyglucose'</td>\n",
       "      <td>'0.0'</td>\n",
       "      <td>'093300.00'</td>\n",
       "      <td>'347633344.0'</td>\n",
       "      <td>'6588.0'</td>\n",
       "      <td>'0.97000002861023'</td>\n",
       "      <td>'20130412093300.00'</td>\n",
       "    </tr>\n",
       "  </tbody>\n",
       "</table>\n",
       "<p>2 rows × 45 columns</p>\n",
       "</div>"
      ],
      "text/plain": [
       "   Unnamed: 0  Unnamed: 0_x  \\\n",
       "0           0          1319   \n",
       "1           1          1318   \n",
       "\n",
       "                                           directory  \\\n",
       "0  /media/andres/T7 Shield/U-CAN-Lymfom_A/Raw_DCM...   \n",
       "1  /media/andres/T7 Shield/U-CAN-Lymfom_A/Raw_DCM...   \n",
       "\n",
       "                                    source_directory  \\\n",
       "0  /media/andres/T7 Shield/U-CAN-Lymfom_A/Raw_DCM...   \n",
       "1  /media/andres/T7 Shield/U-CAN-Lymfom_A/Raw_DCM...   \n",
       "\n",
       "                      patient_directory  \\\n",
       "0  ASPTCTX0001_npr100169878450-20130412   \n",
       "1  ASPTCTX0001_npr100169878450-20130412   \n",
       "\n",
       "                                         PET-CT_info       system  \\\n",
       "0  CT-20130412-103438-6.1-UAS-WB-FDG-3D-STANDARD-...  ASPTCTX0001   \n",
       "1  PT-20130412-103617-UAS-WB-FDG-3D-UAS-WB-FDG-3D...  ASPTCTX0001   \n",
       "\n",
       "               npr scan_date  Unnamed: 0_y  ... modality  \\\n",
       "0  npr100169878450  20130412          5717  ...       CT   \n",
       "1  npr100169878450  20130412          5718  ...       PT   \n",
       "\n",
       "            manufacturer  manufacturer_model           radiopharmaceutical  \\\n",
       "0   'GE MEDICAL SYSTEMS'     'Discovery STE'                           NaN   \n",
       "1   'GE MEDICAL SYSTEMS'     'Discovery STE'   'FDG -- fluorodeoxyglucose'   \n",
       "\n",
       "  radiopharmaceutical_volume  radiopharmaceutical_start_time  \\\n",
       "0                        NaN                             NaN   \n",
       "1                      '0.0'                     '093300.00'   \n",
       "\n",
       "   radionuclide_total_dose  radionuclide_half_life  \\\n",
       "0                      NaN                     NaN   \n",
       "1            '347633344.0'                '6588.0'   \n",
       "\n",
       "   radionuclide_positron_fraction  radiopharmaceutical_start_date_time  \n",
       "0                             NaN                                  NaN  \n",
       "1              '0.97000002861023'                  '20130412093300.00'  \n",
       "\n",
       "[2 rows x 45 columns]"
      ]
     },
     "execution_count": 47,
     "metadata": {},
     "output_type": "execute_result"
    }
   ],
   "source": [
    "# master_data for white disk\n",
    "print(\"Reading master data for white disk\")\n",
    "master_data_wd = pd.read_excel(os.path.join(source_path_wd, master_data_bd_filename))\n",
    "#master_data_wd[['system', 'npr', 'scan_date']]= master_data_wd['patient_directory'].str.split(pat='_|-', n=2, expand=True)\n",
    "print(master_data_wd.shape)\n",
    "master_data_wd.head(2)"
   ]
  },
  {
   "cell_type": "code",
   "execution_count": 56,
   "metadata": {},
   "outputs": [
    {
     "name": "stdout",
     "output_type": "stream",
     "text": [
      "Reading master data for black disk\n",
      "(2264, 45)\n"
     ]
    },
    {
     "data": {
      "text/html": [
       "<div>\n",
       "<style scoped>\n",
       "    .dataframe tbody tr th:only-of-type {\n",
       "        vertical-align: middle;\n",
       "    }\n",
       "\n",
       "    .dataframe tbody tr th {\n",
       "        vertical-align: top;\n",
       "    }\n",
       "\n",
       "    .dataframe thead th {\n",
       "        text-align: right;\n",
       "    }\n",
       "</style>\n",
       "<table border=\"1\" class=\"dataframe\">\n",
       "  <thead>\n",
       "    <tr style=\"text-align: right;\">\n",
       "      <th></th>\n",
       "      <th>Unnamed: 0</th>\n",
       "      <th>Unnamed: 0_x</th>\n",
       "      <th>directory</th>\n",
       "      <th>source_directory</th>\n",
       "      <th>patient_directory</th>\n",
       "      <th>PET-CT_info</th>\n",
       "      <th>system</th>\n",
       "      <th>npr</th>\n",
       "      <th>scan_date</th>\n",
       "      <th>Unnamed: 0_y</th>\n",
       "      <th>...</th>\n",
       "      <th>modality</th>\n",
       "      <th>manufacturer</th>\n",
       "      <th>manufacturer_model</th>\n",
       "      <th>radiopharmaceutical</th>\n",
       "      <th>radiopharmaceutical_volume</th>\n",
       "      <th>radiopharmaceutical_start_time</th>\n",
       "      <th>radionuclide_total_dose</th>\n",
       "      <th>radionuclide_half_life</th>\n",
       "      <th>radionuclide_positron_fraction</th>\n",
       "      <th>radiopharmaceutical_start_date_time</th>\n",
       "    </tr>\n",
       "  </thead>\n",
       "  <tbody>\n",
       "    <tr>\n",
       "      <th>0</th>\n",
       "      <td>0</td>\n",
       "      <td>2096</td>\n",
       "      <td>F:/ucan_lymfom/ASPTCTX0001_lpr385705046400-201...</td>\n",
       "      <td>F:/ucan_lymfom</td>\n",
       "      <td>ASPTCTX0001_lpr385705046400-20140313</td>\n",
       "      <td>CT-20140313-152551-6.1_UAS-WB-FDG-3D-STANDARD_...</td>\n",
       "      <td>ASPTCTX0001</td>\n",
       "      <td>lpr385705046400</td>\n",
       "      <td>20140313</td>\n",
       "      <td>13743</td>\n",
       "      <td>...</td>\n",
       "      <td>CT</td>\n",
       "      <td>'GE MEDICAL SYSTEMS'</td>\n",
       "      <td>'Discovery STE'</td>\n",
       "      <td>NaN</td>\n",
       "      <td>NaN</td>\n",
       "      <td>NaN</td>\n",
       "      <td>NaN</td>\n",
       "      <td>NaN</td>\n",
       "      <td>NaN</td>\n",
       "      <td>NaN</td>\n",
       "    </tr>\n",
       "    <tr>\n",
       "      <th>1</th>\n",
       "      <td>1</td>\n",
       "      <td>2095</td>\n",
       "      <td>F:/ucan_lymfom/ASPTCTX0001_lpr385705046400-201...</td>\n",
       "      <td>F:/ucan_lymfom</td>\n",
       "      <td>ASPTCTX0001_lpr385705046400-20140313</td>\n",
       "      <td>PT-20140313-152728-UAS-WB-FDG-3D-UAS-WB-FDG-3D...</td>\n",
       "      <td>ASPTCTX0001</td>\n",
       "      <td>lpr385705046400</td>\n",
       "      <td>20140313</td>\n",
       "      <td>13745</td>\n",
       "      <td>...</td>\n",
       "      <td>PT</td>\n",
       "      <td>'GE MEDICAL SYSTEMS'</td>\n",
       "      <td>'Discovery STE'</td>\n",
       "      <td>'FDG -- fluorodeoxyglucose'</td>\n",
       "      <td>'0.0'</td>\n",
       "      <td>'141400.00'</td>\n",
       "      <td>'259344912.0'</td>\n",
       "      <td>'6588.0'</td>\n",
       "      <td>'0.97000002861023'</td>\n",
       "      <td>'20140313141400.00'</td>\n",
       "    </tr>\n",
       "  </tbody>\n",
       "</table>\n",
       "<p>2 rows × 45 columns</p>\n",
       "</div>"
      ],
      "text/plain": [
       "   Unnamed: 0  Unnamed: 0_x  \\\n",
       "0           0          2096   \n",
       "1           1          2095   \n",
       "\n",
       "                                           directory source_directory  \\\n",
       "0  F:/ucan_lymfom/ASPTCTX0001_lpr385705046400-201...   F:/ucan_lymfom   \n",
       "1  F:/ucan_lymfom/ASPTCTX0001_lpr385705046400-201...   F:/ucan_lymfom   \n",
       "\n",
       "                      patient_directory  \\\n",
       "0  ASPTCTX0001_lpr385705046400-20140313   \n",
       "1  ASPTCTX0001_lpr385705046400-20140313   \n",
       "\n",
       "                                         PET-CT_info       system  \\\n",
       "0  CT-20140313-152551-6.1_UAS-WB-FDG-3D-STANDARD_...  ASPTCTX0001   \n",
       "1  PT-20140313-152728-UAS-WB-FDG-3D-UAS-WB-FDG-3D...  ASPTCTX0001   \n",
       "\n",
       "               npr  scan_date  Unnamed: 0_y  ... modality  \\\n",
       "0  lpr385705046400   20140313         13743  ...       CT   \n",
       "1  lpr385705046400   20140313         13745  ...       PT   \n",
       "\n",
       "            manufacturer  manufacturer_model           radiopharmaceutical  \\\n",
       "0   'GE MEDICAL SYSTEMS'     'Discovery STE'                           NaN   \n",
       "1   'GE MEDICAL SYSTEMS'     'Discovery STE'   'FDG -- fluorodeoxyglucose'   \n",
       "\n",
       "  radiopharmaceutical_volume  radiopharmaceutical_start_time  \\\n",
       "0                        NaN                             NaN   \n",
       "1                      '0.0'                     '141400.00'   \n",
       "\n",
       "   radionuclide_total_dose  radionuclide_half_life  \\\n",
       "0                      NaN                     NaN   \n",
       "1            '259344912.0'                '6588.0'   \n",
       "\n",
       "   radionuclide_positron_fraction  radiopharmaceutical_start_date_time  \n",
       "0                             NaN                                  NaN  \n",
       "1              '0.97000002861023'                  '20140313141400.00'  \n",
       "\n",
       "[2 rows x 45 columns]"
      ]
     },
     "execution_count": 56,
     "metadata": {},
     "output_type": "execute_result"
    }
   ],
   "source": [
    "# master_data for white disk\n",
    "print(\"Reading master data for black disk\")\n",
    "master_data_bd = pd.read_excel(os.path.join(source_path_bd, master_data_wd_filename))\n",
    "#master_data_wd[['system', 'npr', 'scan_date']]= master_data_wd['patient_directory'].str.split(pat='_|-', n=2, expand=True)\n",
    "print(master_data_bd.shape)\n",
    "\n",
    "master_data_bd.head(2)"
   ]
  },
  {
   "cell_type": "code",
   "execution_count": 57,
   "metadata": {},
   "outputs": [
    {
     "name": "stdout",
     "output_type": "stream",
     "text": [
      "Number of patients in white disk:  463\n",
      "Number of exams in white disk:  668\n",
      "\n",
      "Number of patients  in black disk:  758\n",
      "Number of exams  in black disk:  1132\n"
     ]
    }
   ],
   "source": [
    "#680 number of Lyphoma patients from Uppsala\n",
    "#2047 number of exams network disk\n",
    "\n",
    "print(\"Number of patients in white disk: \", master_data_wd.npr.nunique())\n",
    "print(\"Number of exams in white disk: \", master_data_wd.patient_directory.nunique())\n",
    "\n",
    "print(\"\\nNumber of patients  in black disk: \", master_data_bd.npr.nunique())\n",
    "print(\"Number of exams  in black disk: \", master_data_bd.patient_directory.nunique())"
   ]
  },
  {
   "cell_type": "markdown",
   "metadata": {},
   "source": [
    "##### Check patients on both disk"
   ]
  },
  {
   "cell_type": "code",
   "execution_count": 58,
   "metadata": {},
   "outputs": [
    {
     "data": {
      "text/plain": [
       "['ASPTCTX0001_npr100169878450-20130412',\n",
       " 'ASPTCTX0001_npr100169878450-20130412']"
      ]
     },
     "execution_count": 58,
     "metadata": {},
     "output_type": "execute_result"
    }
   ],
   "source": [
    "patient_list_wd = [item[:36] for item in master_data_wd.patient_directory.to_list()]\n",
    "patient_list_wd[:2]"
   ]
  },
  {
   "cell_type": "code",
   "execution_count": 59,
   "metadata": {},
   "outputs": [
    {
     "data": {
      "text/plain": [
       "['ASPTCTX0001_lpr385705046400-20140313',\n",
       " 'ASPTCTX0001_lpr385705046400-20140313']"
      ]
     },
     "execution_count": 59,
     "metadata": {},
     "output_type": "execute_result"
    }
   ],
   "source": [
    "patient_list_bd = master_data_bd.patient_directory.to_list()\n",
    "patient_list_bd[:2]"
   ]
  },
  {
   "cell_type": "code",
   "execution_count": 60,
   "metadata": {},
   "outputs": [
    {
     "name": "stdout",
     "output_type": "stream",
     "text": [
      "209\n"
     ]
    },
    {
     "data": {
      "text/plain": [
       "{'ASPTCTX0001_npr100222372477-20171207',\n",
       " 'ASPTCTX0001_npr116163692968-20201229',\n",
       " 'ASPTCTX0001_npr134631340866-20180413',\n",
       " 'ASPTCTX0001_npr134631340866-20200204',\n",
       " 'ASPTCTX0001_npr138028683671-20200211',\n",
       " 'ASPTCTX0001_npr143944474227-20210119',\n",
       " 'ASPTCTX0001_npr159135068459-20200604',\n",
       " 'ASPTCTX0001_npr182109034431-20160603',\n",
       " 'ASPTCTX0001_npr183027863262-20180507',\n",
       " 'ASPTCTX0001_npr183406378492-20220223',\n",
       " 'ASPTCTX0001_npr184555245175-20160919',\n",
       " 'ASPTCTX0001_npr184555245175-20170307',\n",
       " 'ASPTCTX0001_npr184555245175-20191219',\n",
       " 'ASPTCTX0001_npr190483255078-20210203',\n",
       " 'ASPTCTX0001_npr196454688576-20141201',\n",
       " 'ASPTCTX0001_npr212313157683-20180518',\n",
       " 'ASPTCTX0001_npr216632833659-20200703',\n",
       " 'ASPTCTX0001_npr218702301637-20170320',\n",
       " 'ASPTCTX0001_npr218702301637-20170607',\n",
       " 'ASPTCTX0001_npr218702301637-20220126',\n",
       " 'ASPTCTX0001_npr235266377960-20140807',\n",
       " 'ASPTCTX0001_npr252097509348-20170224',\n",
       " 'ASPTCTX0001_npr252097509348-20190111',\n",
       " 'ASPTCTX0001_npr252097509348-20200804',\n",
       " 'ASPTCTX0001_npr252097509348-20210209',\n",
       " 'ASPTCTX0001_npr252097509348-20210518',\n",
       " 'ASPTCTX0001_npr262010567826-20190506',\n",
       " 'ASPTCTX0001_npr265277959143-20200227',\n",
       " 'ASPTCTX0001_npr278246103744-20200910',\n",
       " 'ASPTCTX0001_npr279927686045-20200421',\n",
       " 'ASPTCTX0001_npr287350344645-20180914',\n",
       " 'ASPTCTX0001_npr293454605342-20151210',\n",
       " 'ASPTCTX0001_npr298700713320-20181215',\n",
       " 'ASPTCTX0001_npr306971302200-20200212',\n",
       " 'ASPTCTX0001_npr312833307758-20190912',\n",
       " 'ASPTCTX0001_npr313487762868-20170308',\n",
       " 'ASPTCTX0001_npr314033739598-20161118',\n",
       " 'ASPTCTX0001_npr316356805516-20170714',\n",
       " 'ASPTCTX0001_npr319068653243-20191002',\n",
       " 'ASPTCTX0001_npr330614741709-20170210',\n",
       " 'ASPTCTX0001_npr333078362324-20210507',\n",
       " 'ASPTCTX0001_npr333333959458-20190919',\n",
       " 'ASPTCTX0001_npr333333959458-20200311',\n",
       " 'ASPTCTX0001_npr333333959458-20211217',\n",
       " 'ASPTCTX0001_npr341699777979-20220408',\n",
       " 'ASPTCTX0001_npr349552492905-20220727',\n",
       " 'ASPTCTX0001_npr349596869434-20181218',\n",
       " 'ASPTCTX0001_npr353131040011-20200728',\n",
       " 'ASPTCTX0001_npr355871894759-20211028',\n",
       " 'ASPTCTX0001_npr367052505378-20151016',\n",
       " 'ASPTCTX0001_npr367052505378-20160217',\n",
       " 'ASPTCTX0001_npr373471112080-20151211',\n",
       " 'ASPTCTX0001_npr374571111556-20211227',\n",
       " 'ASPTCTX0001_npr374571111556-20220609',\n",
       " 'ASPTCTX0001_npr374956139347-20210813',\n",
       " 'ASPTCTX0001_npr375870041895-20180915',\n",
       " 'ASPTCTX0001_npr377574639447-20160216',\n",
       " 'ASPTCTX0001_npr377574639447-20180124',\n",
       " 'ASPTCTX0001_npr379405041250-20161103',\n",
       " 'ASPTCTX0001_npr382421460907-20210401',\n",
       " 'ASPTCTX0001_npr385465054891-20210615',\n",
       " 'ASPTCTX0001_npr404220659516-20180926',\n",
       " 'ASPTCTX0001_npr404220659516-20210210',\n",
       " 'ASPTCTX0001_npr404220659516-20210716',\n",
       " 'ASPTCTX0001_npr405587421589-20180616',\n",
       " 'ASPTCTX0001_npr408341075847-20200508',\n",
       " 'ASPTCTX0001_npr414939407525-20150429',\n",
       " 'ASPTCTX0001_npr421064151804-20200318',\n",
       " 'ASPTCTX0001_npr426817495607-20140520',\n",
       " 'ASPTCTX0001_npr442530322090-20210622',\n",
       " 'ASPTCTX0001_npr444859213901-20180802',\n",
       " 'ASPTCTX0001_npr445809986838-20190902',\n",
       " 'ASPTCTX0001_npr450763442898-20190509',\n",
       " 'ASPTCTX0001_npr451910381309-20191127',\n",
       " 'ASPTCTX0001_npr454843314969-20180424',\n",
       " 'ASPTCTX0001_npr457216565965-20160811',\n",
       " 'ASPTCTX0001_npr460435756152-20171024',\n",
       " 'ASPTCTX0001_npr460860706336-20150306',\n",
       " 'ASPTCTX0001_npr463338594907-20220209',\n",
       " 'ASPTCTX0001_npr478043986346-20190924',\n",
       " 'ASPTCTX0001_npr479070220986-20200924',\n",
       " 'ASPTCTX0001_npr485918232733-20201126',\n",
       " 'ASPTCTX0001_npr487467122228-20210810',\n",
       " 'ASPTCTX0001_npr490027250002-20100818',\n",
       " 'ASPTCTX0001_npr490682074162-20181012',\n",
       " 'ASPTCTX0001_npr490682074162-20200902',\n",
       " 'ASPTCTX0001_npr490682074162-20210820',\n",
       " 'ASPTCTX0001_npr490682074162-20220524',\n",
       " 'ASPTCTX0001_npr504675275456-20180228',\n",
       " 'ASPTCTX0001_npr505424351652-20170123',\n",
       " 'ASPTCTX0001_npr505453512659-20150428',\n",
       " 'ASPTCTX0001_npr505453512659-20160329',\n",
       " 'ASPTCTX0001_npr505453512659-20170413',\n",
       " 'ASPTCTX0001_npr511728478769-20180119',\n",
       " 'ASPTCTX0001_npr518001875139-20211118',\n",
       " 'ASPTCTX0001_npr526794682703-20211220',\n",
       " 'ASPTCTX0001_npr530972152550-20191009',\n",
       " 'ASPTCTX0001_npr554801406300-20211115',\n",
       " 'ASPTCTX0001_npr556496837355-20190723',\n",
       " 'ASPTCTX0001_npr556889533448-20210802',\n",
       " 'ASPTCTX0001_npr563972425648-20181116',\n",
       " 'ASPTCTX0001_npr569384361093-20170906',\n",
       " 'ASPTCTX0001_npr571324714825-20161206',\n",
       " 'ASPTCTX0001_npr575584064911-20200609',\n",
       " 'ASPTCTX0001_npr583145957054-20151007',\n",
       " 'ASPTCTX0001_npr583145957054-20170524',\n",
       " 'ASPTCTX0001_npr589653165244-20150518',\n",
       " 'ASPTCTX0001_npr592072954317-20220114',\n",
       " 'ASPTCTX0001_npr595953029215-20210602',\n",
       " 'ASPTCTX0001_npr599489809085-20171121',\n",
       " 'ASPTCTX0001_npr599489809085-20180801',\n",
       " 'ASPTCTX0001_npr602212466410-20210413',\n",
       " 'ASPTCTX0001_npr604625246955-20190117',\n",
       " 'ASPTCTX0001_npr618348821866-20210824',\n",
       " 'ASPTCTX0001_npr623777772010-20210324',\n",
       " 'ASPTCTX0001_npr631449974234-20220324',\n",
       " 'ASPTCTX0001_npr632018523599-20190409',\n",
       " 'ASPTCTX0001_npr632812817288-20170529',\n",
       " 'ASPTCTX0001_npr634768151181-20210610',\n",
       " 'ASPTCTX0001_npr636801981780-20180109',\n",
       " 'ASPTCTX0001_npr640031899533-20181002',\n",
       " 'ASPTCTX0001_npr642326741392-20190406',\n",
       " 'ASPTCTX0001_npr642326741392-20210129',\n",
       " 'ASPTCTX0001_npr642326741392-20220510',\n",
       " 'ASPTCTX0001_npr646349001119-20191004',\n",
       " 'ASPTCTX0001_npr648969352384-20160318',\n",
       " 'ASPTCTX0001_npr652851209495-20170321',\n",
       " 'ASPTCTX0001_npr652851209495-20171213',\n",
       " 'ASPTCTX0001_npr652851209495-20190130',\n",
       " 'ASPTCTX0001_npr652851209495-20220224',\n",
       " 'ASPTCTX0001_npr666173543285-20140922',\n",
       " 'ASPTCTX0001_npr666173543285-20181109',\n",
       " 'ASPTCTX0001_npr666484449746-20150901',\n",
       " 'ASPTCTX0001_npr669061050364-20180221',\n",
       " 'ASPTCTX0001_npr675361759044-20220721',\n",
       " 'ASPTCTX0001_npr678348115123-20210902',\n",
       " 'ASPTCTX0001_npr679283150260-20160425',\n",
       " 'ASPTCTX0001_npr683923698459-20210121',\n",
       " 'ASPTCTX0001_npr685149760967-20170203',\n",
       " 'ASPTCTX0001_npr692109775749-20220127',\n",
       " 'ASPTCTX0001_npr694521879216-20180718',\n",
       " 'ASPTCTX0001_npr701047368478-20151103',\n",
       " 'ASPTCTX0001_npr702562960492-20160201',\n",
       " 'ASPTCTX0001_npr706917612732-20200417',\n",
       " 'ASPTCTX0001_npr711322681344-20160419',\n",
       " 'ASPTCTX0001_npr717178109733-20190808',\n",
       " 'ASPTCTX0001_npr720339767394-20220110',\n",
       " 'ASPTCTX0001_npr735028517794-20180928',\n",
       " 'ASPTCTX0001_npr738871065625-20170310',\n",
       " 'ASPTCTX0001_npr748236341307-20210915',\n",
       " 'ASPTCTX0001_npr767657882122-20211203',\n",
       " 'ASPTCTX0001_npr768428291369-20170803',\n",
       " 'ASPTCTX0001_npr777311700291-20220317',\n",
       " 'ASPTCTX0001_npr785638537821-20170228',\n",
       " 'ASPTCTX0001_npr786959615822-20151202',\n",
       " 'ASPTCTX0001_npr788309965971-20180320',\n",
       " 'ASPTCTX0001_npr788549812928-20200826',\n",
       " 'ASPTCTX0001_npr791408621040-20160525',\n",
       " 'ASPTCTX0001_npr792868968929-20191023',\n",
       " 'ASPTCTX0001_npr793882566109-20201014',\n",
       " 'ASPTCTX0001_npr794890470947-20170831',\n",
       " 'ASPTCTX0001_npr808216600942-20171006',\n",
       " 'ASPTCTX0001_npr808216600942-20180328',\n",
       " 'ASPTCTX0001_npr809610189287-20190610',\n",
       " 'ASPTCTX0001_npr810027539654-20211019',\n",
       " 'ASPTCTX0001_npr813468597065-20200828',\n",
       " 'ASPTCTX0001_npr826756003305-20220810',\n",
       " 'ASPTCTX0001_npr833769881976-20180414',\n",
       " 'ASPTCTX0001_npr837247319358-20200331',\n",
       " 'ASPTCTX0001_npr843481527629-20211029',\n",
       " 'ASPTCTX0001_npr844961369987-20200602',\n",
       " 'ASPTCTX0001_npr850289645644-20190911',\n",
       " 'ASPTCTX0001_npr850325859942-20200715',\n",
       " 'ASPTCTX0001_npr853127186850-20220330',\n",
       " 'ASPTCTX0001_npr860931257579-20180110',\n",
       " 'ASPTCTX0001_npr861273880728-20190426',\n",
       " 'ASPTCTX0001_npr861956754620-20220421',\n",
       " 'ASPTCTX0001_npr862781365317-20180219',\n",
       " 'ASPTCTX0001_npr865893970178-20170425',\n",
       " 'ASPTCTX0001_npr870317788152-20160202',\n",
       " 'ASPTCTX0001_npr875628571317-20180727',\n",
       " 'ASPTCTX0001_npr877094387500-20200430',\n",
       " 'ASPTCTX0001_npr879319356697-20210217',\n",
       " 'ASPTCTX0001_npr884176295970-20170619',\n",
       " 'ASPTCTX0001_npr890623930697-20210107',\n",
       " 'ASPTCTX0001_npr897251392030-20190613',\n",
       " 'ASPTCTX0001_npr901966028778-20190807',\n",
       " 'ASPTCTX0001_npr904223941417-20190515',\n",
       " 'ASPTCTX0001_npr909503892933-20190121',\n",
       " 'ASPTCTX0001_npr910734265843-20220210',\n",
       " 'ASPTCTX0001_npr911860985824-20180308',\n",
       " 'ASPTCTX0001_npr911860985824-20210630',\n",
       " 'ASPTCTX0001_npr913234492609-20160818',\n",
       " 'ASPTCTX0001_npr914848677550-20160607',\n",
       " 'ASPTCTX0001_npr937959980599-20161006',\n",
       " 'ASPTCTX0001_npr937959980599-20170221',\n",
       " 'ASPTCTX0001_npr937959980599-20170929',\n",
       " 'ASPTCTX0001_npr941333664920-20170519',\n",
       " 'ASPTCTX0001_npr941474905628-20220525',\n",
       " 'ASPTCTX0001_npr964996454487-20210909',\n",
       " 'ASPTCTX0001_npr965491876506-20160627',\n",
       " 'ASPTCTX0001_npr971174528422-20220404',\n",
       " 'ASPTCTX0001_npr971371032055-20181204',\n",
       " 'ASPTCTX0001_npr984449190795-20190704',\n",
       " 'ASPTCTX0001_npr984449190795-20220513',\n",
       " 'ASPTCTX0001_npr984615381610-20211013',\n",
       " 'ASPTCTX0001_npr985723170435-20170706',\n",
       " 'ASPTCTX0001_npr991811682588-20160804',\n",
       " 'ASPTCTX0001_npr992367836483-20181031'}"
      ]
     },
     "execution_count": 60,
     "metadata": {},
     "output_type": "execute_result"
    }
   ],
   "source": [
    "patient_set_wd = set(patient_list_wd)\n",
    "patient_set_bd = set(patient_list_bd)\n",
    "extra_patient_in_wd = patient_set_wd.difference(patient_set_bd)\n",
    "print(len(extra_patient_in_wd))\n",
    "extra_patient_in_wd_final = [item2 for item1 in list(extra_patient_in_wd) for item2 in master_data_wd.patient_directory.to_list() if item1 in item2]\n",
    "extra_patient_in_wd"
   ]
  },
  {
   "cell_type": "code",
   "execution_count": 61,
   "metadata": {},
   "outputs": [
    {
     "name": "stdout",
     "output_type": "stream",
     "text": [
      "ASPTCTX0001_npr897251392030-20190613____JK_HIT\n",
      "ASPTCTX0001_npr897251392030-20190613____JK_HIT\n",
      "ASPTCTX0001_npr134631340866-20200204____JK\n",
      "ASPTCTX0001_npr134631340866-20200204____JK\n"
     ]
    }
   ],
   "source": [
    "for item in extra_patient_in_wd_final:\n",
    "    if 'JK' in item:\n",
    "        print(item)"
   ]
  },
  {
   "cell_type": "code",
   "execution_count": 62,
   "metadata": {},
   "outputs": [
    {
     "name": "stdout",
     "output_type": "stream",
     "text": [
      "(420, 45)\n"
     ]
    },
    {
     "data": {
      "text/html": [
       "<div>\n",
       "<style scoped>\n",
       "    .dataframe tbody tr th:only-of-type {\n",
       "        vertical-align: middle;\n",
       "    }\n",
       "\n",
       "    .dataframe tbody tr th {\n",
       "        vertical-align: top;\n",
       "    }\n",
       "\n",
       "    .dataframe thead th {\n",
       "        text-align: right;\n",
       "    }\n",
       "</style>\n",
       "<table border=\"1\" class=\"dataframe\">\n",
       "  <thead>\n",
       "    <tr style=\"text-align: right;\">\n",
       "      <th></th>\n",
       "      <th>Unnamed: 0</th>\n",
       "      <th>Unnamed: 0_x</th>\n",
       "      <th>directory</th>\n",
       "      <th>source_directory</th>\n",
       "      <th>patient_directory</th>\n",
       "      <th>PET-CT_info</th>\n",
       "      <th>system</th>\n",
       "      <th>npr</th>\n",
       "      <th>scan_date</th>\n",
       "      <th>Unnamed: 0_y</th>\n",
       "      <th>...</th>\n",
       "      <th>modality</th>\n",
       "      <th>manufacturer</th>\n",
       "      <th>manufacturer_model</th>\n",
       "      <th>radiopharmaceutical</th>\n",
       "      <th>radiopharmaceutical_volume</th>\n",
       "      <th>radiopharmaceutical_start_time</th>\n",
       "      <th>radionuclide_total_dose</th>\n",
       "      <th>radionuclide_half_life</th>\n",
       "      <th>radionuclide_positron_fraction</th>\n",
       "      <th>radiopharmaceutical_start_date_time</th>\n",
       "    </tr>\n",
       "  </thead>\n",
       "  <tbody>\n",
       "    <tr>\n",
       "      <th>6</th>\n",
       "      <td>6</td>\n",
       "      <td>842</td>\n",
       "      <td>/media/andres/T7 Shield/U-CAN-Lymfom_A/Raw_DCM...</td>\n",
       "      <td>/media/andres/T7 Shield/U-CAN-Lymfom_A/Raw_DCM...</td>\n",
       "      <td>ASPTCTX0001_npr100222372477-20171207</td>\n",
       "      <td>CT-20171207-125055-6.3-UAS-WB-FDG-3D-CT-VENFAS...</td>\n",
       "      <td>ASPTCTX0001</td>\n",
       "      <td>npr100222372477</td>\n",
       "      <td>20171207</td>\n",
       "      <td>1826</td>\n",
       "      <td>...</td>\n",
       "      <td>CT</td>\n",
       "      <td>'GE MEDICAL SYSTEMS'</td>\n",
       "      <td>'Discovery STE'</td>\n",
       "      <td>NaN</td>\n",
       "      <td>NaN</td>\n",
       "      <td>NaN</td>\n",
       "      <td>NaN</td>\n",
       "      <td>NaN</td>\n",
       "      <td>NaN</td>\n",
       "      <td>NaN</td>\n",
       "    </tr>\n",
       "    <tr>\n",
       "      <th>7</th>\n",
       "      <td>7</td>\n",
       "      <td>841</td>\n",
       "      <td>/media/andres/T7 Shield/U-CAN-Lymfom_A/Raw_DCM...</td>\n",
       "      <td>/media/andres/T7 Shield/U-CAN-Lymfom_A/Raw_DCM...</td>\n",
       "      <td>ASPTCTX0001_npr100222372477-20171207</td>\n",
       "      <td>PT-20171207-122918-UAS-WB-FDG-3D-CT-VENFAS-WB-...</td>\n",
       "      <td>ASPTCTX0001</td>\n",
       "      <td>npr100222372477</td>\n",
       "      <td>20171207</td>\n",
       "      <td>1828</td>\n",
       "      <td>...</td>\n",
       "      <td>PT</td>\n",
       "      <td>'GE MEDICAL SYSTEMS'</td>\n",
       "      <td>'Discovery STE'</td>\n",
       "      <td>'FDG -- fluorodeoxyglucose'</td>\n",
       "      <td>'0.0'</td>\n",
       "      <td>'092400.00'</td>\n",
       "      <td>'470010816.0'</td>\n",
       "      <td>'6588.0'</td>\n",
       "      <td>'0.97000002861023'</td>\n",
       "      <td>'20171207092400.00'</td>\n",
       "    </tr>\n",
       "  </tbody>\n",
       "</table>\n",
       "<p>2 rows × 45 columns</p>\n",
       "</div>"
      ],
      "text/plain": [
       "   Unnamed: 0  Unnamed: 0_x  \\\n",
       "6           6           842   \n",
       "7           7           841   \n",
       "\n",
       "                                           directory  \\\n",
       "6  /media/andres/T7 Shield/U-CAN-Lymfom_A/Raw_DCM...   \n",
       "7  /media/andres/T7 Shield/U-CAN-Lymfom_A/Raw_DCM...   \n",
       "\n",
       "                                    source_directory  \\\n",
       "6  /media/andres/T7 Shield/U-CAN-Lymfom_A/Raw_DCM...   \n",
       "7  /media/andres/T7 Shield/U-CAN-Lymfom_A/Raw_DCM...   \n",
       "\n",
       "                      patient_directory  \\\n",
       "6  ASPTCTX0001_npr100222372477-20171207   \n",
       "7  ASPTCTX0001_npr100222372477-20171207   \n",
       "\n",
       "                                         PET-CT_info       system  \\\n",
       "6  CT-20171207-125055-6.3-UAS-WB-FDG-3D-CT-VENFAS...  ASPTCTX0001   \n",
       "7  PT-20171207-122918-UAS-WB-FDG-3D-CT-VENFAS-WB-...  ASPTCTX0001   \n",
       "\n",
       "               npr scan_date  Unnamed: 0_y  ... modality  \\\n",
       "6  npr100222372477  20171207          1826  ...       CT   \n",
       "7  npr100222372477  20171207          1828  ...       PT   \n",
       "\n",
       "            manufacturer  manufacturer_model           radiopharmaceutical  \\\n",
       "6   'GE MEDICAL SYSTEMS'     'Discovery STE'                           NaN   \n",
       "7   'GE MEDICAL SYSTEMS'     'Discovery STE'   'FDG -- fluorodeoxyglucose'   \n",
       "\n",
       "  radiopharmaceutical_volume  radiopharmaceutical_start_time  \\\n",
       "6                        NaN                             NaN   \n",
       "7                      '0.0'                     '092400.00'   \n",
       "\n",
       "   radionuclide_total_dose  radionuclide_half_life  \\\n",
       "6                      NaN                     NaN   \n",
       "7            '470010816.0'                '6588.0'   \n",
       "\n",
       "   radionuclide_positron_fraction  radiopharmaceutical_start_date_time  \n",
       "6                             NaN                                  NaN  \n",
       "7              '0.97000002861023'                  '20171207092400.00'  \n",
       "\n",
       "[2 rows x 45 columns]"
      ]
     },
     "execution_count": 62,
     "metadata": {},
     "output_type": "execute_result"
    }
   ],
   "source": [
    "extra_patient_wd_df = master_data_wd[master_data_wd['patient_directory'].isin(extra_patient_in_wd_final)]\n",
    "print(extra_patient_wd_df.shape)\n",
    "extra_patient_wd_df.head(2)"
   ]
  },
  {
   "cell_type": "markdown",
   "metadata": {},
   "source": [
    "Total images - 1340    , exams - 670\n",
    "Extra images - 420     , exams - 210\n",
    "Duplicates images - 920, exams - 460"
   ]
  },
  {
   "cell_type": "markdown",
   "metadata": {},
   "source": [
    "##### Check if npr present in extra df is also present in black disk"
   ]
  },
  {
   "cell_type": "code",
   "execution_count": 70,
   "metadata": {},
   "outputs": [
    {
     "data": {
      "text/plain": [
       "['npr100222372477', 'npr100222372477']"
      ]
     },
     "execution_count": 70,
     "metadata": {},
     "output_type": "execute_result"
    }
   ],
   "source": [
    "extra_patient_wd_npr = extra_patient_wd_df.npr.to_list()\n",
    "extra_patient_wd_npr[:2]"
   ]
  },
  {
   "cell_type": "code",
   "execution_count": 71,
   "metadata": {},
   "outputs": [
    {
     "name": "stdout",
     "output_type": "stream",
     "text": [
      "(160, 45)\n"
     ]
    },
    {
     "data": {
      "text/html": [
       "<div>\n",
       "<style scoped>\n",
       "    .dataframe tbody tr th:only-of-type {\n",
       "        vertical-align: middle;\n",
       "    }\n",
       "\n",
       "    .dataframe tbody tr th {\n",
       "        vertical-align: top;\n",
       "    }\n",
       "\n",
       "    .dataframe thead th {\n",
       "        text-align: right;\n",
       "    }\n",
       "</style>\n",
       "<table border=\"1\" class=\"dataframe\">\n",
       "  <thead>\n",
       "    <tr style=\"text-align: right;\">\n",
       "      <th></th>\n",
       "      <th>Unnamed: 0</th>\n",
       "      <th>Unnamed: 0_x</th>\n",
       "      <th>directory</th>\n",
       "      <th>source_directory</th>\n",
       "      <th>patient_directory</th>\n",
       "      <th>PET-CT_info</th>\n",
       "      <th>system</th>\n",
       "      <th>npr</th>\n",
       "      <th>scan_date</th>\n",
       "      <th>Unnamed: 0_y</th>\n",
       "      <th>...</th>\n",
       "      <th>modality</th>\n",
       "      <th>manufacturer</th>\n",
       "      <th>manufacturer_model</th>\n",
       "      <th>radiopharmaceutical</th>\n",
       "      <th>radiopharmaceutical_volume</th>\n",
       "      <th>radiopharmaceutical_start_time</th>\n",
       "      <th>radionuclide_total_dose</th>\n",
       "      <th>radionuclide_half_life</th>\n",
       "      <th>radionuclide_positron_fraction</th>\n",
       "      <th>radiopharmaceutical_start_date_time</th>\n",
       "    </tr>\n",
       "  </thead>\n",
       "  <tbody>\n",
       "    <tr>\n",
       "      <th>12</th>\n",
       "      <td>12</td>\n",
       "      <td>1751</td>\n",
       "      <td>F:/ucan_lymfom/ASPTCTX0001_npr100222372477-201...</td>\n",
       "      <td>F:/ucan_lymfom</td>\n",
       "      <td>ASPTCTX0001_npr100222372477-20160314</td>\n",
       "      <td>CT-20160314-111426-6.6_UAS-WB-FDG-3D_VENFASTHO...</td>\n",
       "      <td>ASPTCTX0001</td>\n",
       "      <td>npr100222372477</td>\n",
       "      <td>20160314</td>\n",
       "      <td>918</td>\n",
       "      <td>...</td>\n",
       "      <td>CT</td>\n",
       "      <td>'GE MEDICAL SYSTEMS'</td>\n",
       "      <td>'Discovery STE'</td>\n",
       "      <td>NaN</td>\n",
       "      <td>NaN</td>\n",
       "      <td>NaN</td>\n",
       "      <td>NaN</td>\n",
       "      <td>NaN</td>\n",
       "      <td>NaN</td>\n",
       "      <td>NaN</td>\n",
       "    </tr>\n",
       "    <tr>\n",
       "      <th>13</th>\n",
       "      <td>13</td>\n",
       "      <td>1750</td>\n",
       "      <td>F:/ucan_lymfom/ASPTCTX0001_npr100222372477-201...</td>\n",
       "      <td>F:/ucan_lymfom</td>\n",
       "      <td>ASPTCTX0001_npr100222372477-20160314</td>\n",
       "      <td>PT-20160314-104224-UAS-WB-FDG-3D_VENFASTHORAX_...</td>\n",
       "      <td>ASPTCTX0001</td>\n",
       "      <td>npr100222372477</td>\n",
       "      <td>20160314</td>\n",
       "      <td>912</td>\n",
       "      <td>...</td>\n",
       "      <td>PT</td>\n",
       "      <td>'GE MEDICAL SYSTEMS'</td>\n",
       "      <td>'Discovery STE'</td>\n",
       "      <td>'FDG -- fluorodeoxyglucose'</td>\n",
       "      <td>'0.0'</td>\n",
       "      <td>'094300.00'</td>\n",
       "      <td>'325923296.0'</td>\n",
       "      <td>'6588.0'</td>\n",
       "      <td>'0.97000002861023'</td>\n",
       "      <td>'20160314094300.00'</td>\n",
       "    </tr>\n",
       "  </tbody>\n",
       "</table>\n",
       "<p>2 rows × 45 columns</p>\n",
       "</div>"
      ],
      "text/plain": [
       "    Unnamed: 0  Unnamed: 0_x  \\\n",
       "12          12          1751   \n",
       "13          13          1750   \n",
       "\n",
       "                                            directory source_directory  \\\n",
       "12  F:/ucan_lymfom/ASPTCTX0001_npr100222372477-201...   F:/ucan_lymfom   \n",
       "13  F:/ucan_lymfom/ASPTCTX0001_npr100222372477-201...   F:/ucan_lymfom   \n",
       "\n",
       "                       patient_directory  \\\n",
       "12  ASPTCTX0001_npr100222372477-20160314   \n",
       "13  ASPTCTX0001_npr100222372477-20160314   \n",
       "\n",
       "                                          PET-CT_info       system  \\\n",
       "12  CT-20160314-111426-6.6_UAS-WB-FDG-3D_VENFASTHO...  ASPTCTX0001   \n",
       "13  PT-20160314-104224-UAS-WB-FDG-3D_VENFASTHORAX_...  ASPTCTX0001   \n",
       "\n",
       "                npr  scan_date  Unnamed: 0_y  ... modality  \\\n",
       "12  npr100222372477   20160314           918  ...       CT   \n",
       "13  npr100222372477   20160314           912  ...       PT   \n",
       "\n",
       "             manufacturer  manufacturer_model           radiopharmaceutical  \\\n",
       "12   'GE MEDICAL SYSTEMS'     'Discovery STE'                           NaN   \n",
       "13   'GE MEDICAL SYSTEMS'     'Discovery STE'   'FDG -- fluorodeoxyglucose'   \n",
       "\n",
       "   radiopharmaceutical_volume  radiopharmaceutical_start_time  \\\n",
       "12                        NaN                             NaN   \n",
       "13                      '0.0'                     '094300.00'   \n",
       "\n",
       "    radionuclide_total_dose  radionuclide_half_life  \\\n",
       "12                      NaN                     NaN   \n",
       "13            '325923296.0'                '6588.0'   \n",
       "\n",
       "    radionuclide_positron_fraction  radiopharmaceutical_start_date_time  \n",
       "12                             NaN                                  NaN  \n",
       "13              '0.97000002861023'                  '20160314094300.00'  \n",
       "\n",
       "[2 rows x 45 columns]"
      ]
     },
     "execution_count": 71,
     "metadata": {},
     "output_type": "execute_result"
    }
   ],
   "source": [
    "extra_patient_bd_npr_df = master_data_bd[master_data_bd['npr'].isin(extra_patient_wd_npr)]\n",
    "print(extra_patient_bd_npr_df.shape)\n",
    "extra_patient_bd_npr_df.head(2)"
   ]
  },
  {
   "cell_type": "code",
   "execution_count": 72,
   "metadata": {},
   "outputs": [
    {
     "data": {
      "text/plain": [
       "80"
      ]
     },
     "execution_count": 72,
     "metadata": {},
     "output_type": "execute_result"
    }
   ],
   "source": [
    "extra_patient_bd_npr_df.patient_directory.nunique()"
   ]
  },
  {
   "cell_type": "markdown",
   "metadata": {},
   "source": [
    "##### Check if images from the same scan(distorted images) can be read from the previous export (cause = exporting problems?)"
   ]
  },
  {
   "cell_type": "code",
   "execution_count": 104,
   "metadata": {},
   "outputs": [
    {
     "name": "stdout",
     "output_type": "stream",
     "text": [
      "Reading distorted image dataframe for white disk\n",
      "(150, 5)\n",
      "150\n"
     ]
    },
    {
     "data": {
      "text/html": [
       "<div>\n",
       "<style scoped>\n",
       "    .dataframe tbody tr th:only-of-type {\n",
       "        vertical-align: middle;\n",
       "    }\n",
       "\n",
       "    .dataframe tbody tr th {\n",
       "        vertical-align: top;\n",
       "    }\n",
       "\n",
       "    .dataframe thead th {\n",
       "        text-align: right;\n",
       "    }\n",
       "</style>\n",
       "<table border=\"1\" class=\"dataframe\">\n",
       "  <thead>\n",
       "    <tr style=\"text-align: right;\">\n",
       "      <th></th>\n",
       "      <th>Unnamed: 0</th>\n",
       "      <th>directory</th>\n",
       "      <th>source_directory</th>\n",
       "      <th>patient_directory</th>\n",
       "      <th>PET-CT_info</th>\n",
       "    </tr>\n",
       "  </thead>\n",
       "  <tbody>\n",
       "    <tr>\n",
       "      <th>0</th>\n",
       "      <td>0</td>\n",
       "      <td>/media/andres/T7 Shield/U-CAN-Lymfom_A/Raw_DCM...</td>\n",
       "      <td>/media/andres/T7 Shield/U-CAN-Lymfom_A/Raw_DCM...</td>\n",
       "      <td>ASPTCTX0001_npr167577668669-20170331</td>\n",
       "      <td>CT-20170331-154543-6.3-UAS-WB-FDG-3D-CT-VENFAS...</td>\n",
       "    </tr>\n",
       "    <tr>\n",
       "      <th>1</th>\n",
       "      <td>1</td>\n",
       "      <td>/media/andres/T7 Shield/U-CAN-Lymfom_A/Raw_DCM...</td>\n",
       "      <td>/media/andres/T7 Shield/U-CAN-Lymfom_A/Raw_DCM...</td>\n",
       "      <td>ASPTCTX0001_npr167850885413-20160304</td>\n",
       "      <td>CT-20160304-155345-6.6-UAS-WB-FDG-3D-VENFASTHO...</td>\n",
       "    </tr>\n",
       "  </tbody>\n",
       "</table>\n",
       "</div>"
      ],
      "text/plain": [
       "   Unnamed: 0                                          directory  \\\n",
       "0           0  /media/andres/T7 Shield/U-CAN-Lymfom_A/Raw_DCM...   \n",
       "1           1  /media/andres/T7 Shield/U-CAN-Lymfom_A/Raw_DCM...   \n",
       "\n",
       "                                    source_directory  \\\n",
       "0  /media/andres/T7 Shield/U-CAN-Lymfom_A/Raw_DCM...   \n",
       "1  /media/andres/T7 Shield/U-CAN-Lymfom_A/Raw_DCM...   \n",
       "\n",
       "                      patient_directory  \\\n",
       "0  ASPTCTX0001_npr167577668669-20170331   \n",
       "1  ASPTCTX0001_npr167850885413-20160304   \n",
       "\n",
       "                                         PET-CT_info  \n",
       "0  CT-20170331-154543-6.3-UAS-WB-FDG-3D-CT-VENFAS...  \n",
       "1  CT-20160304-155345-6.6-UAS-WB-FDG-3D-VENFASTHO...  "
      ]
     },
     "execution_count": 104,
     "metadata": {},
     "output_type": "execute_result"
    }
   ],
   "source": [
    "print(\"Reading distorted image dataframe for white disk\")\n",
    "distorted_images_wd = pd.read_excel(list_of_distorted_images_wd)\n",
    "distorted_images_wd[['source_directory', 'patient_directory', 'PET-CT_info']] = distorted_images_wd['directory'].str.rsplit(pat='/', n=2, expand=True)\n",
    "print(distorted_images_wd.shape)\n",
    "print(distorted_images_wd.patient_directory.nunique())\n",
    "distorted_images_wd.head(2)"
   ]
  },
  {
   "cell_type": "code",
   "execution_count": 90,
   "metadata": {},
   "outputs": [
    {
     "name": "stdout",
     "output_type": "stream",
     "text": [
      "Reading distorted image dataframe for black disk\n",
      "(132, 5)\n"
     ]
    },
    {
     "data": {
      "text/html": [
       "<div>\n",
       "<style scoped>\n",
       "    .dataframe tbody tr th:only-of-type {\n",
       "        vertical-align: middle;\n",
       "    }\n",
       "\n",
       "    .dataframe tbody tr th {\n",
       "        vertical-align: top;\n",
       "    }\n",
       "\n",
       "    .dataframe thead th {\n",
       "        text-align: right;\n",
       "    }\n",
       "</style>\n",
       "<table border=\"1\" class=\"dataframe\">\n",
       "  <thead>\n",
       "    <tr style=\"text-align: right;\">\n",
       "      <th></th>\n",
       "      <th>Unnamed: 0</th>\n",
       "      <th>directory</th>\n",
       "      <th>source_directory</th>\n",
       "      <th>patient_directory</th>\n",
       "      <th>PET-CT_info</th>\n",
       "    </tr>\n",
       "  </thead>\n",
       "  <tbody>\n",
       "    <tr>\n",
       "      <th>0</th>\n",
       "      <td>0</td>\n",
       "      <td>F:/ucan_lymfom/ASPTCTX0001_npr293454605342-201...</td>\n",
       "      <td>F:/ucan_lymfom</td>\n",
       "      <td>ASPTCTX0001_npr293454605342-20151210</td>\n",
       "      <td>CT-20151210-093545-6.6_WB_F18_3MIN__CT_VENFAS-...</td>\n",
       "    </tr>\n",
       "    <tr>\n",
       "      <th>1</th>\n",
       "      <td>1</td>\n",
       "      <td>F:/ucan_lymfom/ASPTCTX0001_npr701047368478-201...</td>\n",
       "      <td>F:/ucan_lymfom</td>\n",
       "      <td>ASPTCTX0001_npr701047368478-20151103</td>\n",
       "      <td>CT-20151103-152922-6.6_WB_F18_3MIN__CT_VENFAS-...</td>\n",
       "    </tr>\n",
       "  </tbody>\n",
       "</table>\n",
       "</div>"
      ],
      "text/plain": [
       "   Unnamed: 0                                          directory  \\\n",
       "0           0  F:/ucan_lymfom/ASPTCTX0001_npr293454605342-201...   \n",
       "1           1  F:/ucan_lymfom/ASPTCTX0001_npr701047368478-201...   \n",
       "\n",
       "  source_directory                     patient_directory  \\\n",
       "0   F:/ucan_lymfom  ASPTCTX0001_npr293454605342-20151210   \n",
       "1   F:/ucan_lymfom  ASPTCTX0001_npr701047368478-20151103   \n",
       "\n",
       "                                         PET-CT_info  \n",
       "0  CT-20151210-093545-6.6_WB_F18_3MIN__CT_VENFAS-...  \n",
       "1  CT-20151103-152922-6.6_WB_F18_3MIN__CT_VENFAS-...  "
      ]
     },
     "execution_count": 90,
     "metadata": {},
     "output_type": "execute_result"
    }
   ],
   "source": [
    "print(\"Reading distorted image dataframe for black disk\")\n",
    "distorted_images_bd = pd.read_excel(list_of_distorted_images_bd)\n",
    "distorted_images_bd[['source_directory', 'patient_directory', 'PET-CT_info']] = distorted_images_bd['directory'].str.rsplit(pat='/', n=2, expand=True)\n",
    "print(distorted_images_bd.shape)\n",
    "distorted_images_bd.head(2)"
   ]
  },
  {
   "cell_type": "code",
   "execution_count": 105,
   "metadata": {},
   "outputs": [
    {
     "name": "stdout",
     "output_type": "stream",
     "text": [
      "147\n",
      "129\n"
     ]
    }
   ],
   "source": [
    "distorted_patient_wd_list = distorted_images_wd.patient_directory.to_list()\n",
    "distorted_patient_wd_set = set(distorted_patient_wd_list)\n",
    "\n",
    "distorted_patient_bd_list = distorted_images_bd.patient_directory.to_list()\n",
    "distorted_patient_bd_set = set(distorted_patient_bd_list)\n",
    "print(len(distorted_patient_wd_set.difference(distorted_patient_bd_set)))\n",
    "print(len(distorted_patient_bd_set.difference(distorted_patient_wd_set)))\n"
   ]
  },
  {
   "cell_type": "code",
   "execution_count": 106,
   "metadata": {},
   "outputs": [
    {
     "name": "stdout",
     "output_type": "stream",
     "text": [
      "Distorted patient directory in black disk\n",
      "(220, 45)\n",
      "110\n"
     ]
    }
   ],
   "source": [
    "print('Distorted patient directory in black disk')\n",
    "distorted_patient_directory_in_bd = master_data_bd[master_data_bd['patient_directory'].isin(distorted_patient_wd_list)]\n",
    "print(distorted_patient_directory_in_bd.shape)\n",
    "print(distorted_patient_directory_in_bd.patient_directory.nunique())"
   ]
  },
  {
   "cell_type": "code",
   "execution_count": 113,
   "metadata": {},
   "outputs": [
    {
     "name": "stdout",
     "output_type": "stream",
     "text": [
      "Check if distorted patient directory and image directory is present in black disk\n"
     ]
    },
    {
     "data": {
      "text/html": [
       "<div>\n",
       "<style scoped>\n",
       "    .dataframe tbody tr th:only-of-type {\n",
       "        vertical-align: middle;\n",
       "    }\n",
       "\n",
       "    .dataframe tbody tr th {\n",
       "        vertical-align: top;\n",
       "    }\n",
       "\n",
       "    .dataframe thead th {\n",
       "        text-align: right;\n",
       "    }\n",
       "</style>\n",
       "<table border=\"1\" class=\"dataframe\">\n",
       "  <thead>\n",
       "    <tr style=\"text-align: right;\">\n",
       "      <th></th>\n",
       "      <th>Unnamed: 0</th>\n",
       "      <th>Unnamed: 0_x</th>\n",
       "      <th>directory</th>\n",
       "      <th>source_directory</th>\n",
       "      <th>patient_directory</th>\n",
       "      <th>PET-CT_info</th>\n",
       "      <th>system</th>\n",
       "      <th>npr</th>\n",
       "      <th>scan_date</th>\n",
       "      <th>Unnamed: 0_y</th>\n",
       "      <th>...</th>\n",
       "      <th>modality</th>\n",
       "      <th>manufacturer</th>\n",
       "      <th>manufacturer_model</th>\n",
       "      <th>radiopharmaceutical</th>\n",
       "      <th>radiopharmaceutical_volume</th>\n",
       "      <th>radiopharmaceutical_start_time</th>\n",
       "      <th>radionuclide_total_dose</th>\n",
       "      <th>radionuclide_half_life</th>\n",
       "      <th>radionuclide_positron_fraction</th>\n",
       "      <th>radiopharmaceutical_start_date_time</th>\n",
       "    </tr>\n",
       "  </thead>\n",
       "  <tbody>\n",
       "  </tbody>\n",
       "</table>\n",
       "<p>0 rows × 45 columns</p>\n",
       "</div>"
      ],
      "text/plain": [
       "Empty DataFrame\n",
       "Columns: [Unnamed: 0, Unnamed: 0_x, directory, source_directory, patient_directory, PET-CT_info, system, npr, scan_date, Unnamed: 0_y, dicom_img, patient_id, patient_age, patient_weight, patient_size, imgsz_x, imgsz_y, num_slices, voxsz_x, voxsz_y, slice_thickness, image_size, voxel_size, img_pos, img_orient, for_uid, att_corr, recons_method, image_type, aquisition_dt, aquisition_time, study_desc, series_desc, protocol, corr_img, modality, manufacturer, manufacturer_model, radiopharmaceutical, radiopharmaceutical_volume, radiopharmaceutical_start_time, radionuclide_total_dose, radionuclide_half_life, radionuclide_positron_fraction, radiopharmaceutical_start_date_time]\n",
       "Index: []\n",
       "\n",
       "[0 rows x 45 columns]"
      ]
     },
     "execution_count": 113,
     "metadata": {},
     "output_type": "execute_result"
    }
   ],
   "source": [
    "# Distorted image directory list in white disk\n",
    "distorted_images_wd_list = distorted_images_wd['PET-CT_info'].to_list()\n",
    "\n",
    "print('Check if distorted patient directory and image directory is present in black disk')\n",
    "master_data_bd[np.logical_and(master_data_bd['patient_directory'].isin(distorted_patient_wd_list), master_data_bd['PET-CT_info'].isin(distorted_images_wd_list))]"
   ]
  },
  {
   "cell_type": "code",
   "execution_count": null,
   "metadata": {},
   "outputs": [],
   "source": []
  },
  {
   "cell_type": "markdown",
   "metadata": {},
   "source": [
    "##### Check for misclassified distorted image"
   ]
  },
  {
   "cell_type": "code",
   "execution_count": 119,
   "metadata": {},
   "outputs": [],
   "source": [
    "def display_full(x):\n",
    "    with pd.option_context(\"display.max_rows\", None,\n",
    "                           \"display.max_columns\", None,\n",
    "                           \"display.width\", 20000,\n",
    "                           \"display.max_colwidth\", None,\n",
    "                           ):\n",
    "        print(x)"
   ]
  },
  {
   "cell_type": "code",
   "execution_count": 120,
   "metadata": {},
   "outputs": [
    {
     "name": "stdout",
     "output_type": "stream",
     "text": [
      "     Unnamed: 0                                                                                                                                directory source_directory                     patient_directory                                                                          PET-CT_info\n",
      "118         118  F:/ucan_lymfom/ASPTCTX0001_npr988864921432-20210721/CT-20210721-124711-3.11_WB_F18_FDG_VENFAS__THORAX_INANDAD-WB_Venfas_3_ax-3.000000mm   F:/ucan_lymfom  ASPTCTX0001_npr988864921432-20210721  CT-20210721-124711-3.11_WB_F18_FDG_VENFAS__THORAX_INANDAD-WB_Venfas_3_ax-3.000000mm\n",
      "121         121                    F:/ucan_lymfom/ASPTCTX0001_npr207978513481-20190903/CT-20190903-122850-3.6_WB_FDG_CT_VENFAS-WB_Venfas_3_ax-3.000000mm   F:/ucan_lymfom  ASPTCTX0001_npr207978513481-20190903                    CT-20190903-122850-3.6_WB_FDG_CT_VENFAS-WB_Venfas_3_ax-3.000000mm\n"
     ]
    }
   ],
   "source": [
    "correct_distorted_images = ['ASPTCTX0001_npr207978513481-20190903', 'ASPTCTX0001_npr988864921432-20210721']\n",
    "display_full(distorted_images_bd[distorted_images_bd.patient_directory.isin(correct_distorted_images)])"
   ]
  },
  {
   "cell_type": "code",
   "execution_count": 122,
   "metadata": {},
   "outputs": [
    {
     "name": "stdout",
     "output_type": "stream",
     "text": [
      "Image selected instead of misclassified image\n",
      "      Unnamed: 0  Unnamed: 0_x                                                                                                                                 directory source_directory                     patient_directory                                                                           PET-CT_info       system              npr  scan_date  Unnamed: 0_y                                          dicom_img       patient_id  patient_age patient_weight patient_size  imgsz_x  imgsz_y  num_slices   voxsz_x   voxsz_y  slice_thickness       image_size                    voxel_size                                                  img_pos                                                      img_orient                                                       for_uid                                         att_corr recons_method                                image_type aquisition_dt   aquisition_time         study_desc           series_desc                                    protocol                                                                       corr_img modality           manufacturer manufacturer_model           radiopharmaceutical radiopharmaceutical_volume radiopharmaceutical_start_time radionuclide_total_dose radionuclide_half_life radionuclide_positron_fraction radiopharmaceutical_start_date_time\n",
      "328          328           764                     F:/ucan_lymfom/ASPTCTX0001_npr207978513481-20190903/CT-20190903-122850-3.6_WB_FDG_CT_VENFAS-WB_Venfas_3_ax-0.976562mm   F:/ucan_lymfom  ASPTCTX0001_npr207978513481-20190903                     CT-20190903-122850-3.6_WB_FDG_CT_VENFAS-WB_Venfas_3_ax-0.976562mm  ASPTCTX0001  npr207978513481   20190903          6381    1.2.840.113619.2.5.42235196.12799.1567499758.51  npr207978513481         71.0         '73.0'       '1.82'      512      512         382  1.857910  1.857910         0.976562  (512, 512, 382)  (1.85791, 1.85791, 0.976562)                              [-475.625, -1.953, -31.002]   [1.000000, 0.000000, 0.000000, 0.000000, 0.000000, -1.000000]   1.2.840.113619.2.405.3.3842664208.836.1567429757.711.7035.1                                              NaN           NaN   ['DERIVED', 'SECONDARY', 'REFORMATTED']    '20190903'   '122647.495816'   'PET FDG WB 1 h'      'WB Venfas 3 ax'                      '3.6 WB_FDG CT VENFAS'                                                                            NaN       CT   'GE MEDICAL SYSTEMS'     'Discovery MI'                           NaN                        NaN                            NaN                     NaN                    NaN                            NaN                                 NaN\n",
      "329          329           763                           F:/ucan_lymfom/ASPTCTX0001_npr207978513481-20190903/PT-20190903-121228-3.6_WB_FDG_CT_VENFAS-QCFX-S_400-2.7900mm   F:/ucan_lymfom  ASPTCTX0001_npr207978513481-20190903                           PT-20190903-121228-3.6_WB_FDG_CT_VENFAS-QCFX-S_400-2.7900mm  ASPTCTX0001  npr207978513481   20190903          6378  1.2.840.113619.2.405.3842664208.1567506441.917166  npr207978513481         71.0         '73.0'       '1.82'      256      256         341  1.953125  1.953125         2.790000  (256, 256, 341)    (1.953125, 1.953125, 2.79)   [-249.02343750000, -249.02343750000, -32.250007629394]                                             [1, 0, 0, 0, 1, -0]   1.2.840.113619.2.405.3.3842664208.836.1567429757.711.7035.1   'measured,, 0.000000 cm-1, attenuation smooth'        'QCFX'                   ['ORIGINAL', 'PRIMARY']    '20190903'          '122238'   'PET FDG WB 1 h'          'QCFX-S 400'                      '3.6 WB_FDG CT VENFAS'           ['DECY', 'ATTN', 'SCAT', 'DTIM', 'RANSNG', 'DCAL', 'SLSENS', 'NORM']       PT   'GE MEDICAL SYSTEMS'     'Discovery MI'   'FDG -- fluorodeoxyglucose'                      '0.0'                    '111400.00'           '224563488.0'      '6586.2001953125'             '0.96700000762939'                 '20190903111400.00'\n",
      "2250        2250           283   F:/ucan_lymfom/ASPTCTX0001_npr988864921432-20210721/CT-20210721-124711-3.11_WB_F18_FDG_VENFAS__THORAX_INANDAD-WB_Venfas_3_ax-0.933594mm   F:/ucan_lymfom  ASPTCTX0001_npr988864921432-20210721   CT-20210721-124711-3.11_WB_F18_FDG_VENFAS__THORAX_INANDAD-WB_Venfas_3_ax-0.933594mm  ASPTCTX0001  npr988864921432   20210721         10025    1.2.840.113619.2.5.91447937.13022.1626846962.10  npr988864921432         64.0         '74.0'       '1.73'      512      512         354  1.718750  1.718750         0.933594  (512, 512, 354)  (1.71875, 1.71875, 0.933594)                                  [-440, -4.667, -10.502]   [1.000000, 0.000000, 0.000000, 0.000000, 0.000000, -1.000000]   1.2.840.113619.2.405.3.3842663696.236.1626789669.335.6125.1                                              NaN           NaN   ['DERIVED', 'SECONDARY', 'REFORMATTED']    '20210721'   '124332.367764'   'PET FDG WB 1 h'      'WB Venfas 3 ax'   '3.11 WB F18 FDG VENFAS + THORAX INANDAD'                                                                            NaN       CT   'GE MEDICAL SYSTEMS'     'Discovery MI'                           NaN                        NaN                            NaN                     NaN                    NaN                            NaN                                 NaN\n",
      "2251        2251           282  F:/ucan_lymfom/ASPTCTX0001_npr988864921432-20210721/PT-20210721-123004-3.11_WB_F18_FDG_VENFAS__THORAX_INANDAD-QCFX-S_400_M.Free-2.8000mm   F:/ucan_lymfom  ASPTCTX0001_npr988864921432-20210721  PT-20210721-123004-3.11_WB_F18_FDG_VENFAS__THORAX_INANDAD-QCFX-S_400_M.Free-2.8000mm  ASPTCTX0001  npr988864921432   20210721         10027  1.2.840.113619.2.405.3842663696.1626864590.769780  npr988864921432         64.0         '74.0'       '1.73'      256      256         314  1.953125  1.953125         2.800000  (256, 256, 314)     (1.953125, 1.953125, 2.8)   [-249.02343750000, -249.02343750000, -11.749998092651]                                             [1, 0, 0, 0, 1, -0]   1.2.840.113619.2.405.3.3842663696.236.1626789669.335.6125.1   'measured,, 0.000000 cm-1, attenuation smooth'        'QCFX'                   ['ORIGINAL', 'PRIMARY']    '20210721'          '123912'   'PET FDG WB 1 h'   'QCFX-S 400 M.Free'   '3.11 WB F18 FDG VENFAS + THORAX INANDAD'   ['DECY', 'ATTN', 'SCAT', 'DTIM', 'RANSNG', 'DCAL', 'SLSENS', 'NORM', 'PMOT']       PT   'GE MEDICAL SYSTEMS'     'Discovery MI'   'FDG -- fluorodeoxyglucose'                      '0.0'                    '113200.00'           '229533296.0'      '6586.2001953125'             '0.96700000762939'                 '20210721113200.00'\n"
     ]
    }
   ],
   "source": [
    "print(\"Image selected instead of misclassified image\")\n",
    "display_full(master_data_bd[master_data_bd.patient_directory.isin(correct_distorted_images)])"
   ]
  },
  {
   "cell_type": "code",
   "execution_count": null,
   "metadata": {},
   "outputs": [],
   "source": []
  },
  {
   "cell_type": "markdown",
   "metadata": {},
   "source": [
    "##### Check distorted images on both disk for 17 Oct data"
   ]
  },
  {
   "cell_type": "code",
   "execution_count": 25,
   "metadata": {},
   "outputs": [],
   "source": [
    "#distorted\n",
    "distorted_file_wd = source_path_wd + '/distorted_lst.txt'\n",
    "distorted_file_bd = source_path_bd + '/distorted_lst.txt'"
   ]
  },
  {
   "cell_type": "code",
   "execution_count": 26,
   "metadata": {},
   "outputs": [],
   "source": [
    "distorted = {'wd': [], 'bd':[]}\n",
    "\n",
    "with open(distorted_file_wd) as f:\n",
    "    for line in f:\n",
    "        inner_list = [elt.strip() for elt in line.split(',')]\n",
    "        # in alternative, if you need to use the file content as numbers\n",
    "        # inner_list = [int(elt.strip()) for elt in line.split(',')]\n",
    "        distorted['wd'].extend(inner_list)\n",
    "\n",
    "with open(distorted_file_bd) as f:\n",
    "    for line in f:\n",
    "        inner_list = [elt.strip() for elt in line.split(',')]\n",
    "        # in alternative, if you need to use the file content as numbers\n",
    "        # inner_list = [int(elt.strip()) for elt in line.split(',')]\n",
    "        distorted['bd'].extend(inner_list)"
   ]
  },
  {
   "cell_type": "code",
   "execution_count": 29,
   "metadata": {},
   "outputs": [
    {
     "data": {
      "text/plain": [
       "231"
      ]
     },
     "execution_count": 29,
     "metadata": {},
     "output_type": "execute_result"
    }
   ],
   "source": [
    "len(distorted['wd']) + len(distorted['bd'])"
   ]
  },
  {
   "cell_type": "code",
   "execution_count": 28,
   "metadata": {},
   "outputs": [
    {
     "data": {
      "text/plain": [
       "132"
      ]
     },
     "execution_count": 28,
     "metadata": {},
     "output_type": "execute_result"
    }
   ],
   "source": []
  },
  {
   "cell_type": "code",
   "execution_count": null,
   "metadata": {},
   "outputs": [],
   "source": []
  }
 ],
 "metadata": {
  "kernelspec": {
   "display_name": "UCANProject",
   "language": "python",
   "name": "python3"
  },
  "language_info": {
   "codemirror_mode": {
    "name": "ipython",
    "version": 3
   },
   "file_extension": ".py",
   "mimetype": "text/x-python",
   "name": "python",
   "nbconvert_exporter": "python",
   "pygments_lexer": "ipython3",
   "version": "3.10.9"
  }
 },
 "nbformat": 4,
 "nbformat_minor": 2
}
