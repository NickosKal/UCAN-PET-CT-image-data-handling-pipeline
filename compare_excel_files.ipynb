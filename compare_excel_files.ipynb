{
 "cells": [
  {
   "cell_type": "code",
   "execution_count": 62,
   "id": "initial_id",
   "metadata": {
    "ExecuteTime": {
     "end_time": "2023-10-31T16:21:08.112498800Z",
     "start_time": "2023-10-31T16:21:08.093073800Z"
    },
    "collapsed": true
   },
   "outputs": [],
   "source": [
    "import os\n",
    "import numpy as np\n",
    "import pandas as pd\n",
    "\n",
    "source_path = \"/media/andres/T7 Shield/ucan_lymfom/Excel_files/03_11_2023\""
   ]
  },
  {
   "cell_type": "code",
   "execution_count": 63,
   "id": "3a285678fd28e83",
   "metadata": {
    "ExecuteTime": {
     "end_time": "2023-10-31T16:21:08.933054900Z",
     "start_time": "2023-10-31T16:21:08.923391800Z"
    },
    "collapsed": false
   },
   "outputs": [],
   "source": [
    "rejected_folder_path = os.path.join(source_path, 'Rejected_exams_from_U-CAN-Lymfom.xlsx')\n",
    "source_filtered_folder_path = os.path.join(source_path, 'Source_Filtered_exams_from_U-CAN-Lymfom.xlsx')\n",
    "no_PET_or_CT_exams_before_filtering = os.path.join(source_path, 'No_PT_or_CT_exams_from_U-CAN-Lymfom_before_selection_process.xlsx')\n",
    "no_PET_or_CT_exams_after_filtering = os.path.join(source_path, 'No_PT_or_CT_exams_from_U-CAN-Lymfom_after_selection_process.xlsx')\n",
    "selected_folders_before_filtering = os.path.join(source_path, 'Selected_exams_before_filtering_from_U-CAN-Lymfom.xlsx')\n",
    "selected_folders_after_filtering = os.path.join(source_path, 'Selected_exams_after_filtering_from_U-CAN-Lymfom.xlsx')\n",
    "final_selected_folders = os.path.join(source_path, \"Final_Selected_exams_from_U-CAN-Lymfom.xlsx\")"
   ]
  },
  {
   "cell_type": "code",
   "execution_count": 64,
   "id": "6af576a7de86b72d",
   "metadata": {
    "ExecuteTime": {
     "end_time": "2023-10-31T16:21:14.965720100Z",
     "start_time": "2023-10-31T16:21:14.945715Z"
    },
    "collapsed": false
   },
   "outputs": [],
   "source": [
    "def display_full(x):\n",
    "    with pd.option_context(\"display.max_rows\", None,\n",
    "                           \"display.max_columns\", None,\n",
    "                           \"display.width\", 20000,\n",
    "                           \"display.max_colwidth\", None,\n",
    "                           ):\n",
    "        print(x)"
   ]
  },
  {
   "cell_type": "code",
   "execution_count": 65,
   "id": "ccad8a7b",
   "metadata": {},
   "outputs": [
    {
     "name": "stdout",
     "output_type": "stream",
     "text": [
      "Missing information dataset shape: (44, 8)\n",
      "----------------------------\n",
      "Missing information columns: Index(['Unnamed: 0', 'directory', 'source_directory', 'patient_directory',\n",
      "       'PET-CT_info', 'system', 'npr', 'scan_date'],\n",
      "      dtype='object')\n",
      "----------------------------\n",
      "0    /media/andres/T7 Shield/ucan_lymfom/ASPTCTX0001_npr987467931634-20180521/PT-20180521-104413-UAS_HUVUD_HALS-UAS-HN-256-FDG-3D-AC-3.2700mm\n",
      "1    /media/andres/T7 Shield/ucan_lymfom/ASPTCTX0001_npr987467931634-20180313/PT-20180313-103949-UAS_HUVUD_HALS-UAS-HN-256-FDG-3D-AC-3.2700mm\n",
      "2       /media/andres/T7 Shield/ucan_lymfom/ASPTCTX0001_npr970699835494-20160310/PT-20160310-125009-WB_F18_3MIN__CT_LUNGA-AC_3D_50CM-3.2700mm\n",
      "Name: directory, dtype: object\n",
      "----------------------------\n",
      "Patient identity: ASPTCTX0001_npr987467931634-20180521\n",
      "Patient identity: ASPTCTX0001_npr987467931634-20180313\n",
      "Patient identity: ASPTCTX0001_npr970699835494-20160310\n",
      "Patient identity: ASPTCTX0001_npr944318966758-20180626\n",
      "Patient identity: ASPTCTX0001_npr890277506575-20170217\n",
      "----------------------------\n",
      "Number of unique visits in the missing information dataset: 44\n"
     ]
    }
   ],
   "source": [
    "# Missing information after filtering exams\n",
    "no_PET_or_CT_info_after_filtering_path = no_PET_or_CT_exams_after_filtering\n",
    "missing_info_dataset = pd.read_excel(no_PET_or_CT_info_after_filtering_path)\n",
    "print(f\"Missing information dataset shape: {missing_info_dataset.shape}\")\n",
    "print(\"----------------------------\")\n",
    "print(f\"Missing information columns: {missing_info_dataset.columns}\")\n",
    "print(\"----------------------------\")\n",
    "display_full(missing_info_dataset[\"directory\"].head(3))\n",
    "print(\"----------------------------\")\n",
    "for folder_path in missing_info_dataset[\"directory\"].head(5):\n",
    "    patient = folder_path.rsplit(sep='/', maxsplit=2)[1]\n",
    "    print(f\"Patient identity: {patient}\")\n",
    "print(\"----------------------------\")\n",
    "print(f'Number of unique visits in the missing information dataset: {missing_info_dataset[\"patient_directory\"].nunique()}')"
   ]
  },
  {
   "cell_type": "code",
   "execution_count": 66,
   "id": "d32e745b",
   "metadata": {},
   "outputs": [
    {
     "name": "stdout",
     "output_type": "stream",
     "text": [
      "Final selected folders dataset shape: (3656, 8)\n",
      "----------------------------\n",
      "Final selected folders dataset's columns: Index(['Unnamed: 0', 'directory', 'source_directory', 'patient_directory',\n",
      "       'PET-CT_info', 'system', 'npr', 'scan_date'],\n",
      "      dtype='object')\n",
      "----------------------------\n",
      "0     /media/andres/T7 Shield/ucan_lymfom/ASPTCTX0001_npr999612862346-20210628/PT-20210628-112746-3.11_WB_F18_FDG_VENFAS__THORAX_INANDAD-QCFX-S_400_M.Free-2.8000mm\n",
      "1      /media/andres/T7 Shield/ucan_lymfom/ASPTCTX0001_npr999612862346-20210628/CT-20210628-114331-3.11_WB_F18_FDG_VENFAS__THORAX_INANDAD-WB_Venfas_3_ax-3.000000mm\n",
      "2    /media/andres/T7 Shield/ucan_lymfom/ASPTCTX0001_npr999612862346-20210407/CT-20210407-105418-3.12_WB_F18_FDG_VENFAS__THORAX_INANDAD-WB_Venfas_0.6_ax-0.625000mm\n",
      "Name: directory, dtype: object\n",
      "----------------------------\n",
      "Patient identity: ASPTCTX0001_npr987467931634-20180521\n",
      "Patient identity: ASPTCTX0001_npr987467931634-20180313\n",
      "Patient identity: ASPTCTX0001_npr970699835494-20160310\n",
      "Patient identity: ASPTCTX0001_npr944318966758-20180626\n",
      "Patient identity: ASPTCTX0001_npr890277506575-20170217\n",
      "----------------------------\n",
      "Number of unique visits in the final selected folders dataset: 1828\n",
      "Number of unique patients in the final selected folders dataset: 1078\n"
     ]
    }
   ],
   "source": [
    "# Missing information after filtering exams\n",
    "final_selected_folders_path = final_selected_folders\n",
    "final_selected_folders_dataset = pd.read_excel(final_selected_folders_path)\n",
    "print(f\"Final selected folders dataset shape: {final_selected_folders_dataset.shape}\")\n",
    "print(\"----------------------------\")\n",
    "print(f\"Final selected folders dataset's columns: {final_selected_folders_dataset.columns}\")\n",
    "print(\"----------------------------\")\n",
    "display_full(final_selected_folders_dataset[\"directory\"].head(3))\n",
    "print(\"----------------------------\")\n",
    "for folder_path in missing_info_dataset[\"directory\"].head(5):\n",
    "    patient = folder_path.rsplit(sep='/', maxsplit=2)[1]\n",
    "    print(f\"Patient identity: {patient}\")\n",
    "print(\"----------------------------\")\n",
    "print(f'Number of unique visits in the final selected folders dataset: {final_selected_folders_dataset[\"patient_directory\"].nunique()}')\n",
    "print(f'Number of unique patients in the final selected folders dataset: {final_selected_folders_dataset[\"npr\"].nunique()}')\n"
   ]
  },
  {
   "cell_type": "code",
   "execution_count": 67,
   "id": "5759a3f799795420",
   "metadata": {
    "collapsed": false
   },
   "outputs": [],
   "source": [
    " dataset = pd.DataFrame(final_selected_folders_dataset, columns=['directory'])\n",
    " countfiles_selected = {\"directory\": [], \"count\":[]}"
   ]
  },
  {
   "cell_type": "code",
   "execution_count": 68,
   "id": "e86d960c",
   "metadata": {},
   "outputs": [],
   "source": [
    "for index, row in final_selected_folders_dataset.iterrows():\n",
    "    count = 0\n",
    "    for path in os.listdir(row[\"directory\"]):\n",
    "        if os.path.isfile(os.path.join(row[\"directory\"], path)):\n",
    "            count += 1\n",
    "            \n",
    "    countfiles_selected[\"directory\"].append(row[\"directory\"])\n",
    "    countfiles_selected[\"count\"].append(count)"
   ]
  },
  {
   "cell_type": "code",
   "execution_count": 69,
   "id": "aa5a8ca7",
   "metadata": {},
   "outputs": [
    {
     "name": "stdout",
     "output_type": "stream",
     "text": [
      "Number of exams with less than 10 files: (1, 3)\n"
     ]
    },
    {
     "data": {
      "text/plain": [
       "array(['/media/andres/T7 Shield/ucan_lymfom/ASPTCTX0001_npr146432928137-20170210/CT-20170213-071303-6.4_UAS-WB-FDG-3D_CT_ART-VENFAS-BUK_ARTFAS_AX-0.773438mm'],\n",
       "      dtype=object)"
      ]
     },
     "execution_count": 69,
     "metadata": {},
     "output_type": "execute_result"
    }
   ],
   "source": [
    "countfiles_selected_df = pd.DataFrame.from_dict(countfiles_selected)\n",
    "exams_with_less_than_10_slices = countfiles_selected_df[countfiles_selected_df[\"count\"] < 11].reset_index()\n",
    "print(f\"Number of exams with less than 10 files: {exams_with_less_than_10_slices.shape}\")\n",
    "exams_with_less_than_10_slices[\"directory\"].unique()"
   ]
  },
  {
   "cell_type": "code",
   "execution_count": 70,
   "id": "d5674841",
   "metadata": {},
   "outputs": [
    {
     "name": "stdout",
     "output_type": "stream",
     "text": [
      "Number of exams with less than 15 files: (1, 3)\n"
     ]
    },
    {
     "data": {
      "text/plain": [
       "array(['/media/andres/T7 Shield/ucan_lymfom/ASPTCTX0001_npr146432928137-20170210/CT-20170213-071303-6.4_UAS-WB-FDG-3D_CT_ART-VENFAS-BUK_ARTFAS_AX-0.773438mm'],\n",
       "      dtype=object)"
      ]
     },
     "execution_count": 70,
     "metadata": {},
     "output_type": "execute_result"
    }
   ],
   "source": [
    "exams_with_less_than_15_slices = countfiles_selected_df[countfiles_selected_df[\"count\"] < 16].reset_index()\n",
    "print(f\"Number of exams with less than 15 files: {exams_with_less_than_15_slices.shape}\")\n",
    "exams_with_less_than_15_slices[\"directory\"].unique()"
   ]
  },
  {
   "cell_type": "code",
   "execution_count": 37,
   "id": "54d69794",
   "metadata": {},
   "outputs": [
    {
     "name": "stdout",
     "output_type": "stream",
     "text": [
      "Number of exams with less than 20 files: (2, 3)\n"
     ]
    },
    {
     "data": {
      "text/plain": [
       "array(['/media/andres/T7 Shield/ucan_lymfom/ASPTCTX0001_npr146432928137-20170210/CT-20170213-071303-6.4_UAS-WB-FDG-3D_CT_ART-VENFAS-BUK_ARTFAS_AX-0.773438mm'],\n",
       "      dtype=object)"
      ]
     },
     "execution_count": 37,
     "metadata": {},
     "output_type": "execute_result"
    }
   ],
   "source": [
    "exams_with_less_than_20_slices = countfiles_selected_df[countfiles_selected_df[\"count\"] < 21].reset_index()\n",
    "print(f\"Number of exams with less than 20 files: {exams_with_less_than_20_slices.shape}\")\n",
    "exams_with_less_than_20_slices[\"directory\"].unique()"
   ]
  },
  {
   "cell_type": "code",
   "execution_count": 38,
   "id": "538dc1e1",
   "metadata": {},
   "outputs": [
    {
     "name": "stdout",
     "output_type": "stream",
     "text": [
      "Number of exams with less than 25 files: (2, 3)\n"
     ]
    },
    {
     "data": {
      "text/plain": [
       "array(['/media/andres/T7 Shield/ucan_lymfom/ASPTCTX0001_npr146432928137-20170210/CT-20170213-071303-6.4_UAS-WB-FDG-3D_CT_ART-VENFAS-BUK_ARTFAS_AX-0.773438mm'],\n",
       "      dtype=object)"
      ]
     },
     "execution_count": 38,
     "metadata": {},
     "output_type": "execute_result"
    }
   ],
   "source": [
    "exams_with_less_than_25_slices = countfiles_selected_df[countfiles_selected_df[\"count\"] < 26].reset_index()\n",
    "print(f\"Number of exams with less than 25 files: {exams_with_less_than_25_slices.shape}\")\n",
    "exams_with_less_than_25_slices[\"directory\"].unique()"
   ]
  },
  {
   "cell_type": "code",
   "execution_count": 39,
   "id": "9910126f",
   "metadata": {},
   "outputs": [
    {
     "name": "stdout",
     "output_type": "stream",
     "text": [
      "Number of exams with less than 30 files: (2, 3)\n"
     ]
    },
    {
     "data": {
      "text/plain": [
       "array(['/media/andres/T7 Shield/ucan_lymfom/ASPTCTX0001_npr146432928137-20170210/CT-20170213-071303-6.4_UAS-WB-FDG-3D_CT_ART-VENFAS-BUK_ARTFAS_AX-0.773438mm'],\n",
       "      dtype=object)"
      ]
     },
     "execution_count": 39,
     "metadata": {},
     "output_type": "execute_result"
    }
   ],
   "source": [
    "exams_with_less_than_30_slices = countfiles_selected_df[countfiles_selected_df[\"count\"] < 31].reset_index()\n",
    "print(f\"Number of exams with less than 30 files: {exams_with_less_than_30_slices.shape}\")\n",
    "exams_with_less_than_30_slices[\"directory\"].unique()"
   ]
  },
  {
   "cell_type": "code",
   "execution_count": 40,
   "id": "8c593165",
   "metadata": {},
   "outputs": [
    {
     "name": "stdout",
     "output_type": "stream",
     "text": [
      "Number of exams with less than 35 files: (2, 3)\n"
     ]
    },
    {
     "data": {
      "text/plain": [
       "array(['/media/andres/T7 Shield/ucan_lymfom/ASPTCTX0001_npr146432928137-20170210/CT-20170213-071303-6.4_UAS-WB-FDG-3D_CT_ART-VENFAS-BUK_ARTFAS_AX-0.773438mm'],\n",
       "      dtype=object)"
      ]
     },
     "execution_count": 40,
     "metadata": {},
     "output_type": "execute_result"
    }
   ],
   "source": [
    "exams_with_less_than_35_slices = countfiles_selected_df[countfiles_selected_df[\"count\"] < 36].reset_index()\n",
    "print(f\"Number of exams with less than 35 files: {exams_with_less_than_35_slices.shape}\")\n",
    "exams_with_less_than_35_slices[\"directory\"].unique()"
   ]
  },
  {
   "cell_type": "code",
   "execution_count": 41,
   "id": "557df43d",
   "metadata": {},
   "outputs": [
    {
     "name": "stdout",
     "output_type": "stream",
     "text": [
      "Number of exams with less than 40 files: (2, 3)\n"
     ]
    },
    {
     "data": {
      "text/plain": [
       "array(['/media/andres/T7 Shield/ucan_lymfom/ASPTCTX0001_npr146432928137-20170210/CT-20170213-071303-6.4_UAS-WB-FDG-3D_CT_ART-VENFAS-BUK_ARTFAS_AX-0.773438mm'],\n",
       "      dtype=object)"
      ]
     },
     "execution_count": 41,
     "metadata": {},
     "output_type": "execute_result"
    }
   ],
   "source": [
    "exams_with_less_than_40_slices = countfiles_selected_df[countfiles_selected_df[\"count\"] < 41].reset_index()\n",
    "print(f\"Number of exams with less than 40 files: {exams_with_less_than_40_slices.shape}\")\n",
    "exams_with_less_than_40_slices[\"directory\"].unique()"
   ]
  },
  {
   "cell_type": "code",
   "execution_count": 42,
   "id": "7401b244",
   "metadata": {},
   "outputs": [
    {
     "name": "stdout",
     "output_type": "stream",
     "text": [
      "Number of exams with less than 45 files: (6, 3)\n"
     ]
    },
    {
     "data": {
      "text/plain": [
       "array(['/media/andres/T7 Shield/ucan_lymfom/ASPTCTX0001_npr167208083241-20160729/CT-20160729-112039-6.5_WB_FDG_RUTIN-STD_50-5.000000mm',\n",
       "       '/media/andres/T7 Shield/ucan_lymfom/ASPTCTX0001_npr146432928137-20170210/CT-20170213-071303-6.4_UAS-WB-FDG-3D_CT_ART-VENFAS-BUK_ARTFAS_AX-0.773438mm',\n",
       "       '/media/andres/T7 Shield/ucan_lymfom/ASPTCTX0001_npr102852715490-20160127/CT-20160127-092024-6.13_WB_F18_3D_3MIN_MALMEL-STD_50_LEGS-5.000000mm'],\n",
       "      dtype=object)"
      ]
     },
     "execution_count": 42,
     "metadata": {},
     "output_type": "execute_result"
    }
   ],
   "source": [
    "exams_with_less_than_45_slices = countfiles_selected_df[countfiles_selected_df[\"count\"] < 46].reset_index()\n",
    "print(f\"Number of exams with less than 45 files: {exams_with_less_than_45_slices.shape}\")\n",
    "exams_with_less_than_45_slices[\"directory\"].unique()"
   ]
  },
  {
   "cell_type": "code",
   "execution_count": 43,
   "id": "82b60234",
   "metadata": {},
   "outputs": [
    {
     "name": "stdout",
     "output_type": "stream",
     "text": [
      "Number of exams with less than 50 files: (8, 3)\n"
     ]
    },
    {
     "data": {
      "text/plain": [
       "array(['/media/andres/T7 Shield/ucan_lymfom/ASPTCTX0001_npr795689775924-20160715/CT-20160715-134112-6.5_WB_FDG_RUTIN-STD_50-5.000000mm',\n",
       "       '/media/andres/T7 Shield/ucan_lymfom/ASPTCTX0001_npr167208083241-20160729/CT-20160729-112039-6.5_WB_FDG_RUTIN-STD_50-5.000000mm',\n",
       "       '/media/andres/T7 Shield/ucan_lymfom/ASPTCTX0001_npr146432928137-20170210/CT-20170213-071303-6.4_UAS-WB-FDG-3D_CT_ART-VENFAS-BUK_ARTFAS_AX-0.773438mm',\n",
       "       '/media/andres/T7 Shield/ucan_lymfom/ASPTCTX0001_npr102852715490-20160127/CT-20160127-092024-6.13_WB_F18_3D_3MIN_MALMEL-STD_50_LEGS-5.000000mm'],\n",
       "      dtype=object)"
      ]
     },
     "execution_count": 43,
     "metadata": {},
     "output_type": "execute_result"
    }
   ],
   "source": [
    "exams_with_less_than_50_slices = countfiles_selected_df[countfiles_selected_df[\"count\"] < 51].reset_index()\n",
    "print(f\"Number of exams with less than 50 files: {exams_with_less_than_50_slices.shape}\")\n",
    "exams_with_less_than_50_slices[\"directory\"].unique()"
   ]
  },
  {
   "cell_type": "code",
   "execution_count": 57,
   "id": "a4740216",
   "metadata": {},
   "outputs": [
    {
     "name": "stdout",
     "output_type": "stream",
     "text": [
      "Number of exams with less than 51 files: (8, 3)\n",
      "<bound method NDFrame.head of    index                                                                                                                                             directory  count\n",
      "0    748                        /media/andres/T7 Shield/ucan_lymfom/ASPTCTX0001_npr795689775924-20160715/CT-20160715-134112-6.5_WB_FDG_RUTIN-STD_50-5.000000mm     50\n",
      "1   3418                        /media/andres/T7 Shield/ucan_lymfom/ASPTCTX0001_npr167208083241-20160729/CT-20160729-112039-6.5_WB_FDG_RUTIN-STD_50-5.000000mm     42\n",
      "2   3494  /media/andres/T7 Shield/ucan_lymfom/ASPTCTX0001_npr146432928137-20170210/CT-20170213-071303-6.4_UAS-WB-FDG-3D_CT_ART-VENFAS-BUK_ARTFAS_AX-0.773438mm      8\n",
      "3   3635         /media/andres/T7 Shield/ucan_lymfom/ASPTCTX0001_npr102852715490-20160127/CT-20160127-092024-6.13_WB_F18_3D_3MIN_MALMEL-STD_50_LEGS-5.000000mm     41>\n"
     ]
    }
   ],
   "source": [
    "exams_with_less_than_55_slices = countfiles_selected_df[countfiles_selected_df[\"count\"] < 56].reset_index()\n",
    "print(f\"Number of exams with less than 51 files: {exams_with_less_than_55_slices.shape}\")\n",
    "exams_to_check = exams_with_less_than_55_slices.drop_duplicates(subset=[\"directory\", \"count\"], keep='first')\n",
    "display_full(exams_to_check.head)"
   ]
  },
  {
   "cell_type": "code",
   "execution_count": null,
   "id": "d8e413b0",
   "metadata": {},
   "outputs": [],
   "source": [
    "\"/media/andres/T7 Shield/ucan_lymfom/ASPTCTX0001_npr795689775924-20160715/CT-20160715-134112-6.5_WB_FDG_RUTIN-STD_50-5.000000mm\" ---> 50 files distorted\n",
    "\"/media/andres/T7 Shield/ucan_lymfom/ASPTCTX0001_npr167208083241-20160729/CT-20160729-112039-6.5_WB_FDG_RUTIN-STD_50-5.000000mm\" ---> 42 files distorted\n",
    "\"/media/andres/T7 Shield/ucan_lymfom/ASPTCTX0001_npr146432928137-20170210/CT-20170213-071303-6.4_UAS-WB-FDG-3D_CT_ART-VENFAS-BUK_ARTFAS_AX-0.773438mm\" ---> 8 files distorted\n",
    "\"/media/andres/T7 Shield/ucan_lymfom/ASPTCTX0001_npr102852715490-20160127/CT-20160127-092024-6.13_WB_F18_3D_3MIN_MALMEL-STD_50_LEGS-5.000000mm\" ---> 41 files distorted"
   ]
  },
  {
   "cell_type": "code",
   "execution_count": 75,
   "id": "462710ec",
   "metadata": {},
   "outputs": [
    {
     "name": "stdout",
     "output_type": "stream",
     "text": [
      "Number of exams with less than 100 files: (6, 3)\n",
      "(6, 3)\n",
      "<bound method NDFrame.head of    index                                                                                                                                     directory  count\n",
      "0    295          /media/andres/T7 Shield/ucan_lymfom/ASPTCTX0001_npr920358059538-20191001/PT-20191001-100338-3.6_WB_FDG_CT_VENFAS-QCFX-S_400-2.7900mm     71\n",
      "1    726   /media/andres/T7 Shield/ucan_lymfom/ASPTCTX0001_npr801182059852-20220811/PT-20220811-104535-3.3_WB_F18_FDG_NATIV-QCFX-S_400_M.Free-2.8000mm     89\n",
      "2   1431          /media/andres/T7 Shield/ucan_lymfom/ASPTCTX0001_npr629884514089-20190205/PT-20190205-121437-3.5_WB_FDG_CT_VENFAS-QCFX-S_400-2.7900mm     71\n",
      "3   1446  /media/andres/T7 Shield/ucan_lymfom/ASPTCTX0001_npr626223004434-20211203/PT-20211203-114349-3.8_WB_F18_FDG_VENFAS-QCFX-S_400_M.Free-2.8000mm     89\n",
      "4   2343        /media/andres/T7 Shield/ucan_lymfom/ASPTCTX0001_npr411683620612-20171012/PT-20171012-124107-UAS-WB-FDG-3D_CT_VENFAS-WB-FDG-AC-3.2700mm     87\n",
      "5   2954         /media/andres/T7 Shield/ucan_lymfom/ASPTCTX0001_npr272883555343-20180915/PT-20180915-104655-6.39_WB_FDG_CT_VENFAS-QCFX-S_400-2.7900mm     71>\n"
     ]
    }
   ],
   "source": [
    "exams_with_less_than_100_slices = countfiles_selected_df[countfiles_selected_df.eval(\"56 < count < 101\")].reset_index()\n",
    "print(f\"Number of exams with less than 100 files: {exams_with_less_than_100_slices.shape}\")\n",
    "exams_to_check = exams_with_less_than_100_slices.drop_duplicates(subset=[\"directory\", \"count\"], keep='first')\n",
    "print(exams_to_check.shape)\n",
    "display_full(exams_to_check.head)\n",
    "\n"
   ]
  },
  {
   "cell_type": "code",
   "execution_count": 76,
   "id": "442978fc",
   "metadata": {},
   "outputs": [
    {
     "name": "stdout",
     "output_type": "stream",
     "text": [
      "Number of exams with less than 200 files: (7, 3)\n",
      "(7, 3)\n",
      "<bound method NDFrame.head of    index                                                                                                                                                      directory  count\n",
      "0      6                     /media/andres/T7 Shield/ucan_lymfom/ASPTCTX0001_npr999561275820-20130305/CT-20130305-134653-6.1_UAS-WB-FDG-3D-STANDARD_CT_RECON-3.750000mm    180\n",
      "1   1122  /media/andres/T7 Shield/ucan_lymfom/ASPTCTX0001_npr692109775749-20220127/PT-20220127-100902-3.11_WB_F18_FDG_VENFAS__THORAX_INANDAD-QCFX-S_400_M.Free-2.8000mm    134\n",
      "2   1851                     /media/andres/T7 Shield/ucan_lymfom/ASPTCTX0001_npr530844574765-20110310/CT-20110310-114334-6.3_UAS-WB-FDG-3D-STANDARD_CT_RECON-3.750000mm    180\n",
      "3   2483                           /media/andres/T7 Shield/ucan_lymfom/ASPTCTX0001_npr387759905377-20171218/CT-20171218-151240-6.3_UAS-WB-FDG-3D_CT_VENFAS-AX_2.5-2.5mm    163\n",
      "4   3226                            /media/andres/T7 Shield/ucan_lymfom/ASPTCTX0001_npr215862084340-20140710/PT-20140710-102312-UAS-WB-FDG-3D-UAS-WB-FDG-3D-AC-3.2700mm    127\n",
      "5   3227                     /media/andres/T7 Shield/ucan_lymfom/ASPTCTX0001_npr215862084340-20140710/CT-20140710-102150-6.1_UAS-WB-FDG-3D-STANDARD_CT_RECON-3.750000mm    110\n",
      "6   3235                     /media/andres/T7 Shield/ucan_lymfom/ASPTCTX0001_npr215862084340-20110124/CT-20110124-110812-6.3_UAS-WB-FDG-3D-STANDARD_CT_RECON-3.750000mm    180>\n"
     ]
    }
   ],
   "source": [
    "exams_with_less_than_200_slices = countfiles_selected_df[countfiles_selected_df.eval(\"101 < count < 201\")].reset_index()\n",
    "print(f\"Number of exams with less than 200 files: {exams_with_less_than_200_slices.shape}\")\n",
    "exams_to_check = exams_with_less_than_200_slices.drop_duplicates(subset=[\"directory\", \"count\"], keep='first')\n",
    "print(exams_to_check.shape)\n",
    "display_full(exams_to_check.head)"
   ]
  },
  {
   "cell_type": "code",
   "execution_count": 79,
   "id": "7d6324f3",
   "metadata": {},
   "outputs": [
    {
     "name": "stdout",
     "output_type": "stream",
     "text": [
      "Number of exams with less than 180 files: (14, 3)\n",
      "(14, 3)\n",
      "<bound method NDFrame.head of     index                                                                                                                                                      directory  count\n",
      "0     295                           /media/andres/T7 Shield/ucan_lymfom/ASPTCTX0001_npr920358059538-20191001/PT-20191001-100338-3.6_WB_FDG_CT_VENFAS-QCFX-S_400-2.7900mm     71\n",
      "1     726                    /media/andres/T7 Shield/ucan_lymfom/ASPTCTX0001_npr801182059852-20220811/PT-20220811-104535-3.3_WB_F18_FDG_NATIV-QCFX-S_400_M.Free-2.8000mm     89\n",
      "2     748                                 /media/andres/T7 Shield/ucan_lymfom/ASPTCTX0001_npr795689775924-20160715/CT-20160715-134112-6.5_WB_FDG_RUTIN-STD_50-5.000000mm     50\n",
      "3    1122  /media/andres/T7 Shield/ucan_lymfom/ASPTCTX0001_npr692109775749-20220127/PT-20220127-100902-3.11_WB_F18_FDG_VENFAS__THORAX_INANDAD-QCFX-S_400_M.Free-2.8000mm    134\n",
      "4    1431                           /media/andres/T7 Shield/ucan_lymfom/ASPTCTX0001_npr629884514089-20190205/PT-20190205-121437-3.5_WB_FDG_CT_VENFAS-QCFX-S_400-2.7900mm     71\n",
      "5    1446                   /media/andres/T7 Shield/ucan_lymfom/ASPTCTX0001_npr626223004434-20211203/PT-20211203-114349-3.8_WB_F18_FDG_VENFAS-QCFX-S_400_M.Free-2.8000mm     89\n",
      "6    2343                         /media/andres/T7 Shield/ucan_lymfom/ASPTCTX0001_npr411683620612-20171012/PT-20171012-124107-UAS-WB-FDG-3D_CT_VENFAS-WB-FDG-AC-3.2700mm     87\n",
      "7    2483                           /media/andres/T7 Shield/ucan_lymfom/ASPTCTX0001_npr387759905377-20171218/CT-20171218-151240-6.3_UAS-WB-FDG-3D_CT_VENFAS-AX_2.5-2.5mm    163\n",
      "8    2954                          /media/andres/T7 Shield/ucan_lymfom/ASPTCTX0001_npr272883555343-20180915/PT-20180915-104655-6.39_WB_FDG_CT_VENFAS-QCFX-S_400-2.7900mm     71\n",
      "9    3226                            /media/andres/T7 Shield/ucan_lymfom/ASPTCTX0001_npr215862084340-20140710/PT-20140710-102312-UAS-WB-FDG-3D-UAS-WB-FDG-3D-AC-3.2700mm    127\n",
      "10   3227                     /media/andres/T7 Shield/ucan_lymfom/ASPTCTX0001_npr215862084340-20140710/CT-20140710-102150-6.1_UAS-WB-FDG-3D-STANDARD_CT_RECON-3.750000mm    110\n",
      "11   3418                                 /media/andres/T7 Shield/ucan_lymfom/ASPTCTX0001_npr167208083241-20160729/CT-20160729-112039-6.5_WB_FDG_RUTIN-STD_50-5.000000mm     42\n",
      "12   3494           /media/andres/T7 Shield/ucan_lymfom/ASPTCTX0001_npr146432928137-20170210/CT-20170213-071303-6.4_UAS-WB-FDG-3D_CT_ART-VENFAS-BUK_ARTFAS_AX-0.773438mm      8\n",
      "13   3635                  /media/andres/T7 Shield/ucan_lymfom/ASPTCTX0001_npr102852715490-20160127/CT-20160127-092024-6.13_WB_F18_3D_3MIN_MALMEL-STD_50_LEGS-5.000000mm     41>\n"
     ]
    }
   ],
   "source": [
    "exams_with_less_than_180_slices = countfiles_selected_df[countfiles_selected_df[\"count\"] < 179].reset_index()\n",
    "print(f\"Number of exams with less than 180 files: {exams_with_less_than_180_slices.shape}\")\n",
    "exams_to_check = exams_with_less_than_180_slices.drop_duplicates(subset=[\"directory\", \"count\"], keep='first')\n",
    "print(exams_to_check.shape)\n",
    "display_full(exams_to_check.head)"
   ]
  },
  {
   "cell_type": "code",
   "execution_count": null,
   "id": "7409554e",
   "metadata": {},
   "outputs": [],
   "source": []
  }
 ],
 "metadata": {
  "kernelspec": {
   "display_name": "Python 3",
   "language": "python",
   "name": "python3"
  },
  "language_info": {
   "codemirror_mode": {
    "name": "ipython",
    "version": 2
   },
   "file_extension": ".py",
   "mimetype": "text/x-python",
   "name": "python",
   "nbconvert_exporter": "python",
   "pygments_lexer": "ipython2",
   "version": "2.7.6"
  }
 },
 "nbformat": 4,
 "nbformat_minor": 5
}
