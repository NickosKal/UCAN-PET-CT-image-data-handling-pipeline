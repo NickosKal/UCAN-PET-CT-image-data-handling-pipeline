{
 "cells": [
  {
   "cell_type": "code",
   "execution_count": 5,
   "id": "initial_id",
   "metadata": {
    "ExecuteTime": {
     "end_time": "2023-10-31T16:21:08.112498800Z",
     "start_time": "2023-10-31T16:21:08.093073800Z"
    },
    "collapsed": true
   },
   "outputs": [],
   "source": [
    "import os\n",
    "import numpy as np\n",
    "import pandas as pd\n",
    "\n",
    "source_path = \"/media/andres/T7 Shield/ucan_lymfom/Excel_files/03_11_2023\""
   ]
  },
  {
   "cell_type": "code",
   "execution_count": 6,
   "id": "3a285678fd28e83",
   "metadata": {
    "ExecuteTime": {
     "end_time": "2023-10-31T16:21:08.933054900Z",
     "start_time": "2023-10-31T16:21:08.923391800Z"
    },
    "collapsed": false
   },
   "outputs": [],
   "source": [
    "rejected_folder_path = os.path.join(source_path, 'Rejected_exams_from_U-CAN-Lymfom.xlsx')\n",
    "source_filtered_folder_path = os.path.join(source_path, 'Source_Filtered_exams_from_U-CAN-Lymfom.xlsx')\n",
    "no_PET_or_CT_exams_before_filtering = os.path.join(source_path, 'No_PT_or_CT_exams_from_U-CAN-Lymfom_before_selection_process.xlsx')\n",
    "no_PET_or_CT_exams_after_filtering = os.path.join(source_path, 'No_PT_or_CT_exams_from_U-CAN-Lymfom_after_selection_process.xlsx')\n",
    "selected_folders_before_filtering = os.path.join(source_path, 'Selected_exams_before_filtering_from_U-CAN-Lymfom.xlsx')\n",
    "selected_folders_after_filtering = os.path.join(source_path, 'Selected_exams_after_filtering_from_U-CAN-Lymfom.xlsx')\n",
    "final_selected_folders = os.path.join(source_path, \"Final_Selected_exams_from_U-CAN-Lymfom.xlsx\")"
   ]
  },
  {
   "cell_type": "code",
   "execution_count": 7,
   "id": "6af576a7de86b72d",
   "metadata": {
    "ExecuteTime": {
     "end_time": "2023-10-31T16:21:14.965720100Z",
     "start_time": "2023-10-31T16:21:14.945715Z"
    },
    "collapsed": false
   },
   "outputs": [],
   "source": [
    "def display_full(x):\n",
    "    with pd.option_context(\"display.max_rows\", None,\n",
    "                           \"display.max_columns\", None,\n",
    "                           \"display.width\", 20000,\n",
    "                           \"display.max_colwidth\", None,\n",
    "                           ):\n",
    "        print(x)"
   ]
  },
  {
   "cell_type": "code",
   "execution_count": 8,
   "id": "1dbc05ef",
   "metadata": {},
   "outputs": [
    {
     "name": "stdout",
     "output_type": "stream",
     "text": [
      "Final dataset shape: (3656, 8)\n",
      "----------------------------\n",
      "Final dataset columns: Index(['Unnamed: 0', 'directory', 'source_directory', 'patient_directory',\n",
      "       'PET-CT_info', 'system', 'npr', 'scan_date'],\n",
      "      dtype='object')\n",
      "----------------------------\n",
      "0     /media/andres/T7 Shield/ucan_lymfom/ASPTCTX0001_npr999612862346-20210628/PT-20210628-112746-3.11_WB_F18_FDG_VENFAS__THORAX_INANDAD-QCFX-S_400_M.Free-2.8000mm\n",
      "1      /media/andres/T7 Shield/ucan_lymfom/ASPTCTX0001_npr999612862346-20210628/CT-20210628-114331-3.11_WB_F18_FDG_VENFAS__THORAX_INANDAD-WB_Venfas_3_ax-3.000000mm\n",
      "2    /media/andres/T7 Shield/ucan_lymfom/ASPTCTX0001_npr999612862346-20210407/CT-20210407-105418-3.12_WB_F18_FDG_VENFAS__THORAX_INANDAD-WB_Venfas_0.6_ax-0.625000mm\n",
      "Name: directory, dtype: object\n",
      "----------------------------\n",
      "Patient identity: ASPTCTX0001_npr999612862346-20210628\n",
      "Patient identity: ASPTCTX0001_npr999612862346-20210628\n",
      "Patient identity: ASPTCTX0001_npr999612862346-20210407\n",
      "Patient identity: ASPTCTX0001_npr999612862346-20210407\n",
      "Patient identity: ASPTCTX0001_npr999612862346-20210212\n",
      "----------------------------\n",
      "Number of unique patients in the final dataset: 1828\n"
     ]
    }
   ],
   "source": [
    "# Final selected exams\n",
    "dataset_path = final_selected_folders\n",
    "dataset = pd.read_excel(dataset_path)\n",
    "print(f\"Final dataset shape: {dataset.shape}\")\n",
    "print(\"----------------------------\")\n",
    "print(f\"Final dataset columns: {dataset.columns}\")\n",
    "print(\"----------------------------\")\n",
    "display_full(dataset[\"directory\"].head(3))\n",
    "print(\"----------------------------\")\n",
    "for folder_path in dataset[\"directory\"].head(5):\n",
    "    patient = folder_path.rsplit(sep='/', maxsplit=2)[1]\n",
    "    print(f\"Patient identity: {patient}\")\n",
    "print(\"----------------------------\")\n",
    "print(f'Number of unique patients in the final dataset: {dataset[\"patient_directory\"].nunique()}')\n"
   ]
  },
  {
   "cell_type": "code",
   "execution_count": 9,
   "id": "ac5977f2",
   "metadata": {},
   "outputs": [
    {
     "name": "stdout",
     "output_type": "stream",
     "text": [
      "Missing information dataset shape: (14, 9)\n",
      "----------------------------\n",
      "Missing information columns: Index([       'Unnamed: 0',               'npr',         'scan_date',\n",
      "                         0,         'directory',  'source_directory',\n",
      "       'patient_directory',       'PET-CT_info',            'system'],\n",
      "      dtype='object')\n",
      "----------------------------\n",
      "0         /media/andres/T7 Shield/ucan_lymfom/ASPTCTX0001_npr116163692968-20201229/CT-20201229-104330-3.10_WB_FDG_VENFAS_INANDAD-WB_Venfas_3_ax-3.000000mm\n",
      "1           /media/andres/T7 Shield/ucan_lymfom/ASPTCTX0001_npr116163692968-20201229/CT-20201229-103658-3.10_WB_FDG_VENFAS_INANDAD-Lunga_0.6_ax-0.625000mm\n",
      "2    /media/andres/T7 Shield/ucan_lymfom/ASPTCTX0001_npr116163692968-20201229/CT-20201229-103658-3.10_WB_FDG_VENFAS_INANDAD-WB_Ben_lunga_0.6_ax-0.625000mm\n",
      "Name: directory, dtype: object\n",
      "----------------------------\n",
      "Patient identity: ASPTCTX0001_npr116163692968-20201229\n",
      "Patient identity: ASPTCTX0001_npr116163692968-20201229\n",
      "Patient identity: ASPTCTX0001_npr116163692968-20201229\n",
      "Patient identity: ASPTCTX0001_npr150867785519-20160927\n",
      "Patient identity: ASPTCTX0001_npr150867785519-20160927\n",
      "----------------------------\n",
      "Number of unique patients in the missing information dataset: 8\n"
     ]
    }
   ],
   "source": [
    "# Missing information before filtering exams\n",
    "no_PET_or_CT_info_before_filtering_path = no_PET_or_CT_exams_before_filtering\n",
    "missing_info_dataset = pd.read_excel(no_PET_or_CT_info_before_filtering_path)\n",
    "print(f\"Missing information dataset shape: {missing_info_dataset.shape}\")\n",
    "print(\"----------------------------\")\n",
    "print(f\"Missing information columns: {missing_info_dataset.columns}\")\n",
    "print(\"----------------------------\")\n",
    "display_full(missing_info_dataset[\"directory\"].head(3))\n",
    "print(\"----------------------------\")\n",
    "for folder_path in missing_info_dataset[\"directory\"].head(5):\n",
    "    patient = folder_path.rsplit(sep='/', maxsplit=2)[1]\n",
    "    print(f\"Patient identity: {patient}\")\n",
    "print(\"----------------------------\")\n",
    "print(f'Number of unique patients in the missing information dataset: {missing_info_dataset[\"patient_directory\"].nunique()}')"
   ]
  },
  {
   "cell_type": "code",
   "execution_count": 10,
   "id": "ccad8a7b",
   "metadata": {},
   "outputs": [
    {
     "name": "stdout",
     "output_type": "stream",
     "text": [
      "Missing information dataset shape: (44, 8)\n",
      "----------------------------\n",
      "Missing information columns: Index(['Unnamed: 0', 'directory', 'source_directory', 'patient_directory',\n",
      "       'PET-CT_info', 'system', 'npr', 'scan_date'],\n",
      "      dtype='object')\n",
      "----------------------------\n",
      "0    /media/andres/T7 Shield/ucan_lymfom/ASPTCTX0001_npr987467931634-20180521/PT-20180521-104413-UAS_HUVUD_HALS-UAS-HN-256-FDG-3D-AC-3.2700mm\n",
      "1    /media/andres/T7 Shield/ucan_lymfom/ASPTCTX0001_npr987467931634-20180313/PT-20180313-103949-UAS_HUVUD_HALS-UAS-HN-256-FDG-3D-AC-3.2700mm\n",
      "2       /media/andres/T7 Shield/ucan_lymfom/ASPTCTX0001_npr970699835494-20160310/PT-20160310-125009-WB_F18_3MIN__CT_LUNGA-AC_3D_50CM-3.2700mm\n",
      "Name: directory, dtype: object\n",
      "----------------------------\n",
      "Patient identity: ASPTCTX0001_npr987467931634-20180521\n",
      "Patient identity: ASPTCTX0001_npr987467931634-20180313\n",
      "Patient identity: ASPTCTX0001_npr970699835494-20160310\n",
      "Patient identity: ASPTCTX0001_npr944318966758-20180626\n",
      "Patient identity: ASPTCTX0001_npr890277506575-20170217\n",
      "----------------------------\n",
      "Number of unique patients in the missing information dataset: 44\n"
     ]
    }
   ],
   "source": [
    "# Missing information after filtering exams\n",
    "no_PET_or_CT_info_after_filtering_path = no_PET_or_CT_exams_after_filtering\n",
    "missing_info_dataset = pd.read_excel(no_PET_or_CT_info_after_filtering_path)\n",
    "print(f\"Missing information dataset shape: {missing_info_dataset.shape}\")\n",
    "print(\"----------------------------\")\n",
    "print(f\"Missing information columns: {missing_info_dataset.columns}\")\n",
    "print(\"----------------------------\")\n",
    "display_full(missing_info_dataset[\"directory\"].head(3))\n",
    "print(\"----------------------------\")\n",
    "for folder_path in missing_info_dataset[\"directory\"].head(5):\n",
    "    patient = folder_path.rsplit(sep='/', maxsplit=2)[1]\n",
    "    print(f\"Patient identity: {patient}\")\n",
    "print(\"----------------------------\")\n",
    "print(f'Number of unique patients in the missing information dataset: {missing_info_dataset[\"patient_directory\"].nunique()}')"
   ]
  },
  {
   "cell_type": "code",
   "execution_count": null,
   "id": "d32e745b",
   "metadata": {},
   "outputs": [],
   "source": []
  },
  {
   "cell_type": "code",
   "execution_count": null,
   "id": "8a858ea30dacd18d",
   "metadata": {
    "ExecuteTime": {
     "end_time": "2023-10-31T17:08:04.033959900Z",
     "start_time": "2023-10-31T17:08:03.921937Z"
    },
    "collapsed": false
   },
   "outputs": [],
   "source": []
  },
  {
   "cell_type": "code",
   "execution_count": null,
   "id": "5759a3f799795420",
   "metadata": {
    "collapsed": false
   },
   "outputs": [],
   "source": []
  }
 ],
 "metadata": {
  "kernelspec": {
   "display_name": "Python 3",
   "language": "python",
   "name": "python3"
  },
  "language_info": {
   "codemirror_mode": {
    "name": "ipython",
    "version": 3
   },
   "file_extension": ".py",
   "mimetype": "text/x-python",
   "name": "python",
   "nbconvert_exporter": "python",
   "pygments_lexer": "ipython3",
   "version": "3.11.5"
  }
 },
 "nbformat": 4,
 "nbformat_minor": 5
}
