{
 "cells": [
  {
   "cell_type": "code",
   "execution_count": 1,
   "metadata": {},
   "outputs": [
    {
     "name": "stdout",
     "output_type": "stream",
     "text": [
      "env: SITK_SHOW_COMMAND='C:\\ProgramData\\slicer.org\\Slicer 5.4.0\\Slicer'\n"
     ]
    }
   ],
   "source": [
    "import SimpleITK as sitk\n",
    "import matplotlib.pyplot as plt\n",
    "import numpy as np\n",
    "import pandas as pd\n",
    "import scipy.ndimage\n",
    "import os\n",
    "import cv2\n",
    "from tqdm import tqdm\n",
    "from utils import get_2D_projections\n",
    "from datetime import datetime\n",
    "import traceback\n",
    "\n",
    "%env SITK_SHOW_COMMAND 'C:\\ProgramData\\slicer.org\\Slicer 5.4.0\\Slicer'"
   ]
  },
  {
   "cell_type": "code",
   "execution_count": 2,
   "metadata": {},
   "outputs": [],
   "source": [
    "import sys\n",
    "\n",
    "parent_dir = os.path.abspath('..')\n",
    "if parent_dir not in sys.path:\n",
    "    sys.path.append(parent_dir)\n",
    "\n",
    "from Utils import utils"
   ]
  },
  {
   "cell_type": "code",
   "execution_count": 3,
   "metadata": {},
   "outputs": [
    {
     "data": {
      "text/plain": [
       "[{'paths': {'source_path_wd': 'E:/U-CAN-Lymfom_A',\n",
       "   'source_path_bd': 'E:/ucan_lymfom'}},\n",
       " {'filenames': {'incomplete_folders_filename': 'No_PTorCT_exams_from_U-CAN-Lymfom.xlsx',\n",
       "   'final_selected_images_filename': 'FinalSelected_exams_from_U-CAN-Lymfom.xlsx',\n",
       "   'list_of_distorted_images_filename': 'distorted_lst.txt'}},\n",
       " {'filenames': {'final_selected_images_filename': 'Finalized_dataset.xlsx'}},\n",
       " {'resampling': {'voxel_spacing': [2, 2, 3], 'image_size': [384, 384, 384]}},\n",
       " {'paths': {'destination_path': 'Selected_for_UCAN_project/2dprojections'},\n",
       "  'projections': {'modality': ['CT', 'PET', 'SUV'],\n",
       "   'tissue_type': ['LT', 'AT', 'LT', 'B', 'N'],\n",
       "   'projection_type': ['sum', 'min', 'max', 'mean', 'std']}}]"
      ]
     },
     "execution_count": 3,
     "metadata": {},
     "output_type": "execute_result"
    }
   ],
   "source": [
    "config = utils.read_config()\n",
    "config"
   ]
  },
  {
   "cell_type": "code",
   "execution_count": 4,
   "metadata": {},
   "outputs": [
    {
     "data": {
      "text/plain": [
       "{'source_path_wd': 'E:/U-CAN-Lymfom_A', 'source_path_bd': 'E:/ucan_lymfom'}"
      ]
     },
     "execution_count": 4,
     "metadata": {},
     "output_type": "execute_result"
    }
   ],
   "source": [
    "config[0]['paths']"
   ]
  },
  {
   "cell_type": "code",
   "execution_count": 5,
   "metadata": {},
   "outputs": [
    {
     "data": {
      "text/plain": [
       "'E:/U-CAN-Lymfom_A\\\\Selected_for_UCAN_project/2dprojections'"
      ]
     },
     "execution_count": 5,
     "metadata": {},
     "output_type": "execute_result"
    }
   ],
   "source": [
    "source_path_wd = config[0]['paths']['source_path_wd']\n",
    "source_path_bd = config[0]['paths']['source_path_bd']\n",
    "final_selected_images_filename = config[2]['filenames']['final_selected_images_filename']\n",
    "projection_path = config[4]['paths']['destination_path']\n",
    "\n",
    "selection_dataframe = os.path.join(source_path_wd, final_selected_images_filename)\n",
    "final_projections = os.path.join(source_path_wd, projection_path)\n",
    "final_projections"
   ]
  },
  {
   "cell_type": "code",
   "execution_count": 6,
   "metadata": {},
   "outputs": [
    {
     "data": {
      "text/plain": [
       "'E:/U-CAN-Lymfom_A\\\\Finalized_dataset.xlsx'"
      ]
     },
     "execution_count": 6,
     "metadata": {},
     "output_type": "execute_result"
    }
   ],
   "source": [
    "selection_dataframe"
   ]
  },
  {
   "cell_type": "code",
   "execution_count": 7,
   "metadata": {},
   "outputs": [
    {
     "name": "stdout",
     "output_type": "stream",
     "text": [
      "(1316, 42)\n"
     ]
    },
    {
     "data": {
      "text/html": [
       "<div>\n",
       "<style scoped>\n",
       "    .dataframe tbody tr th:only-of-type {\n",
       "        vertical-align: middle;\n",
       "    }\n",
       "\n",
       "    .dataframe tbody tr th {\n",
       "        vertical-align: top;\n",
       "    }\n",
       "\n",
       "    .dataframe thead th {\n",
       "        text-align: right;\n",
       "    }\n",
       "</style>\n",
       "<table border=\"1\" class=\"dataframe\">\n",
       "  <thead>\n",
       "    <tr style=\"text-align: right;\">\n",
       "      <th></th>\n",
       "      <th>directory</th>\n",
       "      <th>source_directory</th>\n",
       "      <th>patient_directory</th>\n",
       "      <th>PET-CT_info</th>\n",
       "      <th>system</th>\n",
       "      <th>npr</th>\n",
       "      <th>scan_date</th>\n",
       "      <th>dicom_img</th>\n",
       "      <th>patient_id</th>\n",
       "      <th>patient_age</th>\n",
       "      <th>...</th>\n",
       "      <th>modality</th>\n",
       "      <th>manufacturer</th>\n",
       "      <th>manufacturer_model</th>\n",
       "      <th>radiopharmaceutical</th>\n",
       "      <th>radiopharmaceutical_volume</th>\n",
       "      <th>radiopharmaceutical_start_time</th>\n",
       "      <th>radionuclide_total_dose</th>\n",
       "      <th>radionuclide_half_life</th>\n",
       "      <th>radionuclide_positron_fraction</th>\n",
       "      <th>radiopharmaceutical_start_date_time</th>\n",
       "    </tr>\n",
       "  </thead>\n",
       "  <tbody>\n",
       "    <tr>\n",
       "      <th>0</th>\n",
       "      <td>E:/U-CAN-Lymfom_A/Raw_DCM_transf_date_20221205...</td>\n",
       "      <td>E:/U-CAN-Lymfom_A/Raw_DCM_transf_date_20221205...</td>\n",
       "      <td>ASPTCTX0001_npr134758508773-20191212</td>\n",
       "      <td>CT-20191212-111939-3.7-WB_FDG-CT-VENFAS-WB-Ven...</td>\n",
       "      <td>ASPTCTX0001</td>\n",
       "      <td>npr134758508773</td>\n",
       "      <td>20191212</td>\n",
       "      <td>1.2.840.113619.2.405.3.3842664208.103.15760743...</td>\n",
       "      <td>npr134758508773</td>\n",
       "      <td>74.0</td>\n",
       "      <td>...</td>\n",
       "      <td>CT</td>\n",
       "      <td>'GE MEDICAL SYSTEMS'</td>\n",
       "      <td>'Discovery MI'</td>\n",
       "      <td>NaN</td>\n",
       "      <td>NaN</td>\n",
       "      <td>NaN</td>\n",
       "      <td>NaN</td>\n",
       "      <td>NaN</td>\n",
       "      <td>NaN</td>\n",
       "      <td>NaN</td>\n",
       "    </tr>\n",
       "    <tr>\n",
       "      <th>1</th>\n",
       "      <td>E:/U-CAN-Lymfom_A/Raw_DCM_transf_date_20221205...</td>\n",
       "      <td>E:/U-CAN-Lymfom_A/Raw_DCM_transf_date_20221205...</td>\n",
       "      <td>ASPTCTX0001_npr134758508773-20191212</td>\n",
       "      <td>PT-20191212-110507-3.7-WB_FDG-CT-VENFAS-QCFX-S...</td>\n",
       "      <td>ASPTCTX0001</td>\n",
       "      <td>npr134758508773</td>\n",
       "      <td>20191212</td>\n",
       "      <td>1.2.840.113619.2.405.3842664208.1576145387.106224</td>\n",
       "      <td>npr134758508773</td>\n",
       "      <td>74.0</td>\n",
       "      <td>...</td>\n",
       "      <td>PT</td>\n",
       "      <td>'GE MEDICAL SYSTEMS'</td>\n",
       "      <td>'Discovery MI'</td>\n",
       "      <td>'FDG -- fluorodeoxyglucose'</td>\n",
       "      <td>'0.0'</td>\n",
       "      <td>'095300.00'</td>\n",
       "      <td>'194729152.0'</td>\n",
       "      <td>'6586.2001953125'</td>\n",
       "      <td>'0.96700000762939'</td>\n",
       "      <td>'20191212095300.00'</td>\n",
       "    </tr>\n",
       "  </tbody>\n",
       "</table>\n",
       "<p>2 rows × 42 columns</p>\n",
       "</div>"
      ],
      "text/plain": [
       "                                           directory  \\\n",
       "0  E:/U-CAN-Lymfom_A/Raw_DCM_transf_date_20221205...   \n",
       "1  E:/U-CAN-Lymfom_A/Raw_DCM_transf_date_20221205...   \n",
       "\n",
       "                                    source_directory  \\\n",
       "0  E:/U-CAN-Lymfom_A/Raw_DCM_transf_date_20221205...   \n",
       "1  E:/U-CAN-Lymfom_A/Raw_DCM_transf_date_20221205...   \n",
       "\n",
       "                      patient_directory  \\\n",
       "0  ASPTCTX0001_npr134758508773-20191212   \n",
       "1  ASPTCTX0001_npr134758508773-20191212   \n",
       "\n",
       "                                         PET-CT_info       system  \\\n",
       "0  CT-20191212-111939-3.7-WB_FDG-CT-VENFAS-WB-Ven...  ASPTCTX0001   \n",
       "1  PT-20191212-110507-3.7-WB_FDG-CT-VENFAS-QCFX-S...  ASPTCTX0001   \n",
       "\n",
       "               npr scan_date  \\\n",
       "0  npr134758508773  20191212   \n",
       "1  npr134758508773  20191212   \n",
       "\n",
       "                                           dicom_img       patient_id  \\\n",
       "0  1.2.840.113619.2.405.3.3842664208.103.15760743...  npr134758508773   \n",
       "1  1.2.840.113619.2.405.3842664208.1576145387.106224  npr134758508773   \n",
       "\n",
       "   patient_age  ... modality           manufacturer  manufacturer_model  \\\n",
       "0         74.0  ...       CT   'GE MEDICAL SYSTEMS'      'Discovery MI'   \n",
       "1         74.0  ...       PT   'GE MEDICAL SYSTEMS'      'Discovery MI'   \n",
       "\n",
       "            radiopharmaceutical  radiopharmaceutical_volume  \\\n",
       "0                           NaN                         NaN   \n",
       "1   'FDG -- fluorodeoxyglucose'                       '0.0'   \n",
       "\n",
       "   radiopharmaceutical_start_time  radionuclide_total_dose  \\\n",
       "0                             NaN                      NaN   \n",
       "1                     '095300.00'            '194729152.0'   \n",
       "\n",
       "   radionuclide_half_life radionuclide_positron_fraction  \\\n",
       "0                     NaN                            NaN   \n",
       "1       '6586.2001953125'             '0.96700000762939'   \n",
       "\n",
       "  radiopharmaceutical_start_date_time  \n",
       "0                                 NaN  \n",
       "1                 '20191212095300.00'  \n",
       "\n",
       "[2 rows x 42 columns]"
      ]
     },
     "execution_count": 7,
     "metadata": {},
     "output_type": "execute_result"
    }
   ],
   "source": [
    "master_df = pd.read_excel(selection_dataframe)\n",
    "try:\n",
    "    drop_col_list = [col for col in master_df.columns if 'unnamed' in col.lower()]\n",
    "    master_df.drop(columns=drop_col_list, inplace=True)\n",
    "except:\n",
    "    pass\n",
    "print(master_df.shape)\n",
    "master_df.head(2)"
   ]
  },
  {
   "cell_type": "code",
   "execution_count": 8,
   "metadata": {},
   "outputs": [
    {
     "data": {
      "text/plain": [
       "{'resampling': {'voxel_spacing': [2, 2, 3], 'image_size': [384, 384, 384]}}"
      ]
     },
     "execution_count": 8,
     "metadata": {},
     "output_type": "execute_result"
    }
   ],
   "source": [
    "config[3]"
   ]
  },
  {
   "cell_type": "code",
   "execution_count": 9,
   "metadata": {},
   "outputs": [
    {
     "name": "stdout",
     "output_type": "stream",
     "text": [
      "new_size:  [384, 384, 384]\n",
      "new_spacing:  [2, 2, 3]\n"
     ]
    }
   ],
   "source": [
    "new_size = config[3]['resampling']['image_size']\n",
    "new_spacing = config[3]['resampling']['voxel_spacing']\n",
    "print('new_size: ', new_size)\n",
    "print('new_spacing: ', new_spacing)\n"
   ]
  },
  {
   "cell_type": "code",
   "execution_count": 10,
   "metadata": {},
   "outputs": [
    {
     "data": {
      "text/plain": [
       "{'modality': ['CT', 'PET', 'SUV'],\n",
       " 'tissue_type': ['LT', 'AT', 'LT', 'B', 'N'],\n",
       " 'projection_type': ['sum', 'min', 'max', 'mean', 'std']}"
      ]
     },
     "execution_count": 10,
     "metadata": {},
     "output_type": "execute_result"
    }
   ],
   "source": [
    "projections = config[4]['projections']\n",
    "projections"
   ]
  },
  {
   "cell_type": "code",
   "execution_count": 11,
   "metadata": {},
   "outputs": [],
   "source": [
    "modality = projections['modality']\n",
    "type = projections['tissue_type']\n",
    "ptype = projections['projection_type']"
   ]
  },
  {
   "cell_type": "code",
   "execution_count": 12,
   "metadata": {},
   "outputs": [
    {
     "name": "stdout",
     "output_type": "stream",
     "text": [
      "E:/U-CAN-Lymfom_A/Raw_DCM_transf_date_20221205__06__n86_90GB/ASPTCTX0001_npr134758508773-20191212/PT-20191212-110507-3.7-WB_FDG-CT-VENFAS-QCFX-S-400-2.7900mm_JK_\n",
      "161977.3616731149 0.0\n",
      "56.12243533553609 0.0\n"
     ]
    }
   ],
   "source": [
    "exception_lst = []\n",
    "if not os.path.exists(final_projections):\n",
    "    os.mkdir(final_projections)\n",
    "\n",
    "for index, row in master_df.iterrows():\n",
    "    if row['modality']=='PT':\n",
    "        #vol_img = sitk.ReadImage(row['directory'])\n",
    "        \n",
    "        print(row['directory'])\n",
    "\n",
    "        reader = sitk.ImageSeriesReader()\n",
    "        dicom_names = reader.GetGDCMSeriesFileNames(row['directory'])\n",
    "        reader.SetFileNames(dicom_names)\n",
    "        vol_img = reader.Execute() \n",
    "\n",
    "        vol_img = sitk.Resample(vol_img, new_size, sitk.Transform(), sitk.sitkLinear,\n",
    "                            vol_img.GetOrigin(), new_spacing, vol_img.GetDirection(), 0,\n",
    "                            vol_img.GetPixelID())\n",
    "        \n",
    "        save_path = os.path.join(final_projections, str(row['patient_directory']) + '_PET_resample_3Dimg')\n",
    "        \n",
    "        utils.get_2D_projections(vol_img, modality[1], ptype=ptype[2], angle=45, img_n=save_path)\n",
    "        \n",
    "        suv, estimated, raw,spacing,origin,direction = utils.compute_suv(vol_img, PatientWeight=row['patient_weight'], AcquisitionTime=str(row['aquisition_dt'])+str(row['aquisition_time']) , RadiopharmaceuticalStartTime=row['radiopharmaceutical_start_time'], RadionuclideHalfLife=row['radionuclide_half_life'], RadionuclideTotalDose=row['radionuclide_total_dose'])\n",
    "        suv_img = sitk.GetImageFromArray(suv)\n",
    "        \n",
    "        save_path= os.path.join(final_projections, str(row['patient_directory']) + '_SUV_resample_3Dimg')\n",
    "\n",
    "        utils.get_2D_projections(suv_img, modality[2], ptype=ptype[2], angle=45, img_n=save_path)\n",
    "        break"
   ]
  },
  {
   "cell_type": "code",
   "execution_count": null,
   "metadata": {},
   "outputs": [],
   "source": []
  },
  {
   "cell_type": "code",
   "execution_count": null,
   "metadata": {},
   "outputs": [],
   "source": []
  },
  {
   "cell_type": "markdown",
   "metadata": {},
   "source": [
    "v_img = sitk.ReadImage(os.path.join(source_path_wd, 'Ashish_SampleResampling/pat1_PET_resample_3Dimg.nii.gz'))\n",
    "if not os.path.exists(os.path.join(source_path_wd, 'Ashish_SampleResampling/2d projections')):\n",
    "    os.mkdir(os.path.join(source_path_wd, 'Ashish_SampleResampling/2d projections'))\n",
    "\n",
    "save_path = os.path.join(final_projections, 'pat1_PET_resample_3Dimg')\n",
    "\n",
    "#get_2D_projections(v_img,MODA,PTYPE,15,T_TYPE, img_n=save_path)\n",
    "get_2D_projections(v_img,modality[1],ptype=ptype[2],angle=15,img_n=save_path)\n",
    "save_path= os.path.join(final_projections, '/CT_sample3Dimg')\n",
    "\n",
    "get_2D_projections(v_img,modality[1], type[0],ptype[2],15,img_n=save_path)"
   ]
  },
  {
   "cell_type": "code",
   "execution_count": null,
   "metadata": {},
   "outputs": [],
   "source": []
  }
 ],
 "metadata": {
  "kernelspec": {
   "display_name": "UCANProject",
   "language": "python",
   "name": "python3"
  },
  "language_info": {
   "codemirror_mode": {
    "name": "ipython",
    "version": 3
   },
   "file_extension": ".py",
   "mimetype": "text/x-python",
   "name": "python",
   "nbconvert_exporter": "python",
   "pygments_lexer": "ipython3",
   "version": "3.10.9"
  }
 },
 "nbformat": 4,
 "nbformat_minor": 2
}
