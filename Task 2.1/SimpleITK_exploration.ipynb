{
 "cells": [
  {
   "cell_type": "code",
   "execution_count": 1,
   "metadata": {},
   "outputs": [],
   "source": [
    "import SimpleITK as sitk\n",
    "import matplotlib.pyplot as plt\n",
    "import numpy as np\n",
    "import pandas as pd\n",
    "import scipy.ndimage\n",
    "import os\n",
    "import cv2\n",
    "from tqdm import tqdm\n",
    "from utils import get_2D_projections"
   ]
  },
  {
   "cell_type": "code",
   "execution_count": 3,
   "metadata": {},
   "outputs": [],
   "source": [
    "# vol_img = sitk.ReadImage(r\"C:\\Users\\Audit\\Uppsala - Masters Europe\\Semester 3\\Project in Image analysis - Software\\UCAN-PET-CT-image-data-handling-pipeline\\Task 2.1\\Data\\sample3Dimg.nrrd\")\n",
    "# ct_img = sitk.ReadImage(r\"D:\\U-CAN-Lymfom_A\\Ashish_SampleResampling\\pat2_CT_resample_3Dimg.nii.gz\")\n",
    "\n",
    "# img_name= r'C:\\Users\\Audit\\Uppsala - Masters Europe\\Semester 3\\Project in Image analysis - Software\\UCAN-PET-CT-image-data-handling-pipeline\\Task 2.1\\Data\\Sample 2D projections\\pat2_CT_resample_3Dimg'\n",
    "# get_2D_projections(ct_img,'CT','LT','mean',15.0,img_n=img_name)\n",
    "# file_reader = sitk.ImageFileReader()\n",
    "# file_reader.SetImageIO('NrrdImageIO')\n",
    "# file_reader.SetFileName(r\"C:\\Users\\Audit\\Uppsala - Masters Europe\\Semester 3\\Project in Image analysis - Software\\UCAN-PET-CT-image-data-handling-pipeline\\Task 2.1\\Data\\sample3Dimg.nrrd\")\n",
    "# file_reader.Execute()\n",
    "\n",
    "# v_img = sitk.ReadImage(r\"C:\\Users\\Audit\\Uppsala - Masters Europe\\Semester 3\\Project in Image analysis - Software\\UCAN-PET-CT-image-data-handling-pipeline\\Task 2.1\\Data\\CTbrain50.nrrd\")\n",
    "# save_path=r\"C:\\Users\\Audit\\Uppsala - Masters Europe\\Semester 3\\Project in Image analysis - Software\\UCAN-PET-CT-image-data-handling-pipeline\\Task 2.1\\Data\\Sample 2D projections\\CTbrain50\"\n",
    "\n",
    "v_img = sitk.ReadImage(r\"F:\\ucan_lymfom\\Selected_for_UCAN_project\\Resampled_Selected_SampleImages\\distorted_sample3Dimg_.nii.gz\")\n",
    "if not os.path.exists(r\"F:\\ucan_lymfom\\Selected_for_UCAN_project\\Resampled_Selected_SampleImages\\2d projections\"):\n",
    "    os.mkdir(r\"F:\\ucan_lymfom\\Selected_for_UCAN_project\\Resampled_Selected_SampleImages\\2d projections\")\n",
    "\n",
    "save_path=r\"F:\\ucan_lymfom\\Selected_for_UCAN_project\\Resampled_Selected_SampleImages\\2d projections\\sample1\"\n",
    "\n",
    "get_2D_projections(v_img,'CT','A','mean',15,img_n=save_path)"
   ]
  },
  {
   "cell_type": "code",
   "execution_count": null,
   "metadata": {},
   "outputs": [],
   "source": [
    "# Display the image slice from the middle of the stack, z axis\n",
    "# print(vol_img.GetDepth())\n",
    "z = int(vol_img.GetDepth()/10)\n",
    "npa_zslice = sitk.GetArrayViewFromImage(vol_img)[z,:,:]\n",
    "npa = sitk.GetArrayViewFromImage(vol_img)\n",
    "# Three plots displaying the same data, how do we deal with the high dynamic range?\n",
    "fig = plt.figure(figsize=(10,3))\n",
    "\n",
    "fig.add_subplot(1,3,1)\n",
    "plt.imshow(npa_zslice)\n",
    "plt.title('default colormap', fontsize=10)\n",
    "plt.axis('off')\n",
    "\n",
    "fig.add_subplot(1,3,2)\n",
    "plt.imshow(npa_zslice,cmap=plt.cm.Greys_r)\n",
    "plt.title('grey colormap', fontsize=10)\n",
    "plt.axis('off')\n",
    "\n",
    "fig.add_subplot(1,3,3)\n",
    "plt.title('grey colormap,\\n scaling based on volumetric min and max values', fontsize=10)\n",
    "plt.imshow(npa_zslice,cmap=plt.cm.Greys_r, vmin=npa.min(), vmax=npa.max())\n",
    "plt.axis('off')"
   ]
  },
  {
   "cell_type": "code",
   "execution_count": null,
   "metadata": {},
   "outputs": [],
   "source": [
    "#stik [x,y,z]-> numpy [z,x,y]\n",
    "nda = sitk.GetArrayFromImage(vol_img)\n",
    "print(vol_img.GetSize())\n",
    "print(nda.shape)\n",
    "\n",
    "nda2d=sitk.GetArrayFromImage(vol_img[:,:,0])\n",
    "print(nda2d)"
   ]
  },
  {
   "cell_type": "code",
   "execution_count": null,
   "metadata": {},
   "outputs": [],
   "source": [
    "# numpy array  -> stik\n",
    "\n",
    "nda_as_image = sitk.GetImageFromArray(nda)\n",
    "print(nda_as_image.GetSize())"
   ]
  },
  {
   "cell_type": "code",
   "execution_count": null,
   "metadata": {},
   "outputs": [],
   "source": [
    "# voxel queries\n",
    "\n",
    "print(vol_img.GetPixelIDValue())\n",
    "print(vol_img.GetPixelIDTypeAsString())\n",
    "print(vol_img.GetNumberOfComponentsPerPixel())"
   ]
  },
  {
   "cell_type": "code",
   "execution_count": null,
   "metadata": {},
   "outputs": [],
   "source": [
    "# Accessing and slicing\n",
    "#help(vol_img.GetPixel)\n",
    "\n",
    "#slice voxel first\n",
    "\n",
    "# row z wise slice\n",
    "# slice_2d=vol_img[:,:,50]\n",
    "# plt.imshow(sitk.GetArrayFromImage(slice_2d),cmap='gray')\n",
    "\n",
    "# row x wise slice\n",
    "# slice_2d=vol_img[96,:,:]\n",
    "# print(type(slice_2d))\n",
    "# plt.imshow(np.add(sitk.GetArrayFromImage(slice_2d)),cmap='gray')\n",
    "\n",
    "# row y wise slice\n",
    "slice_2d=vol_img[:,40,:]\n",
    "plt.imshow(sitk.GetArrayFromImage(slice_2d),cmap='gray')\n"
   ]
  },
  {
   "cell_type": "code",
   "execution_count": null,
   "metadata": {},
   "outputs": [],
   "source": [
    "#display img averaged over all pixels\n",
    "\n",
    "mean_img=np.zeros(nda_as_image.GetSize()[0:1])\n",
    "for i in range (nda_as_image.GetSize()[0]):\n",
    "   mean_img=mean_img+sitk.GetArrayFromImage(vol_img[i,:,:])\n",
    "mean_img=mean_img/nda_as_image.GetSize()[0]\n",
    "#mean_img=mean_img+50*np.ones(nda_as_image.GetSize()[0:1])\n",
    "plt.imshow(mean_img,cmap='gray')"
   ]
  },
  {
   "cell_type": "code",
   "execution_count": null,
   "metadata": {},
   "outputs": [],
   "source": [
    "#slice angle\n",
    "plt.imshow(npa_zslice,cmap=plt.cm.Greys_r)\n",
    "\n",
    "#type of projecttion - min/max"
   ]
  },
  {
   "cell_type": "code",
   "execution_count": null,
   "metadata": {},
   "outputs": [],
   "source": [
    "def make_isotropic(image, interpolator = sitk.sitkLinear):\n",
    "    '''\n",
    "    Resample an image to isotropic pixels (using smallest spacing from original) and save to file. Many file formats \n",
    "    (jpg, png,...) expect the pixels to be isotropic. By default the function uses a linear interpolator. For\n",
    "    label images one should use the sitkNearestNeighbor interpolator so as not to introduce non-existant labels.\n",
    "    '''\n",
    "    original_spacing = image.GetSpacing()\n",
    "    # Image is already isotropic, just return a copy.\n",
    "    if all(spc == original_spacing[0] for spc in original_spacing):\n",
    "        return sitk.Image(image)\n",
    "    # Make image isotropic via resampling.\n",
    "    original_size = image.GetSize()\n",
    "    min_spacing = min(original_spacing)\n",
    "    new_spacing = [min_spacing]*image.GetDimension()\n",
    "    new_size = [int(round(osz*ospc/min_spacing)) for osz,ospc in zip(original_size, original_spacing)]\n",
    "    return sitk.Resample(image, new_size, sitk.Transform(), interpolator,\n",
    "                         image.GetOrigin(), new_spacing, image.GetDirection(), 0,\n",
    "                         image.GetPixelID())\n",
    "\n",
    "def save_projections(image,img_name,type,max_intensity=50,min_intensity=-1024):\n",
    "    writer = sitk.ImageFileWriter()\n",
    "    img=sitk.Extract(image, image.GetSize())\n",
    "    writer.SetFileName(img_name)\n",
    "\n",
    "    #img=make_isotropic(img)\n",
    "\n",
    "    if type=='PET':\n",
    "        img_write=sitk.Cast(\n",
    "            sitk.IntensityWindowing(\n",
    "                img, windowMinimum=min_intensity, windowMaximum=max_intensity, outputMinimum=100.0, outputMaximum=255.0\n",
    "            ),\n",
    "            sitk.sitkUInt32,\n",
    "        )\n",
    "    else:\n",
    "        img_write=sitk.Cast(\n",
    "            img,\n",
    "            sitk.sitkUInt32,\n",
    "        )            \n",
    "\n",
    "    writer.Execute(img_write)  #sitk.Cast(sitk.RescaleIntensity(img,outputMinimum=0,outputMaximum=15)"
   ]
  },
  {
   "cell_type": "code",
   "execution_count": null,
   "metadata": {},
   "outputs": [],
   "source": [
    "projection = {'sum': sitk.SumProjection,\n",
    "              'mean':  sitk.MeanProjection,\n",
    "              'std': sitk.StandardDeviationProjection,\n",
    "              'min': sitk.MinimumProjection,\n",
    "              'max': sitk.MaximumProjection}\n",
    "ptype = 'max'\n",
    "paxis = 0\n",
    "\n",
    "rotation_axis = [0,0,1]\n",
    "rotation_angles = np.linspace(-1/2*np.pi, 1/2*np.pi, int(180.0/15.0)) #15 degree \n",
    "rotation_center = vol_img.TransformContinuousIndexToPhysicalPoint([(index-1)/2.0 for index in vol_img.GetSize()])\n",
    "\n",
    "rotation_transform = sitk.VersorRigid3DTransform()\n",
    "rotation_transform.SetCenter(rotation_center)\n",
    "\n",
    "#Compute bounding box of rotating volume and the resampling grid structure\n",
    "image_indexes = list(zip([0,0,0], [sz-1 for sz in vol_img.GetSize()]))\n",
    "image_bounds = []\n",
    "for i in image_indexes[0]:\n",
    "    for j in image_indexes[1]:\n",
    "        for k in image_indexes[2]:\n",
    "            image_bounds.append(vol_img.TransformIndexToPhysicalPoint([i,j,k]))\n",
    "\n",
    "all_points = []\n",
    "for angle in rotation_angles:\n",
    "    rotation_transform.SetRotation(rotation_axis, angle)    \n",
    "    all_points.extend([rotation_transform.TransformPoint(pnt) for pnt in image_bounds])\n",
    "    \n",
    "all_points = np.array(all_points)\n",
    "min_bounds = all_points.min(0)\n",
    "max_bounds = all_points.max(0)\n",
    "\n",
    "#resampling grid will be isotropic so no matter which direction we project to\n",
    "#the images we save will always be isotropic (required for vol_img formats that \n",
    "#assume isotropy - jpg,png,tiff...)\n",
    "\n",
    "new_spc = [np.min(vol_img.GetSpacing())]*3\n",
    "new_sz = [int(sz/spc + 0.5) for spc,sz in zip(new_spc, max_bounds-min_bounds)]\n",
    "\n",
    "pix_array=sitk.GetArrayFromImage(vol_img)\n",
    "maxtensity,mintensity=pix_array.max(),pix_array.min()\n",
    "\n",
    "proj_images = []\n",
    "i=0\n",
    "for angle in rotation_angles:\n",
    "    rotation_transform.SetRotation(rotation_axis, angle) \n",
    "    resampled_image = sitk.Resample(image1=vol_img,\n",
    "                                    size=new_sz,\n",
    "                                    transform=rotation_transform,\n",
    "                                    interpolator=sitk.sitkNearestNeighbor,\n",
    "                                    outputOrigin=min_bounds,\n",
    "                                    outputSpacing=new_spc,\n",
    "                                    outputDirection = [1,0,0,0,1,0,0,0,1],\n",
    "                                    defaultPixelValue =  0, #HU unit for air in CT, possibly set to 0 in other cases\n",
    "                                    outputPixelType = vol_img.GetPixelID())\n",
    "    proj_image = projection[ptype](resampled_image, paxis)\n",
    "    extract_size = list(proj_image.GetSize())\n",
    "    extract_size[paxis]=0\n",
    "    proj_images.append(sitk.Extract(proj_image, extract_size))\n",
    "\n",
    "    img_n=r'C:\\Users\\Audit\\Uppsala - Masters Europe\\Semester 3\\Project in Image analysis - Software\\UCAN-PET-CT-image-data-handling-pipeline\\Task 2.1\\Data\\Sample 2D projections\\sample_{0}.png'.format(i)\n",
    "    save_projections(sitk.InvertIntensity(sitk.Extract(proj_image, extract_size),maximum=1),img_name=img_n)\n",
    "    print(i,angle,mintensity)\n",
    "    i+=1\n",
    "\n",
    "\n",
    "# Stack all images into fuax-volume for display\n",
    "#sitk.Show(sitk.JoinSeries(proj_images))\n",
    "\n"
   ]
  },
  {
   "cell_type": "code",
   "execution_count": null,
   "metadata": {},
   "outputs": [],
   "source": [
    "print(pix_array.min())"
   ]
  },
  {
   "cell_type": "code",
   "execution_count": null,
   "metadata": {},
   "outputs": [],
   "source": [
    "#proj_image[0,:,:].GetSize()\n",
    "\n",
    "inv_imgs=[]\n",
    "for i in [0,3,9,11]:\n",
    "    ext=sitk.Extract(proj_images[i], proj_images[i].GetSize())\n",
    "    inv_ext=sitk.InvertIntensity(ext,maximum=1)\n",
    "    \n",
    "    inv_imgs.append(inv_ext)\n",
    "    \n",
    "#plt.imshow(sitk.GetArrayFromImage(proj_images[0]),cmap='gray')\n",
    "\n",
    "intensity_clipper=sitk.IntensityWindowingImageFilter\n",
    "\n",
    "for i in range(1,5):\n",
    "    plt.subplot(2,4,i)\n",
    "    intensity_clipper().SetOutputMaximum(15)\n",
    "    intensity_clipper().SetOutputMinimum(0)\n",
    "    plt.imshow(sitk.GetArrayFromImage(proj_images[i]),cmap='gray')\n",
    "\n",
    "for i in range(1,5):\n",
    "    plt.subplot(2,4,i+4)\n",
    "    plt.imshow(sitk.GetArrayFromImage(inv_imgs[i-1]),cmap='gray')"
   ]
  },
  {
   "cell_type": "code",
   "execution_count": null,
   "metadata": {},
   "outputs": [],
   "source": [
    "def generate_MIPs(SUV, rot_min=-90, rot_max=90, rot_interval=15 ):\n",
    "    \"\"\"\n",
    "    Generate rotating 2D MIPs along coronal direction from (-90, 90).\n",
    "    \"\"\"\n",
    "    imgs=[]\n",
    "    SUV = np.transpose(SUV, (2,1,0))\n",
    "    for i in tqdm(range(rot_min, rot_max+1, rot_interval)):\n",
    "            print(\"angle: \", i)\n",
    "            suv_temp = scipy.ndimage.rotate(SUV, angle=i, axes=(0,1))\n",
    "            suv_temp = np.clip(suv_temp, 0, 15)\n",
    "            suv_MIP = np.max(suv_temp, axis=1).astype(\"float\")\n",
    "            \n",
    "            suv_MIP = suv_MIP/np.max(suv_MIP)\n",
    "            suv_MIP = np.absolute(suv_MIP - np.amax(suv_MIP))\n",
    "            suv_MIP = cv2.rotate(suv_MIP, cv2.ROTATE_90_COUNTERCLOCKWISE)\n",
    "\n",
    "            suv_MIP = suv_MIP[:,60:-60]\n",
    "            imgs.append(suv_MIP)\n",
    "    return imgs\n",
    "suv_imgs=generate_MIPs(sitk.GetArrayFromImage(vol_img))"
   ]
  },
  {
   "cell_type": "code",
   "execution_count": null,
   "metadata": {},
   "outputs": [],
   "source": [
    "inv_suv_imgs=[]\n",
    "for i in [0,4,10,12]:\n",
    "    ext=sitk.Extract(sitk.GetImageFromArray(suv_imgs[i]), sitk.GetImageFromArray(suv_imgs[i]).GetSize())\n",
    "    inv_ext=sitk.InvertIntensity(ext,maximum=1)\n",
    "    inv_suv_imgs.append(inv_ext)\n",
    "    #plt.imshow(sitk.GetImageFromArray(proj_image[0,:,:]),cmap='gray')\n",
    "print(len(suv_imgs))\n",
    "for i,j in zip([0,4,10,12],[1,2,3,4]):\n",
    "    plt.subplot(1,4,j)\n",
    "    plt.imshow(sitk.GetArrayFromImage(inv_suv_imgs[j-1]),cmap='gray')\n",
    "    #plt.imshow(suv_imgs[i],cmap='gray')"
   ]
  },
  {
   "cell_type": "code",
   "execution_count": null,
   "metadata": {},
   "outputs": [],
   "source": [
    "ct_vol= sitk.ReadImage(r\"C:\\Users\\Audit\\Uppsala - Masters Europe\\Semester 3\\Project in Image analysis - Software\\UCAN-PET-CT-image-data-handling-pipeline\\Task 2.1\\Data\\CTbrain50.nrrd\")\n",
    "skele=ct_vol <200 and ct_vol >50\n",
    "\n",
    "#Thresholding\n",
    "ct_vol.GetSize()\n",
    "#adipose=vol_img[100<vol_img & 500>vol_img]"
   ]
  },
  {
   "cell_type": "code",
   "execution_count": null,
   "metadata": {},
   "outputs": [],
   "source": [
    "skele.GetSize()"
   ]
  },
  {
   "cell_type": "code",
   "execution_count": null,
   "metadata": {},
   "outputs": [],
   "source": [
    "image_viewer = sitk.ImageViewer()\n",
    "sk=sitk.Extract(sitk.GetImageFromArray(skele), sitk.GetImageFromArray(vol_img).GetSize())\n",
    "image_viewer.SetTitle('grid using ImageViewer class')\n",
    "image_viewer.Execute(sk)"
   ]
  },
  {
   "cell_type": "markdown",
   "metadata": {},
   "source": [
    "### Projections from selected images"
   ]
  },
  {
   "cell_type": "code",
   "execution_count": null,
   "metadata": {},
   "outputs": [],
   "source": [
    "import SimpleITK as sitk\n",
    "import matplotlib.pyplot as plt\n",
    "import numpy as np\n",
    "import pandas as pd\n",
    "import scipy.ndimage\n",
    "import os\n",
    "import cv2\n",
    "from tqdm import tqdm\n",
    "import utils"
   ]
  },
  {
   "cell_type": "code",
   "execution_count": null,
   "metadata": {},
   "outputs": [],
   "source": [
    "#read master data\n",
    "master_data = pd.read_csv('F:/U-CAN-Lymfom_A/Selected_for_UCAN_project/Selected_exams_from_U-CAN-Lymfom_A_MasterDataset_2Oct2023.csv')\n",
    "\n",
    "master_data.head(1)"
   ]
  },
  {
   "cell_type": "code",
   "execution_count": null,
   "metadata": {},
   "outputs": [],
   "source": [
    "def make_mips(image, output_dir=''):\n",
    "    #image = sitk.ReadImage(image_path)\n",
    "    image_size = image.GetSize()\n",
    "\n",
    "    #basename = os.path.basename(image_path)\n",
    "    #if not os.path.isdir(output_dir):\n",
    "    #    os.makedirs(output_dir)\n",
    "\n",
    "    for dim in range(3):\n",
    "        projection = sitk.MeanProjection(image, dim)\n",
    "\n",
    "        if image_size[dim] % 2:  # odd number\n",
    "            voxel = [0, 0, 0]\n",
    "            voxel[dim] = (image_size[dim] - 1) / 2\n",
    "            origin = image.TransformIndexToPhysicalPoint(voxel)\n",
    "        else:  # even\n",
    "            voxel1 = np.array([0, 0, 0], int)\n",
    "            voxel2 = np.array([0, 0, 0], int)\n",
    "            voxel1[dim] = image_size[dim] / 2 - 1\n",
    "            voxel2[dim] = image_size[dim] / 2\n",
    "            point1 = np.array(image.TransformIndexToPhysicalPoint(voxel1.tolist()))\n",
    "            point2 = np.array(image.TransformIndexToPhysicalPoint(voxel2.tolist()))\n",
    "            origin = np.mean(np.vstack((point1, point2)), 0)\n",
    "        projection.SetOrigin(origin)\n",
    "        projection.SetDirection(image.GetDirection())\n",
    "        #proj_basename = basename.replace('.nii.gz', '_mip_{}.nii.gz'.format(dim))\n",
    "        #plt.imshow(sitk.GetArrayFromImage(sitk.InvertIntensity(projection)), cmap='gray')\n",
    "        sitk.WriteImage(projection, r'F:\\U-CAN-Lymfom_A\\Selected_for_UCAN_project\\Selected_CTMean&PETMax_Projections\\sample.nii.gz')#os.path.join(output_dir, proj_basename))"
   ]
  },
  {
   "cell_type": "code",
   "execution_count": null,
   "metadata": {},
   "outputs": [],
   "source": [
    "img = sitk.ReadImage(r'F:\\U-CAN-Lymfom_A\\Selected_for_UCAN_project\\Selected_CTMean&PETMax_Projections\\sample.nii.gz')\n",
    "plt.imshow(sitk.GetArrayFromImage(img))"
   ]
  },
  {
   "cell_type": "code",
   "execution_count": null,
   "metadata": {},
   "outputs": [],
   "source": [
    "exception_lst = []\n",
    "new_size = [384, 384, 384]\n",
    "new_spacing = [2, 2, 3]\n",
    "for index, row in master_data.iterrows():\n",
    "\n",
    "    #vol_img = sitk.ReadImage(row['directory'])\n",
    "    \n",
    "    print(row['directory'])\n",
    "\n",
    "    reader = sitk.ImageSeriesReader()\n",
    "    dicom_names = reader.GetGDCMSeriesFileNames(row['directory'])\n",
    "    reader.SetFileNames(dicom_names)\n",
    "    vol_img = reader.Execute()\n",
    "\n",
    "    vol_img = sitk.Resample(vol_img, new_size, sitk.Transform(), sitk.sitkLinear,\n",
    "                         vol_img.GetOrigin(), new_spacing, vol_img.GetDirection(), 0,\n",
    "                         vol_img.GetPixelID())\n",
    "    \n",
    "    print(vol_img.GetSize())\n",
    "    name_suffix = r'F:\\U-CAN-Lymfom_A\\Selected_for_UCAN_project\\Selected_CTMean&PETMax_Projections\\\\' + \\\n",
    "                  str(row['patient_directory']) + str(row['modality'])\n",
    "    if row['modality']==\"PT\":\n",
    "        print(\"PT: \", row['modality'])\n",
    "        ptype = 'max'\n",
    "        maxpro = sitk.MaximumProjection(vol_img, 0)\n",
    "        #plt.imshow(sitk.GetArrayFromImage(maxpro), cmap='gray')\n",
    "    else:\n",
    "        print(\"CT: \", row['modality'])\n",
    "        ptype = 'mean'\n",
    "        meanpro = sitk.MeanProjection(vol_img, 0)\n",
    "        make_mips(vol_img)\n",
    "        #plt.imshow(sitk.GetArrayFromImage(sitk.InvertIntensity(meanpro)), cmap='gray')#, vmin=50, vmax=255)\n",
    "    \n",
    "    angle = 90.0\n",
    "    \n",
    "    # try:\n",
    "    #     utils.get_2D_projections(vol_img,ptype,angle,save_img=True,img_n=name_suffix, modality=row['modality'])\n",
    "    # except:\n",
    "    #     exception_lst.append(row['directory'])\n",
    "    \n",
    "    if index>0:\n",
    "        break\n"
   ]
  },
  {
   "cell_type": "code",
   "execution_count": null,
   "metadata": {},
   "outputs": [],
   "source": [
    "with open(r'F:\\U-CAN-Lymfom_A\\Selected_for_UCAN_project\\Selected_CTMean&PETMax_Projections\\exception_lst.txt', 'w') as fp:\n",
    "    for item in exception_lst:\n",
    "        # write each item on a new line\n",
    "        fp.write(\"%s\\n\" % item)\n",
    "    print('Done')"
   ]
  },
  {
   "cell_type": "code",
   "execution_count": null,
   "metadata": {},
   "outputs": [],
   "source": [
    "print(master_data['modality'][0])\n",
    "#master_data['modality'][0].strip()==\"'CT'\"\n"
   ]
  },
  {
   "cell_type": "code",
   "execution_count": null,
   "metadata": {},
   "outputs": [],
   "source": []
  },
  {
   "cell_type": "code",
   "execution_count": null,
   "metadata": {},
   "outputs": [],
   "source": []
  }
 ],
 "metadata": {
  "kernelspec": {
   "display_name": "usr",
   "language": "python",
   "name": "python3"
  },
  "language_info": {
   "codemirror_mode": {
    "name": "ipython",
    "version": 3
   },
   "file_extension": ".py",
   "mimetype": "text/x-python",
   "name": "python",
   "nbconvert_exporter": "python",
   "pygments_lexer": "ipython3",
   "version": "3.10.9"
  },
  "orig_nbformat": 4
 },
 "nbformat": 4,
 "nbformat_minor": 2
}
