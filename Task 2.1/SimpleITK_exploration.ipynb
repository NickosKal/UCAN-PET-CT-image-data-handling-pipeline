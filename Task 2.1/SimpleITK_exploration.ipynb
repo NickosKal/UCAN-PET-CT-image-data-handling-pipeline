{
 "cells": [
  {
   "cell_type": "code",
   "execution_count": 1,
   "metadata": {},
   "outputs": [],
   "source": [
    "import SimpleITK as sitk\n",
    "import matplotlib.pyplot as plt\n",
    "import numpy as np\n",
    "import pandas as pd\n",
    "import scipy.ndimage\n",
    "import os\n",
    "import cv2\n",
    "from tqdm import tqdm\n",
    "from utils import get_2D_projections"
   ]
  },
  {
   "cell_type": "code",
<<<<<<< HEAD
   "execution_count": 8,
   "metadata": {},
   "outputs": [],
=======
   "execution_count": 2,
   "metadata": {},
   "outputs": [
    {
     "ename": "RuntimeError",
     "evalue": "Exception thrown in SimpleITK ImageFileReader_Execute: D:\\a\\1\\sitk\\Code\\IO\\src\\sitkImageReaderBase.cxx:97:\nsitk::ERROR: The file \"C:\\Users\\Audit\\Uppsala - Masters Europe\\Semester 3\\Project in Image analysis - Software\\UCAN-PET-CT-image-data-handling-pipeline\\Task 2.1\\Data\\sample3Dimg.nrrd\" does not exist.",
     "output_type": "error",
     "traceback": [
      "\u001b[1;31m---------------------------------------------------------------------------\u001b[0m",
      "\u001b[1;31mRuntimeError\u001b[0m                              Traceback (most recent call last)",
      "\u001b[1;32m~\\AppData\\Local\\Temp\\ipykernel_10140\\1732942854.py\u001b[0m in \u001b[0;36m?\u001b[1;34m()\u001b[0m\n\u001b[1;32m----> 1\u001b[1;33m \u001b[0mvol_img\u001b[0m \u001b[1;33m=\u001b[0m \u001b[0msitk\u001b[0m\u001b[1;33m.\u001b[0m\u001b[0mReadImage\u001b[0m\u001b[1;33m(\u001b[0m\u001b[1;34mr\"C:\\Users\\Audit\\Uppsala - Masters Europe\\Semester 3\\Project in Image analysis - Software\\UCAN-PET-CT-image-data-handling-pipeline\\Task 2.1\\Data\\sample3Dimg.nrrd\"\u001b[0m\u001b[1;33m)\u001b[0m\u001b[1;33m\u001b[0m\u001b[1;33m\u001b[0m\u001b[0m\n\u001b[0m\u001b[0;32m      2\u001b[0m \u001b[1;33m\u001b[0m\u001b[0m\n\u001b[0;32m      3\u001b[0m \u001b[1;31m# file_reader = sitk.ImageFileReader()\u001b[0m\u001b[1;33m\u001b[0m\u001b[1;33m\u001b[0m\u001b[0m\n\u001b[0;32m      4\u001b[0m \u001b[1;31m# file_reader.SetImageIO('NrrdImageIO')\u001b[0m\u001b[1;33m\u001b[0m\u001b[1;33m\u001b[0m\u001b[0m\n",
      "\u001b[1;32mc:\\Softwares\\Anaconda\\envs\\dlfia\\lib\\site-packages\\SimpleITK\\extra.py\u001b[0m in \u001b[0;36m?\u001b[1;34m(fileName, outputPixelType, imageIO)\u001b[0m\n\u001b[0;32m    371\u001b[0m         \u001b[0mreader\u001b[0m\u001b[1;33m.\u001b[0m\u001b[0mSetFileNames\u001b[0m\u001b[1;33m(\u001b[0m\u001b[1;33m[\u001b[0m\u001b[0mstr\u001b[0m\u001b[1;33m(\u001b[0m\u001b[0mname\u001b[0m\u001b[1;33m)\u001b[0m \u001b[1;32mfor\u001b[0m \u001b[0mname\u001b[0m \u001b[1;32min\u001b[0m \u001b[0mfileName\u001b[0m\u001b[1;33m]\u001b[0m\u001b[1;33m)\u001b[0m\u001b[1;33m\u001b[0m\u001b[1;33m\u001b[0m\u001b[0m\n\u001b[0;32m    372\u001b[0m \u001b[1;33m\u001b[0m\u001b[0m\n\u001b[0;32m    373\u001b[0m     \u001b[0mreader\u001b[0m\u001b[1;33m.\u001b[0m\u001b[0mSetImageIO\u001b[0m\u001b[1;33m(\u001b[0m\u001b[0mimageIO\u001b[0m\u001b[1;33m)\u001b[0m\u001b[1;33m\u001b[0m\u001b[1;33m\u001b[0m\u001b[0m\n\u001b[0;32m    374\u001b[0m     \u001b[0mreader\u001b[0m\u001b[1;33m.\u001b[0m\u001b[0mSetOutputPixelType\u001b[0m\u001b[1;33m(\u001b[0m\u001b[0moutputPixelType\u001b[0m\u001b[1;33m)\u001b[0m\u001b[1;33m\u001b[0m\u001b[1;33m\u001b[0m\u001b[0m\n\u001b[1;32m--> 375\u001b[1;33m     \u001b[1;32mreturn\u001b[0m \u001b[0mreader\u001b[0m\u001b[1;33m.\u001b[0m\u001b[0mExecute\u001b[0m\u001b[1;33m(\u001b[0m\u001b[1;33m)\u001b[0m\u001b[1;33m\u001b[0m\u001b[1;33m\u001b[0m\u001b[0m\n\u001b[0m",
      "\u001b[1;32mc:\\Softwares\\Anaconda\\envs\\dlfia\\lib\\site-packages\\SimpleITK\\SimpleITK.py\u001b[0m in \u001b[0;36m?\u001b[1;34m(self)\u001b[0m\n\u001b[0;32m   8426\u001b[0m         \u001b[0mtype\u001b[0m \u001b[0mto\u001b[0m \u001b[0mbe\u001b[0m \u001b[0msame\u001b[0m \u001b[1;32mas\u001b[0m \u001b[0mthe\u001b[0m \u001b[0mfile\u001b[0m\u001b[1;33m.\u001b[0m \u001b[0mIf\u001b[0m \u001b[0mthe\u001b[0m \u001b[0mpixel\u001b[0m \u001b[0mtype\u001b[0m \u001b[1;32mis\u001b[0m \u001b[0mspecified\u001b[0m \u001b[0mthen\u001b[0m \u001b[0mthe\u001b[0m \u001b[0mitk\u001b[0m\u001b[1;33m:\u001b[0m\u001b[1;33m:\u001b[0m\u001b[0mConvertPixelBuffer\u001b[0m \u001b[0mwill\u001b[0m \u001b[0mbe\u001b[0m \u001b[0mused\u001b[0m \u001b[0mto\u001b[0m \u001b[0mconvert\u001b[0m \u001b[0mthe\u001b[0m \u001b[0mpixels\u001b[0m\u001b[1;33m.\u001b[0m\u001b[1;33m\u001b[0m\u001b[1;33m\u001b[0m\u001b[0m\n\u001b[0;32m   8427\u001b[0m \u001b[1;33m\u001b[0m\u001b[0m\n\u001b[0;32m   8428\u001b[0m \u001b[1;33m\u001b[0m\u001b[0m\n\u001b[0;32m   8429\u001b[0m         \"\"\"\n\u001b[1;32m-> 8430\u001b[1;33m         \u001b[1;32mreturn\u001b[0m \u001b[0m_SimpleITK\u001b[0m\u001b[1;33m.\u001b[0m\u001b[0mImageFileReader_Execute\u001b[0m\u001b[1;33m(\u001b[0m\u001b[0mself\u001b[0m\u001b[1;33m)\u001b[0m\u001b[1;33m\u001b[0m\u001b[1;33m\u001b[0m\u001b[0m\n\u001b[0m",
      "\u001b[1;31mRuntimeError\u001b[0m: Exception thrown in SimpleITK ImageFileReader_Execute: D:\\a\\1\\sitk\\Code\\IO\\src\\sitkImageReaderBase.cxx:97:\nsitk::ERROR: The file \"C:\\Users\\Audit\\Uppsala - Masters Europe\\Semester 3\\Project in Image analysis - Software\\UCAN-PET-CT-image-data-handling-pipeline\\Task 2.1\\Data\\sample3Dimg.nrrd\" does not exist."
     ]
    }
   ],
>>>>>>> 3059ec89d1fc0183db5ce8013b351416056cd57e
   "source": [
    "vol_img = sitk.ReadImage(r\"C:\\Users\\Audit\\Uppsala - Masters Europe\\Semester 3\\Project in Image analysis - Software\\UCAN-PET-CT-image-data-handling-pipeline\\Task 2.1\\Data\\sample3Dimg.nrrd\")\n",
    "ct_img = sitk.ReadImage(r\"D:\\U-CAN-Lymfom_A\\Ashish_SampleResampling\\pat2_CT_resample_3Dimg.nii.gz\")\n",
    "\n",
    "img_name= r'C:\\Users\\Audit\\Uppsala - Masters Europe\\Semester 3\\Project in Image analysis - Software\\UCAN-PET-CT-image-data-handling-pipeline\\Task 2.1\\Data\\Sample 2D projections\\pat2_CT_resample_3Dimg'\n",
    "get_2D_projections(ct_img,'CT','LT','mean',15.0,img_n=img_name)\n",
    "# file_reader = sitk.ImageFileReader()\n",
    "# file_reader.SetImageIO('NrrdImageIO')\n",
    "# file_reader.SetFileName(r\"C:\\Users\\Audit\\Uppsala - Masters Europe\\Semester 3\\Project in Image analysis - Software\\UCAN-PET-CT-image-data-handling-pipeline\\Task 2.1\\Data\\sample3Dimg.nrrd\")\n",
    "# file_reader.Execute()"
   ]
  },
  {
   "cell_type": "code",
   "execution_count": null,
   "metadata": {},
   "outputs": [],
   "source": [
    "# Display the image slice from the middle of the stack, z axis\n",
    "# print(vol_img.GetDepth())\n",
    "z = int(vol_img.GetDepth()/10)\n",
    "npa_zslice = sitk.GetArrayViewFromImage(vol_img)[z,:,:]\n",
    "npa = sitk.GetArrayViewFromImage(vol_img)\n",
    "# Three plots displaying the same data, how do we deal with the high dynamic range?\n",
    "fig = plt.figure(figsize=(10,3))\n",
    "\n",
    "fig.add_subplot(1,3,1)\n",
    "plt.imshow(npa_zslice)\n",
    "plt.title('default colormap', fontsize=10)\n",
    "plt.axis('off')\n",
    "\n",
    "fig.add_subplot(1,3,2)\n",
    "plt.imshow(npa_zslice,cmap=plt.cm.Greys_r)\n",
    "plt.title('grey colormap', fontsize=10)\n",
    "plt.axis('off')\n",
    "\n",
    "fig.add_subplot(1,3,3)\n",
    "plt.title('grey colormap,\\n scaling based on volumetric min and max values', fontsize=10)\n",
    "plt.imshow(npa_zslice,cmap=plt.cm.Greys_r, vmin=npa.min(), vmax=npa.max())\n",
    "plt.axis('off')"
   ]
  },
  {
   "cell_type": "code",
   "execution_count": null,
   "metadata": {},
   "outputs": [],
   "source": [
    "#stik [x,y,z]-> numpy [z,x,y]\n",
    "nda = sitk.GetArrayFromImage(vol_img)\n",
    "print(vol_img.GetSize())\n",
    "print(nda.shape)\n",
    "\n",
    "nda2d=sitk.GetArrayFromImage(vol_img[:,:,0])\n",
    "print(nda2d)"
   ]
  },
  {
   "cell_type": "code",
   "execution_count": null,
   "metadata": {},
   "outputs": [],
   "source": [
    "# numpy array  -> stik\n",
    "\n",
    "nda_as_image = sitk.GetImageFromArray(nda)\n",
    "print(nda_as_image.GetSize())"
   ]
  },
  {
   "cell_type": "code",
   "execution_count": null,
   "metadata": {},
   "outputs": [],
   "source": [
    "# voxel queries\n",
    "\n",
    "print(vol_img.GetPixelIDValue())\n",
    "print(vol_img.GetPixelIDTypeAsString())\n",
    "print(vol_img.GetNumberOfComponentsPerPixel())"
   ]
  },
  {
   "cell_type": "code",
   "execution_count": null,
   "metadata": {},
   "outputs": [],
   "source": [
    "# Accessing and slicing\n",
    "#help(vol_img.GetPixel)\n",
    "\n",
    "#slice voxel first\n",
    "\n",
    "# row z wise slice\n",
    "# slice_2d=vol_img[:,:,50]\n",
    "# plt.imshow(sitk.GetArrayFromImage(slice_2d),cmap='gray')\n",
    "\n",
    "# row x wise slice\n",
    "# slice_2d=vol_img[96,:,:]\n",
    "# print(type(slice_2d))\n",
    "# plt.imshow(np.add(sitk.GetArrayFromImage(slice_2d)),cmap='gray')\n",
    "\n",
    "# row y wise slice\n",
    "slice_2d=vol_img[:,40,:]\n",
    "plt.imshow(sitk.GetArrayFromImage(slice_2d),cmap='gray')\n"
   ]
  },
  {
   "cell_type": "code",
   "execution_count": null,
   "metadata": {},
   "outputs": [],
   "source": [
    "#display img averaged over all pixels\n",
    "\n",
    "mean_img=np.zeros(nda_as_image.GetSize()[0:1])\n",
    "for i in range (nda_as_image.GetSize()[0]):\n",
    "   mean_img=mean_img+sitk.GetArrayFromImage(vol_img[i,:,:])\n",
    "mean_img=mean_img/nda_as_image.GetSize()[0]\n",
    "#mean_img=mean_img+50*np.ones(nda_as_image.GetSize()[0:1])\n",
    "plt.imshow(mean_img,cmap='gray')"
   ]
  },
  {
   "cell_type": "code",
   "execution_count": null,
   "metadata": {},
   "outputs": [],
   "source": [
    "#slice angle\n",
    "plt.imshow(npa_zslice,cmap=plt.cm.Greys_r)\n",
    "\n",
    "#type of projecttion - min/max"
   ]
  },
  {
   "cell_type": "code",
   "execution_count": null,
   "metadata": {},
   "outputs": [],
   "source": [
    "def make_isotropic(image, interpolator = sitk.sitkLinear):\n",
    "    '''\n",
    "    Resample an image to isotropic pixels (using smallest spacing from original) and save to file. Many file formats \n",
    "    (jpg, png,...) expect the pixels to be isotropic. By default the function uses a linear interpolator. For\n",
    "    label images one should use the sitkNearestNeighbor interpolator so as not to introduce non-existant labels.\n",
    "    '''\n",
    "    original_spacing = image.GetSpacing()\n",
    "    # Image is already isotropic, just return a copy.\n",
    "    if all(spc == original_spacing[0] for spc in original_spacing):\n",
    "        return sitk.Image(image)\n",
    "    # Make image isotropic via resampling.\n",
    "    original_size = image.GetSize()\n",
    "    min_spacing = min(original_spacing)\n",
    "    new_spacing = [min_spacing]*image.GetDimension()\n",
    "    new_size = [int(round(osz*ospc/min_spacing)) for osz,ospc in zip(original_size, original_spacing)]\n",
    "    return sitk.Resample(image, new_size, sitk.Transform(), interpolator,\n",
    "                         image.GetOrigin(), new_spacing, image.GetDirection(), 0,\n",
    "                         image.GetPixelID())\n",
    "\n",
    "def save_projections(image,img_name,type,max_intensity=50,min_intensity=-1024):\n",
    "    writer = sitk.ImageFileWriter()\n",
    "    img=sitk.Extract(image, image.GetSize())\n",
    "    writer.SetFileName(img_name)\n",
    "\n",
    "    #img=make_isotropic(img)\n",
    "\n",
    "    if type=='PET':\n",
    "        img_write=sitk.Cast(\n",
    "            sitk.IntensityWindowing(\n",
    "                img, windowMinimum=min_intensity, windowMaximum=max_intensity, outputMinimum=100.0, outputMaximum=255.0\n",
    "            ),\n",
    "            sitk.sitkUInt32,\n",
    "        )\n",
    "    else:\n",
    "        img_write=sitk.Cast(\n",
    "            img,\n",
    "            sitk.sitkUInt32,\n",
    "        )            \n",
    "\n",
    "    writer.Execute(img_write)  #sitk.Cast(sitk.RescaleIntensity(img,outputMinimum=0,outputMaximum=15)"
   ]
  },
  {
   "cell_type": "code",
   "execution_count": null,
   "metadata": {},
   "outputs": [],
   "source": [
    "projection = {'sum': sitk.SumProjection,\n",
    "              'mean':  sitk.MeanProjection,\n",
    "              'std': sitk.StandardDeviationProjection,\n",
    "              'min': sitk.MinimumProjection,\n",
    "              'max': sitk.MaximumProjection}\n",
    "ptype = 'max'\n",
    "paxis = 0\n",
    "\n",
    "rotation_axis = [0,0,1]\n",
    "rotation_angles = np.linspace(-1/2*np.pi, 1/2*np.pi, int(180.0/15.0)) #15 degree \n",
    "rotation_center = vol_img.TransformContinuousIndexToPhysicalPoint([(index-1)/2.0 for index in vol_img.GetSize()])\n",
    "\n",
    "rotation_transform = sitk.VersorRigid3DTransform()\n",
    "rotation_transform.SetCenter(rotation_center)\n",
    "\n",
    "#Compute bounding box of rotating volume and the resampling grid structure\n",
    "image_indexes = list(zip([0,0,0], [sz-1 for sz in vol_img.GetSize()]))\n",
    "image_bounds = []\n",
    "for i in image_indexes[0]:\n",
    "    for j in image_indexes[1]:\n",
    "        for k in image_indexes[2]:\n",
    "            image_bounds.append(vol_img.TransformIndexToPhysicalPoint([i,j,k]))\n",
    "\n",
    "all_points = []\n",
    "for angle in rotation_angles:\n",
    "    rotation_transform.SetRotation(rotation_axis, angle)    \n",
    "    all_points.extend([rotation_transform.TransformPoint(pnt) for pnt in image_bounds])\n",
    "    \n",
    "all_points = np.array(all_points)\n",
    "min_bounds = all_points.min(0)\n",
    "max_bounds = all_points.max(0)\n",
    "\n",
    "#resampling grid will be isotropic so no matter which direction we project to\n",
    "#the images we save will always be isotropic (required for vol_img formats that \n",
    "#assume isotropy - jpg,png,tiff...)\n",
    "\n",
    "new_spc = [np.min(vol_img.GetSpacing())]*3\n",
    "new_sz = [int(sz/spc + 0.5) for spc,sz in zip(new_spc, max_bounds-min_bounds)]\n",
    "\n",
    "pix_array=sitk.GetArrayFromImage(vol_img)\n",
    "maxtensity,mintensity=pix_array.max(),pix_array.min()\n",
    "\n",
    "proj_images = []\n",
    "i=0\n",
    "for angle in rotation_angles:\n",
    "    rotation_transform.SetRotation(rotation_axis, angle) \n",
    "    resampled_image = sitk.Resample(image1=vol_img,\n",
    "                                    size=new_sz,\n",
    "                                    transform=rotation_transform,\n",
    "                                    interpolator=sitk.sitkNearestNeighbor,\n",
    "                                    outputOrigin=min_bounds,\n",
    "                                    outputSpacing=new_spc,\n",
    "                                    outputDirection = [1,0,0,0,1,0,0,0,1],\n",
    "                                    defaultPixelValue =  0, #HU unit for air in CT, possibly set to 0 in other cases\n",
    "                                    outputPixelType = vol_img.GetPixelID())\n",
    "    proj_image = projection[ptype](resampled_image, paxis)\n",
    "    extract_size = list(proj_image.GetSize())\n",
    "    extract_size[paxis]=0\n",
    "    proj_images.append(sitk.Extract(proj_image, extract_size))\n",
    "\n",
    "    img_n=r'C:\\Users\\Audit\\Uppsala - Masters Europe\\Semester 3\\Project in Image analysis - Software\\UCAN-PET-CT-image-data-handling-pipeline\\Task 2.1\\Data\\Sample 2D projections\\sample_{0}.png'.format(i)\n",
    "    save_projections(sitk.InvertIntensity(sitk.Extract(proj_image, extract_size),maximum=1),img_name=img_n)\n",
    "    print(i,angle,mintensity)\n",
    "    i+=1\n",
    "\n",
    "\n",
    "# Stack all images into fuax-volume for display\n",
    "#sitk.Show(sitk.JoinSeries(proj_images))\n",
    "\n"
   ]
  },
  {
   "cell_type": "code",
   "execution_count": null,
   "metadata": {},
   "outputs": [],
   "source": [
    "print(pix_array.min())"
   ]
  },
  {
   "cell_type": "code",
   "execution_count": null,
   "metadata": {},
   "outputs": [],
   "source": [
    "#proj_image[0,:,:].GetSize()\n",
    "\n",
    "inv_imgs=[]\n",
    "for i in [0,3,9,11]:\n",
    "    ext=sitk.Extract(proj_images[i], proj_images[i].GetSize())\n",
    "    inv_ext=sitk.InvertIntensity(ext,maximum=1)\n",
    "    \n",
    "    inv_imgs.append(inv_ext)\n",
    "    \n",
    "#plt.imshow(sitk.GetArrayFromImage(proj_images[0]),cmap='gray')\n",
    "\n",
    "intensity_clipper=sitk.IntensityWindowingImageFilter\n",
    "\n",
    "for i in range(1,5):\n",
    "    plt.subplot(2,4,i)\n",
    "    intensity_clipper().SetOutputMaximum(15)\n",
    "    intensity_clipper().SetOutputMinimum(0)\n",
    "    plt.imshow(sitk.GetArrayFromImage(proj_images[i]),cmap='gray')\n",
    "\n",
    "for i in range(1,5):\n",
    "    plt.subplot(2,4,i+4)\n",
    "    plt.imshow(sitk.GetArrayFromImage(inv_imgs[i-1]),cmap='gray')"
   ]
  },
  {
   "cell_type": "code",
   "execution_count": null,
   "metadata": {},
   "outputs": [],
   "source": [
    "def generate_MIPs(SUV, rot_min=-90, rot_max=90, rot_interval=15 ):\n",
    "    \"\"\"\n",
    "    Generate rotating 2D MIPs along coronal direction from (-90, 90).\n",
    "    \"\"\"\n",
    "    imgs=[]\n",
    "    SUV = np.transpose(SUV, (2,1,0))\n",
    "    for i in tqdm(range(rot_min, rot_max+1, rot_interval)):\n",
    "            print(\"angle: \", i)\n",
    "            suv_temp = scipy.ndimage.rotate(SUV, angle=i, axes=(0,1))\n",
    "            suv_temp = np.clip(suv_temp, 0, 15)\n",
    "            suv_MIP = np.max(suv_temp, axis=1).astype(\"float\")\n",
    "            \n",
    "            suv_MIP = suv_MIP/np.max(suv_MIP)\n",
    "            suv_MIP = np.absolute(suv_MIP - np.amax(suv_MIP))\n",
    "            suv_MIP = cv2.rotate(suv_MIP, cv2.ROTATE_90_COUNTERCLOCKWISE)\n",
    "\n",
    "            suv_MIP = suv_MIP[:,60:-60]\n",
    "            imgs.append(suv_MIP)\n",
    "    return imgs\n",
    "suv_imgs=generate_MIPs(sitk.GetArrayFromImage(vol_img))"
   ]
  },
  {
   "cell_type": "code",
   "execution_count": null,
   "metadata": {},
   "outputs": [],
   "source": [
    "inv_suv_imgs=[]\n",
    "for i in [0,4,10,12]:\n",
    "    ext=sitk.Extract(sitk.GetImageFromArray(suv_imgs[i]), sitk.GetImageFromArray(suv_imgs[i]).GetSize())\n",
    "    inv_ext=sitk.InvertIntensity(ext,maximum=1)\n",
    "    inv_suv_imgs.append(inv_ext)\n",
    "    #plt.imshow(sitk.GetImageFromArray(proj_image[0,:,:]),cmap='gray')\n",
    "print(len(suv_imgs))\n",
    "for i,j in zip([0,4,10,12],[1,2,3,4]):\n",
    "    plt.subplot(1,4,j)\n",
    "    plt.imshow(sitk.GetArrayFromImage(inv_suv_imgs[j-1]),cmap='gray')\n",
    "    #plt.imshow(suv_imgs[i],cmap='gray')"
   ]
  },
  {
   "cell_type": "code",
   "execution_count": null,
   "metadata": {},
   "outputs": [],
   "source": [
    "ct_vol= sitk.ReadImage(r\"C:\\Users\\Audit\\Uppsala - Masters Europe\\Semester 3\\Project in Image analysis - Software\\UCAN-PET-CT-image-data-handling-pipeline\\Task 2.1\\Data\\CTbrain50.nrrd\")\n",
    "skele=ct_vol <200 and ct_vol >50\n",
    "\n",
    "#Thresholding\n",
    "ct_vol.GetSize()\n",
    "#adipose=vol_img[100<vol_img & 500>vol_img]"
   ]
  },
  {
   "cell_type": "code",
   "execution_count": null,
   "metadata": {},
   "outputs": [],
   "source": [
    "skele.GetSize()"
   ]
  },
  {
   "cell_type": "code",
   "execution_count": null,
   "metadata": {},
   "outputs": [],
   "source": [
    "image_viewer = sitk.ImageViewer()\n",
    "sk=sitk.Extract(sitk.GetImageFromArray(skele), sitk.GetImageFromArray(vol_img).GetSize())\n",
    "image_viewer.SetTitle('grid using ImageViewer class')\n",
    "image_viewer.Execute(sk)"
   ]
  },
  {
   "cell_type": "markdown",
   "metadata": {},
   "source": [
    "### Projections from selected images"
   ]
  },
  {
   "cell_type": "code",
<<<<<<< HEAD
   "execution_count": null,
   "metadata": {},
   "outputs": [],
=======
   "execution_count": 1,
   "metadata": {},
   "outputs": [],
   "source": [
    "import SimpleITK as sitk\n",
    "import matplotlib.pyplot as plt\n",
    "import numpy as np\n",
    "import pandas as pd\n",
    "import scipy.ndimage\n",
    "import os\n",
    "import cv2\n",
    "from tqdm import tqdm\n",
    "import utils"
   ]
  },
  {
   "cell_type": "code",
   "execution_count": 2,
   "metadata": {},
   "outputs": [
    {
     "data": {
      "text/html": [
       "<div>\n",
       "<style scoped>\n",
       "    .dataframe tbody tr th:only-of-type {\n",
       "        vertical-align: middle;\n",
       "    }\n",
       "\n",
       "    .dataframe tbody tr th {\n",
       "        vertical-align: top;\n",
       "    }\n",
       "\n",
       "    .dataframe thead th {\n",
       "        text-align: right;\n",
       "    }\n",
       "</style>\n",
       "<table border=\"1\" class=\"dataframe\">\n",
       "  <thead>\n",
       "    <tr style=\"text-align: right;\">\n",
       "      <th></th>\n",
       "      <th>directory</th>\n",
       "      <th>root_directory</th>\n",
       "      <th>source_directory</th>\n",
       "      <th>patient_info</th>\n",
       "      <th>patient_directory</th>\n",
       "      <th>PET-CT_info</th>\n",
       "      <th>dicom_img</th>\n",
       "      <th>patient_id</th>\n",
       "      <th>patient_age</th>\n",
       "      <th>patient_weight</th>\n",
       "      <th>...</th>\n",
       "      <th>recons_method</th>\n",
       "      <th>image_type</th>\n",
       "      <th>aquisition_dt</th>\n",
       "      <th>study_desc</th>\n",
       "      <th>series_desc</th>\n",
       "      <th>protocol</th>\n",
       "      <th>corr_img</th>\n",
       "      <th>modality</th>\n",
       "      <th>manufacturer</th>\n",
       "      <th>manufacturer_model</th>\n",
       "    </tr>\n",
       "  </thead>\n",
       "  <tbody>\n",
       "    <tr>\n",
       "      <th>0</th>\n",
       "      <td>F:\\U-CAN-Lymfom_A\\Raw_DCM_transf_date_20221205...</td>\n",
       "      <td>U-CAN-Lymfom_A</td>\n",
       "      <td>Raw_DCM_transf_date_20221205__06__n86_90GB</td>\n",
       "      <td>ASPTCTX0001_npr134758508773-20191212\\CT-201912...</td>\n",
       "      <td>ASPTCTX0001_npr134758508773-20191212</td>\n",
       "      <td>CT-20191212-112330-3.7-WB_FDG-CT-VENFAS-WB-Ven...</td>\n",
       "      <td>1.2.840.113619.2.5.42235195.12863.1576135318.405</td>\n",
       "      <td>npr134758508773</td>\n",
       "      <td>74.0</td>\n",
       "      <td>'72.0'</td>\n",
       "      <td>...</td>\n",
       "      <td>NaN</td>\n",
       "      <td>['DERIVED', 'SECONDARY', 'REFORMATTED', 'AVER...</td>\n",
       "      <td>'20191212'</td>\n",
       "      <td>'PET FDG WB 1 h'</td>\n",
       "      <td>'WB Venfas 3 ax'</td>\n",
       "      <td>'3.7 WB_FDG CT VENFAS'</td>\n",
       "      <td>NaN</td>\n",
       "      <td>CT</td>\n",
       "      <td>'GE MEDICAL SYSTEMS'</td>\n",
       "      <td>'Discovery MI'</td>\n",
       "    </tr>\n",
       "  </tbody>\n",
       "</table>\n",
       "<p>1 rows × 33 columns</p>\n",
       "</div>"
      ],
      "text/plain": [
       "                                           directory  root_directory  \\\n",
       "0  F:\\U-CAN-Lymfom_A\\Raw_DCM_transf_date_20221205...  U-CAN-Lymfom_A   \n",
       "\n",
       "                             source_directory  \\\n",
       "0  Raw_DCM_transf_date_20221205__06__n86_90GB   \n",
       "\n",
       "                                        patient_info  \\\n",
       "0  ASPTCTX0001_npr134758508773-20191212\\CT-201912...   \n",
       "\n",
       "                      patient_directory  \\\n",
       "0  ASPTCTX0001_npr134758508773-20191212   \n",
       "\n",
       "                                         PET-CT_info  \\\n",
       "0  CT-20191212-112330-3.7-WB_FDG-CT-VENFAS-WB-Ven...   \n",
       "\n",
       "                                          dicom_img       patient_id  \\\n",
       "0  1.2.840.113619.2.5.42235195.12863.1576135318.405  npr134758508773   \n",
       "\n",
       "   patient_age patient_weight  ... recons_method  \\\n",
       "0         74.0         '72.0'  ...           NaN   \n",
       "\n",
       "                                          image_type  aquisition_dt  \\\n",
       "0   ['DERIVED', 'SECONDARY', 'REFORMATTED', 'AVER...     '20191212'   \n",
       "\n",
       "          study_desc        series_desc                 protocol  corr_img  \\\n",
       "0   'PET FDG WB 1 h'   'WB Venfas 3 ax'   '3.7 WB_FDG CT VENFAS'       NaN   \n",
       "\n",
       "  modality           manufacturer manufacturer_model  \n",
       "0       CT   'GE MEDICAL SYSTEMS'     'Discovery MI'  \n",
       "\n",
       "[1 rows x 33 columns]"
      ]
     },
     "execution_count": 2,
     "metadata": {},
     "output_type": "execute_result"
    }
   ],
>>>>>>> 3059ec89d1fc0183db5ce8013b351416056cd57e
   "source": [
    "#read master data\n",
    "master_data = pd.read_csv('F:/U-CAN-Lymfom_A/Selected_for_UCAN_project/Selected_exams_from_U-CAN-Lymfom_A_MasterDataset_2Oct2023.csv')\n",
    "\n",
    "master_data.head(1)"
   ]
  },
  {
   "cell_type": "code",
<<<<<<< HEAD
   "execution_count": null,
   "metadata": {},
   "outputs": [],
=======
   "execution_count": 21,
   "metadata": {},
   "outputs": [],
   "source": [
    "def make_mips(image, output_dir=''):\n",
    "    #image = sitk.ReadImage(image_path)\n",
    "    image_size = image.GetSize()\n",
    "\n",
    "    #basename = os.path.basename(image_path)\n",
    "    #if not os.path.isdir(output_dir):\n",
    "    #    os.makedirs(output_dir)\n",
    "\n",
    "    for dim in range(3):\n",
    "        projection = sitk.MeanProjection(image, dim)\n",
    "\n",
    "        if image_size[dim] % 2:  # odd number\n",
    "            voxel = [0, 0, 0]\n",
    "            voxel[dim] = (image_size[dim] - 1) / 2\n",
    "            origin = image.TransformIndexToPhysicalPoint(voxel)\n",
    "        else:  # even\n",
    "            voxel1 = np.array([0, 0, 0], int)\n",
    "            voxel2 = np.array([0, 0, 0], int)\n",
    "            voxel1[dim] = image_size[dim] / 2 - 1\n",
    "            voxel2[dim] = image_size[dim] / 2\n",
    "            point1 = np.array(image.TransformIndexToPhysicalPoint(voxel1.tolist()))\n",
    "            point2 = np.array(image.TransformIndexToPhysicalPoint(voxel2.tolist()))\n",
    "            origin = np.mean(np.vstack((point1, point2)), 0)\n",
    "        projection.SetOrigin(origin)\n",
    "        projection.SetDirection(image.GetDirection())\n",
    "        #proj_basename = basename.replace('.nii.gz', '_mip_{}.nii.gz'.format(dim))\n",
    "        #plt.imshow(sitk.GetArrayFromImage(sitk.InvertIntensity(projection)), cmap='gray')\n",
    "        sitk.WriteImage(projection, r'F:\\U-CAN-Lymfom_A\\Selected_for_UCAN_project\\Selected_CTMean&PETMax_Projections\\sample.nii.gz')#os.path.join(output_dir, proj_basename))"
   ]
  },
  {
   "cell_type": "code",
   "execution_count": 24,
   "metadata": {},
   "outputs": [
    {
     "ename": "TypeError",
     "evalue": "Invalid shape (1, 384, 384) for image data",
     "output_type": "error",
     "traceback": [
      "\u001b[1;31m---------------------------------------------------------------------------\u001b[0m",
      "\u001b[1;31mTypeError\u001b[0m                                 Traceback (most recent call last)",
      "\u001b[1;32me:\\UCAN\\UCAN-PET-CT-image-data-handling-pipeline\\Task 2.1\\SimpleITK_exploration.ipynb Cell 23\u001b[0m line \u001b[0;36m2\n\u001b[0;32m      <a href='vscode-notebook-cell:/e%3A/UCAN/UCAN-PET-CT-image-data-handling-pipeline/Task%202.1/SimpleITK_exploration.ipynb#X61sZmlsZQ%3D%3D?line=0'>1</a>\u001b[0m img \u001b[39m=\u001b[39m sitk\u001b[39m.\u001b[39mReadImage(\u001b[39mr\u001b[39m\u001b[39m'\u001b[39m\u001b[39mF:\u001b[39m\u001b[39m\\\u001b[39m\u001b[39mU-CAN-Lymfom_A\u001b[39m\u001b[39m\\\u001b[39m\u001b[39mSelected_for_UCAN_project\u001b[39m\u001b[39m\\\u001b[39m\u001b[39mSelected_CTMean&PETMax_Projections\u001b[39m\u001b[39m\\\u001b[39m\u001b[39msample.nii.gz\u001b[39m\u001b[39m'\u001b[39m)\n\u001b[1;32m----> <a href='vscode-notebook-cell:/e%3A/UCAN/UCAN-PET-CT-image-data-handling-pipeline/Task%202.1/SimpleITK_exploration.ipynb#X61sZmlsZQ%3D%3D?line=1'>2</a>\u001b[0m plt\u001b[39m.\u001b[39;49mimshow(sitk\u001b[39m.\u001b[39;49mGetArrayFromImage(img))\n",
      "File \u001b[1;32mc:\\Softwares\\Anaconda\\envs\\dlfia\\lib\\site-packages\\matplotlib\\pyplot.py:2695\u001b[0m, in \u001b[0;36mimshow\u001b[1;34m(X, cmap, norm, aspect, interpolation, alpha, vmin, vmax, origin, extent, interpolation_stage, filternorm, filterrad, resample, url, data, **kwargs)\u001b[0m\n\u001b[0;32m   2689\u001b[0m \u001b[39m@_copy_docstring_and_deprecators\u001b[39m(Axes\u001b[39m.\u001b[39mimshow)\n\u001b[0;32m   2690\u001b[0m \u001b[39mdef\u001b[39;00m \u001b[39mimshow\u001b[39m(\n\u001b[0;32m   2691\u001b[0m         X, cmap\u001b[39m=\u001b[39m\u001b[39mNone\u001b[39;00m, norm\u001b[39m=\u001b[39m\u001b[39mNone\u001b[39;00m, \u001b[39m*\u001b[39m, aspect\u001b[39m=\u001b[39m\u001b[39mNone\u001b[39;00m, interpolation\u001b[39m=\u001b[39m\u001b[39mNone\u001b[39;00m,\n\u001b[0;32m   2692\u001b[0m         alpha\u001b[39m=\u001b[39m\u001b[39mNone\u001b[39;00m, vmin\u001b[39m=\u001b[39m\u001b[39mNone\u001b[39;00m, vmax\u001b[39m=\u001b[39m\u001b[39mNone\u001b[39;00m, origin\u001b[39m=\u001b[39m\u001b[39mNone\u001b[39;00m, extent\u001b[39m=\u001b[39m\u001b[39mNone\u001b[39;00m,\n\u001b[0;32m   2693\u001b[0m         interpolation_stage\u001b[39m=\u001b[39m\u001b[39mNone\u001b[39;00m, filternorm\u001b[39m=\u001b[39m\u001b[39mTrue\u001b[39;00m, filterrad\u001b[39m=\u001b[39m\u001b[39m4.0\u001b[39m,\n\u001b[0;32m   2694\u001b[0m         resample\u001b[39m=\u001b[39m\u001b[39mNone\u001b[39;00m, url\u001b[39m=\u001b[39m\u001b[39mNone\u001b[39;00m, data\u001b[39m=\u001b[39m\u001b[39mNone\u001b[39;00m, \u001b[39m*\u001b[39m\u001b[39m*\u001b[39mkwargs):\n\u001b[1;32m-> 2695\u001b[0m     __ret \u001b[39m=\u001b[39m gca()\u001b[39m.\u001b[39mimshow(\n\u001b[0;32m   2696\u001b[0m         X, cmap\u001b[39m=\u001b[39mcmap, norm\u001b[39m=\u001b[39mnorm, aspect\u001b[39m=\u001b[39maspect,\n\u001b[0;32m   2697\u001b[0m         interpolation\u001b[39m=\u001b[39minterpolation, alpha\u001b[39m=\u001b[39malpha, vmin\u001b[39m=\u001b[39mvmin,\n\u001b[0;32m   2698\u001b[0m         vmax\u001b[39m=\u001b[39mvmax, origin\u001b[39m=\u001b[39morigin, extent\u001b[39m=\u001b[39mextent,\n\u001b[0;32m   2699\u001b[0m         interpolation_stage\u001b[39m=\u001b[39minterpolation_stage,\n\u001b[0;32m   2700\u001b[0m         filternorm\u001b[39m=\u001b[39mfilternorm, filterrad\u001b[39m=\u001b[39mfilterrad, resample\u001b[39m=\u001b[39mresample,\n\u001b[0;32m   2701\u001b[0m         url\u001b[39m=\u001b[39murl, \u001b[39m*\u001b[39m\u001b[39m*\u001b[39m({\u001b[39m\"\u001b[39m\u001b[39mdata\u001b[39m\u001b[39m\"\u001b[39m: data} \u001b[39mif\u001b[39;00m data \u001b[39mis\u001b[39;00m \u001b[39mnot\u001b[39;00m \u001b[39mNone\u001b[39;00m \u001b[39melse\u001b[39;00m {}),\n\u001b[0;32m   2702\u001b[0m         \u001b[39m*\u001b[39m\u001b[39m*\u001b[39mkwargs)\n\u001b[0;32m   2703\u001b[0m     sci(__ret)\n\u001b[0;32m   2704\u001b[0m     \u001b[39mreturn\u001b[39;00m __ret\n",
      "File \u001b[1;32mc:\\Softwares\\Anaconda\\envs\\dlfia\\lib\\site-packages\\matplotlib\\__init__.py:1459\u001b[0m, in \u001b[0;36m_preprocess_data.<locals>.inner\u001b[1;34m(ax, data, *args, **kwargs)\u001b[0m\n\u001b[0;32m   1456\u001b[0m \u001b[39m@functools\u001b[39m\u001b[39m.\u001b[39mwraps(func)\n\u001b[0;32m   1457\u001b[0m \u001b[39mdef\u001b[39;00m \u001b[39minner\u001b[39m(ax, \u001b[39m*\u001b[39margs, data\u001b[39m=\u001b[39m\u001b[39mNone\u001b[39;00m, \u001b[39m*\u001b[39m\u001b[39m*\u001b[39mkwargs):\n\u001b[0;32m   1458\u001b[0m     \u001b[39mif\u001b[39;00m data \u001b[39mis\u001b[39;00m \u001b[39mNone\u001b[39;00m:\n\u001b[1;32m-> 1459\u001b[0m         \u001b[39mreturn\u001b[39;00m func(ax, \u001b[39m*\u001b[39m\u001b[39mmap\u001b[39m(sanitize_sequence, args), \u001b[39m*\u001b[39m\u001b[39m*\u001b[39mkwargs)\n\u001b[0;32m   1461\u001b[0m     bound \u001b[39m=\u001b[39m new_sig\u001b[39m.\u001b[39mbind(ax, \u001b[39m*\u001b[39margs, \u001b[39m*\u001b[39m\u001b[39m*\u001b[39mkwargs)\n\u001b[0;32m   1462\u001b[0m     auto_label \u001b[39m=\u001b[39m (bound\u001b[39m.\u001b[39marguments\u001b[39m.\u001b[39mget(label_namer)\n\u001b[0;32m   1463\u001b[0m                   \u001b[39mor\u001b[39;00m bound\u001b[39m.\u001b[39mkwargs\u001b[39m.\u001b[39mget(label_namer))\n",
      "File \u001b[1;32mc:\\Softwares\\Anaconda\\envs\\dlfia\\lib\\site-packages\\matplotlib\\axes\\_axes.py:5665\u001b[0m, in \u001b[0;36mAxes.imshow\u001b[1;34m(self, X, cmap, norm, aspect, interpolation, alpha, vmin, vmax, origin, extent, interpolation_stage, filternorm, filterrad, resample, url, **kwargs)\u001b[0m\n\u001b[0;32m   5657\u001b[0m \u001b[39mself\u001b[39m\u001b[39m.\u001b[39mset_aspect(aspect)\n\u001b[0;32m   5658\u001b[0m im \u001b[39m=\u001b[39m mimage\u001b[39m.\u001b[39mAxesImage(\u001b[39mself\u001b[39m, cmap\u001b[39m=\u001b[39mcmap, norm\u001b[39m=\u001b[39mnorm,\n\u001b[0;32m   5659\u001b[0m                       interpolation\u001b[39m=\u001b[39minterpolation, origin\u001b[39m=\u001b[39morigin,\n\u001b[0;32m   5660\u001b[0m                       extent\u001b[39m=\u001b[39mextent, filternorm\u001b[39m=\u001b[39mfilternorm,\n\u001b[0;32m   5661\u001b[0m                       filterrad\u001b[39m=\u001b[39mfilterrad, resample\u001b[39m=\u001b[39mresample,\n\u001b[0;32m   5662\u001b[0m                       interpolation_stage\u001b[39m=\u001b[39minterpolation_stage,\n\u001b[0;32m   5663\u001b[0m                       \u001b[39m*\u001b[39m\u001b[39m*\u001b[39mkwargs)\n\u001b[1;32m-> 5665\u001b[0m im\u001b[39m.\u001b[39;49mset_data(X)\n\u001b[0;32m   5666\u001b[0m im\u001b[39m.\u001b[39mset_alpha(alpha)\n\u001b[0;32m   5667\u001b[0m \u001b[39mif\u001b[39;00m im\u001b[39m.\u001b[39mget_clip_path() \u001b[39mis\u001b[39;00m \u001b[39mNone\u001b[39;00m:\n\u001b[0;32m   5668\u001b[0m     \u001b[39m# image does not already have clipping set, clip to axes patch\u001b[39;00m\n",
      "File \u001b[1;32mc:\\Softwares\\Anaconda\\envs\\dlfia\\lib\\site-packages\\matplotlib\\image.py:710\u001b[0m, in \u001b[0;36m_ImageBase.set_data\u001b[1;34m(self, A)\u001b[0m\n\u001b[0;32m    706\u001b[0m     \u001b[39mself\u001b[39m\u001b[39m.\u001b[39m_A \u001b[39m=\u001b[39m \u001b[39mself\u001b[39m\u001b[39m.\u001b[39m_A[:, :, \u001b[39m0\u001b[39m]\n\u001b[0;32m    708\u001b[0m \u001b[39mif\u001b[39;00m \u001b[39mnot\u001b[39;00m (\u001b[39mself\u001b[39m\u001b[39m.\u001b[39m_A\u001b[39m.\u001b[39mndim \u001b[39m==\u001b[39m \u001b[39m2\u001b[39m\n\u001b[0;32m    709\u001b[0m         \u001b[39mor\u001b[39;00m \u001b[39mself\u001b[39m\u001b[39m.\u001b[39m_A\u001b[39m.\u001b[39mndim \u001b[39m==\u001b[39m \u001b[39m3\u001b[39m \u001b[39mand\u001b[39;00m \u001b[39mself\u001b[39m\u001b[39m.\u001b[39m_A\u001b[39m.\u001b[39mshape[\u001b[39m-\u001b[39m\u001b[39m1\u001b[39m] \u001b[39min\u001b[39;00m [\u001b[39m3\u001b[39m, \u001b[39m4\u001b[39m]):\n\u001b[1;32m--> 710\u001b[0m     \u001b[39mraise\u001b[39;00m \u001b[39mTypeError\u001b[39;00m(\u001b[39m\"\u001b[39m\u001b[39mInvalid shape \u001b[39m\u001b[39m{}\u001b[39;00m\u001b[39m for image data\u001b[39m\u001b[39m\"\u001b[39m\n\u001b[0;32m    711\u001b[0m                     \u001b[39m.\u001b[39mformat(\u001b[39mself\u001b[39m\u001b[39m.\u001b[39m_A\u001b[39m.\u001b[39mshape))\n\u001b[0;32m    713\u001b[0m \u001b[39mif\u001b[39;00m \u001b[39mself\u001b[39m\u001b[39m.\u001b[39m_A\u001b[39m.\u001b[39mndim \u001b[39m==\u001b[39m \u001b[39m3\u001b[39m:\n\u001b[0;32m    714\u001b[0m     \u001b[39m# If the input data has values outside the valid range (after\u001b[39;00m\n\u001b[0;32m    715\u001b[0m     \u001b[39m# normalisation), we issue a warning and then clip X to the bounds\u001b[39;00m\n\u001b[0;32m    716\u001b[0m     \u001b[39m# - otherwise casting wraps extreme values, hiding outliers and\u001b[39;00m\n\u001b[0;32m    717\u001b[0m     \u001b[39m# making reliable interpretation impossible.\u001b[39;00m\n\u001b[0;32m    718\u001b[0m     high \u001b[39m=\u001b[39m \u001b[39m255\u001b[39m \u001b[39mif\u001b[39;00m np\u001b[39m.\u001b[39missubdtype(\u001b[39mself\u001b[39m\u001b[39m.\u001b[39m_A\u001b[39m.\u001b[39mdtype, np\u001b[39m.\u001b[39minteger) \u001b[39melse\u001b[39;00m \u001b[39m1\u001b[39m\n",
      "\u001b[1;31mTypeError\u001b[0m: Invalid shape (1, 384, 384) for image data"
     ]
    },
    {
     "data": {
      "image/png": "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",
      "text/plain": [
       "<Figure size 640x480 with 1 Axes>"
      ]
     },
     "metadata": {},
     "output_type": "display_data"
    }
   ],
   "source": [
    "img = sitk.ReadImage(r'F:\\U-CAN-Lymfom_A\\Selected_for_UCAN_project\\Selected_CTMean&PETMax_Projections\\sample.nii.gz')\n",
    "plt.imshow(sitk.GetArrayFromImage(img))"
   ]
  },
  {
   "cell_type": "code",
   "execution_count": 22,
   "metadata": {},
   "outputs": [
    {
     "name": "stdout",
     "output_type": "stream",
     "text": [
      "F:\\U-CAN-Lymfom_A\\Raw_DCM_transf_date_20221205__06__n86_90GB\\ASPTCTX0001_npr134758508773-20191212\\CT-20191212-112330-3.7-WB_FDG-CT-VENFAS-WB-Venfas-3-ax-3.000000mm_JK_\n",
      "(384, 384, 384)\n",
      "CT:  CT\n",
      "F:\\U-CAN-Lymfom_A\\Raw_DCM_transf_date_20221205__06__n86_90GB\\ASPTCTX0001_npr134758508773-20191212\\PT-20191212-110507-3.7-WB_FDG-CT-VENFAS-QCFX-S-400-2.7900mm_JK_\n",
      "(384, 384, 384)\n",
      "PT:  PT\n"
     ]
    }
   ],
>>>>>>> 3059ec89d1fc0183db5ce8013b351416056cd57e
   "source": [
    "exception_lst = []\n",
    "new_size = [384, 384, 384]\n",
    "new_spacing = [2, 2, 3]\n",
    "for index, row in master_data.iterrows():\n",
    "\n",
    "    #vol_img = sitk.ReadImage(row['directory'])\n",
    "    \n",
    "    print(row['directory'])\n",
    "\n",
    "    reader = sitk.ImageSeriesReader()\n",
    "    dicom_names = reader.GetGDCMSeriesFileNames(row['directory'])\n",
    "    reader.SetFileNames(dicom_names)\n",
    "    vol_img = reader.Execute()\n",
    "\n",
    "    vol_img = sitk.Resample(vol_img, new_size, sitk.Transform(), sitk.sitkLinear,\n",
    "                         vol_img.GetOrigin(), new_spacing, vol_img.GetDirection(), 0,\n",
    "                         vol_img.GetPixelID())\n",
    "    \n",
    "    print(vol_img.GetSize())\n",
    "    name_suffix = r'F:\\U-CAN-Lymfom_A\\Selected_for_UCAN_project\\Selected_CTMean&PETMax_Projections\\\\' + \\\n",
    "                  str(row['patient_directory']) + str(row['modality'])\n",
    "    if row['modality']==\"PT\":\n",
    "        print(\"PT: \", row['modality'])\n",
    "        ptype = 'max'\n",
    "        maxpro = sitk.MaximumProjection(vol_img, 0)\n",
    "        #plt.imshow(sitk.GetArrayFromImage(maxpro), cmap='gray')\n",
    "    else:\n",
    "        print(\"CT: \", row['modality'])\n",
    "        ptype = 'mean'\n",
    "        meanpro = sitk.MeanProjection(vol_img, 0)\n",
    "        make_mips(vol_img)\n",
    "        #plt.imshow(sitk.GetArrayFromImage(sitk.InvertIntensity(meanpro)), cmap='gray')#, vmin=50, vmax=255)\n",
    "    \n",
    "    angle = 90.0\n",
    "    \n",
    "    # try:\n",
    "    #     utils.get_2D_projections(vol_img,ptype,angle,save_img=True,img_n=name_suffix, modality=row['modality'])\n",
    "    # except:\n",
    "    #     exception_lst.append(row['directory'])\n",
    "    \n",
    "    if index>0:\n",
    "        break\n"
   ]
  },
  {
   "cell_type": "code",
   "execution_count": 4,
   "metadata": {},
   "outputs": [],
   "source": [
    "with open(r'F:\\U-CAN-Lymfom_A\\Selected_for_UCAN_project\\Selected_CTMean&PETMax_Projections\\exception_lst.txt', 'w') as fp:\n",
    "    for item in exception_lst:\n",
    "        # write each item on a new line\n",
    "        fp.write(\"%s\\n\" % item)\n",
    "    print('Done')"
   ]
  },
  {
   "cell_type": "code",
   "execution_count": null,
   "metadata": {},
   "outputs": [],
   "source": [
    "print(master_data['modality'][0])\n",
    "#master_data['modality'][0].strip()==\"'CT'\"\n"
   ]
  },
  {
   "cell_type": "code",
   "execution_count": null,
   "metadata": {},
   "outputs": [],
   "source": []
  },
  {
   "cell_type": "code",
   "execution_count": null,
   "metadata": {},
   "outputs": [],
   "source": []
  }
 ],
 "metadata": {
  "kernelspec": {
   "display_name": "usr",
   "language": "python",
   "name": "python3"
  },
  "language_info": {
   "codemirror_mode": {
    "name": "ipython",
    "version": 3
   },
   "file_extension": ".py",
   "mimetype": "text/x-python",
   "name": "python",
   "nbconvert_exporter": "python",
   "pygments_lexer": "ipython3",
   "version": "3.7.15"
  },
  "orig_nbformat": 4
 },
 "nbformat": 4,
 "nbformat_minor": 2
}
