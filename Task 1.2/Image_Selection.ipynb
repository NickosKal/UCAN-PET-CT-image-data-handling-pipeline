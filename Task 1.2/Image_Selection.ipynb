{
 "cells": [
  {
   "cell_type": "markdown",
   "source": [
    "###### Logic script in order to create a dataframe that contains the exams that fit the selection rules.\n",
    "###### Necessary imports and source path."
   ],
   "metadata": {
    "collapsed": false
   },
   "id": "a258c3f3f429659c"
  },
  {
   "cell_type": "code",
   "execution_count": 1,
   "outputs": [],
   "source": [
    "from collections import defaultdict\n",
    "import pandas as pd\n",
    "import os\n",
    "import re\n",
    "\n",
    "source_path = r\"D:\\U-CAN-Lymfom_A\\Raw_DCM_transf_date_20221205__06__n86_90GB/\""
   ],
   "metadata": {
    "collapsed": false,
    "ExecuteTime": {
     "end_time": "2023-10-11T10:34:50.106018800Z",
     "start_time": "2023-10-11T10:34:49.014310300Z"
    }
   },
   "id": "84c840c06f39127f"
  },
  {
   "cell_type": "markdown",
   "source": [
    "###### Function responsible for displaying the full information of the dataframe"
   ],
   "metadata": {
    "collapsed": false
   },
   "id": "4b0b257bf7932533"
  },
  {
   "cell_type": "code",
   "execution_count": null,
   "outputs": [],
   "source": [
    "def display_full(x):\n",
    "    with pd.option_context(\"display.max_rows\", None,\n",
    "                           \"display.max_columns\", None,\n",
    "                           \"display.width\", 20000,\n",
    "                           \"display.max_colwidth\", None,\n",
    "                           ):\n",
    "        print(x)"
   ],
   "metadata": {
    "collapsed": false
   },
   "id": "eefd66898ac619af"
  },
  {
   "cell_type": "markdown",
   "source": [
    "###### Set of rules that affect our exam selection"
   ],
   "metadata": {
    "collapsed": false
   },
   "id": "8aeba4d07da6959b"
  },
  {
   "cell_type": "code",
   "execution_count": null,
   "outputs": [],
   "source": [
    "### Rules for CT\n",
    "CT_ignore_folders = [\"bone\", \"lung\"]\n",
    "CT_specifications_first_set = [\"wb\", \"ax\", \"venfas\"]\n",
    "CT_specifications_second_set = [\"wb\", \"ven\", \"ax\"]\n",
    "CT_specifications_third_set = [\"standard\", \"ax\"]\n",
    "CT_specifications_fourth_set = [\"standard\", \"ct\", \"recon\"]\n",
    "CT_specifications_fifth_set = [\"nat\", \"ax\"]\n",
    "CT_specifications_sixth_set = \"std\"\n",
    "CT_specifications_seventh_set = ['venfas', 'ax']\n",
    "resolutions = [\"3.\", \"2.\", \"1.\"]\n",
    "\n",
    "### Rules for PET\n",
    "PET_specifications_first_set = [\"qcfx\", \"m.free\"]\n",
    "PET_specifications_second_set = [\"vpfx\", \"m.free\"]\n",
    "PET_specifications_third_set = \"vpfx\""
   ],
   "metadata": {
    "collapsed": false
   },
   "id": "72dad793a5596616"
  },
  {
   "cell_type": "markdown",
   "source": [
    "###### Loading the dataset"
   ],
   "metadata": {
    "collapsed": false
   },
   "id": "55969d518ed2d70c"
  },
  {
   "cell_type": "code",
   "execution_count": null,
   "outputs": [],
   "source": [
    "directory_list = list()\n",
    "for root, dirs, files in os.walk(source_path, topdown=False):\n",
    "    for name in dirs:\n",
    "        directory_list.append(os.path.join(root, name))"
   ],
   "metadata": {
    "collapsed": false
   },
   "id": "6794fedf6853ccb1"
  },
  {
   "cell_type": "markdown",
   "source": [
    "###### Creating a dataframe out of the dataset with the required information that are need to proceed with the filtering."
   ],
   "metadata": {
    "collapsed": false
   },
   "id": "efa73b3ba4a9bd08"
  },
  {
   "cell_type": "code",
   "execution_count": null,
   "outputs": [],
   "source": [
    "df = pd.DataFrame(directory_list, columns=['directory'])\n",
    "df[['source_directory', 'patient_info']] = df['directory'].str.split(pat='/', n=1, expand=True)\n",
    "df[['patient_directory', 'PET-CT_info']] = df['patient_info'].str.split(pat='\\\\', n=1, expand=True)\n",
    "df[['system', 'npr', 'scan_date']] = df['patient_directory'].str.split(pat='_|-', n=2, expand=True)\n",
    "temp_df = df.groupby(['npr', 'scan_date']).apply(\n",
    "    lambda x: True if x['PET-CT_info'].str.startswith('CT').any() and x['PET-CT_info'].str.startswith(\n",
    "        'PT').any() else False).reset_index()\n",
    "temp_df = temp_df[temp_df['0' == True]]\n",
    "new_df = pd.merge(temp_df, df, how=\"inner\", on=['npr', 'scan_date'], sort=True, suffixes=(\"_x\", \"_y\"))\n",
    "pre_sorted_df = new_df.dropna()"
   ],
   "metadata": {
    "collapsed": false
   },
   "id": "67358d887e13a739"
  },
  {
   "cell_type": "markdown",
   "source": [
    "###### Sort the dataset according to the rules we have in order for the most desired exams to be at the top."
   ],
   "metadata": {
    "collapsed": false
   },
   "id": "dd2af5ef94951cbc"
  },
  {
   "cell_type": "code",
   "execution_count": null,
   "outputs": [],
   "source": [
    "pre_sorted_df.loc[:, 'Resolutions'] = pre_sorted_df.loc[:, 'PET-CT_info'].str.split('-').str[-1].str.extract(\n",
    "    r'(\\d+\\.\\d+)').astype(float)\n",
    "pre_sorted_df.loc[:, \"Has_QCFX\"] = pre_sorted_df.loc[:, \"PET-CT_info\"].str.contains(\"QCFX\")\n",
    "pre_sorted_df.loc[:, \"Has_Venfas\"] = pre_sorted_df.loc[:, \"PET-CT_info\"].str.contains(\"Venfas\")\n",
    "pre_sorted_df.loc[:, \"Has_VEN\"] = pre_sorted_df.loc[:, \"PET-CT_info\"].str.contains(\"VEN\")\n",
    "pre_sorted_df.loc[:, \"Has_VENFAS\"] = pre_sorted_df.loc[:, \"PET-CT_info\"].str.contains(\"VENFAS\")\n",
    "pre_sorted_df.loc[:, \"Has_Standard\"] = pre_sorted_df.loc[:, \"PET-CT_info\"].str.contains(\"Standard\")\n",
    "pre_sorted_df.loc[:, \"Has_Nativ\"] = pre_sorted_df.loc[:, \"PET-CT_info\"].str.contains(\"Nativ\")\n",
    "final_df = pre_sorted_df.sort_values(by=['Has_QCFX', 'Has_Venfas', 'Has_VEN', 'Has_VENFAS',\n",
    "                                         'Has_Standard', 'Has_Nativ', 'Resolutions'],\n",
    "                                     ascending=[False, False, False, False, False, False, False])\n",
    "final_df.reset_index(drop=True, inplace=True)\n",
    "final_df = final_df.drop(columns=['Has_QCFX', 'Has_Venfas', 'Has_VEN', 'Has_VENFAS',\n",
    "                                  'Has_Standard', 'Has_Nativ', 'Resolutions'])"
   ],
   "metadata": {
    "collapsed": false
   },
   "id": "916cab4d7b60cc8"
  },
  {
   "cell_type": "code",
   "execution_count": null,
   "outputs": [],
   "source": [
    "display_full(final_df['PET-CT_info'])"
   ],
   "metadata": {
    "collapsed": false
   },
   "id": "5ab84f6b43cf7e5c"
  },
  {
   "cell_type": "markdown",
   "source": [
    "###### Filtering the dataframe and selecting the desired exams for each patient."
   ],
   "metadata": {
    "collapsed": false
   },
   "id": "324758a61b2d4971"
  },
  {
   "cell_type": "code",
   "execution_count": null,
   "outputs": [],
   "source": [
    "# Create three lists one for CT and PET folders and one for both.\n",
    "CT_selected_folders = defaultdict(list)\n",
    "PET_selected_folders = defaultdict(list)\n",
    "selected_exams = list()\n",
    "\n",
    "\n",
    "def data_filtering(dataframe_column):\n",
    "    # Looping through the dataset\n",
    "    for folder_path in dataframe_column:\n",
    "        \n",
    "        # Splitting the name of each row in order to take only the last part \n",
    "        # that contains the CT and PET info we care about.\n",
    "        first_split_of_path = folder_path.split(\"/\")\n",
    "        second_part_of_path = first_split_of_path[1]\n",
    "        second_split_of_path = second_part_of_path.split(\"\\\\\")\n",
    "        third_part_of_path = second_split_of_path[1]\n",
    "        \n",
    "        # Check if the folder has to do with CT or PET examination.\n",
    "        if third_part_of_path.startswith(\"CT-\"):\n",
    "            final_part_of_path = third_part_of_path.split(\"-\")\n",
    "            final_part_of_path = [string.lower() for string in final_part_of_path]\n",
    "            resolution_str = final_part_of_path[-1][:7]\n",
    "            \n",
    "            # Save the resolution to a variable for later usage.\n",
    "            try:\n",
    "                exam_resolution = float(resolution_str)\n",
    "            except ValueError:\n",
    "                continue\n",
    "            resolutions_below_one = list()\n",
    "            resolutions_below_one.append(exam_resolution)\n",
    "            \n",
    "            # Check if a CT examination has been already selected for the current patient.\n",
    "            # If yes proceed with the next folder otherwise continue with the current one.\n",
    "            if final_part_of_path[1] in CT_selected_folders[final_part_of_path[0]]:\n",
    "                continue\n",
    "            else:\n",
    "                # Check if the current folder contains information that we do not find useful.\n",
    "                if any(ignore in final_part_of_path for ignore in CT_ignore_folders):\n",
    "                    continue\n",
    "                else:\n",
    "                    # The following if statements go through the set of rules that have been established\n",
    "                    # in hierarchically order. Meaning that it checks if any of the folders contain information\n",
    "                    # that are more important than others. The next step is to examine the resolution of the examination.\n",
    "                    # Our priority is the following 3.0mm -> 2.0mm -> 1.0mm and if none of those is fulfilled \n",
    "                    # then we choose the one that is closer to one by saving the path of the file to the list of \n",
    "                    # the selected ones. Also, we save the CT selected list in order to be able to know that we \n",
    "                    # have already selected a CT examination for the current patient.  \n",
    "                    if all(item in final_part_of_path for item in CT_specifications_first_set):\n",
    "                        if exam_resolution == 3.000000:\n",
    "                            # shutil.copytree(folder_path,\n",
    "                            #                 os.path.join(destination_path, second_part_of_path),\n",
    "                            #                 dirs_exist_ok=True)\n",
    "                            # print(folder_path)\n",
    "                            selected_exams.append(folder_path)\n",
    "                            CT_selected_folders[final_part_of_path[0]].append(final_part_of_path[1])\n",
    "                            continue\n",
    "                        elif any(resolution in resolution_str for resolution in resolutions):\n",
    "                            # shutil.copytree(folder_path,\n",
    "                            #                 os.path.join(destination_path, second_part_of_path),\n",
    "                            #                 dirs_exist_ok=True)\n",
    "                            # print(folder_path)\n",
    "                            selected_exams.append(folder_path)\n",
    "                            CT_selected_folders[final_part_of_path[0]].append(final_part_of_path[1])\n",
    "                            continue\n",
    "                        elif min(enumerate(resolutions_below_one), key=lambda x: abs(x[1] - 1)):\n",
    "                            # shutil.copytree(folder_path,\n",
    "                            #                 os.path.join(destination_path, second_part_of_path),\n",
    "                            #                 dirs_exist_ok=True)\n",
    "                            # print(folder_path)\n",
    "                            selected_exams.append(folder_path)\n",
    "                            CT_selected_folders[final_part_of_path[0]].append(final_part_of_path[1])\n",
    "                            continue\n",
    "                    elif all(item in final_part_of_path for item in CT_specifications_second_set):\n",
    "                        if exam_resolution == 3.000000:\n",
    "                            # shutil.copytree(folder_path,\n",
    "                            #                 os.path.join(destination_path, second_part_of_path),\n",
    "                            #                 dirs_exist_ok=True)\n",
    "                            # print(folder_path)\n",
    "                            selected_exams.append(folder_path)\n",
    "                            CT_selected_folders[final_part_of_path[0]].append(final_part_of_path[1])\n",
    "                            continue\n",
    "                        elif any(resolution in resolution_str for resolution in resolutions):\n",
    "                            # shutil.copytree(folder_path,\n",
    "                            #                 os.path.join(destination_path, second_part_of_path),\n",
    "                            #                 dirs_exist_ok=True)\n",
    "                            # print(folder_path)\n",
    "                            selected_exams.append(folder_path)\n",
    "                            CT_selected_folders[final_part_of_path[0]].append(final_part_of_path[1])\n",
    "                            continue\n",
    "                        elif min(enumerate(resolutions_below_one), key=lambda x: abs(x[1] - 1)):\n",
    "                            # shutil.copytree(folder_path,\n",
    "                            #                 os.path.join(destination_path, second_part_of_path),\n",
    "                            #                 dirs_exist_ok=True)\n",
    "                            # print(folder_path)\n",
    "                            selected_exams.append(folder_path)\n",
    "                            CT_selected_folders[final_part_of_path[0]].append(final_part_of_path[1])\n",
    "                            continue\n",
    "                    elif all(item in final_part_of_path for item in CT_specifications_third_set):\n",
    "                        if exam_resolution == 3.00000:\n",
    "                            # shutil.copytree(folder_path,\n",
    "                            #                 os.path.join(destination_path, second_part_of_path),\n",
    "                            #                 dirs_exist_ok=True)\n",
    "                            # print(folder_path)\n",
    "                            selected_exams.append(folder_path)\n",
    "                            CT_selected_folders[final_part_of_path[0]].append(final_part_of_path[1])\n",
    "                            continue\n",
    "                        elif any(resolution in resolution_str for resolution in resolutions):\n",
    "                            # shutil.copytree(folder_path,\n",
    "                            #                 os.path.join(destination_path, second_part_of_path),\n",
    "                            #                 dirs_exist_ok=True)\n",
    "                            # print(folder_path)\n",
    "                            selected_exams.append(folder_path)\n",
    "                            CT_selected_folders[final_part_of_path[0]].append(final_part_of_path[1])\n",
    "                            continue\n",
    "                        elif min(enumerate(resolutions_below_one), key=lambda x: abs(x[1] - 1)):\n",
    "                            # shutil.copytree(folder_path,\n",
    "                            #                 os.path.join(destination_path, second_part_of_path),\n",
    "                            #                 dirs_exist_ok=True)\n",
    "                            # print(folder_path)\n",
    "                            selected_exams.append(folder_path)\n",
    "                            CT_selected_folders[final_part_of_path[0]].append(final_part_of_path[1])\n",
    "                            continue\n",
    "                    elif all(item in final_part_of_path for item in CT_specifications_fourth_set):\n",
    "                        if exam_resolution == 3.000000:\n",
    "                            # shutil.copytree(folder_path,\n",
    "                            #                 os.path.join(destination_path, second_part_of_path),\n",
    "                            #                 dirs_exist_ok=True)\n",
    "                            # print(folder_path)\n",
    "                            selected_exams.append(folder_path)\n",
    "                            CT_selected_folders[final_part_of_path[0]].append(final_part_of_path[1])\n",
    "                            continue\n",
    "                        elif any(resolution in resolution_str for resolution in resolutions):\n",
    "                            # shutil.copytree(folder_path,\n",
    "                            #                 os.path.join(destination_path, second_part_of_path),\n",
    "                            #                 dirs_exist_ok=True)\n",
    "                            # print(folder_path)\n",
    "                            selected_exams.append(folder_path)\n",
    "                            CT_selected_folders[final_part_of_path[0]].append(final_part_of_path[1])\n",
    "                            continue\n",
    "                        elif min(enumerate(resolutions_below_one), key=lambda x: abs(x[1] - 1)):\n",
    "                            # shutil.copytree(folder_path,\n",
    "                            #                 os.path.join(destination_path, second_part_of_path),\n",
    "                            #                 dirs_exist_ok=True)\n",
    "                            # print(folder_path)\n",
    "                            selected_exams.append(folder_path)\n",
    "                            CT_selected_folders[final_part_of_path[0]].append(final_part_of_path[1])\n",
    "                            continue\n",
    "                    elif all(item in final_part_of_path for item in CT_specifications_fifth_set):\n",
    "                        if exam_resolution == 3.000000:\n",
    "                            # shutil.copytree(folder_path,\n",
    "                            #                 os.path.join(destination_path, second_part_of_path),\n",
    "                            #                 dirs_exist_ok=True)\n",
    "                            # print(folder_path)\n",
    "                            selected_exams.append(folder_path)\n",
    "                            CT_selected_folders[final_part_of_path[0]].append(final_part_of_path[1])\n",
    "                            continue\n",
    "                        elif any(resolution in resolution_str for resolution in resolutions):\n",
    "                            # shutil.copytree(folder_path,\n",
    "                            #                 os.path.join(destination_path, second_part_of_path),\n",
    "                            #                 dirs_exist_ok=True)\n",
    "                            # print(folder_path)\n",
    "                            selected_exams.append(folder_path)\n",
    "                            CT_selected_folders[final_part_of_path[0]].append(final_part_of_path[1])\n",
    "                            continue\n",
    "                        elif min(enumerate(resolutions_below_one), key=lambda x: abs(x[1] - 1)):\n",
    "                            # shutil.copytree(folder_path,\n",
    "                            #                 os.path.join(destination_path, second_part_of_path),\n",
    "                            #                 dirs_exist_ok=True)\n",
    "                            # print(folder_path)\n",
    "                            selected_exams.append(folder_path)\n",
    "                            CT_selected_folders[final_part_of_path[0]].append(final_part_of_path[1])\n",
    "                            continue\n",
    "                    elif CT_specifications_sixth_set in final_part_of_path:\n",
    "                        if exam_resolution == 3.000000:\n",
    "                            # shutil.copytree(folder_path,\n",
    "                            #                 os.path.join(destination_path, second_part_of_path),\n",
    "                            #                 dirs_exist_ok=True)\n",
    "                            # print(folder_path)\n",
    "                            selected_exams.append(folder_path)\n",
    "                            CT_selected_folders[final_part_of_path[0]].append(final_part_of_path[1])\n",
    "                            continue\n",
    "                        elif any(resolution in resolution_str for resolution in resolutions):\n",
    "                            # shutil.copytree(folder_path,\n",
    "                            #                 os.path.join(destination_path, second_part_of_path),\n",
    "                            #                 dirs_exist_ok=True)\n",
    "                            # print(folder_path)\n",
    "                            selected_exams.append(folder_path)\n",
    "                            CT_selected_folders[final_part_of_path[0]].append(final_part_of_path[1])\n",
    "                            continue\n",
    "                        elif min(enumerate(resolutions_below_one), key=lambda x: abs(x[1] - 1)):\n",
    "                            # shutil.copytree(folder_path,\n",
    "                            #                 os.path.join(destination_path, second_part_of_path),\n",
    "                            #                 dirs_exist_ok=True)\n",
    "                            # print(folder_path)\n",
    "                            selected_exams.append(folder_path)\n",
    "                            CT_selected_folders[final_part_of_path[0]].append(final_part_of_path[1])\n",
    "                            continue\n",
    "                    elif all(item in final_part_of_path for item in CT_specifications_seventh_set):\n",
    "                        if exam_resolution == 3.000000:\n",
    "                            # shutil.copytree(folder_path,\n",
    "                            #                 os.path.join(destination_path, second_part_of_path),\n",
    "                            #                 dirs_exist_ok=True)\n",
    "                            # print(folder_path)\n",
    "                            selected_exams.append(folder_path)\n",
    "                            CT_selected_folders[final_part_of_path[0]].append(final_part_of_path[1])\n",
    "                            continue\n",
    "                        elif any(resolution in resolution_str for resolution in resolutions):\n",
    "                            # shutil.copytree(folder_path,\n",
    "                            #                 os.path.join(destination_path, second_part_of_path),\n",
    "                            #                 dirs_exist_ok=True)\n",
    "                            # print(folder_path)\n",
    "                            selected_exams.append(folder_path)\n",
    "                            CT_selected_folders[final_part_of_path[0]].append(final_part_of_path[1])\n",
    "                            continue\n",
    "                        elif min(enumerate(resolutions_below_one), key=lambda x: abs(x[1] - 1)):\n",
    "                            # shutil.copytree(folder_path,\n",
    "                            #                 os.path.join(destination_path, second_part_of_path),\n",
    "                            #                 dirs_exist_ok=True)\n",
    "                            # print(folder_path)\n",
    "                            selected_exams.append(folder_path)\n",
    "                            CT_selected_folders[final_part_of_path[0]].append(final_part_of_path[1])\n",
    "                            continue\n",
    "        # The same procedure and logic is applied for the PET folders.\n",
    "        elif third_part_of_path.startswith(\"PT-\"):\n",
    "            final_part_of_path = third_part_of_path.split(\"-\")\n",
    "            final_part_of_path = [string.lower() for string in final_part_of_path]\n",
    "    \n",
    "            if final_part_of_path[1] in PET_selected_folders[final_part_of_path[0]]:\n",
    "                continue\n",
    "            else:\n",
    "                if \"qcfx\" in final_part_of_path:\n",
    "                    if all(item in final_part_of_path for item in PET_specifications_first_set):\n",
    "                        # shutil.copytree(folder_path,\n",
    "                        #                 os.path.join(destination_path, second_part_of_path),\n",
    "                        #                 dirs_exist_ok=True)\n",
    "                        # print(folder_path)\n",
    "                        selected_exams.append(folder_path)\n",
    "                        PET_selected_folders[final_part_of_path[0]].append(final_part_of_path[1])\n",
    "                        continue\n",
    "                    elif \"static\" not in final_part_of_path:\n",
    "                        # shutil.copytree(folder_path,\n",
    "                        #                 os.path.join(destination_path, second_part_of_path),\n",
    "                        #                 dirs_exist_ok=True)\n",
    "                        # print(folder_path)\n",
    "                        selected_exams.append(folder_path)\n",
    "                        PET_selected_folders[final_part_of_path[0]].append(final_part_of_path[1])\n",
    "                        continue\n",
    "                elif \"qcfx\" not in final_part_of_path:\n",
    "                    if all(item in final_part_of_path for item in PET_specifications_second_set):\n",
    "                        # shutil.copytree(folder_path,\n",
    "                        #                 os.path.join(destination_path, second_part_of_path),\n",
    "                        #                 dirs_exist_ok=True)\n",
    "                        # print(folder_path)\n",
    "                        selected_exams.append(folder_path)\n",
    "                        PET_selected_folders[final_part_of_path[0]].append(final_part_of_path[1])\n",
    "                        continue\n",
    "                    elif re.search(r'\\b{}\\b'.format(re.escape(\"AC\")), third_part_of_path):\n",
    "                        # shutil.copytree(folder_path,\n",
    "                        #                 os.path.join(destination_path, second_part_of_path),\n",
    "                        #                 dirs_exist_ok=True)\n",
    "                        # print(folder_path)\n",
    "                        selected_exams.append(folder_path)\n",
    "                        PET_selected_folders[final_part_of_path[0]].append(final_part_of_path[1])\n",
    "                        continue\n",
    "                    elif all(item in final_part_of_path for item in PET_specifications_third_set):\n",
    "                        selected_exams.append(folder_path)\n",
    "                        PET_selected_folders[final_part_of_path[0]].append(final_part_of_path[1])\n",
    "                        continue"
   ],
   "metadata": {
    "collapsed": false
   },
   "id": "fb680e4c94ef6d"
  },
  {
   "cell_type": "markdown",
   "source": [
    "###### Generate a dataframe with the selected examinations and saving it in the form of an excel file."
   ],
   "metadata": {
    "collapsed": false
   },
   "id": "39ccca4f17ea79ac"
  },
  {
   "cell_type": "code",
   "execution_count": null,
   "outputs": [],
   "source": [
    "# Sort the dataframe by starting from the newest examination and going to the oldest.\n",
    "selected_exams = pd.DataFrame(selected_exams, columns=[\"directory\"])\n",
    "selected_exams[[\"source_directory\", \"patient_info\"]] = selected_exams['directory'].str.split(pat='/', n=1, expand=True)\n",
    "selected_exams[['patient_directory', 'PET-CT_info']] = selected_exams['patient_info'].str.split(pat='\\\\', n=1, expand=True)\n",
    "selected_exams.loc[:, 'Date'] = selected_exams['patient_info'].str.split(\"-\").str[1]\n",
    "selected_exams = selected_exams.sort_values(by='Date', ascending=False)\n",
    "selected_exams.reset_index(drop=True, inplace=True)\n",
    "selected_exams = selected_exams.drop(columns='Date')\n",
    "\n",
    "excel_file_location = r\"D:\\U-CAN-Lymfom_A\\Raw_DCM_transf_date_20221205__06__n86_90GB/Selected_exams_from_Raw_DCM_transf_date_20221205__06__n86_90GB.csv\"\n",
    "selected_exams.to_excel(excel_file_location)"
   ],
   "metadata": {
    "collapsed": false
   },
   "id": "9aff296c0760287b"
  }
 ],
 "metadata": {
  "kernelspec": {
   "display_name": "Python 3",
   "language": "python",
   "name": "python3"
  },
  "language_info": {
   "codemirror_mode": {
    "name": "ipython",
    "version": 2
   },
   "file_extension": ".py",
   "mimetype": "text/x-python",
   "name": "python",
   "nbconvert_exporter": "python",
   "pygments_lexer": "ipython2",
   "version": "2.7.6"
  }
 },
 "nbformat": 4,
 "nbformat_minor": 5
}
