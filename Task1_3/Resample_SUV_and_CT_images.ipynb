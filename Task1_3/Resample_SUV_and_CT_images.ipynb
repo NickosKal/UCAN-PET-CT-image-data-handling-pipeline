{
 "cells": [
  {
   "cell_type": "code",
   "execution_count": 1,
   "metadata": {
    "ExecuteTime": {
     "end_time": "2023-10-31T12:25:52.518560200Z",
     "start_time": "2023-10-31T12:25:49.330737600Z"
    }
   },
   "outputs": [],
   "source": [
    "import os\n",
    "import sys\n",
    "import shutil\n",
    "import numpy as np\n",
    "import pandas as pd\n",
    "import pydicom as dicom\n",
    "import matplotlib.pylab as plt\n",
    "import SimpleITK as sitk\n",
    "from datetime import datetime\n"
   ]
  },
  {
   "cell_type": "code",
   "execution_count": 2,
   "metadata": {
    "ExecuteTime": {
     "end_time": "2023-10-31T12:26:15.540191700Z",
     "start_time": "2023-10-31T12:26:15.477641600Z"
    }
   },
   "outputs": [
    {
     "name": "stdout",
     "output_type": "stream",
     "text": [
      "env: SITK_SHOW_COMMAND=r\"C:\\Users\\NickosKal\\AppData\\Roaming\\Microsoft\\Windows\\Start Menu\\Programs\\Slicer 5.4.0\"\n"
     ]
    }
   ],
   "source": [
    "%env SITK_SHOW_COMMAND r\"C:\\Users\\NickosKal\\AppData\\Roaming\\Microsoft\\Windows\\Start Menu\\Programs\\Slicer 5.4.0\"\n",
    "pd.set_option('display.max_colwidth', None)\n",
    "pd.set_option('display.max_columns', None)\n",
    "dicom.config.convert_wrong_length_to_UN = True"
   ]
  },
  {
   "cell_type": "code",
   "execution_count": 21,
   "metadata": {
    "ExecuteTime": {
     "end_time": "2023-10-31T12:37:52.375064900Z",
     "start_time": "2023-10-31T12:37:52.343648800Z"
    }
   },
   "outputs": [],
   "source": [
    "parent_dir = os.path.abspath('..')\n",
    "if parent_dir not in sys.path:\n",
    "    sys.path.append(parent_dir)"
   ]
  },
  {
   "cell_type": "code",
   "execution_count": null,
   "outputs": [],
   "source": [
    "from ..Utils import utils"
   ],
   "metadata": {
    "collapsed": false
   }
  },
  {
   "cell_type": "code",
   "execution_count": 4,
   "metadata": {
    "ExecuteTime": {
     "end_time": "2023-10-31T12:26:26.432808700Z",
     "start_time": "2023-10-31T12:26:26.370298500Z"
    }
   },
   "outputs": [
    {
     "data": {
      "text/plain": "{'common': {'paths': {'source_path_wd': 'E:/U-CAN-Lymfom_A',\n   'source_path_bd': 'F:/ucan_lymfom'}},\n 'selection': {'filenames': {'rejected_folder_filename': 'Rejected_exams_from_U-CAN-Lymfom.xlsx',\n   'sourcefiltered_folder_filename': 'SourceFiltered_exams_from_U-CAN-Lymfom.xlsx',\n   'incomplete_folders_filename_initial': 'No_PTorCT_exams_from_U-CAN-Lymfom1.xlsx',\n   'incomplete_folders_filename_final': 'No_PTorCT_exams_from_U-CAN-Lymfom2.xlsx',\n   'selected_folders_beforefiltering_filename': 'Selected_exams_beforefiltering_from_U-CAN-Lymfom.xlsx',\n   'selected_folders_afterfiltering_filename': 'Selected_exams_afterfiltering_from_U-CAN-Lymfom.xlsx',\n   'final_selected_images_filename': 'FinalSelected_exams_from_U-CAN-Lymfom.xlsx',\n   'list_of_distorted_images_filename': 'Distorted_exams_from_U-CAN-Lymfom.xlsx'}},\n 'metadata': {'filenames': {'final_selected_images_filename': 'Finalized_dataset.xlsx'}},\n 'resampling': {'voxel_spacing': [2, 2, 3], 'image_size': [256, 256, 256]},\n 'projections': {'paths': {'destination_path': 'Selected_for_UCAN_project/2dprojections'},\n  'variables': {'modality': ['CT', 'PET', 'SUV'],\n   'tissue_type': ['LT', 'AT', 'LT', 'B', 'N'],\n   'projection_type': ['sum', 'min', 'max', 'mean', 'std']}}}"
     },
     "execution_count": 4,
     "metadata": {},
     "output_type": "execute_result"
    }
   ],
   "source": [
    "config = utils.read_config()\n",
    "config"
   ]
  },
  {
   "cell_type": "code",
   "execution_count": 5,
   "metadata": {
    "ExecuteTime": {
     "end_time": "2023-10-31T12:26:28.862639100Z",
     "start_time": "2023-10-31T12:26:28.846763300Z"
    }
   },
   "outputs": [],
   "source": [
    "#source_path_wd = \"/media/andres/T7 Shield1/U-CAN-Lymfom_A/Selected_for_UCAN_project\"\n",
    "#source_path_bd = \"/media/andres/T7 Shield/ucan_lymfom\"\n",
    "\n",
    "source_path_wd = config['common']['paths']['source_path_wd']\n",
    "source_path_bd = config['common']['paths']['source_path_bd']\n",
    "\n",
    "master_data_wd_filename = config['metadata']['filenames']['final_selected_images_filename']\n",
    "master_data_bd_filename = config['metadata']['filenames']['final_selected_images_filename']\n"
   ]
  },
  {
   "cell_type": "code",
   "execution_count": 6,
   "metadata": {
    "ExecuteTime": {
     "end_time": "2023-10-31T12:26:37.488555700Z",
     "start_time": "2023-10-31T12:26:37.441654200Z"
    }
   },
   "outputs": [],
   "source": [
    "final_selected_images_filename = config['selection']['filenames']['final_selected_images_filename']\n",
    "final_selected_folders_bd = source_path_bd + '/' + final_selected_images_filename"
   ]
  },
  {
   "cell_type": "code",
   "execution_count": 7,
   "metadata": {
    "ExecuteTime": {
     "end_time": "2023-10-31T12:26:41.540378900Z",
     "start_time": "2023-10-31T12:26:38.817670700Z"
    }
   },
   "outputs": [
    {
     "name": "stdout",
     "output_type": "stream",
     "text": [
      "Reading master data for black disk\n"
     ]
    },
    {
     "ename": "FileNotFoundError",
     "evalue": "[Errno 2] No such file or directory: 'F:/ucan_lymfom\\\\Finalized_dataset.xlsx'",
     "output_type": "error",
     "traceback": [
      "\u001B[1;31m---------------------------------------------------------------------------\u001B[0m",
      "\u001B[1;31mFileNotFoundError\u001B[0m                         Traceback (most recent call last)",
      "Cell \u001B[1;32mIn[7], line 3\u001B[0m\n\u001B[0;32m      1\u001B[0m \u001B[38;5;66;03m# master_data for black disk\u001B[39;00m\n\u001B[0;32m      2\u001B[0m \u001B[38;5;28mprint\u001B[39m(\u001B[38;5;124m\"\u001B[39m\u001B[38;5;124mReading master data for black disk\u001B[39m\u001B[38;5;124m\"\u001B[39m)\n\u001B[1;32m----> 3\u001B[0m master_data_bd \u001B[38;5;241m=\u001B[39m \u001B[43mpd\u001B[49m\u001B[38;5;241;43m.\u001B[39;49m\u001B[43mread_excel\u001B[49m\u001B[43m(\u001B[49m\u001B[43mos\u001B[49m\u001B[38;5;241;43m.\u001B[39;49m\u001B[43mpath\u001B[49m\u001B[38;5;241;43m.\u001B[39;49m\u001B[43mjoin\u001B[49m\u001B[43m(\u001B[49m\u001B[43msource_path_bd\u001B[49m\u001B[43m,\u001B[49m\u001B[43m \u001B[49m\u001B[43mmaster_data_wd_filename\u001B[49m\u001B[43m)\u001B[49m\u001B[43m)\u001B[49m\n\u001B[0;32m      4\u001B[0m \u001B[38;5;66;03m#master_data_wd[['system', 'npr', 'scan_date']]= master_data_wd['patient_directory'].str.split(pat='_|-', n=2, expand=True)\u001B[39;00m\n\u001B[0;32m      5\u001B[0m \u001B[38;5;28mprint\u001B[39m(master_data_bd\u001B[38;5;241m.\u001B[39mshape)\n",
      "File \u001B[1;32m~\\anaconda3\\envs\\venv\\lib\\site-packages\\pandas\\io\\excel\\_base.py:504\u001B[0m, in \u001B[0;36mread_excel\u001B[1;34m(io, sheet_name, header, names, index_col, usecols, dtype, engine, converters, true_values, false_values, skiprows, nrows, na_values, keep_default_na, na_filter, verbose, parse_dates, date_parser, date_format, thousands, decimal, comment, skipfooter, storage_options, dtype_backend, engine_kwargs)\u001B[0m\n\u001B[0;32m    502\u001B[0m \u001B[38;5;28;01mif\u001B[39;00m \u001B[38;5;129;01mnot\u001B[39;00m \u001B[38;5;28misinstance\u001B[39m(io, ExcelFile):\n\u001B[0;32m    503\u001B[0m     should_close \u001B[38;5;241m=\u001B[39m \u001B[38;5;28;01mTrue\u001B[39;00m\n\u001B[1;32m--> 504\u001B[0m     io \u001B[38;5;241m=\u001B[39m \u001B[43mExcelFile\u001B[49m\u001B[43m(\u001B[49m\n\u001B[0;32m    505\u001B[0m \u001B[43m        \u001B[49m\u001B[43mio\u001B[49m\u001B[43m,\u001B[49m\n\u001B[0;32m    506\u001B[0m \u001B[43m        \u001B[49m\u001B[43mstorage_options\u001B[49m\u001B[38;5;241;43m=\u001B[39;49m\u001B[43mstorage_options\u001B[49m\u001B[43m,\u001B[49m\n\u001B[0;32m    507\u001B[0m \u001B[43m        \u001B[49m\u001B[43mengine\u001B[49m\u001B[38;5;241;43m=\u001B[39;49m\u001B[43mengine\u001B[49m\u001B[43m,\u001B[49m\n\u001B[0;32m    508\u001B[0m \u001B[43m        \u001B[49m\u001B[43mengine_kwargs\u001B[49m\u001B[38;5;241;43m=\u001B[39;49m\u001B[43mengine_kwargs\u001B[49m\u001B[43m,\u001B[49m\n\u001B[0;32m    509\u001B[0m \u001B[43m    \u001B[49m\u001B[43m)\u001B[49m\n\u001B[0;32m    510\u001B[0m \u001B[38;5;28;01melif\u001B[39;00m engine \u001B[38;5;129;01mand\u001B[39;00m engine \u001B[38;5;241m!=\u001B[39m io\u001B[38;5;241m.\u001B[39mengine:\n\u001B[0;32m    511\u001B[0m     \u001B[38;5;28;01mraise\u001B[39;00m \u001B[38;5;167;01mValueError\u001B[39;00m(\n\u001B[0;32m    512\u001B[0m         \u001B[38;5;124m\"\u001B[39m\u001B[38;5;124mEngine should not be specified when passing \u001B[39m\u001B[38;5;124m\"\u001B[39m\n\u001B[0;32m    513\u001B[0m         \u001B[38;5;124m\"\u001B[39m\u001B[38;5;124man ExcelFile - ExcelFile already has the engine set\u001B[39m\u001B[38;5;124m\"\u001B[39m\n\u001B[0;32m    514\u001B[0m     )\n",
      "File \u001B[1;32m~\\anaconda3\\envs\\venv\\lib\\site-packages\\pandas\\io\\excel\\_base.py:1563\u001B[0m, in \u001B[0;36mExcelFile.__init__\u001B[1;34m(self, path_or_buffer, engine, storage_options, engine_kwargs)\u001B[0m\n\u001B[0;32m   1561\u001B[0m     ext \u001B[38;5;241m=\u001B[39m \u001B[38;5;124m\"\u001B[39m\u001B[38;5;124mxls\u001B[39m\u001B[38;5;124m\"\u001B[39m\n\u001B[0;32m   1562\u001B[0m \u001B[38;5;28;01melse\u001B[39;00m:\n\u001B[1;32m-> 1563\u001B[0m     ext \u001B[38;5;241m=\u001B[39m \u001B[43minspect_excel_format\u001B[49m\u001B[43m(\u001B[49m\n\u001B[0;32m   1564\u001B[0m \u001B[43m        \u001B[49m\u001B[43mcontent_or_path\u001B[49m\u001B[38;5;241;43m=\u001B[39;49m\u001B[43mpath_or_buffer\u001B[49m\u001B[43m,\u001B[49m\u001B[43m \u001B[49m\u001B[43mstorage_options\u001B[49m\u001B[38;5;241;43m=\u001B[39;49m\u001B[43mstorage_options\u001B[49m\n\u001B[0;32m   1565\u001B[0m \u001B[43m    \u001B[49m\u001B[43m)\u001B[49m\n\u001B[0;32m   1566\u001B[0m     \u001B[38;5;28;01mif\u001B[39;00m ext \u001B[38;5;129;01mis\u001B[39;00m \u001B[38;5;28;01mNone\u001B[39;00m:\n\u001B[0;32m   1567\u001B[0m         \u001B[38;5;28;01mraise\u001B[39;00m \u001B[38;5;167;01mValueError\u001B[39;00m(\n\u001B[0;32m   1568\u001B[0m             \u001B[38;5;124m\"\u001B[39m\u001B[38;5;124mExcel file format cannot be determined, you must specify \u001B[39m\u001B[38;5;124m\"\u001B[39m\n\u001B[0;32m   1569\u001B[0m             \u001B[38;5;124m\"\u001B[39m\u001B[38;5;124man engine manually.\u001B[39m\u001B[38;5;124m\"\u001B[39m\n\u001B[0;32m   1570\u001B[0m         )\n",
      "File \u001B[1;32m~\\anaconda3\\envs\\venv\\lib\\site-packages\\pandas\\io\\excel\\_base.py:1419\u001B[0m, in \u001B[0;36minspect_excel_format\u001B[1;34m(content_or_path, storage_options)\u001B[0m\n\u001B[0;32m   1416\u001B[0m \u001B[38;5;28;01mif\u001B[39;00m \u001B[38;5;28misinstance\u001B[39m(content_or_path, \u001B[38;5;28mbytes\u001B[39m):\n\u001B[0;32m   1417\u001B[0m     content_or_path \u001B[38;5;241m=\u001B[39m BytesIO(content_or_path)\n\u001B[1;32m-> 1419\u001B[0m \u001B[38;5;28;01mwith\u001B[39;00m \u001B[43mget_handle\u001B[49m\u001B[43m(\u001B[49m\n\u001B[0;32m   1420\u001B[0m \u001B[43m    \u001B[49m\u001B[43mcontent_or_path\u001B[49m\u001B[43m,\u001B[49m\u001B[43m \u001B[49m\u001B[38;5;124;43m\"\u001B[39;49m\u001B[38;5;124;43mrb\u001B[39;49m\u001B[38;5;124;43m\"\u001B[39;49m\u001B[43m,\u001B[49m\u001B[43m \u001B[49m\u001B[43mstorage_options\u001B[49m\u001B[38;5;241;43m=\u001B[39;49m\u001B[43mstorage_options\u001B[49m\u001B[43m,\u001B[49m\u001B[43m \u001B[49m\u001B[43mis_text\u001B[49m\u001B[38;5;241;43m=\u001B[39;49m\u001B[38;5;28;43;01mFalse\u001B[39;49;00m\n\u001B[0;32m   1421\u001B[0m \u001B[43m\u001B[49m\u001B[43m)\u001B[49m \u001B[38;5;28;01mas\u001B[39;00m handle:\n\u001B[0;32m   1422\u001B[0m     stream \u001B[38;5;241m=\u001B[39m handle\u001B[38;5;241m.\u001B[39mhandle\n\u001B[0;32m   1423\u001B[0m     stream\u001B[38;5;241m.\u001B[39mseek(\u001B[38;5;241m0\u001B[39m)\n",
      "File \u001B[1;32m~\\anaconda3\\envs\\venv\\lib\\site-packages\\pandas\\io\\common.py:872\u001B[0m, in \u001B[0;36mget_handle\u001B[1;34m(path_or_buf, mode, encoding, compression, memory_map, is_text, errors, storage_options)\u001B[0m\n\u001B[0;32m    863\u001B[0m         handle \u001B[38;5;241m=\u001B[39m \u001B[38;5;28mopen\u001B[39m(\n\u001B[0;32m    864\u001B[0m             handle,\n\u001B[0;32m    865\u001B[0m             ioargs\u001B[38;5;241m.\u001B[39mmode,\n\u001B[1;32m   (...)\u001B[0m\n\u001B[0;32m    868\u001B[0m             newline\u001B[38;5;241m=\u001B[39m\u001B[38;5;124m\"\u001B[39m\u001B[38;5;124m\"\u001B[39m,\n\u001B[0;32m    869\u001B[0m         )\n\u001B[0;32m    870\u001B[0m     \u001B[38;5;28;01melse\u001B[39;00m:\n\u001B[0;32m    871\u001B[0m         \u001B[38;5;66;03m# Binary mode\u001B[39;00m\n\u001B[1;32m--> 872\u001B[0m         handle \u001B[38;5;241m=\u001B[39m \u001B[38;5;28;43mopen\u001B[39;49m\u001B[43m(\u001B[49m\u001B[43mhandle\u001B[49m\u001B[43m,\u001B[49m\u001B[43m \u001B[49m\u001B[43mioargs\u001B[49m\u001B[38;5;241;43m.\u001B[39;49m\u001B[43mmode\u001B[49m\u001B[43m)\u001B[49m\n\u001B[0;32m    873\u001B[0m     handles\u001B[38;5;241m.\u001B[39mappend(handle)\n\u001B[0;32m    875\u001B[0m \u001B[38;5;66;03m# Convert BytesIO or file objects passed with an encoding\u001B[39;00m\n",
      "\u001B[1;31mFileNotFoundError\u001B[0m: [Errno 2] No such file or directory: 'F:/ucan_lymfom\\\\Finalized_dataset.xlsx'"
     ]
    }
   ],
   "source": [
    "# master_data for black disk\n",
    "print(\"Reading master data for black disk\")\n",
    "master_data_bd = pd.read_excel(os.path.join(source_path_bd, master_data_wd_filename))\n",
    "#master_data_wd[['system', 'npr', 'scan_date']]= master_data_wd['patient_directory'].str.split(pat='_|-', n=2, expand=True)\n",
    "print(master_data_bd.shape)\n",
    "\n",
    "master_data_bd.head(2)"
   ]
  },
  {
   "cell_type": "code",
   "execution_count": 8,
   "metadata": {},
   "outputs": [
    {
     "name": "stdout",
     "output_type": "stream",
     "text": [
      "Readin master data from white disk\n",
      "(2264, 45)\n"
     ]
    },
    {
     "data": {
      "text/html": [
       "<div>\n",
       "<style scoped>\n",
       "    .dataframe tbody tr th:only-of-type {\n",
       "        vertical-align: middle;\n",
       "    }\n",
       "\n",
       "    .dataframe tbody tr th {\n",
       "        vertical-align: top;\n",
       "    }\n",
       "\n",
       "    .dataframe thead th {\n",
       "        text-align: right;\n",
       "    }\n",
       "</style>\n",
       "<table border=\"1\" class=\"dataframe\">\n",
       "  <thead>\n",
       "    <tr style=\"text-align: right;\">\n",
       "      <th></th>\n",
       "      <th>Unnamed: 0</th>\n",
       "      <th>Unnamed: 0_x</th>\n",
       "      <th>directory</th>\n",
       "      <th>source_directory</th>\n",
       "      <th>patient_directory</th>\n",
       "      <th>PET-CT_info</th>\n",
       "      <th>system</th>\n",
       "      <th>npr</th>\n",
       "      <th>scan_date</th>\n",
       "      <th>Unnamed: 0_y</th>\n",
       "      <th>dicom_img</th>\n",
       "      <th>patient_id</th>\n",
       "      <th>patient_age</th>\n",
       "      <th>patient_weight</th>\n",
       "      <th>patient_size</th>\n",
       "      <th>imgsz_x</th>\n",
       "      <th>imgsz_y</th>\n",
       "      <th>num_slices</th>\n",
       "      <th>voxsz_x</th>\n",
       "      <th>voxsz_y</th>\n",
       "      <th>slice_thickness</th>\n",
       "      <th>image_size</th>\n",
       "      <th>voxel_size</th>\n",
       "      <th>img_pos</th>\n",
       "      <th>img_orient</th>\n",
       "      <th>for_uid</th>\n",
       "      <th>att_corr</th>\n",
       "      <th>recons_method</th>\n",
       "      <th>image_type</th>\n",
       "      <th>aquisition_dt</th>\n",
       "      <th>aquisition_time</th>\n",
       "      <th>study_desc</th>\n",
       "      <th>series_desc</th>\n",
       "      <th>protocol</th>\n",
       "      <th>corr_img</th>\n",
       "      <th>modality</th>\n",
       "      <th>manufacturer</th>\n",
       "      <th>manufacturer_model</th>\n",
       "      <th>radiopharmaceutical</th>\n",
       "      <th>radiopharmaceutical_volume</th>\n",
       "      <th>radiopharmaceutical_start_time</th>\n",
       "      <th>radionuclide_total_dose</th>\n",
       "      <th>radionuclide_half_life</th>\n",
       "      <th>radionuclide_positron_fraction</th>\n",
       "      <th>radiopharmaceutical_start_date_time</th>\n",
       "    </tr>\n",
       "  </thead>\n",
       "  <tbody>\n",
       "    <tr>\n",
       "      <th>0</th>\n",
       "      <td>0</td>\n",
       "      <td>2096</td>\n",
       "      <td>F:/ucan_lymfom/ASPTCTX0001_lpr385705046400-20140313/CT-20140313-152551-6.1_UAS-WB-FDG-3D-STANDARD_CT_RECON-3.750000mm</td>\n",
       "      <td>F:/ucan_lymfom</td>\n",
       "      <td>ASPTCTX0001_lpr385705046400-20140313</td>\n",
       "      <td>CT-20140313-152551-6.1_UAS-WB-FDG-3D-STANDARD_CT_RECON-3.750000mm</td>\n",
       "      <td>ASPTCTX0001</td>\n",
       "      <td>lpr385705046400</td>\n",
       "      <td>20140313</td>\n",
       "      <td>13743</td>\n",
       "      <td>1.2.840.113619.2.55.3.4240671514.332.1394175950.81.1</td>\n",
       "      <td>lpr385705046400</td>\n",
       "      <td>33.0</td>\n",
       "      <td>'69.0'</td>\n",
       "      <td>'1.73'</td>\n",
       "      <td>512</td>\n",
       "      <td>512</td>\n",
       "      <td>215</td>\n",
       "      <td>0.976562</td>\n",
       "      <td>0.976562</td>\n",
       "      <td>3.75</td>\n",
       "      <td>(512, 512, 215)</td>\n",
       "      <td>(0.976562, 0.976562, 3.75)</td>\n",
       "      <td>[-250.000, -250.000, 167.080]</td>\n",
       "      <td>[1.000000, 0.000000, 0.000000, 0.000000, 1.000000, 0.000000]</td>\n",
       "      <td>1.2.840.113619.2.55.3.4240671514.332.1394175949.830.13830.1</td>\n",
       "      <td>NaN</td>\n",
       "      <td>NaN</td>\n",
       "      <td>['ORIGINAL', 'PRIMARY', 'AXIAL']</td>\n",
       "      <td>'20140313'</td>\n",
       "      <td>'152608'</td>\n",
       "      <td>'FDG WB 1 h'</td>\n",
       "      <td>'STANDARD CT RECON'</td>\n",
       "      <td>'6.1 UAS-WB-FDG-3D'</td>\n",
       "      <td>NaN</td>\n",
       "      <td>CT</td>\n",
       "      <td>'GE MEDICAL SYSTEMS'</td>\n",
       "      <td>'Discovery STE'</td>\n",
       "      <td>NaN</td>\n",
       "      <td>NaN</td>\n",
       "      <td>NaN</td>\n",
       "      <td>NaN</td>\n",
       "      <td>NaN</td>\n",
       "      <td>NaN</td>\n",
       "      <td>NaN</td>\n",
       "    </tr>\n",
       "    <tr>\n",
       "      <th>1</th>\n",
       "      <td>1</td>\n",
       "      <td>2095</td>\n",
       "      <td>F:/ucan_lymfom/ASPTCTX0001_lpr385705046400-20140313/PT-20140313-152728-UAS-WB-FDG-3D-UAS-WB-FDG-3D-AC-3.2700mm</td>\n",
       "      <td>F:/ucan_lymfom</td>\n",
       "      <td>ASPTCTX0001_lpr385705046400-20140313</td>\n",
       "      <td>PT-20140313-152728-UAS-WB-FDG-3D-UAS-WB-FDG-3D-AC-3.2700mm</td>\n",
       "      <td>ASPTCTX0001</td>\n",
       "      <td>lpr385705046400</td>\n",
       "      <td>20140313</td>\n",
       "      <td>13745</td>\n",
       "      <td>1.2.840.113619.2.131.4240671514.1394722651.463822</td>\n",
       "      <td>lpr385705046400</td>\n",
       "      <td>33.0</td>\n",
       "      <td>'69.0'</td>\n",
       "      <td>'1.73'</td>\n",
       "      <td>128</td>\n",
       "      <td>128</td>\n",
       "      <td>247</td>\n",
       "      <td>3.906250</td>\n",
       "      <td>3.906250</td>\n",
       "      <td>3.27</td>\n",
       "      <td>(128, 128, 247)</td>\n",
       "      <td>(3.90625, 3.90625, 3.27)</td>\n",
       "      <td>[-248.04687500000, -248.04687500000, 169.020004272460]</td>\n",
       "      <td>[1, 0, 0, 0, 1, -0]</td>\n",
       "      <td>1.2.840.113619.2.55.3.4240671514.332.1394175949.830.13830.1</td>\n",
       "      <td>'measured,, 0.096000 cm-1,'</td>\n",
       "      <td>'3D IR'</td>\n",
       "      <td>['ORIGINAL', 'PRIMARY']</td>\n",
       "      <td>'20140313'</td>\n",
       "      <td>'154238'</td>\n",
       "      <td>'FDG WB 1 h'</td>\n",
       "      <td>'UAS-WB-FDG-3D-AC'</td>\n",
       "      <td>'UAS-WB-FDG-3D'</td>\n",
       "      <td>['DECY', 'ATTN', 'SCAT', 'DTIM', 'RAN', 'DCAL', 'SLSENS', 'NORM']</td>\n",
       "      <td>PT</td>\n",
       "      <td>'GE MEDICAL SYSTEMS'</td>\n",
       "      <td>'Discovery STE'</td>\n",
       "      <td>'FDG -- fluorodeoxyglucose'</td>\n",
       "      <td>'0.0'</td>\n",
       "      <td>'141400.00'</td>\n",
       "      <td>'259344912.0'</td>\n",
       "      <td>'6588.0'</td>\n",
       "      <td>'0.97000002861023'</td>\n",
       "      <td>'20140313141400.00'</td>\n",
       "    </tr>\n",
       "  </tbody>\n",
       "</table>\n",
       "</div>"
      ],
      "text/plain": [
       "   Unnamed: 0  Unnamed: 0_x  \\\n",
       "0           0          2096   \n",
       "1           1          2095   \n",
       "\n",
       "                                                                                                               directory  \\\n",
       "0  F:/ucan_lymfom/ASPTCTX0001_lpr385705046400-20140313/CT-20140313-152551-6.1_UAS-WB-FDG-3D-STANDARD_CT_RECON-3.750000mm   \n",
       "1         F:/ucan_lymfom/ASPTCTX0001_lpr385705046400-20140313/PT-20140313-152728-UAS-WB-FDG-3D-UAS-WB-FDG-3D-AC-3.2700mm   \n",
       "\n",
       "  source_directory                     patient_directory  \\\n",
       "0   F:/ucan_lymfom  ASPTCTX0001_lpr385705046400-20140313   \n",
       "1   F:/ucan_lymfom  ASPTCTX0001_lpr385705046400-20140313   \n",
       "\n",
       "                                                         PET-CT_info  \\\n",
       "0  CT-20140313-152551-6.1_UAS-WB-FDG-3D-STANDARD_CT_RECON-3.750000mm   \n",
       "1         PT-20140313-152728-UAS-WB-FDG-3D-UAS-WB-FDG-3D-AC-3.2700mm   \n",
       "\n",
       "        system              npr scan_date  Unnamed: 0_y  \\\n",
       "0  ASPTCTX0001  lpr385705046400  20140313         13743   \n",
       "1  ASPTCTX0001  lpr385705046400  20140313         13745   \n",
       "\n",
       "                                              dicom_img       patient_id  \\\n",
       "0  1.2.840.113619.2.55.3.4240671514.332.1394175950.81.1  lpr385705046400   \n",
       "1     1.2.840.113619.2.131.4240671514.1394722651.463822  lpr385705046400   \n",
       "\n",
       "   patient_age patient_weight patient_size  imgsz_x  imgsz_y  num_slices  \\\n",
       "0         33.0         '69.0'       '1.73'      512      512         215   \n",
       "1         33.0         '69.0'       '1.73'      128      128         247   \n",
       "\n",
       "    voxsz_x   voxsz_y  slice_thickness       image_size  \\\n",
       "0  0.976562  0.976562             3.75  (512, 512, 215)   \n",
       "1  3.906250  3.906250             3.27  (128, 128, 247)   \n",
       "\n",
       "                   voxel_size  \\\n",
       "0  (0.976562, 0.976562, 3.75)   \n",
       "1    (3.90625, 3.90625, 3.27)   \n",
       "\n",
       "                                                   img_pos  \\\n",
       "0                            [-250.000, -250.000, 167.080]   \n",
       "1   [-248.04687500000, -248.04687500000, 169.020004272460]   \n",
       "\n",
       "                                                      img_orient  \\\n",
       "0   [1.000000, 0.000000, 0.000000, 0.000000, 1.000000, 0.000000]   \n",
       "1                                            [1, 0, 0, 0, 1, -0]   \n",
       "\n",
       "                                                        for_uid  \\\n",
       "0   1.2.840.113619.2.55.3.4240671514.332.1394175949.830.13830.1   \n",
       "1   1.2.840.113619.2.55.3.4240671514.332.1394175949.830.13830.1   \n",
       "\n",
       "                       att_corr recons_method  \\\n",
       "0                           NaN           NaN   \n",
       "1   'measured,, 0.096000 cm-1,'       '3D IR'   \n",
       "\n",
       "                          image_type aquisition_dt aquisition_time  \\\n",
       "0   ['ORIGINAL', 'PRIMARY', 'AXIAL']    '20140313'        '152608'   \n",
       "1            ['ORIGINAL', 'PRIMARY']    '20140313'        '154238'   \n",
       "\n",
       "      study_desc           series_desc              protocol  \\\n",
       "0   'FDG WB 1 h'   'STANDARD CT RECON'   '6.1 UAS-WB-FDG-3D'   \n",
       "1   'FDG WB 1 h'    'UAS-WB-FDG-3D-AC'       'UAS-WB-FDG-3D'   \n",
       "\n",
       "                                                             corr_img  \\\n",
       "0                                                                 NaN   \n",
       "1   ['DECY', 'ATTN', 'SCAT', 'DTIM', 'RAN', 'DCAL', 'SLSENS', 'NORM']   \n",
       "\n",
       "  modality           manufacturer manufacturer_model  \\\n",
       "0       CT   'GE MEDICAL SYSTEMS'    'Discovery STE'   \n",
       "1       PT   'GE MEDICAL SYSTEMS'    'Discovery STE'   \n",
       "\n",
       "            radiopharmaceutical radiopharmaceutical_volume  \\\n",
       "0                           NaN                        NaN   \n",
       "1   'FDG -- fluorodeoxyglucose'                      '0.0'   \n",
       "\n",
       "  radiopharmaceutical_start_time radionuclide_total_dose  \\\n",
       "0                            NaN                     NaN   \n",
       "1                    '141400.00'           '259344912.0'   \n",
       "\n",
       "  radionuclide_half_life radionuclide_positron_fraction  \\\n",
       "0                    NaN                            NaN   \n",
       "1               '6588.0'             '0.97000002861023'   \n",
       "\n",
       "  radiopharmaceutical_start_date_time  \n",
       "0                                 NaN  \n",
       "1                 '20140313141400.00'  "
      ]
     },
     "execution_count": 8,
     "metadata": {},
     "output_type": "execute_result"
    }
   ],
   "source": [
    "# master data from white disk\n",
    "print(\"Readin master data from white disk\")\n",
    "master_data_wd = pd.read_excel(os.path.join(source_path_bd, master_data_wd_filename))\n",
    "master_data_wd[['system', 'npr', 'scan_date']]= master_data_wd['patient_directory'].str.split(pat='_|-', n=2, expand=True)\n",
    "print(master_data_wd.shape)\n",
    "\n",
    "master_data_wd.head(2)"
   ]
  },
  {
   "cell_type": "code",
   "execution_count": 9,
   "metadata": {},
   "outputs": [],
   "source": [
    "#(2264 / 25) * 2 -> 181.12 Gb"
   ]
  },
  {
   "cell_type": "code",
   "execution_count": 10,
   "metadata": {},
   "outputs": [
    {
     "data": {
      "text/html": [
       "<div>\n",
       "<style scoped>\n",
       "    .dataframe tbody tr th:only-of-type {\n",
       "        vertical-align: middle;\n",
       "    }\n",
       "\n",
       "    .dataframe tbody tr th {\n",
       "        vertical-align: top;\n",
       "    }\n",
       "\n",
       "    .dataframe thead th {\n",
       "        text-align: right;\n",
       "    }\n",
       "</style>\n",
       "<table border=\"1\" class=\"dataframe\">\n",
       "  <thead>\n",
       "    <tr style=\"text-align: right;\">\n",
       "      <th></th>\n",
       "      <th>Unnamed: 0</th>\n",
       "      <th>directory</th>\n",
       "      <th>count</th>\n",
       "      <th>source_directory</th>\n",
       "      <th>patient_directory</th>\n",
       "      <th>PET-CT_info</th>\n",
       "    </tr>\n",
       "  </thead>\n",
       "  <tbody>\n",
       "    <tr>\n",
       "      <th>0</th>\n",
       "      <td>284</td>\n",
       "      <td>F:/ucan_lymfom/ASPTCTX0001_npr196644347217-20161125/CT-20161125-114603-6.3_UAS-WB-FDG-3D_CT_VENFAS-WB_VEN_AX-0.958984mm</td>\n",
       "      <td>1</td>\n",
       "      <td>F:/ucan_lymfom</td>\n",
       "      <td>ASPTCTX0001_npr196644347217-20161125</td>\n",
       "      <td>CT-20161125-114603-6.3_UAS-WB-FDG-3D_CT_VENFAS-WB_VEN_AX-0.958984mm</td>\n",
       "    </tr>\n",
       "    <tr>\n",
       "      <th>1</th>\n",
       "      <td>750</td>\n",
       "      <td>F:/ucan_lymfom/ASPTCTX0001_npr338511978351-20170201/CT-20170201-122546-6.3_UAS-WB-FDG-3D_CT_VENFAS-WB_VEN_AX-0.953125mm</td>\n",
       "      <td>1</td>\n",
       "      <td>F:/ucan_lymfom</td>\n",
       "      <td>ASPTCTX0001_npr338511978351-20170201</td>\n",
       "      <td>CT-20170201-122546-6.3_UAS-WB-FDG-3D_CT_VENFAS-WB_VEN_AX-0.953125mm</td>\n",
       "    </tr>\n",
       "    <tr>\n",
       "      <th>2</th>\n",
       "      <td>1398</td>\n",
       "      <td>F:/ucan_lymfom/ASPTCTX0001_npr567278394863-20151103/CT-20151103-130218-6.3_UAS-WB-FDG-3D_CT_THORAX-BUK_VENFAS_20141209-HELKROPP_VENFAS_AX_1MM-0.976562mm</td>\n",
       "      <td>1</td>\n",
       "      <td>F:/ucan_lymfom</td>\n",
       "      <td>ASPTCTX0001_npr567278394863-20151103</td>\n",
       "      <td>CT-20151103-130218-6.3_UAS-WB-FDG-3D_CT_THORAX-BUK_VENFAS_20141209-HELKROPP_VENFAS_AX_1MM-0.976562mm</td>\n",
       "    </tr>\n",
       "    <tr>\n",
       "      <th>3</th>\n",
       "      <td>1412</td>\n",
       "      <td>F:/ucan_lymfom/ASPTCTX0001_npr574436824692-20170222/CT-20170222-104855-6.6_UAS-WB-FDG-3D_VENFASTHORAX_INSP_20160120-WB_VEN_AX-0.951172mm</td>\n",
       "      <td>1</td>\n",
       "      <td>F:/ucan_lymfom</td>\n",
       "      <td>ASPTCTX0001_npr574436824692-20170222</td>\n",
       "      <td>CT-20170222-104855-6.6_UAS-WB-FDG-3D_VENFASTHORAX_INSP_20160120-WB_VEN_AX-0.951172mm</td>\n",
       "    </tr>\n",
       "    <tr>\n",
       "      <th>4</th>\n",
       "      <td>1682</td>\n",
       "      <td>F:/ucan_lymfom/ASPTCTX0001_npr676639996732-20180928/CT-20180928-150052-6.3_UAS-WB-FDG-3D_CT_VENFAS-WB_VEN_AX-0.976562mm</td>\n",
       "      <td>1</td>\n",
       "      <td>F:/ucan_lymfom</td>\n",
       "      <td>ASPTCTX0001_npr676639996732-20180928</td>\n",
       "      <td>CT-20180928-150052-6.3_UAS-WB-FDG-3D_CT_VENFAS-WB_VEN_AX-0.976562mm</td>\n",
       "    </tr>\n",
       "  </tbody>\n",
       "</table>\n",
       "</div>"
      ],
      "text/plain": [
       "   Unnamed: 0  \\\n",
       "0         284   \n",
       "1         750   \n",
       "2        1398   \n",
       "3        1412   \n",
       "4        1682   \n",
       "\n",
       "                                                                                                                                                  directory  \\\n",
       "0                                   F:/ucan_lymfom/ASPTCTX0001_npr196644347217-20161125/CT-20161125-114603-6.3_UAS-WB-FDG-3D_CT_VENFAS-WB_VEN_AX-0.958984mm   \n",
       "1                                   F:/ucan_lymfom/ASPTCTX0001_npr338511978351-20170201/CT-20170201-122546-6.3_UAS-WB-FDG-3D_CT_VENFAS-WB_VEN_AX-0.953125mm   \n",
       "2  F:/ucan_lymfom/ASPTCTX0001_npr567278394863-20151103/CT-20151103-130218-6.3_UAS-WB-FDG-3D_CT_THORAX-BUK_VENFAS_20141209-HELKROPP_VENFAS_AX_1MM-0.976562mm   \n",
       "3                  F:/ucan_lymfom/ASPTCTX0001_npr574436824692-20170222/CT-20170222-104855-6.6_UAS-WB-FDG-3D_VENFASTHORAX_INSP_20160120-WB_VEN_AX-0.951172mm   \n",
       "4                                   F:/ucan_lymfom/ASPTCTX0001_npr676639996732-20180928/CT-20180928-150052-6.3_UAS-WB-FDG-3D_CT_VENFAS-WB_VEN_AX-0.976562mm   \n",
       "\n",
       "   count source_directory                     patient_directory  \\\n",
       "0      1   F:/ucan_lymfom  ASPTCTX0001_npr196644347217-20161125   \n",
       "1      1   F:/ucan_lymfom  ASPTCTX0001_npr338511978351-20170201   \n",
       "2      1   F:/ucan_lymfom  ASPTCTX0001_npr567278394863-20151103   \n",
       "3      1   F:/ucan_lymfom  ASPTCTX0001_npr574436824692-20170222   \n",
       "4      1   F:/ucan_lymfom  ASPTCTX0001_npr676639996732-20180928   \n",
       "\n",
       "                                                                                            PET-CT_info  \n",
       "0                                   CT-20161125-114603-6.3_UAS-WB-FDG-3D_CT_VENFAS-WB_VEN_AX-0.958984mm  \n",
       "1                                   CT-20170201-122546-6.3_UAS-WB-FDG-3D_CT_VENFAS-WB_VEN_AX-0.953125mm  \n",
       "2  CT-20151103-130218-6.3_UAS-WB-FDG-3D_CT_THORAX-BUK_VENFAS_20141209-HELKROPP_VENFAS_AX_1MM-0.976562mm  \n",
       "3                  CT-20170222-104855-6.6_UAS-WB-FDG-3D_VENFASTHORAX_INSP_20160120-WB_VEN_AX-0.951172mm  \n",
       "4                                   CT-20180928-150052-6.3_UAS-WB-FDG-3D_CT_VENFAS-WB_VEN_AX-0.976562mm  "
      ]
     },
     "execution_count": 10,
     "metadata": {},
     "output_type": "execute_result"
    }
   ],
   "source": [
    "misclassified_df = pd.read_excel(source_path_bd + '/MisclassifiedSelected_files.xlsx')\n",
    "misclassified_df[['source_directory', 'patient_directory', 'PET-CT_info']] = misclassified_df['directory'].str.rsplit(pat='/', n=2, expand=True)\n",
    "misclassified_patient_directory_list = misclassified_df.patient_directory.to_list()\n",
    "misclassified_df.head()"
   ]
  },
  {
   "cell_type": "code",
   "execution_count": 11,
   "metadata": {},
   "outputs": [
    {
     "data": {
      "text/html": [
       "<div>\n",
       "<style scoped>\n",
       "    .dataframe tbody tr th:only-of-type {\n",
       "        vertical-align: middle;\n",
       "    }\n",
       "\n",
       "    .dataframe tbody tr th {\n",
       "        vertical-align: top;\n",
       "    }\n",
       "\n",
       "    .dataframe thead th {\n",
       "        text-align: right;\n",
       "    }\n",
       "</style>\n",
       "<table border=\"1\" class=\"dataframe\">\n",
       "  <thead>\n",
       "    <tr style=\"text-align: right;\">\n",
       "      <th></th>\n",
       "      <th>Unnamed: 0</th>\n",
       "      <th>Unnamed: 0_x</th>\n",
       "      <th>directory</th>\n",
       "      <th>source_directory</th>\n",
       "      <th>patient_directory</th>\n",
       "      <th>PET-CT_info</th>\n",
       "      <th>system</th>\n",
       "      <th>npr</th>\n",
       "      <th>scan_date</th>\n",
       "      <th>Unnamed: 0_y</th>\n",
       "      <th>dicom_img</th>\n",
       "      <th>patient_id</th>\n",
       "      <th>patient_age</th>\n",
       "      <th>patient_weight</th>\n",
       "      <th>patient_size</th>\n",
       "      <th>imgsz_x</th>\n",
       "      <th>imgsz_y</th>\n",
       "      <th>num_slices</th>\n",
       "      <th>voxsz_x</th>\n",
       "      <th>voxsz_y</th>\n",
       "      <th>slice_thickness</th>\n",
       "      <th>image_size</th>\n",
       "      <th>voxel_size</th>\n",
       "      <th>img_pos</th>\n",
       "      <th>img_orient</th>\n",
       "      <th>for_uid</th>\n",
       "      <th>att_corr</th>\n",
       "      <th>recons_method</th>\n",
       "      <th>image_type</th>\n",
       "      <th>aquisition_dt</th>\n",
       "      <th>aquisition_time</th>\n",
       "      <th>study_desc</th>\n",
       "      <th>series_desc</th>\n",
       "      <th>protocol</th>\n",
       "      <th>corr_img</th>\n",
       "      <th>modality</th>\n",
       "      <th>manufacturer</th>\n",
       "      <th>manufacturer_model</th>\n",
       "      <th>radiopharmaceutical</th>\n",
       "      <th>radiopharmaceutical_volume</th>\n",
       "      <th>radiopharmaceutical_start_time</th>\n",
       "      <th>radionuclide_total_dose</th>\n",
       "      <th>radionuclide_half_life</th>\n",
       "      <th>radionuclide_positron_fraction</th>\n",
       "      <th>radiopharmaceutical_start_date_time</th>\n",
       "    </tr>\n",
       "  </thead>\n",
       "  <tbody>\n",
       "    <tr>\n",
       "      <th>0</th>\n",
       "      <td>0</td>\n",
       "      <td>2096</td>\n",
       "      <td>F:/ucan_lymfom/ASPTCTX0001_lpr385705046400-20140313/CT-20140313-152551-6.1_UAS-WB-FDG-3D-STANDARD_CT_RECON-3.750000mm</td>\n",
       "      <td>F:/ucan_lymfom</td>\n",
       "      <td>ASPTCTX0001_lpr385705046400-20140313</td>\n",
       "      <td>CT-20140313-152551-6.1_UAS-WB-FDG-3D-STANDARD_CT_RECON-3.750000mm</td>\n",
       "      <td>ASPTCTX0001</td>\n",
       "      <td>lpr385705046400</td>\n",
       "      <td>20140313</td>\n",
       "      <td>13743</td>\n",
       "      <td>1.2.840.113619.2.55.3.4240671514.332.1394175950.81.1</td>\n",
       "      <td>lpr385705046400</td>\n",
       "      <td>33.0</td>\n",
       "      <td>'69.0'</td>\n",
       "      <td>'1.73'</td>\n",
       "      <td>512</td>\n",
       "      <td>512</td>\n",
       "      <td>215</td>\n",
       "      <td>0.976562</td>\n",
       "      <td>0.976562</td>\n",
       "      <td>3.75</td>\n",
       "      <td>(512, 512, 215)</td>\n",
       "      <td>(0.976562, 0.976562, 3.75)</td>\n",
       "      <td>[-250.000, -250.000, 167.080]</td>\n",
       "      <td>[1.000000, 0.000000, 0.000000, 0.000000, 1.000000, 0.000000]</td>\n",
       "      <td>1.2.840.113619.2.55.3.4240671514.332.1394175949.830.13830.1</td>\n",
       "      <td>NaN</td>\n",
       "      <td>NaN</td>\n",
       "      <td>['ORIGINAL', 'PRIMARY', 'AXIAL']</td>\n",
       "      <td>'20140313'</td>\n",
       "      <td>'152608'</td>\n",
       "      <td>'FDG WB 1 h'</td>\n",
       "      <td>'STANDARD CT RECON'</td>\n",
       "      <td>'6.1 UAS-WB-FDG-3D'</td>\n",
       "      <td>NaN</td>\n",
       "      <td>CT</td>\n",
       "      <td>'GE MEDICAL SYSTEMS'</td>\n",
       "      <td>'Discovery STE'</td>\n",
       "      <td>NaN</td>\n",
       "      <td>NaN</td>\n",
       "      <td>NaN</td>\n",
       "      <td>NaN</td>\n",
       "      <td>NaN</td>\n",
       "      <td>NaN</td>\n",
       "      <td>NaN</td>\n",
       "    </tr>\n",
       "    <tr>\n",
       "      <th>1</th>\n",
       "      <td>1</td>\n",
       "      <td>2095</td>\n",
       "      <td>F:/ucan_lymfom/ASPTCTX0001_lpr385705046400-20140313/PT-20140313-152728-UAS-WB-FDG-3D-UAS-WB-FDG-3D-AC-3.2700mm</td>\n",
       "      <td>F:/ucan_lymfom</td>\n",
       "      <td>ASPTCTX0001_lpr385705046400-20140313</td>\n",
       "      <td>PT-20140313-152728-UAS-WB-FDG-3D-UAS-WB-FDG-3D-AC-3.2700mm</td>\n",
       "      <td>ASPTCTX0001</td>\n",
       "      <td>lpr385705046400</td>\n",
       "      <td>20140313</td>\n",
       "      <td>13745</td>\n",
       "      <td>1.2.840.113619.2.131.4240671514.1394722651.463822</td>\n",
       "      <td>lpr385705046400</td>\n",
       "      <td>33.0</td>\n",
       "      <td>'69.0'</td>\n",
       "      <td>'1.73'</td>\n",
       "      <td>128</td>\n",
       "      <td>128</td>\n",
       "      <td>247</td>\n",
       "      <td>3.906250</td>\n",
       "      <td>3.906250</td>\n",
       "      <td>3.27</td>\n",
       "      <td>(128, 128, 247)</td>\n",
       "      <td>(3.90625, 3.90625, 3.27)</td>\n",
       "      <td>[-248.04687500000, -248.04687500000, 169.020004272460]</td>\n",
       "      <td>[1, 0, 0, 0, 1, -0]</td>\n",
       "      <td>1.2.840.113619.2.55.3.4240671514.332.1394175949.830.13830.1</td>\n",
       "      <td>'measured,, 0.096000 cm-1,'</td>\n",
       "      <td>'3D IR'</td>\n",
       "      <td>['ORIGINAL', 'PRIMARY']</td>\n",
       "      <td>'20140313'</td>\n",
       "      <td>'154238'</td>\n",
       "      <td>'FDG WB 1 h'</td>\n",
       "      <td>'UAS-WB-FDG-3D-AC'</td>\n",
       "      <td>'UAS-WB-FDG-3D'</td>\n",
       "      <td>['DECY', 'ATTN', 'SCAT', 'DTIM', 'RAN', 'DCAL', 'SLSENS', 'NORM']</td>\n",
       "      <td>PT</td>\n",
       "      <td>'GE MEDICAL SYSTEMS'</td>\n",
       "      <td>'Discovery STE'</td>\n",
       "      <td>'FDG -- fluorodeoxyglucose'</td>\n",
       "      <td>'0.0'</td>\n",
       "      <td>'141400.00'</td>\n",
       "      <td>'259344912.0'</td>\n",
       "      <td>'6588.0'</td>\n",
       "      <td>'0.97000002861023'</td>\n",
       "      <td>'20140313141400.00'</td>\n",
       "    </tr>\n",
       "  </tbody>\n",
       "</table>\n",
       "</div>"
      ],
      "text/plain": [
       "   Unnamed: 0  Unnamed: 0_x  \\\n",
       "0           0          2096   \n",
       "1           1          2095   \n",
       "\n",
       "                                                                                                               directory  \\\n",
       "0  F:/ucan_lymfom/ASPTCTX0001_lpr385705046400-20140313/CT-20140313-152551-6.1_UAS-WB-FDG-3D-STANDARD_CT_RECON-3.750000mm   \n",
       "1         F:/ucan_lymfom/ASPTCTX0001_lpr385705046400-20140313/PT-20140313-152728-UAS-WB-FDG-3D-UAS-WB-FDG-3D-AC-3.2700mm   \n",
       "\n",
       "  source_directory                     patient_directory  \\\n",
       "0   F:/ucan_lymfom  ASPTCTX0001_lpr385705046400-20140313   \n",
       "1   F:/ucan_lymfom  ASPTCTX0001_lpr385705046400-20140313   \n",
       "\n",
       "                                                         PET-CT_info  \\\n",
       "0  CT-20140313-152551-6.1_UAS-WB-FDG-3D-STANDARD_CT_RECON-3.750000mm   \n",
       "1         PT-20140313-152728-UAS-WB-FDG-3D-UAS-WB-FDG-3D-AC-3.2700mm   \n",
       "\n",
       "        system              npr  scan_date  Unnamed: 0_y  \\\n",
       "0  ASPTCTX0001  lpr385705046400   20140313         13743   \n",
       "1  ASPTCTX0001  lpr385705046400   20140313         13745   \n",
       "\n",
       "                                              dicom_img       patient_id  \\\n",
       "0  1.2.840.113619.2.55.3.4240671514.332.1394175950.81.1  lpr385705046400   \n",
       "1     1.2.840.113619.2.131.4240671514.1394722651.463822  lpr385705046400   \n",
       "\n",
       "   patient_age patient_weight patient_size  imgsz_x  imgsz_y  num_slices  \\\n",
       "0         33.0         '69.0'       '1.73'      512      512         215   \n",
       "1         33.0         '69.0'       '1.73'      128      128         247   \n",
       "\n",
       "    voxsz_x   voxsz_y  slice_thickness       image_size  \\\n",
       "0  0.976562  0.976562             3.75  (512, 512, 215)   \n",
       "1  3.906250  3.906250             3.27  (128, 128, 247)   \n",
       "\n",
       "                   voxel_size  \\\n",
       "0  (0.976562, 0.976562, 3.75)   \n",
       "1    (3.90625, 3.90625, 3.27)   \n",
       "\n",
       "                                                   img_pos  \\\n",
       "0                            [-250.000, -250.000, 167.080]   \n",
       "1   [-248.04687500000, -248.04687500000, 169.020004272460]   \n",
       "\n",
       "                                                      img_orient  \\\n",
       "0   [1.000000, 0.000000, 0.000000, 0.000000, 1.000000, 0.000000]   \n",
       "1                                            [1, 0, 0, 0, 1, -0]   \n",
       "\n",
       "                                                        for_uid  \\\n",
       "0   1.2.840.113619.2.55.3.4240671514.332.1394175949.830.13830.1   \n",
       "1   1.2.840.113619.2.55.3.4240671514.332.1394175949.830.13830.1   \n",
       "\n",
       "                       att_corr recons_method  \\\n",
       "0                           NaN           NaN   \n",
       "1   'measured,, 0.096000 cm-1,'       '3D IR'   \n",
       "\n",
       "                          image_type aquisition_dt aquisition_time  \\\n",
       "0   ['ORIGINAL', 'PRIMARY', 'AXIAL']    '20140313'        '152608'   \n",
       "1            ['ORIGINAL', 'PRIMARY']    '20140313'        '154238'   \n",
       "\n",
       "      study_desc           series_desc              protocol  \\\n",
       "0   'FDG WB 1 h'   'STANDARD CT RECON'   '6.1 UAS-WB-FDG-3D'   \n",
       "1   'FDG WB 1 h'    'UAS-WB-FDG-3D-AC'       'UAS-WB-FDG-3D'   \n",
       "\n",
       "                                                             corr_img  \\\n",
       "0                                                                 NaN   \n",
       "1   ['DECY', 'ATTN', 'SCAT', 'DTIM', 'RAN', 'DCAL', 'SLSENS', 'NORM']   \n",
       "\n",
       "  modality           manufacturer manufacturer_model  \\\n",
       "0       CT   'GE MEDICAL SYSTEMS'    'Discovery STE'   \n",
       "1       PT   'GE MEDICAL SYSTEMS'    'Discovery STE'   \n",
       "\n",
       "            radiopharmaceutical radiopharmaceutical_volume  \\\n",
       "0                           NaN                        NaN   \n",
       "1   'FDG -- fluorodeoxyglucose'                      '0.0'   \n",
       "\n",
       "  radiopharmaceutical_start_time radionuclide_total_dose  \\\n",
       "0                            NaN                     NaN   \n",
       "1                    '141400.00'           '259344912.0'   \n",
       "\n",
       "  radionuclide_half_life radionuclide_positron_fraction  \\\n",
       "0                    NaN                            NaN   \n",
       "1               '6588.0'             '0.97000002861023'   \n",
       "\n",
       "  radiopharmaceutical_start_date_time  \n",
       "0                                 NaN  \n",
       "1                 '20140313141400.00'  "
      ]
     },
     "execution_count": 11,
     "metadata": {},
     "output_type": "execute_result"
    }
   ],
   "source": [
    "master_data_bd[np.logical_and(master_data_bd.num_slices >200,master_data_bd.num_slices < 250)].head(2) # 488"
   ]
  },
  {
   "cell_type": "code",
   "execution_count": 12,
   "metadata": {},
   "outputs": [
    {
     "data": {
      "text/plain": [
       "499"
      ]
     },
     "execution_count": 12,
     "metadata": {},
     "output_type": "execute_result"
    }
   ],
   "source": [
    "exams_with_lt250 = master_data_wd[master_data_wd.num_slices < 250].patient_directory.to_list()\n",
    "len(exams_with_lt250)"
   ]
  },
  {
   "cell_type": "code",
   "execution_count": 13,
   "metadata": {},
   "outputs": [
    {
     "data": {
      "text/plain": [
       "(1562, 46)"
      ]
     },
     "execution_count": 13,
     "metadata": {},
     "output_type": "execute_result"
    }
   ],
   "source": [
    "master_data_wd_filtered = master_data_wd[~master_data_wd.patient_directory.isin(exams_with_lt250)].copy().reset_index()\n",
    "master_data_wd_filtered.shape"
   ]
  },
  {
   "cell_type": "code",
   "execution_count": 14,
   "metadata": {},
   "outputs": [
    {
     "data": {
      "text/plain": [
       "781"
      ]
     },
     "execution_count": 14,
     "metadata": {},
     "output_type": "execute_result"
    }
   ],
   "source": [
    "master_data_wd_filtered.patient_directory.nunique()"
   ]
  },
  {
   "cell_type": "code",
   "execution_count": 9,
   "metadata": {
    "ExecuteTime": {
     "end_time": "2023-10-31T12:28:01.239986700Z",
     "start_time": "2023-10-31T12:28:01.208473800Z"
    }
   },
   "outputs": [
    {
     "name": "stdout",
     "output_type": "stream",
     "text": [
      "config_size:  [256, 256, 256]\n",
      "config_spacing:  [2, 2, 3]\n"
     ]
    }
   ],
   "source": [
    "config_size = config['resampling']['image_size']\n",
    "config_spacing = config['resampling']['voxel_spacing']\n",
    "print('config_size: ', config_size)\n",
    "print('config_spacing: ', config_spacing)"
   ]
  },
  {
   "cell_type": "code",
   "execution_count": 16,
   "metadata": {},
   "outputs": [
    {
     "name": "stdout",
     "output_type": "stream",
     "text": [
      "(400, 400, 326)\n"
     ]
    },
    {
     "data": {
      "text/plain": [
       "[2.0364201068878174, 2.0364201068878174, 3.0]"
      ]
     },
     "execution_count": 16,
     "metadata": {},
     "output_type": "execute_result"
    }
   ],
   "source": [
    "sample_SUV_image = sitk.ReadImage('F:/SUV.nii.gz')\n",
    "print(sample_SUV_image.GetSize())\n",
    "config_spacing = list(sample_SUV_image.GetSpacing())\n",
    "config_spacing"
   ]
  },
  {
   "cell_type": "code",
   "execution_count": 17,
   "metadata": {},
   "outputs": [],
   "source": [
    "#clip positive values at +3000\n",
    "#set outside image 0 values to -1024"
   ]
  },
  {
   "cell_type": "code",
   "execution_count": 18,
   "metadata": {},
   "outputs": [
    {
     "data": {
      "text/html": [
       "<div>\n",
       "<style scoped>\n",
       "    .dataframe tbody tr th:only-of-type {\n",
       "        vertical-align: middle;\n",
       "    }\n",
       "\n",
       "    .dataframe tbody tr th {\n",
       "        vertical-align: top;\n",
       "    }\n",
       "\n",
       "    .dataframe thead th {\n",
       "        text-align: right;\n",
       "    }\n",
       "</style>\n",
       "<table border=\"1\" class=\"dataframe\">\n",
       "  <thead>\n",
       "    <tr style=\"text-align: right;\">\n",
       "      <th></th>\n",
       "      <th>index</th>\n",
       "      <th>Unnamed: 0</th>\n",
       "      <th>Unnamed: 0_x</th>\n",
       "      <th>directory</th>\n",
       "      <th>source_directory</th>\n",
       "      <th>patient_directory</th>\n",
       "      <th>PET-CT_info</th>\n",
       "      <th>system</th>\n",
       "      <th>npr</th>\n",
       "      <th>scan_date</th>\n",
       "      <th>Unnamed: 0_y</th>\n",
       "      <th>dicom_img</th>\n",
       "      <th>patient_id</th>\n",
       "      <th>patient_age</th>\n",
       "      <th>patient_weight</th>\n",
       "      <th>patient_size</th>\n",
       "      <th>imgsz_x</th>\n",
       "      <th>imgsz_y</th>\n",
       "      <th>num_slices</th>\n",
       "      <th>voxsz_x</th>\n",
       "      <th>voxsz_y</th>\n",
       "      <th>slice_thickness</th>\n",
       "      <th>image_size</th>\n",
       "      <th>voxel_size</th>\n",
       "      <th>img_pos</th>\n",
       "      <th>img_orient</th>\n",
       "      <th>for_uid</th>\n",
       "      <th>att_corr</th>\n",
       "      <th>recons_method</th>\n",
       "      <th>image_type</th>\n",
       "      <th>aquisition_dt</th>\n",
       "      <th>aquisition_time</th>\n",
       "      <th>study_desc</th>\n",
       "      <th>series_desc</th>\n",
       "      <th>protocol</th>\n",
       "      <th>corr_img</th>\n",
       "      <th>modality</th>\n",
       "      <th>manufacturer</th>\n",
       "      <th>manufacturer_model</th>\n",
       "      <th>radiopharmaceutical</th>\n",
       "      <th>radiopharmaceutical_volume</th>\n",
       "      <th>radiopharmaceutical_start_time</th>\n",
       "      <th>radionuclide_total_dose</th>\n",
       "      <th>radionuclide_half_life</th>\n",
       "      <th>radionuclide_positron_fraction</th>\n",
       "      <th>radiopharmaceutical_start_date_time</th>\n",
       "    </tr>\n",
       "  </thead>\n",
       "  <tbody>\n",
       "    <tr>\n",
       "      <th>1</th>\n",
       "      <td>3</td>\n",
       "      <td>3</td>\n",
       "      <td>947</td>\n",
       "      <td>F:/ucan_lymfom/ASPTCTX0001_lpr415675513429-20190201/PT-20190201-101500-3.5_WB_FDG_CT_VENFAS-QCFX-S_400-2.7900mm</td>\n",
       "      <td>F:/ucan_lymfom</td>\n",
       "      <td>ASPTCTX0001_lpr415675513429-20190201</td>\n",
       "      <td>PT-20190201-101500-3.5_WB_FDG_CT_VENFAS-QCFX-S_400-2.7900mm</td>\n",
       "      <td>ASPTCTX0001</td>\n",
       "      <td>lpr415675513429</td>\n",
       "      <td>20190201</td>\n",
       "      <td>14246</td>\n",
       "      <td>1.2.840.113619.2.405.3842663696.1549013394.986841</td>\n",
       "      <td>lpr415675513429</td>\n",
       "      <td>32.0</td>\n",
       "      <td>'90.0'</td>\n",
       "      <td>'1.8'</td>\n",
       "      <td>256</td>\n",
       "      <td>256</td>\n",
       "      <td>341</td>\n",
       "      <td>1.953125</td>\n",
       "      <td>1.953125</td>\n",
       "      <td>2.790000</td>\n",
       "      <td>(256, 256, 341)</td>\n",
       "      <td>(1.953125, 1.953125, 2.79)</td>\n",
       "      <td>[-249.02343750000, -249.02343750000, -128.24998474121]</td>\n",
       "      <td>[1, 0, 0, 0, 1, -0]</td>\n",
       "      <td>1.2.840.113619.2.405.3.3842663696.892.1549005827.841.4795.1</td>\n",
       "      <td>'measured,, 0.000000 cm-1, attenuation smooth'</td>\n",
       "      <td>'QCFX'</td>\n",
       "      <td>['ORIGINAL', 'PRIMARY']</td>\n",
       "      <td>'20190201'</td>\n",
       "      <td>'102509'</td>\n",
       "      <td>'PET FDG WB 1 h'</td>\n",
       "      <td>'QCFX-S 400'</td>\n",
       "      <td>'3.5 WB_FDG CT VENFAS'</td>\n",
       "      <td>['DECY', 'ATTN', 'SCAT', 'DTIM', 'RANSNG', 'DCAL', 'SLSENS', 'NORM']</td>\n",
       "      <td>PT</td>\n",
       "      <td>'GE MEDICAL SYSTEMS'</td>\n",
       "      <td>'Discovery MI'</td>\n",
       "      <td>'FDG -- fluorodeoxyglucose'</td>\n",
       "      <td>'0.0'</td>\n",
       "      <td>'090500.00'</td>\n",
       "      <td>'264312992.0'</td>\n",
       "      <td>'6586.2001953125'</td>\n",
       "      <td>'0.96700000762939'</td>\n",
       "      <td>'20190201090500.00'</td>\n",
       "    </tr>\n",
       "    <tr>\n",
       "      <th>0</th>\n",
       "      <td>2</td>\n",
       "      <td>2</td>\n",
       "      <td>948</td>\n",
       "      <td>F:/ucan_lymfom/ASPTCTX0001_lpr415675513429-20190201/CT-20190201-103111-3.5_WB_FDG_CT_VENFAS-WB_Venfas_3_ax-3.000000mm</td>\n",
       "      <td>F:/ucan_lymfom</td>\n",
       "      <td>ASPTCTX0001_lpr415675513429-20190201</td>\n",
       "      <td>CT-20190201-103111-3.5_WB_FDG_CT_VENFAS-WB_Venfas_3_ax-3.000000mm</td>\n",
       "      <td>ASPTCTX0001</td>\n",
       "      <td>lpr415675513429</td>\n",
       "      <td>20190201</td>\n",
       "      <td>14250</td>\n",
       "      <td>1.2.840.113619.2.5.91447938.12625.1549010475.262</td>\n",
       "      <td>lpr415675513429</td>\n",
       "      <td>32.0</td>\n",
       "      <td>'90.0'</td>\n",
       "      <td>'1.8'</td>\n",
       "      <td>512</td>\n",
       "      <td>512</td>\n",
       "      <td>382</td>\n",
       "      <td>0.962891</td>\n",
       "      <td>0.962891</td>\n",
       "      <td>3.000000</td>\n",
       "      <td>(512, 512, 382)</td>\n",
       "      <td>(0.962891, 0.962891, 3.0)</td>\n",
       "      <td>[-249.237, -234.463, -127.315]</td>\n",
       "      <td>[1.000000, 0.000000, 0.000000, 0.000000, 1.000000, 0.000000]</td>\n",
       "      <td>1.2.840.113619.2.405.3.3842663696.892.1549005827.841.4795.1</td>\n",
       "      <td>NaN</td>\n",
       "      <td>NaN</td>\n",
       "      <td>['DERIVED', 'SECONDARY', 'REFORMATTED', 'AVERAGE']</td>\n",
       "      <td>'20190201'</td>\n",
       "      <td>'102917.254016'</td>\n",
       "      <td>'PET FDG WB 1 h'</td>\n",
       "      <td>'WB Venfas 3 ax'</td>\n",
       "      <td>'3.5 WB_FDG CT VENFAS'</td>\n",
       "      <td>NaN</td>\n",
       "      <td>CT</td>\n",
       "      <td>'GE MEDICAL SYSTEMS'</td>\n",
       "      <td>'Discovery MI'</td>\n",
       "      <td>NaN</td>\n",
       "      <td>NaN</td>\n",
       "      <td>NaN</td>\n",
       "      <td>NaN</td>\n",
       "      <td>NaN</td>\n",
       "      <td>NaN</td>\n",
       "      <td>NaN</td>\n",
       "    </tr>\n",
       "    <tr>\n",
       "      <th>3</th>\n",
       "      <td>5</td>\n",
       "      <td>5</td>\n",
       "      <td>901</td>\n",
       "      <td>F:/ucan_lymfom/ASPTCTX0001_lpr415675513429-20190320/PT-20190320-122101-UAS-WB-FDG-3D_CT_VENFAS-WB-FDG-AC-3.2700mm</td>\n",
       "      <td>F:/ucan_lymfom</td>\n",
       "      <td>ASPTCTX0001_lpr415675513429-20190320</td>\n",
       "      <td>PT-20190320-122101-UAS-WB-FDG-3D_CT_VENFAS-WB-FDG-AC-3.2700mm</td>\n",
       "      <td>ASPTCTX0001</td>\n",
       "      <td>lpr415675513429</td>\n",
       "      <td>20190320</td>\n",
       "      <td>14239</td>\n",
       "      <td>1.2.840.113619.2.131.4240671514.1553082860.533756</td>\n",
       "      <td>lpr415675513429</td>\n",
       "      <td>33.0</td>\n",
       "      <td>'90.0'</td>\n",
       "      <td>'1.8'</td>\n",
       "      <td>128</td>\n",
       "      <td>128</td>\n",
       "      <td>287</td>\n",
       "      <td>3.906250</td>\n",
       "      <td>3.906250</td>\n",
       "      <td>3.270000</td>\n",
       "      <td>(128, 128, 287)</td>\n",
       "      <td>(3.90625, 3.90625, 3.27)</td>\n",
       "      <td>[-248.04687500000, -248.04687500000, 122.250000000000]</td>\n",
       "      <td>[1, 0, 0, 0, 1, -0]</td>\n",
       "      <td>1.2.840.113619.2.55.3.4240671514.185.1552891983.299.12445.1</td>\n",
       "      <td>'measured,, 0.096000 cm-1,'</td>\n",
       "      <td>'3D IR'</td>\n",
       "      <td>['ORIGINAL', 'PRIMARY']</td>\n",
       "      <td>'20190320'</td>\n",
       "      <td>'123914'</td>\n",
       "      <td>'PET FDG WB 1 h'</td>\n",
       "      <td>'WB-FDG-AC'</td>\n",
       "      <td>'UAS-WB-FDG-3D CT VENFAS'</td>\n",
       "      <td>['DECY', 'ATTN', 'SCAT', 'DTIM', 'RAN', 'DCAL', 'SLSENS', 'NORM']</td>\n",
       "      <td>PT</td>\n",
       "      <td>'GE MEDICAL SYSTEMS'</td>\n",
       "      <td>'Discovery STE'</td>\n",
       "      <td>'FDG -- fluorodeoxyglucose'</td>\n",
       "      <td>'0.0'</td>\n",
       "      <td>'111600.00'</td>\n",
       "      <td>'367658976.0'</td>\n",
       "      <td>'6588.0'</td>\n",
       "      <td>'0.97000002861023'</td>\n",
       "      <td>'20190320111600.00'</td>\n",
       "    </tr>\n",
       "    <tr>\n",
       "      <th>2</th>\n",
       "      <td>4</td>\n",
       "      <td>4</td>\n",
       "      <td>902</td>\n",
       "      <td>F:/ucan_lymfom/ASPTCTX0001_lpr415675513429-20190320/CT-20190320-124839-6.3_UAS-WB-FDG-3D_CT_VENFAS-WB_VEN_AX-0.949219mm</td>\n",
       "      <td>F:/ucan_lymfom</td>\n",
       "      <td>ASPTCTX0001_lpr415675513429-20190320</td>\n",
       "      <td>CT-20190320-124839-6.3_UAS-WB-FDG-3D_CT_VENFAS-WB_VEN_AX-0.949219mm</td>\n",
       "      <td>ASPTCTX0001</td>\n",
       "      <td>lpr415675513429</td>\n",
       "      <td>20190320</td>\n",
       "      <td>14242</td>\n",
       "      <td>1.2.840.113619.2.5.1207072.12019.1552979153.641</td>\n",
       "      <td>lpr415675513429</td>\n",
       "      <td>33.0</td>\n",
       "      <td>'90.0'</td>\n",
       "      <td>'1.8'</td>\n",
       "      <td>512</td>\n",
       "      <td>512</td>\n",
       "      <td>1337</td>\n",
       "      <td>1.826172</td>\n",
       "      <td>1.826172</td>\n",
       "      <td>0.949219</td>\n",
       "      <td>(512, 512, 1337)</td>\n",
       "      <td>(1.826172, 1.826172, 0.949219)</td>\n",
       "      <td>[-0.474609, -467.500031, 125.187531]</td>\n",
       "      <td>[0.000000, 1.000000, 0.000000, 0.000000, 0.000000, -1.000000]</td>\n",
       "      <td>1.2.840.113619.2.55.3.4240671514.185.1552891983.299.12445.1</td>\n",
       "      <td>NaN</td>\n",
       "      <td>NaN</td>\n",
       "      <td>['DERIVED', 'SECONDARY', 'REFORMATTED']</td>\n",
       "      <td>'20190320'</td>\n",
       "      <td>'124529'</td>\n",
       "      <td>'PET FDG WB 1 h'</td>\n",
       "      <td>'WB VEN AX'</td>\n",
       "      <td>'6.3 UAS-WB-FDG-3D CT VENFAS'</td>\n",
       "      <td>NaN</td>\n",
       "      <td>CT</td>\n",
       "      <td>'GE MEDICAL SYSTEMS'</td>\n",
       "      <td>'Discovery STE'</td>\n",
       "      <td>NaN</td>\n",
       "      <td>NaN</td>\n",
       "      <td>NaN</td>\n",
       "      <td>NaN</td>\n",
       "      <td>NaN</td>\n",
       "      <td>NaN</td>\n",
       "      <td>NaN</td>\n",
       "    </tr>\n",
       "    <tr>\n",
       "      <th>5</th>\n",
       "      <td>7</td>\n",
       "      <td>7</td>\n",
       "      <td>1018</td>\n",
       "      <td>F:/ucan_lymfom/ASPTCTX0001_lpr884752331885-20181116/PT-20181116-120950-6.39_WB_FDG_CT_VENFAS-QCFX-S_400-2.7900mm</td>\n",
       "      <td>F:/ucan_lymfom</td>\n",
       "      <td>ASPTCTX0001_lpr884752331885-20181116</td>\n",
       "      <td>PT-20181116-120950-6.39_WB_FDG_CT_VENFAS-QCFX-S_400-2.7900mm</td>\n",
       "      <td>ASPTCTX0001</td>\n",
       "      <td>lpr884752331885</td>\n",
       "      <td>20181116</td>\n",
       "      <td>7945</td>\n",
       "      <td>1.2.840.113619.2.405.2831160321.1542366994.763457</td>\n",
       "      <td>lpr884752331885</td>\n",
       "      <td>69.0</td>\n",
       "      <td>'65.0'</td>\n",
       "      <td>'1.71'</td>\n",
       "      <td>256</td>\n",
       "      <td>256</td>\n",
       "      <td>341</td>\n",
       "      <td>1.953125</td>\n",
       "      <td>1.953125</td>\n",
       "      <td>2.790000</td>\n",
       "      <td>(256, 256, 341)</td>\n",
       "      <td>(1.953125, 1.953125, 2.79)</td>\n",
       "      <td>[-249.02343750000, -249.02343750000, -812.91998291015]</td>\n",
       "      <td>[1, 0, 0, 0, 1, -0]</td>\n",
       "      <td>1.2.840.113619.2.405.3.2831160321.34.1542349274.309.6370.1</td>\n",
       "      <td>'measured,, 0.000000 cm-1, attenuation smooth'</td>\n",
       "      <td>'QCFX'</td>\n",
       "      <td>['ORIGINAL', 'PRIMARY']</td>\n",
       "      <td>'20181116'</td>\n",
       "      <td>'121151'</td>\n",
       "      <td>'PET FDG WB 1 h'</td>\n",
       "      <td>'QCFX-S 400'</td>\n",
       "      <td>'6.39 WB_FDG CT VENFAS'</td>\n",
       "      <td>['DECY', 'ATTN', 'SCAT', 'DTIM', 'RANSNG', 'DCAL', 'SLSENS', 'NORM']</td>\n",
       "      <td>PT</td>\n",
       "      <td>'GE MEDICAL SYSTEMS'</td>\n",
       "      <td>'Discovery MI'</td>\n",
       "      <td>'FDG -- fluorodeoxyglucose'</td>\n",
       "      <td>'0.0'</td>\n",
       "      <td>'110400.00'</td>\n",
       "      <td>'200614816.0'</td>\n",
       "      <td>'6586.2001953125'</td>\n",
       "      <td>'0.96700000762939'</td>\n",
       "      <td>'20181116110400.00'</td>\n",
       "    </tr>\n",
       "  </tbody>\n",
       "</table>\n",
       "</div>"
      ],
      "text/plain": [
       "   index  Unnamed: 0  Unnamed: 0_x  \\\n",
       "1      3           3           947   \n",
       "0      2           2           948   \n",
       "3      5           5           901   \n",
       "2      4           4           902   \n",
       "5      7           7          1018   \n",
       "\n",
       "                                                                                                                 directory  \\\n",
       "1          F:/ucan_lymfom/ASPTCTX0001_lpr415675513429-20190201/PT-20190201-101500-3.5_WB_FDG_CT_VENFAS-QCFX-S_400-2.7900mm   \n",
       "0    F:/ucan_lymfom/ASPTCTX0001_lpr415675513429-20190201/CT-20190201-103111-3.5_WB_FDG_CT_VENFAS-WB_Venfas_3_ax-3.000000mm   \n",
       "3        F:/ucan_lymfom/ASPTCTX0001_lpr415675513429-20190320/PT-20190320-122101-UAS-WB-FDG-3D_CT_VENFAS-WB-FDG-AC-3.2700mm   \n",
       "2  F:/ucan_lymfom/ASPTCTX0001_lpr415675513429-20190320/CT-20190320-124839-6.3_UAS-WB-FDG-3D_CT_VENFAS-WB_VEN_AX-0.949219mm   \n",
       "5         F:/ucan_lymfom/ASPTCTX0001_lpr884752331885-20181116/PT-20181116-120950-6.39_WB_FDG_CT_VENFAS-QCFX-S_400-2.7900mm   \n",
       "\n",
       "  source_directory                     patient_directory  \\\n",
       "1   F:/ucan_lymfom  ASPTCTX0001_lpr415675513429-20190201   \n",
       "0   F:/ucan_lymfom  ASPTCTX0001_lpr415675513429-20190201   \n",
       "3   F:/ucan_lymfom  ASPTCTX0001_lpr415675513429-20190320   \n",
       "2   F:/ucan_lymfom  ASPTCTX0001_lpr415675513429-20190320   \n",
       "5   F:/ucan_lymfom  ASPTCTX0001_lpr884752331885-20181116   \n",
       "\n",
       "                                                           PET-CT_info  \\\n",
       "1          PT-20190201-101500-3.5_WB_FDG_CT_VENFAS-QCFX-S_400-2.7900mm   \n",
       "0    CT-20190201-103111-3.5_WB_FDG_CT_VENFAS-WB_Venfas_3_ax-3.000000mm   \n",
       "3        PT-20190320-122101-UAS-WB-FDG-3D_CT_VENFAS-WB-FDG-AC-3.2700mm   \n",
       "2  CT-20190320-124839-6.3_UAS-WB-FDG-3D_CT_VENFAS-WB_VEN_AX-0.949219mm   \n",
       "5         PT-20181116-120950-6.39_WB_FDG_CT_VENFAS-QCFX-S_400-2.7900mm   \n",
       "\n",
       "        system              npr scan_date  Unnamed: 0_y  \\\n",
       "1  ASPTCTX0001  lpr415675513429  20190201         14246   \n",
       "0  ASPTCTX0001  lpr415675513429  20190201         14250   \n",
       "3  ASPTCTX0001  lpr415675513429  20190320         14239   \n",
       "2  ASPTCTX0001  lpr415675513429  20190320         14242   \n",
       "5  ASPTCTX0001  lpr884752331885  20181116          7945   \n",
       "\n",
       "                                           dicom_img       patient_id  \\\n",
       "1  1.2.840.113619.2.405.3842663696.1549013394.986841  lpr415675513429   \n",
       "0   1.2.840.113619.2.5.91447938.12625.1549010475.262  lpr415675513429   \n",
       "3  1.2.840.113619.2.131.4240671514.1553082860.533756  lpr415675513429   \n",
       "2    1.2.840.113619.2.5.1207072.12019.1552979153.641  lpr415675513429   \n",
       "5  1.2.840.113619.2.405.2831160321.1542366994.763457  lpr884752331885   \n",
       "\n",
       "   patient_age patient_weight patient_size  imgsz_x  imgsz_y  num_slices  \\\n",
       "1         32.0         '90.0'        '1.8'      256      256         341   \n",
       "0         32.0         '90.0'        '1.8'      512      512         382   \n",
       "3         33.0         '90.0'        '1.8'      128      128         287   \n",
       "2         33.0         '90.0'        '1.8'      512      512        1337   \n",
       "5         69.0         '65.0'       '1.71'      256      256         341   \n",
       "\n",
       "    voxsz_x   voxsz_y  slice_thickness        image_size  \\\n",
       "1  1.953125  1.953125         2.790000   (256, 256, 341)   \n",
       "0  0.962891  0.962891         3.000000   (512, 512, 382)   \n",
       "3  3.906250  3.906250         3.270000   (128, 128, 287)   \n",
       "2  1.826172  1.826172         0.949219  (512, 512, 1337)   \n",
       "5  1.953125  1.953125         2.790000   (256, 256, 341)   \n",
       "\n",
       "                       voxel_size  \\\n",
       "1      (1.953125, 1.953125, 2.79)   \n",
       "0       (0.962891, 0.962891, 3.0)   \n",
       "3        (3.90625, 3.90625, 3.27)   \n",
       "2  (1.826172, 1.826172, 0.949219)   \n",
       "5      (1.953125, 1.953125, 2.79)   \n",
       "\n",
       "                                                   img_pos  \\\n",
       "1   [-249.02343750000, -249.02343750000, -128.24998474121]   \n",
       "0                           [-249.237, -234.463, -127.315]   \n",
       "3   [-248.04687500000, -248.04687500000, 122.250000000000]   \n",
       "2                     [-0.474609, -467.500031, 125.187531]   \n",
       "5   [-249.02343750000, -249.02343750000, -812.91998291015]   \n",
       "\n",
       "                                                       img_orient  \\\n",
       "1                                             [1, 0, 0, 0, 1, -0]   \n",
       "0    [1.000000, 0.000000, 0.000000, 0.000000, 1.000000, 0.000000]   \n",
       "3                                             [1, 0, 0, 0, 1, -0]   \n",
       "2   [0.000000, 1.000000, 0.000000, 0.000000, 0.000000, -1.000000]   \n",
       "5                                             [1, 0, 0, 0, 1, -0]   \n",
       "\n",
       "                                                        for_uid  \\\n",
       "1   1.2.840.113619.2.405.3.3842663696.892.1549005827.841.4795.1   \n",
       "0   1.2.840.113619.2.405.3.3842663696.892.1549005827.841.4795.1   \n",
       "3   1.2.840.113619.2.55.3.4240671514.185.1552891983.299.12445.1   \n",
       "2   1.2.840.113619.2.55.3.4240671514.185.1552891983.299.12445.1   \n",
       "5    1.2.840.113619.2.405.3.2831160321.34.1542349274.309.6370.1   \n",
       "\n",
       "                                          att_corr recons_method  \\\n",
       "1   'measured,, 0.000000 cm-1, attenuation smooth'        'QCFX'   \n",
       "0                                              NaN           NaN   \n",
       "3                      'measured,, 0.096000 cm-1,'       '3D IR'   \n",
       "2                                              NaN           NaN   \n",
       "5   'measured,, 0.000000 cm-1, attenuation smooth'        'QCFX'   \n",
       "\n",
       "                                            image_type aquisition_dt  \\\n",
       "1                              ['ORIGINAL', 'PRIMARY']    '20190201'   \n",
       "0   ['DERIVED', 'SECONDARY', 'REFORMATTED', 'AVERAGE']    '20190201'   \n",
       "3                              ['ORIGINAL', 'PRIMARY']    '20190320'   \n",
       "2              ['DERIVED', 'SECONDARY', 'REFORMATTED']    '20190320'   \n",
       "5                              ['ORIGINAL', 'PRIMARY']    '20181116'   \n",
       "\n",
       "    aquisition_time         study_desc        series_desc  \\\n",
       "1          '102509'   'PET FDG WB 1 h'       'QCFX-S 400'   \n",
       "0   '102917.254016'   'PET FDG WB 1 h'   'WB Venfas 3 ax'   \n",
       "3          '123914'   'PET FDG WB 1 h'        'WB-FDG-AC'   \n",
       "2          '124529'   'PET FDG WB 1 h'        'WB VEN AX'   \n",
       "5          '121151'   'PET FDG WB 1 h'       'QCFX-S 400'   \n",
       "\n",
       "                         protocol  \\\n",
       "1          '3.5 WB_FDG CT VENFAS'   \n",
       "0          '3.5 WB_FDG CT VENFAS'   \n",
       "3       'UAS-WB-FDG-3D CT VENFAS'   \n",
       "2   '6.3 UAS-WB-FDG-3D CT VENFAS'   \n",
       "5         '6.39 WB_FDG CT VENFAS'   \n",
       "\n",
       "                                                                corr_img  \\\n",
       "1   ['DECY', 'ATTN', 'SCAT', 'DTIM', 'RANSNG', 'DCAL', 'SLSENS', 'NORM']   \n",
       "0                                                                    NaN   \n",
       "3      ['DECY', 'ATTN', 'SCAT', 'DTIM', 'RAN', 'DCAL', 'SLSENS', 'NORM']   \n",
       "2                                                                    NaN   \n",
       "5   ['DECY', 'ATTN', 'SCAT', 'DTIM', 'RANSNG', 'DCAL', 'SLSENS', 'NORM']   \n",
       "\n",
       "  modality           manufacturer manufacturer_model  \\\n",
       "1       PT   'GE MEDICAL SYSTEMS'     'Discovery MI'   \n",
       "0       CT   'GE MEDICAL SYSTEMS'     'Discovery MI'   \n",
       "3       PT   'GE MEDICAL SYSTEMS'    'Discovery STE'   \n",
       "2       CT   'GE MEDICAL SYSTEMS'    'Discovery STE'   \n",
       "5       PT   'GE MEDICAL SYSTEMS'     'Discovery MI'   \n",
       "\n",
       "            radiopharmaceutical radiopharmaceutical_volume  \\\n",
       "1   'FDG -- fluorodeoxyglucose'                      '0.0'   \n",
       "0                           NaN                        NaN   \n",
       "3   'FDG -- fluorodeoxyglucose'                      '0.0'   \n",
       "2                           NaN                        NaN   \n",
       "5   'FDG -- fluorodeoxyglucose'                      '0.0'   \n",
       "\n",
       "  radiopharmaceutical_start_time radionuclide_total_dose  \\\n",
       "1                    '090500.00'           '264312992.0'   \n",
       "0                            NaN                     NaN   \n",
       "3                    '111600.00'           '367658976.0'   \n",
       "2                            NaN                     NaN   \n",
       "5                    '110400.00'           '200614816.0'   \n",
       "\n",
       "  radionuclide_half_life radionuclide_positron_fraction  \\\n",
       "1      '6586.2001953125'             '0.96700000762939'   \n",
       "0                    NaN                            NaN   \n",
       "3               '6588.0'             '0.97000002861023'   \n",
       "2                    NaN                            NaN   \n",
       "5      '6586.2001953125'             '0.96700000762939'   \n",
       "\n",
       "  radiopharmaceutical_start_date_time  \n",
       "1                 '20190201090500.00'  \n",
       "0                                 NaN  \n",
       "3                 '20190320111600.00'  \n",
       "2                                 NaN  \n",
       "5                 '20181116110400.00'  "
      ]
     },
     "execution_count": 18,
     "metadata": {},
     "output_type": "execute_result"
    }
   ],
   "source": [
    "master_data_wd_filtered.head(2)\n",
    "master_data_wd_filtered_sorted = master_data_wd_filtered.sort_values(by=[\"patient_directory\"\t,\"PET-CT_info\"], ascending=[True, False])\n",
    "master_data_wd_filtered_sorted.head(5)"
   ]
  },
  {
   "cell_type": "code",
   "execution_count": 72,
   "metadata": {},
   "outputs": [],
   "source": [
    "exception_lst = []\n",
    "resampled_SUV_CT = {'patient_directory' : [],\n",
    "                    'SUV': [],\n",
    "                    'CT' : [],\n",
    "                    'new_size' : []}\n",
    "                    #'SUV_arr': []}\n",
    "\n",
    "for index, row in master_data_wd_filtered_sorted.head(70).iterrows():\n",
    "    #print(index, row['patient_directory'], row['PET-CT_info'])\n",
    "    #if index == 2:\n",
    "    #    break\n",
    "    \n",
    "    #create patient directories\n",
    "    npr_directories = '/media/andres/T7/Sambit/Other_Projects/UCAN/Resampled_SUV_CT/' + str(row['npr']) + '_SUV_CT/'\n",
    "    #npr_directories = 'F:/ucan_lymfom/Resampled_SUV_CT/Sample24Oct2023/' + str(row['npr']) + '_SUV_CT/'\n",
    "    if not os.path.exists(npr_directories):\n",
    "        os.makedirs(npr_directories)\n",
    "    \n",
    "    #create scan date directoriesmaster_data_wd_filtered.head(2)\n",
    "    scan_date_directories = '/media/andres/T7/Sambit/Other_Projects/UCAN/Resampled_SUV_CT/' + str(row['npr']) + '_SUV_CT/' + str(row['scan_date']) + '/'\n",
    "    #scan_date_directories = 'F:/ucan_lymfom/Resampled_SUV_CT/Sample24Oct2023/' + str(row['npr']) + '_SUV_CT/' + str(row['scan_date']) + '/'\n",
    "    if not os.path.exists(scan_date_directories):\n",
    "        os.makedirs(scan_date_directories)\n",
    "        \n",
    "    if row['modality']=='PT':\n",
    "\n",
    "        resampled_SUV_CT['patient_directory'].append(row['patient_directory'])\n",
    "\n",
    "        vol_img = utils.read_dicom(row['directory'])\n",
    "        image_size = vol_img.GetSize()\n",
    "\n",
    "        new_size = [config_size[0], config_size[1], image_size[2]]\n",
    "        resampled_SUV_CT['new_size'].append(new_size)\n",
    "        #print(new_size)   \n",
    "\n",
    "        suv, estimated, raw,spacing,origin,direction = utils.compute_suv(vol_img, PatientWeight, AcquisitionTime, RadiopharmaceuticalStartTime, RadionuclideHalfLife, RadionuclideTotalDose)\n",
    "        suv_img = sitk.GetImageFromArray(suv)\n",
    "\n",
    "        suv_img = sitk.Resample(vol_img, new_size, sitk.Transform(), sitk.sitkNearestNeighbor, #sitk.sitkLinear, \n",
    "                            vol_img.GetOrigin(), config_spacing, vol_img.GetDirection(), 0,\n",
    "                            vol_img.GetPixelID())  \n",
    "        \n",
    "        PatientWeight = float(row['patient_weight'].replace(\"'\", \"\").replace(\" \", \"\"))\n",
    "\n",
    "        AcquisitionTime = str(row['aquisition_time'])\n",
    "        AcquisitionTime = AcquisitionTime.replace(\"'\",\"\").strip()\n",
    "\n",
    "        # Start Time for the Radiopharmaceutical Injection\n",
    "        RadiopharmaceuticalStartTime = row['radiopharmaceutical_start_time'].split('.')[0].replace(\"'\",\"\").strip()\n",
    "\n",
    "        # Half Life for Radionuclide # seconds\n",
    "        RadionuclideHalfLife = row['radionuclide_half_life'].replace(\"'\",\"\").strip()\n",
    "\n",
    "        # Total dose injected for Radionuclide\n",
    "        RadionuclideTotalDose = row['radionuclide_total_dose'].replace(\"'\",\"\").strip()\n",
    "\n",
    "        # suv, estimated, raw,spacing,origin,direction = utils.compute_suv(vol_img, PatientWeight, AcquisitionTime, RadiopharmaceuticalStartTime, RadionuclideHalfLife, RadionuclideTotalDose)\n",
    "        # suv_img = sitk.GetImageFromArray(suv)\n",
    "\n",
    "        # suv_img.SetSpacing(config_spacing)\n",
    "\n",
    "        #suv_img = sitk.Resample(suv_img, new_size, sitk.Transform(), sitk.sitkLinear,\n",
    "        #                    suv_img.GetOrigin(), config_spacing, suv_img.GetDirection(), 0,\n",
    "        #                   suv_img.GetPixelID())\n",
    "        \n",
    "        resampled_SUV_CT['SUV'].append(row['PET-CT_info'])\n",
    "        resampled_SUV_CT['CT'].append('')\n",
    "        #resampled_SUV_CT['SUV_arr'].append(sitk.GetArrayFromImage(suv_img))\n",
    "\n",
    "        save_path= '/media/andres/T7/Sambit/Other_Projects/UCAN/Resampled_SUV_CT/' + str(row['npr']) + '_SUV_CT/' + str(row['scan_date']) + '/' + 'SUV'\n",
    "        #save_path= 'F:/ucan_lymfom/Resampled_SUV_CT/Sample24Oct2023/' + str(row['npr']) + '_SUV_CT/' + str(row['scan_date']) + '/' + 'SUV'\n",
    "\n",
    "        utils.save_as_gz(suv_img, save_path+'.nii.gz')\n",
    "        \n",
    "resampled_SUV_CT_df = pd.DataFrame(resampled_SUV_CT)\n",
    "#resampled_SUV_CT_df.head(2)"
   ]
  },
  {
   "cell_type": "code",
   "execution_count": null,
   "metadata": {},
   "outputs": [],
   "source": []
  },
  {
   "cell_type": "code",
   "execution_count": null,
   "metadata": {},
   "outputs": [],
   "source": [
    "npr126347730283"
   ]
  },
  {
   "cell_type": "code",
   "execution_count": 42,
   "metadata": {},
   "outputs": [
    {
     "data": {
      "text/html": [
       "<div>\n",
       "<style scoped>\n",
       "    .dataframe tbody tr th:only-of-type {\n",
       "        vertical-align: middle;\n",
       "    }\n",
       "\n",
       "    .dataframe tbody tr th {\n",
       "        vertical-align: top;\n",
       "    }\n",
       "\n",
       "    .dataframe thead th {\n",
       "        text-align: right;\n",
       "    }\n",
       "</style>\n",
       "<table border=\"1\" class=\"dataframe\">\n",
       "  <thead>\n",
       "    <tr style=\"text-align: right;\">\n",
       "      <th></th>\n",
       "      <th>index</th>\n",
       "      <th>Unnamed: 0</th>\n",
       "      <th>Unnamed: 0_x</th>\n",
       "      <th>directory</th>\n",
       "      <th>source_directory</th>\n",
       "      <th>patient_directory</th>\n",
       "      <th>PET-CT_info</th>\n",
       "      <th>system</th>\n",
       "      <th>npr</th>\n",
       "      <th>scan_date</th>\n",
       "      <th>Unnamed: 0_y</th>\n",
       "      <th>dicom_img</th>\n",
       "      <th>patient_id</th>\n",
       "      <th>patient_age</th>\n",
       "      <th>patient_weight</th>\n",
       "      <th>patient_size</th>\n",
       "      <th>imgsz_x</th>\n",
       "      <th>imgsz_y</th>\n",
       "      <th>num_slices</th>\n",
       "      <th>voxsz_x</th>\n",
       "      <th>voxsz_y</th>\n",
       "      <th>slice_thickness</th>\n",
       "      <th>image_size</th>\n",
       "      <th>voxel_size</th>\n",
       "      <th>img_pos</th>\n",
       "      <th>img_orient</th>\n",
       "      <th>for_uid</th>\n",
       "      <th>att_corr</th>\n",
       "      <th>recons_method</th>\n",
       "      <th>image_type</th>\n",
       "      <th>aquisition_dt</th>\n",
       "      <th>aquisition_time</th>\n",
       "      <th>study_desc</th>\n",
       "      <th>series_desc</th>\n",
       "      <th>protocol</th>\n",
       "      <th>corr_img</th>\n",
       "      <th>modality</th>\n",
       "      <th>manufacturer</th>\n",
       "      <th>manufacturer_model</th>\n",
       "      <th>radiopharmaceutical</th>\n",
       "      <th>radiopharmaceutical_volume</th>\n",
       "      <th>radiopharmaceutical_start_time</th>\n",
       "      <th>radionuclide_total_dose</th>\n",
       "      <th>radionuclide_half_life</th>\n",
       "      <th>radionuclide_positron_fraction</th>\n",
       "      <th>radiopharmaceutical_start_date_time</th>\n",
       "    </tr>\n",
       "  </thead>\n",
       "  <tbody>\n",
       "    <tr>\n",
       "      <th>73</th>\n",
       "      <td>99</td>\n",
       "      <td>99</td>\n",
       "      <td>1394</td>\n",
       "      <td>F:/ucan_lymfom/ASPTCTX0001_npr126347730283-20170807/PT-20170807-105022-6.40_WB_FDG_CT_VENFAS-QCFX-S_350-2.7900mm</td>\n",
       "      <td>F:/ucan_lymfom</td>\n",
       "      <td>ASPTCTX0001_npr126347730283-20170807</td>\n",
       "      <td>PT-20170807-105022-6.40_WB_FDG_CT_VENFAS-QCFX-S_350-2.7900mm</td>\n",
       "      <td>ASPTCTX0001</td>\n",
       "      <td>npr126347730283</td>\n",
       "      <td>20170807</td>\n",
       "      <td>8989</td>\n",
       "      <td>1.2.840.113619.2.405.2831160321.1502097359.505152</td>\n",
       "      <td>npr126347730283</td>\n",
       "      <td>63.0</td>\n",
       "      <td>'92.0'</td>\n",
       "      <td>'1.79'</td>\n",
       "      <td>256</td>\n",
       "      <td>256</td>\n",
       "      <td>341</td>\n",
       "      <td>1.953125</td>\n",
       "      <td>1.953125</td>\n",
       "      <td>2.79</td>\n",
       "      <td>(256, 256, 341)</td>\n",
       "      <td>(1.953125, 1.953125, 2.79)</td>\n",
       "      <td>[-249.02343750000, -249.02343750000, 155.750000000000]</td>\n",
       "      <td>[1, 0, 0, 0, 1, -0]</td>\n",
       "      <td>1.2.840.113619.2.405.3.2831160321.962.1502085373.530.9760.1</td>\n",
       "      <td>'measured,, 0.000000 cm-1, attenuation smooth'</td>\n",
       "      <td>'QCFX'</td>\n",
       "      <td>['ORIGINAL', 'PRIMARY']</td>\n",
       "      <td>'20170807'</td>\n",
       "      <td>'110032'</td>\n",
       "      <td>'PET FDG WB 1 h'</td>\n",
       "      <td>'QCFX-S 350'</td>\n",
       "      <td>'6.40 WB_FDG CT VENFAS'</td>\n",
       "      <td>['DECY', 'ATTN', 'SCAT', 'DTIM', 'RANSNG', 'DCAL', 'SLSENS', 'NORM']</td>\n",
       "      <td>PT</td>\n",
       "      <td>'GE MEDICAL SYSTEMS'</td>\n",
       "      <td>'Discovery MI'</td>\n",
       "      <td>'FDG -- fluorodeoxyglucose'</td>\n",
       "      <td>'0.0'</td>\n",
       "      <td>'095000.00'</td>\n",
       "      <td>'361595072.0'</td>\n",
       "      <td>'6586.2001953125'</td>\n",
       "      <td>'0.96700000762939'</td>\n",
       "      <td>'20170807095000.00'</td>\n",
       "    </tr>\n",
       "    <tr>\n",
       "      <th>72</th>\n",
       "      <td>98</td>\n",
       "      <td>98</td>\n",
       "      <td>1393</td>\n",
       "      <td>F:/ucan_lymfom/ASPTCTX0001_npr126347730283-20170807/CT-20170807-110734-6.40_WB_FDG_CT_VENFAS-WB_Venfas_3_ax-3.000000mm</td>\n",
       "      <td>F:/ucan_lymfom</td>\n",
       "      <td>ASPTCTX0001_npr126347730283-20170807</td>\n",
       "      <td>CT-20170807-110734-6.40_WB_FDG_CT_VENFAS-WB_Venfas_3_ax-3.000000mm</td>\n",
       "      <td>ASPTCTX0001</td>\n",
       "      <td>npr126347730283</td>\n",
       "      <td>20170807</td>\n",
       "      <td>8988</td>\n",
       "      <td>1.2.840.113619.2.5.4250371947.12844.1502094596.96</td>\n",
       "      <td>npr126347730283</td>\n",
       "      <td>63.0</td>\n",
       "      <td>'92.0'</td>\n",
       "      <td>'1.79'</td>\n",
       "      <td>512</td>\n",
       "      <td>512</td>\n",
       "      <td>382</td>\n",
       "      <td>0.976562</td>\n",
       "      <td>0.976562</td>\n",
       "      <td>3.00</td>\n",
       "      <td>(512, 512, 382)</td>\n",
       "      <td>(0.976562, 0.976562, 3.0)</td>\n",
       "      <td>[-245.117, -229.003, 154.184]</td>\n",
       "      <td>[1.000000, 0.000000, 0.000000, 0.000000, 1.000000, 0.000000]</td>\n",
       "      <td>1.2.840.113619.2.405.3.2831160321.962.1502085373.530.9760.1</td>\n",
       "      <td>NaN</td>\n",
       "      <td>NaN</td>\n",
       "      <td>['DERIVED', 'SECONDARY', 'REFORMATTED', 'AVERAGE']</td>\n",
       "      <td>'20170807'</td>\n",
       "      <td>'110539.934766'</td>\n",
       "      <td>'PET FDG WB 1 h'</td>\n",
       "      <td>'WB Venfas 3 ax'</td>\n",
       "      <td>'6.40 WB_FDG CT VENFAS'</td>\n",
       "      <td>NaN</td>\n",
       "      <td>CT</td>\n",
       "      <td>'GE MEDICAL SYSTEMS'</td>\n",
       "      <td>'Discovery MI'</td>\n",
       "      <td>NaN</td>\n",
       "      <td>NaN</td>\n",
       "      <td>NaN</td>\n",
       "      <td>NaN</td>\n",
       "      <td>NaN</td>\n",
       "      <td>NaN</td>\n",
       "      <td>NaN</td>\n",
       "    </tr>\n",
       "  </tbody>\n",
       "</table>\n",
       "</div>"
      ],
      "text/plain": [
       "    index  Unnamed: 0  Unnamed: 0_x  \\\n",
       "73     99          99          1394   \n",
       "72     98          98          1393   \n",
       "\n",
       "                                                                                                                 directory  \\\n",
       "73        F:/ucan_lymfom/ASPTCTX0001_npr126347730283-20170807/PT-20170807-105022-6.40_WB_FDG_CT_VENFAS-QCFX-S_350-2.7900mm   \n",
       "72  F:/ucan_lymfom/ASPTCTX0001_npr126347730283-20170807/CT-20170807-110734-6.40_WB_FDG_CT_VENFAS-WB_Venfas_3_ax-3.000000mm   \n",
       "\n",
       "   source_directory                     patient_directory  \\\n",
       "73   F:/ucan_lymfom  ASPTCTX0001_npr126347730283-20170807   \n",
       "72   F:/ucan_lymfom  ASPTCTX0001_npr126347730283-20170807   \n",
       "\n",
       "                                                           PET-CT_info  \\\n",
       "73        PT-20170807-105022-6.40_WB_FDG_CT_VENFAS-QCFX-S_350-2.7900mm   \n",
       "72  CT-20170807-110734-6.40_WB_FDG_CT_VENFAS-WB_Venfas_3_ax-3.000000mm   \n",
       "\n",
       "         system              npr scan_date  Unnamed: 0_y  \\\n",
       "73  ASPTCTX0001  npr126347730283  20170807          8989   \n",
       "72  ASPTCTX0001  npr126347730283  20170807          8988   \n",
       "\n",
       "                                            dicom_img       patient_id  \\\n",
       "73  1.2.840.113619.2.405.2831160321.1502097359.505152  npr126347730283   \n",
       "72  1.2.840.113619.2.5.4250371947.12844.1502094596.96  npr126347730283   \n",
       "\n",
       "    patient_age patient_weight patient_size  imgsz_x  imgsz_y  num_slices  \\\n",
       "73         63.0         '92.0'       '1.79'      256      256         341   \n",
       "72         63.0         '92.0'       '1.79'      512      512         382   \n",
       "\n",
       "     voxsz_x   voxsz_y  slice_thickness       image_size  \\\n",
       "73  1.953125  1.953125             2.79  (256, 256, 341)   \n",
       "72  0.976562  0.976562             3.00  (512, 512, 382)   \n",
       "\n",
       "                    voxel_size  \\\n",
       "73  (1.953125, 1.953125, 2.79)   \n",
       "72   (0.976562, 0.976562, 3.0)   \n",
       "\n",
       "                                                    img_pos  \\\n",
       "73   [-249.02343750000, -249.02343750000, 155.750000000000]   \n",
       "72                            [-245.117, -229.003, 154.184]   \n",
       "\n",
       "                                                       img_orient  \\\n",
       "73                                            [1, 0, 0, 0, 1, -0]   \n",
       "72   [1.000000, 0.000000, 0.000000, 0.000000, 1.000000, 0.000000]   \n",
       "\n",
       "                                                         for_uid  \\\n",
       "73   1.2.840.113619.2.405.3.2831160321.962.1502085373.530.9760.1   \n",
       "72   1.2.840.113619.2.405.3.2831160321.962.1502085373.530.9760.1   \n",
       "\n",
       "                                           att_corr recons_method  \\\n",
       "73   'measured,, 0.000000 cm-1, attenuation smooth'        'QCFX'   \n",
       "72                                              NaN           NaN   \n",
       "\n",
       "                                             image_type aquisition_dt  \\\n",
       "73                              ['ORIGINAL', 'PRIMARY']    '20170807'   \n",
       "72   ['DERIVED', 'SECONDARY', 'REFORMATTED', 'AVERAGE']    '20170807'   \n",
       "\n",
       "     aquisition_time         study_desc        series_desc  \\\n",
       "73          '110032'   'PET FDG WB 1 h'       'QCFX-S 350'   \n",
       "72   '110539.934766'   'PET FDG WB 1 h'   'WB Venfas 3 ax'   \n",
       "\n",
       "                    protocol  \\\n",
       "73   '6.40 WB_FDG CT VENFAS'   \n",
       "72   '6.40 WB_FDG CT VENFAS'   \n",
       "\n",
       "                                                                 corr_img  \\\n",
       "73   ['DECY', 'ATTN', 'SCAT', 'DTIM', 'RANSNG', 'DCAL', 'SLSENS', 'NORM']   \n",
       "72                                                                    NaN   \n",
       "\n",
       "   modality           manufacturer manufacturer_model  \\\n",
       "73       PT   'GE MEDICAL SYSTEMS'     'Discovery MI'   \n",
       "72       CT   'GE MEDICAL SYSTEMS'     'Discovery MI'   \n",
       "\n",
       "             radiopharmaceutical radiopharmaceutical_volume  \\\n",
       "73   'FDG -- fluorodeoxyglucose'                      '0.0'   \n",
       "72                           NaN                        NaN   \n",
       "\n",
       "   radiopharmaceutical_start_time radionuclide_total_dose  \\\n",
       "73                    '095000.00'           '361595072.0'   \n",
       "72                            NaN                     NaN   \n",
       "\n",
       "   radionuclide_half_life radionuclide_positron_fraction  \\\n",
       "73      '6586.2001953125'             '0.96700000762939'   \n",
       "72                    NaN                            NaN   \n",
       "\n",
       "   radiopharmaceutical_start_date_time  \n",
       "73                 '20170807095000.00'  \n",
       "72                                 NaN  "
      ]
     },
     "execution_count": 42,
     "metadata": {},
     "output_type": "execute_result"
    }
   ],
   "source": [
    "master_data_wd_filtered_sorted[master_data_wd_filtered_sorted.npr==\"npr126347730283\"]"
   ]
  },
  {
   "cell_type": "code",
   "execution_count": 10,
   "metadata": {
    "ExecuteTime": {
     "end_time": "2023-10-31T12:28:20.781394900Z",
     "start_time": "2023-10-31T12:28:19.004666500Z"
    }
   },
   "outputs": [
    {
     "data": {
      "text/plain": "((1.953125, 1.953125, 2.789999928193912), (256, 256, 341), [256, 256, 341])"
     },
     "execution_count": 10,
     "metadata": {},
     "output_type": "execute_result"
    }
   ],
   "source": [
    "img1 = utils.read_dicom(r\"C:\\Users\\NickosKal\\Desktop\\University\\Semester 3\\Project in Image Analysis\\UCAN-PET-CT-image-data-handling-pipeline\\test\\PT-20170807-105022-6.40_WB_FDG_CT_VENFAS-QCFX-S_350-2.7900mm\")\n",
    "image_size = img1.GetSize()\n",
    "\n",
    "new_size = [config_size[0], config_size[1], image_size[2]]\n",
    "\n",
    "img1.GetSpacing(), img1.GetSize(), new_size"
   ]
  },
  {
   "cell_type": "code",
   "execution_count": 11,
   "metadata": {
    "ExecuteTime": {
     "end_time": "2023-10-31T12:28:34.983346Z",
     "start_time": "2023-10-31T12:28:34.428954800Z"
    }
   },
   "outputs": [
    {
     "data": {
      "text/plain": "((1.0, 1.0, 1.0), (256, 256, 341), (0.0, 0.0, 0.0))"
     },
     "execution_count": 11,
     "metadata": {},
     "output_type": "execute_result"
    }
   ],
   "source": [
    "#img1 = sitk.Resample(img1, new_size, sitk.Transform(), sitk.sitkNearestNeighbor, #sitk.sitkLinear, \n",
    "#                            img1.GetOrigin(), config_spacing, img1.GetDirection(), 0,\n",
    "#                            img1.GetPixelID()) \n",
    "\n",
    "suv, estimated, raw,spacing,origin,direction = utils.compute_suv(img1, 92.0, '110032', '095000.00', '6586.2001953125', '361595072.0')\n",
    "suv_img= sitk.GetImageFromArray(suv)\n",
    "#suv_img.SetSpacing(config_spacing)\n",
    "suv_img.GetSpacing(), suv_img.GetSize(), suv_img.GetOrigin()\n"
   ]
  },
  {
   "cell_type": "code",
   "execution_count": 12,
   "metadata": {
    "ExecuteTime": {
     "end_time": "2023-10-31T12:30:23.213851500Z",
     "start_time": "2023-10-31T12:30:22.207009100Z"
    }
   },
   "outputs": [],
   "source": [
    "suv_img = sitk.Resample(suv_img, new_size, sitk.Euler3DTransform(), sitk.sitkNearestNeighbor, #sitk.sitkLinear, \n",
    "                            suv_img.GetOrigin(), config_spacing, suv_img.GetDirection(), 0,\n",
    "                            suv_img.GetPixelID()) \n",
    "suv_img.GetSpacing(), suv_img.GetSize(), suv_img.GetOrigin()\n",
    "utils.save_as_gz(suv_img, r'UCAN-PET-CT-image-data-handling-pipeline'+'SUV.nii.gz')\n"
   ]
  },
  {
   "cell_type": "code",
   "execution_count": 13,
   "metadata": {
    "ExecuteTime": {
     "end_time": "2023-10-31T12:30:29.000222400Z",
     "start_time": "2023-10-31T12:30:27.639479100Z"
    }
   },
   "outputs": [
    {
     "data": {
      "text/plain": "(26.009498554708152,\n 0.0,\n array([0.00000000e+00, 8.09606700e-05, 8.11039015e-05, ...,\n        2.51747425e+01, 2.53555930e+01, 2.60094986e+01]))"
     },
     "execution_count": 13,
     "metadata": {},
     "output_type": "execute_result"
    }
   ],
   "source": [
    "suv_arr=sitk.GetArrayFromImage(suv_img)\n",
    "suv_arr.max(), suv_arr.min(), np.unique(suv_arr)"
   ]
  },
  {
   "cell_type": "code",
   "execution_count": 14,
   "metadata": {
    "ExecuteTime": {
     "end_time": "2023-10-31T12:30:57.838903700Z",
     "start_time": "2023-10-31T12:30:55.426864500Z"
    }
   },
   "outputs": [
    {
     "data": {
      "text/plain": "((0.976562, 0.976562, 2.499997368421053), (512, 512, 381))"
     },
     "execution_count": 14,
     "metadata": {},
     "output_type": "execute_result"
    }
   ],
   "source": [
    "ct_img= utils.read_dicom(r\"C:\\Users\\NickosKal\\Desktop\\University\\Semester 3\\Project in Image Analysis\\UCAN-PET-CT-image-data-handling-pipeline\\test\\CT-20170807-110734-6.40_WB_FDG_CT_VENFAS-WB_Venfas_3_ax-3.000000mm\")\n",
    "ct_img.GetSpacing(), ct_img.GetSize()"
   ]
  },
  {
   "cell_type": "code",
   "execution_count": 15,
   "metadata": {
    "ExecuteTime": {
     "end_time": "2023-10-31T12:31:09.704132100Z",
     "start_time": "2023-10-31T12:31:09.531345900Z"
    }
   },
   "outputs": [
    {
     "name": "stdout",
     "output_type": "stream",
     "text": [
      "[256, 256, 341]\n"
     ]
    },
    {
     "data": {
      "text/plain": "((2.0, 2.0, 3.0), (256, 256, 341), (-245.117, -229.003, -793.315))"
     },
     "execution_count": 15,
     "metadata": {},
     "output_type": "execute_result"
    }
   ],
   "source": [
    "print(new_size)\n",
    "ct_img = sitk.Resample(ct_img, new_size, sitk.Euler3DTransform(), sitk.sitkNearestNeighbor, #sitk.sitkLinear, \n",
    "                            ct_img.GetOrigin(), config_spacing, ct_img.GetDirection(), -1024,\n",
    "                            ct_img.GetPixelID()) \n",
    "ct_img.GetSpacing(), ct_img.GetSize(), ct_img.GetOrigin()#,np.unique(ct_img)"
   ]
  },
  {
   "cell_type": "code",
   "execution_count": 55,
   "metadata": {},
   "outputs": [
    {
     "data": {
      "text/plain": [
       "((2.0364201068878174, 2.0364201068878174, 3.0),\n",
       " (256, 256, 341),\n",
       " (-245.117, -229.003, -793.315))"
      ]
     },
     "execution_count": 55,
     "metadata": {},
     "output_type": "execute_result"
    }
   ],
   "source": [
    "suv_img1 = sitk.Resample(suv_img, new_size, sitk.Transform(), sitk.sitkNearestNeighbor, #sitk.sitkLinear, \n",
    "                            suv_img.GetOrigin(), config_spacing, suv_img.GetDirection(), 0,\n",
    "                            suv_img.GetPixelID()) \n",
    "#suv_img1.SetSpacing(ct_img.GetOrigin())\n",
    "suv_img1.SetDirection(ct_img.GetDirection())\n",
    "suv_img1.SetOrigin(ct_img.GetOrigin())\n",
    "suv_img1.GetSpacing(), suv_img1.GetSize(), suv_img1.GetOrigin()"
   ]
  },
  {
   "cell_type": "code",
   "execution_count": 16,
   "metadata": {
    "ExecuteTime": {
     "end_time": "2023-10-31T12:31:14.781066200Z",
     "start_time": "2023-10-31T12:31:14.714538800Z"
    }
   },
   "outputs": [
    {
     "ename": "NameError",
     "evalue": "name 'suv_img1' is not defined",
     "output_type": "error",
     "traceback": [
      "\u001B[1;31m---------------------------------------------------------------------------\u001B[0m",
      "\u001B[1;31mNameError\u001B[0m                                 Traceback (most recent call last)",
      "Cell \u001B[1;32mIn[16], line 1\u001B[0m\n\u001B[1;32m----> 1\u001B[0m np\u001B[38;5;241m.\u001B[39munique(sitk\u001B[38;5;241m.\u001B[39mGetArrayFromImage(\u001B[43msuv_img1\u001B[49m))\n",
      "\u001B[1;31mNameError\u001B[0m: name 'suv_img1' is not defined"
     ]
    }
   ],
   "source": [
    "np.unique(sitk.GetArrayFromImage(suv_img1))"
   ]
  },
  {
   "cell_type": "code",
   "execution_count": 17,
   "metadata": {
    "ExecuteTime": {
     "end_time": "2023-10-31T12:31:53.541722700Z",
     "start_time": "2023-10-31T12:31:52.105580300Z"
    }
   },
   "outputs": [
    {
     "data": {
      "text/plain": "array([-1024, -1023, -1022, ...,  3060,  3066,  3069])"
     },
     "execution_count": 17,
     "metadata": {},
     "output_type": "execute_result"
    }
   ],
   "source": [
    "np.unique(sitk.GetArrayFromImage(ct_img))"
   ]
  },
  {
   "cell_type": "code",
   "execution_count": 18,
   "metadata": {
    "ExecuteTime": {
     "end_time": "2023-10-31T12:31:57.180605400Z",
     "start_time": "2023-10-31T12:31:57.156367700Z"
    }
   },
   "outputs": [
    {
     "data": {
      "text/plain": "(-245.117, -229.003, -793.315)"
     },
     "execution_count": 18,
     "metadata": {},
     "output_type": "execute_result"
    }
   ],
   "source": [
    "ct_img.GetOrigin()"
   ]
  },
  {
   "cell_type": "code",
   "execution_count": 30,
   "metadata": {},
   "outputs": [
    {
     "data": {
      "text/plain": [
       "((2.0364201068878174, 2.0364201068878174, 3.0),\n",
       " (256, 256, 314),\n",
       " (0.0, 0.0, 0.0))"
      ]
     },
     "execution_count": 30,
     "metadata": {},
     "output_type": "execute_result"
    }
   ],
   "source": []
  },
  {
   "cell_type": "code",
   "execution_count": 26,
   "metadata": {},
   "outputs": [],
   "source": [
    "ct_img_arr = sitk.GetArrayFromImage(ct_img)\n",
    "ct_img_arr[ct_img_arr < -1024] = -1024\n",
    "ct_img = sitk.GetImageFromArray(ct_img_arr)"
   ]
  },
  {
   "cell_type": "code",
   "execution_count": 20,
   "metadata": {
    "ExecuteTime": {
     "end_time": "2023-10-31T12:35:30.271525400Z",
     "start_time": "2023-10-31T12:35:25.366145500Z"
    }
   },
   "outputs": [],
   "source": [
    "utils.save_as_gz(suv_img, r'UCAN-PET-CT-image-data-handling-pipeline_'+'SUV.nii.gz')\n",
    "utils.save_as_gz(ct_img, r'UCAN-PET-CT-image-data-handling-pipeline_'+'CT.nii.gz')"
   ]
  },
  {
   "cell_type": "code",
   "execution_count": 40,
   "metadata": {},
   "outputs": [
    {
     "data": {
      "text/plain": [
       "((2.0, 2.0, 3.0), (256, 256, 341))"
      ]
     },
     "execution_count": 40,
     "metadata": {},
     "output_type": "execute_result"
    }
   ],
   "source": [
    "img = sitk.ReadImage(\"/media/andres/T7 Shield/U-CAN-Lymfom_A/Sambit/Resampled_SUV_CT/npr100589333593_SUV_CT/20190205/SUV.nii.gz\")\n",
    "img.GetSpacing(), img.GetSize()"
   ]
  },
  {
   "cell_type": "code",
   "execution_count": 33,
   "metadata": {},
   "outputs": [
    {
     "data": {
      "text/plain": [
       "((2.0, 2.0, 3.0), (256, 256, 341))"
      ]
     },
     "execution_count": 33,
     "metadata": {},
     "output_type": "execute_result"
    }
   ],
   "source": [
    "img = sitk.ReadImage(\"/media/andres/T7 Shield/U-CAN-Lymfom_A/Sambit/Resampled_SUV_CT/npr100589333593_SUV_CT/20190205/CT.nii.gz\")\n",
    "img.GetSpacing(), img.GetSize()"
   ]
  },
  {
   "cell_type": "code",
   "execution_count": 73,
   "metadata": {},
   "outputs": [],
   "source": [
    "for index, row in master_data_wd_filtered_sorted.head(70).iterrows():\n",
    "    #print(index, row['patient_directory'], row['PET-CT_info'])\n",
    "    #if index == 2:\n",
    "    #    break\n",
    "    \n",
    "    if row['modality']=='CT':  \n",
    "        #print(row[['patient_directory']])      \n",
    "        resampled_SUV_CT_df.loc[resampled_SUV_CT_df['patient_directory'] == row['patient_directory'], 'CT'] = row['PET-CT_info']\n",
    "\n",
    "        vol_img = utils.read_dicom(row['directory'])\n",
    "        image_size = vol_img.GetSize()\n",
    "\n",
    "        #new_size = resampled_SUV_CT_df.loc[resampled_SUV_CT_df['patient_directory'] == row['patient_directory'], 'new_size'].tolist()[0]\n",
    "\n",
    "        suv_img = sitk.ReadImage('/media/andres/T7/Sambit/Other_Projects/UCAN/Resampled_SUV_CT/' + str(row['npr']) + '_SUV_CT/' + str(row['scan_date']) + '/' + 'SUV' + '.nii.gz')\n",
    "        new_size = suv_img.GetSize()\n",
    "        \n",
    "        #suv_img = sitk.ReadImage('F:/ucan_lymfom/Resampled_SUV_CT/Sample24Oct2023/' + str(row['npr']) + '_SUV_CT/' + str(row['scan_date']) + '/' + 'SUV' + '.nii.gz')\n",
    "        \n",
    "        vol_img = sitk.Resample(vol_img, new_size, sitk.Transform(), sitk.sitkNearestNeighbor, #sitk.sitkLinear,\n",
    "                            vol_img.GetOrigin(), config_spacing, vol_img.GetDirection(), -1024,\n",
    "                            vol_img.GetPixelID())\n",
    "        \n",
    "        vol_img.SetOrigin(suv_img.GetOrigin())\n",
    "        \n",
    "        vol_img_arr = sitk.GetArrayFromImage(vol_img)\n",
    "        vol_img_arr[vol_img_arr < -1024] = -1024\n",
    "\n",
    "        vol_img = sitk.GetImageFromArray(vol_img_arr)\n",
    "\n",
    "        #vol_img = sitk.Clamp(vol_img,upperBound=3000)\n",
    "\n",
    "        save_path= '/media/andres/T7/Sambit/Other_Projects/UCAN/Resampled_SUV_CT/' + str(row['npr']) + '_SUV_CT/' + str(row['scan_date']) + '/' + 'CT'\n",
    "        #save_path= 'F:/ucan_lymfom/Resampled_SUV_CT/Sample24Oct2023/' + str(row['npr']) + '_SUV_CT/' + str(row['scan_date']) + '/' + 'CT'\n",
    "\n",
    "        utils.save_as_gz(vol_img, save_path+'.nii.gz')\n",
    "        \n",
    "#resampled_SUV_CT_df.head(2)"
   ]
  },
  {
   "cell_type": "code",
   "execution_count": null,
   "metadata": {},
   "outputs": [],
   "source": [
    "### Correct origin"
   ]
  },
  {
   "cell_type": "code",
   "execution_count": 46,
   "metadata": {},
   "outputs": [
    {
     "ename": "RuntimeError",
     "evalue": "Exception thrown in SimpleITK ImageFileReader_Execute: /tmp/SimpleITK/Code/IO/src/sitkImageReaderBase.cxx:97:\nsitk::ERROR: The file \"E:/Sambit/Other_Projects/UCAN/Resampled_SUV_CT/lpr415675513429_SUV_CT/20190201/CT.nii.gz\" does not exist.",
     "output_type": "error",
     "traceback": [
      "\u001B[0;31m---------------------------------------------------------------------------\u001B[0m",
      "\u001B[0;31mRuntimeError\u001B[0m                              Traceback (most recent call last)",
      "\u001B[0;32m/tmp/ipykernel_15837/2883243035.py\u001B[0m in \u001B[0;36m?\u001B[0;34m()\u001B[0m\n\u001B[0;32m----> 1\u001B[0;31m \u001B[0msample_CT\u001B[0m \u001B[0;34m=\u001B[0m \u001B[0msitk\u001B[0m\u001B[0;34m.\u001B[0m\u001B[0mReadImage\u001B[0m\u001B[0;34m(\u001B[0m\u001B[0;34m'E:/Sambit/Other_Projects/UCAN/Resampled_SUV_CT/lpr415675513429_SUV_CT/20190201/CT.nii.gz'\u001B[0m\u001B[0;34m)\u001B[0m\u001B[0;34m\u001B[0m\u001B[0;34m\u001B[0m\u001B[0m\n\u001B[0m\u001B[1;32m      2\u001B[0m \u001B[0msample_SUV\u001B[0m \u001B[0;34m=\u001B[0m \u001B[0msitk\u001B[0m\u001B[0;34m.\u001B[0m\u001B[0mReadImage\u001B[0m\u001B[0;34m(\u001B[0m\u001B[0;34m'E:/Sambit/Other_Projects/UCAN/Resampled_SUV_CT/lpr415675513429_SUV_CT/20190201/SUV.nii.gz'\u001B[0m\u001B[0;34m)\u001B[0m\u001B[0;34m\u001B[0m\u001B[0;34m\u001B[0m\u001B[0m\n",
      "\u001B[0;32m~/anaconda3/envs/UCANProject/lib/python3.11/site-packages/SimpleITK/extra.py\u001B[0m in \u001B[0;36m?\u001B[0;34m(fileName, outputPixelType, imageIO)\u001B[0m\n\u001B[1;32m    371\u001B[0m         \u001B[0mreader\u001B[0m\u001B[0;34m.\u001B[0m\u001B[0mSetFileNames\u001B[0m\u001B[0;34m(\u001B[0m\u001B[0;34m[\u001B[0m\u001B[0mstr\u001B[0m\u001B[0;34m(\u001B[0m\u001B[0mname\u001B[0m\u001B[0;34m)\u001B[0m \u001B[0;32mfor\u001B[0m \u001B[0mname\u001B[0m \u001B[0;32min\u001B[0m \u001B[0mfileName\u001B[0m\u001B[0;34m]\u001B[0m\u001B[0;34m)\u001B[0m\u001B[0;34m\u001B[0m\u001B[0;34m\u001B[0m\u001B[0m\n\u001B[1;32m    372\u001B[0m \u001B[0;34m\u001B[0m\u001B[0m\n\u001B[1;32m    373\u001B[0m     \u001B[0mreader\u001B[0m\u001B[0;34m.\u001B[0m\u001B[0mSetImageIO\u001B[0m\u001B[0;34m(\u001B[0m\u001B[0mimageIO\u001B[0m\u001B[0;34m)\u001B[0m\u001B[0;34m\u001B[0m\u001B[0;34m\u001B[0m\u001B[0m\n\u001B[1;32m    374\u001B[0m     \u001B[0mreader\u001B[0m\u001B[0;34m.\u001B[0m\u001B[0mSetOutputPixelType\u001B[0m\u001B[0;34m(\u001B[0m\u001B[0moutputPixelType\u001B[0m\u001B[0;34m)\u001B[0m\u001B[0;34m\u001B[0m\u001B[0;34m\u001B[0m\u001B[0m\n\u001B[0;32m--> 375\u001B[0;31m     \u001B[0;32mreturn\u001B[0m \u001B[0mreader\u001B[0m\u001B[0;34m.\u001B[0m\u001B[0mExecute\u001B[0m\u001B[0;34m(\u001B[0m\u001B[0;34m)\u001B[0m\u001B[0;34m\u001B[0m\u001B[0;34m\u001B[0m\u001B[0m\n\u001B[0m",
      "\u001B[0;32m~/anaconda3/envs/UCANProject/lib/python3.11/site-packages/SimpleITK/SimpleITK.py\u001B[0m in \u001B[0;36m?\u001B[0;34m(self)\u001B[0m\n\u001B[1;32m   8426\u001B[0m         \u001B[0mtype\u001B[0m \u001B[0mto\u001B[0m \u001B[0mbe\u001B[0m \u001B[0msame\u001B[0m \u001B[0;32mas\u001B[0m \u001B[0mthe\u001B[0m \u001B[0mfile\u001B[0m\u001B[0;34m.\u001B[0m \u001B[0mIf\u001B[0m \u001B[0mthe\u001B[0m \u001B[0mpixel\u001B[0m \u001B[0mtype\u001B[0m \u001B[0;32mis\u001B[0m \u001B[0mspecified\u001B[0m \u001B[0mthen\u001B[0m \u001B[0mthe\u001B[0m \u001B[0mitk\u001B[0m\u001B[0;34m:\u001B[0m\u001B[0;34m:\u001B[0m\u001B[0mConvertPixelBuffer\u001B[0m \u001B[0mwill\u001B[0m \u001B[0mbe\u001B[0m \u001B[0mused\u001B[0m \u001B[0mto\u001B[0m \u001B[0mconvert\u001B[0m \u001B[0mthe\u001B[0m \u001B[0mpixels\u001B[0m\u001B[0;34m.\u001B[0m\u001B[0;34m\u001B[0m\u001B[0;34m\u001B[0m\u001B[0m\n\u001B[1;32m   8427\u001B[0m \u001B[0;34m\u001B[0m\u001B[0m\n\u001B[1;32m   8428\u001B[0m \u001B[0;34m\u001B[0m\u001B[0m\n\u001B[1;32m   8429\u001B[0m         \"\"\"\n\u001B[0;32m-> 8430\u001B[0;31m         \u001B[0;32mreturn\u001B[0m \u001B[0m_SimpleITK\u001B[0m\u001B[0;34m.\u001B[0m\u001B[0mImageFileReader_Execute\u001B[0m\u001B[0;34m(\u001B[0m\u001B[0mself\u001B[0m\u001B[0;34m)\u001B[0m\u001B[0;34m\u001B[0m\u001B[0;34m\u001B[0m\u001B[0m\n\u001B[0m",
      "\u001B[0;31mRuntimeError\u001B[0m: Exception thrown in SimpleITK ImageFileReader_Execute: /tmp/SimpleITK/Code/IO/src/sitkImageReaderBase.cxx:97:\nsitk::ERROR: The file \"E:/Sambit/Other_Projects/UCAN/Resampled_SUV_CT/lpr415675513429_SUV_CT/20190201/CT.nii.gz\" does not exist."
     ]
    }
   ],
   "source": [
    "sample_CT = sitk.ReadImage('E:/Sambit/Other_Projects/UCAN/Resampled_SUV_CT/lpr415675513429_SUV_CT/20190201/CT.nii.gz')\n",
    "sample_SUV = sitk.ReadImage('E:/Sambit/Other_Projects/UCAN/Resampled_SUV_CT/lpr415675513429_SUV_CT/20190201/SUV.nii.gz')"
   ]
  },
  {
   "cell_type": "code",
   "execution_count": 270,
   "metadata": {},
   "outputs": [
    {
     "name": "stdout",
     "output_type": "stream",
     "text": [
      "(256, 256, 341)\n",
      "(2.0364201068878174, 2.0364201068878174, 3.0)\n",
      "(0.0, 0.0, 0.0)\n",
      "(1.0, 0.0, 0.0, 0.0, 1.0, 0.0, 0.0, 0.0, 1.0)\n",
      "(256, 256, 341)\n",
      "(2.0364201068878174, 2.0364201068878174, 3.0)\n",
      "(0.0, 0.0, 0.0)\n",
      "(1.0, 0.0, 0.0, 0.0, 1.0, 0.0, 0.0, 0.0, 1.0)\n"
     ]
    }
   ],
   "source": [
    "print(sample_CT.GetSize())\n",
    "print(sample_CT.GetSpacing())\n",
    "print(sample_CT.GetOrigin())\n",
    "print(sample_CT.GetDirection())\n",
    "print(sample_SUV.GetSize())\n",
    "print(sample_SUV.GetSpacing())\n",
    "print(sample_SUV.GetOrigin())\n",
    "print(sample_SUV.GetDirection())"
   ]
  },
  {
   "cell_type": "code",
   "execution_count": 165,
   "metadata": {},
   "outputs": [
    {
     "name": "stdout",
     "output_type": "stream",
     "text": [
      "3000\n"
     ]
    },
    {
     "data": {
      "text/plain": [
       "-1024"
      ]
     },
     "execution_count": 165,
     "metadata": {},
     "output_type": "execute_result"
    }
   ],
   "source": [
    "#sample_CT = sitk.Clamp(sample_CT,upperBound=3000)\n",
    "#utils.save_as_gz(sample_CT, save_path+'2.nii.gz')\n",
    "sample_CT_arr = sitk.GetArrayFromImage(sample_CT)\n",
    "print(sample_CT_arr.max())\n",
    "\n",
    "(sample_CT_arr.min())"
   ]
  },
  {
   "cell_type": "code",
   "execution_count": 167,
   "metadata": {},
   "outputs": [
    {
     "data": {
      "text/plain": [
       "22347776"
      ]
     },
     "execution_count": 167,
     "metadata": {},
     "output_type": "execute_result"
    }
   ],
   "source": [
    "sample_CT_arr.size"
   ]
  },
  {
   "cell_type": "code",
   "execution_count": 168,
   "metadata": {},
   "outputs": [
    {
     "data": {
      "text/plain": [
       "3737773"
      ]
     },
     "execution_count": 168,
     "metadata": {},
     "output_type": "execute_result"
    }
   ],
   "source": [
    "sample_CT_arr[sample_CT_arr==0].size"
   ]
  },
  {
   "cell_type": "code",
   "execution_count": 50,
   "metadata": {},
   "outputs": [
    {
     "name": "stdout",
     "output_type": "stream",
     "text": [
      "3071\n"
     ]
    },
    {
     "data": {
      "text/plain": [
       "-1024"
      ]
     },
     "execution_count": 50,
     "metadata": {},
     "output_type": "execute_result"
    }
   ],
   "source": [
    "\n",
    "sample_CT = sitk.ReadImage('/media/andres/T7/Sambit/Other_Projects/UCAN/Resampled_SUV_CT/npr100169878450_SUV_CT/20130412/CT.nii.gz')\n",
    "sample_CT_arr = sitk.GetArrayFromImage(sample_CT)\n",
    "print(sample_CT_arr.max())\n",
    "\n",
    "(sample_CT_arr.min())\n",
    "\n",
    "sample_CT_arr[sample_CT_arr < -1024] = -1024\n",
    "\n",
    "sample_CT_arr.min()"
   ]
  },
  {
   "cell_type": "code",
   "execution_count": null,
   "metadata": {},
   "outputs": [],
   "source": []
  },
  {
   "cell_type": "code",
   "execution_count": 129,
   "metadata": {},
   "outputs": [
    {
     "ename": "TypeError",
     "evalue": "Invalid shape (256, 256, 341) for image data",
     "output_type": "error",
     "traceback": [
      "\u001B[1;31m---------------------------------------------------------------------------\u001B[0m",
      "\u001B[1;31mTypeError\u001B[0m                                 Traceback (most recent call last)",
      "\u001B[1;32mc:\\Users\\asch4890\\Documents\\UCAN\\UCAN-PET-CT-image-data-handling-pipeline\\Task1_3\\Resample_SUV_and_CT_images.ipynb Cell 23\u001B[0m line \u001B[0;36m1\n\u001B[1;32m----> <a href='vscode-notebook-cell:/c%3A/Users/asch4890/Documents/UCAN/UCAN-PET-CT-image-data-handling-pipeline/Task1_3/Resample_SUV_and_CT_images.ipynb#Y103sZmlsZQ%3D%3D?line=0'>1</a>\u001B[0m plt\u001B[39m.\u001B[39;49mimshow(sample_CT_arr\u001B[39m.\u001B[39;49mtranspose(\u001B[39m1\u001B[39;49m,\u001B[39m2\u001B[39;49m,\u001B[39m0\u001B[39;49m))\n",
      "File \u001B[1;32mc:\\Users\\asch4890\\AppData\\Local\\anaconda3\\envs\\dlfia\\lib\\site-packages\\matplotlib\\pyplot.py:2695\u001B[0m, in \u001B[0;36mimshow\u001B[1;34m(X, cmap, norm, aspect, interpolation, alpha, vmin, vmax, origin, extent, interpolation_stage, filternorm, filterrad, resample, url, data, **kwargs)\u001B[0m\n\u001B[0;32m   2689\u001B[0m \u001B[39m@_copy_docstring_and_deprecators\u001B[39m(Axes\u001B[39m.\u001B[39mimshow)\n\u001B[0;32m   2690\u001B[0m \u001B[39mdef\u001B[39;00m \u001B[39mimshow\u001B[39m(\n\u001B[0;32m   2691\u001B[0m         X, cmap\u001B[39m=\u001B[39m\u001B[39mNone\u001B[39;00m, norm\u001B[39m=\u001B[39m\u001B[39mNone\u001B[39;00m, \u001B[39m*\u001B[39m, aspect\u001B[39m=\u001B[39m\u001B[39mNone\u001B[39;00m, interpolation\u001B[39m=\u001B[39m\u001B[39mNone\u001B[39;00m,\n\u001B[0;32m   2692\u001B[0m         alpha\u001B[39m=\u001B[39m\u001B[39mNone\u001B[39;00m, vmin\u001B[39m=\u001B[39m\u001B[39mNone\u001B[39;00m, vmax\u001B[39m=\u001B[39m\u001B[39mNone\u001B[39;00m, origin\u001B[39m=\u001B[39m\u001B[39mNone\u001B[39;00m, extent\u001B[39m=\u001B[39m\u001B[39mNone\u001B[39;00m,\n\u001B[0;32m   2693\u001B[0m         interpolation_stage\u001B[39m=\u001B[39m\u001B[39mNone\u001B[39;00m, filternorm\u001B[39m=\u001B[39m\u001B[39mTrue\u001B[39;00m, filterrad\u001B[39m=\u001B[39m\u001B[39m4.0\u001B[39m,\n\u001B[0;32m   2694\u001B[0m         resample\u001B[39m=\u001B[39m\u001B[39mNone\u001B[39;00m, url\u001B[39m=\u001B[39m\u001B[39mNone\u001B[39;00m, data\u001B[39m=\u001B[39m\u001B[39mNone\u001B[39;00m, \u001B[39m*\u001B[39m\u001B[39m*\u001B[39mkwargs):\n\u001B[1;32m-> 2695\u001B[0m     __ret \u001B[39m=\u001B[39m gca()\u001B[39m.\u001B[39mimshow(\n\u001B[0;32m   2696\u001B[0m         X, cmap\u001B[39m=\u001B[39mcmap, norm\u001B[39m=\u001B[39mnorm, aspect\u001B[39m=\u001B[39maspect,\n\u001B[0;32m   2697\u001B[0m         interpolation\u001B[39m=\u001B[39minterpolation, alpha\u001B[39m=\u001B[39malpha, vmin\u001B[39m=\u001B[39mvmin,\n\u001B[0;32m   2698\u001B[0m         vmax\u001B[39m=\u001B[39mvmax, origin\u001B[39m=\u001B[39morigin, extent\u001B[39m=\u001B[39mextent,\n\u001B[0;32m   2699\u001B[0m         interpolation_stage\u001B[39m=\u001B[39minterpolation_stage,\n\u001B[0;32m   2700\u001B[0m         filternorm\u001B[39m=\u001B[39mfilternorm, filterrad\u001B[39m=\u001B[39mfilterrad, resample\u001B[39m=\u001B[39mresample,\n\u001B[0;32m   2701\u001B[0m         url\u001B[39m=\u001B[39murl, \u001B[39m*\u001B[39m\u001B[39m*\u001B[39m({\u001B[39m\"\u001B[39m\u001B[39mdata\u001B[39m\u001B[39m\"\u001B[39m: data} \u001B[39mif\u001B[39;00m data \u001B[39mis\u001B[39;00m \u001B[39mnot\u001B[39;00m \u001B[39mNone\u001B[39;00m \u001B[39melse\u001B[39;00m {}),\n\u001B[0;32m   2702\u001B[0m         \u001B[39m*\u001B[39m\u001B[39m*\u001B[39mkwargs)\n\u001B[0;32m   2703\u001B[0m     sci(__ret)\n\u001B[0;32m   2704\u001B[0m     \u001B[39mreturn\u001B[39;00m __ret\n",
      "File \u001B[1;32mc:\\Users\\asch4890\\AppData\\Local\\anaconda3\\envs\\dlfia\\lib\\site-packages\\matplotlib\\__init__.py:1459\u001B[0m, in \u001B[0;36m_preprocess_data.<locals>.inner\u001B[1;34m(ax, data, *args, **kwargs)\u001B[0m\n\u001B[0;32m   1456\u001B[0m \u001B[39m@functools\u001B[39m\u001B[39m.\u001B[39mwraps(func)\n\u001B[0;32m   1457\u001B[0m \u001B[39mdef\u001B[39;00m \u001B[39minner\u001B[39m(ax, \u001B[39m*\u001B[39margs, data\u001B[39m=\u001B[39m\u001B[39mNone\u001B[39;00m, \u001B[39m*\u001B[39m\u001B[39m*\u001B[39mkwargs):\n\u001B[0;32m   1458\u001B[0m     \u001B[39mif\u001B[39;00m data \u001B[39mis\u001B[39;00m \u001B[39mNone\u001B[39;00m:\n\u001B[1;32m-> 1459\u001B[0m         \u001B[39mreturn\u001B[39;00m func(ax, \u001B[39m*\u001B[39m\u001B[39mmap\u001B[39m(sanitize_sequence, args), \u001B[39m*\u001B[39m\u001B[39m*\u001B[39mkwargs)\n\u001B[0;32m   1461\u001B[0m     bound \u001B[39m=\u001B[39m new_sig\u001B[39m.\u001B[39mbind(ax, \u001B[39m*\u001B[39margs, \u001B[39m*\u001B[39m\u001B[39m*\u001B[39mkwargs)\n\u001B[0;32m   1462\u001B[0m     auto_label \u001B[39m=\u001B[39m (bound\u001B[39m.\u001B[39marguments\u001B[39m.\u001B[39mget(label_namer)\n\u001B[0;32m   1463\u001B[0m                   \u001B[39mor\u001B[39;00m bound\u001B[39m.\u001B[39mkwargs\u001B[39m.\u001B[39mget(label_namer))\n",
      "File \u001B[1;32mc:\\Users\\asch4890\\AppData\\Local\\anaconda3\\envs\\dlfia\\lib\\site-packages\\matplotlib\\axes\\_axes.py:5665\u001B[0m, in \u001B[0;36mAxes.imshow\u001B[1;34m(self, X, cmap, norm, aspect, interpolation, alpha, vmin, vmax, origin, extent, interpolation_stage, filternorm, filterrad, resample, url, **kwargs)\u001B[0m\n\u001B[0;32m   5657\u001B[0m \u001B[39mself\u001B[39m\u001B[39m.\u001B[39mset_aspect(aspect)\n\u001B[0;32m   5658\u001B[0m im \u001B[39m=\u001B[39m mimage\u001B[39m.\u001B[39mAxesImage(\u001B[39mself\u001B[39m, cmap\u001B[39m=\u001B[39mcmap, norm\u001B[39m=\u001B[39mnorm,\n\u001B[0;32m   5659\u001B[0m                       interpolation\u001B[39m=\u001B[39minterpolation, origin\u001B[39m=\u001B[39morigin,\n\u001B[0;32m   5660\u001B[0m                       extent\u001B[39m=\u001B[39mextent, filternorm\u001B[39m=\u001B[39mfilternorm,\n\u001B[0;32m   5661\u001B[0m                       filterrad\u001B[39m=\u001B[39mfilterrad, resample\u001B[39m=\u001B[39mresample,\n\u001B[0;32m   5662\u001B[0m                       interpolation_stage\u001B[39m=\u001B[39minterpolation_stage,\n\u001B[0;32m   5663\u001B[0m                       \u001B[39m*\u001B[39m\u001B[39m*\u001B[39mkwargs)\n\u001B[1;32m-> 5665\u001B[0m im\u001B[39m.\u001B[39;49mset_data(X)\n\u001B[0;32m   5666\u001B[0m im\u001B[39m.\u001B[39mset_alpha(alpha)\n\u001B[0;32m   5667\u001B[0m \u001B[39mif\u001B[39;00m im\u001B[39m.\u001B[39mget_clip_path() \u001B[39mis\u001B[39;00m \u001B[39mNone\u001B[39;00m:\n\u001B[0;32m   5668\u001B[0m     \u001B[39m# image does not already have clipping set, clip to axes patch\u001B[39;00m\n",
      "File \u001B[1;32mc:\\Users\\asch4890\\AppData\\Local\\anaconda3\\envs\\dlfia\\lib\\site-packages\\matplotlib\\image.py:710\u001B[0m, in \u001B[0;36m_ImageBase.set_data\u001B[1;34m(self, A)\u001B[0m\n\u001B[0;32m    706\u001B[0m     \u001B[39mself\u001B[39m\u001B[39m.\u001B[39m_A \u001B[39m=\u001B[39m \u001B[39mself\u001B[39m\u001B[39m.\u001B[39m_A[:, :, \u001B[39m0\u001B[39m]\n\u001B[0;32m    708\u001B[0m \u001B[39mif\u001B[39;00m \u001B[39mnot\u001B[39;00m (\u001B[39mself\u001B[39m\u001B[39m.\u001B[39m_A\u001B[39m.\u001B[39mndim \u001B[39m==\u001B[39m \u001B[39m2\u001B[39m\n\u001B[0;32m    709\u001B[0m         \u001B[39mor\u001B[39;00m \u001B[39mself\u001B[39m\u001B[39m.\u001B[39m_A\u001B[39m.\u001B[39mndim \u001B[39m==\u001B[39m \u001B[39m3\u001B[39m \u001B[39mand\u001B[39;00m \u001B[39mself\u001B[39m\u001B[39m.\u001B[39m_A\u001B[39m.\u001B[39mshape[\u001B[39m-\u001B[39m\u001B[39m1\u001B[39m] \u001B[39min\u001B[39;00m [\u001B[39m3\u001B[39m, \u001B[39m4\u001B[39m]):\n\u001B[1;32m--> 710\u001B[0m     \u001B[39mraise\u001B[39;00m \u001B[39mTypeError\u001B[39;00m(\u001B[39m\"\u001B[39m\u001B[39mInvalid shape \u001B[39m\u001B[39m{}\u001B[39;00m\u001B[39m for image data\u001B[39m\u001B[39m\"\u001B[39m\n\u001B[0;32m    711\u001B[0m                     \u001B[39m.\u001B[39mformat(\u001B[39mself\u001B[39m\u001B[39m.\u001B[39m_A\u001B[39m.\u001B[39mshape))\n\u001B[0;32m    713\u001B[0m \u001B[39mif\u001B[39;00m \u001B[39mself\u001B[39m\u001B[39m.\u001B[39m_A\u001B[39m.\u001B[39mndim \u001B[39m==\u001B[39m \u001B[39m3\u001B[39m:\n\u001B[0;32m    714\u001B[0m     \u001B[39m# If the input data has values outside the valid range (after\u001B[39;00m\n\u001B[0;32m    715\u001B[0m     \u001B[39m# normalisation), we issue a warning and then clip X to the bounds\u001B[39;00m\n\u001B[0;32m    716\u001B[0m     \u001B[39m# - otherwise casting wraps extreme values, hiding outliers and\u001B[39;00m\n\u001B[0;32m    717\u001B[0m     \u001B[39m# making reliable interpretation impossible.\u001B[39;00m\n\u001B[0;32m    718\u001B[0m     high \u001B[39m=\u001B[39m \u001B[39m255\u001B[39m \u001B[39mif\u001B[39;00m np\u001B[39m.\u001B[39missubdtype(\u001B[39mself\u001B[39m\u001B[39m.\u001B[39m_A\u001B[39m.\u001B[39mdtype, np\u001B[39m.\u001B[39minteger) \u001B[39melse\u001B[39;00m \u001B[39m1\u001B[39m\n",
      "\u001B[1;31mTypeError\u001B[0m: Invalid shape (256, 256, 341) for image data"
     ]
    },
    {
     "data": {
      "image/png": "[encoded data removed]",
      "text/plain": [
       "<Figure size 640x480 with 1 Axes>"
      ]
     },
     "metadata": {},
     "output_type": "display_data"
    }
   ],
   "source": [
    "plt.imshow(sample_CT_arr.transpose(1,2,0))"
   ]
  },
  {
   "cell_type": "code",
   "execution_count": null,
   "metadata": {},
   "outputs": [],
   "source": []
  }
 ],
 "metadata": {
  "kernelspec": {
   "display_name": "dlfia",
   "language": "python",
   "name": "python3"
  },
  "language_info": {
   "codemirror_mode": {
    "name": "ipython",
    "version": 3
   },
   "file_extension": ".py",
   "mimetype": "text/x-python",
   "name": "python",
   "nbconvert_exporter": "python",
   "pygments_lexer": "ipython3",
   "version": "3.11.5"
  },
  "orig_nbformat": 4
 },
 "nbformat": 4,
 "nbformat_minor": 2
}
