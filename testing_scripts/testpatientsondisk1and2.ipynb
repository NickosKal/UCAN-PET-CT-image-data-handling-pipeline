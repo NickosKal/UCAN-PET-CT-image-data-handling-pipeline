{
 "cells": [
  {
   "cell_type": "code",
   "execution_count": 1,
   "metadata": {},
   "outputs": [],
   "source": [
    "import numpy as np\n",
    "import pandas as pd\n",
    "import os\n",
    "import sys\n",
    "import shutil"
   ]
  },
  {
   "cell_type": "code",
   "execution_count": 2,
   "metadata": {},
   "outputs": [],
   "source": [
    "parent_dir = os.path.abspath('..')\n",
    "if parent_dir not in sys.path:\n",
    "    sys.path.append(parent_dir)\n",
    "\n",
    "from Utils import utils"
   ]
  },
  {
   "cell_type": "code",
   "execution_count": 3,
   "metadata": {},
   "outputs": [
    {
     "data": {
      "text/plain": [
       "'/home/andres/VSCode/UCAN-PET-CT-image-data-handling-pipeline'"
      ]
     },
     "execution_count": 3,
     "metadata": {},
     "output_type": "execute_result"
    }
   ],
   "source": [
    "parent_dir"
   ]
  },
  {
   "cell_type": "code",
   "execution_count": 3,
   "metadata": {},
   "outputs": [
    {
     "data": {
      "text/plain": [
       "{'common': {'paths': {'source_path_wd': 'E:/U-CAN-Lymfom_A',\n",
       "   'source_path_bd': 'F:/ucan_lymfom'}},\n",
       " 'selection': {'filenames': {'rejected_folder_filename': 'Rejected_exams_from_U-CAN-Lymfom.xlsx',\n",
       "   'sourcefiltered_folder_filename': 'SourceFiltered_exams_from_U-CAN-Lymfom.xlsx',\n",
       "   'incomplete_folders_filename_initial': 'No_PTorCT_exams_from_U-CAN-Lymfom1.xlsx',\n",
       "   'incomplete_folders_filename_final': 'No_PTorCT_exams_from_U-CAN-Lymfom2.xlsx',\n",
       "   'selected_folders_beforefiltering_filename': 'Selected_exams_beforefiltering_from_U-CAN-Lymfom.xlsx',\n",
       "   'selected_folders_afterfiltering_filename': 'Selected_exams_afterfiltering_from_U-CAN-Lymfom.xlsx',\n",
       "   'final_selected_images_filename': 'FinalSelected_exams_from_U-CAN-Lymfom.xlsx',\n",
       "   'list_of_distorted_images_filename': 'Distorted_exams_from_U-CAN-Lymfom.xlsx'}},\n",
       " 'metadata': {'filenames': {'final_selected_images_filename': 'Finalized_dataset.xlsx'}},\n",
       " 'resampling': {'voxel_spacing': [2, 2, 3], 'image_size': [256, 256, 256]},\n",
       " 'projections': {'paths': {'destination_path': 'Selected_for_UCAN_project/2dprojections'},\n",
       "  'variables': {'modality': ['CT', 'PET', 'SUV'],\n",
       "   'tissue_type': ['LT', 'AT', 'LT', 'B', 'N'],\n",
       "   'projection_type': ['sum', 'min', 'max', 'mean', 'std']}}}"
      ]
     },
     "execution_count": 3,
     "metadata": {},
     "output_type": "execute_result"
    }
   ],
   "source": [
    "config = utils.read_config()\n",
    "config"
   ]
  },
  {
   "cell_type": "code",
   "execution_count": 4,
   "metadata": {},
   "outputs": [],
   "source": [
    "#source_path_wd = \"/media/andres/T7 Shield1/U-CAN-Lymfom_A/Selected_for_UCAN_project\"\n",
    "#source_path_bd = \"/media/andres/T7 Shield/ucan_lymfom\"\n",
    "\n",
    "source_path_wd = config['common']['paths']['source_path_wd']\n",
    "source_path_bd = config['common']['paths']['source_path_bd']\n",
    "\n",
    "master_data_wd_filename = config['metadata']['filenames']['final_selected_images_filename']\n",
    "master_data_bd_filename = config['metadata']['filenames']['final_selected_images_filename']\n"
   ]
  },
  {
   "cell_type": "code",
   "execution_count": 5,
   "metadata": {},
   "outputs": [],
   "source": [
    "rejected_folder_filename = config['selection']['filenames']['rejected_folder_filename']\n",
    "sourcefiltered_folder_filename = config['selection']['filenames']['sourcefiltered_folder_filename']\n",
    "incomplete_folders_filename_initial = config['selection']['filenames']['incomplete_folders_filename_initial']\n",
    "incomplete_folders_filename_final = config['selection']['filenames']['incomplete_folders_filename_final']\n",
    "selected_folders_beforefiltering_filename = config['selection']['filenames']['selected_folders_beforefiltering_filename']\n",
    "selected_folders_afterfiltering_filename = config['selection']['filenames']['selected_folders_afterfiltering_filename']\n",
    "final_selected_images_filename = config['selection']['filenames']['final_selected_images_filename']\n",
    "list_of_distorted_images_filename = config['selection']['filenames']['list_of_distorted_images_filename']"
   ]
  },
  {
   "cell_type": "code",
   "execution_count": 6,
   "metadata": {},
   "outputs": [],
   "source": [
    "# Path for files on white disk - 1st dateset\n",
    "\n",
    "rejected_folder_path_wd = os.path.join(source_path_wd, rejected_folder_filename)\n",
    "sourcefiltered_folder_path_wd = os.path.join(source_path_wd, sourcefiltered_folder_filename)\n",
    "incomplete_folders_path1_wd = os.path.join(source_path_wd, incomplete_folders_filename_initial)\n",
    "incomplete_folders_path2_wd = os.path.join(source_path_wd, incomplete_folders_filename_final)\n",
    "selected_folders_beforefiltering_wd = os.path.join(source_path_wd, selected_folders_beforefiltering_filename)\n",
    "selected_folders_afterfiltering_wd = os.path.join(source_path_wd, selected_folders_afterfiltering_filename)\n",
    "final_selected_folders_wd = os.path.join(source_path_wd, final_selected_images_filename)\n",
    "list_of_distorted_images_wd = os.path.join(source_path_wd, list_of_distorted_images_filename)\n",
    "\n",
    "# Path for files on black disk - 2nd dataset\n",
    "\n",
    "rejected_folder_path_bd = os.path.join(source_path_bd, rejected_folder_filename)\n",
    "sourcefiltered_folder_path_bd = os.path.join(source_path_bd, sourcefiltered_folder_filename)\n",
    "incomplete_folders_path1_bd = os.path.join(source_path_bd, incomplete_folders_filename_initial)\n",
    "incomplete_folders_path2_bd = os.path.join(source_path_bd, incomplete_folders_filename_final)\n",
    "selected_folders_beforefiltering_bd = os.path.join(source_path_bd, selected_folders_beforefiltering_filename)\n",
    "selected_folders_afterfiltering_bd = os.path.join(source_path_bd, selected_folders_afterfiltering_filename)\n",
    "final_selected_folders_bd = os.path.join(source_path_bd, final_selected_images_filename)\n",
    "list_of_distorted_images_bd = os.path.join(source_path_bd, list_of_distorted_images_filename)"
   ]
  },
  {
   "cell_type": "code",
   "execution_count": null,
   "metadata": {},
   "outputs": [
    {
     "data": {
      "text/html": [
       "<div>\n",
       "<style scoped>\n",
       "    .dataframe tbody tr th:only-of-type {\n",
       "        vertical-align: middle;\n",
       "    }\n",
       "\n",
       "    .dataframe tbody tr th {\n",
       "        vertical-align: top;\n",
       "    }\n",
       "\n",
       "    .dataframe thead th {\n",
       "        text-align: right;\n",
       "    }\n",
       "</style>\n",
       "<table border=\"1\" class=\"dataframe\">\n",
       "  <thead>\n",
       "    <tr style=\"text-align: right;\">\n",
       "      <th></th>\n",
       "      <th>patient_directory</th>\n",
       "      <th>SUV</th>\n",
       "      <th>CT</th>\n",
       "      <th>new_size</th>\n",
       "    </tr>\n",
       "  </thead>\n",
       "  <tbody>\n",
       "    <tr>\n",
       "      <th>0</th>\n",
       "      <td>ASPTCTX0001_lpr415675513429-20190201</td>\n",
       "      <td>PT-20190201-101500-3.5_WB_FDG_CT_VENFAS-QCFX-S_400-2.7900mm</td>\n",
       "      <td>CT-20190201-103111-3.5_WB_FDG_CT_VENFAS-WB_Venfas_3_ax-3.000000mm</td>\n",
       "      <td>[256, 256, 341]</td>\n",
       "    </tr>\n",
       "  </tbody>\n",
       "</table>\n",
       "</div>"
      ],
      "text/plain": [
       "                      patient_directory  \\\n",
       "0  ASPTCTX0001_lpr415675513429-20190201   \n",
       "\n",
       "                                                           SUV  \\\n",
       "0  PT-20190201-101500-3.5_WB_FDG_CT_VENFAS-QCFX-S_400-2.7900mm   \n",
       "\n",
       "                                                                  CT  \\\n",
       "0  CT-20190201-103111-3.5_WB_FDG_CT_VENFAS-WB_Venfas_3_ax-3.000000mm   \n",
       "\n",
       "          new_size  \n",
       "0  [256, 256, 341]  "
      ]
     },
     "metadata": {},
     "output_type": "display_data"
    }
   ],
   "source": [
    "for index, row in master_data_bd_filtered.iterrows():\n",
    "    #print(index, row['patient_directory'], row['PET-CT_info'])\n",
    "    #if index == 2:\n",
    "    #    break\n",
    "    \n",
    "    if row['modality']=='CT':        \n",
    "        resampled_SUV_CT_df.loc[resampled_SUV_CT_df['patient_directory'] == row['patient_directory'], 'CT'] = row['PET-CT_info']\n",
    "\n",
    "        vol_img = utils.read_dicom(row['directory'])\n",
    "        image_size = vol_img.GetSize()\n",
    "\n",
    "        new_size = resampled_SUV_CT_df.loc[resampled_SUV_CT_df['patient_directory'] == row['patient_directory'], 'new_size'][0]\n",
    "        #print(new_size)\n",
    "\n",
    "        vol_img = sitk.Resample(vol_img, new_size, sitk.Transform(), sitk.sitkLinear,\n",
    "                            vol_img.GetOrigin(), config_spacing, vol_img.GetDirection(), 0,\n",
    "                            vol_img.GetPixelID())\n",
    "        \n",
    "        save_path= 'E:/Sambit/Other_Projects/UCAN/Resampled_SUV_CT/' + str(row['npr']) + '_SUV_CT/' + str(row['scan_date']) + '/' + 'CT_' +  str(row['PET-CT_info'])[3:]\n",
    "        utils.save_as_gz(vol_img, save_path+'.nii.gz')\n",
    "        \n",
    "resampled_SUV_CT_df.head(2)"
   ]
  },
  {
   "cell_type": "code",
   "execution_count": 47,
   "metadata": {},
   "outputs": [
    {
     "name": "stdout",
     "output_type": "stream",
     "text": [
      "Reading master data for white disk\n",
      "(1340, 45)\n"
     ]
    },
    {
     "data": {
      "text/html": [
       "<div>\n",
       "<style scoped>\n",
       "    .dataframe tbody tr th:only-of-type {\n",
       "        vertical-align: middle;\n",
       "    }\n",
       "\n",
       "    .dataframe tbody tr th {\n",
       "        vertical-align: top;\n",
       "    }\n",
       "\n",
       "    .dataframe thead th {\n",
       "        text-align: right;\n",
       "    }\n",
       "</style>\n",
       "<table border=\"1\" class=\"dataframe\">\n",
       "  <thead>\n",
       "    <tr style=\"text-align: right;\">\n",
       "      <th></th>\n",
       "      <th>Unnamed: 0</th>\n",
       "      <th>Unnamed: 0_x</th>\n",
       "      <th>directory</th>\n",
       "      <th>source_directory</th>\n",
       "      <th>patient_directory</th>\n",
       "      <th>PET-CT_info</th>\n",
       "      <th>system</th>\n",
       "      <th>npr</th>\n",
       "      <th>scan_date</th>\n",
       "      <th>Unnamed: 0_y</th>\n",
       "      <th>...</th>\n",
       "      <th>modality</th>\n",
       "      <th>manufacturer</th>\n",
       "      <th>manufacturer_model</th>\n",
       "      <th>radiopharmaceutical</th>\n",
       "      <th>radiopharmaceutical_volume</th>\n",
       "      <th>radiopharmaceutical_start_time</th>\n",
       "      <th>radionuclide_total_dose</th>\n",
       "      <th>radionuclide_half_life</th>\n",
       "      <th>radionuclide_positron_fraction</th>\n",
       "      <th>radiopharmaceutical_start_date_time</th>\n",
       "    </tr>\n",
       "  </thead>\n",
       "  <tbody>\n",
       "    <tr>\n",
       "      <th>0</th>\n",
       "      <td>0</td>\n",
       "      <td>1319</td>\n",
       "      <td>/media/andres/T7 Shield/U-CAN-Lymfom_A/Raw_DCM...</td>\n",
       "      <td>/media/andres/T7 Shield/U-CAN-Lymfom_A/Raw_DCM...</td>\n",
       "      <td>ASPTCTX0001_npr100169878450-20130412</td>\n",
       "      <td>CT-20130412-103438-6.1-UAS-WB-FDG-3D-STANDARD-...</td>\n",
       "      <td>ASPTCTX0001</td>\n",
       "      <td>npr100169878450</td>\n",
       "      <td>20130412</td>\n",
       "      <td>5717</td>\n",
       "      <td>...</td>\n",
       "      <td>CT</td>\n",
       "      <td>'GE MEDICAL SYSTEMS'</td>\n",
       "      <td>'Discovery STE'</td>\n",
       "      <td>NaN</td>\n",
       "      <td>NaN</td>\n",
       "      <td>NaN</td>\n",
       "      <td>NaN</td>\n",
       "      <td>NaN</td>\n",
       "      <td>NaN</td>\n",
       "      <td>NaN</td>\n",
       "    </tr>\n",
       "    <tr>\n",
       "      <th>1</th>\n",
       "      <td>1</td>\n",
       "      <td>1318</td>\n",
       "      <td>/media/andres/T7 Shield/U-CAN-Lymfom_A/Raw_DCM...</td>\n",
       "      <td>/media/andres/T7 Shield/U-CAN-Lymfom_A/Raw_DCM...</td>\n",
       "      <td>ASPTCTX0001_npr100169878450-20130412</td>\n",
       "      <td>PT-20130412-103617-UAS-WB-FDG-3D-UAS-WB-FDG-3D...</td>\n",
       "      <td>ASPTCTX0001</td>\n",
       "      <td>npr100169878450</td>\n",
       "      <td>20130412</td>\n",
       "      <td>5718</td>\n",
       "      <td>...</td>\n",
       "      <td>PT</td>\n",
       "      <td>'GE MEDICAL SYSTEMS'</td>\n",
       "      <td>'Discovery STE'</td>\n",
       "      <td>'FDG -- fluorodeoxyglucose'</td>\n",
       "      <td>'0.0'</td>\n",
       "      <td>'093300.00'</td>\n",
       "      <td>'347633344.0'</td>\n",
       "      <td>'6588.0'</td>\n",
       "      <td>'0.97000002861023'</td>\n",
       "      <td>'20130412093300.00'</td>\n",
       "    </tr>\n",
       "  </tbody>\n",
       "</table>\n",
       "<p>2 rows × 45 columns</p>\n",
       "</div>"
      ],
      "text/plain": [
       "   Unnamed: 0  Unnamed: 0_x  \\\n",
       "0           0          1319   \n",
       "1           1          1318   \n",
       "\n",
       "                                           directory  \\\n",
       "0  /media/andres/T7 Shield/U-CAN-Lymfom_A/Raw_DCM...   \n",
       "1  /media/andres/T7 Shield/U-CAN-Lymfom_A/Raw_DCM...   \n",
       "\n",
       "                                    source_directory  \\\n",
       "0  /media/andres/T7 Shield/U-CAN-Lymfom_A/Raw_DCM...   \n",
       "1  /media/andres/T7 Shield/U-CAN-Lymfom_A/Raw_DCM...   \n",
       "\n",
       "                      patient_directory  \\\n",
       "0  ASPTCTX0001_npr100169878450-20130412   \n",
       "1  ASPTCTX0001_npr100169878450-20130412   \n",
       "\n",
       "                                         PET-CT_info       system  \\\n",
       "0  CT-20130412-103438-6.1-UAS-WB-FDG-3D-STANDARD-...  ASPTCTX0001   \n",
       "1  PT-20130412-103617-UAS-WB-FDG-3D-UAS-WB-FDG-3D...  ASPTCTX0001   \n",
       "\n",
       "               npr scan_date  Unnamed: 0_y  ... modality  \\\n",
       "0  npr100169878450  20130412          5717  ...       CT   \n",
       "1  npr100169878450  20130412          5718  ...       PT   \n",
       "\n",
       "            manufacturer  manufacturer_model           radiopharmaceutical  \\\n",
       "0   'GE MEDICAL SYSTEMS'     'Discovery STE'                           NaN   \n",
       "1   'GE MEDICAL SYSTEMS'     'Discovery STE'   'FDG -- fluorodeoxyglucose'   \n",
       "\n",
       "  radiopharmaceutical_volume  radiopharmaceutical_start_time  \\\n",
       "0                        NaN                             NaN   \n",
       "1                      '0.0'                     '093300.00'   \n",
       "\n",
       "   radionuclide_total_dose  radionuclide_half_life  \\\n",
       "0                      NaN                     NaN   \n",
       "1            '347633344.0'                '6588.0'   \n",
       "\n",
       "   radionuclide_positron_fraction  radiopharmaceutical_start_date_time  \n",
       "0                             NaN                                  NaN  \n",
       "1              '0.97000002861023'                  '20130412093300.00'  \n",
       "\n",
       "[2 rows x 45 columns]"
      ]
     },
     "execution_count": 47,
     "metadata": {},
     "output_type": "execute_result"
    }
   ],
   "source": [
    "# master_data for white disk\n",
    "print(\"Reading master data for white disk\")\n",
    "master_data_wd = pd.read_excel(os.path.join(source_path_wd, master_data_bd_filename))\n",
    "#master_data_wd[['system', 'npr', 'scan_date']]= master_data_wd['patient_directory'].str.split(pat='_|-', n=2, expand=True)\n",
    "print(master_data_wd.shape)\n",
    "master_data_wd.head(2)"
   ]
  },
  {
   "cell_type": "code",
   "execution_count": 56,
   "metadata": {},
   "outputs": [
    {
     "name": "stdout",
     "output_type": "stream",
     "text": [
      "Reading master data for black disk\n",
      "(2264, 45)\n"
     ]
    },
    {
     "data": {
      "text/html": [
       "<div>\n",
       "<style scoped>\n",
       "    .dataframe tbody tr th:only-of-type {\n",
       "        vertical-align: middle;\n",
       "    }\n",
       "\n",
       "    .dataframe tbody tr th {\n",
       "        vertical-align: top;\n",
       "    }\n",
       "\n",
       "    .dataframe thead th {\n",
       "        text-align: right;\n",
       "    }\n",
       "</style>\n",
       "<table border=\"1\" class=\"dataframe\">\n",
       "  <thead>\n",
       "    <tr style=\"text-align: right;\">\n",
       "      <th></th>\n",
       "      <th>Unnamed: 0</th>\n",
       "      <th>Unnamed: 0_x</th>\n",
       "      <th>directory</th>\n",
       "      <th>source_directory</th>\n",
       "      <th>patient_directory</th>\n",
       "      <th>PET-CT_info</th>\n",
       "      <th>system</th>\n",
       "      <th>npr</th>\n",
       "      <th>scan_date</th>\n",
       "      <th>Unnamed: 0_y</th>\n",
       "      <th>...</th>\n",
       "      <th>modality</th>\n",
       "      <th>manufacturer</th>\n",
       "      <th>manufacturer_model</th>\n",
       "      <th>radiopharmaceutical</th>\n",
       "      <th>radiopharmaceutical_volume</th>\n",
       "      <th>radiopharmaceutical_start_time</th>\n",
       "      <th>radionuclide_total_dose</th>\n",
       "      <th>radionuclide_half_life</th>\n",
       "      <th>radionuclide_positron_fraction</th>\n",
       "      <th>radiopharmaceutical_start_date_time</th>\n",
       "    </tr>\n",
       "  </thead>\n",
       "  <tbody>\n",
       "    <tr>\n",
       "      <th>0</th>\n",
       "      <td>0</td>\n",
       "      <td>2096</td>\n",
       "      <td>F:/ucan_lymfom/ASPTCTX0001_lpr385705046400-201...</td>\n",
       "      <td>F:/ucan_lymfom</td>\n",
       "      <td>ASPTCTX0001_lpr385705046400-20140313</td>\n",
       "      <td>CT-20140313-152551-6.1_UAS-WB-FDG-3D-STANDARD_...</td>\n",
       "      <td>ASPTCTX0001</td>\n",
       "      <td>lpr385705046400</td>\n",
       "      <td>20140313</td>\n",
       "      <td>13743</td>\n",
       "      <td>...</td>\n",
       "      <td>CT</td>\n",
       "      <td>'GE MEDICAL SYSTEMS'</td>\n",
       "      <td>'Discovery STE'</td>\n",
       "      <td>NaN</td>\n",
       "      <td>NaN</td>\n",
       "      <td>NaN</td>\n",
       "      <td>NaN</td>\n",
       "      <td>NaN</td>\n",
       "      <td>NaN</td>\n",
       "      <td>NaN</td>\n",
       "    </tr>\n",
       "    <tr>\n",
       "      <th>1</th>\n",
       "      <td>1</td>\n",
       "      <td>2095</td>\n",
       "      <td>F:/ucan_lymfom/ASPTCTX0001_lpr385705046400-201...</td>\n",
       "      <td>F:/ucan_lymfom</td>\n",
       "      <td>ASPTCTX0001_lpr385705046400-20140313</td>\n",
       "      <td>PT-20140313-152728-UAS-WB-FDG-3D-UAS-WB-FDG-3D...</td>\n",
       "      <td>ASPTCTX0001</td>\n",
       "      <td>lpr385705046400</td>\n",
       "      <td>20140313</td>\n",
       "      <td>13745</td>\n",
       "      <td>...</td>\n",
       "      <td>PT</td>\n",
       "      <td>'GE MEDICAL SYSTEMS'</td>\n",
       "      <td>'Discovery STE'</td>\n",
       "      <td>'FDG -- fluorodeoxyglucose'</td>\n",
       "      <td>'0.0'</td>\n",
       "      <td>'141400.00'</td>\n",
       "      <td>'259344912.0'</td>\n",
       "      <td>'6588.0'</td>\n",
       "      <td>'0.97000002861023'</td>\n",
       "      <td>'20140313141400.00'</td>\n",
       "    </tr>\n",
       "  </tbody>\n",
       "</table>\n",
       "<p>2 rows × 45 columns</p>\n",
       "</div>"
      ],
      "text/plain": [
       "   Unnamed: 0  Unnamed: 0_x  \\\n",
       "0           0          2096   \n",
       "1           1          2095   \n",
       "\n",
       "                                           directory source_directory  \\\n",
       "0  F:/ucan_lymfom/ASPTCTX0001_lpr385705046400-201...   F:/ucan_lymfom   \n",
       "1  F:/ucan_lymfom/ASPTCTX0001_lpr385705046400-201...   F:/ucan_lymfom   \n",
       "\n",
       "                      patient_directory  \\\n",
       "0  ASPTCTX0001_lpr385705046400-20140313   \n",
       "1  ASPTCTX0001_lpr385705046400-20140313   \n",
       "\n",
       "                                         PET-CT_info       system  \\\n",
       "0  CT-20140313-152551-6.1_UAS-WB-FDG-3D-STANDARD_...  ASPTCTX0001   \n",
       "1  PT-20140313-152728-UAS-WB-FDG-3D-UAS-WB-FDG-3D...  ASPTCTX0001   \n",
       "\n",
       "               npr  scan_date  Unnamed: 0_y  ... modality  \\\n",
       "0  lpr385705046400   20140313         13743  ...       CT   \n",
       "1  lpr385705046400   20140313         13745  ...       PT   \n",
       "\n",
       "            manufacturer  manufacturer_model           radiopharmaceutical  \\\n",
       "0   'GE MEDICAL SYSTEMS'     'Discovery STE'                           NaN   \n",
       "1   'GE MEDICAL SYSTEMS'     'Discovery STE'   'FDG -- fluorodeoxyglucose'   \n",
       "\n",
       "  radiopharmaceutical_volume  radiopharmaceutical_start_time  \\\n",
       "0                        NaN                             NaN   \n",
       "1                      '0.0'                     '141400.00'   \n",
       "\n",
       "   radionuclide_total_dose  radionuclide_half_life  \\\n",
       "0                      NaN                     NaN   \n",
       "1            '259344912.0'                '6588.0'   \n",
       "\n",
       "   radionuclide_positron_fraction  radiopharmaceutical_start_date_time  \n",
       "0                             NaN                                  NaN  \n",
       "1              '0.97000002861023'                  '20140313141400.00'  \n",
       "\n",
       "[2 rows x 45 columns]"
      ]
     },
     "execution_count": 56,
     "metadata": {},
     "output_type": "execute_result"
    }
   ],
   "source": [
    "# master_data for black disk\n",
    "print(\"Reading master data for black disk\")\n",
    "master_data_bd = pd.read_excel(os.path.join(source_path_bd, master_data_wd_filename))\n",
    "#master_data_wd[['system', 'npr', 'scan_date']]= master_data_wd['patient_directory'].str.split(pat='_|-', n=2, expand=True)\n",
    "print(master_data_bd.shape)\n",
    "\n",
    "master_data_bd.head(2)"
   ]
  },
  {
   "cell_type": "code",
   "execution_count": 57,
   "metadata": {},
   "outputs": [
    {
     "name": "stdout",
     "output_type": "stream",
     "text": [
      "Number of patients in white disk:  463\n",
      "Number of exams in white disk:  668\n",
      "\n",
      "Number of patients  in black disk:  758\n",
      "Number of exams  in black disk:  1132\n"
     ]
    }
   ],
   "source": [
    "#680 number of Lyphoma patients from Uppsala\n",
    "#2047 number of exams network disk\n",
    "\n",
    "print(\"Number of patients in white disk: \", master_data_wd.npr.nunique())\n",
    "print(\"Number of exams in white disk: \", master_data_wd.patient_directory.nunique())\n",
    "\n",
    "print(\"\\nNumber of patients  in black disk: \", master_data_bd.npr.nunique())\n",
    "print(\"Number of exams  in black disk: \", master_data_bd.patient_directory.nunique()) #1883\n"
   ]
  },
  {
   "cell_type": "markdown",
   "metadata": {},
   "source": [
    "##### Check patients on both disk"
   ]
  },
  {
   "cell_type": "code",
   "execution_count": 58,
   "metadata": {},
   "outputs": [
    {
     "data": {
      "text/plain": [
       "['ASPTCTX0001_npr100169878450-20130412',\n",
       " 'ASPTCTX0001_npr100169878450-20130412']"
      ]
     },
     "execution_count": 58,
     "metadata": {},
     "output_type": "execute_result"
    }
   ],
   "source": [
    "patient_list_wd = [item[:36] for item in master_data_wd.patient_directory.to_list()]\n",
    "patient_list_wd[:2]"
   ]
  },
  {
   "cell_type": "code",
   "execution_count": 59,
   "metadata": {},
   "outputs": [
    {
     "data": {
      "text/plain": [
       "['ASPTCTX0001_lpr385705046400-20140313',\n",
       " 'ASPTCTX0001_lpr385705046400-20140313']"
      ]
     },
     "execution_count": 59,
     "metadata": {},
     "output_type": "execute_result"
    }
   ],
   "source": [
    "patient_list_bd = master_data_bd.patient_directory.to_list()\n",
    "patient_list_bd[:2]"
   ]
  },
  {
   "cell_type": "code",
   "execution_count": 60,
   "metadata": {},
   "outputs": [
    {
     "name": "stdout",
     "output_type": "stream",
     "text": [
      "209\n"
     ]
    },
    {
     "data": {
      "text/plain": [
       "{'ASPTCTX0001_npr100222372477-20171207',\n",
       " 'ASPTCTX0001_npr116163692968-20201229',\n",
       " 'ASPTCTX0001_npr134631340866-20180413',\n",
       " 'ASPTCTX0001_npr134631340866-20200204',\n",
       " 'ASPTCTX0001_npr138028683671-20200211',\n",
       " 'ASPTCTX0001_npr143944474227-20210119',\n",
       " 'ASPTCTX0001_npr159135068459-20200604',\n",
       " 'ASPTCTX0001_npr182109034431-20160603',\n",
       " 'ASPTCTX0001_npr183027863262-20180507',\n",
       " 'ASPTCTX0001_npr183406378492-20220223',\n",
       " 'ASPTCTX0001_npr184555245175-20160919',\n",
       " 'ASPTCTX0001_npr184555245175-20170307',\n",
       " 'ASPTCTX0001_npr184555245175-20191219',\n",
       " 'ASPTCTX0001_npr190483255078-20210203',\n",
       " 'ASPTCTX0001_npr196454688576-20141201',\n",
       " 'ASPTCTX0001_npr212313157683-20180518',\n",
       " 'ASPTCTX0001_npr216632833659-20200703',\n",
       " 'ASPTCTX0001_npr218702301637-20170320',\n",
       " 'ASPTCTX0001_npr218702301637-20170607',\n",
       " 'ASPTCTX0001_npr218702301637-20220126',\n",
       " 'ASPTCTX0001_npr235266377960-20140807',\n",
       " 'ASPTCTX0001_npr252097509348-20170224',\n",
       " 'ASPTCTX0001_npr252097509348-20190111',\n",
       " 'ASPTCTX0001_npr252097509348-20200804',\n",
       " 'ASPTCTX0001_npr252097509348-20210209',\n",
       " 'ASPTCTX0001_npr252097509348-20210518',\n",
       " 'ASPTCTX0001_npr262010567826-20190506',\n",
       " 'ASPTCTX0001_npr265277959143-20200227',\n",
       " 'ASPTCTX0001_npr278246103744-20200910',\n",
       " 'ASPTCTX0001_npr279927686045-20200421',\n",
       " 'ASPTCTX0001_npr287350344645-20180914',\n",
       " 'ASPTCTX0001_npr293454605342-20151210',\n",
       " 'ASPTCTX0001_npr298700713320-20181215',\n",
       " 'ASPTCTX0001_npr306971302200-20200212',\n",
       " 'ASPTCTX0001_npr312833307758-20190912',\n",
       " 'ASPTCTX0001_npr313487762868-20170308',\n",
       " 'ASPTCTX0001_npr314033739598-20161118',\n",
       " 'ASPTCTX0001_npr316356805516-20170714',\n",
       " 'ASPTCTX0001_npr319068653243-20191002',\n",
       " 'ASPTCTX0001_npr330614741709-20170210',\n",
       " 'ASPTCTX0001_npr333078362324-20210507',\n",
       " 'ASPTCTX0001_npr333333959458-20190919',\n",
       " 'ASPTCTX0001_npr333333959458-20200311',\n",
       " 'ASPTCTX0001_npr333333959458-20211217',\n",
       " 'ASPTCTX0001_npr341699777979-20220408',\n",
       " 'ASPTCTX0001_npr349552492905-20220727',\n",
       " 'ASPTCTX0001_npr349596869434-20181218',\n",
       " 'ASPTCTX0001_npr353131040011-20200728',\n",
       " 'ASPTCTX0001_npr355871894759-20211028',\n",
       " 'ASPTCTX0001_npr367052505378-20151016',\n",
       " 'ASPTCTX0001_npr367052505378-20160217',\n",
       " 'ASPTCTX0001_npr373471112080-20151211',\n",
       " 'ASPTCTX0001_npr374571111556-20211227',\n",
       " 'ASPTCTX0001_npr374571111556-20220609',\n",
       " 'ASPTCTX0001_npr374956139347-20210813',\n",
       " 'ASPTCTX0001_npr375870041895-20180915',\n",
       " 'ASPTCTX0001_npr377574639447-20160216',\n",
       " 'ASPTCTX0001_npr377574639447-20180124',\n",
       " 'ASPTCTX0001_npr379405041250-20161103',\n",
       " 'ASPTCTX0001_npr382421460907-20210401',\n",
       " 'ASPTCTX0001_npr385465054891-20210615',\n",
       " 'ASPTCTX0001_npr404220659516-20180926',\n",
       " 'ASPTCTX0001_npr404220659516-20210210',\n",
       " 'ASPTCTX0001_npr404220659516-20210716',\n",
       " 'ASPTCTX0001_npr405587421589-20180616',\n",
       " 'ASPTCTX0001_npr408341075847-20200508',\n",
       " 'ASPTCTX0001_npr414939407525-20150429',\n",
       " 'ASPTCTX0001_npr421064151804-20200318',\n",
       " 'ASPTCTX0001_npr426817495607-20140520',\n",
       " 'ASPTCTX0001_npr442530322090-20210622',\n",
       " 'ASPTCTX0001_npr444859213901-20180802',\n",
       " 'ASPTCTX0001_npr445809986838-20190902',\n",
       " 'ASPTCTX0001_npr450763442898-20190509',\n",
       " 'ASPTCTX0001_npr451910381309-20191127',\n",
       " 'ASPTCTX0001_npr454843314969-20180424',\n",
       " 'ASPTCTX0001_npr457216565965-20160811',\n",
       " 'ASPTCTX0001_npr460435756152-20171024',\n",
       " 'ASPTCTX0001_npr460860706336-20150306',\n",
       " 'ASPTCTX0001_npr463338594907-20220209',\n",
       " 'ASPTCTX0001_npr478043986346-20190924',\n",
       " 'ASPTCTX0001_npr479070220986-20200924',\n",
       " 'ASPTCTX0001_npr485918232733-20201126',\n",
       " 'ASPTCTX0001_npr487467122228-20210810',\n",
       " 'ASPTCTX0001_npr490027250002-20100818',\n",
       " 'ASPTCTX0001_npr490682074162-20181012',\n",
       " 'ASPTCTX0001_npr490682074162-20200902',\n",
       " 'ASPTCTX0001_npr490682074162-20210820',\n",
       " 'ASPTCTX0001_npr490682074162-20220524',\n",
       " 'ASPTCTX0001_npr504675275456-20180228',\n",
       " 'ASPTCTX0001_npr505424351652-20170123',\n",
       " 'ASPTCTX0001_npr505453512659-20150428',\n",
       " 'ASPTCTX0001_npr505453512659-20160329',\n",
       " 'ASPTCTX0001_npr505453512659-20170413',\n",
       " 'ASPTCTX0001_npr511728478769-20180119',\n",
       " 'ASPTCTX0001_npr518001875139-20211118',\n",
       " 'ASPTCTX0001_npr526794682703-20211220',\n",
       " 'ASPTCTX0001_npr530972152550-20191009',\n",
       " 'ASPTCTX0001_npr554801406300-20211115',\n",
       " 'ASPTCTX0001_npr556496837355-20190723',\n",
       " 'ASPTCTX0001_npr556889533448-20210802',\n",
       " 'ASPTCTX0001_npr563972425648-20181116',\n",
       " 'ASPTCTX0001_npr569384361093-20170906',\n",
       " 'ASPTCTX0001_npr571324714825-20161206',\n",
       " 'ASPTCTX0001_npr575584064911-20200609',\n",
       " 'ASPTCTX0001_npr583145957054-20151007',\n",
       " 'ASPTCTX0001_npr583145957054-20170524',\n",
       " 'ASPTCTX0001_npr589653165244-20150518',\n",
       " 'ASPTCTX0001_npr592072954317-20220114',\n",
       " 'ASPTCTX0001_npr595953029215-20210602',\n",
       " 'ASPTCTX0001_npr599489809085-20171121',\n",
       " 'ASPTCTX0001_npr599489809085-20180801',\n",
       " 'ASPTCTX0001_npr602212466410-20210413',\n",
       " 'ASPTCTX0001_npr604625246955-20190117',\n",
       " 'ASPTCTX0001_npr618348821866-20210824',\n",
       " 'ASPTCTX0001_npr623777772010-20210324',\n",
       " 'ASPTCTX0001_npr631449974234-20220324',\n",
       " 'ASPTCTX0001_npr632018523599-20190409',\n",
       " 'ASPTCTX0001_npr632812817288-20170529',\n",
       " 'ASPTCTX0001_npr634768151181-20210610',\n",
       " 'ASPTCTX0001_npr636801981780-20180109',\n",
       " 'ASPTCTX0001_npr640031899533-20181002',\n",
       " 'ASPTCTX0001_npr642326741392-20190406',\n",
       " 'ASPTCTX0001_npr642326741392-20210129',\n",
       " 'ASPTCTX0001_npr642326741392-20220510',\n",
       " 'ASPTCTX0001_npr646349001119-20191004',\n",
       " 'ASPTCTX0001_npr648969352384-20160318',\n",
       " 'ASPTCTX0001_npr652851209495-20170321',\n",
       " 'ASPTCTX0001_npr652851209495-20171213',\n",
       " 'ASPTCTX0001_npr652851209495-20190130',\n",
       " 'ASPTCTX0001_npr652851209495-20220224',\n",
       " 'ASPTCTX0001_npr666173543285-20140922',\n",
       " 'ASPTCTX0001_npr666173543285-20181109',\n",
       " 'ASPTCTX0001_npr666484449746-20150901',\n",
       " 'ASPTCTX0001_npr669061050364-20180221',\n",
       " 'ASPTCTX0001_npr675361759044-20220721',\n",
       " 'ASPTCTX0001_npr678348115123-20210902',\n",
       " 'ASPTCTX0001_npr679283150260-20160425',\n",
       " 'ASPTCTX0001_npr683923698459-20210121',\n",
       " 'ASPTCTX0001_npr685149760967-20170203',\n",
       " 'ASPTCTX0001_npr692109775749-20220127',\n",
       " 'ASPTCTX0001_npr694521879216-20180718',\n",
       " 'ASPTCTX0001_npr701047368478-20151103',\n",
       " 'ASPTCTX0001_npr702562960492-20160201',\n",
       " 'ASPTCTX0001_npr706917612732-20200417',\n",
       " 'ASPTCTX0001_npr711322681344-20160419',\n",
       " 'ASPTCTX0001_npr717178109733-20190808',\n",
       " 'ASPTCTX0001_npr720339767394-20220110',\n",
       " 'ASPTCTX0001_npr735028517794-20180928',\n",
       " 'ASPTCTX0001_npr738871065625-20170310',\n",
       " 'ASPTCTX0001_npr748236341307-20210915',\n",
       " 'ASPTCTX0001_npr767657882122-20211203',\n",
       " 'ASPTCTX0001_npr768428291369-20170803',\n",
       " 'ASPTCTX0001_npr777311700291-20220317',\n",
       " 'ASPTCTX0001_npr785638537821-20170228',\n",
       " 'ASPTCTX0001_npr786959615822-20151202',\n",
       " 'ASPTCTX0001_npr788309965971-20180320',\n",
       " 'ASPTCTX0001_npr788549812928-20200826',\n",
       " 'ASPTCTX0001_npr791408621040-20160525',\n",
       " 'ASPTCTX0001_npr792868968929-20191023',\n",
       " 'ASPTCTX0001_npr793882566109-20201014',\n",
       " 'ASPTCTX0001_npr794890470947-20170831',\n",
       " 'ASPTCTX0001_npr808216600942-20171006',\n",
       " 'ASPTCTX0001_npr808216600942-20180328',\n",
       " 'ASPTCTX0001_npr809610189287-20190610',\n",
       " 'ASPTCTX0001_npr810027539654-20211019',\n",
       " 'ASPTCTX0001_npr813468597065-20200828',\n",
       " 'ASPTCTX0001_npr826756003305-20220810',\n",
       " 'ASPTCTX0001_npr833769881976-20180414',\n",
       " 'ASPTCTX0001_npr837247319358-20200331',\n",
       " 'ASPTCTX0001_npr843481527629-20211029',\n",
       " 'ASPTCTX0001_npr844961369987-20200602',\n",
       " 'ASPTCTX0001_npr850289645644-20190911',\n",
       " 'ASPTCTX0001_npr850325859942-20200715',\n",
       " 'ASPTCTX0001_npr853127186850-20220330',\n",
       " 'ASPTCTX0001_npr860931257579-20180110',\n",
       " 'ASPTCTX0001_npr861273880728-20190426',\n",
       " 'ASPTCTX0001_npr861956754620-20220421',\n",
       " 'ASPTCTX0001_npr862781365317-20180219',\n",
       " 'ASPTCTX0001_npr865893970178-20170425',\n",
       " 'ASPTCTX0001_npr870317788152-20160202',\n",
       " 'ASPTCTX0001_npr875628571317-20180727',\n",
       " 'ASPTCTX0001_npr877094387500-20200430',\n",
       " 'ASPTCTX0001_npr879319356697-20210217',\n",
       " 'ASPTCTX0001_npr884176295970-20170619',\n",
       " 'ASPTCTX0001_npr890623930697-20210107',\n",
       " 'ASPTCTX0001_npr897251392030-20190613',\n",
       " 'ASPTCTX0001_npr901966028778-20190807',\n",
       " 'ASPTCTX0001_npr904223941417-20190515',\n",
       " 'ASPTCTX0001_npr909503892933-20190121',\n",
       " 'ASPTCTX0001_npr910734265843-20220210',\n",
       " 'ASPTCTX0001_npr911860985824-20180308',\n",
       " 'ASPTCTX0001_npr911860985824-20210630',\n",
       " 'ASPTCTX0001_npr913234492609-20160818',\n",
       " 'ASPTCTX0001_npr914848677550-20160607',\n",
       " 'ASPTCTX0001_npr937959980599-20161006',\n",
       " 'ASPTCTX0001_npr937959980599-20170221',\n",
       " 'ASPTCTX0001_npr937959980599-20170929',\n",
       " 'ASPTCTX0001_npr941333664920-20170519',\n",
       " 'ASPTCTX0001_npr941474905628-20220525',\n",
       " 'ASPTCTX0001_npr964996454487-20210909',\n",
       " 'ASPTCTX0001_npr965491876506-20160627',\n",
       " 'ASPTCTX0001_npr971174528422-20220404',\n",
       " 'ASPTCTX0001_npr971371032055-20181204',\n",
       " 'ASPTCTX0001_npr984449190795-20190704',\n",
       " 'ASPTCTX0001_npr984449190795-20220513',\n",
       " 'ASPTCTX0001_npr984615381610-20211013',\n",
       " 'ASPTCTX0001_npr985723170435-20170706',\n",
       " 'ASPTCTX0001_npr991811682588-20160804',\n",
       " 'ASPTCTX0001_npr992367836483-20181031'}"
      ]
     },
     "execution_count": 60,
     "metadata": {},
     "output_type": "execute_result"
    }
   ],
   "source": [
    "patient_set_wd = set(patient_list_wd)\n",
    "patient_set_bd = set(patient_list_bd)\n",
    "extra_patient_in_wd = patient_set_wd.difference(patient_set_bd)\n",
    "print(len(extra_patient_in_wd))\n",
    "extra_patient_in_wd_final = [item2 for item1 in list(extra_patient_in_wd) for item2 in master_data_wd.patient_directory.to_list() if item1 in item2]\n",
    "extra_patient_in_wd"
   ]
  },
  {
   "cell_type": "code",
   "execution_count": 61,
   "metadata": {},
   "outputs": [
    {
     "name": "stdout",
     "output_type": "stream",
     "text": [
      "ASPTCTX0001_npr897251392030-20190613____JK_HIT\n",
      "ASPTCTX0001_npr897251392030-20190613____JK_HIT\n",
      "ASPTCTX0001_npr134631340866-20200204____JK\n",
      "ASPTCTX0001_npr134631340866-20200204____JK\n"
     ]
    }
   ],
   "source": [
    "for item in extra_patient_in_wd_final:\n",
    "    if 'JK' in item:\n",
    "        print(item)"
   ]
  },
  {
   "cell_type": "code",
   "execution_count": 62,
   "metadata": {},
   "outputs": [
    {
     "name": "stdout",
     "output_type": "stream",
     "text": [
      "(420, 45)\n"
     ]
    },
    {
     "data": {
      "text/html": [
       "<div>\n",
       "<style scoped>\n",
       "    .dataframe tbody tr th:only-of-type {\n",
       "        vertical-align: middle;\n",
       "    }\n",
       "\n",
       "    .dataframe tbody tr th {\n",
       "        vertical-align: top;\n",
       "    }\n",
       "\n",
       "    .dataframe thead th {\n",
       "        text-align: right;\n",
       "    }\n",
       "</style>\n",
       "<table border=\"1\" class=\"dataframe\">\n",
       "  <thead>\n",
       "    <tr style=\"text-align: right;\">\n",
       "      <th></th>\n",
       "      <th>Unnamed: 0</th>\n",
       "      <th>Unnamed: 0_x</th>\n",
       "      <th>directory</th>\n",
       "      <th>source_directory</th>\n",
       "      <th>patient_directory</th>\n",
       "      <th>PET-CT_info</th>\n",
       "      <th>system</th>\n",
       "      <th>npr</th>\n",
       "      <th>scan_date</th>\n",
       "      <th>Unnamed: 0_y</th>\n",
       "      <th>...</th>\n",
       "      <th>modality</th>\n",
       "      <th>manufacturer</th>\n",
       "      <th>manufacturer_model</th>\n",
       "      <th>radiopharmaceutical</th>\n",
       "      <th>radiopharmaceutical_volume</th>\n",
       "      <th>radiopharmaceutical_start_time</th>\n",
       "      <th>radionuclide_total_dose</th>\n",
       "      <th>radionuclide_half_life</th>\n",
       "      <th>radionuclide_positron_fraction</th>\n",
       "      <th>radiopharmaceutical_start_date_time</th>\n",
       "    </tr>\n",
       "  </thead>\n",
       "  <tbody>\n",
       "    <tr>\n",
       "      <th>6</th>\n",
       "      <td>6</td>\n",
       "      <td>842</td>\n",
       "      <td>/media/andres/T7 Shield/U-CAN-Lymfom_A/Raw_DCM...</td>\n",
       "      <td>/media/andres/T7 Shield/U-CAN-Lymfom_A/Raw_DCM...</td>\n",
       "      <td>ASPTCTX0001_npr100222372477-20171207</td>\n",
       "      <td>CT-20171207-125055-6.3-UAS-WB-FDG-3D-CT-VENFAS...</td>\n",
       "      <td>ASPTCTX0001</td>\n",
       "      <td>npr100222372477</td>\n",
       "      <td>20171207</td>\n",
       "      <td>1826</td>\n",
       "      <td>...</td>\n",
       "      <td>CT</td>\n",
       "      <td>'GE MEDICAL SYSTEMS'</td>\n",
       "      <td>'Discovery STE'</td>\n",
       "      <td>NaN</td>\n",
       "      <td>NaN</td>\n",
       "      <td>NaN</td>\n",
       "      <td>NaN</td>\n",
       "      <td>NaN</td>\n",
       "      <td>NaN</td>\n",
       "      <td>NaN</td>\n",
       "    </tr>\n",
       "    <tr>\n",
       "      <th>7</th>\n",
       "      <td>7</td>\n",
       "      <td>841</td>\n",
       "      <td>/media/andres/T7 Shield/U-CAN-Lymfom_A/Raw_DCM...</td>\n",
       "      <td>/media/andres/T7 Shield/U-CAN-Lymfom_A/Raw_DCM...</td>\n",
       "      <td>ASPTCTX0001_npr100222372477-20171207</td>\n",
       "      <td>PT-20171207-122918-UAS-WB-FDG-3D-CT-VENFAS-WB-...</td>\n",
       "      <td>ASPTCTX0001</td>\n",
       "      <td>npr100222372477</td>\n",
       "      <td>20171207</td>\n",
       "      <td>1828</td>\n",
       "      <td>...</td>\n",
       "      <td>PT</td>\n",
       "      <td>'GE MEDICAL SYSTEMS'</td>\n",
       "      <td>'Discovery STE'</td>\n",
       "      <td>'FDG -- fluorodeoxyglucose'</td>\n",
       "      <td>'0.0'</td>\n",
       "      <td>'092400.00'</td>\n",
       "      <td>'470010816.0'</td>\n",
       "      <td>'6588.0'</td>\n",
       "      <td>'0.97000002861023'</td>\n",
       "      <td>'20171207092400.00'</td>\n",
       "    </tr>\n",
       "  </tbody>\n",
       "</table>\n",
       "<p>2 rows × 45 columns</p>\n",
       "</div>"
      ],
      "text/plain": [
       "   Unnamed: 0  Unnamed: 0_x  \\\n",
       "6           6           842   \n",
       "7           7           841   \n",
       "\n",
       "                                           directory  \\\n",
       "6  /media/andres/T7 Shield/U-CAN-Lymfom_A/Raw_DCM...   \n",
       "7  /media/andres/T7 Shield/U-CAN-Lymfom_A/Raw_DCM...   \n",
       "\n",
       "                                    source_directory  \\\n",
       "6  /media/andres/T7 Shield/U-CAN-Lymfom_A/Raw_DCM...   \n",
       "7  /media/andres/T7 Shield/U-CAN-Lymfom_A/Raw_DCM...   \n",
       "\n",
       "                      patient_directory  \\\n",
       "6  ASPTCTX0001_npr100222372477-20171207   \n",
       "7  ASPTCTX0001_npr100222372477-20171207   \n",
       "\n",
       "                                         PET-CT_info       system  \\\n",
       "6  CT-20171207-125055-6.3-UAS-WB-FDG-3D-CT-VENFAS...  ASPTCTX0001   \n",
       "7  PT-20171207-122918-UAS-WB-FDG-3D-CT-VENFAS-WB-...  ASPTCTX0001   \n",
       "\n",
       "               npr scan_date  Unnamed: 0_y  ... modality  \\\n",
       "6  npr100222372477  20171207          1826  ...       CT   \n",
       "7  npr100222372477  20171207          1828  ...       PT   \n",
       "\n",
       "            manufacturer  manufacturer_model           radiopharmaceutical  \\\n",
       "6   'GE MEDICAL SYSTEMS'     'Discovery STE'                           NaN   \n",
       "7   'GE MEDICAL SYSTEMS'     'Discovery STE'   'FDG -- fluorodeoxyglucose'   \n",
       "\n",
       "  radiopharmaceutical_volume  radiopharmaceutical_start_time  \\\n",
       "6                        NaN                             NaN   \n",
       "7                      '0.0'                     '092400.00'   \n",
       "\n",
       "   radionuclide_total_dose  radionuclide_half_life  \\\n",
       "6                      NaN                     NaN   \n",
       "7            '470010816.0'                '6588.0'   \n",
       "\n",
       "   radionuclide_positron_fraction  radiopharmaceutical_start_date_time  \n",
       "6                             NaN                                  NaN  \n",
       "7              '0.97000002861023'                  '20171207092400.00'  \n",
       "\n",
       "[2 rows x 45 columns]"
      ]
     },
     "execution_count": 62,
     "metadata": {},
     "output_type": "execute_result"
    }
   ],
   "source": [
    "extra_patient_wd_df = master_data_wd[master_data_wd['patient_directory'].isin(extra_patient_in_wd_final)]\n",
    "print(extra_patient_wd_df.shape)\n",
    "extra_patient_wd_df.head(2)"
   ]
  },
  {
   "cell_type": "markdown",
   "metadata": {},
   "source": [
    "Total images - 1340    , exams - 670\n",
    "Extra images - 420     , exams - 210\n",
    "Duplicates images - 920, exams - 460"
   ]
  },
  {
   "cell_type": "markdown",
   "metadata": {},
   "source": [
    "##### Check if npr present in extra df is also present in black disk"
   ]
  },
  {
   "cell_type": "code",
   "execution_count": 70,
   "metadata": {},
   "outputs": [
    {
     "data": {
      "text/plain": [
       "['npr100222372477', 'npr100222372477']"
      ]
     },
     "execution_count": 70,
     "metadata": {},
     "output_type": "execute_result"
    }
   ],
   "source": [
    "extra_patient_wd_npr = extra_patient_wd_df.npr.to_list()\n",
    "extra_patient_wd_npr[:2]"
   ]
  },
  {
   "cell_type": "code",
   "execution_count": 71,
   "metadata": {},
   "outputs": [
    {
     "name": "stdout",
     "output_type": "stream",
     "text": [
      "(160, 45)\n"
     ]
    },
    {
     "data": {
      "text/html": [
       "<div>\n",
       "<style scoped>\n",
       "    .dataframe tbody tr th:only-of-type {\n",
       "        vertical-align: middle;\n",
       "    }\n",
       "\n",
       "    .dataframe tbody tr th {\n",
       "        vertical-align: top;\n",
       "    }\n",
       "\n",
       "    .dataframe thead th {\n",
       "        text-align: right;\n",
       "    }\n",
       "</style>\n",
       "<table border=\"1\" class=\"dataframe\">\n",
       "  <thead>\n",
       "    <tr style=\"text-align: right;\">\n",
       "      <th></th>\n",
       "      <th>Unnamed: 0</th>\n",
       "      <th>Unnamed: 0_x</th>\n",
       "      <th>directory</th>\n",
       "      <th>source_directory</th>\n",
       "      <th>patient_directory</th>\n",
       "      <th>PET-CT_info</th>\n",
       "      <th>system</th>\n",
       "      <th>npr</th>\n",
       "      <th>scan_date</th>\n",
       "      <th>Unnamed: 0_y</th>\n",
       "      <th>...</th>\n",
       "      <th>modality</th>\n",
       "      <th>manufacturer</th>\n",
       "      <th>manufacturer_model</th>\n",
       "      <th>radiopharmaceutical</th>\n",
       "      <th>radiopharmaceutical_volume</th>\n",
       "      <th>radiopharmaceutical_start_time</th>\n",
       "      <th>radionuclide_total_dose</th>\n",
       "      <th>radionuclide_half_life</th>\n",
       "      <th>radionuclide_positron_fraction</th>\n",
       "      <th>radiopharmaceutical_start_date_time</th>\n",
       "    </tr>\n",
       "  </thead>\n",
       "  <tbody>\n",
       "    <tr>\n",
       "      <th>12</th>\n",
       "      <td>12</td>\n",
       "      <td>1751</td>\n",
       "      <td>F:/ucan_lymfom/ASPTCTX0001_npr100222372477-201...</td>\n",
       "      <td>F:/ucan_lymfom</td>\n",
       "      <td>ASPTCTX0001_npr100222372477-20160314</td>\n",
       "      <td>CT-20160314-111426-6.6_UAS-WB-FDG-3D_VENFASTHO...</td>\n",
       "      <td>ASPTCTX0001</td>\n",
       "      <td>npr100222372477</td>\n",
       "      <td>20160314</td>\n",
       "      <td>918</td>\n",
       "      <td>...</td>\n",
       "      <td>CT</td>\n",
       "      <td>'GE MEDICAL SYSTEMS'</td>\n",
       "      <td>'Discovery STE'</td>\n",
       "      <td>NaN</td>\n",
       "      <td>NaN</td>\n",
       "      <td>NaN</td>\n",
       "      <td>NaN</td>\n",
       "      <td>NaN</td>\n",
       "      <td>NaN</td>\n",
       "      <td>NaN</td>\n",
       "    </tr>\n",
       "    <tr>\n",
       "      <th>13</th>\n",
       "      <td>13</td>\n",
       "      <td>1750</td>\n",
       "      <td>F:/ucan_lymfom/ASPTCTX0001_npr100222372477-201...</td>\n",
       "      <td>F:/ucan_lymfom</td>\n",
       "      <td>ASPTCTX0001_npr100222372477-20160314</td>\n",
       "      <td>PT-20160314-104224-UAS-WB-FDG-3D_VENFASTHORAX_...</td>\n",
       "      <td>ASPTCTX0001</td>\n",
       "      <td>npr100222372477</td>\n",
       "      <td>20160314</td>\n",
       "      <td>912</td>\n",
       "      <td>...</td>\n",
       "      <td>PT</td>\n",
       "      <td>'GE MEDICAL SYSTEMS'</td>\n",
       "      <td>'Discovery STE'</td>\n",
       "      <td>'FDG -- fluorodeoxyglucose'</td>\n",
       "      <td>'0.0'</td>\n",
       "      <td>'094300.00'</td>\n",
       "      <td>'325923296.0'</td>\n",
       "      <td>'6588.0'</td>\n",
       "      <td>'0.97000002861023'</td>\n",
       "      <td>'20160314094300.00'</td>\n",
       "    </tr>\n",
       "  </tbody>\n",
       "</table>\n",
       "<p>2 rows × 45 columns</p>\n",
       "</div>"
      ],
      "text/plain": [
       "    Unnamed: 0  Unnamed: 0_x  \\\n",
       "12          12          1751   \n",
       "13          13          1750   \n",
       "\n",
       "                                            directory source_directory  \\\n",
       "12  F:/ucan_lymfom/ASPTCTX0001_npr100222372477-201...   F:/ucan_lymfom   \n",
       "13  F:/ucan_lymfom/ASPTCTX0001_npr100222372477-201...   F:/ucan_lymfom   \n",
       "\n",
       "                       patient_directory  \\\n",
       "12  ASPTCTX0001_npr100222372477-20160314   \n",
       "13  ASPTCTX0001_npr100222372477-20160314   \n",
       "\n",
       "                                          PET-CT_info       system  \\\n",
       "12  CT-20160314-111426-6.6_UAS-WB-FDG-3D_VENFASTHO...  ASPTCTX0001   \n",
       "13  PT-20160314-104224-UAS-WB-FDG-3D_VENFASTHORAX_...  ASPTCTX0001   \n",
       "\n",
       "                npr  scan_date  Unnamed: 0_y  ... modality  \\\n",
       "12  npr100222372477   20160314           918  ...       CT   \n",
       "13  npr100222372477   20160314           912  ...       PT   \n",
       "\n",
       "             manufacturer  manufacturer_model           radiopharmaceutical  \\\n",
       "12   'GE MEDICAL SYSTEMS'     'Discovery STE'                           NaN   \n",
       "13   'GE MEDICAL SYSTEMS'     'Discovery STE'   'FDG -- fluorodeoxyglucose'   \n",
       "\n",
       "   radiopharmaceutical_volume  radiopharmaceutical_start_time  \\\n",
       "12                        NaN                             NaN   \n",
       "13                      '0.0'                     '094300.00'   \n",
       "\n",
       "    radionuclide_total_dose  radionuclide_half_life  \\\n",
       "12                      NaN                     NaN   \n",
       "13            '325923296.0'                '6588.0'   \n",
       "\n",
       "    radionuclide_positron_fraction  radiopharmaceutical_start_date_time  \n",
       "12                             NaN                                  NaN  \n",
       "13              '0.97000002861023'                  '20160314094300.00'  \n",
       "\n",
       "[2 rows x 45 columns]"
      ]
     },
     "execution_count": 71,
     "metadata": {},
     "output_type": "execute_result"
    }
   ],
   "source": [
    "extra_patient_bd_npr_df = master_data_bd[master_data_bd['npr'].isin(extra_patient_wd_npr)]\n",
    "print(extra_patient_bd_npr_df.shape)\n",
    "extra_patient_bd_npr_df.head(2)"
   ]
  },
  {
   "cell_type": "code",
   "execution_count": 72,
   "metadata": {},
   "outputs": [
    {
     "data": {
      "text/plain": [
       "80"
      ]
     },
     "execution_count": 72,
     "metadata": {},
     "output_type": "execute_result"
    }
   ],
   "source": [
    "extra_patient_bd_npr_df.patient_directory.nunique()"
   ]
  },
  {
   "cell_type": "markdown",
   "metadata": {},
   "source": [
    "##### Check if images from the same scan(distorted images) can be read from the previous export (cause = exporting problems?)"
   ]
  },
  {
   "cell_type": "code",
   "execution_count": 104,
   "metadata": {},
   "outputs": [
    {
     "name": "stdout",
     "output_type": "stream",
     "text": [
      "Reading distorted image dataframe for white disk\n",
      "(150, 5)\n",
      "150\n"
     ]
    },
    {
     "data": {
      "text/html": [
       "<div>\n",
       "<style scoped>\n",
       "    .dataframe tbody tr th:only-of-type {\n",
       "        vertical-align: middle;\n",
       "    }\n",
       "\n",
       "    .dataframe tbody tr th {\n",
       "        vertical-align: top;\n",
       "    }\n",
       "\n",
       "    .dataframe thead th {\n",
       "        text-align: right;\n",
       "    }\n",
       "</style>\n",
       "<table border=\"1\" class=\"dataframe\">\n",
       "  <thead>\n",
       "    <tr style=\"text-align: right;\">\n",
       "      <th></th>\n",
       "      <th>Unnamed: 0</th>\n",
       "      <th>directory</th>\n",
       "      <th>source_directory</th>\n",
       "      <th>patient_directory</th>\n",
       "      <th>PET-CT_info</th>\n",
       "    </tr>\n",
       "  </thead>\n",
       "  <tbody>\n",
       "    <tr>\n",
       "      <th>0</th>\n",
       "      <td>0</td>\n",
       "      <td>/media/andres/T7 Shield/U-CAN-Lymfom_A/Raw_DCM...</td>\n",
       "      <td>/media/andres/T7 Shield/U-CAN-Lymfom_A/Raw_DCM...</td>\n",
       "      <td>ASPTCTX0001_npr167577668669-20170331</td>\n",
       "      <td>CT-20170331-154543-6.3-UAS-WB-FDG-3D-CT-VENFAS...</td>\n",
       "    </tr>\n",
       "    <tr>\n",
       "      <th>1</th>\n",
       "      <td>1</td>\n",
       "      <td>/media/andres/T7 Shield/U-CAN-Lymfom_A/Raw_DCM...</td>\n",
       "      <td>/media/andres/T7 Shield/U-CAN-Lymfom_A/Raw_DCM...</td>\n",
       "      <td>ASPTCTX0001_npr167850885413-20160304</td>\n",
       "      <td>CT-20160304-155345-6.6-UAS-WB-FDG-3D-VENFASTHO...</td>\n",
       "    </tr>\n",
       "  </tbody>\n",
       "</table>\n",
       "</div>"
      ],
      "text/plain": [
       "   Unnamed: 0                                          directory  \\\n",
       "0           0  /media/andres/T7 Shield/U-CAN-Lymfom_A/Raw_DCM...   \n",
       "1           1  /media/andres/T7 Shield/U-CAN-Lymfom_A/Raw_DCM...   \n",
       "\n",
       "                                    source_directory  \\\n",
       "0  /media/andres/T7 Shield/U-CAN-Lymfom_A/Raw_DCM...   \n",
       "1  /media/andres/T7 Shield/U-CAN-Lymfom_A/Raw_DCM...   \n",
       "\n",
       "                      patient_directory  \\\n",
       "0  ASPTCTX0001_npr167577668669-20170331   \n",
       "1  ASPTCTX0001_npr167850885413-20160304   \n",
       "\n",
       "                                         PET-CT_info  \n",
       "0  CT-20170331-154543-6.3-UAS-WB-FDG-3D-CT-VENFAS...  \n",
       "1  CT-20160304-155345-6.6-UAS-WB-FDG-3D-VENFASTHO...  "
      ]
     },
     "execution_count": 104,
     "metadata": {},
     "output_type": "execute_result"
    }
   ],
   "source": [
    "print(\"Reading distorted image dataframe for white disk\")\n",
    "distorted_images_wd = pd.read_excel(list_of_distorted_images_wd)\n",
    "distorted_images_wd[['source_directory', 'patient_directory', 'PET-CT_info']] = distorted_images_wd['directory'].str.rsplit(pat='/', n=2, expand=True)\n",
    "print(distorted_images_wd.shape)\n",
    "print(distorted_images_wd.patient_directory.nunique())\n",
    "distorted_images_wd.head(2)"
   ]
  },
  {
   "cell_type": "code",
   "execution_count": 90,
   "metadata": {},
   "outputs": [
    {
     "name": "stdout",
     "output_type": "stream",
     "text": [
      "Reading distorted image dataframe for black disk\n",
      "(132, 5)\n"
     ]
    },
    {
     "data": {
      "text/html": [
       "<div>\n",
       "<style scoped>\n",
       "    .dataframe tbody tr th:only-of-type {\n",
       "        vertical-align: middle;\n",
       "    }\n",
       "\n",
       "    .dataframe tbody tr th {\n",
       "        vertical-align: top;\n",
       "    }\n",
       "\n",
       "    .dataframe thead th {\n",
       "        text-align: right;\n",
       "    }\n",
       "</style>\n",
       "<table border=\"1\" class=\"dataframe\">\n",
       "  <thead>\n",
       "    <tr style=\"text-align: right;\">\n",
       "      <th></th>\n",
       "      <th>Unnamed: 0</th>\n",
       "      <th>directory</th>\n",
       "      <th>source_directory</th>\n",
       "      <th>patient_directory</th>\n",
       "      <th>PET-CT_info</th>\n",
       "    </tr>\n",
       "  </thead>\n",
       "  <tbody>\n",
       "    <tr>\n",
       "      <th>0</th>\n",
       "      <td>0</td>\n",
       "      <td>F:/ucan_lymfom/ASPTCTX0001_npr293454605342-201...</td>\n",
       "      <td>F:/ucan_lymfom</td>\n",
       "      <td>ASPTCTX0001_npr293454605342-20151210</td>\n",
       "      <td>CT-20151210-093545-6.6_WB_F18_3MIN__CT_VENFAS-...</td>\n",
       "    </tr>\n",
       "    <tr>\n",
       "      <th>1</th>\n",
       "      <td>1</td>\n",
       "      <td>F:/ucan_lymfom/ASPTCTX0001_npr701047368478-201...</td>\n",
       "      <td>F:/ucan_lymfom</td>\n",
       "      <td>ASPTCTX0001_npr701047368478-20151103</td>\n",
       "      <td>CT-20151103-152922-6.6_WB_F18_3MIN__CT_VENFAS-...</td>\n",
       "    </tr>\n",
       "  </tbody>\n",
       "</table>\n",
       "</div>"
      ],
      "text/plain": [
       "   Unnamed: 0                                          directory  \\\n",
       "0           0  F:/ucan_lymfom/ASPTCTX0001_npr293454605342-201...   \n",
       "1           1  F:/ucan_lymfom/ASPTCTX0001_npr701047368478-201...   \n",
       "\n",
       "  source_directory                     patient_directory  \\\n",
       "0   F:/ucan_lymfom  ASPTCTX0001_npr293454605342-20151210   \n",
       "1   F:/ucan_lymfom  ASPTCTX0001_npr701047368478-20151103   \n",
       "\n",
       "                                         PET-CT_info  \n",
       "0  CT-20151210-093545-6.6_WB_F18_3MIN__CT_VENFAS-...  \n",
       "1  CT-20151103-152922-6.6_WB_F18_3MIN__CT_VENFAS-...  "
      ]
     },
     "execution_count": 90,
     "metadata": {},
     "output_type": "execute_result"
    }
   ],
   "source": [
    "print(\"Reading distorted image dataframe for black disk\")\n",
    "distorted_images_bd = pd.read_excel(list_of_distorted_images_bd)\n",
    "distorted_images_bd[['source_directory', 'patient_directory', 'PET-CT_info']] = distorted_images_bd['directory'].str.rsplit(pat='/', n=2, expand=True)\n",
    "print(distorted_images_bd.shape)\n",
    "distorted_images_bd.head(2)"
   ]
  },
  {
   "cell_type": "code",
   "execution_count": 124,
   "metadata": {},
   "outputs": [
    {
     "name": "stdout",
     "output_type": "stream",
     "text": [
      "     Unnamed: 0                                                                                                                                                 directory source_directory                     patient_directory                                                                                           PET-CT_info\n",
      "0             0                     F:/ucan_lymfom/ASPTCTX0001_npr293454605342-20151210/CT-20151210-093545-6.6_WB_F18_3MIN__CT_VENFAS-HELKROPP_VENFAS_AX_1_PCT-1.250000mm   F:/ucan_lymfom  ASPTCTX0001_npr293454605342-20151210                     CT-20151210-093545-6.6_WB_F18_3MIN__CT_VENFAS-HELKROPP_VENFAS_AX_1_PCT-1.250000mm\n",
      "1             1                     F:/ucan_lymfom/ASPTCTX0001_npr701047368478-20151103/CT-20151103-152922-6.6_WB_F18_3MIN__CT_VENFAS-HELKROPP_VENFAS_AX_1_PCT-1.250000mm   F:/ucan_lymfom  ASPTCTX0001_npr701047368478-20151103                     CT-20151103-152922-6.6_WB_F18_3MIN__CT_VENFAS-HELKROPP_VENFAS_AX_1_PCT-1.250000mm\n",
      "2             2                                F:/ucan_lymfom/ASPTCTX0001_npr676639996732-20180928/CT-20180928-151905-6.3_UAS-WB-FDG-3D_CT_VENFAS-AX_2.5mm-0.9765620232mm   F:/ucan_lymfom  ASPTCTX0001_npr676639996732-20180928                                CT-20180928-151905-6.3_UAS-WB-FDG-3D_CT_VENFAS-AX_2.5mm-0.9765620232mm\n",
      "3             3                                  F:/ucan_lymfom/ASPTCTX0001_npr685149760967-20170203/CT-20170203-142706-6.3_UAS-WB-FDG-3D_CT_VENFAS-AX_2.5-0.9765620232mm   F:/ucan_lymfom  ASPTCTX0001_npr685149760967-20170203                                  CT-20170203-142706-6.3_UAS-WB-FDG-3D_CT_VENFAS-AX_2.5-0.9765620232mm\n",
      "4             4                                   F:/ucan_lymfom/ASPTCTX0001_npr100222372477-20171207/CT-20171207-125055-6.3_UAS-WB-FDG-3D_CT_VENFAS-WB_VEN_AX-0.976562mm   F:/ucan_lymfom  ASPTCTX0001_npr100222372477-20171207                                   CT-20171207-125055-6.3_UAS-WB-FDG-3D_CT_VENFAS-WB_VEN_AX-0.976562mm\n",
      "5             5                                   F:/ucan_lymfom/ASPTCTX0001_npr108162813691-20180427/CT-20180427-114712-6.3_UAS-WB-FDG-3D_CT_VENFAS-WB_VEN_AX-0.976562mm   F:/ucan_lymfom  ASPTCTX0001_npr108162813691-20180427                                   CT-20180427-114712-6.3_UAS-WB-FDG-3D_CT_VENFAS-WB_VEN_AX-0.976562mm\n",
      "6             6                                   F:/ucan_lymfom/ASPTCTX0001_npr121076428726-20170301/CT-20170301-152833-6.3_UAS-WB-FDG-3D_CT_VENFAS-WB_VEN_AX-0.976562mm   F:/ucan_lymfom  ASPTCTX0001_npr121076428726-20170301                                   CT-20170301-152833-6.3_UAS-WB-FDG-3D_CT_VENFAS-WB_VEN_AX-0.976562mm\n",
      "7             7                                   F:/ucan_lymfom/ASPTCTX0001_npr124708629533-20181129/CT-20181129-120602-6.3_UAS-WB-FDG-3D_CT_VENFAS-WB_VEN_AX-0.976562mm   F:/ucan_lymfom  ASPTCTX0001_npr124708629533-20181129                                   CT-20181129-120602-6.3_UAS-WB-FDG-3D_CT_VENFAS-WB_VEN_AX-0.976562mm\n",
      "8             8                  F:/ucan_lymfom/ASPTCTX0001_npr146743887112-20160816/CT-20160816-145051-6.6_UAS-WB-FDG-3D_VENFASTHORAX_INSP_20160120-WB_VEN_AX-0.976562mm   F:/ucan_lymfom  ASPTCTX0001_npr146743887112-20160816                  CT-20160816-145051-6.6_UAS-WB-FDG-3D_VENFASTHORAX_INSP_20160120-WB_VEN_AX-0.976562mm\n",
      "9             9                                   F:/ucan_lymfom/ASPTCTX0001_npr146743887112-20161118/CT-20161118-142151-6.3_UAS-WB-FDG-3D_CT_VENFAS-WB_VEN_AX-0.976562mm   F:/ucan_lymfom  ASPTCTX0001_npr146743887112-20161118                                   CT-20161118-142151-6.3_UAS-WB-FDG-3D_CT_VENFAS-WB_VEN_AX-0.976562mm\n",
      "10           10                                   F:/ucan_lymfom/ASPTCTX0001_npr167784356423-20180302/CT-20180302-135107-6.3_UAS-WB-FDG-3D_CT_VENFAS-WB_VEN_AX-0.976562mm   F:/ucan_lymfom  ASPTCTX0001_npr167784356423-20180302                                   CT-20180302-135107-6.3_UAS-WB-FDG-3D_CT_VENFAS-WB_VEN_AX-0.976562mm\n",
      "11           11                                   F:/ucan_lymfom/ASPTCTX0001_npr182109034431-20160603/CT-20160603-115246-6.3_UAS-WB-FDG-3D_CT_VENFAS-WB_VEN_AX-0.976562mm   F:/ucan_lymfom  ASPTCTX0001_npr182109034431-20160603                                   CT-20160603-115246-6.3_UAS-WB-FDG-3D_CT_VENFAS-WB_VEN_AX-0.976562mm\n",
      "12           12                                   F:/ucan_lymfom/ASPTCTX0001_npr194566796296-20170921/CT-20170921-121633-6.3_UAS-WB-FDG-3D_CT_VENFAS-WB_VEN_AX-0.976562mm   F:/ucan_lymfom  ASPTCTX0001_npr194566796296-20170921                                   CT-20170921-121633-6.3_UAS-WB-FDG-3D_CT_VENFAS-WB_VEN_AX-0.976562mm\n",
      "13           13                  F:/ucan_lymfom/ASPTCTX0001_npr205044063119-20160804/CT-20160804-155736-6.6_UAS-WB-FDG-3D_VENFASTHORAX_INSP_20160120-WB_VEN_AX-0.976562mm   F:/ucan_lymfom  ASPTCTX0001_npr205044063119-20160804                  CT-20160804-155736-6.6_UAS-WB-FDG-3D_VENFASTHORAX_INSP_20160120-WB_VEN_AX-0.976562mm\n",
      "14           14                                   F:/ucan_lymfom/ASPTCTX0001_npr221625132023-20171122/CT-20171122-120628-6.3_UAS-WB-FDG-3D_CT_VENFAS-WB_VEN_AX-0.976562mm   F:/ucan_lymfom  ASPTCTX0001_npr221625132023-20171122                                   CT-20171122-120628-6.3_UAS-WB-FDG-3D_CT_VENFAS-WB_VEN_AX-0.976562mm\n",
      "15           15                                   F:/ucan_lymfom/ASPTCTX0001_npr252097509348-20180509/CT-20180509-103313-6.3_UAS-WB-FDG-3D_CT_VENFAS-WB_VEN_AX-0.976562mm   F:/ucan_lymfom  ASPTCTX0001_npr252097509348-20180509                                   CT-20180509-103313-6.3_UAS-WB-FDG-3D_CT_VENFAS-WB_VEN_AX-0.976562mm\n",
      "16           16  F:/ucan_lymfom/ASPTCTX0001_npr258071002437-20151118/CT-20151118-111342-6.3_UAS-WB-FDG-3D_CT_THORAX-BUK_VENFAS_20141209-HELKROPP_VENFAS_AX_1MM-0.976562mm   F:/ucan_lymfom  ASPTCTX0001_npr258071002437-20151118  CT-20151118-111342-6.3_UAS-WB-FDG-3D_CT_THORAX-BUK_VENFAS_20141209-HELKROPP_VENFAS_AX_1MM-0.976562mm\n",
      "17           17                                   F:/ucan_lymfom/ASPTCTX0001_npr258071002437-20160805/CT-20160805-131025-6.3_UAS-WB-FDG-3D_CT_VENFAS-WB_VEN_AX-0.976562mm   F:/ucan_lymfom  ASPTCTX0001_npr258071002437-20160805                                   CT-20160805-131025-6.3_UAS-WB-FDG-3D_CT_VENFAS-WB_VEN_AX-0.976562mm\n",
      "18           18                                   F:/ucan_lymfom/ASPTCTX0001_npr274962080070-20170331/CT-20170331-102317-6.3_UAS-WB-FDG-3D_CT_VENFAS-WB_VEN_AX-0.976562mm   F:/ucan_lymfom  ASPTCTX0001_npr274962080070-20170331                                   CT-20170331-102317-6.3_UAS-WB-FDG-3D_CT_VENFAS-WB_VEN_AX-0.976562mm\n",
      "19           19                                   F:/ucan_lymfom/ASPTCTX0001_npr279843649012-20190308/CT-20190308-102136-6.3_UAS-WB-FDG-3D_CT_VENFAS-WB_VEN_AX-0.976562mm   F:/ucan_lymfom  ASPTCTX0001_npr279843649012-20190308                                   CT-20190308-102136-6.3_UAS-WB-FDG-3D_CT_VENFAS-WB_VEN_AX-0.976562mm\n",
      "20           20                                   F:/ucan_lymfom/ASPTCTX0001_npr281975609911-20160201/CT-20160201-104548-6.3_UAS-WB-FDG-3D_CT_VENFAS-WB_VEN_AX-0.976562mm   F:/ucan_lymfom  ASPTCTX0001_npr281975609911-20160201                                   CT-20160201-104548-6.3_UAS-WB-FDG-3D_CT_VENFAS-WB_VEN_AX-0.976562mm\n",
      "21           21               F:/ucan_lymfom/ASPTCTX0001_npr286469043696-20160118/CT-20160118-161054-6.3_UAS-WB-FDG-3D_CT_THORAX-BUK_VENFAS_20141209-WB_VEN_AX-0.976562mm   F:/ucan_lymfom  ASPTCTX0001_npr286469043696-20160118               CT-20160118-161054-6.3_UAS-WB-FDG-3D_CT_THORAX-BUK_VENFAS_20141209-WB_VEN_AX-0.976562mm\n",
      "22           22                                   F:/ucan_lymfom/ASPTCTX0001_npr291194003629-20180420/CT-20180420-130506-6.3_UAS-WB-FDG-3D_CT_VENFAS-WB_VEN_AX-0.976562mm   F:/ucan_lymfom  ASPTCTX0001_npr291194003629-20180420                                   CT-20180420-130506-6.3_UAS-WB-FDG-3D_CT_VENFAS-WB_VEN_AX-0.976562mm\n",
      "23           23                                   F:/ucan_lymfom/ASPTCTX0001_npr291281941375-20170130/CT-20170130-135144-6.3_UAS-WB-FDG-3D_CT_VENFAS-WB_VEN_AX-0.976562mm   F:/ucan_lymfom  ASPTCTX0001_npr291281941375-20170130                                   CT-20170130-135144-6.3_UAS-WB-FDG-3D_CT_VENFAS-WB_VEN_AX-0.976562mm\n",
      "24           24                                   F:/ucan_lymfom/ASPTCTX0001_npr293705922096-20171120/CT-20171120-115430-6.3_UAS-WB-FDG-3D_CT_VENFAS-WB_VEN_AX-0.976562mm   F:/ucan_lymfom  ASPTCTX0001_npr293705922096-20171120                                   CT-20171120-115430-6.3_UAS-WB-FDG-3D_CT_VENFAS-WB_VEN_AX-0.976562mm\n",
      "25           25                                   F:/ucan_lymfom/ASPTCTX0001_npr326789250181-20170227/CT-20170227-140337-6.3_UAS-WB-FDG-3D_CT_VENFAS-WB_VEN_AX-0.976562mm   F:/ucan_lymfom  ASPTCTX0001_npr326789250181-20170227                                   CT-20170227-140337-6.3_UAS-WB-FDG-3D_CT_VENFAS-WB_VEN_AX-0.976562mm\n",
      "26           26                                   F:/ucan_lymfom/ASPTCTX0001_npr330614741709-20170210/CT-20170210-113832-6.3_UAS-WB-FDG-3D_CT_VENFAS-WB_VEN_AX-0.976562mm   F:/ucan_lymfom  ASPTCTX0001_npr330614741709-20170210                                   CT-20170210-113832-6.3_UAS-WB-FDG-3D_CT_VENFAS-WB_VEN_AX-0.976562mm\n",
      "27           27                                   F:/ucan_lymfom/ASPTCTX0001_npr342419811554-20190509/CT-20190509-113501-6.3_UAS-WB-FDG-3D_CT_VENFAS-WB_VEN_AX-0.976562mm   F:/ucan_lymfom  ASPTCTX0001_npr342419811554-20190509                                   CT-20190509-113501-6.3_UAS-WB-FDG-3D_CT_VENFAS-WB_VEN_AX-0.976562mm\n",
      "28           28                                   F:/ucan_lymfom/ASPTCTX0001_npr377574639447-20171004/CT-20171004-103759-6.3_UAS-WB-FDG-3D_CT_VENFAS-WB_VEN_AX-0.976562mm   F:/ucan_lymfom  ASPTCTX0001_npr377574639447-20171004                                   CT-20171004-103759-6.3_UAS-WB-FDG-3D_CT_VENFAS-WB_VEN_AX-0.976562mm\n",
      "29           29                  F:/ucan_lymfom/ASPTCTX0001_npr382661721071-20170208/CT-20170208-134341-6.6_UAS-WB-FDG-3D_VENFASTHORAX_INSP_20160120-WB_VEN_AX-0.976562mm   F:/ucan_lymfom  ASPTCTX0001_npr382661721071-20170208                  CT-20170208-134341-6.6_UAS-WB-FDG-3D_VENFASTHORAX_INSP_20160120-WB_VEN_AX-0.976562mm\n",
      "30           30                                   F:/ucan_lymfom/ASPTCTX0001_npr405587421589-20170220/CT-20170220-120444-6.3_UAS-WB-FDG-3D_CT_VENFAS-WB_VEN_AX-0.976562mm   F:/ucan_lymfom  ASPTCTX0001_npr405587421589-20170220                                   CT-20170220-120444-6.3_UAS-WB-FDG-3D_CT_VENFAS-WB_VEN_AX-0.976562mm\n",
      "31           31                                   F:/ucan_lymfom/ASPTCTX0001_npr409683367521-20171127/CT-20171127-133803-6.3_UAS-WB-FDG-3D_CT_VENFAS-WB_VEN_AX-0.976562mm   F:/ucan_lymfom  ASPTCTX0001_npr409683367521-20171127                                   CT-20171127-133803-6.3_UAS-WB-FDG-3D_CT_VENFAS-WB_VEN_AX-0.976562mm\n",
      "32           32                                   F:/ucan_lymfom/ASPTCTX0001_npr428365547177-20180115/CT-20180115-131210-6.3_UAS-WB-FDG-3D_CT_VENFAS-WB_VEN_AX-0.976562mm   F:/ucan_lymfom  ASPTCTX0001_npr428365547177-20180115                                   CT-20180115-131210-6.3_UAS-WB-FDG-3D_CT_VENFAS-WB_VEN_AX-0.976562mm\n",
      "33           33                                   F:/ucan_lymfom/ASPTCTX0001_npr435136105235-20190508/CT-20190508-095311-6.3_UAS-WB-FDG-3D_CT_VENFAS-WB_VEN_AX-0.976562mm   F:/ucan_lymfom  ASPTCTX0001_npr435136105235-20190508                                   CT-20190508-095311-6.3_UAS-WB-FDG-3D_CT_VENFAS-WB_VEN_AX-0.976562mm\n",
      "34           34                                   F:/ucan_lymfom/ASPTCTX0001_npr440182893392-20190416/CT-20190416-145708-6.3_UAS-WB-FDG-3D_CT_VENFAS-WB_VEN_AX-0.976562mm   F:/ucan_lymfom  ASPTCTX0001_npr440182893392-20190416                                   CT-20190416-145708-6.3_UAS-WB-FDG-3D_CT_VENFAS-WB_VEN_AX-0.976562mm\n",
      "35           35                                   F:/ucan_lymfom/ASPTCTX0001_npr446378411848-20181009/CT-20181009-114947-6.3_UAS-WB-FDG-3D_CT_VENFAS-WB_VEN_AX-0.976562mm   F:/ucan_lymfom  ASPTCTX0001_npr446378411848-20181009                                   CT-20181009-114947-6.3_UAS-WB-FDG-3D_CT_VENFAS-WB_VEN_AX-0.976562mm\n",
      "36           36                                   F:/ucan_lymfom/ASPTCTX0001_npr454843314969-20180424/CT-20180424-123921-6.3_UAS-WB-FDG-3D_CT_VENFAS-WB_VEN_AX-0.976562mm   F:/ucan_lymfom  ASPTCTX0001_npr454843314969-20180424                                   CT-20180424-123921-6.3_UAS-WB-FDG-3D_CT_VENFAS-WB_VEN_AX-0.976562mm\n",
      "37           37                                   F:/ucan_lymfom/ASPTCTX0001_npr467134513124-20171124/CT-20171124-105741-6.3_UAS-WB-FDG-3D_CT_VENFAS-WB_VEN_AX-0.976562mm   F:/ucan_lymfom  ASPTCTX0001_npr467134513124-20171124                                   CT-20171124-105741-6.3_UAS-WB-FDG-3D_CT_VENFAS-WB_VEN_AX-0.976562mm\n",
      "38           38                  F:/ucan_lymfom/ASPTCTX0001_npr469371442966-20160202/CT-20160202-115354-6.6_UAS-WB-FDG-3D_VENFASTHORAX_INSP_20160120-WB_VEN_AX-0.976562mm   F:/ucan_lymfom  ASPTCTX0001_npr469371442966-20160202                  CT-20160202-115354-6.6_UAS-WB-FDG-3D_VENFASTHORAX_INSP_20160120-WB_VEN_AX-0.976562mm\n",
      "39           39                  F:/ucan_lymfom/ASPTCTX0001_npr469371442966-20160930/CT-20160930-100322-6.6_UAS-WB-FDG-3D_VENFASTHORAX_INSP_20160120-WB_VEN_AX-0.976562mm   F:/ucan_lymfom  ASPTCTX0001_npr469371442966-20160930                  CT-20160930-100322-6.6_UAS-WB-FDG-3D_VENFASTHORAX_INSP_20160120-WB_VEN_AX-0.976562mm\n",
      "40           40                                   F:/ucan_lymfom/ASPTCTX0001_npr469371442966-20171003/CT-20171003-142003-6.3_UAS-WB-FDG-3D_CT_VENFAS-WB_VEN_AX-0.976562mm   F:/ucan_lymfom  ASPTCTX0001_npr469371442966-20171003                                   CT-20171003-142003-6.3_UAS-WB-FDG-3D_CT_VENFAS-WB_VEN_AX-0.976562mm\n",
      "41           41                                   F:/ucan_lymfom/ASPTCTX0001_npr503981908635-20161110/CT-20161110-110119-6.3_UAS-WB-FDG-3D_CT_VENFAS-WB_VEN_AX-0.976562mm   F:/ucan_lymfom  ASPTCTX0001_npr503981908635-20161110                                   CT-20161110-110119-6.3_UAS-WB-FDG-3D_CT_VENFAS-WB_VEN_AX-0.976562mm\n",
      "42           42                                   F:/ucan_lymfom/ASPTCTX0001_npr505424351652-20160128/CT-20160128-121254-6.3_UAS-WB-FDG-3D_CT_VENFAS-WB_VEN_AX-0.976562mm   F:/ucan_lymfom  ASPTCTX0001_npr505424351652-20160128                                   CT-20160128-121254-6.3_UAS-WB-FDG-3D_CT_VENFAS-WB_VEN_AX-0.976562mm\n",
      "43           43                                   F:/ucan_lymfom/ASPTCTX0001_npr518116911800-20160912/CT-20160912-160905-6.3_UAS-WB-FDG-3D_CT_VENFAS-WB_VEN_AX-0.976562mm   F:/ucan_lymfom  ASPTCTX0001_npr518116911800-20160912                                   CT-20160912-160905-6.3_UAS-WB-FDG-3D_CT_VENFAS-WB_VEN_AX-0.976562mm\n",
      "44           44                                   F:/ucan_lymfom/ASPTCTX0001_npr525166183069-20190206/CT-20190206-153158-6.3_UAS-WB-FDG-3D_CT_VENFAS-WB_VEN_AX-0.976562mm   F:/ucan_lymfom  ASPTCTX0001_npr525166183069-20190206                                   CT-20190206-153158-6.3_UAS-WB-FDG-3D_CT_VENFAS-WB_VEN_AX-0.976562mm\n",
      "45           45                                   F:/ucan_lymfom/ASPTCTX0001_npr534584194469-20160708/CT-20160708-122121-6.3_UAS-WB-FDG-3D_CT_VENFAS-WB_VEN_AX-0.976562mm   F:/ucan_lymfom  ASPTCTX0001_npr534584194469-20160708                                   CT-20160708-122121-6.3_UAS-WB-FDG-3D_CT_VENFAS-WB_VEN_AX-0.976562mm\n",
      "46           46                                   F:/ucan_lymfom/ASPTCTX0001_npr545868789658-20161125/CT-20161125-154659-6.3_UAS-WB-FDG-3D_CT_VENFAS-WB_VEN_AX-0.976562mm   F:/ucan_lymfom  ASPTCTX0001_npr545868789658-20161125                                   CT-20161125-154659-6.3_UAS-WB-FDG-3D_CT_VENFAS-WB_VEN_AX-0.976562mm\n",
      "47           47                                   F:/ucan_lymfom/ASPTCTX0001_npr561400609660-20160722/CT-20160722-130437-6.3_UAS-WB-FDG-3D_CT_VENFAS-WB_VEN_AX-0.976562mm   F:/ucan_lymfom  ASPTCTX0001_npr561400609660-20160722                                   CT-20160722-130437-6.3_UAS-WB-FDG-3D_CT_VENFAS-WB_VEN_AX-0.976562mm\n",
      "48           48                                   F:/ucan_lymfom/ASPTCTX0001_npr575110821834-20170616/CT-20170616-094557-6.3_UAS-WB-FDG-3D_CT_VENFAS-WB_VEN_AX-0.976562mm   F:/ucan_lymfom  ASPTCTX0001_npr575110821834-20170616                                   CT-20170616-094557-6.3_UAS-WB-FDG-3D_CT_VENFAS-WB_VEN_AX-0.976562mm\n",
      "49           49                                   F:/ucan_lymfom/ASPTCTX0001_npr582168347000-20180212/CT-20180212-125852-6.3_UAS-WB-FDG-3D_CT_VENFAS-WB_VEN_AX-0.976562mm   F:/ucan_lymfom  ASPTCTX0001_npr582168347000-20180212                                   CT-20180212-125852-6.3_UAS-WB-FDG-3D_CT_VENFAS-WB_VEN_AX-0.976562mm\n",
      "50           50                                   F:/ucan_lymfom/ASPTCTX0001_npr582168347000-20180627/CT-20180627-112000-6.3_UAS-WB-FDG-3D_CT_VENFAS-WB_VEN_AX-0.976562mm   F:/ucan_lymfom  ASPTCTX0001_npr582168347000-20180627                                   CT-20180627-112000-6.3_UAS-WB-FDG-3D_CT_VENFAS-WB_VEN_AX-0.976562mm\n",
      "51           51                  F:/ucan_lymfom/ASPTCTX0001_npr583359554588-20160419/CT-20160419-135220-6.6_UAS-WB-FDG-3D_VENFASTHORAX_INSP_20160120-WB_VEN_AX-0.976562mm   F:/ucan_lymfom  ASPTCTX0001_npr583359554588-20160419                  CT-20160419-135220-6.6_UAS-WB-FDG-3D_VENFASTHORAX_INSP_20160120-WB_VEN_AX-0.976562mm\n",
      "52           52                                   F:/ucan_lymfom/ASPTCTX0001_npr587748596301-20180613/CT-20180613-135349-6.3_UAS-WB-FDG-3D_CT_VENFAS-WB_VEN_AX-0.976562mm   F:/ucan_lymfom  ASPTCTX0001_npr587748596301-20180613                                   CT-20180613-135349-6.3_UAS-WB-FDG-3D_CT_VENFAS-WB_VEN_AX-0.976562mm\n",
      "53           53               F:/ucan_lymfom/ASPTCTX0001_npr600444694366-20151215/CT-20151215-115653-6.3_UAS-WB-FDG-3D_CT_THORAX-BUK_VENFAS_20141209-WB_VEN_AX-0.976562mm   F:/ucan_lymfom  ASPTCTX0001_npr600444694366-20151215               CT-20151215-115653-6.3_UAS-WB-FDG-3D_CT_THORAX-BUK_VENFAS_20141209-WB_VEN_AX-0.976562mm\n",
      "54           54                                   F:/ucan_lymfom/ASPTCTX0001_npr624333804002-20160727/CT-20160727-122736-6.3_UAS-WB-FDG-3D_CT_VENFAS-WB_VEN_AX-0.976562mm   F:/ucan_lymfom  ASPTCTX0001_npr624333804002-20160727                                   CT-20160727-122736-6.3_UAS-WB-FDG-3D_CT_VENFAS-WB_VEN_AX-0.976562mm\n",
      "55           55                                   F:/ucan_lymfom/ASPTCTX0001_npr632812817288-20180322/CT-20180322-100709-6.3_UAS-WB-FDG-3D_CT_VENFAS-WB_VEN_AX-0.976562mm   F:/ucan_lymfom  ASPTCTX0001_npr632812817288-20180322                                   CT-20180322-100709-6.3_UAS-WB-FDG-3D_CT_VENFAS-WB_VEN_AX-0.976562mm\n",
      "56           56                                   F:/ucan_lymfom/ASPTCTX0001_npr634845469617-20180312/CT-20180312-104924-6.3_UAS-WB-FDG-3D_CT_VENFAS-WB_VEN_AX-0.976562mm   F:/ucan_lymfom  ASPTCTX0001_npr634845469617-20180312                                   CT-20180312-104924-6.3_UAS-WB-FDG-3D_CT_VENFAS-WB_VEN_AX-0.976562mm\n",
      "57           57                                   F:/ucan_lymfom/ASPTCTX0001_npr647553057134-20180508/CT-20180508-125339-6.3_UAS-WB-FDG-3D_CT_VENFAS-WB_VEN_AX-0.976562mm   F:/ucan_lymfom  ASPTCTX0001_npr647553057134-20180508                                   CT-20180508-125339-6.3_UAS-WB-FDG-3D_CT_VENFAS-WB_VEN_AX-0.976562mm\n",
      "58           58                  F:/ucan_lymfom/ASPTCTX0001_npr649467505125-20160229/CT-20160229-111942-6.6_UAS-WB-FDG-3D_VENFASTHORAX_INSP_20160120-WB_VEN_AX-0.976562mm   F:/ucan_lymfom  ASPTCTX0001_npr649467505125-20160229                  CT-20160229-111942-6.6_UAS-WB-FDG-3D_VENFASTHORAX_INSP_20160120-WB_VEN_AX-0.976562mm\n",
      "59           59                                   F:/ucan_lymfom/ASPTCTX0001_npr651073408157-20161209/CT-20161209-120256-6.3_UAS-WB-FDG-3D_CT_VENFAS-WB_VEN_AX-0.976562mm   F:/ucan_lymfom  ASPTCTX0001_npr651073408157-20161209                                   CT-20161209-120256-6.3_UAS-WB-FDG-3D_CT_VENFAS-WB_VEN_AX-0.976562mm\n",
      "60           60                                   F:/ucan_lymfom/ASPTCTX0001_npr651073408157-20170908/CT-20170908-093515-6.3_UAS-WB-FDG-3D_CT_VENFAS-WB_VEN_AX-0.976562mm   F:/ucan_lymfom  ASPTCTX0001_npr651073408157-20170908                                   CT-20170908-093515-6.3_UAS-WB-FDG-3D_CT_VENFAS-WB_VEN_AX-0.976562mm\n",
      "61           61                                   F:/ucan_lymfom/ASPTCTX0001_npr668855964621-20161212/CT-20161212-134507-6.3_UAS-WB-FDG-3D_CT_VENFAS-WB_VEN_AX-0.976562mm   F:/ucan_lymfom  ASPTCTX0001_npr668855964621-20161212                                   CT-20161212-134507-6.3_UAS-WB-FDG-3D_CT_VENFAS-WB_VEN_AX-0.976562mm\n",
      "62           62                                   F:/ucan_lymfom/ASPTCTX0001_npr669061050364-20180221/CT-20180221-124008-6.3_UAS-WB-FDG-3D_CT_VENFAS-WB_VEN_AX-0.976562mm   F:/ucan_lymfom  ASPTCTX0001_npr669061050364-20180221                                   CT-20180221-124008-6.3_UAS-WB-FDG-3D_CT_VENFAS-WB_VEN_AX-0.976562mm\n",
      "63           63                                   F:/ucan_lymfom/ASPTCTX0001_npr669741150452-20160923/CT-20160923-113657-6.3_UAS-WB-FDG-3D_CT_VENFAS-WB_VEN_AX-0.976562mm   F:/ucan_lymfom  ASPTCTX0001_npr669741150452-20160923                                   CT-20160923-113657-6.3_UAS-WB-FDG-3D_CT_VENFAS-WB_VEN_AX-0.976562mm\n",
      "64           64               F:/ucan_lymfom/ASPTCTX0001_npr671765049272-20151209/CT-20151209-121346-6.3_UAS-WB-FDG-3D_CT_THORAX-BUK_VENFAS_20141209-WB_VEN_AX-0.976562mm   F:/ucan_lymfom  ASPTCTX0001_npr671765049272-20151209               CT-20151209-121346-6.3_UAS-WB-FDG-3D_CT_THORAX-BUK_VENFAS_20141209-WB_VEN_AX-0.976562mm\n",
      "65           65                  F:/ucan_lymfom/ASPTCTX0001_npr679283150260-20160425/CT-20160425-123309-6.6_UAS-WB-FDG-3D_VENFASTHORAX_INSP_20160120-WB_VEN_AX-0.976562mm   F:/ucan_lymfom  ASPTCTX0001_npr679283150260-20160425                  CT-20160425-123309-6.6_UAS-WB-FDG-3D_VENFASTHORAX_INSP_20160120-WB_VEN_AX-0.976562mm\n",
      "66           66                  F:/ucan_lymfom/ASPTCTX0001_npr720339767394-20160808/CT-20160808-140551-6.6_UAS-WB-FDG-3D_VENFASTHORAX_INSP_20160120-WB_VEN_AX-0.976562mm   F:/ucan_lymfom  ASPTCTX0001_npr720339767394-20160808                  CT-20160808-140551-6.6_UAS-WB-FDG-3D_VENFASTHORAX_INSP_20160120-WB_VEN_AX-0.976562mm\n",
      "67           67                                   F:/ucan_lymfom/ASPTCTX0001_npr724286675861-20190410/CT-20190410-111520-6.3_UAS-WB-FDG-3D_CT_VENFAS-WB_VEN_AX-0.976562mm   F:/ucan_lymfom  ASPTCTX0001_npr724286675861-20190410                                   CT-20190410-111520-6.3_UAS-WB-FDG-3D_CT_VENFAS-WB_VEN_AX-0.976562mm\n",
      "68           68  F:/ucan_lymfom/ASPTCTX0001_npr732570862056-20151030/CT-20151030-142913-6.3_UAS-WB-FDG-3D_CT_THORAX-BUK_VENFAS_20141209-HELKROPP_VENFAS_AX_1MM-0.976562mm   F:/ucan_lymfom  ASPTCTX0001_npr732570862056-20151030  CT-20151030-142913-6.3_UAS-WB-FDG-3D_CT_THORAX-BUK_VENFAS_20141209-HELKROPP_VENFAS_AX_1MM-0.976562mm\n",
      "69           69                                   F:/ucan_lymfom/ASPTCTX0001_npr747150409256-20160907/CT-20160907-122548-6.3_UAS-WB-FDG-3D_CT_VENFAS-WB_VEN_AX-0.976562mm   F:/ucan_lymfom  ASPTCTX0001_npr747150409256-20160907                                   CT-20160907-122548-6.3_UAS-WB-FDG-3D_CT_VENFAS-WB_VEN_AX-0.976562mm\n",
      "70           70                                   F:/ucan_lymfom/ASPTCTX0001_npr756877649679-20170222/CT-20170222-142945-6.3_UAS-WB-FDG-3D_CT_VENFAS-WB_VEN_AX-0.976562mm   F:/ucan_lymfom  ASPTCTX0001_npr756877649679-20170222                                   CT-20170222-142945-6.3_UAS-WB-FDG-3D_CT_VENFAS-WB_VEN_AX-0.976562mm\n",
      "71           71                                   F:/ucan_lymfom/ASPTCTX0001_npr762194490268-20170306/CT-20170306-152704-6.3_UAS-WB-FDG-3D_CT_VENFAS-WB_VEN_AX-0.976562mm   F:/ucan_lymfom  ASPTCTX0001_npr762194490268-20170306                                   CT-20170306-152704-6.3_UAS-WB-FDG-3D_CT_VENFAS-WB_VEN_AX-0.976562mm\n",
      "72           72                                   F:/ucan_lymfom/ASPTCTX0001_npr772741368693-20170201/CT-20170201-151607-6.3_UAS-WB-FDG-3D_CT_VENFAS-WB_VEN_AX-0.976562mm   F:/ucan_lymfom  ASPTCTX0001_npr772741368693-20170201                                   CT-20170201-151607-6.3_UAS-WB-FDG-3D_CT_VENFAS-WB_VEN_AX-0.976562mm\n",
      "73           73               F:/ucan_lymfom/ASPTCTX0001_npr772817605007-20151207/CT-20151207-145450-6.3_UAS-WB-FDG-3D_CT_THORAX-BUK_VENFAS_20141209-WB_VEN_AX-0.976562mm   F:/ucan_lymfom  ASPTCTX0001_npr772817605007-20151207               CT-20151207-145450-6.3_UAS-WB-FDG-3D_CT_THORAX-BUK_VENFAS_20141209-WB_VEN_AX-0.976562mm\n",
      "74           74                                   F:/ucan_lymfom/ASPTCTX0001_npr788802379464-20180702/CT-20180702-130142-6.3_UAS-WB-FDG-3D_CT_VENFAS-WB_VEN_AX-0.976562mm   F:/ucan_lymfom  ASPTCTX0001_npr788802379464-20180702                                   CT-20180702-130142-6.3_UAS-WB-FDG-3D_CT_VENFAS-WB_VEN_AX-0.976562mm\n",
      "75           75                                   F:/ucan_lymfom/ASPTCTX0001_npr808216600942-20171006/CT-20171006-140900-6.3_UAS-WB-FDG-3D_CT_VENFAS-WB_VEN_AX-0.976562mm   F:/ucan_lymfom  ASPTCTX0001_npr808216600942-20171006                                   CT-20171006-140900-6.3_UAS-WB-FDG-3D_CT_VENFAS-WB_VEN_AX-0.976562mm\n",
      "76           76                                   F:/ucan_lymfom/ASPTCTX0001_npr812224593859-20180205/CT-20180205-153742-6.3_UAS-WB-FDG-3D_CT_VENFAS-WB_VEN_AX-0.976562mm   F:/ucan_lymfom  ASPTCTX0001_npr812224593859-20180205                                   CT-20180205-153742-6.3_UAS-WB-FDG-3D_CT_VENFAS-WB_VEN_AX-0.976562mm\n",
      "77           77                                   F:/ucan_lymfom/ASPTCTX0001_npr817190381701-20171106/CT-20171106-151238-6.3_UAS-WB-FDG-3D_CT_VENFAS-WB_VEN_AX-0.976562mm   F:/ucan_lymfom  ASPTCTX0001_npr817190381701-20171106                                   CT-20171106-151238-6.3_UAS-WB-FDG-3D_CT_VENFAS-WB_VEN_AX-0.976562mm\n",
      "78           78                                   F:/ucan_lymfom/ASPTCTX0001_npr825799792489-20181003/CT-20181003-105749-6.3_UAS-WB-FDG-3D_CT_VENFAS-WB_VEN_AX-0.976562mm   F:/ucan_lymfom  ASPTCTX0001_npr825799792489-20181003                                   CT-20181003-105749-6.3_UAS-WB-FDG-3D_CT_VENFAS-WB_VEN_AX-0.976562mm\n",
      "79           79  F:/ucan_lymfom/ASPTCTX0001_npr826756003305-20151104/CT-20151104-113145-6.3_UAS-WB-FDG-3D_CT_THORAX-BUK_VENFAS_20141209-HELKROPP_VENFAS_AX_1MM-0.976562mm   F:/ucan_lymfom  ASPTCTX0001_npr826756003305-20151104  CT-20151104-113145-6.3_UAS-WB-FDG-3D_CT_THORAX-BUK_VENFAS_20141209-HELKROPP_VENFAS_AX_1MM-0.976562mm\n",
      "80           80                                   F:/ucan_lymfom/ASPTCTX0001_npr830155105847-20180816/CT-20180816-120718-6.3_UAS-WB-FDG-3D_CT_VENFAS-WB_VEN_AX-0.976562mm   F:/ucan_lymfom  ASPTCTX0001_npr830155105847-20180816                                   CT-20180816-120718-6.3_UAS-WB-FDG-3D_CT_VENFAS-WB_VEN_AX-0.976562mm\n",
      "81           81                                   F:/ucan_lymfom/ASPTCTX0001_npr850400705398-20170825/CT-20170825-093621-6.3_UAS-WB-FDG-3D_CT_VENFAS-WB_VEN_AX-0.976562mm   F:/ucan_lymfom  ASPTCTX0001_npr850400705398-20170825                                   CT-20170825-093621-6.3_UAS-WB-FDG-3D_CT_VENFAS-WB_VEN_AX-0.976562mm\n",
      "82           82                  F:/ucan_lymfom/ASPTCTX0001_npr868652345313-20180504/CT-20180504-120140-6.6_UAS-WB-FDG-3D_VENFASTHORAX_INSP_20160120-WB_VEN_AX-0.976562mm   F:/ucan_lymfom  ASPTCTX0001_npr868652345313-20180504                  CT-20180504-120140-6.6_UAS-WB-FDG-3D_VENFASTHORAX_INSP_20160120-WB_VEN_AX-0.976562mm\n",
      "83           83                                   F:/ucan_lymfom/ASPTCTX0001_npr884176295970-20160921/CT-20160921-143156-6.3_UAS-WB-FDG-3D_CT_VENFAS-WB_VEN_AX-0.976562mm   F:/ucan_lymfom  ASPTCTX0001_npr884176295970-20160921                                   CT-20160921-143156-6.3_UAS-WB-FDG-3D_CT_VENFAS-WB_VEN_AX-0.976562mm\n",
      "84           84               F:/ucan_lymfom/ASPTCTX0001_npr884315527568-20151125/CT-20151125-160132-6.3_UAS-WB-FDG-3D_CT_THORAX-BUK_VENFAS_20141209-WB_VEN_AX-0.976562mm   F:/ucan_lymfom  ASPTCTX0001_npr884315527568-20151125               CT-20151125-160132-6.3_UAS-WB-FDG-3D_CT_THORAX-BUK_VENFAS_20141209-WB_VEN_AX-0.976562mm\n",
      "85           85                                   F:/ucan_lymfom/ASPTCTX0001_npr892697805781-20160819/CT-20160819-131936-6.3_UAS-WB-FDG-3D_CT_VENFAS-WB_VEN_AX-0.976562mm   F:/ucan_lymfom  ASPTCTX0001_npr892697805781-20160819                                   CT-20160819-131936-6.3_UAS-WB-FDG-3D_CT_VENFAS-WB_VEN_AX-0.976562mm\n",
      "86           86                                   F:/ucan_lymfom/ASPTCTX0001_npr926701257290-20171102/CT-20171102-123251-6.3_UAS-WB-FDG-3D_CT_VENFAS-WB_VEN_AX-0.976562mm   F:/ucan_lymfom  ASPTCTX0001_npr926701257290-20171102                                   CT-20171102-123251-6.3_UAS-WB-FDG-3D_CT_VENFAS-WB_VEN_AX-0.976562mm\n",
      "87           87                                   F:/ucan_lymfom/ASPTCTX0001_npr926847751667-20170503/CT-20170503-154648-6.3_UAS-WB-FDG-3D_CT_VENFAS-WB_VEN_AX-0.976562mm   F:/ucan_lymfom  ASPTCTX0001_npr926847751667-20170503                                   CT-20170503-154648-6.3_UAS-WB-FDG-3D_CT_VENFAS-WB_VEN_AX-0.976562mm\n",
      "88           88                                   F:/ucan_lymfom/ASPTCTX0001_npr938226820142-20170510/CT-20170510-151243-6.3_UAS-WB-FDG-3D_CT_VENFAS-WB_VEN_AX-0.976562mm   F:/ucan_lymfom  ASPTCTX0001_npr938226820142-20170510                                   CT-20170510-151243-6.3_UAS-WB-FDG-3D_CT_VENFAS-WB_VEN_AX-0.976562mm\n",
      "89           89                                   F:/ucan_lymfom/ASPTCTX0001_npr959084866575-20171108/CT-20171108-151826-6.3_UAS-WB-FDG-3D_CT_VENFAS-WB_VEN_AX-0.976562mm   F:/ucan_lymfom  ASPTCTX0001_npr959084866575-20171108                                   CT-20171108-151826-6.3_UAS-WB-FDG-3D_CT_VENFAS-WB_VEN_AX-0.976562mm\n",
      "90           90                                   F:/ucan_lymfom/ASPTCTX0001_npr961455973640-20160726/CT-20160726-151056-6.3_UAS-WB-FDG-3D_CT_VENFAS-WB_VEN_AX-0.976562mm   F:/ucan_lymfom  ASPTCTX0001_npr961455973640-20160726                                   CT-20160726-151056-6.3_UAS-WB-FDG-3D_CT_VENFAS-WB_VEN_AX-0.976562mm\n",
      "91           91                                   F:/ucan_lymfom/ASPTCTX0001_npr963059006542-20161024/CT-20161024-103657-6.3_UAS-WB-FDG-3D_CT_VENFAS-WB_VEN_AX-0.976562mm   F:/ucan_lymfom  ASPTCTX0001_npr963059006542-20161024                                   CT-20161024-103657-6.3_UAS-WB-FDG-3D_CT_VENFAS-WB_VEN_AX-0.976562mm\n",
      "92           92                                   F:/ucan_lymfom/ASPTCTX0001_npr988746775706-20180213/CT-20180213-122104-6.3_UAS-WB-FDG-3D_CT_VENFAS-WB_VEN_AX-0.976562mm   F:/ucan_lymfom  ASPTCTX0001_npr988746775706-20180213                                   CT-20180213-122104-6.3_UAS-WB-FDG-3D_CT_VENFAS-WB_VEN_AX-0.976562mm\n",
      "93           93                                   F:/ucan_lymfom/ASPTCTX0001_npr148281950077-20161227/CT-20161227-130551-6.3_UAS-WB-FDG-3D_CT_VENFAS-WB_VEN_AX-0.974609mm   F:/ucan_lymfom  ASPTCTX0001_npr148281950077-20161227                                   CT-20161227-130551-6.3_UAS-WB-FDG-3D_CT_VENFAS-WB_VEN_AX-0.974609mm\n",
      "94           94              F:/ucan_lymfom/ASPTCTX0001_npr658261580441-20150828/CT-20150828-140602-6.3_UAS-WB-FDG-3D_CT_THORAX-BUK_VENFAS_20141209-AX_WB_1_MM-0.974609mm   F:/ucan_lymfom  ASPTCTX0001_npr658261580441-20150828              CT-20150828-140602-6.3_UAS-WB-FDG-3D_CT_THORAX-BUK_VENFAS_20141209-AX_WB_1_MM-0.974609mm\n",
      "95           95                                   F:/ucan_lymfom/ASPTCTX0001_npr900215850414-20160909/CT-20160909-141704-6.3_UAS-WB-FDG-3D_CT_VENFAS-WB_VEN_AX-0.974609mm   F:/ucan_lymfom  ASPTCTX0001_npr900215850414-20160909                                   CT-20160909-141704-6.3_UAS-WB-FDG-3D_CT_VENFAS-WB_VEN_AX-0.974609mm\n",
      "96           96                                   F:/ucan_lymfom/ASPTCTX0001_npr977761809937-20180614/CT-20180614-134827-6.3_UAS-WB-FDG-3D_CT_VENFAS-WB_VEN_AX-0.974609mm   F:/ucan_lymfom  ASPTCTX0001_npr977761809937-20180614                                   CT-20180614-134827-6.3_UAS-WB-FDG-3D_CT_VENFAS-WB_VEN_AX-0.974609mm\n",
      "97           97                  F:/ucan_lymfom/ASPTCTX0001_npr369403930875-20160216/CT-20160216-133120-6.6_UAS-WB-FDG-3D_VENFASTHORAX_INSP_20160120-WB_VEN_AX-0.968750mm   F:/ucan_lymfom  ASPTCTX0001_npr369403930875-20160216                  CT-20160216-133120-6.6_UAS-WB-FDG-3D_VENFASTHORAX_INSP_20160120-WB_VEN_AX-0.968750mm\n",
      "98           98                                   F:/ucan_lymfom/ASPTCTX0001_npr731059024053-20170919/CT-20170919-143443-6.3_UAS-WB-FDG-3D_CT_VENFAS-WB_VEN_AX-0.968750mm   F:/ucan_lymfom  ASPTCTX0001_npr731059024053-20170919                                   CT-20170919-143443-6.3_UAS-WB-FDG-3D_CT_VENFAS-WB_VEN_AX-0.968750mm\n",
      "99           99                                   F:/ucan_lymfom/ASPTCTX0001_npr152700668490-20161012/CT-20161012-162634-6.3_UAS-WB-FDG-3D_CT_VENFAS-WB_VEN_AX-0.964844mm   F:/ucan_lymfom  ASPTCTX0001_npr152700668490-20161012                                   CT-20161012-162634-6.3_UAS-WB-FDG-3D_CT_VENFAS-WB_VEN_AX-0.964844mm\n",
      "100         100                                   F:/ucan_lymfom/ASPTCTX0001_npr292781072009-20190226/CT-20190226-115226-6.3_UAS-WB-FDG-3D_CT_VENFAS-WB_VEN_AX-0.964844mm   F:/ucan_lymfom  ASPTCTX0001_npr292781072009-20190226                                   CT-20190226-115226-6.3_UAS-WB-FDG-3D_CT_VENFAS-WB_VEN_AX-0.964844mm\n",
      "101         101                  F:/ucan_lymfom/ASPTCTX0001_npr505453512659-20160817/CT-20160817-124054-6.6_UAS-WB-FDG-3D_VENFASTHORAX_INSP_20160120-WB_VEN_AX-0.964844mm   F:/ucan_lymfom  ASPTCTX0001_npr505453512659-20160817                  CT-20160817-124054-6.6_UAS-WB-FDG-3D_VENFASTHORAX_INSP_20160120-WB_VEN_AX-0.964844mm\n",
      "102         102                  F:/ucan_lymfom/ASPTCTX0001_npr648969352384-20160318/CT-20160318-150152-6.6_UAS-WB-FDG-3D_VENFASTHORAX_INSP_20160120-WB_VEN_AX-0.964844mm   F:/ucan_lymfom  ASPTCTX0001_npr648969352384-20160318                  CT-20160318-150152-6.6_UAS-WB-FDG-3D_VENFASTHORAX_INSP_20160120-WB_VEN_AX-0.964844mm\n",
      "103         103                                   F:/ucan_lymfom/ASPTCTX0001_npr920358059538-20180426/CT-20180426-092706-6.3_UAS-WB-FDG-3D_CT_VENFAS-WB_VEN_AX-0.964844mm   F:/ucan_lymfom  ASPTCTX0001_npr920358059538-20180426                                   CT-20180426-092706-6.3_UAS-WB-FDG-3D_CT_VENFAS-WB_VEN_AX-0.964844mm\n",
      "104         104                                   F:/ucan_lymfom/ASPTCTX0001_npr215741825379-20180517/CT-20180517-100058-6.3_UAS-WB-FDG-3D_CT_VENFAS-WB_VEN_AX-0.958984mm   F:/ucan_lymfom  ASPTCTX0001_npr215741825379-20180517                                   CT-20180517-100058-6.3_UAS-WB-FDG-3D_CT_VENFAS-WB_VEN_AX-0.958984mm\n",
      "105         105                  F:/ucan_lymfom/ASPTCTX0001_npr312895057397-20160607/CT-20160607-112629-6.6_UAS-WB-FDG-3D_VENFASTHORAX_INSP_20160120-WB_VEN_AX-0.958984mm   F:/ucan_lymfom  ASPTCTX0001_npr312895057397-20160607                  CT-20160607-112629-6.6_UAS-WB-FDG-3D_VENFASTHORAX_INSP_20160120-WB_VEN_AX-0.958984mm\n",
      "106         106               F:/ucan_lymfom/ASPTCTX0001_npr370549107070-20151230/CT-20151230-122202-6.3_UAS-WB-FDG-3D_CT_THORAX-BUK_VENFAS_20141209-WB_VEN_AX-0.958984mm   F:/ucan_lymfom  ASPTCTX0001_npr370549107070-20151230               CT-20151230-122202-6.3_UAS-WB-FDG-3D_CT_THORAX-BUK_VENFAS_20141209-WB_VEN_AX-0.958984mm\n",
      "107         107                                   F:/ucan_lymfom/ASPTCTX0001_npr460485185339-20161026/CT-20161026-153952-6.3_UAS-WB-FDG-3D_CT_VENFAS-WB_VEN_AX-0.958984mm   F:/ucan_lymfom  ASPTCTX0001_npr460485185339-20161026                                   CT-20161026-153952-6.3_UAS-WB-FDG-3D_CT_VENFAS-WB_VEN_AX-0.958984mm\n",
      "108         108                                   F:/ucan_lymfom/ASPTCTX0001_npr518001875139-20171019/CT-20171019-103530-6.3_UAS-WB-FDG-3D_CT_VENFAS-WB_VEN_AX-0.958984mm   F:/ucan_lymfom  ASPTCTX0001_npr518001875139-20171019                                   CT-20171019-103530-6.3_UAS-WB-FDG-3D_CT_VENFAS-WB_VEN_AX-0.958984mm\n",
      "109         109                                   F:/ucan_lymfom/ASPTCTX0001_npr658261580441-20160413/CT-20160413-145906-6.3_UAS-WB-FDG-3D_CT_VENFAS-WB_VEN_AX-0.958984mm   F:/ucan_lymfom  ASPTCTX0001_npr658261580441-20160413                                   CT-20160413-145906-6.3_UAS-WB-FDG-3D_CT_VENFAS-WB_VEN_AX-0.958984mm\n",
      "110         110                                   F:/ucan_lymfom/ASPTCTX0001_npr803393779892-20181212/CT-20181212-133428-6.3_UAS-WB-FDG-3D_CT_VENFAS-WB_VEN_AX-0.958984mm   F:/ucan_lymfom  ASPTCTX0001_npr803393779892-20181212                                   CT-20181212-133428-6.3_UAS-WB-FDG-3D_CT_VENFAS-WB_VEN_AX-0.958984mm\n",
      "111         111                                   F:/ucan_lymfom/ASPTCTX0001_npr826285097547-20170613/CT-20170613-134202-6.3_UAS-WB-FDG-3D_CT_VENFAS-WB_VEN_AX-0.955078mm   F:/ucan_lymfom  ASPTCTX0001_npr826285097547-20170613                                   CT-20170613-134202-6.3_UAS-WB-FDG-3D_CT_VENFAS-WB_VEN_AX-0.955078mm\n",
      "112         112                                   F:/ucan_lymfom/ASPTCTX0001_npr150867785519-20160914/CT-20160914-115909-6.3_UAS-WB-FDG-3D_CT_VENFAS-WB_VEN_AX-0.953125mm   F:/ucan_lymfom  ASPTCTX0001_npr150867785519-20160914                                   CT-20160914-115909-6.3_UAS-WB-FDG-3D_CT_VENFAS-WB_VEN_AX-0.953125mm\n",
      "113         113                                   F:/ucan_lymfom/ASPTCTX0001_npr590733398710-20180216/CT-20180216-121814-6.3_UAS-WB-FDG-3D_CT_VENFAS-WB_VEN_AX-0.953125mm   F:/ucan_lymfom  ASPTCTX0001_npr590733398710-20180216                                   CT-20180216-121814-6.3_UAS-WB-FDG-3D_CT_VENFAS-WB_VEN_AX-0.953125mm\n",
      "114         114                                   F:/ucan_lymfom/ASPTCTX0001_npr686960787788-20180227/CT-20180227-122325-6.3_UAS-WB-FDG-3D_CT_VENFAS-WB_VEN_AX-0.953125mm   F:/ucan_lymfom  ASPTCTX0001_npr686960787788-20180227                                   CT-20180227-122325-6.3_UAS-WB-FDG-3D_CT_VENFAS-WB_VEN_AX-0.953125mm\n",
      "115         115  F:/ucan_lymfom/ASPTCTX0001_npr697989990105-20151113/CT-20151113-135241-6.3_UAS-WB-FDG-3D_CT_THORAX-BUK_VENFAS_20141209-HELKROPP_VENFAS_AX_1MM-0.953125mm   F:/ucan_lymfom  ASPTCTX0001_npr697989990105-20151113  CT-20151113-135241-6.3_UAS-WB-FDG-3D_CT_THORAX-BUK_VENFAS_20141209-HELKROPP_VENFAS_AX_1MM-0.953125mm\n",
      "116         116                                   F:/ucan_lymfom/ASPTCTX0001_npr883486115482-20180601/CT-20180601-125321-6.3_UAS-WB-FDG-3D_CT_VENFAS-WB_VEN_AX-0.953125mm   F:/ucan_lymfom  ASPTCTX0001_npr883486115482-20180601                                   CT-20180601-125321-6.3_UAS-WB-FDG-3D_CT_VENFAS-WB_VEN_AX-0.953125mm\n",
      "117         117  F:/ucan_lymfom/ASPTCTX0001_npr250954428768-20151109/CT-20151109-115409-6.3_UAS-WB-FDG-3D_CT_THORAX-BUK_VENFAS_20141209-HELKROPP_VENFAS_AX_1MM-0.949219mm   F:/ucan_lymfom  ASPTCTX0001_npr250954428768-20151109  CT-20151109-115409-6.3_UAS-WB-FDG-3D_CT_THORAX-BUK_VENFAS_20141209-HELKROPP_VENFAS_AX_1MM-0.949219mm\n",
      "118         118                   F:/ucan_lymfom/ASPTCTX0001_npr988864921432-20210721/CT-20210721-124711-3.11_WB_F18_FDG_VENFAS__THORAX_INANDAD-WB_Venfas_3_ax-3.000000mm   F:/ucan_lymfom  ASPTCTX0001_npr988864921432-20210721                   CT-20210721-124711-3.11_WB_F18_FDG_VENFAS__THORAX_INANDAD-WB_Venfas_3_ax-3.000000mm\n",
      "119         119                                             F:/ucan_lymfom/ASPTCTX0001_npr298455374530-20170112/CT-20170112-124030-6.40_FDG__DT-WB_Venfas_1_ax-1.367188mm   F:/ucan_lymfom  ASPTCTX0001_npr298455374530-20170112                                             CT-20170112-124030-6.40_FDG__DT-WB_Venfas_1_ax-1.367188mm\n",
      "120         120                                             F:/ucan_lymfom/ASPTCTX0001_npr612146277420-20161220/CT-20161220-142442-6.17_FDG__DT-WB_Venfas_1_ax-0.828125mm   F:/ucan_lymfom  ASPTCTX0001_npr612146277420-20161220                                             CT-20161220-142442-6.17_FDG__DT-WB_Venfas_1_ax-0.828125mm\n",
      "121         121                                     F:/ucan_lymfom/ASPTCTX0001_npr207978513481-20190903/CT-20190903-122850-3.6_WB_FDG_CT_VENFAS-WB_Venfas_3_ax-3.000000mm   F:/ucan_lymfom  ASPTCTX0001_npr207978513481-20190903                                     CT-20190903-122850-3.6_WB_FDG_CT_VENFAS-WB_Venfas_3_ax-3.000000mm\n",
      "122         122              F:/ucan_lymfom/ASPTCTX0001_npr250954428768-20150826/CT-20150826-141013-6.3_UAS-WB-FDG-3D_CT_THORAX-BUK_VENFAS_20141209-AX_WB_1_MM-0.943359mm   F:/ucan_lymfom  ASPTCTX0001_npr250954428768-20150826              CT-20150826-141013-6.3_UAS-WB-FDG-3D_CT_THORAX-BUK_VENFAS_20141209-AX_WB_1_MM-0.943359mm\n",
      "123         123              F:/ucan_lymfom/ASPTCTX0001_npr963278382677-20151007/CT-20151007-140637-6.3_UAS-WB-FDG-3D_CT_THORAX-BUK_VENFAS_20141209-AX_WB_1_MM-0.927734mm   F:/ucan_lymfom  ASPTCTX0001_npr963278382677-20151007              CT-20151007-140637-6.3_UAS-WB-FDG-3D_CT_THORAX-BUK_VENFAS_20141209-AX_WB_1_MM-0.927734mm\n",
      "124         124  F:/ucan_lymfom/ASPTCTX0001_npr448774482965-20151123/CT-20151123-160917-6.3_UAS-WB-FDG-3D_CT_THORAX-BUK_VENFAS_20141209-HELKROPP_VENFAS_AX_1MM-0.912109mm   F:/ucan_lymfom  ASPTCTX0001_npr448774482965-20151123  CT-20151123-160917-6.3_UAS-WB-FDG-3D_CT_THORAX-BUK_VENFAS_20141209-HELKROPP_VENFAS_AX_1MM-0.912109mm\n",
      "125         125              F:/ucan_lymfom/ASPTCTX0001_npr377574639447-20150825/CT-20150825-134724-6.3_UAS-WB-FDG-3D_CT_THORAX-BUK_VENFAS_20141209-AX_WB_1_MM-0.900391mm   F:/ucan_lymfom  ASPTCTX0001_npr377574639447-20150825              CT-20150825-134724-6.3_UAS-WB-FDG-3D_CT_THORAX-BUK_VENFAS_20141209-AX_WB_1_MM-0.900391mm\n",
      "126         126                              F:/ucan_lymfom/ASPTCTX0001_npr146432928137-20170210/CT-20170213-074104-6.4_UAS-WB-FDG-3D_CT_ART-VENFAS-AX_2.5-0.8964840174mm   F:/ucan_lymfom  ASPTCTX0001_npr146432928137-20170210                              CT-20170213-074104-6.4_UAS-WB-FDG-3D_CT_ART-VENFAS-AX_2.5-0.8964840174mm\n",
      "127         127         F:/ucan_lymfom/ASPTCTX0001_npr633111903730-20180110/CT-20180112-080432-6.6_UAS-WB-FDG-3D_VENFASTHORAX_INSP_20160120-VENFAS_AX_3_mm-0.8652340174mm   F:/ucan_lymfom  ASPTCTX0001_npr633111903730-20180110         CT-20180112-080432-6.6_UAS-WB-FDG-3D_VENFASTHORAX_INSP_20160120-VENFAS_AX_3_mm-0.8652340174mm\n",
      "128         128              F:/ucan_lymfom/ASPTCTX0001_npr205346582030-20151012/CT-20151012-130521-6.3_UAS-WB-FDG-3D_CT_THORAX-BUK_VENFAS_20141209-AX_WB_1_MM-0.865234mm   F:/ucan_lymfom  ASPTCTX0001_npr205346582030-20151012              CT-20151012-130521-6.3_UAS-WB-FDG-3D_CT_THORAX-BUK_VENFAS_20141209-AX_WB_1_MM-0.865234mm\n",
      "129         129              F:/ucan_lymfom/ASPTCTX0001_npr567278394863-20150820/CT-20150820-112425-6.3_UAS-WB-FDG-3D_CT_THORAX-BUK_VENFAS_20141209-AX_WB_1_MM-0.853516mm   F:/ucan_lymfom  ASPTCTX0001_npr567278394863-20150820              CT-20150820-112425-6.3_UAS-WB-FDG-3D_CT_THORAX-BUK_VENFAS_20141209-AX_WB_1_MM-0.853516mm\n",
      "130         130              F:/ucan_lymfom/ASPTCTX0001_npr624055670870-20150928/CT-20150928-141058-6.3_UAS-WB-FDG-3D_CT_THORAX-BUK_VENFAS_20141209-AX_WB_1_MM-0.828125mm   F:/ucan_lymfom  ASPTCTX0001_npr624055670870-20150928              CT-20150928-141058-6.3_UAS-WB-FDG-3D_CT_THORAX-BUK_VENFAS_20141209-AX_WB_1_MM-0.828125mm\n",
      "131         131                               F:/ucan_lymfom/ASPTCTX0001_npr373998475961-20190314/CT-20190327-090750-6.3_UAS-WB-FDG-3D_CT_VENFAS-AX_2.5_MM-0.7753909826mm   F:/ucan_lymfom  ASPTCTX0001_npr373998475961-20190314                               CT-20190327-090750-6.3_UAS-WB-FDG-3D_CT_VENFAS-AX_2.5_MM-0.7753909826mm\n"
     ]
    }
   ],
   "source": [
    "utils.display_full(distorted_images_bd)\n"
   ]
  },
  {
   "cell_type": "code",
   "execution_count": 105,
   "metadata": {},
   "outputs": [
    {
     "name": "stdout",
     "output_type": "stream",
     "text": [
      "147\n",
      "129\n"
     ]
    }
   ],
   "source": [
    "distorted_patient_wd_list = distorted_images_wd.patient_directory.to_list()\n",
    "distorted_patient_wd_set = set(distorted_patient_wd_list)\n",
    "\n",
    "distorted_patient_bd_list = distorted_images_bd.patient_directory.to_list()\n",
    "distorted_patient_bd_set = set(distorted_patient_bd_list)\n",
    "print(len(distorted_patient_wd_set.difference(distorted_patient_bd_set)))\n",
    "print(len(distorted_patient_bd_set.difference(distorted_patient_wd_set)))\n"
   ]
  },
  {
   "cell_type": "code",
   "execution_count": 106,
   "metadata": {},
   "outputs": [
    {
     "name": "stdout",
     "output_type": "stream",
     "text": [
      "Distorted patient directory in black disk\n",
      "(220, 45)\n",
      "110\n"
     ]
    }
   ],
   "source": [
    "print('Distorted patient directory in black disk')\n",
    "distorted_patient_directory_in_bd = master_data_bd[master_data_bd['patient_directory'].isin(distorted_patient_wd_list)]\n",
    "print(distorted_patient_directory_in_bd.shape)\n",
    "print(distorted_patient_directory_in_bd.patient_directory.nunique())"
   ]
  },
  {
   "cell_type": "code",
   "execution_count": 113,
   "metadata": {},
   "outputs": [
    {
     "name": "stdout",
     "output_type": "stream",
     "text": [
      "Check if distorted patient directory and image directory is present in black disk\n"
     ]
    },
    {
     "data": {
      "text/html": [
       "<div>\n",
       "<style scoped>\n",
       "    .dataframe tbody tr th:only-of-type {\n",
       "        vertical-align: middle;\n",
       "    }\n",
       "\n",
       "    .dataframe tbody tr th {\n",
       "        vertical-align: top;\n",
       "    }\n",
       "\n",
       "    .dataframe thead th {\n",
       "        text-align: right;\n",
       "    }\n",
       "</style>\n",
       "<table border=\"1\" class=\"dataframe\">\n",
       "  <thead>\n",
       "    <tr style=\"text-align: right;\">\n",
       "      <th></th>\n",
       "      <th>Unnamed: 0</th>\n",
       "      <th>Unnamed: 0_x</th>\n",
       "      <th>directory</th>\n",
       "      <th>source_directory</th>\n",
       "      <th>patient_directory</th>\n",
       "      <th>PET-CT_info</th>\n",
       "      <th>system</th>\n",
       "      <th>npr</th>\n",
       "      <th>scan_date</th>\n",
       "      <th>Unnamed: 0_y</th>\n",
       "      <th>...</th>\n",
       "      <th>modality</th>\n",
       "      <th>manufacturer</th>\n",
       "      <th>manufacturer_model</th>\n",
       "      <th>radiopharmaceutical</th>\n",
       "      <th>radiopharmaceutical_volume</th>\n",
       "      <th>radiopharmaceutical_start_time</th>\n",
       "      <th>radionuclide_total_dose</th>\n",
       "      <th>radionuclide_half_life</th>\n",
       "      <th>radionuclide_positron_fraction</th>\n",
       "      <th>radiopharmaceutical_start_date_time</th>\n",
       "    </tr>\n",
       "  </thead>\n",
       "  <tbody>\n",
       "  </tbody>\n",
       "</table>\n",
       "<p>0 rows × 45 columns</p>\n",
       "</div>"
      ],
      "text/plain": [
       "Empty DataFrame\n",
       "Columns: [Unnamed: 0, Unnamed: 0_x, directory, source_directory, patient_directory, PET-CT_info, system, npr, scan_date, Unnamed: 0_y, dicom_img, patient_id, patient_age, patient_weight, patient_size, imgsz_x, imgsz_y, num_slices, voxsz_x, voxsz_y, slice_thickness, image_size, voxel_size, img_pos, img_orient, for_uid, att_corr, recons_method, image_type, aquisition_dt, aquisition_time, study_desc, series_desc, protocol, corr_img, modality, manufacturer, manufacturer_model, radiopharmaceutical, radiopharmaceutical_volume, radiopharmaceutical_start_time, radionuclide_total_dose, radionuclide_half_life, radionuclide_positron_fraction, radiopharmaceutical_start_date_time]\n",
       "Index: []\n",
       "\n",
       "[0 rows x 45 columns]"
      ]
     },
     "execution_count": 113,
     "metadata": {},
     "output_type": "execute_result"
    }
   ],
   "source": [
    "# Distorted image directory list in white disk\n",
    "distorted_images_wd_list = distorted_images_wd['PET-CT_info'].to_list()\n",
    "\n",
    "print('Check if distorted patient directory and image directory is present in black disk')\n",
    "master_data_bd[np.logical_and(master_data_bd['patient_directory'].isin(distorted_patient_wd_list), master_data_bd['PET-CT_info'].isin(distorted_images_wd_list))]"
   ]
  },
  {
   "cell_type": "code",
   "execution_count": null,
   "metadata": {},
   "outputs": [],
   "source": []
  },
  {
   "cell_type": "markdown",
   "metadata": {},
   "source": [
    "##### Check for misclassified distorted image"
   ]
  },
  {
   "cell_type": "code",
   "execution_count": 119,
   "metadata": {},
   "outputs": [],
   "source": [
    "def display_full(x):\n",
    "    with pd.option_context(\"display.max_rows\", None,\n",
    "                           \"display.max_columns\", None,\n",
    "                           \"display.width\", 20000,\n",
    "                           \"display.max_colwidth\", None,\n",
    "                           ):\n",
    "        print(x)"
   ]
  },
  {
   "cell_type": "code",
   "execution_count": 120,
   "metadata": {},
   "outputs": [
    {
     "name": "stdout",
     "output_type": "stream",
     "text": [
      "     Unnamed: 0                                                                                                                                directory source_directory                     patient_directory                                                                          PET-CT_info\n",
      "118         118  F:/ucan_lymfom/ASPTCTX0001_npr988864921432-20210721/CT-20210721-124711-3.11_WB_F18_FDG_VENFAS__THORAX_INANDAD-WB_Venfas_3_ax-3.000000mm   F:/ucan_lymfom  ASPTCTX0001_npr988864921432-20210721  CT-20210721-124711-3.11_WB_F18_FDG_VENFAS__THORAX_INANDAD-WB_Venfas_3_ax-3.000000mm\n",
      "121         121                    F:/ucan_lymfom/ASPTCTX0001_npr207978513481-20190903/CT-20190903-122850-3.6_WB_FDG_CT_VENFAS-WB_Venfas_3_ax-3.000000mm   F:/ucan_lymfom  ASPTCTX0001_npr207978513481-20190903                    CT-20190903-122850-3.6_WB_FDG_CT_VENFAS-WB_Venfas_3_ax-3.000000mm\n"
     ]
    }
   ],
   "source": [
    "correct_distorted_images = ['ASPTCTX0001_npr207978513481-20190903', 'ASPTCTX0001_npr988864921432-20210721']\n",
    "display_full(distorted_images_bd[distorted_images_bd.patient_directory.isin(correct_distorted_images)])"
   ]
  },
  {
   "cell_type": "code",
   "execution_count": 122,
   "metadata": {},
   "outputs": [
    {
     "name": "stdout",
     "output_type": "stream",
     "text": [
      "Image selected instead of misclassified image\n",
      "      Unnamed: 0  Unnamed: 0_x                                                                                                                                 directory source_directory                     patient_directory                                                                           PET-CT_info       system              npr  scan_date  Unnamed: 0_y                                          dicom_img       patient_id  patient_age patient_weight patient_size  imgsz_x  imgsz_y  num_slices   voxsz_x   voxsz_y  slice_thickness       image_size                    voxel_size                                                  img_pos                                                      img_orient                                                       for_uid                                         att_corr recons_method                                image_type aquisition_dt   aquisition_time         study_desc           series_desc                                    protocol                                                                       corr_img modality           manufacturer manufacturer_model           radiopharmaceutical radiopharmaceutical_volume radiopharmaceutical_start_time radionuclide_total_dose radionuclide_half_life radionuclide_positron_fraction radiopharmaceutical_start_date_time\n",
      "328          328           764                     F:/ucan_lymfom/ASPTCTX0001_npr207978513481-20190903/CT-20190903-122850-3.6_WB_FDG_CT_VENFAS-WB_Venfas_3_ax-0.976562mm   F:/ucan_lymfom  ASPTCTX0001_npr207978513481-20190903                     CT-20190903-122850-3.6_WB_FDG_CT_VENFAS-WB_Venfas_3_ax-0.976562mm  ASPTCTX0001  npr207978513481   20190903          6381    1.2.840.113619.2.5.42235196.12799.1567499758.51  npr207978513481         71.0         '73.0'       '1.82'      512      512         382  1.857910  1.857910         0.976562  (512, 512, 382)  (1.85791, 1.85791, 0.976562)                              [-475.625, -1.953, -31.002]   [1.000000, 0.000000, 0.000000, 0.000000, 0.000000, -1.000000]   1.2.840.113619.2.405.3.3842664208.836.1567429757.711.7035.1                                              NaN           NaN   ['DERIVED', 'SECONDARY', 'REFORMATTED']    '20190903'   '122647.495816'   'PET FDG WB 1 h'      'WB Venfas 3 ax'                      '3.6 WB_FDG CT VENFAS'                                                                            NaN       CT   'GE MEDICAL SYSTEMS'     'Discovery MI'                           NaN                        NaN                            NaN                     NaN                    NaN                            NaN                                 NaN\n",
      "329          329           763                           F:/ucan_lymfom/ASPTCTX0001_npr207978513481-20190903/PT-20190903-121228-3.6_WB_FDG_CT_VENFAS-QCFX-S_400-2.7900mm   F:/ucan_lymfom  ASPTCTX0001_npr207978513481-20190903                           PT-20190903-121228-3.6_WB_FDG_CT_VENFAS-QCFX-S_400-2.7900mm  ASPTCTX0001  npr207978513481   20190903          6378  1.2.840.113619.2.405.3842664208.1567506441.917166  npr207978513481         71.0         '73.0'       '1.82'      256      256         341  1.953125  1.953125         2.790000  (256, 256, 341)    (1.953125, 1.953125, 2.79)   [-249.02343750000, -249.02343750000, -32.250007629394]                                             [1, 0, 0, 0, 1, -0]   1.2.840.113619.2.405.3.3842664208.836.1567429757.711.7035.1   'measured,, 0.000000 cm-1, attenuation smooth'        'QCFX'                   ['ORIGINAL', 'PRIMARY']    '20190903'          '122238'   'PET FDG WB 1 h'          'QCFX-S 400'                      '3.6 WB_FDG CT VENFAS'           ['DECY', 'ATTN', 'SCAT', 'DTIM', 'RANSNG', 'DCAL', 'SLSENS', 'NORM']       PT   'GE MEDICAL SYSTEMS'     'Discovery MI'   'FDG -- fluorodeoxyglucose'                      '0.0'                    '111400.00'           '224563488.0'      '6586.2001953125'             '0.96700000762939'                 '20190903111400.00'\n",
      "2250        2250           283   F:/ucan_lymfom/ASPTCTX0001_npr988864921432-20210721/CT-20210721-124711-3.11_WB_F18_FDG_VENFAS__THORAX_INANDAD-WB_Venfas_3_ax-0.933594mm   F:/ucan_lymfom  ASPTCTX0001_npr988864921432-20210721   CT-20210721-124711-3.11_WB_F18_FDG_VENFAS__THORAX_INANDAD-WB_Venfas_3_ax-0.933594mm  ASPTCTX0001  npr988864921432   20210721         10025    1.2.840.113619.2.5.91447937.13022.1626846962.10  npr988864921432         64.0         '74.0'       '1.73'      512      512         354  1.718750  1.718750         0.933594  (512, 512, 354)  (1.71875, 1.71875, 0.933594)                                  [-440, -4.667, -10.502]   [1.000000, 0.000000, 0.000000, 0.000000, 0.000000, -1.000000]   1.2.840.113619.2.405.3.3842663696.236.1626789669.335.6125.1                                              NaN           NaN   ['DERIVED', 'SECONDARY', 'REFORMATTED']    '20210721'   '124332.367764'   'PET FDG WB 1 h'      'WB Venfas 3 ax'   '3.11 WB F18 FDG VENFAS + THORAX INANDAD'                                                                            NaN       CT   'GE MEDICAL SYSTEMS'     'Discovery MI'                           NaN                        NaN                            NaN                     NaN                    NaN                            NaN                                 NaN\n",
      "2251        2251           282  F:/ucan_lymfom/ASPTCTX0001_npr988864921432-20210721/PT-20210721-123004-3.11_WB_F18_FDG_VENFAS__THORAX_INANDAD-QCFX-S_400_M.Free-2.8000mm   F:/ucan_lymfom  ASPTCTX0001_npr988864921432-20210721  PT-20210721-123004-3.11_WB_F18_FDG_VENFAS__THORAX_INANDAD-QCFX-S_400_M.Free-2.8000mm  ASPTCTX0001  npr988864921432   20210721         10027  1.2.840.113619.2.405.3842663696.1626864590.769780  npr988864921432         64.0         '74.0'       '1.73'      256      256         314  1.953125  1.953125         2.800000  (256, 256, 314)     (1.953125, 1.953125, 2.8)   [-249.02343750000, -249.02343750000, -11.749998092651]                                             [1, 0, 0, 0, 1, -0]   1.2.840.113619.2.405.3.3842663696.236.1626789669.335.6125.1   'measured,, 0.000000 cm-1, attenuation smooth'        'QCFX'                   ['ORIGINAL', 'PRIMARY']    '20210721'          '123912'   'PET FDG WB 1 h'   'QCFX-S 400 M.Free'   '3.11 WB F18 FDG VENFAS + THORAX INANDAD'   ['DECY', 'ATTN', 'SCAT', 'DTIM', 'RANSNG', 'DCAL', 'SLSENS', 'NORM', 'PMOT']       PT   'GE MEDICAL SYSTEMS'     'Discovery MI'   'FDG -- fluorodeoxyglucose'                      '0.0'                    '113200.00'           '229533296.0'      '6586.2001953125'             '0.96700000762939'                 '20210721113200.00'\n"
     ]
    }
   ],
   "source": [
    "print(\"Image selected instead of misclassified image\")\n",
    "display_full(master_data_bd[master_data_bd.patient_directory.isin(correct_distorted_images)])"
   ]
  },
  {
   "cell_type": "code",
   "execution_count": null,
   "metadata": {},
   "outputs": [],
   "source": []
  },
  {
   "cell_type": "markdown",
   "metadata": {},
   "source": [
    "##### Copy additional exams from white disk to black disk"
   ]
  },
  {
   "cell_type": "code",
   "execution_count": null,
   "metadata": {},
   "outputs": [],
   "source": [
    "shutil.copytree(folder_path,\n",
    "                        #                 os.path.join(destination_path, second_part_of_path),\n",
    "                        #                 dirs_exist_ok=True)"
   ]
  },
  {
   "cell_type": "code",
   "execution_count": null,
   "metadata": {},
   "outputs": [],
   "source": []
  },
  {
   "cell_type": "markdown",
   "metadata": {},
   "source": [
    "##### Check if distorted folders contains only single dicom file"
   ]
  },
  {
   "cell_type": "code",
   "execution_count": 141,
   "metadata": {},
   "outputs": [],
   "source": [
    "countfiles_distorted = {'directory':[],\n",
    "                        'count':[]}\n",
    "for index, row in distorted_images_bd.iterrows():\n",
    "    count = 0\n",
    "    # Iterate directory\n",
    "    for path in os.listdir(row['directory']):\n",
    "        # check if current path is a file\n",
    "        if os.path.isfile(os.path.join(row['directory'], path)):\n",
    "            count += 1\n",
    "    countfiles_distorted['directory'].append(row['directory'])\n",
    "    countfiles_distorted['count'].append(count)\n",
    "    #print('File count:', count)"
   ]
  },
  {
   "cell_type": "code",
   "execution_count": 148,
   "metadata": {},
   "outputs": [
    {
     "data": {
      "text/html": [
       "<div>\n",
       "<style scoped>\n",
       "    .dataframe tbody tr th:only-of-type {\n",
       "        vertical-align: middle;\n",
       "    }\n",
       "\n",
       "    .dataframe tbody tr th {\n",
       "        vertical-align: top;\n",
       "    }\n",
       "\n",
       "    .dataframe thead th {\n",
       "        text-align: right;\n",
       "    }\n",
       "</style>\n",
       "<table border=\"1\" class=\"dataframe\">\n",
       "  <thead>\n",
       "    <tr style=\"text-align: right;\">\n",
       "      <th></th>\n",
       "      <th>directory</th>\n",
       "      <th>count</th>\n",
       "    </tr>\n",
       "  </thead>\n",
       "  <tbody>\n",
       "    <tr>\n",
       "      <th>0</th>\n",
       "      <td>F:/ucan_lymfom/ASPTCTX0001_npr293454605342-201...</td>\n",
       "      <td>1</td>\n",
       "    </tr>\n",
       "    <tr>\n",
       "      <th>1</th>\n",
       "      <td>F:/ucan_lymfom/ASPTCTX0001_npr701047368478-201...</td>\n",
       "      <td>1</td>\n",
       "    </tr>\n",
       "  </tbody>\n",
       "</table>\n",
       "</div>"
      ],
      "text/plain": [
       "                                           directory  count\n",
       "0  F:/ucan_lymfom/ASPTCTX0001_npr293454605342-201...      1\n",
       "1  F:/ucan_lymfom/ASPTCTX0001_npr701047368478-201...      1"
      ]
     },
     "execution_count": 148,
     "metadata": {},
     "output_type": "execute_result"
    }
   ],
   "source": [
    "countfiles_distorted_df = pd.DataFrame(countfiles_distorted)\n",
    "countfiles_distorted_df.head(2)"
   ]
  },
  {
   "cell_type": "code",
   "execution_count": 147,
   "metadata": {},
   "outputs": [
    {
     "name": "stdout",
     "output_type": "stream",
     "text": [
      "                                                                                                                                   directory  count\n",
      "118  F:/ucan_lymfom/ASPTCTX0001_npr988864921432-20210721/CT-20210721-124711-3.11_WB_F18_FDG_VENFAS__THORAX_INANDAD-WB_Venfas_3_ax-3.000000mm    706\n",
      "121                    F:/ucan_lymfom/ASPTCTX0001_npr207978513481-20190903/CT-20190903-122850-3.6_WB_FDG_CT_VENFAS-WB_Venfas_3_ax-3.000000mm    762\n"
     ]
    }
   ],
   "source": [
    "display_full(countfiles_distorted_df[countfiles_distorted_df['count'] > 1])"
   ]
  },
  {
   "cell_type": "markdown",
   "metadata": {},
   "source": [
    "##### Check if any selected folders contains only single dicom file"
   ]
  },
  {
   "cell_type": "code",
   "execution_count": 150,
   "metadata": {},
   "outputs": [],
   "source": [
    "countfiles_selected = {'directory':[],\n",
    "                        'count':[]}\n",
    "for index, row in master_data_bd.iterrows():\n",
    "    count = 0\n",
    "    # Iterate directory\n",
    "    for path in os.listdir(row['directory']):\n",
    "        # check if current path is a file\n",
    "        if os.path.isfile(os.path.join(row['directory'], path)):\n",
    "            count += 1\n",
    "    countfiles_selected['directory'].append(row['directory'])\n",
    "    countfiles_selected['count'].append(count)\n",
    "    #print('File count:', count)"
   ]
  },
  {
   "cell_type": "code",
   "execution_count": 151,
   "metadata": {},
   "outputs": [
    {
     "data": {
      "text/html": [
       "<div>\n",
       "<style scoped>\n",
       "    .dataframe tbody tr th:only-of-type {\n",
       "        vertical-align: middle;\n",
       "    }\n",
       "\n",
       "    .dataframe tbody tr th {\n",
       "        vertical-align: top;\n",
       "    }\n",
       "\n",
       "    .dataframe thead th {\n",
       "        text-align: right;\n",
       "    }\n",
       "</style>\n",
       "<table border=\"1\" class=\"dataframe\">\n",
       "  <thead>\n",
       "    <tr style=\"text-align: right;\">\n",
       "      <th></th>\n",
       "      <th>directory</th>\n",
       "      <th>count</th>\n",
       "    </tr>\n",
       "  </thead>\n",
       "  <tbody>\n",
       "    <tr>\n",
       "      <th>0</th>\n",
       "      <td>F:/ucan_lymfom/ASPTCTX0001_lpr385705046400-201...</td>\n",
       "      <td>215</td>\n",
       "    </tr>\n",
       "    <tr>\n",
       "      <th>1</th>\n",
       "      <td>F:/ucan_lymfom/ASPTCTX0001_lpr385705046400-201...</td>\n",
       "      <td>247</td>\n",
       "    </tr>\n",
       "  </tbody>\n",
       "</table>\n",
       "</div>"
      ],
      "text/plain": [
       "                                           directory  count\n",
       "0  F:/ucan_lymfom/ASPTCTX0001_lpr385705046400-201...    215\n",
       "1  F:/ucan_lymfom/ASPTCTX0001_lpr385705046400-201...    247"
      ]
     },
     "execution_count": 151,
     "metadata": {},
     "output_type": "execute_result"
    }
   ],
   "source": [
    "countfiles_selected_df = pd.DataFrame(countfiles_selected)\n",
    "countfiles_selected_df.head(2)"
   ]
  },
  {
   "cell_type": "code",
   "execution_count": 169,
   "metadata": {},
   "outputs": [
    {
     "name": "stdout",
     "output_type": "stream",
     "text": [
      "                                                                                                                                                     directory  count\n",
      "284                                    F:/ucan_lymfom/ASPTCTX0001_npr196644347217-20161125/CT-20161125-114603-6.3_UAS-WB-FDG-3D_CT_VENFAS-WB_VEN_AX-0.958984mm      1\n",
      "750                                    F:/ucan_lymfom/ASPTCTX0001_npr338511978351-20170201/CT-20170201-122546-6.3_UAS-WB-FDG-3D_CT_VENFAS-WB_VEN_AX-0.953125mm      1\n",
      "1398  F:/ucan_lymfom/ASPTCTX0001_npr567278394863-20151103/CT-20151103-130218-6.3_UAS-WB-FDG-3D_CT_THORAX-BUK_VENFAS_20141209-HELKROPP_VENFAS_AX_1MM-0.976562mm      1\n",
      "1412                  F:/ucan_lymfom/ASPTCTX0001_npr574436824692-20170222/CT-20170222-104855-6.6_UAS-WB-FDG-3D_VENFASTHORAX_INSP_20160120-WB_VEN_AX-0.951172mm      1\n",
      "1682                                   F:/ucan_lymfom/ASPTCTX0001_npr676639996732-20180928/CT-20180928-150052-6.3_UAS-WB-FDG-3D_CT_VENFAS-WB_VEN_AX-0.976562mm      1\n",
      "1706                                F:/ucan_lymfom/ASPTCTX0001_npr686960787788-20180227/CT-20180227-130531-6.3_UAS-WB-FDG-3D_CT_VENFAS-WB_VENFAS_AX-0.953125mm      1\n"
     ]
    }
   ],
   "source": [
    "misclassified_selected_files = countfiles_selected_df[countfiles_selected_df['count'] < 2].copy()\n",
    "misclassified_selected_directory_list = misclassified_selected_files.directory.to_list()\n",
    "display_full(misclassified_selected_files)"
   ]
  },
  {
   "cell_type": "code",
   "execution_count": 160,
   "metadata": {},
   "outputs": [],
   "source": [
    "misclassified_selected_files.to_excel('F:/ucan_lymfom/MisclassifiedSelected_files.xlsx')"
   ]
  },
  {
   "cell_type": "code",
   "execution_count": 162,
   "metadata": {},
   "outputs": [
    {
     "name": "stdout",
     "output_type": "stream",
     "text": [
      "     Unnamed: 0  Unnamed: 0_x                                                                                                                        directory source_directory                     patient_directory                                                                  PET-CT_info       system              npr  scan_date  Unnamed: 0_y                                          dicom_img       patient_id  patient_age patient_weight patient_size  imgsz_x  imgsz_y  num_slices   voxsz_x   voxsz_y  slice_thickness       image_size                      voxel_size                                                  img_pos                                                     img_orient                                                       for_uid                      att_corr recons_method                                           image_type aquisition_dt aquisition_time         study_desc       series_desc                            protocol                                                            corr_img modality           manufacturer manufacturer_model           radiopharmaceutical radiopharmaceutical_volume radiopharmaceutical_start_time radionuclide_total_dose radionuclide_half_life radionuclide_positron_fraction radiopharmaceutical_start_date_time\n",
      "140         140          1525  F:/ucan_lymfom/ASPTCTX0001_npr146432928137-20170210/CT-20170213-071303-6.4_UAS-WB-FDG-3D_CT_ART-VENFAS-BUK_ARTFAS_AX-0.773438mm   F:/ucan_lymfom  ASPTCTX0001_npr146432928137-20170210  CT-20170213-071303-6.4_UAS-WB-FDG-3D_CT_ART-VENFAS-BUK_ARTFAS_AX-0.773438mm  ASPTCTX0001  npr146432928137   20170210          2548    1.2.840.113619.2.5.1207072.11718.1486723050.707  npr146432928137         74.0         '70.0'       '1.67'      512      512           8  0.865234  0.865234         0.773438    (512, 512, 8)  (0.865234, 0.865234, 0.773438)                  [-231.450195, -200.301758, -194.162506]   [1.000000, 0.000000, 0.000000, 0.000000, 1.000000, 0.000000]   1.2.840.113619.2.55.3.4240671514.908.1486708178.867.13420.1                           NaN           NaN   ['DERIVED', 'SECONDARY', 'REFORMATTED', 'AVERAGE']    '20170210'        '160019'   'PET FDG WB 1 h'   'BUK ARTFAS AX'   '6.4 UAS-WB-FDG-3D CT ART-VENFAS'                                                                 NaN       CT   'GE MEDICAL SYSTEMS'    'Discovery STE'                           NaN                        NaN                            NaN                     NaN                    NaN                            NaN                                 NaN\n",
      "141         141          1526            F:/ucan_lymfom/ASPTCTX0001_npr146432928137-20170210/PT-20170210-153739-UAS-WB-FDG-3D_CT_ART-VENFAS-WB-FDG-AC-3.2700mm   F:/ucan_lymfom  ASPTCTX0001_npr146432928137-20170210            PT-20170210-153739-UAS-WB-FDG-3D_CT_ART-VENFAS-WB-FDG-AC-3.2700mm  ASPTCTX0001  npr146432928137   20170210          2541  1.2.840.113619.2.131.4240671514.1486739216.614061  npr146432928137         74.0         '70.0'       '1.67'      128      128         247  3.906250  3.906250         3.270000  (128, 128, 247)        (3.90625, 3.90625, 3.27)   [-248.04687500000, -248.04687500000, 129.750000000000]                                            [1, 0, 0, 0, 1, -0]   1.2.840.113619.2.55.3.4240671514.908.1486708178.867.13420.1   'measured,, 0.096000 cm-1,'       '3D IR'                              ['ORIGINAL', 'PRIMARY']    '20170210'        '155249'   'PET FDG WB 1 h'       'WB-FDG-AC'       'UAS-WB-FDG-3D CT ART-VENFAS'   ['DECY', 'ATTN', 'SCAT', 'DTIM', 'RAN', 'DCAL', 'SLSENS', 'NORM']       PT   'GE MEDICAL SYSTEMS'    'Discovery STE'   'FDG -- fluorodeoxyglucose'                      '0.0'                    '142900.00'           '283193888.0'               '6588.0'             '0.97000002861023'                 '20170210142900.00'\n"
     ]
    }
   ],
   "source": [
    "display_full(master_data_bd[master_data_bd.patient_directory == 'ASPTCTX0001_npr146432928137-20170210'])"
   ]
  },
  {
   "cell_type": "markdown",
   "metadata": {},
   "source": [
    "##### Check images with less than 200 slices in selected data"
   ]
  },
  {
   "cell_type": "code",
   "execution_count": 164,
   "metadata": {},
   "outputs": [
    {
     "name": "stdout",
     "output_type": "stream",
     "text": [
      "     Unnamed: 0  Unnamed: 0_x                                                                                                              directory source_directory                     patient_directory                                                        PET-CT_info       system              npr  scan_date  Unnamed: 0_y                                              dicom_img       patient_id  patient_age patient_weight patient_size  imgsz_x  imgsz_y  num_slices   voxsz_x   voxsz_y  slice_thickness       image_size                  voxel_size                                                  img_pos                                                     img_orient                                                       for_uid                      att_corr recons_method                         image_type aquisition_dt aquisition_time     study_desc           series_desc              protocol                                                            corr_img modality           manufacturer manufacturer_model           radiopharmaceutical radiopharmaceutical_volume radiopharmaceutical_start_time radionuclide_total_dose radionuclide_half_life radionuclide_positron_fraction radiopharmaceutical_start_date_time\n",
      "730         730          2263  F:/ucan_lymfom/ASPTCTX0001_npr326241131414-20111219/CT-20111219-123808-6.3_UAS-WB-FDG-3D-STANDARD_CT_RECON-3.750000mm   F:/ucan_lymfom  ASPTCTX0001_npr326241131414-20111219  CT-20111219-123808-6.3_UAS-WB-FDG-3D-STANDARD_CT_RECON-3.750000mm  ASPTCTX0001  npr326241131414   20111219         14112  1.2.840.113619.2.55.3.4240671514.978.1323945509.718.1  npr326241131414         27.0         '51.0'       '1.67'      512      512         215  0.976562  0.976562             3.75  (512, 512, 215)  (0.976562, 0.976562, 3.75)                            [-250.000, -250.000, 170.580]   [1.000000, 0.000000, 0.000000, 0.000000, 1.000000, 0.000000]   1.2.840.113619.2.55.3.4240671514.978.1323945509.467.12745.1                           NaN           NaN   ['ORIGINAL', 'PRIMARY', 'AXIAL']    '20111219'        '123821'   'FDG WB 1 h'   'STANDARD CT RECON'   '6.3 UAS-WB-FDG-3D'                                                                 NaN       CT   'GE MEDICAL SYSTEMS'    'Discovery STE'                           NaN                        NaN                            NaN                     NaN                    NaN                            NaN                                 NaN\n",
      "731         731          2262         F:/ucan_lymfom/ASPTCTX0001_npr326241131414-20111219/PT-20111219-123954-UAS-WB-FDG-3D-UAS-WB-FDG-3D-AC-3.2700mm   F:/ucan_lymfom  ASPTCTX0001_npr326241131414-20111219         PT-20111219-123954-UAS-WB-FDG-3D-UAS-WB-FDG-3D-AC-3.2700mm  ASPTCTX0001  npr326241131414   20111219         14115      1.2.840.113619.2.131.4240671514.1324296101.998849  npr326241131414         27.0         '51.0'       '1.67'      128      128         247  5.468750  5.468750             3.27  (128, 128, 247)    (5.46875, 5.46875, 3.27)   [-347.26562500000, -347.26562500000, 172.520004272460]                                            [1, 0, 0, 0, 1, -0]   1.2.840.113619.2.55.3.4240671514.978.1323945509.467.12745.1   'measured,, 0.096000 cm-1,'       '3D IR'            ['ORIGINAL', 'PRIMARY']    '20111219'        '125505'   'FDG WB 1 h'    'UAS-WB-FDG-3D-AC'       'UAS-WB-FDG-3D'   ['DECY', 'ATTN', 'SCAT', 'DTIM', 'RAN', 'DCAL', 'SLSENS', 'NORM']       PT   'GE MEDICAL SYSTEMS'    'Discovery STE'   'FDG -- fluorodeoxyglucose'                      '0.0'                    '112500.00'           '236287648.0'               '6588.0'             '0.97000002861023'                 '20111219112500.00'\n"
     ]
    }
   ],
   "source": [
    "display_full(master_data_bd[master_data_bd['patient_directory'] == 'ASPTCTX0001_npr326241131414-20111219'])"
   ]
  },
  {
   "cell_type": "code",
   "execution_count": 174,
   "metadata": {},
   "outputs": [
    {
     "name": "stdout",
     "output_type": "stream",
     "text": [
      "      Unnamed: 0  Unnamed: 0_x                                                                                                                        directory source_directory                     patient_directory                                                                  PET-CT_info       system              npr  scan_date  Unnamed: 0_y                                               dicom_img       patient_id  patient_age patient_weight    patient_size  imgsz_x  imgsz_y  num_slices   voxsz_x   voxsz_y  slice_thickness       image_size                      voxel_size                                                  img_pos                                                                                     img_orient                                                       for_uid                                         att_corr recons_method                                           image_type aquisition_dt   aquisition_time         study_desc           series_desc                            protocol                                                                       corr_img modality           manufacturer manufacturer_model           radiopharmaceutical radiopharmaceutical_volume radiopharmaceutical_start_time radionuclide_total_dose radionuclide_half_life radionuclide_positron_fraction radiopharmaceutical_start_date_time\n",
      "140          140          1525  F:/ucan_lymfom/ASPTCTX0001_npr146432928137-20170210/CT-20170213-071303-6.4_UAS-WB-FDG-3D_CT_ART-VENFAS-BUK_ARTFAS_AX-0.773438mm   F:/ucan_lymfom  ASPTCTX0001_npr146432928137-20170210  CT-20170213-071303-6.4_UAS-WB-FDG-3D_CT_ART-VENFAS-BUK_ARTFAS_AX-0.773438mm  ASPTCTX0001  npr146432928137   20170210          2548         1.2.840.113619.2.5.1207072.11718.1486723050.707  npr146432928137         74.0         '70.0'          '1.67'      512      512           8  0.865234  0.865234         0.773438    (512, 512, 8)  (0.865234, 0.865234, 0.773438)                  [-231.450195, -200.301758, -194.162506]                                   [1.000000, 0.000000, 0.000000, 0.000000, 1.000000, 0.000000]   1.2.840.113619.2.55.3.4240671514.908.1486708178.867.13420.1                                              NaN           NaN   ['DERIVED', 'SECONDARY', 'REFORMATTED', 'AVERAGE']    '20170210'          '160019'   'PET FDG WB 1 h'       'BUK ARTFAS AX'   '6.4 UAS-WB-FDG-3D CT ART-VENFAS'                                                                            NaN       CT   'GE MEDICAL SYSTEMS'    'Discovery STE'                           NaN                        NaN                            NaN                     NaN                    NaN                            NaN                                 NaN\n",
      "352          352          2333            F:/ucan_lymfom/ASPTCTX0001_npr215862084340-20110124/CT-20110124-110812-6.3_UAS-WB-FDG-3D-STANDARD_CT_RECON-3.750000mm   F:/ucan_lymfom  ASPTCTX0001_npr215862084340-20110124            CT-20110124-110812-6.3_UAS-WB-FDG-3D-STANDARD_CT_RECON-3.750000mm  ASPTCTX0001  npr215862084340   20110124         15028   1.2.840.113619.2.55.3.4240671514.735.1295507278.810.1  npr215862084340         12.0         '50.0'          '1.57'      512      512         180  0.976562  0.976562         3.750000  (512, 512, 180)      (0.976562, 0.976562, 3.75)                            [-250.000, -250.000, 114.500]                                   [1.000000, 0.000000, 0.000000, 0.000000, 1.000000, 0.000000]   1.2.840.113619.2.55.3.4240671514.735.1295507278.599.13370.1                                              NaN           NaN                     ['ORIGINAL', 'PRIMARY', 'AXIAL']    '20110124'          '110825'       'FDG WB 1 h'   'STANDARD CT RECON'                 '6.3 UAS-WB-FDG-3D'                                                                            NaN       CT   'GE MEDICAL SYSTEMS'    'Discovery STE'                           NaN                        NaN                            NaN                     NaN                    NaN                            NaN                                 NaN\n",
      "360          360          2054            F:/ucan_lymfom/ASPTCTX0001_npr215862084340-20140710/CT-20140710-102150-6.1_UAS-WB-FDG-3D-STANDARD_CT_RECON-3.750000mm   F:/ucan_lymfom  ASPTCTX0001_npr215862084340-20140710            CT-20140710-102150-6.1_UAS-WB-FDG-3D-STANDARD_CT_RECON-3.750000mm  ASPTCTX0001  npr215862084340   20140710         15081   1.2.840.113619.2.55.3.4240671514.417.1404463561.197.1  npr215862084340         16.0         '56.0'          '1.76'      512      512         110  1.367188  1.367188         3.750000  (512, 512, 110)      (1.367188, 1.367188, 3.75)                            [-350.000, -350.000, 113.500]                                   [1.000000, 0.000000, 0.000000, 0.000000, 1.000000, 0.000000]    1.2.840.113619.2.55.3.4240671514.417.1404463561.66.13280.1                                              NaN           NaN                     ['ORIGINAL', 'PRIMARY', 'AXIAL']    '20140710'          '102204'       'FDG WB 1 h'   'STANDARD CT RECON'                 '6.1 UAS-WB-FDG-3D'                                                                            NaN       CT   'GE MEDICAL SYSTEMS'    'Discovery STE'                           NaN                        NaN                            NaN                     NaN                    NaN                            NaN                                 NaN\n",
      "361          361          2053                   F:/ucan_lymfom/ASPTCTX0001_npr215862084340-20140710/PT-20140710-102312-UAS-WB-FDG-3D-UAS-WB-FDG-3D-AC-3.2700mm   F:/ucan_lymfom  ASPTCTX0001_npr215862084340-20140710                   PT-20140710-102312-UAS-WB-FDG-3D-UAS-WB-FDG-3D-AC-3.2700mm  ASPTCTX0001  npr215862084340   20140710         15083       1.2.840.113619.2.131.4240671514.1404981495.873132  npr215862084340         16.0         '56.0'          '1.76'      128      128         127  3.906250  3.906250         3.270000  (128, 128, 127)        (3.90625, 3.90625, 3.27)   [-248.04687500000, -248.04687500000, 103.709999084472]                                                                            [1, 0, 0, 0, 1, -0]    1.2.840.113619.2.55.3.4240671514.417.1404463561.66.13280.1                      'measured,, 0.096000 cm-1,'       '3D IR'                              ['ORIGINAL', 'PRIMARY']    '20140710'          '102916'       'FDG WB 1 h'    'UAS-WB-FDG-3D-AC'                     'UAS-WB-FDG-3D'              ['DECY', 'ATTN', 'SCAT', 'DTIM', 'RAN', 'DCAL', 'SLSENS', 'NORM']       PT   'GE MEDICAL SYSTEMS'    'Discovery STE'   'FDG -- fluorodeoxyglucose'                      '0.0'                    '092400.00'           '211646976.0'               '6588.0'             '0.97000002861023'                 '20140710092400.00'\n",
      "898          898          1308                  F:/ucan_lymfom/ASPTCTX0001_npr387759905377-20171218/CT-20171218-151240-6.3_UAS-WB-FDG-3D_CT_VENFAS-AX_2.5-2.5mm   F:/ucan_lymfom  ASPTCTX0001_npr387759905377-20171218                  CT-20171218-151240-6.3_UAS-WB-FDG-3D_CT_VENFAS-AX_2.5-2.5mm  ASPTCTX0001  npr387759905377   20171218         10617         1.2.840.113619.2.80.45423876.31279.1513606363.3  npr387759905377         58.0         '78.0'   '1.649999976'      512      512         164  0.878906  0.878906         2.500000  (512, 512, 164)   (0.87890625, 0.87890625, 2.5)                 [-217.127121, -238.9622345, 115.1953125]   [0.9999970794, -4.140218516e-05, 0.002414550865, -4.130046e-05, 0.9994131923, 0.03425306827]   1.2.840.113619.2.55.3.4240671514.307.1513146541.518.12485.1                                              NaN           NaN   ['DERIVED', 'SECONDARY', 'REFORMATTED', 'AVERAGE']    '20171218'          '133523'   'PET FDG WB 1 h'              'AX 2.5'       '6.3 UAS-WB-FDG-3D CT VENFAS'                                                                            NaN       CT   'GE MEDICAL SYSTEMS'    'Discovery STE'                           NaN                        NaN                            NaN                     NaN                    NaN                            NaN                                 NaN\n",
      "997          997          1354                F:/ucan_lymfom/ASPTCTX0001_npr411683620612-20171012/PT-20171012-124107-UAS-WB-FDG-3D_CT_VENFAS-WB-FDG-AC-3.2700mm   F:/ucan_lymfom  ASPTCTX0001_npr411683620612-20171012                PT-20171012-124107-UAS-WB-FDG-3D_CT_VENFAS-WB-FDG-AC-3.2700mm  ASPTCTX0001  npr411683620612   20171012          7038       1.2.840.113619.2.131.4240671514.1507805275.427025  npr411683620612         67.0         '80.0'          '1.89'      128      128          87  3.906250  3.906250         3.270000   (128, 128, 87)        (3.90625, 3.90625, 3.27)   [-248.04687500000, -248.04687500000, 166.960006713867]                                                                            [1, 0, 0, 0, 1, -0]   1.2.840.113619.2.55.3.4240671514.427.1507786239.615.18580.1                      'measured,, 0.096000 cm-1,'       '3D IR'                              ['ORIGINAL', 'PRIMARY']    '20171012'          '124107'   'PET FDG WB 1 h'           'WB-FDG-AC'           'UAS-WB-FDG-3D CT VENFAS'              ['DECY', 'ATTN', 'SCAT', 'DTIM', 'RAN', 'DCAL', 'SLSENS', 'NORM']       PT   'GE MEDICAL SYSTEMS'    'Discovery STE'   'FDG -- fluorodeoxyglucose'                      '0.0'                    '105400.00'           '321948448.0'               '6588.0'             '0.97000002861023'                 '20171012105400.00'\n",
      "1322        1322          2322            F:/ucan_lymfom/ASPTCTX0001_npr530844574765-20110310/CT-20110310-114334-6.3_UAS-WB-FDG-3D-STANDARD_CT_RECON-3.750000mm   F:/ucan_lymfom  ASPTCTX0001_npr530844574765-20110310            CT-20110310-114334-6.3_UAS-WB-FDG-3D-STANDARD_CT_RECON-3.750000mm  ASPTCTX0001  npr530844574765   20110310           519    1.2.840.113619.2.55.3.4240671514.734.1299666109.52.1  npr530844574765         73.0         '56.0'          '1.55'      512      512         180  0.976562  0.976562         3.750000  (512, 512, 180)      (0.976562, 0.976562, 3.75)                             [-250.000, -250.000, 91.000]                                   [1.000000, 0.000000, 0.000000, 0.000000, 1.000000, 0.000000]   1.2.840.113619.2.55.3.4240671514.734.1299666108.841.12215.1                                              NaN           NaN                     ['ORIGINAL', 'PRIMARY', 'AXIAL']    '20110310'          '114352'       'FDG WB 1 h'   'STANDARD CT RECON'                 '6.3 UAS-WB-FDG-3D'                                                                            NaN       CT   'GE MEDICAL SYSTEMS'    'Discovery STE'                           NaN                        NaN                            NaN                     NaN                    NaN                            NaN                                 NaN\n",
      "1547        1547           177          F:/ucan_lymfom/ASPTCTX0001_npr626223004434-20211203/PT-20211203-114349-3.8_WB_F18_FDG_VENFAS-QCFX-S_400_M.Free-2.8000mm   F:/ucan_lymfom  ASPTCTX0001_npr626223004434-20211203          PT-20211203-114349-3.8_WB_F18_FDG_VENFAS-QCFX-S_400_M.Free-2.8000mm  ASPTCTX0001  npr626223004434   20211203         11089       1.2.840.113619.2.405.3842664208.1638528533.430873  npr626223004434         59.0         '90.0'          '1.62'      256      256          89  1.953125  1.953125         2.800000   (256, 256, 89)       (1.953125, 1.953125, 2.8)   [-249.02343750000, -249.02343750000, -673.80004882812]                                                                            [1, 0, 0, 0, 1, -0]   1.2.840.113619.2.405.3.3842664208.895.1638457981.136.7105.1   'measured,, 0.000000 cm-1, attenuation smooth'        'QCFX'                              ['ORIGINAL', 'PRIMARY']    '20211203'          '114349'   'PET FDG WB 1 h'   'QCFX-S 400 M.Free'             '3.8 WB F18 FDG VENFAS'   ['DECY', 'ATTN', 'SCAT', 'DTIM', 'RANSNG', 'DCAL', 'SLSENS', 'NORM', 'PMOT']       PT   'GE MEDICAL SYSTEMS'     'Discovery MI'   'FDG -- fluorodeoxyglucose'                      '0.0'                    '104300.00'           '244438880.0'      '6586.2001953125'             '0.96700000762939'                 '20211203104300.00'\n",
      "1908        1908          1683                        F:/ucan_lymfom/ASPTCTX0001_npr795689775924-20160715/CT-20160715-134112-6.5_WB_FDG_RUTIN-STD_50-5.000000mm   F:/ucan_lymfom  ASPTCTX0001_npr795689775924-20160715                        CT-20160715-134112-6.5_WB_FDG_RUTIN-STD_50-5.000000mm  ASPTCTX0001  npr795689775924   20160715         11946  1.2.840.113619.2.354.3.2831160321.934.1468482182.110.2  npr795689775924         50.0         '62.0'          '1.78'      512      512          50  1.367188  1.367188         5.000000   (512, 512, 50)       (1.367188, 1.367188, 5.0)                            [-350.000, -350.000, 140.500]                                   [1.000000, 0.000000, 0.000000, 0.000000, 1.000000, 0.000000]   1.2.840.113619.2.354.3.2831160321.934.1468482181.801.8895.1                                              NaN           NaN                     ['ORIGINAL', 'PRIMARY', 'AXIAL']    '20160715'   '134124.943100'   'PET FDG WB 1 h'              'STD 50'                  '6.5 WB FDG RUTIN'                                                                            NaN       CT   'GE MEDICAL SYSTEMS'     'Discovery IQ'                           NaN                        NaN                            NaN                     NaN                    NaN                            NaN                                 NaN\n",
      "1923        1923            11           F:/ucan_lymfom/ASPTCTX0001_npr801182059852-20220811/PT-20220811-104535-3.3_WB_F18_FDG_NATIV-QCFX-S_400_M.Free-2.8000mm   F:/ucan_lymfom  ASPTCTX0001_npr801182059852-20220811           PT-20220811-104535-3.3_WB_F18_FDG_NATIV-QCFX-S_400_M.Free-2.8000mm  ASPTCTX0001  npr801182059852   20220811          3721       1.2.840.113619.2.405.3842663696.1660207843.439354  npr801182059852         77.0         '60.0'          '1.72'      256      256          89  1.953125  1.953125         2.800000   (256, 256, 89)       (1.953125, 1.953125, 2.8)   [-249.02343750000, -249.02343750000, -538.21496582031]                                                                            [1, 0, 0, 0, 1, -0]   1.2.840.113619.2.405.3.3842663696.969.1660139997.949.6655.1   'measured,, 0.000000 cm-1, attenuation smooth'        'QCFX'                              ['ORIGINAL', 'PRIMARY']    '20220811'          '104535'   'PET FDG WB 1 h'   'QCFX-S 400 M.Free'              '3.3 WB F18 FDG NATIV'   ['DECY', 'ATTN', 'SCAT', 'DTIM', 'RANSNG', 'DCAL', 'SLSENS', 'NORM', 'PMOT']       PT   'GE MEDICAL SYSTEMS'     'Discovery MI'   'FDG -- fluorodeoxyglucose'                      '0.0'                    '091600.00'           '187797680.0'      '6586.2001953125'             '0.96700000762939'                 '20220811091600.00'\n",
      "2260        2260          2197            F:/ucan_lymfom/ASPTCTX0001_npr999561275820-20130305/CT-20130305-134653-6.1_UAS-WB-FDG-3D-STANDARD_CT_RECON-3.750000mm   F:/ucan_lymfom  ASPTCTX0001_npr999561275820-20130305            CT-20130305-134653-6.1_UAS-WB-FDG-3D-STANDARD_CT_RECON-3.750000mm  ASPTCTX0001  npr999561275820   20130305             6   1.2.840.113619.2.55.3.4240671514.955.1362125251.901.1  npr999561275820         82.0         '67.0'          '1.65'      512      512         180  0.976562  0.976562         3.750000  (512, 512, 180)      (0.976562, 0.976562, 3.75)                            [-250.000, -250.000, 110.500]                                   [1.000000, 0.000000, 0.000000, 0.000000, 1.000000, 0.000000]   1.2.840.113619.2.55.3.4240671514.955.1362125251.690.13135.1                                              NaN           NaN                     ['ORIGINAL', 'PRIMARY', 'AXIAL']    '20130305'          '134710'       'FDG WB 1 h'   'STANDARD CT RECON'                 '6.1 UAS-WB-FDG-3D'                                                                            NaN       CT   'GE MEDICAL SYSTEMS'    'Discovery STE'                           NaN                        NaN                            NaN                     NaN                    NaN                            NaN                                 NaN\n"
     ]
    }
   ],
   "source": [
    "selected_lt200_slices = master_data_bd[master_data_bd['num_slices']<200].copy()\n",
    "selected_lt200_slices_directory_list = selected_lt200_slices.directory.to_list()\n",
    "display_full(selected_lt200_slices)"
   ]
  },
  {
   "cell_type": "code",
   "execution_count": 173,
   "metadata": {},
   "outputs": [
    {
     "name": "stdout",
     "output_type": "stream",
     "text": [
      "                                                                                                                            directory  count\n",
      "140   F:/ucan_lymfom/ASPTCTX0001_npr146432928137-20170210/CT-20170213-071303-6.4_UAS-WB-FDG-3D_CT_ART-VENFAS-BUK_ARTFAS_AX-0.773438mm      8\n",
      "352             F:/ucan_lymfom/ASPTCTX0001_npr215862084340-20110124/CT-20110124-110812-6.3_UAS-WB-FDG-3D-STANDARD_CT_RECON-3.750000mm    180\n",
      "360             F:/ucan_lymfom/ASPTCTX0001_npr215862084340-20140710/CT-20140710-102150-6.1_UAS-WB-FDG-3D-STANDARD_CT_RECON-3.750000mm    110\n",
      "361                    F:/ucan_lymfom/ASPTCTX0001_npr215862084340-20140710/PT-20140710-102312-UAS-WB-FDG-3D-UAS-WB-FDG-3D-AC-3.2700mm    127\n",
      "898                   F:/ucan_lymfom/ASPTCTX0001_npr387759905377-20171218/CT-20171218-151240-6.3_UAS-WB-FDG-3D_CT_VENFAS-AX_2.5-2.5mm    163\n",
      "997                 F:/ucan_lymfom/ASPTCTX0001_npr411683620612-20171012/PT-20171012-124107-UAS-WB-FDG-3D_CT_VENFAS-WB-FDG-AC-3.2700mm     87\n",
      "1322            F:/ucan_lymfom/ASPTCTX0001_npr530844574765-20110310/CT-20110310-114334-6.3_UAS-WB-FDG-3D-STANDARD_CT_RECON-3.750000mm    180\n",
      "1547          F:/ucan_lymfom/ASPTCTX0001_npr626223004434-20211203/PT-20211203-114349-3.8_WB_F18_FDG_VENFAS-QCFX-S_400_M.Free-2.8000mm     89\n",
      "1908                        F:/ucan_lymfom/ASPTCTX0001_npr795689775924-20160715/CT-20160715-134112-6.5_WB_FDG_RUTIN-STD_50-5.000000mm     50\n",
      "1923           F:/ucan_lymfom/ASPTCTX0001_npr801182059852-20220811/PT-20220811-104535-3.3_WB_F18_FDG_NATIV-QCFX-S_400_M.Free-2.8000mm     89\n",
      "2260            F:/ucan_lymfom/ASPTCTX0001_npr999561275820-20130305/CT-20130305-134653-6.1_UAS-WB-FDG-3D-STANDARD_CT_RECON-3.750000mm    180\n"
     ]
    }
   ],
   "source": [
    "display_full(countfiles_selected_df[countfiles_selected_df.directory.isin(selected_lt200_slices_directory_list)])"
   ]
  },
  {
   "cell_type": "code",
   "execution_count": 171,
   "metadata": {},
   "outputs": [
    {
     "name": "stdout",
     "output_type": "stream",
     "text": [
      "      Unnamed: 0  Unnamed: 0_x                                                                                                                                                 directory source_directory                     patient_directory                                                                                           PET-CT_info       system              npr  scan_date  Unnamed: 0_y                                        dicom_img       patient_id  patient_age patient_weight   patient_size  imgsz_x  imgsz_y  num_slices   voxsz_x   voxsz_y  slice_thickness        image_size                            voxel_size                                  img_pos                                                      img_orient                                                       for_uid att_corr recons_method                                image_type aquisition_dt aquisition_time         study_desc                series_desc                                                 protocol corr_img modality           manufacturer manufacturer_model radiopharmaceutical radiopharmaceutical_volume radiopharmaceutical_start_time radionuclide_total_dose radionuclide_half_life radionuclide_positron_fraction radiopharmaceutical_start_date_time\n",
      "284          284          1580                                   F:/ucan_lymfom/ASPTCTX0001_npr196644347217-20161125/CT-20161125-114603-6.3_UAS-WB-FDG-3D_CT_VENFAS-WB_VEN_AX-0.958984mm   F:/ucan_lymfom  ASPTCTX0001_npr196644347217-20161125                                   CT-20161125-114603-6.3_UAS-WB-FDG-3D_CT_VENFAS-WB_VEN_AX-0.958984mm  ASPTCTX0001  npr196644347217   20161125          2180  1.2.840.113619.2.5.1207072.12266.1480066688.222  npr196644347217         74.0         '69.0'          '1.8'      512      512        1151  1.571045  1.571045         0.958984  (512, 512, 1151)        (1.571045, 1.571045, 0.958984)    [-16.302734, -402.187500, 134.187500]   [0.000000, 1.000000, 0.000000, 0.000000, 0.000000, -1.000000]   1.2.840.113619.2.55.3.4240671514.459.1480055686.449.12845.1      NaN           NaN   ['DERIVED', 'SECONDARY', 'REFORMATTED']    '20161125'        '114310'   'PET FDG WB 1 h'                'WB VEN AX'                            '6.3 UAS-WB-FDG-3D CT VENFAS'      NaN       CT   'GE MEDICAL SYSTEMS'    'Discovery STE'                 NaN                        NaN                            NaN                     NaN                    NaN                            NaN                                 NaN\n",
      "750          750          1535                                   F:/ucan_lymfom/ASPTCTX0001_npr338511978351-20170201/CT-20170201-122546-6.3_UAS-WB-FDG-3D_CT_VENFAS-WB_VEN_AX-0.953125mm   F:/ucan_lymfom  ASPTCTX0001_npr338511978351-20170201                                   CT-20170201-122546-6.3_UAS-WB-FDG-3D_CT_VENFAS-WB_VEN_AX-0.953125mm  ASPTCTX0001  npr338511978351   20170201          6094  1.2.840.113619.2.5.1207072.11565.1485941476.702  npr338511978351         69.0         '60.0'         '1.79'      512      512        1151  1.571045  1.571045         0.953125  (512, 512, 1151)        (1.571045, 1.571045, 0.953125)     [-6.195312, -402.187500, 196.187500]   [0.000000, 1.000000, 0.000000, 0.000000, 0.000000, -1.000000]   1.2.840.113619.2.55.3.4240671514.744.1485931176.443.12945.1      NaN           NaN   ['DERIVED', 'SECONDARY', 'REFORMATTED']    '20170201'        '122248'   'PET FDG WB 1 h'                'WB VEN AX'                            '6.3 UAS-WB-FDG-3D CT VENFAS'      NaN       CT   'GE MEDICAL SYSTEMS'    'Discovery STE'                 NaN                        NaN                            NaN                     NaN                    NaN                            NaN                                 NaN\n",
      "1398        1398          1846  F:/ucan_lymfom/ASPTCTX0001_npr567278394863-20151103/CT-20151103-130218-6.3_UAS-WB-FDG-3D_CT_THORAX-BUK_VENFAS_20141209-HELKROPP_VENFAS_AX_1MM-0.976562mm   F:/ucan_lymfom  ASPTCTX0001_npr567278394863-20151103  CT-20151103-130218-6.3_UAS-WB-FDG-3D_CT_THORAX-BUK_VENFAS_20141209-HELKROPP_VENFAS_AX_1MM-0.976562mm  ASPTCTX0001  npr567278394863   20151103         13930   1.2.840.113619.2.5.1207072.11545.1446113014.81  npr567278394863         32.0         '66.0'         '1.61'      512      512        1151  1.571045  1.571045         0.976562  (512, 512, 1151)        (1.571045, 1.571045, 0.976562)     [-0.488281, -402.187500, 161.687500]   [0.000000, 1.000000, 0.000000, 0.000000, 0.000000, -1.000000]   1.2.840.113619.2.55.3.4240671514.777.1446026470.139.12375.1      NaN           NaN   ['DERIVED', 'SECONDARY', 'REFORMATTED']    '20151103'        '124113'       'FDG WB 1 h'   'HELKROPP VENFAS AX 1MM'   '6.3 UAS-WB-FDG-3D CT THORAX-BUK VENFAS      20141209'      NaN       CT   'GE MEDICAL SYSTEMS'    'Discovery STE'                 NaN                        NaN                            NaN                     NaN                    NaN                            NaN                                 NaN\n",
      "1412        1412          1515                  F:/ucan_lymfom/ASPTCTX0001_npr574436824692-20170222/CT-20170222-104855-6.6_UAS-WB-FDG-3D_VENFASTHORAX_INSP_20160120-WB_VEN_AX-0.951172mm   F:/ucan_lymfom  ASPTCTX0001_npr574436824692-20170222                  CT-20170222-104855-6.6_UAS-WB-FDG-3D_VENFASTHORAX_INSP_20160120-WB_VEN_AX-0.951172mm  ASPTCTX0001  npr574436824692   20170222          4117   1.2.840.113619.2.5.1207072.11972.1487754414.38  npr574436824692         71.0         '86.0'          '1.7'      512      512        1151  1.571045  1.571045         0.951172  (512, 512, 1151)        (1.571045, 1.571045, 0.951172)     [-5.175583, -402.187500, 132.687500]   [0.000000, 1.000000, 0.000000, 0.000000, 0.000000, -1.000000]   1.2.840.113619.2.55.3.4240671514.124.1487744619.694.15105.1      NaN           NaN   ['DERIVED', 'SECONDARY', 'REFORMATTED']    '20170222'        '104001'   'PET FDG WB 1 h'                'WB VEN AX'     '6.6 UAS-WB-FDG-3D VENFAS+THORAX INSP      20160120'      NaN       CT   'GE MEDICAL SYSTEMS'    'Discovery STE'                 NaN                        NaN                            NaN                     NaN                    NaN                            NaN                                 NaN\n",
      "1682        1682          1069                                   F:/ucan_lymfom/ASPTCTX0001_npr676639996732-20180928/CT-20180928-150052-6.3_UAS-WB-FDG-3D_CT_VENFAS-WB_VEN_AX-0.976562mm   F:/ucan_lymfom  ASPTCTX0001_npr676639996732-20180928                                   CT-20180928-150052-6.3_UAS-WB-FDG-3D_CT_VENFAS-WB_VEN_AX-0.976562mm  ASPTCTX0001  npr676639996732   20180928          8680  1.2.840.113619.2.5.1207072.11602.1537771901.235  npr676639996732         66.0         '59.0'         '1.65'      512      512        1337  1.826172  1.826172         0.976562  (512, 512, 1337)        (1.826172, 1.826172, 0.976562)     [-1.953125, -467.500000, 298.187500]   [0.000000, 1.000000, 0.000000, 0.000000, 0.000000, -1.000000]   1.2.840.113619.2.55.3.4240671514.984.1537767597.828.12855.1      NaN           NaN   ['DERIVED', 'SECONDARY', 'REFORMATTED']    '20180928'        '145735'   'PET FDG WB 1 h'                'WB VEN AX'                            '6.3 UAS-WB-FDG-3D CT VENFAS'      NaN       CT   'GE MEDICAL SYSTEMS'    'Discovery STE'                 NaN                        NaN                            NaN                     NaN                    NaN                            NaN                                 NaN\n",
      "1706        1706          1250                                F:/ucan_lymfom/ASPTCTX0001_npr686960787788-20180227/CT-20180227-130531-6.3_UAS-WB-FDG-3D_CT_VENFAS-WB_VENFAS_AX-0.953125mm   F:/ucan_lymfom  ASPTCTX0001_npr686960787788-20180227                                CT-20180227-130531-6.3_UAS-WB-FDG-3D_CT_VENFAS-WB_VENFAS_AX-0.953125mm  ASPTCTX0001  npr686960787788   20180227          6008  1.2.840.113619.2.80.45423876.3930.1519733133.83  npr686960787788         70.0         '87.0'   '1.75999999'      512      512         330  1.610000  1.610000         0.953125   (512, 512, 330)  (1.610000014, 1.610000014, 0.953125)   [-412.0784302, 0.4765625, 159.1799927]                                             [1, 0, 0, 0, 0, -1]   1.2.840.113619.2.55.3.4240671514.166.1519713194.137.13225.1      NaN           NaN   ['DERIVED', 'SECONDARY', 'REFORMATTED']    '20180227'        '122025'   'PET FDG WB 1 h'             'WB VENFAS AX'                            '6.3 UAS-WB-FDG-3D CT VENFAS'      NaN       CT   'GE MEDICAL SYSTEMS'    'Discovery STE'                 NaN                        NaN                            NaN                     NaN                    NaN                            NaN                                 NaN\n"
     ]
    }
   ],
   "source": [
    "display_full(master_data_bd[master_data_bd.directory.isin(misclassified_selected_directory_list)])"
   ]
  },
  {
   "cell_type": "markdown",
   "metadata": {},
   "source": [
    "                                                                                                                                        directory  count\n",
    "284                                    F:/ucan_lymfom/ASPTCTX0001_npr196644347217-20161125   /CT-20161125-114603-6.3_UAS-WB-FDG-3D_CT_VENFAS-WB_VEN_AX-0.958984mm      1\\\n",
    "750                                    F:/ucan_lymfom/ASPTCTX0001_npr338511978351-20170201   /CT-20170201-122546-6.3_UAS-WB-FDG-3D_CT_VENFAS-WB_VEN_AX-0.953125mm      1\\\n",
    "1398  F:/ucan_lymfom/ASPTCTX0001_npr567278394863-20151103/   CT-20151103-130218-6.3_UAS-WB-FDG-3D_CT_THORAX-BUK_VENFAS_20141209-HELKROPP_VENFAS_AX_1MM-0.976562mm      1\\\n",
    "1412                  F:/ucan_lymfom/ASPTCTX0001_npr574436824692-20170222/   CT-20170222-104855-6.6_UAS-WB-FDG-3D_VENFASTHORAX_INSP_20160120-WB_VEN_AX-0.951172mm      1\\\n",
    "1682                                   F:/ucan_lymfom/ASPTCTX0001_npr676639996732-20180928/   CT-20180928-150052-6.3_UAS-WB-FDG-3D_CT_VENFAS-WB_VEN_AX-0.976562mm      1\\\n",
    "1706                                F:/ucan_lymfom/ASPTCTX0001_npr686960787788-20180227/   CT-20180227-130531-6.3_UAS-WB-FDG-3D_CT_VENFAS-WB_VENFAS_AX-0.953125mm      1\\"
   ]
  },
  {
   "cell_type": "code",
   "execution_count": null,
   "metadata": {},
   "outputs": [],
   "source": []
  },
  {
   "cell_type": "code",
   "execution_count": null,
   "metadata": {},
   "outputs": [],
   "source": []
  },
  {
   "cell_type": "markdown",
   "metadata": {},
   "source": [
    "##### Check why data is mssing from the selected image in the black disk\n",
    "Number of Lyphoma patients from Uppsala: 680\n",
    "\n",
    "Number of exams network disk: 2047 \n",
    "\n",
    "Total exams in black disk: 1883\n",
    "\n",
    "Number of patients in white disk:  463\n",
    "\n",
    "Number of exams in white disk:  668\n",
    "\n",
    "Number of patients  in black disk:  758\n",
    "\n",
    "Number of exams  in black disk:  1132\n",
    "\n",
    "missing_from_selected = 1883 - 1132 = 751\n",
    "\n",
    "---------------------------------------------------\n",
    "Distorted exams: 65\n",
    "\n",
    "No PET CT first filtering: 10\n",
    "\n",
    "No PET CT second filtering: 95\n",
    "\n",
    "problem = 65 + 10 + 95 = 170\n",
    "\n",
    "---------------------------------------------------\n",
    "reason_not_identified = 751 - 170 = 581"
   ]
  },
  {
   "cell_type": "code",
   "execution_count": 25,
   "metadata": {},
   "outputs": [
    {
     "name": "stdout",
     "output_type": "stream",
     "text": [
      "   Unnamed: 0                                                                                                                              directory source_directory                     patient_directory                                                                        PET-CT_info\n",
      "0           0  F:/ucan_lymfom/ASPTCTX0001_npr293454605342-20151210/CT-20151210-093545-6.6_WB_F18_3MIN__CT_VENFAS-HELKROPP_VENFAS_AX_1_PCT-1.250000mm   F:/ucan_lymfom  ASPTCTX0001_npr293454605342-20151210  CT-20151210-093545-6.6_WB_F18_3MIN__CT_VENFAS-HELKROPP_VENFAS_AX_1_PCT-1.250000mm\n"
     ]
    }
   ],
   "source": [
    "rejected_folder_data_bd = pd.read_excel(rejected_folder_path_bd)\n",
    "rejected_folder_data_bd[['source_directory', 'patient_directory', 'PET-CT_info']] = rejected_folder_data_bd['directory'].str.rsplit(pat='/', n=2, expand=True)\n",
    "#utils.display_full(rejected_folder_data_bd.head(1))\n",
    "\n",
    "sourcefiltered_folder_data_bd = pd.read_excel(sourcefiltered_folder_path_bd)\n",
    "sourcefiltered_folder_data_bd[['source_directory', 'patient_directory', 'PET-CT_info']] = sourcefiltered_folder_data_bd['directory'].str.rsplit(pat='/', n=2, expand=True)\n",
    "#utils.display_full(sourcefiltered_folder_data_bd.head(1))\n",
    "\n",
    "incomplete_folders_data1_bd = pd.read_excel(incomplete_folders_path1_bd)\n",
    "#incomplete_folders_data1_bd[['source_directory', 'patient_directory', 'PET-CT_info']] = incomplete_folders_data1_bd['directory'].str.rsplit(pat='/', n=2, expand=True)\n",
    "#utils.display_full(incomplete_folders_data1_bd.head(1))\n",
    "\n",
    "list_of_distorted_images_data_bd = pd.read_excel(list_of_distorted_images_bd)\n",
    "list_of_distorted_images_data_bd[['source_directory', 'patient_directory', 'PET-CT_info']] = list_of_distorted_images_data_bd['directory'].str.rsplit(pat='/', n=2, expand=True)\n",
    "#utils.display_full(list_of_distorted_images_data_bd.head(1))\n",
    "\n",
    "incomplete_folders_data2_bd = pd.read_excel(incomplete_folders_path2_bd)\n",
    "#incomplete_folders_data2_bd[['source_directory', 'patient_directory', 'PET-CT_info']] = incomplete_folders_data2_bd['directory'].str.rsplit(pat='/', n=2, expand=True)\n",
    "#utils.display_full(incomplete_folders_data2_bd.head(1))\n",
    "\n",
    "selected_folders_beforefiltering_data_bd = pd.read_excel(selected_folders_beforefiltering_bd)\n",
    "#selected_folders_beforefiltering_data_bd[['source_directory', 'patient_directory', 'PET-CT_info']] = selected_folders_beforefiltering_data_bd['directory'].str.rsplit(pat='/', n=2, expand=True)\n",
    "#utils.display_full(selected_folders_beforefiltering_data_bd.head(1))\n",
    "\n",
    "selected_folders_afterfiltering_data_bd = pd.read_excel(selected_folders_afterfiltering_bd)\n",
    "selected_folders_afterfiltering_data_bd[['source_directory', 'patient_directory', 'PET-CT_info']] = selected_folders_afterfiltering_data_bd['directory'].str.rsplit(pat='/', n=2, expand=True)\n",
    "#utils.display_full(selected_folders_afterfiltering_data_bd.head(1))\n",
    "\n",
    "final_selected_folders_data_bd = pd.read_excel(final_selected_folders_bd)\n",
    "#final_selected_folders_data_bd[['source_directory', 'patient_directory', 'PET-CT_info']] = final_selected_folders_data_bd['directory'].str.rsplit(pat='/', n=2, expand=True)\n",
    "#utils.display_full(final_selected_folders_data_bd.head(1))"
   ]
  },
  {
   "cell_type": "code",
   "execution_count": 29,
   "metadata": {},
   "outputs": [
    {
     "data": {
      "text/plain": [
       "11"
      ]
     },
     "execution_count": 29,
     "metadata": {},
     "output_type": "execute_result"
    }
   ],
   "source": [
    "len(set(rejected_folder_data_bd.patient_directory.to_list()))"
   ]
  },
  {
   "cell_type": "code",
   "execution_count": 30,
   "metadata": {},
   "outputs": [
    {
     "data": {
      "text/plain": [
       "1883"
      ]
     },
     "execution_count": 30,
     "metadata": {},
     "output_type": "execute_result"
    }
   ],
   "source": [
    "len(set(sourcefiltered_folder_data_bd.patient_directory.to_list()))"
   ]
  },
  {
   "cell_type": "code",
   "execution_count": 31,
   "metadata": {},
   "outputs": [
    {
     "data": {
      "text/plain": [
       "10"
      ]
     },
     "execution_count": 31,
     "metadata": {},
     "output_type": "execute_result"
    }
   ],
   "source": [
    "len(set(incomplete_folders_data1_bd.patient_directory.to_list()))"
   ]
  },
  {
   "cell_type": "markdown",
   "metadata": {},
   "source": [
    "##### 1st filtering"
   ]
  },
  {
   "cell_type": "code",
   "execution_count": 33,
   "metadata": {},
   "outputs": [
    {
     "data": {
      "text/plain": [
       "1873"
      ]
     },
     "execution_count": 33,
     "metadata": {},
     "output_type": "execute_result"
    }
   ],
   "source": [
    "len(set(selected_folders_beforefiltering_data_bd.patient_directory.to_list()))"
   ]
  },
  {
   "cell_type": "code",
   "execution_count": 37,
   "metadata": {},
   "outputs": [
    {
     "data": {
      "text/plain": [
       "634"
      ]
     },
     "execution_count": 37,
     "metadata": {},
     "output_type": "execute_result"
    }
   ],
   "source": [
    "1873 - 1239"
   ]
  },
  {
   "cell_type": "code",
   "execution_count": 34,
   "metadata": {},
   "outputs": [
    {
     "data": {
      "text/plain": [
       "1239"
      ]
     },
     "execution_count": 34,
     "metadata": {},
     "output_type": "execute_result"
    }
   ],
   "source": [
    "len(set(selected_folders_afterfiltering_data_bd.patient_directory.to_list()))"
   ]
  },
  {
   "cell_type": "code",
   "execution_count": 48,
   "metadata": {},
   "outputs": [
    {
     "name": "stdout",
     "output_type": "stream",
     "text": [
      "1239\n"
     ]
    },
    {
     "data": {
      "text/plain": [
       "(5562, 9)"
      ]
     },
     "execution_count": 48,
     "metadata": {},
     "output_type": "execute_result"
    }
   ],
   "source": [
    "selected_folders_afterfiltering_list = selected_folders_afterfiltering_data_bd.patient_directory.to_list()\n",
    "print(len(set(selected_folders_afterfiltering_list)))\n",
    "selected_folders_afterfiltering_missingdata_bd = selected_folders_beforefiltering_data_bd[~selected_folders_beforefiltering_data_bd.patient_directory.isin(selected_folders_afterfiltering_list)]\n",
    "selected_folders_afterfiltering_missingdata_bd.to_excel('F:/ucan_lymfom/selected_folders_afterfiltering_missingdata_bd.xlsx')\n",
    "selected_folders_afterfiltering_missingdata_bd.shape"
   ]
  },
  {
   "cell_type": "code",
   "execution_count": 46,
   "metadata": {},
   "outputs": [
    {
     "name": "stdout",
     "output_type": "stream",
     "text": [
      "634\n"
     ]
    }
   ],
   "source": [
    "selected_folders_afterfiltering_missingdata_bd_list = selected_folders_afterfiltering_missingdata_bd.patient_directory.to_list()\n",
    "print(len(set(selected_folders_afterfiltering_missingdata_bd_list)))"
   ]
  },
  {
   "cell_type": "markdown",
   "metadata": {},
   "source": [
    "##### Check for distorted"
   ]
  },
  {
   "cell_type": "code",
   "execution_count": 27,
   "metadata": {},
   "outputs": [
    {
     "data": {
      "text/plain": [
       "132"
      ]
     },
     "execution_count": 27,
     "metadata": {},
     "output_type": "execute_result"
    }
   ],
   "source": [
    "len(set(list_of_distorted_images_data_bd.patient_directory.to_list()))"
   ]
  },
  {
   "cell_type": "code",
   "execution_count": 32,
   "metadata": {},
   "outputs": [
    {
     "data": {
      "text/plain": [
       "95"
      ]
     },
     "execution_count": 32,
     "metadata": {},
     "output_type": "execute_result"
    }
   ],
   "source": [
    "len(set(incomplete_folders_data2_bd.patient_directory.to_list()))"
   ]
  },
  {
   "cell_type": "code",
   "execution_count": 35,
   "metadata": {},
   "outputs": [
    {
     "data": {
      "text/plain": [
       "1144"
      ]
     },
     "execution_count": 35,
     "metadata": {},
     "output_type": "execute_result"
    }
   ],
   "source": [
    "1239 - 95 - "
   ]
  },
  {
   "cell_type": "code",
   "execution_count": 36,
   "metadata": {},
   "outputs": [
    {
     "data": {
      "text/plain": [
       "1132"
      ]
     },
     "execution_count": 36,
     "metadata": {},
     "output_type": "execute_result"
    }
   ],
   "source": [
    "len(set(final_selected_folders_data_bd.patient_directory.to_list()))"
   ]
  },
  {
   "cell_type": "code",
   "execution_count": null,
   "metadata": {},
   "outputs": [],
   "source": []
  },
  {
   "cell_type": "markdown",
   "metadata": {},
   "source": [
    "##### Check for images missing from black disk"
   ]
  },
  {
   "cell_type": "code",
   "execution_count": 56,
   "metadata": {},
   "outputs": [
    {
     "name": "stdout",
     "output_type": "stream",
     "text": [
      "(1883, 4)\n",
      "(2047, 4)\n"
     ]
    },
    {
     "data": {
      "text/html": [
       "<div>\n",
       "<style scoped>\n",
       "    .dataframe tbody tr th:only-of-type {\n",
       "        vertical-align: middle;\n",
       "    }\n",
       "\n",
       "    .dataframe tbody tr th {\n",
       "        vertical-align: top;\n",
       "    }\n",
       "\n",
       "    .dataframe thead th {\n",
       "        text-align: right;\n",
       "    }\n",
       "</style>\n",
       "<table border=\"1\" class=\"dataframe\">\n",
       "  <thead>\n",
       "    <tr style=\"text-align: right;\">\n",
       "      <th></th>\n",
       "      <th></th>\n",
       "      <th></th>\n",
       "      <th></th>\n",
       "      <th></th>\n",
       "      <th></th>\n",
       "      <th></th>\n",
       "      <th></th>\n",
       "      <th></th>\n",
       "      <th></th>\n",
       "      <th></th>\n",
       "      <th></th>\n",
       "      <th></th>\n",
       "      <th>Date</th>\n",
       "      <th>Time</th>\n",
       "      <th>DIR</th>\n",
       "      <th>patient_directory</th>\n",
       "    </tr>\n",
       "  </thead>\n",
       "  <tbody>\n",
       "    <tr>\n",
       "      <th rowspan=\"2\" valign=\"top\">2023-01-23</th>\n",
       "      <th rowspan=\"2\" valign=\"top\">NaN</th>\n",
       "      <th>12:52</th>\n",
       "      <th>NaN</th>\n",
       "      <th>NaN</th>\n",
       "      <th>NaN</th>\n",
       "      <th>&lt;DIR&gt;</th>\n",
       "      <th>NaN</th>\n",
       "      <th>NaN</th>\n",
       "      <th>NaN</th>\n",
       "      <th>NaN</th>\n",
       "      <th>NaN</th>\n",
       "      <th>NaN</th>\n",
       "      <td>NaN</td>\n",
       "      <td>NaN</td>\n",
       "      <td>NaN</td>\n",
       "      <td>ASPTCTX0001_lpr385705046400-20140313</td>\n",
       "    </tr>\n",
       "    <tr>\n",
       "      <th>17:40</th>\n",
       "      <th>NaN</th>\n",
       "      <th>NaN</th>\n",
       "      <th>NaN</th>\n",
       "      <th>&lt;DIR&gt;</th>\n",
       "      <th>NaN</th>\n",
       "      <th>NaN</th>\n",
       "      <th>NaN</th>\n",
       "      <th>NaN</th>\n",
       "      <th>NaN</th>\n",
       "      <th>NaN</th>\n",
       "      <td>NaN</td>\n",
       "      <td>NaN</td>\n",
       "      <td>NaN</td>\n",
       "      <td>ASPTCTX0001_lpr415675513429-20190201</td>\n",
       "    </tr>\n",
       "  </tbody>\n",
       "</table>\n",
       "</div>"
      ],
      "text/plain": [
       "                                                                Date  Time  \\\n",
       "2023-01-23 NaN 12:52 NaN NaN NaN <DIR> NaN NaN NaN NaN NaN NaN   NaN   NaN   \n",
       "               17:40 NaN NaN NaN <DIR> NaN NaN NaN NaN NaN NaN   NaN   NaN   \n",
       "\n",
       "                                                                DIR  \\\n",
       "2023-01-23 NaN 12:52 NaN NaN NaN <DIR> NaN NaN NaN NaN NaN NaN  NaN   \n",
       "               17:40 NaN NaN NaN <DIR> NaN NaN NaN NaN NaN NaN  NaN   \n",
       "\n",
       "                                                                                   patient_directory  \n",
       "2023-01-23 NaN 12:52 NaN NaN NaN <DIR> NaN NaN NaN NaN NaN NaN  ASPTCTX0001_lpr385705046400-20140313  \n",
       "               17:40 NaN NaN NaN <DIR> NaN NaN NaN NaN NaN NaN  ASPTCTX0001_lpr415675513429-20190201  "
      ]
     },
     "execution_count": 56,
     "metadata": {},
     "output_type": "execute_result"
    }
   ],
   "source": [
    "black_disk_files_txt_path = source_path_bd + \"/blackdisk_filelist.txt\"\n",
    "total_folders_txt_path = source_path_bd + \"/UCAN_lymphoma_Network_disk_foldername_dump.txt\"\n",
    "\n",
    "black_disk_files = pd.read_csv(black_disk_files_txt_path, sep=' ', names=[\"Date\", \"Time\", \"DIR\", \"patient_directory\"])\n",
    "total_files = pd.read_csv(total_folders_txt_path, sep=' ', names=[\"Date\", \"Time\", \"DIR\", \"patient_directory\"])\n",
    "print(black_disk_files.shape)\n",
    "print(total_files.shape)\n",
    "total_files.head(2)"
   ]
  },
  {
   "cell_type": "code",
   "execution_count": 78,
   "metadata": {},
   "outputs": [
    {
     "name": "stdout",
     "output_type": "stream",
     "text": [
      "1883\n",
      "2047\n"
     ]
    }
   ],
   "source": [
    "black_disk_exams_list = black_disk_files.patient_directory.to_list()\n",
    "black_disk_exams_list = [item.strip() for item in black_disk_exams_list]\n",
    "black_disk_exams_set = set(black_disk_exams_list)\n",
    "print(len(black_disk_exams_set))\n",
    "\n",
    "total_exams_list = total_files.patient_directory.to_list()\n",
    "total_exams_list = [item.strip() for item in total_exams_list]\n",
    "total_exams_set = set(total_exams_list)\n",
    "print(len(total_exams_set))"
   ]
  },
  {
   "cell_type": "code",
   "execution_count": 79,
   "metadata": {},
   "outputs": [
    {
     "data": {
      "text/plain": [
       "236"
      ]
     },
     "execution_count": 79,
     "metadata": {},
     "output_type": "execute_result"
    }
   ],
   "source": [
    "missing_exams_from_blackdisk = total_exams_set.difference(black_disk_exams_set)\n",
    "len(missing_exams_from_blackdisk)"
   ]
  },
  {
   "cell_type": "code",
   "execution_count": 88,
   "metadata": {},
   "outputs": [
    {
     "name": "stdout",
     "output_type": "stream",
     "text": [
      "(236, 1)\n"
     ]
    },
    {
     "data": {
      "text/html": [
       "<div>\n",
       "<style scoped>\n",
       "    .dataframe tbody tr th:only-of-type {\n",
       "        vertical-align: middle;\n",
       "    }\n",
       "\n",
       "    .dataframe tbody tr th {\n",
       "        vertical-align: top;\n",
       "    }\n",
       "\n",
       "    .dataframe thead th {\n",
       "        text-align: right;\n",
       "    }\n",
       "</style>\n",
       "<table border=\"1\" class=\"dataframe\">\n",
       "  <thead>\n",
       "    <tr style=\"text-align: right;\">\n",
       "      <th></th>\n",
       "      <th>patient_directory</th>\n",
       "    </tr>\n",
       "  </thead>\n",
       "  <tbody>\n",
       "    <tr>\n",
       "      <th>0</th>\n",
       "      <td>ASPTCTX0001_npr855806648017-20210317</td>\n",
       "    </tr>\n",
       "    <tr>\n",
       "      <th>1</th>\n",
       "      <td>ASPTCTX0001_npr490027250002-20170208</td>\n",
       "    </tr>\n",
       "  </tbody>\n",
       "</table>\n",
       "</div>"
      ],
      "text/plain": [
       "                      patient_directory\n",
       "0  ASPTCTX0001_npr855806648017-20210317\n",
       "1  ASPTCTX0001_npr490027250002-20170208"
      ]
     },
     "execution_count": 88,
     "metadata": {},
     "output_type": "execute_result"
    }
   ],
   "source": [
    "missing_exams_from_blackdisk_df = pd.DataFrame(list(missing_exams_from_blackdisk), columns=['patient_directory'])\n",
    "missing_exams_from_blackdisk_df.to_excel(source_path_bd + '/missing_exams_from_blackdisk.xlsx', index=False)\n",
    "print(missing_exams_from_blackdisk_df.shape)\n",
    "missing_exams_from_blackdisk_df.head(2)"
   ]
  },
  {
   "cell_type": "code",
   "execution_count": 80,
   "metadata": {},
   "outputs": [
    {
     "name": "stdout",
     "output_type": "stream",
     "text": [
      "{'ASPTCTX0001_npr855806648017-20210317', 'ASPTCTX0001_npr490027250002-20170208', 'ASPTCTX0001_npr690614003556-20190425', 'ASPTCTX0001_npr666173543285-20140922', 'ASPTCTX0001_npr415169841615-20170315', 'ASPTCTX0001_npr234939567052-20220704', 'ASPTCTX0001_npr479070220986-20200924', 'ASPTCTX0001_npr611348566947-20160518', 'ASPTCTX0001_npr487467122228-20190221', 'ASPTCTX0001_npr104002894856-20160301', 'ASPTCTX0001_npr577231536045-20160816', 'ASPTCTX0001_npr941892742441-20181217', 'ASPTCTX0001_npr921442688044-20180530', 'ASPTCTX0001_npr994456009593-20160406', 'ASPTCTX0001_npr988440539019-20151112', 'ASPTCTX0001_npr957454314652-20160212', 'ASPTCTX0001_npr984615458931-20200602', 'ASPTCTX0001_npr583145957054-20151007', 'ASPTCTX0001_npr587135579046-20211123', 'ASPTCTX0001_npr413511988429-20160530', 'ASPTCTX0001_npr134631340866-20200204', 'ASPTCTX0001_npr318069702845-20190211', 'ASPTCTX0001_npr675361759044-20220721', 'ASPTCTX0001_npr736770123378-20220223', 'ASPTCTX0001_npr513122400691-20151116', 'ASPTCTX0001_npr148158633199-20110420', 'ASPTCTX0001_npr513122400691-20220127', 'ASPTCTX0001_npr104002894856-20150518', 'ASPTCTX0001_npr490682074162-20210820', 'ASPTCTX0001_npr485214242107-20110228', 'ASPTCTX0001_npr517693914744-20190702', 'ASPTCTX0001_npr796338498069-20161012', 'ASPTCTX0001_npr677425575862-20190911', 'ASPTCTX0001_npr595953029215-20210602', 'ASPTCTX0001_npr921442688044-20210127', 'ASPTCTX0001_npr587135579046-20220511', 'ASPTCTX0001_npr648776434738-20170123', 'ASPTCTX0001_npr632018523599-20190409', 'ASPTCTX0001_npr343108646413-20220513', 'ASPTCTX0001_npr214486541208-20210407', 'ASPTCTX0001_npr693215472422-20220304', 'ASPTCTX0001_npr177344988057-20170607', 'ASPTCTX0001_npr800825006018-20130214', 'ASPTCTX0001_npr450585088502-20220603', 'ASPTCTX0001_npr445132037663-20161220', 'ASPTCTX0001_npr404220659516-20180926', 'ASPTCTX0001_npr856964389954-20200407', 'ASPTCTX0001_npr984449190795-20220513', 'ASPTCTX0001_npr474584434392-20160804', 'ASPTCTX0001_npr587135579046-20201013', 'ASPTCTX0001_npr648776434738-20160510', 'ASPTCTX0001_npr159235310122-20190930', 'ASPTCTX0001_npr869659050971-20200915', 'ASPTCTX0001_npr931880127240-20210203', 'ASPTCTX0001_npr957454314652-20160831', 'ASPTCTX0001_npr731886363779-20220426', 'ASPTCTX0001_npr300716986556-20191127', 'ASPTCTX0001_npr984449190795-20190704', 'ASPTCTX0001_npr622959656624-20170517', 'ASPTCTX0001_npr931880127240-20220127', 'ASPTCTX0001_npr286078601429-20190605', 'ASPTCTX0001_npr735514315323-20220609', 'ASPTCTX0001_npr374571111556-20211227', 'ASPTCTX0001_npr800825006018-20131029', 'ASPTCTX0001_npr913234492609-20160818', 'ASPTCTX0001_npr450585088502-20210330', 'ASPTCTX0001_npr693215472422-20210414', 'ASPTCTX0001_npr984615458931-20201030', 'ASPTCTX0001_npr810027539654-20211019', 'ASPTCTX0001_npr853321786957-20190718', 'ASPTCTX0001_npr338072248985-20170601', 'ASPTCTX0001_npr109344916270-20101005', 'ASPTCTX0001_npr186660673798-20130422', 'ASPTCTX0001_npr490027250002-20100818', 'ASPTCTX0001_npr600547240469-20161130', 'ASPTCTX0001_npr214486541208-20200624', 'ASPTCTX0001_npr109344916270-20110112', 'ASPTCTX0001_npr990056363342-20151020', 'ASPTCTX0001_npr957454314652-20150216', 'ASPTCTX0001_npr587135579046-20190510', 'ASPTCTX0001_npr186660673798-20150123', 'ASPTCTX0001_npr382421460907-20210401', 'ASPTCTX0001_npr569384361093-20170906', 'ASPTCTX0001_npr587135579046-20190816', 'ASPTCTX0001_npr693215472422-20211005', 'ASPTCTX0001_npr176938888503-20200904', 'ASPTCTX0001_npr599489809085-20171121', 'ASPTCTX0001_npr393726682369-20140102', 'ASPTCTX0001_npr333333959458-20190919', 'ASPTCTX0001_npr572561299871-20150223', 'ASPTCTX0001_npr875566421610-20200603', 'ASPTCTX0001_npr736770123378-20101217', 'ASPTCTX0001_npr800825006018-20121004', 'ASPTCTX0001_npr184555245175-20170307', 'ASPTCTX0001_npr937959980599-20190121', 'ASPTCTX0001_npr104002894856-20150728', 'ASPTCTX0001_npr503432381272-20210528', 'ASPTCTX0001_npr252907313573-20140217', 'ASPTCTX0001_npr910414175924-20190406', 'ASPTCTX0001_npr692424807150-20211119', 'ASPTCTX0001_npr764034734536-20211029', 'ASPTCTX0001_npr387178949549-20210219', 'ASPTCTX0001_npr731886363779-20180815', 'ASPTCTX0001_npr485214242107-20110510', 'ASPTCTX0001_npr800825006018-20130704', 'ASPTCTX0001_npr937959980599-20170221', 'ASPTCTX0001_npr587135579046-20200226', 'ASPTCTX0001_npr984615381610-20211013', 'ASPTCTX0001_npr367052505378-20151016', 'ASPTCTX0001_npr513122400691-20220823', 'ASPTCTX0001_npr252097509348-20181029', 'ASPTCTX0001_npr167765706611-20171107', 'ASPTCTX0001_npr297113693785-20210203', 'ASPTCTX0001_npr184555245175-20191219', 'ASPTCTX0001_npr490027250002-20190613', 'ASPTCTX0001_npr184555245175-20160919', 'ASPTCTX0001_npr413511988429-20160309', 'ASPTCTX0001_npr731886363779-20190503', 'ASPTCTX0001_npr186660673798-20140429', 'ASPTCTX0001_npr937959980599-20170929', 'ASPTCTX0001_npr920108481500-20180414', 'ASPTCTX0001_npr600547240469-20170202', 'ASPTCTX0001_npr793972276275-20190425', 'ASPTCTX0001_npr587135579046-20210811', 'ASPTCTX0001_npr646349001119-20191004', 'ASPTCTX0001_npr587135579046-20220824', 'ASPTCTX0001_npr862781365317-20180219', 'ASPTCTX0001_npr286078601429-20210614', 'ASPTCTX0001_npr252097509348-20210518', 'ASPTCTX0001_npr587135579046-20190211', 'ASPTCTX0001_npr971174528422-20220404', 'ASPTCTX0001_npr487467122228-20210810', 'ASPTCTX0001_npr466311402891-20211220', 'ASPTCTX0001_npr404220659516-20210210', 'ASPTCTX0001_npr971174528422-20201211', 'ASPTCTX0001_npr381435315644-20211012', 'ASPTCTX0001_npr381435315644-20210305', 'ASPTCTX0001_npr341699777979-20220408', 'ASPTCTX0001_npr405944536913-20170324', 'ASPTCTX0001_npr600547240469-20190527', 'ASPTCTX0001_npr648776434738-20170418', 'ASPTCTX0001_npr911860985824-20210630', 'ASPTCTX0001_npr333333959458-20211217', 'ASPTCTX0001_npr289269457301-20160715', 'ASPTCTX0001_npr441222215319-20210629', 'ASPTCTX0001_npr622959656624-20160219', 'ASPTCTX0001_npr599489809085-20180801', 'ASPTCTX0001_npr648776434738-20170725', 'ASPTCTX0001_npr731886363779-20180130', 'ASPTCTX0001_npr587135579046-20210409', 'ASPTCTX0001_npr333333959458-20200311', 'ASPTCTX0001_npr957454314652-20150713', 'ASPTCTX0001_npr731886363779-20180613', 'ASPTCTX0001_npr490682074162-20220524', 'ASPTCTX0001_npr689473736495-20200417', 'ASPTCTX0001_npr234658510284-20170921', 'ASPTCTX0001_npr213392539349-20170320', 'ASPTCTX0001_npr666173543285-20181109', 'ASPTCTX0001_npr587135579046-20200818', 'ASPTCTX0001_npr572561299871-20180425', 'ASPTCTX0001_npr837247319358-20200331', 'ASPTCTX0001_npr780324363962-20160415', 'ASPTCTX0001_npr565321391508-20181024', 'ASPTCTX0001_npr183027863262-20180507', 'ASPTCTX0001_npr134631340866-20180831', 'ASPTCTX0001_npr295626979807-20200207', 'ASPTCTX0001_npr711389260193-20170207', 'ASPTCTX0001_npr735514315323-20220915', 'ASPTCTX0001_npr475770916120-20210128', 'ASPTCTX0001_npr600547240469-20171023', 'ASPTCTX0001_npr911461871690-20170502', 'ASPTCTX0001_npr413511988429-20161115', 'ASPTCTX0001_npr234939567052-20220530', 'ASPTCTX0001_npr252097509348-20210209', 'ASPTCTX0001_npr252097509348-20170224', 'ASPTCTX0001_npr183406378492-20220223', 'ASPTCTX0001_npr159235310122-20210218', 'ASPTCTX0001_npr882375102379-20170315', 'ASPTCTX0001_npr583145957054-20170524', 'ASPTCTX0001_npr870624486669-20210108', 'ASPTCTX0001_npr752160379091-20180712', 'ASPTCTX0001_npr376089002836-20220222', 'ASPTCTX0001_npr334059381063-20161020', 'ASPTCTX0001_npr286078601429-20200819', 'ASPTCTX0001_npr857828992538-20190418', 'ASPTCTX0001_npr143944474227-20210119', 'ASPTCTX0001_npr349596869434-20181218', 'ASPTCTX0001_npr381435315644-20220316', 'ASPTCTX0001_npr794890470947-20170831', 'ASPTCTX0001_npr235266377960-20140807', 'ASPTCTX0001_npr234939567052-20210331', 'ASPTCTX0001_npr587135579046-20201106', 'ASPTCTX0001_npr329806617010-20210902', 'ASPTCTX0001_npr196454688576-20141201', 'ASPTCTX0001_npr413511988429-20180102', 'ASPTCTX0001_npr850325859942-20200715', 'ASPTCTX0001_npr800825006018-20140527', 'ASPTCTX0001_npr793494144555-20210809', 'ASPTCTX0001_npr404220659516-20210716', 'ASPTCTX0001_npr929040350731-20210527', 'ASPTCTX0001_npr937959980599-20161006', 'ASPTCTX0001_npr218702301637-20170320', 'ASPTCTX0001_npr172564665974-20190904', 'ASPTCTX0001_npr800825006018-20121203', 'ASPTCTX0001_npr648776434738-20180710', 'ASPTCTX0001_npr148294034946-20220523', 'ASPTCTX0001_npr381435315644-20210604', 'ASPTCTX0001_npr300716986556-20190827', 'ASPTCTX0001_npr666484449746-20150901', 'ASPTCTX0001_npr218702301637-20220126', 'ASPTCTX0001_npr911461871690-20220505', 'ASPTCTX0001_npr233501964313-20191203', 'ASPTCTX0001_npr490682074162-20181012', 'ASPTCTX0001_npr466311402891-20210331', 'ASPTCTX0001_npr853127186850-20220330', 'ASPTCTX0001_npr413511988429-20160921', 'ASPTCTX0001_npr450585088502-20211203', 'ASPTCTX0001_npr572561299871-20181129', 'ASPTCTX0001_npr759150236801-20161108', 'ASPTCTX0001_npr490682074162-20200902', 'ASPTCTX0001_npr911860985824-20180308', 'ASPTCTX0001_npr113859247036-20210324', 'ASPTCTX0001_npr630173660586-20220210', 'ASPTCTX0001_npr677425575862-20191203', 'ASPTCTX0001_npr134631340866-20180413', 'ASPTCTX0001_npr367052505378-20160217', 'ASPTCTX0001_npr371666778321-20210611', 'ASPTCTX0001_npr926234510791-20210218', 'ASPTCTX0001_npr760109564937-20220516', 'ASPTCTX0001_npr666173543285-20170210', 'ASPTCTX0001_npr435935840309-20160128', 'ASPTCTX0001_npr937959980599-20180202', 'ASPTCTX0001_npr587135579046-20190626', 'ASPTCTX0001_npr587135579046-20220307', 'ASPTCTX0001_npr374571111556-20220609', 'ASPTCTX0001_npr371666778321-20170831'}\n"
     ]
    }
   ],
   "source": [
    "utils.display_full(missing_exams_from_blackdisk)"
   ]
  },
  {
   "cell_type": "code",
   "execution_count": 81,
   "metadata": {},
   "outputs": [
    {
     "data": {
      "text/plain": [
       "72"
      ]
     },
     "execution_count": 81,
     "metadata": {},
     "output_type": "execute_result"
    }
   ],
   "source": [
    "missing_exams_from_total = black_disk_exams_set.difference(total_exams_set)\n",
    "len(missing_exams_from_total)"
   ]
  },
  {
   "cell_type": "code",
   "execution_count": 86,
   "metadata": {},
   "outputs": [
    {
     "name": "stdout",
     "output_type": "stream",
     "text": [
      "(72, 1)\n"
     ]
    },
    {
     "data": {
      "text/html": [
       "<div>\n",
       "<style scoped>\n",
       "    .dataframe tbody tr th:only-of-type {\n",
       "        vertical-align: middle;\n",
       "    }\n",
       "\n",
       "    .dataframe tbody tr th {\n",
       "        vertical-align: top;\n",
       "    }\n",
       "\n",
       "    .dataframe thead th {\n",
       "        text-align: right;\n",
       "    }\n",
       "</style>\n",
       "<table border=\"1\" class=\"dataframe\">\n",
       "  <thead>\n",
       "    <tr style=\"text-align: right;\">\n",
       "      <th></th>\n",
       "      <th>patient_directory</th>\n",
       "    </tr>\n",
       "  </thead>\n",
       "  <tbody>\n",
       "    <tr>\n",
       "      <th>0</th>\n",
       "      <td>ASPTCTX0001_npr324456581289-20190412</td>\n",
       "    </tr>\n",
       "    <tr>\n",
       "      <th>1</th>\n",
       "      <td>ASPTCTX0001_npr215862084340-20170116</td>\n",
       "    </tr>\n",
       "  </tbody>\n",
       "</table>\n",
       "</div>"
      ],
      "text/plain": [
       "                      patient_directory\n",
       "0  ASPTCTX0001_npr324456581289-20190412\n",
       "1  ASPTCTX0001_npr215862084340-20170116"
      ]
     },
     "execution_count": 86,
     "metadata": {},
     "output_type": "execute_result"
    }
   ],
   "source": [
    "missing_exams_from_total_df = pd.DataFrame(list(missing_exams_from_total), columns=['patient_directory'])\n",
    "missing_exams_from_total_df.to_excel(source_path_bd + '/missing_exams_from_total.xlsx', index=False)\n",
    "print(missing_exams_from_total_df.shape)\n",
    "missing_exams_from_total_df.head(2)"
   ]
  },
  {
   "cell_type": "code",
   "execution_count": 82,
   "metadata": {},
   "outputs": [
    {
     "name": "stdout",
     "output_type": "stream",
     "text": [
      "{'ASPTCTX0001_npr324456581289-20190412', 'ASPTCTX0001_npr215862084340-20170116', 'ASPTCTX0001_npr470970231103-20200616', 'ASPTCTX0001_npr291281941375-20130827', 'ASPTCTX0001_npr810487223691-20170519', 'ASPTCTX0001_npr291281941375-20220727', 'ASPTCTX0001_npr767926081539-20220216', 'ASPTCTX0001_npr255076601190-20180627', 'ASPTCTX0001_npr426050412006-20180523', 'ASPTCTX0001_npr367898115501-20180824', 'ASPTCTX0001_npr903514908779-20180814', 'ASPTCTX0001_npr215862084340-20170426', 'ASPTCTX0001_npr161070247318-20110307', 'ASPTCTX0001_npr756174331497-20201126', 'ASPTCTX0001_npr215862084340-20140703', 'ASPTCTX0001_npr391996850427-20210622', 'ASPTCTX0001_npr585330355608-20220114', 'ASPTCTX0001_npr988591444685-20210218', 'ASPTCTX0001_npr470970231103-20200114', 'ASPTCTX0001_npr215862084340-20201113', 'ASPTCTX0001_npr391996850427-20200901', 'ASPTCTX0001_npr988591444685-20170413', 'ASPTCTX0001_npr624573786794-20180314', 'ASPTCTX0001_npr241753528498-20190918', 'ASPTCTX0001_npr241753528498-20220114', 'ASPTCTX0001_npr948124918404-20220202', 'ASPTCTX0001_npr872366845168-20161222', 'ASPTCTX0001_npr215862084340-20170217', 'ASPTCTX0001_npr314461614947-20170619', 'ASPTCTX0001_npr470970231103-20190212', 'ASPTCTX0001_npr391996850427-20200417', 'ASPTCTX0001_npr255076601190-20200417', 'ASPTCTX0001_npr314461614947-20210310', 'ASPTCTX0001_npr583359554588-20170203', 'ASPTCTX0001_npr735730594970-20220304', 'ASPTCTX0001_npr215862084340-20161122', 'ASPTCTX0001_npr583359554588-20160419', 'ASPTCTX0001_npr850400705398-20170825', 'ASPTCTX0001_npr479564577140-20171213', 'ASPTCTX0001_npr566618779169-20220603', 'ASPTCTX0001_npr810487223691-20220222', 'ASPTCTX0001_npr291281941375-20181207', 'ASPTCTX0001_npr203207608845-20150429', 'ASPTCTX0001_npr291281941375-20181215', 'ASPTCTX0001_npr483717295845-20181126', 'ASPTCTX0001_npr932873554102-20150317', 'ASPTCTX0001_npr215862084340-20140624', 'ASPTCTX0001_npr558647453334-20210915', 'ASPTCTX0001_npr627176886489-20210305', 'ASPTCTX0001_npr197344272233-20200129', 'ASPTCTX0001_npr583359554588-20160906', 'ASPTCTX0001_npr756877649679-20170222', 'ASPTCTX0001_npr324464555516-20200708', 'ASPTCTX0001_npr987467931634-20180521', 'ASPTCTX0001_npr470970231103-20190924', 'ASPTCTX0001_npr167784356423-20180302', 'ASPTCTX0001_npr161070247318-20110502', 'ASPTCTX0001_npr350546354817-20190911', 'ASPTCTX0001_npr215862084340-20220511', 'ASPTCTX0001_npr215862084340-20140505', 'ASPTCTX0001_npr767926081539-20210224', 'ASPTCTX0001_npr215862084340-20170803', 'ASPTCTX0001_npr391996850427-20200212', 'ASPTCTX0001_npr485030831082-20220517', 'ASPTCTX0001_npr396918207645-20160310', 'ASPTCTX0001_npr479564577140-20120727', 'ASPTCTX0001_npr470970231103-20190527', 'ASPTCTX0001_npr215862084340-20101125', 'ASPTCTX0001_npr215862084340-20200320', 'ASPTCTX0001_npr215862084340-20140710', 'ASPTCTX0001_npr215862084340-20110124', 'ASPTCTX0001_npr291281941375-20170130'}\n"
     ]
    }
   ],
   "source": [
    "utils.display_full(missing_exams_from_total)"
   ]
  },
  {
   "cell_type": "code",
   "execution_count": 68,
   "metadata": {},
   "outputs": [
    {
     "data": {
      "text/plain": [
       "2119"
      ]
     },
     "execution_count": 68,
     "metadata": {},
     "output_type": "execute_result"
    }
   ],
   "source": [
    "total_union_blackdisk = set(total_exams_set.union(black_disk_exams_set))\n",
    "len(total_union_blackdisk)"
   ]
  },
  {
   "cell_type": "code",
   "execution_count": null,
   "metadata": {},
   "outputs": [],
   "source": []
  },
  {
   "cell_type": "markdown",
   "metadata": {},
   "source": [
    "##### Check distorted images on both disk for 17 Oct data"
   ]
  },
  {
   "cell_type": "code",
   "execution_count": 25,
   "metadata": {},
   "outputs": [],
   "source": [
    "#distorted\n",
    "distorted_file_wd = source_path_wd + '/distorted_lst.txt'\n",
    "distorted_file_bd = source_path_bd + '/distorted_lst.txt'"
   ]
  },
  {
   "cell_type": "code",
   "execution_count": 26,
   "metadata": {},
   "outputs": [],
   "source": [
    "distorted = {'wd': [], 'bd':[]}\n",
    "\n",
    "with open(distorted_file_wd) as f:\n",
    "    for line in f:\n",
    "        inner_list = [elt.strip() for elt in line.split(',')]\n",
    "        # in alternative, if you need to use the file content as numbers\n",
    "        # inner_list = [int(elt.strip()) for elt in line.split(',')]\n",
    "        distorted['wd'].extend(inner_list)\n",
    "\n",
    "with open(distorted_file_bd) as f:\n",
    "    for line in f:\n",
    "        inner_list = [elt.strip() for elt in line.split(',')]\n",
    "        # in alternative, if you need to use the file content as numbers\n",
    "        # inner_list = [int(elt.strip()) for elt in line.split(',')]\n",
    "        distorted['bd'].extend(inner_list)"
   ]
  },
  {
   "cell_type": "code",
   "execution_count": 29,
   "metadata": {},
   "outputs": [
    {
     "data": {
      "text/plain": [
       "231"
      ]
     },
     "execution_count": 29,
     "metadata": {},
     "output_type": "execute_result"
    }
   ],
   "source": [
    "len(distorted['wd']) + len(distorted['bd'])"
   ]
  },
  {
   "cell_type": "code",
   "execution_count": 28,
   "metadata": {},
   "outputs": [
    {
     "data": {
      "text/plain": [
       "132"
      ]
     },
     "execution_count": 28,
     "metadata": {},
     "output_type": "execute_result"
    }
   ],
   "source": []
  },
  {
   "cell_type": "code",
   "execution_count": 17,
   "metadata": {},
   "outputs": [],
   "source": [
    "import numpy as np\n",
    "from PIL import Image\n",
    "import matplotlib.pyplot as plt\n",
    "patient_collages = \"/media/andres/T7 Shield1/UCAN_project/collages/lpr385705046400/20140313\"\n",
    "image = np.load(\"/media/andres/T7 Shield1/UCAN_project/collages/lpr385705046400/20140313/CT_bone.npy\")\n",
    "reshaped_projection = np.load(\"/media/andres/T7 Shield1/UCAN_project/2D_projections/reshaped_projections/npr999612862346/20210212/CT_bone.npy\")\n",
    "raw_projection = np.load(\"/media/andres/T7 Shield1/UCAN_project/2D_projections/raw_projections/lpr385705046400/20140313/CT_lean/0.0.npy\")"
   ]
  },
  {
   "cell_type": "code",
   "execution_count": 18,
   "metadata": {},
   "outputs": [
    {
     "data": {
      "image/png": "[encoded data removed]",
      "text/plain": [
       "<Figure size 640x480 with 1 Axes>"
      ]
     },
     "metadata": {},
     "output_type": "display_data"
    }
   ],
   "source": [
    "plt.imshow(raw_projection, cmap=\"gray\")\n",
    "plt.show()"
   ]
  },
  {
   "cell_type": "code",
   "execution_count": 3,
   "metadata": {},
   "outputs": [
    {
     "data": {
      "text/html": [
       "<div>\n",
       "<style scoped>\n",
       "    .dataframe tbody tr th:only-of-type {\n",
       "        vertical-align: middle;\n",
       "    }\n",
       "\n",
       "    .dataframe tbody tr th {\n",
       "        vertical-align: top;\n",
       "    }\n",
       "\n",
       "    .dataframe thead th {\n",
       "        text-align: right;\n",
       "    }\n",
       "</style>\n",
       "<table border=\"1\" class=\"dataframe\">\n",
       "  <thead>\n",
       "    <tr style=\"text-align: right;\">\n",
       "      <th></th>\n",
       "      <th>patient_ID</th>\n",
       "      <th>scan_date</th>\n",
       "      <th>SUV_MIP</th>\n",
       "      <th>CT_MIP</th>\n",
       "      <th>SUV_bone</th>\n",
       "      <th>CT_bone</th>\n",
       "      <th>SUV_lean</th>\n",
       "      <th>CT_lean</th>\n",
       "      <th>SUV_adipose</th>\n",
       "      <th>CT_adipose</th>\n",
       "      <th>SUV_air</th>\n",
       "      <th>CT_air</th>\n",
       "      <th>patient_age</th>\n",
       "    </tr>\n",
       "  </thead>\n",
       "  <tbody>\n",
       "    <tr>\n",
       "      <th>0</th>\n",
       "      <td>lpr385705046400</td>\n",
       "      <td>20140313</td>\n",
       "      <td>/home/ashish/Ashish/UCAN/collages/reshaped_col...</td>\n",
       "      <td>/home/ashish/Ashish/UCAN/collages/reshaped_col...</td>\n",
       "      <td>/home/ashish/Ashish/UCAN/collages/reshaped_col...</td>\n",
       "      <td>/home/ashish/Ashish/UCAN/collages/reshaped_col...</td>\n",
       "      <td>/home/ashish/Ashish/UCAN/collages/reshaped_col...</td>\n",
       "      <td>/home/ashish/Ashish/UCAN/collages/reshaped_col...</td>\n",
       "      <td>/home/ashish/Ashish/UCAN/collages/reshaped_col...</td>\n",
       "      <td>/home/ashish/Ashish/UCAN/collages/reshaped_col...</td>\n",
       "      <td>/home/ashish/Ashish/UCAN/collages/reshaped_col...</td>\n",
       "      <td>/home/ashish/Ashish/UCAN/collages/reshaped_col...</td>\n",
       "      <td>33</td>\n",
       "    </tr>\n",
       "    <tr>\n",
       "      <th>1</th>\n",
       "      <td>lpr415675513429</td>\n",
       "      <td>20190201</td>\n",
       "      <td>/home/ashish/Ashish/UCAN/collages/reshaped_col...</td>\n",
       "      <td>/home/ashish/Ashish/UCAN/collages/reshaped_col...</td>\n",
       "      <td>/home/ashish/Ashish/UCAN/collages/reshaped_col...</td>\n",
       "      <td>/home/ashish/Ashish/UCAN/collages/reshaped_col...</td>\n",
       "      <td>/home/ashish/Ashish/UCAN/collages/reshaped_col...</td>\n",
       "      <td>/home/ashish/Ashish/UCAN/collages/reshaped_col...</td>\n",
       "      <td>/home/ashish/Ashish/UCAN/collages/reshaped_col...</td>\n",
       "      <td>/home/ashish/Ashish/UCAN/collages/reshaped_col...</td>\n",
       "      <td>/home/ashish/Ashish/UCAN/collages/reshaped_col...</td>\n",
       "      <td>/home/ashish/Ashish/UCAN/collages/reshaped_col...</td>\n",
       "      <td>32</td>\n",
       "    </tr>\n",
       "  </tbody>\n",
       "</table>\n",
       "</div>"
      ],
      "text/plain": [
       "        patient_ID  scan_date  \\\n",
       "0  lpr385705046400   20140313   \n",
       "1  lpr415675513429   20190201   \n",
       "\n",
       "                                             SUV_MIP  \\\n",
       "0  /home/ashish/Ashish/UCAN/collages/reshaped_col...   \n",
       "1  /home/ashish/Ashish/UCAN/collages/reshaped_col...   \n",
       "\n",
       "                                              CT_MIP  \\\n",
       "0  /home/ashish/Ashish/UCAN/collages/reshaped_col...   \n",
       "1  /home/ashish/Ashish/UCAN/collages/reshaped_col...   \n",
       "\n",
       "                                            SUV_bone  \\\n",
       "0  /home/ashish/Ashish/UCAN/collages/reshaped_col...   \n",
       "1  /home/ashish/Ashish/UCAN/collages/reshaped_col...   \n",
       "\n",
       "                                             CT_bone  \\\n",
       "0  /home/ashish/Ashish/UCAN/collages/reshaped_col...   \n",
       "1  /home/ashish/Ashish/UCAN/collages/reshaped_col...   \n",
       "\n",
       "                                            SUV_lean  \\\n",
       "0  /home/ashish/Ashish/UCAN/collages/reshaped_col...   \n",
       "1  /home/ashish/Ashish/UCAN/collages/reshaped_col...   \n",
       "\n",
       "                                             CT_lean  \\\n",
       "0  /home/ashish/Ashish/UCAN/collages/reshaped_col...   \n",
       "1  /home/ashish/Ashish/UCAN/collages/reshaped_col...   \n",
       "\n",
       "                                         SUV_adipose  \\\n",
       "0  /home/ashish/Ashish/UCAN/collages/reshaped_col...   \n",
       "1  /home/ashish/Ashish/UCAN/collages/reshaped_col...   \n",
       "\n",
       "                                          CT_adipose  \\\n",
       "0  /home/ashish/Ashish/UCAN/collages/reshaped_col...   \n",
       "1  /home/ashish/Ashish/UCAN/collages/reshaped_col...   \n",
       "\n",
       "                                             SUV_air  \\\n",
       "0  /home/ashish/Ashish/UCAN/collages/reshaped_col...   \n",
       "1  /home/ashish/Ashish/UCAN/collages/reshaped_col...   \n",
       "\n",
       "                                              CT_air  patient_age  \n",
       "0  /home/ashish/Ashish/UCAN/collages/reshaped_col...           33  \n",
       "1  /home/ashish/Ashish/UCAN/collages/reshaped_col...           32  "
      ]
     },
     "execution_count": 3,
     "metadata": {},
     "output_type": "execute_result"
    }
   ],
   "source": [
    "import pandas as pd\n",
    "pa = pd.read_excel(\"/home/ashish/Ashish/UCAN/Dataframes/Generated/dataset_for_model_regression_training.xlsx\")\n",
    "pa.head(2)"
   ]
  },
  {
   "cell_type": "code",
   "execution_count": 7,
   "metadata": {},
   "outputs": [
    {
     "data": {
      "text/plain": [
       "<Axes: title={'center': 'Age Distribution'}, ylabel='Frequency'>"
      ]
     },
     "execution_count": 7,
     "metadata": {},
     "output_type": "execute_result"
    },
    {
     "data": {
      "image/png": "[encoded data removed]",
      "text/plain": [
       "<Figure size 640x480 with 1 Axes>"
      ]
     },
     "metadata": {},
     "output_type": "display_data"
    }
   ],
   "source": [
    "pa.patient_age.plot.hist(title='Age Distribution', bins=10)"
   ]
  },
  {
   "cell_type": "code",
   "execution_count": null,
   "metadata": {},
   "outputs": [],
   "source": []
  }
 ],
 "metadata": {
  "kernelspec": {
   "display_name": "UCANProject",
   "language": "python",
   "name": "python3"
  },
  "language_info": {
   "codemirror_mode": {
    "name": "ipython",
    "version": 3
   },
   "file_extension": ".py",
   "mimetype": "text/x-python",
   "name": "python",
   "nbconvert_exporter": "python",
   "pygments_lexer": "ipython3",
   "version": "3.11.5"
  }
 },
 "nbformat": 4,
 "nbformat_minor": 2
}
