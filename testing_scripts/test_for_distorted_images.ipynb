{
 "cells": [
  {
   "cell_type": "code",
   "execution_count": null,
   "metadata": {},
   "outputs": [],
   "source": [
    "import numpy as np\n",
    "import pandas as pd\n",
    "import pydicom as dicom\n",
    "import matplotlib.pylab as plt\n",
    "import glob\n",
    "import SimpleITK as sitk\n",
    "import re\n",
    "import pydicom\n",
    "import os"
   ]
  },
  {
   "cell_type": "code",
   "execution_count": null,
   "metadata": {},
   "outputs": [],
   "source": [
    "def checkDistortedImg(vol_img, ptype='mean', angle=90):\n",
    "    projection = {'sum': sitk.SumProjection,\n",
    "                  'mean': sitk.MeanProjection,\n",
    "                  'std': sitk.StandardDeviationProjection,\n",
    "                  'min': sitk.MinimumProjection,\n",
    "                  'max': sitk.MaximumProjection}\n",
    "    paxis = 0\n",
    "\n",
    "    rotation_axis = [0, 0, 1]\n",
    "    rotation_angles = np.linspace(-1 / 2 * np.pi, 1 / 2 * np.pi, int(180.0 / angle))  # 15.0 degree\n",
    "\n",
    "    rotation_center = vol_img.TransformContinuousIndexToPhysicalPoint(\n",
    "        [(index - 1) / 2.0 for index in vol_img.GetSize()])\n",
    "\n",
    "    rotation_transform = sitk.VersorRigid3DTransform()\n",
    "    rotation_transform.SetCenter(rotation_center)\n",
    "\n",
    "    # Compute bounding box of rotating volume and the resampling grid structure\n",
    "    image_indexes = list(zip([0, 0, 0], [sz - 1 for sz in vol_img.GetSize()]))\n",
    "    image_bounds = []\n",
    "    for i in image_indexes[0]:\n",
    "        for j in image_indexes[1]:\n",
    "            for k in image_indexes[2]:\n",
    "                image_bounds.append(vol_img.TransformIndexToPhysicalPoint([i, j, k]))\n",
    "\n",
    "    all_points = []\n",
    "    for angle in rotation_angles:\n",
    "        rotation_transform.SetRotation(rotation_axis, angle)\n",
    "        all_points.extend([rotation_transform.TransformPoint(pnt) for pnt in image_bounds])\n",
    "\n",
    "    all_points = np.array(all_points)\n",
    "    min_bounds = all_points.min(0)\n",
    "    max_bounds = all_points.max(0)\n",
    "\n",
    "    new_spc = [np.min(vol_img.GetSpacing())] * 3\n",
    "    new_sz = [int(sz / spc + 0.5) for spc, sz in zip(new_spc, max_bounds - min_bounds)]\n",
    "\n",
    "    for angle in rotation_angles:\n",
    "        rotation_transform.SetRotation(rotation_axis, angle)\n",
    "        resampled_image = sitk.Resample(image1=vol_img,\n",
    "                                        size=new_sz,\n",
    "                                        transform=rotation_transform,\n",
    "                                        interpolator=sitk.sitkLinear,\n",
    "                                        outputOrigin=min_bounds,\n",
    "                                        outputSpacing=new_spc,\n",
    "                                        outputDirection=[1, 0, 0, 0, 1, 0, 0, 0, 1],\n",
    "                                        defaultPixelValue=-20,\n",
    "                                        # HU unit for air in CT, possibly set to 0 in other cases\n",
    "                                        outputPixelType=vol_img.GetPixelID())\n",
    "        proj_image = projection[ptype](resampled_image, paxis)\n",
    "        extract_size = list(proj_image.GetSize())\n",
    "        extract_size[paxis] = 0\n",
    "        sitk.Extract(proj_image, extract_size)\n",
    "\n",
    "\n",
    "def outputDistortedImg(df):\n",
    "    pid = os.getpid()\n",
    "    ppid = os.getppid()\n",
    "    start = time.time()\n",
    "    print(\"PPID %s->%s Started on %s\" % (ppid, pid, str(datetime.now())))\n",
    "\n",
    "    exception_lst = []\n",
    "\n",
    "    for _, row in df.iterrows():\n",
    "        reader = sitk.ImageSeriesReader()\n",
    "        dicom_names = reader.GetGDCMSeriesFileNames(row['directory'])\n",
    "        reader.SetFileNames(dicom_names)\n",
    "        vol_img = reader.Execute()\n",
    "        try:\n",
    "            checkDistortedImg(vol_img)\n",
    "        except:Mem:       32522512    11526808     2814172       60464    18181532    20466524\n",
    "            print(row[\"directory\"])\n",
    "            exception_lst.append(row['directory'])\n",
    "\n",
    "    end = time.time()\n",
    "\n",
    "    print(\"PPID %s Completed in %s\" % (os.getpid(), round((end - start) / 60, 2)))\n",
    "\n",
    "    return exception_lst"
   ]
  },
  {
   "cell_type": "code",
   "execution_count": null,
   "metadata": {},
   "outputs": [],
   "source": [
    "dataset = pd.read_excel(\"/media/andres/T7 Shield/ucan_lymfom/Excel_files/06_11_2023/Final_Selected_exams_from_U-CAN-Lymfom.xlsx\")\n",
    "\n",
    "# distorted_file_to_check = \"/media/andres/T7 Shield/ucan_lymfom/ASPTCTX0001_npr207978513481-20190903/CT-20190903-122850-3.6_WB_FDG_CT_VENFAS-WB_Venfas_3_ax-0.976562mm\"\n",
    "# distorted_file_to_check = \"/media/andres/T7 Shield/ucan_lymfom/ASPTCTX0001_npr207978513481-20190903/CT-20190903-122850-3.6_WB_FDG_CT_VENFAS-WB_Venfas_3_ax-3.000000mm\"\n",
    "\n",
    "for file in dataset[\"directory\"]:\n",
    "    print(file)\n",
    "    reader = sitk.ImageSeriesReader()\n",
    "    dicom_names = reader.GetGDCMSeriesFileNames(file)\n",
    "    reader.SetFileNames(dicom_names)\n",
    "    vol_img = reader.Execute()\n",
    "    checkDistortedImg(vol_img=vol_img)"
   ]
  },
  {
   "cell_type": "code",
   "execution_count": null,
   "metadata": {},
   "outputs": [],
   "source": [
    "print(exception_lst)\n",
    "len(exception_lst)"
   ]
  },
  {
   "cell_type": "code",
   "execution_count": null,
   "metadata": {},
   "outputs": [],
   "source": []
  },
  {
   "cell_type": "code",
   "execution_count": null,
   "metadata": {},
   "outputs": [],
   "source": [
    "source_path = \"/media/andres/T7 Shield/ucan_lymfom\"\n",
    "destination_path = os.path.join(source_path, \"metadata.xlsx\")\n",
    "\n",
    "directory_list = list()\n",
    "for root, dirs, files in os.walk(source_path, topdown=False):\n",
    "    for name in dirs:\n",
    "        directory_list.append(os.path.join(root, name))"
   ]
  },
  {
   "cell_type": "code",
   "execution_count": null,
   "metadata": {},
   "outputs": [],
   "source": [
    " dataset = pd.DataFrame(directory_list, columns=['directory'])\n",
    " countfiles_selected = {\"directory\": [], \"count\":[]}"
   ]
  },
  {
   "cell_type": "code",
   "execution_count": null,
   "metadata": {},
   "outputs": [],
   "source": [
    "for index, row in dataset.iterrows():\n",
    "    count = 0\n",
    "    for path in os.listdir(row[\"directory\"]):\n",
    "        if os.path.isfile(os.path.join(row[\"directory\"], path)):\n",
    "            count += 1\n",
    "            \n",
    "    countfiles_selected[\"directory\"].append(row[\"directory\"])\n",
    "    countfiles_selected[\"count\"].append(count)\n"
   ]
  },
  {
   "cell_type": "code",
   "execution_count": null,
   "metadata": {},
   "outputs": [],
   "source": [
    "countfiles_selected_df = pd.DataFrame.from_dict(countfiles_selected)\n",
    "exams_with_distorted_images_file = countfiles_selected_df[countfiles_selected_df[\"count\"] < 179].reset_index()\n",
    "print(f\"Number of exams with ones file: {exams_with_distorted_images_file.shape}\")\n",
    "exams_with_distorted_images_file.head(2)"
   ]
  },
  {
   "cell_type": "code",
   "execution_count": null,
   "metadata": {},
   "outputs": [],
   "source": [
    "    exams_with_distorted_images_file[['source_directory', 'patient_directory', 'PET-CT_info']] = exams_with_distorted_images_file['directory'].str.rsplit(pat='/', n=2, expand=True)\n",
    "    exams_with_distorted_images_file[\"patient_directory\"].nunique()"
   ]
  },
  {
   "cell_type": "code",
   "execution_count": null,
   "metadata": {},
   "outputs": [],
   "source": [
    "exams_with_distorted_images_file.to_excel(\"/media/andres/T7 Shield/ucan_lymfom/Excel_files/06_11_2023/exams_with_distorted_images_file.xlsx\")"
   ]
  },
  {
   "cell_type": "code",
   "execution_count": null,
   "metadata": {},
   "outputs": [],
   "source": [
    "dataset.shape"
   ]
  },
  {
   "cell_type": "code",
   "execution_count": null,
   "metadata": {},
   "outputs": [],
   "source": [
    "dataset = dataset[~dataset.directory.isin(exams_with_distorted_images_file.directory)]"
   ]
  },
  {
   "cell_type": "code",
   "execution_count": null,
   "metadata": {},
   "outputs": [],
   "source": [
    "dataset.shape"
   ]
  },
  {
   "cell_type": "code",
   "execution_count": null,
   "metadata": {},
   "outputs": [],
   "source": [
    "dataset.to_excel(\"/media/andres/T7 Shield/ucan_lymfom/Excel_files/06_11_2023/data_ready_for_filtering.xlsx\")"
   ]
  },
  {
   "cell_type": "code",
   "execution_count": null,
   "metadata": {},
   "outputs": [],
   "source": [
    "dataset_test = pd.read_excel(\"/media/andres/T7 Shield/ucan_lymfom/Excel_files/06_11_2023/data_ready_for_filtering.xlsx\")"
   ]
  },
  {
   "cell_type": "code",
   "execution_count": null,
   "metadata": {},
   "outputs": [],
   "source": [
    "type(dataset_test)"
   ]
  },
  {
   "cell_type": "code",
   "execution_count": null,
   "metadata": {},
   "outputs": [],
   "source": [
    "dataset_test.columns"
   ]
  },
  {
   "cell_type": "code",
   "execution_count": 1,
   "metadata": {},
   "outputs": [],
   "source": [
    "output_path = \"/media/andres/T7 Shield1/UCAN_project/collages/\"\n",
    "current_path = \"/media/andres/T7 Shield1/UCAN_project/2D_projections/raw_projections/\"\n",
    "full_path = \"/media/andres/T7 Shield1/UCAN_project/2D_projections/raw_projections/lpr385705046400/20140313/CT_MIP.npy\""
   ]
  },
  {
   "cell_type": "code",
   "execution_count": 2,
   "metadata": {},
   "outputs": [],
   "source": [
    "full_path = full_path.replace(current_path, output_path)"
   ]
  },
  {
   "cell_type": "code",
   "execution_count": 3,
   "metadata": {},
   "outputs": [
    {
     "data": {
      "text/plain": [
       "'/media/andres/T7 Shield1/UCAN_project/collages/lpr385705046400/20140313/CT_MIP.npy'"
      ]
     },
     "execution_count": 3,
     "metadata": {},
     "output_type": "execute_result"
    }
   ],
   "source": [
    "full_path"
   ]
  },
  {
   "cell_type": "code",
   "execution_count": null,
   "metadata": {},
   "outputs": [],
   "source": []
  }
 ],
 "metadata": {
  "kernelspec": {
   "display_name": "UCANProject",
   "language": "python",
   "name": "python3"
  },
  "language_info": {
   "codemirror_mode": {
    "name": "ipython",
    "version": 3
   },
   "file_extension": ".py",
   "mimetype": "text/x-python",
   "name": "python",
   "nbconvert_exporter": "python",
   "pygments_lexer": "ipython3",
   "version": "3.11.5"
  }
 },
 "nbformat": 4,
 "nbformat_minor": 2
}
