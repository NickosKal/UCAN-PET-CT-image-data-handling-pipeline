{
 "cells": [
  {
   "cell_type": "code",
   "execution_count": 3,
   "metadata": {},
   "outputs": [],
   "source": [
    "import os\n",
    "import sys\n",
    "from pathlib import Path\n",
    "import pandas as pd\n",
    "parent_dir = os.path.abspath('../')\n",
    "if parent_dir not in sys.path:\n",
    "    sys.path.append(parent_dir)\n",
    "    \n",
    "from Utils import utils\n",
    "\n",
    "# reading main config file\n",
    "config = utils.read_config()"
   ]
  },
  {
   "cell_type": "code",
   "execution_count": 2,
   "metadata": {},
   "outputs": [
    {
     "name": "stdout",
     "output_type": "stream",
     "text": [
      "/media/andres/T7 Shield1/UCAN_project/Results/classification/Diagnosis/Experiment_1/CV_1/Network_Weights/best_model_428.pth.tar\n",
      "/media/andres/T7 Shield1/UCAN_project/Results/classification\n",
      "/media/andres/T7 Shield1/UCAN_project/Dataframes/Generated/dataset_for_model_classification_training.xlsx\n"
     ]
    }
   ],
   "source": [
    "system = 1\n",
    "if system == 1:\n",
    "    PATH = config[\"Source\"][\"paths\"][\"source_path_system_1\"]\n",
    "elif system == 2:\n",
    "    os.environ[\"CUDA_VISIBLE_DEVICES\"] = \"0\"\n",
    "    PATH = config[\"Source\"][\"paths\"][\"source_path_system_2\"]\n",
    "else:\n",
    "    PATH = \"\"\n",
    "    print(\"Invalid system\")\n",
    "\n",
    "df_path = PATH + config[\"collages_for_classification_dataframe\"]\n",
    "df = pd.read_excel(df_path)\n",
    "df_sorted = df.sort_values(by=\"patient_ID\")\n",
    "\n",
    "path_output = PATH +config['classification_path']\n",
    "outcome = \"GT_diagnosis_label\"\n",
    "\n",
    "if outcome == \"sex\":\n",
    "    folder_name = \"Sex\"\n",
    "    output_channels = 2\n",
    "elif outcome == \"GT_diagnosis_label\":\n",
    "    folder_name = \"Diagnosis\"\n",
    "    output_channels = 3\n",
    "else:\n",
    "    folder_name = \"\"\n",
    "    output_channels = 1\n",
    "\n",
    "checkpoint_path = utils.load_checkpoints(1, \"classification\", folder_name, 1, 1)\n",
    "\n",
    "print(checkpoint_path)\n",
    "print(path_output)\n",
    "print(df_path)"
   ]
  },
  {
   "cell_type": "code",
   "execution_count": 3,
   "metadata": {},
   "outputs": [
    {
     "name": "stdout",
     "output_type": "stream",
     "text": [
      "/media/andres/T7 Shield1/UCAN_project/Dataframes/Generated/Final_Selected_exams_from_U-CAN-Lymfom.xlsx\n",
      "/media/andres/T7 Shield1/UCAN_project/Dataframes/Generated/data_ready_for_filtering.xlsx\n",
      "/media/andres/T7 Shield1/UCAN_project/Dataframes/Generated/exams_with_distorted_images_file.xlsx\n"
     ]
    }
   ],
   "source": [
    "system = 1 # 1 or 2\n",
    "if system == 1:\n",
    "    source_path = config[\"Source\"][\"paths\"][\"source_path_system_1\"]\n",
    "    exams_folder = config[\"selection\"][\"filenames\"][\"path_to_exams_folder_system_1\"]\n",
    "elif system == 2:\n",
    "    source_path = config[\"Source\"][\"paths\"][\"source_path_system_2\"]\n",
    "    exams_folder = config[\"selection\"][\"filenames\"][\"path_to_exams_folder_system_2\"]\n",
    "else:\n",
    "    exams_folder = \"\"\n",
    "    source_path = \"\"\n",
    "    print(\"Invalid system\")\n",
    "\n",
    "final_selected_folders = source_path + config[\"final_selected_folders_dataframe\"]\n",
    "dataset = source_path + config[\"exams_ready_for_selection_dataframe\"]\n",
    "exams_with_distorted_files = source_path + config[\"distorted_exams_dataframe\"]\n",
    "\n",
    "print(final_selected_folders)\n",
    "print(dataset)\n",
    "print(exams_with_distorted_files)"
   ]
  },
  {
   "cell_type": "code",
   "execution_count": 7,
   "metadata": {},
   "outputs": [
    {
     "name": "stdout",
     "output_type": "stream",
     "text": [
      "/Dataframes/Generated/Final_Selected_exams_from_U-CAN-Lymfom.xlsx\n",
      "/media/andres/T7 Shield1/UCAN_project/Resampled_SUV_CT/\n",
      "/media/andres/T7 Shield1/UCAN_project/Dataframes/Generated/Final_Selected_exams_from_U-CAN-Lymfom.xlsx\n",
      "/media/andres/T7 Shield1/UCAN_project/Dataframes/Generated/resampled_SUV_CT_dataframe.xlsx\n"
     ]
    }
   ],
   "source": [
    "selected_exams_dataframe = config['final_selected_folders_dataframe']\n",
    "resampled_save_destination_path = source_path + config[\"resampling\"][\"path_to_save\"]\n",
    "master_data = source_path  + selected_exams_dataframe\n",
    "resampled_SUV_CT_df = source_path + config[\"resampled_SUV_CT_dataframe\"]\n",
    "\n",
    "print(selected_exams_dataframe)\n",
    "print(resampled_save_destination_path)\n",
    "print(master_data)\n",
    "print(resampled_SUV_CT_df)"
   ]
  },
  {
   "cell_type": "code",
   "execution_count": 8,
   "metadata": {},
   "outputs": [
    {
     "name": "stdout",
     "output_type": "stream",
     "text": [
      "/media/andres/T7 Shield1/UCAN_project/2D_projections/raw_projections/\n",
      "/media/andres/T7 Shield1/UCAN_project/Resampled_SUV_CT/\n",
      "/media/andres/T7 Shield1/UCAN_project/Dataframes/Generated/df_of_raw_projections.xlsx\n"
     ]
    }
   ],
   "source": [
    "raw_projections_path = source_path + config[\"projections\"][\"paths\"][\"raw_projections_path\"]\n",
    "resampled_SUV_CT_path = source_path + config['resampling']['path_to_save']\n",
    "df_of_raw_projections = source_path + config[\"raw_projections_dataframe\"]\n",
    "print(raw_projections_path, resampled_SUV_CT_path, df_of_raw_projections, sep=\"\\n\")"
   ]
  },
  {
   "cell_type": "code",
   "execution_count": 9,
   "metadata": {},
   "outputs": [
    {
     "name": "stdout",
     "output_type": "stream",
     "text": [
      "/media/andres/T7 Shield1/UCAN_project/collages/raw_collages/\n",
      "/media/andres/T7 Shield1/UCAN_project/Dataframes/Generated/df_of_raw_projections.xlsx\n",
      "/media/andres/T7 Shield1/UCAN_project/Dataframes/Generated/df_of_raw_collages.xlsx\n"
     ]
    }
   ],
   "source": [
    "raw_collages_path = source_path + config[\"collages\"][\"paths\"][\"raw\"]\n",
    "df_of_raw_projections = source_path + config[\"raw_projections_dataframe\"]\n",
    "df_of_collages = source_path + config[\"raw_collages_dataframe\"]\n",
    "\n",
    "print(raw_collages_path, df_of_raw_projections, df_of_collages, sep=\"\\n\")"
   ]
  },
  {
   "cell_type": "code",
   "execution_count": 10,
   "metadata": {},
   "outputs": [
    {
     "name": "stdout",
     "output_type": "stream",
     "text": [
      "/media/andres/T7 Shield1/UCAN_project/collages/reshaped_collages/\n",
      "/media/andres/T7 Shield1/UCAN_project/Dataframes/Generated/df_of_raw_collages.xlsx\n",
      "/media/andres/T7 Shield1/UCAN_project/Dataframes/Generated/df_of_reshaped_collages.xlsx\n"
     ]
    }
   ],
   "source": [
    "reshaped_collages_path = source_path + config[\"collages\"][\"paths\"][\"reshaped\"]\n",
    "df_of_raw_collages = source_path + config[\"raw_collages_dataframe\"]\n",
    "df_of_reshaped_collages = source_path + config[\"reshaped_collages_dataframe\"]\n",
    "\n",
    "print(reshaped_collages_path, df_of_raw_collages, df_of_reshaped_collages, sep=\"\\n\")"
   ]
  },
  {
   "cell_type": "code",
   "execution_count": 11,
   "metadata": {},
   "outputs": [
    {
     "name": "stdout",
     "output_type": "stream",
     "text": [
      "/media/andres/T7 Shield1/UCAN_project/Dataframes/Generated/df_of_reshaped_collages.xlsx\n",
      "/media/andres/T7 Shield1/UCAN_project/Dataframes/Generated/df_of_collages_with_nan_arrays.xlsx\n",
      "/media/andres/T7 Shield1/UCAN_project/Dataframes/Generated/df_of_collages_without_nan_arrays.xlsx\n"
     ]
    }
   ],
   "source": [
    "df_of_collages = source_path + config[\"reshaped_collages_dataframe\"]\n",
    "df_with_nan_arrays = source_path + config[\"collages_with_nan_arrays_daraframe\"]\n",
    "df_of_collages_without_nan_arrays = source_path + config[\"collages_without_nan_arrays_daraframe\"]\n",
    "\n",
    "print(df_of_collages, df_with_nan_arrays, df_of_collages_without_nan_arrays, sep=\"\\n\")"
   ]
  },
  {
   "cell_type": "code",
   "execution_count": 12,
   "metadata": {},
   "outputs": [
    {
     "name": "stdout",
     "output_type": "stream",
     "text": [
      "/media/andres/T7 Shield1/UCAN_project/Dataframes/Generated/df_of_collages_without_nan_arrays.xlsx\n",
      "/media/andres/T7 Shield1/UCAN_project/Dataframes/Metadata/Finalized_dataset_exams_with_age.xlsx\n",
      "/media/andres/T7 Shield1/UCAN_project/Dataframes/Generated/dataset_for_model_regression_training.xlsx\n",
      "/media/andres/T7 Shield1/UCAN_project/Dataframes/Metadata/dataset_for_training_366patients_baseline_scans_clinical20231129.xlsx\n",
      "/media/andres/T7 Shield1/UCAN_project/Dataframes/Generated/dataset_for_model_classification_training.xlsx\n"
     ]
    }
   ],
   "source": [
    "df_of_collages_without_nan_arrays = source_path + config[\"collages_without_nan_arrays_daraframe\"]\n",
    "metadata_for_regression = source_path + config[\"metadata\"][\"filenames\"][\"regression_dataframe\"]\n",
    "collages_dataset_for_regression = source_path + config[\"collages_for_rergession_dataframe\"]\n",
    "metadata_for_classification = source_path + config[\"metadata\"][\"filenames\"][\"classification_dataframe\"]\n",
    "collages_dataset_for_classification = source_path + config[\"collages_for_classification_dataframe\"]\n",
    "\n",
    "print(df_of_collages_without_nan_arrays, metadata_for_regression, collages_dataset_for_regression, metadata_for_classification, collages_dataset_for_classification, sep=\"\\n\")"
   ]
  },
  {
   "cell_type": "code",
   "execution_count": 26,
   "metadata": {},
   "outputs": [],
   "source": [
    "def best_model_selection_from_fold(system, type, category, experiment_number, fold_number):\n",
    "    if type == \"regression\":\n",
    "        path = config[\"Source\"][\"paths\"][f\"source_path_system_{system}\"] + config[\"regression_path\"] + f\"/Experiment_{experiment_number}/CV_{fold_number}/Network_Weights/\"\n",
    "    else:\n",
    "        path = config[\"Source\"][\"paths\"][f\"source_path_system_{system}\"] + config[\"classification_path\"] + f\"/{category}/Experiment_{experiment_number}/CV_{fold_number}/Network_Weights/\"\n",
    "    path_object = Path(path)\n",
    "    models = path_object.glob(\"*\")\n",
    "    models_sorted = sorted(models, key=lambda model: model.name)\n",
    "    best_model_path = path + [model.name for model in models_sorted][-1]\n",
    "    epoch_to_continue = best_model_path.split(\"_\")[-1].split(\".\")[0]\n",
    "    return best_model_path, epoch_to_continue"
   ]
  },
  {
   "cell_type": "code",
   "execution_count": 34,
   "metadata": {},
   "outputs": [],
   "source": [
    "def load_checkpoints(system, type, category, experiment_number, fold_number):\n",
    "\n",
    "    if fold_number == 0:\n",
    "        checkpoint_path, epoch_to_continue = best_model_selection_from_fold(system, type, category, experiment_number, fold_number)\n",
    "    elif fold_number == 1:\n",
    "        checkpoint_path, epoch_to_continue = best_model_selection_from_fold(system, type, category, experiment_number, fold_number)\n",
    "    elif fold_number == 2:\n",
    "        checkpoint_path, epoch_to_continue = best_model_selection_from_fold(system, type, category, experiment_number, fold_number)\n",
    "    elif fold_number == 3:\n",
    "        checkpoint_path, epoch_to_continue = best_model_selection_from_fold(system, type, category, experiment_number, fold_number)\n",
    "    elif fold_number == 4:\n",
    "        checkpoint_path, epoch_to_continue = best_model_selection_from_fold(system, type, category, experiment_number, fold_number)\n",
    "    elif fold_number == 5:\n",
    "        checkpoint_path, epoch_to_continue = best_model_selection_from_fold(system, type, category, experiment_number, fold_number)\n",
    "    elif fold_number == 6:\n",
    "        checkpoint_path, epoch_to_continue = best_model_selection_from_fold(system, type, category, experiment_number, fold_number)\n",
    "    elif fold_number == 7:\n",
    "        checkpoint_path, epoch_to_continue = best_model_selection_from_fold(system, type, category, experiment_number, fold_number)\n",
    "    elif fold_number == 8:\n",
    "        checkpoint_path, epoch_to_continue = best_model_selection_from_fold(system, type, category, experiment_number, fold_number)\n",
    "    elif fold_number == 9:\n",
    "        checkpoint_path, epoch_to_continue = best_model_selection_from_fold(system, type, category, experiment_number, fold_number)\n",
    "    \n",
    "    return checkpoint_path, epoch_to_continue"
   ]
  },
  {
   "cell_type": "code",
   "execution_count": 35,
   "metadata": {},
   "outputs": [],
   "source": [
    "model_path, epoch = load_checkpoints(2, \"regression\", None, 1, 0)"
   ]
  },
  {
   "cell_type": "code",
   "execution_count": 36,
   "metadata": {},
   "outputs": [
    {
     "data": {
      "text/plain": [
       "'96'"
      ]
     },
     "execution_count": 36,
     "metadata": {},
     "output_type": "execute_result"
    }
   ],
   "source": [
    "epoch"
   ]
  },
  {
   "cell_type": "code",
   "execution_count": 37,
   "metadata": {},
   "outputs": [
    {
     "data": {
      "text/plain": [
       "'/home/ashish/Ashish/UCAN/Results/regression/Experiment_1/CV_0/Network_Weights/best_model_96.pth.tar'"
      ]
     },
     "execution_count": 37,
     "metadata": {},
     "output_type": "execute_result"
    }
   ],
   "source": [
    "model_path"
   ]
  },
  {
   "cell_type": "code",
   "execution_count": null,
   "metadata": {},
   "outputs": [],
   "source": []
  }
 ],
 "metadata": {
  "kernelspec": {
   "display_name": "UCANProject",
   "language": "python",
   "name": "python3"
  },
  "language_info": {
   "codemirror_mode": {
    "name": "ipython",
    "version": 3
   },
   "file_extension": ".py",
   "mimetype": "text/x-python",
   "name": "python",
   "nbconvert_exporter": "python",
   "pygments_lexer": "ipython3",
   "version": "3.11.5"
  }
 },
 "nbformat": 4,
 "nbformat_minor": 2
}
