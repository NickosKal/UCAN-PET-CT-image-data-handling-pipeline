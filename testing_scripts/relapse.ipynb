{
 "cells": [
  {
   "cell_type": "code",
   "execution_count": 1,
   "metadata": {},
   "outputs": [],
   "source": [
    "import numpy as np\n",
    "import pandas as pd"
   ]
  },
  {
   "cell_type": "code",
   "execution_count": 5,
   "metadata": {},
   "outputs": [
    {
     "name": "stdout",
     "output_type": "stream",
     "text": [
      "(1291, 44)\n",
      "1291\n"
     ]
    },
    {
     "data": {
      "text/html": [
       "<div>\n",
       "<style scoped>\n",
       "    .dataframe tbody tr th:only-of-type {\n",
       "        vertical-align: middle;\n",
       "    }\n",
       "\n",
       "    .dataframe tbody tr th {\n",
       "        vertical-align: top;\n",
       "    }\n",
       "\n",
       "    .dataframe thead th {\n",
       "        text-align: right;\n",
       "    }\n",
       "</style>\n",
       "<table border=\"1\" class=\"dataframe\">\n",
       "  <thead>\n",
       "    <tr style=\"text-align: right;\">\n",
       "      <th></th>\n",
       "      <th>personReference</th>\n",
       "      <th>BirthYYYYMM</th>\n",
       "      <th>BirthYear</th>\n",
       "      <th>BirthMonth</th>\n",
       "      <th>inclusionYear</th>\n",
       "      <th>includingHospital</th>\n",
       "      <th>county</th>\n",
       "      <th>consentDate</th>\n",
       "      <th>consentComments</th>\n",
       "      <th>generalComments</th>\n",
       "      <th>...</th>\n",
       "      <th>tissueTypeOther 2</th>\n",
       "      <th>surgeryComments 2</th>\n",
       "      <th>RELAPSE1</th>\n",
       "      <th>date</th>\n",
       "      <th>verifictationType</th>\n",
       "      <th>relapseComments</th>\n",
       "      <th>RELAPSE2</th>\n",
       "      <th>date 2</th>\n",
       "      <th>verifictationType 2</th>\n",
       "      <th>relapseComments 2</th>\n",
       "    </tr>\n",
       "  </thead>\n",
       "  <tbody>\n",
       "    <tr>\n",
       "      <th>0</th>\n",
       "      <td>npr900180900594</td>\n",
       "      <td>193103</td>\n",
       "      <td>1931</td>\n",
       "      <td>3</td>\n",
       "      <td>2013.0</td>\n",
       "      <td>NaN</td>\n",
       "      <td>DALARNA</td>\n",
       "      <td>2013-08-16</td>\n",
       "      <td>NaN</td>\n",
       "      <td>Endast RT given.</td>\n",
       "      <td>...</td>\n",
       "      <td>NaN</td>\n",
       "      <td>NaN</td>\n",
       "      <td>NaN</td>\n",
       "      <td>NaN</td>\n",
       "      <td>NaN</td>\n",
       "      <td>NaN</td>\n",
       "      <td>NaN</td>\n",
       "      <td>NaN</td>\n",
       "      <td>NaN</td>\n",
       "      <td>NaN</td>\n",
       "    </tr>\n",
       "    <tr>\n",
       "      <th>1</th>\n",
       "      <td>npr158542658428</td>\n",
       "      <td>197803</td>\n",
       "      <td>1978</td>\n",
       "      <td>3</td>\n",
       "      <td>2018.0</td>\n",
       "      <td>GAVLE</td>\n",
       "      <td>GAVLEBORG</td>\n",
       "      <td>2018-10-29</td>\n",
       "      <td>NaN</td>\n",
       "      <td>veckovis Rx4, strålbehefter PET</td>\n",
       "      <td>...</td>\n",
       "      <td>NaN</td>\n",
       "      <td>NaN</td>\n",
       "      <td>NaN</td>\n",
       "      <td>NaN</td>\n",
       "      <td>NaN</td>\n",
       "      <td>NaN</td>\n",
       "      <td>NaN</td>\n",
       "      <td>NaN</td>\n",
       "      <td>NaN</td>\n",
       "      <td>NaN</td>\n",
       "    </tr>\n",
       "  </tbody>\n",
       "</table>\n",
       "<p>2 rows × 44 columns</p>\n",
       "</div>"
      ],
      "text/plain": [
       "   personReference  BirthYYYYMM  BirthYear  BirthMonth  inclusionYear  \\\n",
       "0  npr900180900594       193103       1931           3         2013.0   \n",
       "1  npr158542658428       197803       1978           3         2018.0   \n",
       "\n",
       "  includingHospital     county consentDate consentComments  \\\n",
       "0               NaN    DALARNA  2013-08-16             NaN   \n",
       "1             GAVLE  GAVLEBORG  2018-10-29             NaN   \n",
       "\n",
       "                   generalComments  ...  tissueTypeOther 2 surgeryComments 2  \\\n",
       "0                 Endast RT given.  ...                NaN               NaN   \n",
       "1  veckovis Rx4, strålbehefter PET  ...                NaN               NaN   \n",
       "\n",
       "  RELAPSE1 date verifictationType relapseComments RELAPSE2 date 2  \\\n",
       "0      NaN  NaN               NaN             NaN      NaN    NaN   \n",
       "1      NaN  NaN               NaN             NaN      NaN    NaN   \n",
       "\n",
       "  verifictationType 2 relapseComments 2  \n",
       "0                 NaN               NaN  \n",
       "1                 NaN               NaN  \n",
       "\n",
       "[2 rows x 44 columns]"
      ]
     },
     "execution_count": 5,
     "metadata": {},
     "output_type": "execute_result"
    }
   ],
   "source": [
    "clinical_data = pd.read_excel(\"/media/andres/T7 Shield1/UCAN_project/Dataframes/Metadata/Lymphoma_Octopus_Export 2023-11-29_C80_only_n1291_incl_YYYY_MM_pnr_removed.xlsx\")\n",
    "print(clinical_data.shape)\n",
    "print(clinical_data.personReference.nunique())\n",
    "clinical_data.head(2)"
   ]
  },
  {
   "cell_type": "code",
   "execution_count": 4,
   "metadata": {},
   "outputs": [
    {
     "data": {
      "text/plain": [
       "Index(['personReference', 'BirthYYYYMM', 'BirthYear', 'BirthMonth',\n",
       "       'inclusionYear', 'includingHospital', 'county', 'consentDate',\n",
       "       'consentComments', 'generalComments', 'deceased', 'deceasedDate', 'sex',\n",
       "       'diagnosisGroups', 'DiaDate', 'stadium', 'translatedDiagnosis',\n",
       "       'diagnosisComments', 'DiaDate 2', 'translatedDiagnosis 2',\n",
       "       'diagnosisComments 2', 'type', 'indication', 'startDate', 'endDate',\n",
       "       'typeDetails', 'OP/BIOPSYdate', 'type.1', 'tissueType',\n",
       "       'tissueTypeOther', 'surgeryComments', 'OP/BIOPSYdate 2', 'type 2',\n",
       "       'tissueType 2', 'tissueTypeOther 2', 'surgeryComments 2', 'RELAPSE1',\n",
       "       'date', 'verifictationType', 'relapseComments', 'RELAPSE2', 'date 2',\n",
       "       'verifictationType 2', 'relapseComments 2'],\n",
       "      dtype='object')"
      ]
     },
     "execution_count": 4,
     "metadata": {},
     "output_type": "execute_result"
    }
   ],
   "source": [
    "clinical_data.columns"
   ]
  },
  {
   "cell_type": "code",
   "execution_count": 6,
   "metadata": {},
   "outputs": [
    {
     "data": {
      "text/plain": [
       "RELAPSE1               1079\n",
       "date                   1079\n",
       "verifictationType      1142\n",
       "relapseComments        1179\n",
       "RELAPSE2               1228\n",
       "date 2                 1227\n",
       "verifictationType 2    1232\n",
       "relapseComments 2      1251\n",
       "dtype: int64"
      ]
     },
     "execution_count": 6,
     "metadata": {},
     "output_type": "execute_result"
    }
   ],
   "source": [
    "clinical_data[['RELAPSE1', 'date', 'verifictationType', 'relapseComments', 'RELAPSE2', 'date 2', 'verifictationType 2', 'relapseComments 2']].isna().sum()"
   ]
  },
  {
   "cell_type": "code",
   "execution_count": 18,
   "metadata": {},
   "outputs": [
    {
     "name": "stdout",
     "output_type": "stream",
     "text": [
      "(212, 44)\n",
      "212\n"
     ]
    },
    {
     "data": {
      "text/html": [
       "<div>\n",
       "<style scoped>\n",
       "    .dataframe tbody tr th:only-of-type {\n",
       "        vertical-align: middle;\n",
       "    }\n",
       "\n",
       "    .dataframe tbody tr th {\n",
       "        vertical-align: top;\n",
       "    }\n",
       "\n",
       "    .dataframe thead th {\n",
       "        text-align: right;\n",
       "    }\n",
       "</style>\n",
       "<table border=\"1\" class=\"dataframe\">\n",
       "  <thead>\n",
       "    <tr style=\"text-align: right;\">\n",
       "      <th></th>\n",
       "      <th>personReference</th>\n",
       "      <th>BirthYYYYMM</th>\n",
       "      <th>BirthYear</th>\n",
       "      <th>BirthMonth</th>\n",
       "      <th>inclusionYear</th>\n",
       "      <th>includingHospital</th>\n",
       "      <th>county</th>\n",
       "      <th>consentDate</th>\n",
       "      <th>consentComments</th>\n",
       "      <th>generalComments</th>\n",
       "      <th>...</th>\n",
       "      <th>tissueTypeOther 2</th>\n",
       "      <th>surgeryComments 2</th>\n",
       "      <th>RELAPSE1</th>\n",
       "      <th>date</th>\n",
       "      <th>verifictationType</th>\n",
       "      <th>relapseComments</th>\n",
       "      <th>RELAPSE2</th>\n",
       "      <th>date 2</th>\n",
       "      <th>verifictationType 2</th>\n",
       "      <th>relapseComments 2</th>\n",
       "    </tr>\n",
       "  </thead>\n",
       "  <tbody>\n",
       "    <tr>\n",
       "      <th>8</th>\n",
       "      <td>npr752467369212</td>\n",
       "      <td>194705</td>\n",
       "      <td>1947</td>\n",
       "      <td>5</td>\n",
       "      <td>2011.0</td>\n",
       "      <td>NaN</td>\n",
       "      <td>UPPSALA</td>\n",
       "      <td>2011-08-01</td>\n",
       "      <td>NaN</td>\n",
       "      <td>NaN</td>\n",
       "      <td>...</td>\n",
       "      <td>NaN</td>\n",
       "      <td>NaN</td>\n",
       "      <td>RELAPSE1</td>\n",
       "      <td>2011-06-27</td>\n",
       "      <td>NaN</td>\n",
       "      <td>NaN</td>\n",
       "      <td>NaN</td>\n",
       "      <td>NaN</td>\n",
       "      <td>NaN</td>\n",
       "      <td>NaN</td>\n",
       "    </tr>\n",
       "    <tr>\n",
       "      <th>19</th>\n",
       "      <td>npr205346582030</td>\n",
       "      <td>196809</td>\n",
       "      <td>1968</td>\n",
       "      <td>9</td>\n",
       "      <td>2015.0</td>\n",
       "      <td>UPPSALA</td>\n",
       "      <td>UPPSALA</td>\n",
       "      <td>2015-01-14</td>\n",
       "      <td>NaN</td>\n",
       "      <td>Recidiv jan '18 -&gt; CR juni 2018. Progress nov ...</td>\n",
       "      <td>...</td>\n",
       "      <td>Biopsi höger axill</td>\n",
       "      <td>Recidiv 1</td>\n",
       "      <td>RELAPSE1</td>\n",
       "      <td>2015-05-20</td>\n",
       "      <td>PATHOLOGICAL</td>\n",
       "      <td>Även verifierat recidiv via PET</td>\n",
       "      <td>RELAPSE2</td>\n",
       "      <td>2017-02-22</td>\n",
       "      <td>PATHOLOGICAL</td>\n",
       "      <td>NaN</td>\n",
       "    </tr>\n",
       "  </tbody>\n",
       "</table>\n",
       "<p>2 rows × 44 columns</p>\n",
       "</div>"
      ],
      "text/plain": [
       "    personReference  BirthYYYYMM  BirthYear  BirthMonth  inclusionYear  \\\n",
       "8   npr752467369212       194705       1947           5         2011.0   \n",
       "19  npr205346582030       196809       1968           9         2015.0   \n",
       "\n",
       "   includingHospital   county consentDate consentComments  \\\n",
       "8                NaN  UPPSALA  2011-08-01             NaN   \n",
       "19           UPPSALA  UPPSALA  2015-01-14             NaN   \n",
       "\n",
       "                                      generalComments  ...  \\\n",
       "8                                                 NaN  ...   \n",
       "19  Recidiv jan '18 -> CR juni 2018. Progress nov ...  ...   \n",
       "\n",
       "     tissueTypeOther 2 surgeryComments 2  RELAPSE1        date  \\\n",
       "8                  NaN               NaN  RELAPSE1  2011-06-27   \n",
       "19  Biopsi höger axill         Recidiv 1  RELAPSE1  2015-05-20   \n",
       "\n",
       "   verifictationType                  relapseComments  RELAPSE2      date 2  \\\n",
       "8                NaN                              NaN       NaN         NaN   \n",
       "19      PATHOLOGICAL  Även verifierat recidiv via PET  RELAPSE2  2017-02-22   \n",
       "\n",
       "   verifictationType 2 relapseComments 2  \n",
       "8                  NaN               NaN  \n",
       "19        PATHOLOGICAL               NaN  \n",
       "\n",
       "[2 rows x 44 columns]"
      ]
     },
     "execution_count": 18,
     "metadata": {},
     "output_type": "execute_result"
    }
   ],
   "source": [
    "only_relapse1_patients = clinical_data[~clinical_data.RELAPSE1.isna()]\n",
    "print(only_relapse1_patients.shape)\n",
    "print(only_relapse1_patients.personReference.nunique())\n",
    "only_relapse1_patients.to_excel(\"/media/andres/T7 Shield1/UCAN_project/Dataframes/Analysis/only_relapse1_patients.xlsx\")\n",
    "only_relapse1_patients.head(2)"
   ]
  },
  {
   "cell_type": "code",
   "execution_count": 17,
   "metadata": {},
   "outputs": [
    {
     "name": "stdout",
     "output_type": "stream",
     "text": [
      "(63, 44)\n",
      "63\n"
     ]
    },
    {
     "name": "stderr",
     "output_type": "stream",
     "text": [
      "/tmp/ipykernel_20667/4009532726.py:1: UserWarning: Boolean Series key will be reindexed to match DataFrame index.\n",
      "  relapse1_and_relapse2_patients = clinical_data[~clinical_data.RELAPSE1.isna()][~clinical_data.RELAPSE2.isna()]\n"
     ]
    },
    {
     "data": {
      "text/html": [
       "<div>\n",
       "<style scoped>\n",
       "    .dataframe tbody tr th:only-of-type {\n",
       "        vertical-align: middle;\n",
       "    }\n",
       "\n",
       "    .dataframe tbody tr th {\n",
       "        vertical-align: top;\n",
       "    }\n",
       "\n",
       "    .dataframe thead th {\n",
       "        text-align: right;\n",
       "    }\n",
       "</style>\n",
       "<table border=\"1\" class=\"dataframe\">\n",
       "  <thead>\n",
       "    <tr style=\"text-align: right;\">\n",
       "      <th></th>\n",
       "      <th>personReference</th>\n",
       "      <th>BirthYYYYMM</th>\n",
       "      <th>BirthYear</th>\n",
       "      <th>BirthMonth</th>\n",
       "      <th>inclusionYear</th>\n",
       "      <th>includingHospital</th>\n",
       "      <th>county</th>\n",
       "      <th>consentDate</th>\n",
       "      <th>consentComments</th>\n",
       "      <th>generalComments</th>\n",
       "      <th>...</th>\n",
       "      <th>tissueTypeOther 2</th>\n",
       "      <th>surgeryComments 2</th>\n",
       "      <th>RELAPSE1</th>\n",
       "      <th>date</th>\n",
       "      <th>verifictationType</th>\n",
       "      <th>relapseComments</th>\n",
       "      <th>RELAPSE2</th>\n",
       "      <th>date 2</th>\n",
       "      <th>verifictationType 2</th>\n",
       "      <th>relapseComments 2</th>\n",
       "    </tr>\n",
       "  </thead>\n",
       "  <tbody>\n",
       "    <tr>\n",
       "      <th>19</th>\n",
       "      <td>npr205346582030</td>\n",
       "      <td>196809</td>\n",
       "      <td>1968</td>\n",
       "      <td>9</td>\n",
       "      <td>2015.0</td>\n",
       "      <td>UPPSALA</td>\n",
       "      <td>UPPSALA</td>\n",
       "      <td>2015-01-14</td>\n",
       "      <td>NaN</td>\n",
       "      <td>Recidiv jan '18 -&gt; CR juni 2018. Progress nov ...</td>\n",
       "      <td>...</td>\n",
       "      <td>Biopsi höger axill</td>\n",
       "      <td>Recidiv 1</td>\n",
       "      <td>RELAPSE1</td>\n",
       "      <td>2015-05-20</td>\n",
       "      <td>PATHOLOGICAL</td>\n",
       "      <td>Även verifierat recidiv via PET</td>\n",
       "      <td>RELAPSE2</td>\n",
       "      <td>2017-02-22</td>\n",
       "      <td>PATHOLOGICAL</td>\n",
       "      <td>NaN</td>\n",
       "    </tr>\n",
       "    <tr>\n",
       "      <th>91</th>\n",
       "      <td>npr326241131414</td>\n",
       "      <td>198404</td>\n",
       "      <td>1984</td>\n",
       "      <td>4</td>\n",
       "      <td>2013.0</td>\n",
       "      <td>NaN</td>\n",
       "      <td>VARMLAND</td>\n",
       "      <td>2013-09-18</td>\n",
       "      <td>NaN</td>\n",
       "      <td>troligen EBV reaktiverad lymfkörtel efter SCT</td>\n",
       "      <td>...</td>\n",
       "      <td>NaN</td>\n",
       "      <td>NaN</td>\n",
       "      <td>RELAPSE1</td>\n",
       "      <td>2009-01-01</td>\n",
       "      <td>PATHOLOGICAL</td>\n",
       "      <td>NaN</td>\n",
       "      <td>RELAPSE2</td>\n",
       "      <td>2011-07-01</td>\n",
       "      <td>PATHOLOGICAL</td>\n",
       "      <td>NaN</td>\n",
       "    </tr>\n",
       "  </tbody>\n",
       "</table>\n",
       "<p>2 rows × 44 columns</p>\n",
       "</div>"
      ],
      "text/plain": [
       "    personReference  BirthYYYYMM  BirthYear  BirthMonth  inclusionYear  \\\n",
       "19  npr205346582030       196809       1968           9         2015.0   \n",
       "91  npr326241131414       198404       1984           4         2013.0   \n",
       "\n",
       "   includingHospital    county consentDate consentComments  \\\n",
       "19           UPPSALA   UPPSALA  2015-01-14             NaN   \n",
       "91               NaN  VARMLAND  2013-09-18             NaN   \n",
       "\n",
       "                                      generalComments  ...  \\\n",
       "19  Recidiv jan '18 -> CR juni 2018. Progress nov ...  ...   \n",
       "91      troligen EBV reaktiverad lymfkörtel efter SCT  ...   \n",
       "\n",
       "     tissueTypeOther 2 surgeryComments 2  RELAPSE1        date  \\\n",
       "19  Biopsi höger axill         Recidiv 1  RELAPSE1  2015-05-20   \n",
       "91                 NaN               NaN  RELAPSE1  2009-01-01   \n",
       "\n",
       "   verifictationType                  relapseComments  RELAPSE2      date 2  \\\n",
       "19      PATHOLOGICAL  Även verifierat recidiv via PET  RELAPSE2  2017-02-22   \n",
       "91      PATHOLOGICAL                              NaN  RELAPSE2  2011-07-01   \n",
       "\n",
       "   verifictationType 2 relapseComments 2  \n",
       "19        PATHOLOGICAL               NaN  \n",
       "91        PATHOLOGICAL               NaN  \n",
       "\n",
       "[2 rows x 44 columns]"
      ]
     },
     "execution_count": 17,
     "metadata": {},
     "output_type": "execute_result"
    }
   ],
   "source": [
    "relapse1_and_relapse2_patients = clinical_data[~clinical_data.RELAPSE1.isna()][~clinical_data.RELAPSE2.isna()]\n",
    "print(relapse1_and_relapse2_patients.shape)\n",
    "print(relapse1_and_relapse2_patients.personReference.nunique())\n",
    "relapse1_and_relapse2_patients.to_excel(\"/media/andres/T7 Shield1/UCAN_project/Dataframes/Analysis/relapse1_and_relapse2_patients.xlsx\")\n",
    "relapse1_and_relapse2_patients.head(2)"
   ]
  },
  {
   "cell_type": "code",
   "execution_count": 22,
   "metadata": {},
   "outputs": [
    {
     "data": {
      "text/plain": [
       "50.0"
      ]
     },
     "execution_count": 22,
     "metadata": {},
     "output_type": "execute_result"
    }
   ],
   "source": [
    "epoch = 300\n",
    "fold_n = 10\n",
    "(1*epoch*fold_n)/60"
   ]
  },
  {
   "cell_type": "code",
   "execution_count": 19,
   "metadata": {},
   "outputs": [
    {
     "data": {
      "text/plain": [
       "6300.0"
      ]
     },
     "execution_count": 19,
     "metadata": {},
     "output_type": "execute_result"
    }
   ],
   "source": [
    "1.75*3600"
   ]
  },
  {
   "cell_type": "code",
   "execution_count": null,
   "metadata": {},
   "outputs": [],
   "source": []
  }
 ],
 "metadata": {
  "kernelspec": {
   "display_name": "UCANProject",
   "language": "python",
   "name": "python3"
  },
  "language_info": {
   "codemirror_mode": {
    "name": "ipython",
    "version": 3
   },
   "file_extension": ".py",
   "mimetype": "text/x-python",
   "name": "python",
   "nbconvert_exporter": "python",
   "pygments_lexer": "ipython3",
   "version": "3.11.5"
  }
 },
 "nbformat": 4,
 "nbformat_minor": 2
}
