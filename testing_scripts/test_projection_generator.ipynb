{
 "cells": [
  {
   "cell_type": "code",
   "execution_count": 1,
   "metadata": {},
   "outputs": [
    {
     "name": "stdout",
     "output_type": "stream",
     "text": [
      "env: SITK_SHOW_COMMAND='/home/andres/Downloads/Slicer-5.4.0-linux-amd64/Slicer'\n"
     ]
    }
   ],
   "source": [
    "import SimpleITK as sitk\n",
    "import matplotlib.pyplot as plt\n",
    "import numpy as np\n",
    "import pandas as pd\n",
    "import scipy.ndimage\n",
    "import os\n",
    "import cv2\n",
    "from tqdm import tqdm\n",
    "from utils import get_2D_projections\n",
    "from datetime import datetime\n",
    "import traceback\n",
    "from PIL import Image\n",
    "\n",
    "%env SITK_SHOW_COMMAND '/home/andres/Downloads/Slicer-5.4.0-linux-amd64/Slicer'"
   ]
  },
  {
   "cell_type": "code",
   "execution_count": 2,
   "metadata": {},
   "outputs": [],
   "source": [
    "import sys\n",
    "\n",
    "parent_dir = os.path.abspath('..')\n",
    "if parent_dir not in sys.path:\n",
    "    sys.path.append(parent_dir)\n",
    "\n",
    "from Utils import utils"
   ]
  },
  {
   "cell_type": "code",
   "execution_count": 3,
   "metadata": {},
   "outputs": [
    {
     "data": {
      "text/plain": [
       "{'common': {'paths': {'source_path_wd': 'E:/U-CAN-Lymfom_A',\n",
       "   'source_path_bd': '/media/andres/T7 Shield/ucan_lymfom'}},\n",
       " 'selection': {'filenames': {'rejected_folder_filename': 'Rejected_exams_from_U-CAN-Lymfom.xlsx',\n",
       "   'sourcefiltered_folder_filename': 'SourceFiltered_exams_from_U-CAN-Lymfom.xlsx',\n",
       "   'incomplete_folders_filename_initial': 'Excel_files/06_11_2023/No_PT_or_CT_exams_from_U-CAN-Lymfom_before_selection_process.xlsx',\n",
       "   'incomplete_folders_filename_final': 'Excel_files/06_11_2023/No_PT_or_CT_exams_from_U-CAN-Lymfom_after_selection_process.xlsx',\n",
       "   'selected_folders_beforefiltering_filename': 'Excel_files/06_11_2023/Selected_exams_after_filtering_from_U-CAN-Lymfom.xlsx',\n",
       "   'selected_folders_afterfiltering_filename': 'Excel_files/06_11_2023/Selected_exams_before_filtering_from_U-CAN-Lymfom.xlsx',\n",
       "   'final_selected_images_filename': 'Excel_files/06_11_2023/Final_Selected_exams_from_U-CAN-Lymfom.xlsx',\n",
       "   'list_of_distorted_images_filename': 'Excel_files/06_11_2023/exams_with_distorted_images_file.xlsx'}},\n",
       " 'metadata': {'filenames': {'final_selected_images_filename': 'Excel_files/06_11_2023/Finalized_dataset.xlsx'}},\n",
       " 'resampling': {'voxel_spacing': [2.0364201068878174, 2.0364201068878174, 3.0],\n",
       "  'image_size': [256, 256, 256]},\n",
       " 'projections': {'paths': {'destination_path': 'Selected_for_UCAN_project/2dprojections'},\n",
       "  'variables': {'modality': ['CT', 'PT', 'SUV'],\n",
       "   'tissue_type': ['LT', 'AT', 'LT', 'B', 'N'],\n",
       "   'projection_type': ['sum', 'min', 'max', 'mean', 'std'],\n",
       "   'angles': [0, 90]}}}"
      ]
     },
     "execution_count": 3,
     "metadata": {},
     "output_type": "execute_result"
    }
   ],
   "source": [
    "config = utils.read_config()\n",
    "config"
   ]
  },
  {
   "cell_type": "code",
   "execution_count": 5,
   "metadata": {},
   "outputs": [
    {
     "data": {
      "text/plain": [
       "'/media/andres/T7 Shield1/UCAN_project/Resampled_Projections/'"
      ]
     },
     "execution_count": 5,
     "metadata": {},
     "output_type": "execute_result"
    }
   ],
   "source": [
    "source_path_wd = config['common']['paths']['source_path_wd']\n",
    "source_path_bd = config['common']['paths']['source_path_bd']\n",
    "final_selected_images_filename = config['metadata']['filenames']['final_selected_images_filename']\n",
    "#projection_path = 'E:\\\\Sambit\\\\Project_10\\\\Data\\\\2D Projections\\\\' #config['projections']['paths']['destination_path']\n",
    "projection_path = '/media/andres/T7 Shield1/UCAN_project/Resampled_Projections/'\n",
    "\n",
    "selection_dataframe = os.path.join(source_path_wd, final_selected_images_filename)\n",
    "final_projections = os.path.join(source_path_wd, projection_path)\n",
    "final_projections"
   ]
  },
  {
   "cell_type": "code",
   "execution_count": 6,
   "metadata": {},
   "outputs": [
    {
     "data": {
      "text/plain": [
       "'E:/U-CAN-Lymfom_A/Excel_files/06_11_2023/Finalized_dataset.xlsx'"
      ]
     },
     "execution_count": 6,
     "metadata": {},
     "output_type": "execute_result"
    }
   ],
   "source": [
    "selection_dataframe"
   ]
  },
  {
   "cell_type": "code",
   "execution_count": 7,
   "metadata": {},
   "outputs": [
    {
     "data": {
      "text/plain": [
       "{'paths': {'destination_path': 'Selected_for_UCAN_project/2dprojections'},\n",
       " 'variables': {'modality': ['CT', 'PT', 'SUV'],\n",
       "  'tissue_type': ['LT', 'AT', 'LT', 'B', 'N'],\n",
       "  'projection_type': ['sum', 'min', 'max', 'mean', 'std'],\n",
       "  'angles': [0, 90]}}"
      ]
     },
     "execution_count": 7,
     "metadata": {},
     "output_type": "execute_result"
    }
   ],
   "source": [
    "projections = config['projections']\n",
    "projections"
   ]
  },
  {
   "cell_type": "code",
   "execution_count": 8,
   "metadata": {},
   "outputs": [],
   "source": [
    "modality = projections['variables']['modality']\n",
    "ttype = projections['variables']['tissue_type'][:-1]\n",
    "ptype = projections['variables']['projection_type']\n",
    "angles = projections['variables']['angles']"
   ]
  },
  {
   "cell_type": "code",
   "execution_count": 9,
   "metadata": {},
   "outputs": [
    {
     "data": {
      "text/plain": [
       "['LT', 'AT', 'LT', 'B']"
      ]
     },
     "execution_count": 9,
     "metadata": {},
     "output_type": "execute_result"
    }
   ],
   "source": [
    "ttype"
   ]
  },
  {
   "cell_type": "code",
   "execution_count": 10,
   "metadata": {},
   "outputs": [
    {
     "name": "stdout",
     "output_type": "stream",
     "text": [
      "config_size:  [256, 256, 256]\n",
      "config_spacing:  [2.0364201068878174, 2.0364201068878174, 3.0]\n"
     ]
    }
   ],
   "source": [
    "config_size = config['resampling']['image_size']\n",
    "config_spacing = config['resampling']['voxel_spacing']\n",
    "print('config_size: ', config_size)\n",
    "print('config_spacing: ', config_spacing)"
   ]
  },
  {
   "cell_type": "code",
   "execution_count": 14,
   "metadata": {},
   "outputs": [],
   "source": [
    "#resampled_destination_path = 'E:/Sambit/Other_Projects/UCAN/Resampled_SUV_CT/'\n",
    "#resampled_destination_path = 'E:/Sambit/Project_10/Data/Resampled_SUV_CT/'\n",
    "resampled_destination_path = '/media/andres/T7 Shield1/UCAN_project/Resampled_SUV_CT/'\n",
    "#resampled_destination_path = 'F:/ucan_lymfom/Resampled_SUV_CT/Sample31Oct2023/'"
   ]
  },
  {
   "cell_type": "code",
   "execution_count": null,
   "metadata": {},
   "outputs": [],
   "source": [
    "resampled_directory_list = []\n",
    "\n",
    "for dirs, subdirs, files in os.walk(resampled_destination_path):\n",
    "    for file in files:\n",
    "        file_path = str(os.path.join(dirs, file))\n",
    "        file_path = file_path.replace('\\\\','/')\n",
    "        resampled_directory_list.append(file_path)\n",
    "        print(file_path)"
   ]
  },
  {
   "cell_type": "code",
   "execution_count": null,
   "metadata": {},
   "outputs": [],
   "source": [
    "resampled_directory_df = pd.DataFrame(resampled_directory_list, columns=['directory'])\n",
    "resampled_directory_df[['source_directory', 'patient_directory', 'scan_date', 'SUV_CT']] = resampled_directory_df['directory'].str.rsplit(pat='/', n=3, expand=True)\n",
    "resampled_directory_df[['npr', 'extra']] = resampled_directory_df['patient_directory'].str.split(pat='_', n=1, expand=True)\n",
    "resampled_directory_df.drop(columns=['directory','extra', 'SUV_CT'], inplace=True)\n",
    "resampled_directory_df.drop_duplicates(inplace=True)\n",
    "\n",
    "resampled_directory_df.head()"
   ]
  },
  {
   "cell_type": "code",
   "execution_count": null,
   "metadata": {},
   "outputs": [],
   "source": [
    "resampled_directory_df.shape"
   ]
  },
  {
   "cell_type": "code",
   "execution_count": null,
   "metadata": {},
   "outputs": [],
   "source": [
    "resampled_directory_df.columns"
   ]
  },
  {
   "cell_type": "code",
   "execution_count": null,
   "metadata": {},
   "outputs": [],
   "source": [
    "for index, row in resampled_directory_df.iterrows():\n",
    "\n",
    "    CT_ptype = 'mean'\n",
    "    SUV_ptype = 'max'\n",
    "    angle = 90\n",
    "    \n",
    "    for mod in ['CT','SUV']:\n",
    "        for item in ['MIP', 'bone', 'lean', 'adipose', 'air']:\n",
    "            dir_path = projection_path + str(row['npr']) + '/' + str(row['scan_date']) + '/' + mod + '_' + item\n",
    "            if not os.path.exists(dir_path):\n",
    "                os.makedirs(dir_path)\n",
    "\n",
    "    \n",
    "    CTnii_path = resampled_destination_path + str(row['npr']) + '_SUV_CT/' + str(row['scan_date']) + '/' + 'CT.nii.gz'\n",
    "    SUVnii_path = resampled_destination_path + str(row['npr']) + '_SUV_CT/' + str(row['scan_date']) + '/' + 'SUV.nii.gz'\n",
    "\n",
    "    CT_img =sitk.ReadImage(CTnii_path)\n",
    "    SUV_img =sitk.ReadImage(SUVnii_path)\n",
    "\n",
    "    bone_mask, lean_mask, adipose_mask, air_mask = utils.get_proj_after_mask(CT_img)\n",
    "\n",
    "    multiply= sitk.MultiplyImageFilter()\n",
    "\n",
    "    CT_bone = multiply.Execute(CT_img,sitk.Cast(bone_mask,CT_img.GetPixelID()))\n",
    "    CT_lean = multiply.Execute(CT_img,sitk.Cast(lean_mask,CT_img.GetPixelID()))\n",
    "    CT_adipose = multiply.Execute(CT_img,sitk.Cast(adipose_mask,CT_img.GetPixelID()))\n",
    "    CT_air = multiply.Execute(CT_img,sitk.Cast(air_mask,CT_img.GetPixelID()))\n",
    "\n",
    "    utils.get_2D_projections(CT_img, 'CT', CT_ptype, angle, invert_intensity= False, img_n=projection_path + str(row['npr']) + '/' + str(row['scan_date']) + '/CT_MIP/')\n",
    "    utils.get_2D_projections(CT_bone, 'CT', CT_ptype, angle, img_n=projection_path + str(row['npr']) + '/' + str(row['scan_date']) + '/CT_bone/')\n",
    "    utils.get_2D_projections(CT_lean, 'CT', CT_ptype, angle, img_n=projection_path + str(row['npr']) + '/' + str(row['scan_date']) + '/CT_lean/')\n",
    "    utils.get_2D_projections(CT_adipose, 'CT', CT_ptype, angle, invert_intensity= False, img_n=projection_path + str(row['npr']) + '/' + str(row['scan_date']) + '/CT_adipose/')\n",
    "    utils.get_2D_projections(CT_air, 'CT', CT_ptype, angle, img_n=projection_path + str(row['npr']) + '/' + str(row['scan_date']) + '/CT_air/')\n",
    "    \n",
    "    SUV_bone = multiply.Execute(SUV_img,sitk.Cast(bone_mask,SUV_img.GetPixelID()))\n",
    "    SUV_lean = multiply.Execute(SUV_img,sitk.Cast(lean_mask,SUV_img.GetPixelID()))\n",
    "    SUV_adipose = multiply.Execute(SUV_img,sitk.Cast(adipose_mask,SUV_img.GetPixelID()))\n",
    "    SUV_air = multiply.Execute(SUV_img,sitk.Cast(air_mask,SUV_img.GetPixelID()))\n",
    "\n",
    "    utils.get_2D_projections(SUV_img, 'SUV', SUV_ptype, angle, img_n=projection_path + str(row['npr']) + '/' + str(row['scan_date']) + '/SUV_MIP/')\n",
    "    utils.get_2D_projections(SUV_bone, 'SUV', SUV_ptype, angle, img_n=projection_path + str(row['npr']) + '/' + str(row['scan_date']) + '/SUV_bone/')\n",
    "    utils.get_2D_projections(SUV_lean, 'SUV', SUV_ptype, angle, img_n=projection_path + str(row['npr']) + '/' + str(row['scan_date']) + '/SUV_lean/')\n",
    "    utils.get_2D_projections(SUV_adipose, 'SUV', SUV_ptype, angle, img_n=projection_path + str(row['npr']) + '/' + str(row['scan_date']) + '/SUV_adipose/')\n",
    "    utils.get_2D_projections(SUV_air, 'SUV', SUV_ptype, angle, img_n=projection_path + str(row['npr']) + '/' + str(row['scan_date']) + '/SUV_air/')\n"
   ]
  },
  {
   "cell_type": "markdown",
   "metadata": {},
   "source": [
    "### Testing projections\n",
    "\n",
    "folder structure: patient / scandate / CT_tissuetype/angle.npy"
   ]
  },
  {
   "cell_type": "code",
   "execution_count": 8,
   "metadata": {},
   "outputs": [],
   "source": [
    "file_path = r'/media/andres/T7 Shield1/UCAN_project/Resampled_Projections/npr209568543213/20180703'\n",
    "angles = [\"-90.0.npy\", \"0.0.npy\"]\n",
    "image_visualization = [\"CT_MIP\", \"SUV_MIP\", \"CT_bone\", \"SUV_bone\", \"CT_lean\", \"SUV_lean\", \"CT_adipose\", \"SUV_adipose\", \"CT_air\", \"SUV_air\"]"
   ]
  },
  {
   "cell_type": "code",
   "execution_count": 9,
   "metadata": {},
   "outputs": [
    {
     "data": {
      "image/png": "[encoded data removed]",
      "text/plain": [
       "<Figure size 1500x1200 with 20 Axes>"
      ]
     },
     "metadata": {},
     "output_type": "display_data"
    }
   ],
   "source": [
    "ax = []\n",
    "images_for_plot = []\n",
    "for type in image_visualization:\n",
    "    for angle in angles:\n",
    "        path_extension = type + \"/\" + angle\n",
    "        image_path = os.path.join(file_path, path_extension)\n",
    "        images_for_plot.append(image_path)\n",
    "\n",
    "fig, axes = plt.subplots(5, 4, figsize=(15, 12))\n",
    "axes = axes.flatten()\n",
    "\n",
    "for i, image_path in enumerate(images_for_plot):\n",
    "    image = np.load(image_path)\n",
    "    axes[i].imshow(image, cmap=\"gray\")\n",
    "\n",
    "    axes[i].set_title(image_path.split(\"/\")[-2:])\n",
    "\n",
    "    axes[i].axis(\"off\")\n",
    "\n",
    "plt.tight_layout()\n",
    "plt.show()"
   ]
  },
  {
   "cell_type": "markdown",
   "metadata": {},
   "source": [
    "##### Generate a dataframe with the nifti files path, patiend ID and scan date"
   ]
  },
  {
   "cell_type": "code",
   "execution_count": 132,
   "metadata": {},
   "outputs": [
    {
     "name": "stderr",
     "output_type": "stream",
     "text": [
      "100%|██████████| 1076/1076 [00:01<00:00, 624.16it/s]\n"
     ]
    }
   ],
   "source": [
    "from os import listdir\n",
    "\n",
    "projections = r'/media/andres/T7 Shield1/UCAN_project/Resampled_SUV_CT/'\n",
    "nifti_df = pd.DataFrame(columns=[\"patient_ID\", \"scan_date\", \"nifti_path\"])\n",
    "for patient_ID in tqdm(sorted(os.listdir(projections))):\n",
    "    for scan_date in sorted(listdir(os.path.join(projections, patient_ID))):\n",
    "        patient_path = os.path.join(projections, patient_ID)\n",
    "        for scan_type in listdir(os.path.join(patient_path, scan_date)):\n",
    "            scan_path = os.path.join(patient_path, scan_date)\n",
    "            df_temp = pd.DataFrame({\"patient_ID\": [patient_ID.split(\"_\")[0]], \"scan_date\": [scan_date], \"nifti_path\": [os.path.join(scan_path, scan_type)]})\n",
    "            nifti_df = pd.concat([nifti_df, df_temp], ignore_index=True)"
   ]
  },
  {
   "cell_type": "code",
   "execution_count": 133,
   "metadata": {},
   "outputs": [],
   "source": [
    "nifti_df.to_excel(\"/media/andres/T7 Shield1/UCAN_project/nifti_dataframe.xlsx\")"
   ]
  },
  {
   "cell_type": "markdown",
   "metadata": {},
   "source": [
    "## TESTING"
   ]
  },
  {
   "cell_type": "code",
   "execution_count": 10,
   "metadata": {},
   "outputs": [],
   "source": [
    "\n",
    "def save_projections_as_png(image,img_name, invert = True):\n",
    "    '''\n",
    "\n",
    "    Function to save 2d simpleitk projection objects as uint8 png images\n",
    "\n",
    "    '''\n",
    "\n",
    "    writer = sitk.ImageFileWriter()\n",
    "    #img=sitk.Extract(image, image.GetSize())\n",
    "    writer.SetFileName(img_name)\n",
    "    # img_write=  sitk.Cast(    \n",
    "    #     sitk.IntensityWindowing(\n",
    "    #         image, windowMinimum=float(sitk.GetArrayFromImage(image).min()), windowMaximum=clip_value, outputMinimum=0.0, outputMaximum=255\n",
    "    #     ),\n",
    "    #     image.GetPixelID(),\n",
    "    #     )\n",
    "    img_write= sitk.Flip(image, [False, True]) #flipping across y axis\n",
    "    img_write=sitk.Cast(\n",
    "        sitk.RescaleIntensity(img_write), #sitk.RescaleIntensity()\n",
    "        sitk.sitkUInt8\n",
    "    )\n",
    "    if invert:\n",
    "        img_write   = sitk.InvertIntensity(img_write,maximum=255)\n",
    "    else:\n",
    "        pass\n",
    "    writer.Execute(img_write)  #sitk.Cast(sitk.RescaleIntensity(img,outputMinimum=0,outputMaximum=15)\n",
    "\n",
    "\n",
    "\n",
    "def save_projections_as_nparr(image,img_name, invert = True):\n",
    "    '''\n",
    "\n",
    "    Function to save 2d simpleitk projection images as a numpy array\n",
    "\n",
    "    '''\n",
    "\n",
    "    img = sitk.Flip(image, [False, True])\n",
    "\n",
    "    if invert:\n",
    "        img= sitk.InvertIntensity(img,maximum=255)\n",
    "    else:\n",
    "        pass\n",
    "    \n",
    "    arr= sitk.GetArrayFromImage(img)\n",
    "\n",
    "    # Perform min-max normalization\n",
    "\n",
    "    minv,maxv= np.min(arr), np.max(arr)\n",
    "    arr_normed = (arr - minv) / (maxv - minv)\n",
    "    np.save(img_name,np.array(arr_normed))\n",
    "\n",
    "\n",
    "def get_2D_projections(vol_img,modality,ptype,angle,invert_intensity = True, clip_value=15.0, t_type='N',save_img=True,img_n=''):\n",
    "    projection = {'sum': sitk.SumProjection,\n",
    "                'mean':  sitk.MeanProjection,\n",
    "                'std': sitk.StandardDeviationProjection,\n",
    "                'min': sitk.MinimumProjection,\n",
    "                'max': sitk.MaximumProjection}\n",
    "    \n",
    "    #vol_img = make_isotropic(vol_img)\n",
    "\n",
    "    paxis = 0\n",
    "    rotation_axis = [0,0,1]\n",
    "    rotation_angles = np.linspace(-np.pi/2, np.pi/2, int( (np.pi / (  ( angle / 180 ) * np.pi ) ) + 1 ) ) # angle range- [0, +180];\n",
    "    rotation_center = vol_img.TransformContinuousIndexToPhysicalPoint(np.array(vol_img.GetSize())/2.0) #[(index-1)/2.0 for index in vol_img.GetSize()])\n",
    "\n",
    "    rotation_transform = sitk.VersorRigid3DTransform()\n",
    "    #rotation_transform = sitk.Euler3DTransform()\n",
    "    rotation_transform.SetCenter(rotation_center)\n",
    "\n",
    "    #Compute bounding box of rotating volume and the resampling grid structure\n",
    "    image_indexes = list(zip([0,0,0], [sz-1 for sz in vol_img.GetSize()]))\n",
    "    image_bounds = []\n",
    "    for i in image_indexes[0]:\n",
    "        for j in image_indexes[1]:\n",
    "            for k in image_indexes[2]:\n",
    "                image_bounds.append(vol_img.TransformIndexToPhysicalPoint([i,j,k]))\n",
    "\n",
    "    all_points = []\n",
    "    for ang in rotation_angles:\n",
    "        rotation_transform.SetRotation(rotation_axis, ang)    \n",
    "        #rotation_transform.SetRotation(0,0,ang)    \n",
    "        all_points.extend([rotation_transform.TransformPoint(pnt) for pnt in image_bounds])\n",
    "        \n",
    "    all_points = np.array(all_points)\n",
    "    min_bounds = all_points.min(0)\n",
    "    max_bounds = all_points.max(0)\n",
    "\n",
    "\n",
    "    #resampling grid will be isotropic so no matter which direction we project to\n",
    "    #the images we save will always be isotropic (required for vol_img formats that \n",
    "    #assume isotropy - jpg,png,tiff...)\n",
    "\n",
    "    new_spc = [np.min(vol_img.GetSpacing())]*3\n",
    "    new_sz = [int(sz/spc + 0.5) for spc,sz in zip(new_spc, max_bounds-min_bounds)]\n",
    "    # print('new size: ', new_sz)\n",
    "    #new_sz = vol_img.GetSize()\n",
    "    pix_array=sitk.GetArrayFromImage(vol_img)\n",
    "    maxtensity,mintensity=float(pix_array.max()),float(pix_array.min())\n",
    "    # print(maxtensity,mintensity)\n",
    "    if modality == 'CT':\n",
    "        default_pix_val=20\n",
    "\n",
    "\n",
    "    else:\n",
    "        default_pix_val=0\n",
    "        #clipping intensities\n",
    "        clamper = sitk.ClampImageFilter()\n",
    "        clamper.SetLowerBound(0)\n",
    "        clamper.SetUpperBound(clip_value)\n",
    "        vol_img=clamper.Execute(vol_img)\n",
    "        # vol_img = sitk.Cast(    \n",
    "        # sitk.IntensityWindowing(\n",
    "        #     vol_img, windowMinimum=mintensity, windowMaximum=clip_value, outputMinimum=0.0, outputMaximum=255\n",
    "        # ),\n",
    "        # vol_img.GetPixelID(),\n",
    "        # )\n",
    "\n",
    "    for ang in rotation_angles:\n",
    "        rotation_transform.SetRotation(rotation_axis, ang) \n",
    "        #rotation_transform.SetRotation(0,0,ang)\n",
    "        resampled_image = sitk.Resample(image1=vol_img,\n",
    "                                        size=new_sz,\n",
    "                                        transform=rotation_transform,\n",
    "                                        interpolator=sitk.sitkNearestNeighbor,\n",
    "                                        outputOrigin=min_bounds,\n",
    "                                        outputSpacing=new_spc,\n",
    "                                        outputDirection = vol_img.GetDirection(), #[1,0,0,0,1,0,0,0,1]\n",
    "                                        defaultPixelValue = default_pix_val, \n",
    "                                        outputPixelType = vol_img.GetPixelID())\n",
    "        \"\"\"\n",
    "        if modality=='CT':\n",
    "            masked_resampled_image=get_proj_after_mask(resampled_image,maxtensity,mintensity,t_type)\n",
    "        else:\n",
    "            masked_resampled_image=resampled_image\n",
    "        \"\"\"\n",
    "\n",
    "        proj_image = projection[ptype](resampled_image, paxis)\n",
    "        extract_size = list(proj_image.GetSize())\n",
    "        extract_size[paxis]=0 \n",
    "        axes_shifted_pi=sitk.Extract(proj_image, extract_size) #flip axes\n",
    "\n",
    "        if save_img:\n",
    "            imgname= img_n + r'{0}'.format((180 * ang/np.pi))\n",
    "            save_projections_as_png(axes_shifted_pi, imgname + '.png', invert_intensity) #sitk.InvertIntensity(axes_shifted_pi,maximum=1)\n",
    "            save_projections_as_nparr(axes_shifted_pi, imgname, invert_intensity)\n",
    "    print(f'Finished generating {int(180.0/angle)+1} - {ptype} intensity 2D projections from the {modality} volume image! ')"
   ]
  },
  {
   "cell_type": "code",
   "execution_count": null,
   "metadata": {},
   "outputs": [],
   "source": [
    "file_path = r'/media/andres/T7 Shield1/UCAN_project/Resampled_Projections/npr209568543213/20180703'\n",
    "angles = [\"-90.0.npy\", \"0.0.npy\"]\n",
    "image_visualization = [\"CT_MIP\", \"SUV_MIP\", \"CT_bone\", \"SUV_bone\", \"CT_lean\", \"SUV_lean\", \"CT_adipose\", \"SUV_adipose\", \"CT_air\", \"SUV_air\"]"
   ]
  },
  {
   "cell_type": "code",
   "execution_count": null,
   "metadata": {},
   "outputs": [],
   "source": [
    "ax = []\n",
    "images_for_plot = []\n",
    "for type in image_visualization:\n",
    "    for angle in angles:\n",
    "        path_extension = type + \"/\" + angle\n",
    "        image_path = os.path.join(file_path, path_extension)\n",
    "        images_for_plot.append(image_path)\n",
    "\n",
    "fig, axes = plt.subplots(5, 4, figsize=(15, 12))\n",
    "axes = axes.flatten()\n",
    "\n",
    "for i, image_path in enumerate(images_for_plot):\n",
    "    image = np.load(image_path)\n",
    "    axes[i].imshow(image, cmap=\"gray\")\n",
    "\n",
    "    axes[i].set_title(image_path.split(\"/\")[-2:])\n",
    "\n",
    "    axes[i].axis(\"off\")\n",
    "\n",
    "plt.tight_layout()\n",
    "plt.show()"
   ]
  }
 ],
 "metadata": {
  "kernelspec": {
   "display_name": "UCANProject",
   "language": "python",
   "name": "python3"
  },
  "language_info": {
   "codemirror_mode": {
    "name": "ipython",
    "version": 3
   },
   "file_extension": ".py",
   "mimetype": "text/x-python",
   "name": "python",
   "nbconvert_exporter": "python",
   "pygments_lexer": "ipython3",
   "version": "3.11.5"
  }
 },
 "nbformat": 4,
 "nbformat_minor": 2
}
