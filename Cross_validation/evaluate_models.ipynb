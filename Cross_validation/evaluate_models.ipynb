{
 "cells": [
  {
   "cell_type": "code",
   "execution_count": 1,
   "metadata": {},
   "outputs": [],
   "source": [
    "import numpy as np\n",
    "import pandas as pd\n",
    "import matplotlib.pyplot as plt\n",
    "from sklearn.metrics import mean_absolute_error, r2_score, roc_curve, auc, cohen_kappa_score, confusion_matrix\n",
    "import os\n",
    "import sys\n",
    "from tabulate import tabulate\n",
    "from functools import reduce\n",
    "from pathlib import Path\n",
    "import re\n",
    "parent_dir = os.path.abspath('../')\n",
    "if parent_dir not in sys.path:\n",
    "    sys.path.append(parent_dir)\n"
   ]
  },
  {
   "cell_type": "code",
   "execution_count": 3,
   "metadata": {},
   "outputs": [],
   "source": [
    "from Utils import utils\n",
    "\n",
    "# reading main config file\n",
    "config = utils.read_config()\n",
    "\n",
    "system = 1 # 1 or 2\n",
    "if system == 1:\n",
    "    PATH = config[\"Source\"][\"paths\"][\"source_path_system_1\"]\n",
    "elif system == 2:\n",
    "    os.environ[\"CUDA_VISIBLE_DEVICES\"] = \"0\"\n",
    "    PATH = config[\"Source\"][\"paths\"][\"source_path_system_2\"]\n",
    "else:\n",
    "    PATH = \"\"\n",
    "    print(\"Invalid system\")"
   ]
  },
  {
   "cell_type": "code",
   "execution_count": 4,
   "metadata": {},
   "outputs": [],
   "source": [
    "def calculate_metrics(pred_prob, GT):\n",
    "    fpr, tpr, thresholds = roc_curve(GT, pred_prob, pos_label=1)\n",
    "    optimal_idx = np.argmax(tpr - fpr)\n",
    "    optimal_threshold = thresholds[optimal_idx]\n",
    "    pred_labels = (pred_prob >= optimal_threshold).astype(int)\n",
    "    #print(\"prediction: \", pred_labels)\n",
    "    #print(\"GT: \", GT)\n",
    "\n",
    "    # Calculate True Positives (TP), True Negatives (TN), False Positives (FP), and False Negatives (FN)\n",
    "    TP = ((pred_labels == 1) & (GT == 1)).sum()\n",
    "    TN = ((pred_labels == 0) & (GT == 0)).sum()\n",
    "    FP = ((pred_labels == 1) & (GT == 0)).sum()\n",
    "    FN = ((pred_labels == 0) & (GT == 1)).sum()\n",
    "    sensitivity = TP / (TP + FN)\n",
    "    # precision = TP / (TP + FP)\n",
    "    specificity = TN / (TN + FP)\n",
    "    auc_score = auc(fpr, tpr)\n",
    "\n",
    "    results = [\n",
    "        [\"True Positives (TP)\", TP],\n",
    "        [\"True Negatives (TN)\", TN],\n",
    "        [\"False Positives (FP)\", FP],\n",
    "        [\"False Negatives (FN)\", FN],\n",
    "        [\"Sensitivity\", sensitivity],\n",
    "        # [\"Precision\", precision],\n",
    "        [\"Specificity\", specificity],\n",
    "        [\"AUC\", auc_score]\n",
    "    ]\n",
    "    # Print results in tabular form\n",
    "    # print(tabulate(results, headers=[\"Metric\", \"Value\"], tablefmt=\"fancy_grid\"))\n",
    "    return auc_score, results"
   ]
  },
  {
   "cell_type": "code",
   "execution_count": 5,
   "metadata": {},
   "outputs": [],
   "source": [
    "def best_model_selection_from_fold_metricbased(system, type, category, experiment_number, fold_number):\n",
    "    repls = (\"Network_Weights/best_model\", \"Metrics/epoch\"), (\"pth.tar\", \"csv\")\n",
    "    \n",
    "    if type == \"regression\":\n",
    "        path = config[\"Source\"][\"paths\"][f\"source_path_system_{system}\"] + config[\"regression_path\"] + f\"/Experiment_{experiment_number}/CV_{fold_number}/Network_Weights/\"\n",
    "    else:\n",
    "        path = config[\"Source\"][\"paths\"][f\"source_path_system_{system}\"] + config[\"classification_path\"] + f\"/{category}/Experiment_{experiment_number}/CV_{fold_number}/Network_Weights/\"\n",
    "    \n",
    "    model_files = []\n",
    "    for dirs, subdirs, files in os.walk(path):\n",
    "        for file in files:\n",
    "            file_path = str(os.path.join(dirs, file))\n",
    "            file_path = file_path.replace('\\\\','/')\n",
    "            model_files.append(file_path)\n",
    "\n",
    "    sorted(model_files)\n",
    "\n",
    "    model_dict = dict()\n",
    "\n",
    "          \n",
    "    if type==\"regression\":   \n",
    "        best_metric = 100000000.0\n",
    "    else:\n",
    "        best_metric = -1\n",
    "\n",
    "    for model_path in model_files:\n",
    "        metric_path = reduce(lambda a, kv: a.replace(*kv), repls, model_path)\n",
    "        metric_data = pd.read_csv(metric_path)\n",
    "\n",
    "        if type==\"regression\":   \n",
    "            metric = mean_absolute_error(metric_data[\"GT\"], metric_data[\"prediction (age)\"])\n",
    "            if metric < best_metric:\n",
    "                best_metric = metric    \n",
    "        else:\n",
    "            if category==\"Diagnosis\":\n",
    "                metric = cohen_kappa_score(metric_data[\"prediction\"], metric_data[\"GT\"])\n",
    "                if metric > best_metric:\n",
    "                    best_metric = metric   \n",
    "            else:\n",
    "                auc, _ = calculate_metrics(metric_data[\"prediction_probability (sex)\"], np.array(metric_data[\"GT\"]).astype(int))\n",
    "                metric = auc\n",
    "                if metric > best_metric:\n",
    "                    best_metric = metric   \n",
    "\n",
    "        epoch_num = model_path.split(\"_\")[-1].split(\".\")[0]\n",
    "        #print(metric, epoch_num, model_path)\n",
    "        if metric in model_dict.keys():\n",
    "            if epoch_num < model_dict[metric][1]:\n",
    "                model_dict[metric] = (model_path, epoch_num)\n",
    "            else:\n",
    "                pass\n",
    "        else:\n",
    "            model_dict[metric] = (model_path, epoch_num)\n",
    "          \n",
    "    #print(model_dict)\n",
    "    best_model_path = model_dict[best_metric][0]\n",
    "    epoch_to_continue = model_dict[best_metric][1] #best_model_path.split(\"_\")[-1].split(\".\")[0]\n",
    "    #print(\"best: \", best_metric, epoch_to_continue, best_model_path)\n",
    "    return best_model_path, epoch_to_continue"
   ]
  },
  {
   "cell_type": "code",
   "execution_count": null,
   "metadata": {},
   "outputs": [],
   "source": [
    "system=2\n",
    "type=\"classification\"\n",
    "category=\"Sex\"\n",
    "experiment_number=2\n",
    "fold_number=1\n",
    "path = config[\"Source\"][\"paths\"][f\"source_path_system_{system}\"] + config[\"classification_path\"] + f\"/{category}/Experiment_{experiment_number}/CV_{fold_number}/Network_Weights/\"\n",
    "    \n",
    "model_files = []\n",
    "for dirs, subdirs, files in os.walk(path):\n",
    "    for file in files:\n",
    "        file_path = str(os.path.join(dirs, file))\n",
    "        file_path = file_path.replace('\\\\','/')\n",
    "        model_files.append(file_path)\n",
    "#sorted(model_files, reverse=True)\n",
    "model_files\n",
    "model_files[0].split(\"_\")[-1].split(\".\")[0]"
   ]
  },
  {
   "cell_type": "code",
   "execution_count": null,
   "metadata": {},
   "outputs": [],
   "source": [
    "\n",
    "[int(num) if num else alpha for num, alpha in re.compile(r'(\\d+)|(\\D+)').findall('/home/ashish/Ashish/UCAN/Results/classification/Sex/Experiment_2/CV_1/Network_Weights/best_model_2.pth.tar')]"
   ]
  },
  {
   "cell_type": "code",
   "execution_count": 11,
   "metadata": {},
   "outputs": [
    {
     "ename": "IndexError",
     "evalue": "list index out of range",
     "output_type": "error",
     "traceback": [
      "\u001b[0;31m---------------------------------------------------------------------------\u001b[0m",
      "\u001b[0;31mIndexError\u001b[0m                                Traceback (most recent call last)",
      "\u001b[1;32m/home/andres/VSCode/UCAN-PET-CT-image-data-handling-pipeline/Cross_validation/evaluate_models.ipynb Cell 7\u001b[0m line \u001b[0;36m1\n\u001b[1;32m     <a href='vscode-notebook-cell:/home/andres/VSCode/UCAN-PET-CT-image-data-handling-pipeline/Cross_validation/evaluate_models.ipynb#X10sZmlsZQ%3D%3D?line=16'>17</a>\u001b[0m     epoch_to_continue \u001b[39m=\u001b[39m best_model_path\u001b[39m.\u001b[39msplit(\u001b[39m\"\u001b[39m\u001b[39m_\u001b[39m\u001b[39m\"\u001b[39m)[\u001b[39m-\u001b[39m\u001b[39m1\u001b[39m]\u001b[39m.\u001b[39msplit(\u001b[39m\"\u001b[39m\u001b[39m.\u001b[39m\u001b[39m\"\u001b[39m)[\u001b[39m0\u001b[39m]\n\u001b[1;32m     <a href='vscode-notebook-cell:/home/andres/VSCode/UCAN-PET-CT-image-data-handling-pipeline/Cross_validation/evaluate_models.ipynb#X10sZmlsZQ%3D%3D?line=17'>18</a>\u001b[0m     \u001b[39mreturn\u001b[39;00m best_model_path, epoch_to_continue\n\u001b[0;32m---> <a href='vscode-notebook-cell:/home/andres/VSCode/UCAN-PET-CT-image-data-handling-pipeline/Cross_validation/evaluate_models.ipynb#X10sZmlsZQ%3D%3D?line=18'>19</a>\u001b[0m best_model_selection_from_fold(\u001b[39m2\u001b[39;49m, \u001b[39m'\u001b[39;49m\u001b[39mclassification\u001b[39;49m\u001b[39m'\u001b[39;49m, \u001b[39m'\u001b[39;49m\u001b[39mSex\u001b[39;49m\u001b[39m'\u001b[39;49m, \u001b[39m2\u001b[39;49m, \u001b[39m1\u001b[39;49m)\n",
      "\u001b[1;32m/home/andres/VSCode/UCAN-PET-CT-image-data-handling-pipeline/Cross_validation/evaluate_models.ipynb Cell 7\u001b[0m line \u001b[0;36m1\n\u001b[1;32m     <a href='vscode-notebook-cell:/home/andres/VSCode/UCAN-PET-CT-image-data-handling-pipeline/Cross_validation/evaluate_models.ipynb#X10sZmlsZQ%3D%3D?line=13'>14</a>\u001b[0m \u001b[39mfor\u001b[39;00m i \u001b[39min\u001b[39;00m models_sorted:\n\u001b[1;32m     <a href='vscode-notebook-cell:/home/andres/VSCode/UCAN-PET-CT-image-data-handling-pipeline/Cross_validation/evaluate_models.ipynb#X10sZmlsZQ%3D%3D?line=14'>15</a>\u001b[0m     \u001b[39mpass\u001b[39;00m\u001b[39m#print(i.name)\u001b[39;00m\n\u001b[0;32m---> <a href='vscode-notebook-cell:/home/andres/VSCode/UCAN-PET-CT-image-data-handling-pipeline/Cross_validation/evaluate_models.ipynb#X10sZmlsZQ%3D%3D?line=15'>16</a>\u001b[0m best_model_path \u001b[39m=\u001b[39m path \u001b[39m+\u001b[39m [model\u001b[39m.\u001b[39;49mname \u001b[39mfor\u001b[39;49;00m model \u001b[39min\u001b[39;49;00m models_sorted][\u001b[39m-\u001b[39;49m\u001b[39m1\u001b[39;49m]\n\u001b[1;32m     <a href='vscode-notebook-cell:/home/andres/VSCode/UCAN-PET-CT-image-data-handling-pipeline/Cross_validation/evaluate_models.ipynb#X10sZmlsZQ%3D%3D?line=16'>17</a>\u001b[0m epoch_to_continue \u001b[39m=\u001b[39m best_model_path\u001b[39m.\u001b[39msplit(\u001b[39m\"\u001b[39m\u001b[39m_\u001b[39m\u001b[39m\"\u001b[39m)[\u001b[39m-\u001b[39m\u001b[39m1\u001b[39m]\u001b[39m.\u001b[39msplit(\u001b[39m\"\u001b[39m\u001b[39m.\u001b[39m\u001b[39m\"\u001b[39m)[\u001b[39m0\u001b[39m]\n\u001b[1;32m     <a href='vscode-notebook-cell:/home/andres/VSCode/UCAN-PET-CT-image-data-handling-pipeline/Cross_validation/evaluate_models.ipynb#X10sZmlsZQ%3D%3D?line=17'>18</a>\u001b[0m \u001b[39mreturn\u001b[39;00m best_model_path, epoch_to_continue\n",
      "\u001b[0;31mIndexError\u001b[0m: list index out of range"
     ]
    }
   ],
   "source": [
    "tokenize = re.compile(r'(\\d+)|(\\D+)').findall\n",
    "def natural_sortkey(string):          \n",
    "    return tuple(int(num) if num else alpha for num, alpha in tokenize(string.name))\n",
    "\n",
    "def best_model_selection_from_fold(system, type, category, experiment_number, fold_number):\n",
    "    if type == \"regression\":\n",
    "        path = config[\"Source\"][\"paths\"][f\"source_path_system_{system}\"] + config[\"regression_path\"] + f\"/Experiment_{experiment_number}/CV_{fold_number}/Network_Weights/\"\n",
    "    else:\n",
    "        path = config[\"Source\"][\"paths\"][f\"source_path_system_{system}\"] + config[\"classification_path\"] + f\"/{category}/Experiment_{experiment_number}/CV_{fold_number}/Network_Weights/\"\n",
    "    path_object = Path(path)\n",
    "    #print(path)\n",
    "    models = path_object.glob(\"*\")\n",
    "    models_sorted = sorted(models, key=natural_sortkey)\n",
    "    for i in models_sorted:\n",
    "        pass#print(i.name)\n",
    "    best_model_path = path + [model.name for model in models_sorted][-1]\n",
    "    epoch_to_continue = best_model_path.split(\"_\")[-1].split(\".\")[0]\n",
    "    return best_model_path, epoch_to_continue\n",
    "best_model_selection_from_fold(2, 'classification', 'Sex', 2, 1)"
   ]
  },
  {
   "cell_type": "code",
   "execution_count": 9,
   "metadata": {},
   "outputs": [],
   "source": [
    "def evaluate_best_models_all_folds(system, type, category, experiment_number, folds_list):\n",
    "    repls = (\"Network_Weights/best_model\", \"Metrics/epoch\"), (\"pth.tar\", \"csv\")\n",
    "\n",
    "    auc_from_all_folds = []\n",
    "    metric_data_list = []\n",
    "    for fold_number in folds_list:\n",
    "        best_model_path, _ = best_model_selection_from_fold(system, type, category, experiment_number, fold_number)\n",
    "        best_metric_path = reduce(lambda a, kv: a.replace(*kv), repls, best_model_path)\n",
    "        print(best_metric_path)\n",
    "        metric_data = pd.read_csv(best_metric_path)\n",
    "        metric_data_list.append(metric_data)\n",
    "\n",
    "    all_metric_df = pd.concat(metric_data_list)\n",
    "\n",
    "    if type==\"regression\":        \n",
    "        metric_r_squared = r2_score(all_metric_df[\"GT\"], all_metric_df[\"prediction (age)\"])\n",
    "        metric_mae = mean_absolute_error(all_metric_df[\"GT\"], all_metric_df[\"prediction (age)\"])\n",
    "        metrics = {\"metric_mae\":metric_mae, \"metric_r_squared\":metric_r_squared}\n",
    "        return metrics\n",
    "    else:\n",
    "        if category==\"Diagnosis\":\n",
    "            c_k_score = cohen_kappa_score(all_metric_df[\"prediction\"], all_metric_df[\"GT\"])\n",
    "            idx_classes = [\"C81_GT\", \"C83_GT\", \"Others_GT\"]\n",
    "            col_classes = [\"C81_Pred\", \"C83_Pred\", \"Others_Pred\"]\n",
    "            confusion_matrix_df = pd.DataFrame(confusion_matrix(all_metric_df[\"GT\"], all_metric_df[\"prediction\"]), columns=col_classes, index=idx_classes)\n",
    "            metrics = {\"c_k_score\":c_k_score, \"confusion_matrix\":confusion_matrix_df}\n",
    "            return metrics\n",
    "        else:\n",
    "            for fold in folds_list:\n",
    "                best_model_path, _ = best_model_selection_from_fold(system, type, category, experiment_number, fold)\n",
    "                best_metric_path = reduce(lambda a, kv: a.replace(*kv), repls, best_model_path)\n",
    "                print(best_metric_path)\n",
    "                metric_data = pd.read_csv(best_metric_path)\n",
    "                #print(metric_data.columns)\n",
    "                auc, _  = calculate_metrics(metric_data[\"prediction_probability (sex)\"], np.array(metric_data[\"GT\"]).astype(int) )  #\"prediction_probability_male\" for exp1, prediction_probability (sex) for exp 2\n",
    "                auc_from_all_folds.append(auc)\n",
    "            return np.mean(auc_from_all_folds)"
   ]
  },
  {
   "cell_type": "code",
   "execution_count": 7,
   "metadata": {},
   "outputs": [],
   "source": [
    "def evaluate_best_models_all_folds_metricbased(system, type, category, experiment_number, folds_list):\n",
    "    repls = (\"Network_Weights/best_model\", \"Metrics/epoch\"), (\"pth.tar\", \"csv\")\n",
    "\n",
    "    auc_from_all_folds = []\n",
    "    metric_data_list = []\n",
    "    for fold_number in folds_list:\n",
    "        best_model_path, _ = best_model_selection_from_fold_metricbased(system, type, category, experiment_number, fold_number)\n",
    "        best_metric_path = reduce(lambda a, kv: a.replace(*kv), repls, best_model_path)\n",
    "        print(best_metric_path)\n",
    "        metric_data = pd.read_csv(best_metric_path)\n",
    "        metric_data_list.append(metric_data)\n",
    "\n",
    "    all_metric_df = pd.concat(metric_data_list)\n",
    "\n",
    "    if type==\"regression\":        \n",
    "        metric_r_squared = r2_score(all_metric_df[\"GT\"], all_metric_df[\"prediction (age)\"])\n",
    "        metric_mae = mean_absolute_error(all_metric_df[\"GT\"], all_metric_df[\"prediction (age)\"])\n",
    "        metrics = {\"metric_mae\":metric_mae, \"metric_r_squared\":metric_r_squared}\n",
    "        return metrics\n",
    "    else:\n",
    "        if category==\"Diagnosis\":\n",
    "            c_k_score = cohen_kappa_score(all_metric_df[\"prediction\"], all_metric_df[\"GT\"])\n",
    "            idx_classes = [\"C81_GT\", \"C83_GT\", \"Others_GT\"]\n",
    "            col_classes = [\"C81_Pred\", \"C83_Pred\", \"Others_Pred\"]\n",
    "            confusion_matrix_df = pd.DataFrame(confusion_matrix(all_metric_df[\"GT\"], all_metric_df[\"prediction\"]), columns=col_classes, index=idx_classes)\n",
    "            metrics = {\"c_k_score\":c_k_score, \"confusion_matrix\":confusion_matrix_df}\n",
    "            return metrics\n",
    "        else:\n",
    "            for fold in folds_list:\n",
    "                best_model_path, _ = best_model_selection_from_fold_metricbased(system, type, category, experiment_number, fold)\n",
    "                best_metric_path = reduce(lambda a, kv: a.replace(*kv), repls, best_model_path)\n",
    "                print(best_metric_path)\n",
    "                metric_data = pd.read_csv(best_metric_path)\n",
    "                #print(metric_data.columns)\n",
    "                auc, _  = calculate_metrics(metric_data[\"prediction_probability (sex)\"], np.array(metric_data[\"GT\"]).astype(int) )  #\"prediction_probability_male\" for exp1, prediction_probability (sex) for exp 2\n",
    "                auc_from_all_folds.append(auc)\n",
    "            return np.mean(auc_from_all_folds)"
   ]
  },
  {
   "cell_type": "code",
   "execution_count": null,
   "metadata": {},
   "outputs": [],
   "source": [
    "df = pd.read_csv(\"/home/ashish/Ashish/UCAN/Results/classification/Sex/Experiment_1/CV_0/Metrics/epoch_56.csv\")"
   ]
  },
  {
   "cell_type": "code",
   "execution_count": null,
   "metadata": {},
   "outputs": [],
   "source": [
    "np.array(df[\"prediction_probability_male\"]).flatten()"
   ]
  },
  {
   "cell_type": "markdown",
   "metadata": {},
   "source": [
    "### For regression"
   ]
  },
  {
   "cell_type": "code",
   "execution_count": 14,
   "metadata": {},
   "outputs": [
    {
     "name": "stdout",
     "output_type": "stream",
     "text": [
      "/media/andres/T7 Shield1/UCAN_project/Results/regression/Experiment_3/CV_0/Metrics/epoch_202.csv\n",
      "/media/andres/T7 Shield1/UCAN_project/Results/regression/Experiment_3/CV_1/Metrics/epoch_324.csv\n",
      "/media/andres/T7 Shield1/UCAN_project/Results/regression/Experiment_3/CV_2/Metrics/epoch_285.csv\n",
      "/media/andres/T7 Shield1/UCAN_project/Results/regression/Experiment_3/CV_3/Metrics/epoch_263.csv\n",
      "/media/andres/T7 Shield1/UCAN_project/Results/regression/Experiment_3/CV_4/Metrics/epoch_261.csv\n",
      "/media/andres/T7 Shield1/UCAN_project/Results/regression/Experiment_3/CV_5/Metrics/epoch_290.csv\n",
      "/media/andres/T7 Shield1/UCAN_project/Results/regression/Experiment_3/CV_6/Metrics/epoch_328.csv\n",
      "/media/andres/T7 Shield1/UCAN_project/Results/regression/Experiment_3/CV_7/Metrics/epoch_191.csv\n",
      "/media/andres/T7 Shield1/UCAN_project/Results/regression/Experiment_3/CV_8/Metrics/epoch_291.csv\n",
      "/media/andres/T7 Shield1/UCAN_project/Results/regression/Experiment_3/CV_9/Metrics/epoch_304.csv\n"
     ]
    },
    {
     "data": {
      "text/plain": [
       "{'metric_mae': 6.3549918575434665, 'metric_r_squared': 0.7426546397128754}"
      ]
     },
     "execution_count": 14,
     "metadata": {},
     "output_type": "execute_result"
    }
   ],
   "source": [
    "metrics = evaluate_best_models_all_folds(system=1, type=\"regression\", category=None, experiment_number=3, folds_list=list(range(10)))\n",
    "metrics"
   ]
  },
  {
   "cell_type": "code",
   "execution_count": 13,
   "metadata": {},
   "outputs": [
    {
     "ename": "KeyError",
     "evalue": "100000000.0",
     "output_type": "error",
     "traceback": [
      "\u001b[0;31m---------------------------------------------------------------------------\u001b[0m",
      "\u001b[0;31mKeyError\u001b[0m                                  Traceback (most recent call last)",
      "\u001b[1;32m/home/andres/VSCode/UCAN-PET-CT-image-data-handling-pipeline/Cross_validation/evaluate_models.ipynb Cell 14\u001b[0m line \u001b[0;36m1\n\u001b[0;32m----> <a href='vscode-notebook-cell:/home/andres/VSCode/UCAN-PET-CT-image-data-handling-pipeline/Cross_validation/evaluate_models.ipynb#X20sZmlsZQ%3D%3D?line=0'>1</a>\u001b[0m metrics \u001b[39m=\u001b[39m evaluate_best_models_all_folds_metricbased(system\u001b[39m=\u001b[39;49m\u001b[39m2\u001b[39;49m, \u001b[39mtype\u001b[39;49m\u001b[39m=\u001b[39;49m\u001b[39m\"\u001b[39;49m\u001b[39mregression\u001b[39;49m\u001b[39m\"\u001b[39;49m, category\u001b[39m=\u001b[39;49m\u001b[39mNone\u001b[39;49;00m, experiment_number\u001b[39m=\u001b[39;49m\u001b[39m3\u001b[39;49m, folds_list\u001b[39m=\u001b[39;49m\u001b[39mlist\u001b[39;49m(\u001b[39mrange\u001b[39;49m(\u001b[39m10\u001b[39;49m)))\n\u001b[1;32m      <a href='vscode-notebook-cell:/home/andres/VSCode/UCAN-PET-CT-image-data-handling-pipeline/Cross_validation/evaluate_models.ipynb#X20sZmlsZQ%3D%3D?line=1'>2</a>\u001b[0m metrics\n",
      "\u001b[1;32m/home/andres/VSCode/UCAN-PET-CT-image-data-handling-pipeline/Cross_validation/evaluate_models.ipynb Cell 14\u001b[0m line \u001b[0;36m7\n\u001b[1;32m      <a href='vscode-notebook-cell:/home/andres/VSCode/UCAN-PET-CT-image-data-handling-pipeline/Cross_validation/evaluate_models.ipynb#X20sZmlsZQ%3D%3D?line=4'>5</a>\u001b[0m metric_data_list \u001b[39m=\u001b[39m []\n\u001b[1;32m      <a href='vscode-notebook-cell:/home/andres/VSCode/UCAN-PET-CT-image-data-handling-pipeline/Cross_validation/evaluate_models.ipynb#X20sZmlsZQ%3D%3D?line=5'>6</a>\u001b[0m \u001b[39mfor\u001b[39;00m fold_number \u001b[39min\u001b[39;00m folds_list:\n\u001b[0;32m----> <a href='vscode-notebook-cell:/home/andres/VSCode/UCAN-PET-CT-image-data-handling-pipeline/Cross_validation/evaluate_models.ipynb#X20sZmlsZQ%3D%3D?line=6'>7</a>\u001b[0m     best_model_path, _ \u001b[39m=\u001b[39m best_model_selection_from_fold_metricbased(system, \u001b[39mtype\u001b[39;49m, category, experiment_number, fold_number)\n\u001b[1;32m      <a href='vscode-notebook-cell:/home/andres/VSCode/UCAN-PET-CT-image-data-handling-pipeline/Cross_validation/evaluate_models.ipynb#X20sZmlsZQ%3D%3D?line=7'>8</a>\u001b[0m     best_metric_path \u001b[39m=\u001b[39m reduce(\u001b[39mlambda\u001b[39;00m a, kv: a\u001b[39m.\u001b[39mreplace(\u001b[39m*\u001b[39mkv), repls, best_model_path)\n\u001b[1;32m      <a href='vscode-notebook-cell:/home/andres/VSCode/UCAN-PET-CT-image-data-handling-pipeline/Cross_validation/evaluate_models.ipynb#X20sZmlsZQ%3D%3D?line=8'>9</a>\u001b[0m     \u001b[39mprint\u001b[39m(best_metric_path)\n",
      "\u001b[1;32m/home/andres/VSCode/UCAN-PET-CT-image-data-handling-pipeline/Cross_validation/evaluate_models.ipynb Cell 14\u001b[0m line \u001b[0;36m5\n\u001b[1;32m     <a href='vscode-notebook-cell:/home/andres/VSCode/UCAN-PET-CT-image-data-handling-pipeline/Cross_validation/evaluate_models.ipynb#X20sZmlsZQ%3D%3D?line=52'>53</a>\u001b[0m         model_dict[metric] \u001b[39m=\u001b[39m (model_path, epoch_num)\n\u001b[1;32m     <a href='vscode-notebook-cell:/home/andres/VSCode/UCAN-PET-CT-image-data-handling-pipeline/Cross_validation/evaluate_models.ipynb#X20sZmlsZQ%3D%3D?line=54'>55</a>\u001b[0m \u001b[39m#print(model_dict)\u001b[39;00m\n\u001b[0;32m---> <a href='vscode-notebook-cell:/home/andres/VSCode/UCAN-PET-CT-image-data-handling-pipeline/Cross_validation/evaluate_models.ipynb#X20sZmlsZQ%3D%3D?line=55'>56</a>\u001b[0m best_model_path \u001b[39m=\u001b[39m model_dict[best_metric][\u001b[39m0\u001b[39m]\n\u001b[1;32m     <a href='vscode-notebook-cell:/home/andres/VSCode/UCAN-PET-CT-image-data-handling-pipeline/Cross_validation/evaluate_models.ipynb#X20sZmlsZQ%3D%3D?line=56'>57</a>\u001b[0m epoch_to_continue \u001b[39m=\u001b[39m model_dict[best_metric][\u001b[39m1\u001b[39m] \u001b[39m#best_model_path.split(\"_\")[-1].split(\".\")[0]\u001b[39;00m\n\u001b[1;32m     <a href='vscode-notebook-cell:/home/andres/VSCode/UCAN-PET-CT-image-data-handling-pipeline/Cross_validation/evaluate_models.ipynb#X20sZmlsZQ%3D%3D?line=57'>58</a>\u001b[0m \u001b[39m#print(\"best: \", best_metric, epoch_to_continue, best_model_path)\u001b[39;00m\n",
      "\u001b[0;31mKeyError\u001b[0m: 100000000.0"
     ]
    }
   ],
   "source": [
    "metrics = evaluate_best_models_all_folds_metricbased(system=2, type=\"regression\", category=None, experiment_number=3, folds_list=list(range(10)))\n",
    "metrics"
   ]
  },
  {
   "cell_type": "code",
   "execution_count": null,
   "metadata": {},
   "outputs": [],
   "source": [
    "metrics = evaluate_best_models_all_folds_metricbased(system=2, type=\"regression\", category=None, experiment_number=3, folds_list=list(range(10)))\n",
    "metrics"
   ]
  },
  {
   "cell_type": "markdown",
   "metadata": {},
   "source": [
    "### For classification"
   ]
  },
  {
   "cell_type": "code",
   "execution_count": 18,
   "metadata": {},
   "outputs": [
    {
     "name": "stdout",
     "output_type": "stream",
     "text": [
      "/media/andres/T7 Shield1/UCAN_project/Results/classification/Sex/Experiment_2/CV_0/Metrics/epoch_27.csv\n",
      "/media/andres/T7 Shield1/UCAN_project/Results/classification/Sex/Experiment_2/CV_1/Metrics/epoch_92.csv\n",
      "/media/andres/T7 Shield1/UCAN_project/Results/classification/Sex/Experiment_2/CV_2/Metrics/epoch_44.csv\n",
      "/media/andres/T7 Shield1/UCAN_project/Results/classification/Sex/Experiment_2/CV_3/Metrics/epoch_45.csv\n",
      "/media/andres/T7 Shield1/UCAN_project/Results/classification/Sex/Experiment_2/CV_4/Metrics/epoch_39.csv\n",
      "/media/andres/T7 Shield1/UCAN_project/Results/classification/Sex/Experiment_2/CV_5/Metrics/epoch_99.csv\n",
      "/media/andres/T7 Shield1/UCAN_project/Results/classification/Sex/Experiment_2/CV_6/Metrics/epoch_80.csv\n",
      "/media/andres/T7 Shield1/UCAN_project/Results/classification/Sex/Experiment_2/CV_7/Metrics/epoch_59.csv\n",
      "/media/andres/T7 Shield1/UCAN_project/Results/classification/Sex/Experiment_2/CV_8/Metrics/epoch_96.csv\n",
      "/media/andres/T7 Shield1/UCAN_project/Results/classification/Sex/Experiment_2/CV_9/Metrics/epoch_43.csv\n",
      "/media/andres/T7 Shield1/UCAN_project/Results/classification/Sex/Experiment_2/CV_0/Metrics/epoch_27.csv\n",
      "/media/andres/T7 Shield1/UCAN_project/Results/classification/Sex/Experiment_2/CV_1/Metrics/epoch_92.csv\n",
      "/media/andres/T7 Shield1/UCAN_project/Results/classification/Sex/Experiment_2/CV_2/Metrics/epoch_44.csv\n",
      "/media/andres/T7 Shield1/UCAN_project/Results/classification/Sex/Experiment_2/CV_3/Metrics/epoch_45.csv\n",
      "/media/andres/T7 Shield1/UCAN_project/Results/classification/Sex/Experiment_2/CV_4/Metrics/epoch_39.csv\n",
      "/media/andres/T7 Shield1/UCAN_project/Results/classification/Sex/Experiment_2/CV_5/Metrics/epoch_99.csv\n",
      "/media/andres/T7 Shield1/UCAN_project/Results/classification/Sex/Experiment_2/CV_6/Metrics/epoch_80.csv\n",
      "/media/andres/T7 Shield1/UCAN_project/Results/classification/Sex/Experiment_2/CV_7/Metrics/epoch_59.csv\n",
      "/media/andres/T7 Shield1/UCAN_project/Results/classification/Sex/Experiment_2/CV_8/Metrics/epoch_96.csv\n",
      "/media/andres/T7 Shield1/UCAN_project/Results/classification/Sex/Experiment_2/CV_9/Metrics/epoch_43.csv\n"
     ]
    },
    {
     "data": {
      "text/plain": [
       "0.9985318828488333"
      ]
     },
     "execution_count": 18,
     "metadata": {},
     "output_type": "execute_result"
    }
   ],
   "source": [
    "metrics = evaluate_best_models_all_folds(system=1, type=\"classification\", category=\"Sex\", experiment_number=2, folds_list=list(range(10)))\n",
    "metrics"
   ]
  },
  {
   "cell_type": "code",
   "execution_count": 17,
   "metadata": {},
   "outputs": [
    {
     "name": "stdout",
     "output_type": "stream",
     "text": [
      "/media/andres/T7 Shield1/UCAN_project/Results/classification/Diagnosis/Experiment_1/CV_0/Metrics/epoch_130.csv\n",
      "/media/andres/T7 Shield1/UCAN_project/Results/classification/Diagnosis/Experiment_1/CV_1/Metrics/epoch_142.csv\n",
      "/media/andres/T7 Shield1/UCAN_project/Results/classification/Diagnosis/Experiment_1/CV_2/Metrics/epoch_103.csv\n",
      "/media/andres/T7 Shield1/UCAN_project/Results/classification/Diagnosis/Experiment_1/CV_3/Metrics/epoch_286.csv\n",
      "/media/andres/T7 Shield1/UCAN_project/Results/classification/Diagnosis/Experiment_1/CV_4/Metrics/epoch_343.csv\n",
      "/media/andres/T7 Shield1/UCAN_project/Results/classification/Diagnosis/Experiment_1/CV_5/Metrics/epoch_193.csv\n",
      "/media/andres/T7 Shield1/UCAN_project/Results/classification/Diagnosis/Experiment_1/CV_6/Metrics/epoch_418.csv\n",
      "/media/andres/T7 Shield1/UCAN_project/Results/classification/Diagnosis/Experiment_1/CV_7/Metrics/epoch_306.csv\n",
      "/media/andres/T7 Shield1/UCAN_project/Results/classification/Diagnosis/Experiment_1/CV_8/Metrics/epoch_406.csv\n",
      "/media/andres/T7 Shield1/UCAN_project/Results/classification/Diagnosis/Experiment_1/CV_9/Metrics/epoch_412.csv\n"
     ]
    },
    {
     "data": {
      "text/plain": [
       "{'c_k_score': 0.3506130099345308,\n",
       " 'confusion_matrix':            C81_Pred  C83_Pred  Others_Pred\n",
       " C81_GT          230        60           38\n",
       " C83_GT           58       120           56\n",
       " Others_GT        52        57           91}"
      ]
     },
     "execution_count": 17,
     "metadata": {},
     "output_type": "execute_result"
    }
   ],
   "source": [
    "metrics = evaluate_best_models_all_folds_metricbased(system=1, type=\"classification\", category=\"Diagnosis\", experiment_number=1, folds_list=list(range(10)))\n",
    "metrics"
   ]
  },
  {
   "cell_type": "code",
   "execution_count": null,
   "metadata": {},
   "outputs": [],
   "source": [
    "df = pd.read_csv('/home/ashish/Ashish/UCAN/Results/classification/Sex/Experiment_2/CV_0/Metrics/epoch_27.csv')\n",
    "df['prediction_probability (sex)'].round().to_list()"
   ]
  },
  {
   "cell_type": "code",
   "execution_count": null,
   "metadata": {},
   "outputs": [],
   "source": [
    "confusion_matrix_df = metrics[\"confusion_matrix\"]\n",
    "pred_class= list(confusion_matrix_df.columns)\n",
    "GT_class= list(confusion_matrix_df.index)\n",
    "print(pred_class, GT_class)\n",
    "metrics[\"confusion_matrix\"]"
   ]
  },
  {
   "cell_type": "code",
   "execution_count": null,
   "metadata": {},
   "outputs": [],
   "source": [
    "image = np.load(\"/home/ashish/Ashish/UCAN/Results/classification/Sex/Experiment_1/CV_9/AUC.npy\")\n",
    "import matplotlib.pyplot as plt\n",
    "plt.plot(image)"
   ]
  },
  {
   "cell_type": "code",
   "execution_count": null,
   "metadata": {},
   "outputs": [],
   "source": [
    "specificity = []\n",
    "for cls in GT_class:\n",
    "    cls_orig = cls.split('_')[0]\n",
    "    FP = np.sum(np.array(metrics[\"confusion_matrix\"].loc[[i for i in GT_class if i!=cls], [cls_orig + \"_Pred\"]]))\n",
    "    TN = np.sum(np.array(metrics[\"confusion_matrix\"].loc[[i for i in GT_class if i!=cls], [i for i in pred_class if i!=cls_orig + \"_Pred\"]]))\n",
    "    specificity.append(TN/(TN+FP))\n",
    "specificity"
   ]
  },
  {
   "cell_type": "code",
   "execution_count": null,
   "metadata": {},
   "outputs": [],
   "source": [
    "data[\"prediction_probability (diagnosis)\"].hist()"
   ]
  },
  {
   "cell_type": "markdown",
   "metadata": {},
   "source": [
    "### Check reshaped projections"
   ]
  },
  {
   "cell_type": "code",
   "execution_count": null,
   "metadata": {},
   "outputs": [],
   "source": [
    "import numpy as np\n",
    "from PIL import Image\n",
    "import matplotlib.pyplot as plt\n",
    "from tqdm import tqdm\n",
    "image = np.load(\"/media/andres/T7 Shield1/UCAN_project/collages/reshaped_collages/lpr385705046400/20140313/CT_adipose.npy\")\n",
    "plt.imshow(image, cmap=\"gray\")\n",
    "plt.show()"
   ]
  },
  {
   "cell_type": "code",
   "execution_count": null,
   "metadata": {},
   "outputs": [],
   "source": [
    "path = \"/media/andres/T7 Shield1/UCAN_project/collages/reshaped_collages/lpr415675513429/20190201/\"\n",
    "#lpr415675513429_20190201\n",
    "lst1 = [\"SUV_\", \"CT_\"]\n",
    "lst2 = [\"MIP.npy\",\"bone.npy\",\"lean.npy\",\"adipose.npy\",\"air.npy\"]"
   ]
  },
  {
   "cell_type": "code",
   "execution_count": null,
   "metadata": {},
   "outputs": [],
   "source": [
    "fig, axs = plt.subplots(nrows=2, ncols=5, figsize=(20,10))\n",
    "\n",
    "cv=0\n",
    "for i in range(2):\n",
    "    for j in range(5):\n",
    "        img = np.load(path + lst1[i] + lst2[j])\n",
    "        axs[i, j].imshow(img,cmap=\"gray\")\n",
    "        cv += 1\n",
    "plt.show()"
   ]
  },
  {
   "cell_type": "code",
   "execution_count": null,
   "metadata": {},
   "outputs": [],
   "source": [
    "img = \"/media/andres/T7 Shield1/UCAN_project/collages/reshaped_collages/npr113096472044/20110318/SUV_MIP.npy\"\n",
    "image_max = np.load(img)\n",
    "plt.imshow(image_max, cmap=\"gray\")\n",
    "plt.show()"
   ]
  },
  {
   "cell_type": "code",
   "execution_count": null,
   "metadata": {},
   "outputs": [],
   "source": [
    "img = \"/media/andres/T7 Shield1/UCAN_project/collages/reshaped_collages/npr113096472044/20110318/SUV_lean.npy\"\n",
    "image_mean = np.load(img)\n",
    "plt.imshow(image_mean, cmap=\"gray\")\n",
    "plt.show()"
   ]
  },
  {
   "cell_type": "code",
   "execution_count": null,
   "metadata": {},
   "outputs": [],
   "source": [
    "(image_max == image_mean).all()"
   ]
  },
  {
   "cell_type": "code",
   "execution_count": null,
   "metadata": {},
   "outputs": [],
   "source": [
    "df1 = pd.read_excel(r'/home/ashish/Ashish/UCAN/Dataframes/ClinicalData/Lymphoma_Octopus_Export 2023-11-29_C80_only_n1291_incl_YYYY_MM_pnr_removed.xlsx')\n",
    "df2 = pd.read_excel(r'/home/ashish/Ashish/UCAN/Dataframes/LinkedData/dataset_for_training_366patients_baseline_scans_clinical20231129.xlsx')"
   ]
  },
  {
   "cell_type": "code",
   "execution_count": null,
   "metadata": {},
   "outputs": [],
   "source": [
    "df1.translatedDiagnosis.value_counts().to_csv('/home/ashish/Ashish/UCAN/Dataframes/Analysis/clinical_data_analysis.csv')"
   ]
  },
  {
   "cell_type": "code",
   "execution_count": null,
   "metadata": {},
   "outputs": [],
   "source": [
    "df2.diagnosis.value_counts().to_csv('/home/ashish/Ashish/UCAN/Dataframes/Analysis/clinical_processed_data_analysis.csv')"
   ]
  },
  {
   "cell_type": "code",
   "execution_count": null,
   "metadata": {},
   "outputs": [],
   "source": [
    "import torch\n",
    "efficientnet = torch.hub.load('NVIDIA/DeepLearningExamples:torchhub', 'nvidia_efficientnet_b7', pretrained=True)"
   ]
  },
  {
   "cell_type": "code",
   "execution_count": null,
   "metadata": {},
   "outputs": [],
   "source": []
  }
 ],
 "metadata": {
  "kernelspec": {
   "display_name": "dlfia",
   "language": "python",
   "name": "python3"
  },
  "language_info": {
   "codemirror_mode": {
    "name": "ipython",
    "version": 3
   },
   "file_extension": ".py",
   "mimetype": "text/x-python",
   "name": "python",
   "nbconvert_exporter": "python",
   "pygments_lexer": "ipython3",
   "version": "3.11.5"
  }
 },
 "nbformat": 4,
 "nbformat_minor": 2
}
