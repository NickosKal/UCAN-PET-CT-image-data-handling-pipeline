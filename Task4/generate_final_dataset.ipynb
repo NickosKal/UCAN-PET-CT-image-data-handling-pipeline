{
 "cells": [
  {
   "cell_type": "code",
   "execution_count": 1,
   "metadata": {},
   "outputs": [],
   "source": [
    "import pandas as pd\n",
    "import numpy as np\n",
    "\n",
    "def display_full(x):\n",
    "    with pd.option_context(\"display.max_rows\", None,\n",
    "                           \"display.max_columns\", None,\n",
    "                           \"display.width\", 20000,\n",
    "                           \"display.max_colwidth\", None,\n",
    "                           ):\n",
    "        print(x)"
   ]
  },
  {
   "cell_type": "code",
   "execution_count": 2,
   "metadata": {},
   "outputs": [],
   "source": [
    "data = pd.read_excel(\"/media/andres/T7 Shield1/UCAN_project/dataset_for_training_366patients_clinical20231129.xlsx\")"
   ]
  },
  {
   "cell_type": "code",
   "execution_count": 6,
   "metadata": {},
   "outputs": [
    {
     "data": {
      "text/html": [
       "<div>\n",
       "<style scoped>\n",
       "    .dataframe tbody tr th:only-of-type {\n",
       "        vertical-align: middle;\n",
       "    }\n",
       "\n",
       "    .dataframe tbody tr th {\n",
       "        vertical-align: top;\n",
       "    }\n",
       "\n",
       "    .dataframe thead th {\n",
       "        text-align: right;\n",
       "    }\n",
       "</style>\n",
       "<table border=\"1\" class=\"dataframe\">\n",
       "  <thead>\n",
       "    <tr style=\"text-align: right;\">\n",
       "      <th></th>\n",
       "      <th>patient_ID</th>\n",
       "      <th>dob</th>\n",
       "      <th>scan_date</th>\n",
       "      <th>consent_date</th>\n",
       "      <th>diff_date (abs(sd-cd))</th>\n",
       "      <th>sex</th>\n",
       "      <th>age</th>\n",
       "      <th>diagnosis_groups</th>\n",
       "      <th>diagnosis</th>\n",
       "      <th>SUV_MIP</th>\n",
       "      <th>CT_MIP</th>\n",
       "      <th>SUV_bone</th>\n",
       "      <th>CT_bone</th>\n",
       "      <th>SUV_lean</th>\n",
       "      <th>CT_lean</th>\n",
       "      <th>SUV_adipose</th>\n",
       "      <th>CT_adipose</th>\n",
       "      <th>SUV_air</th>\n",
       "      <th>CT_air</th>\n",
       "    </tr>\n",
       "  </thead>\n",
       "  <tbody>\n",
       "    <tr>\n",
       "      <th>0</th>\n",
       "      <td>lpr385705046400</td>\n",
       "      <td>1980-11-15</td>\n",
       "      <td>2014-03-13</td>\n",
       "      <td>2014-03-18</td>\n",
       "      <td>5.0</td>\n",
       "      <td>UNKNOWN</td>\n",
       "      <td>33</td>\n",
       "      <td>C81</td>\n",
       "      <td>C81.9 - Hodgkins lymfom, ospecificerat</td>\n",
       "      <td>/home/ashish/Ashish/UCAN/ReshapedCollages/coll...</td>\n",
       "      <td>/home/ashish/Ashish/UCAN/ReshapedCollages/coll...</td>\n",
       "      <td>/home/ashish/Ashish/UCAN/ReshapedCollages/coll...</td>\n",
       "      <td>/home/ashish/Ashish/UCAN/ReshapedCollages/coll...</td>\n",
       "      <td>/home/ashish/Ashish/UCAN/ReshapedCollages/coll...</td>\n",
       "      <td>/home/ashish/Ashish/UCAN/ReshapedCollages/coll...</td>\n",
       "      <td>/home/ashish/Ashish/UCAN/ReshapedCollages/coll...</td>\n",
       "      <td>/home/ashish/Ashish/UCAN/ReshapedCollages/coll...</td>\n",
       "      <td>/home/ashish/Ashish/UCAN/ReshapedCollages/coll...</td>\n",
       "      <td>/home/ashish/Ashish/UCAN/ReshapedCollages/coll...</td>\n",
       "    </tr>\n",
       "    <tr>\n",
       "      <th>1</th>\n",
       "      <td>lpr415675513429</td>\n",
       "      <td>1986-02-15</td>\n",
       "      <td>2019-02-01</td>\n",
       "      <td>2019-02-13</td>\n",
       "      <td>12.0</td>\n",
       "      <td>UNKNOWN</td>\n",
       "      <td>32</td>\n",
       "      <td>C81</td>\n",
       "      <td>C81.9 - Hodgkins lymfom, ospecificerat</td>\n",
       "      <td>/home/ashish/Ashish/UCAN/ReshapedCollages/coll...</td>\n",
       "      <td>/home/ashish/Ashish/UCAN/ReshapedCollages/coll...</td>\n",
       "      <td>/home/ashish/Ashish/UCAN/ReshapedCollages/coll...</td>\n",
       "      <td>/home/ashish/Ashish/UCAN/ReshapedCollages/coll...</td>\n",
       "      <td>/home/ashish/Ashish/UCAN/ReshapedCollages/coll...</td>\n",
       "      <td>/home/ashish/Ashish/UCAN/ReshapedCollages/coll...</td>\n",
       "      <td>/home/ashish/Ashish/UCAN/ReshapedCollages/coll...</td>\n",
       "      <td>/home/ashish/Ashish/UCAN/ReshapedCollages/coll...</td>\n",
       "      <td>/home/ashish/Ashish/UCAN/ReshapedCollages/coll...</td>\n",
       "      <td>/home/ashish/Ashish/UCAN/ReshapedCollages/coll...</td>\n",
       "    </tr>\n",
       "  </tbody>\n",
       "</table>\n",
       "</div>"
      ],
      "text/plain": [
       "        patient_ID        dob  scan_date consent_date  diff_date (abs(sd-cd))  \\\n",
       "0  lpr385705046400 1980-11-15 2014-03-13   2014-03-18                     5.0   \n",
       "1  lpr415675513429 1986-02-15 2019-02-01   2019-02-13                    12.0   \n",
       "\n",
       "       sex  age diagnosis_groups                               diagnosis  \\\n",
       "0  UNKNOWN   33              C81  C81.9 - Hodgkins lymfom, ospecificerat   \n",
       "1  UNKNOWN   32              C81  C81.9 - Hodgkins lymfom, ospecificerat   \n",
       "\n",
       "                                             SUV_MIP  \\\n",
       "0  /home/ashish/Ashish/UCAN/ReshapedCollages/coll...   \n",
       "1  /home/ashish/Ashish/UCAN/ReshapedCollages/coll...   \n",
       "\n",
       "                                              CT_MIP  \\\n",
       "0  /home/ashish/Ashish/UCAN/ReshapedCollages/coll...   \n",
       "1  /home/ashish/Ashish/UCAN/ReshapedCollages/coll...   \n",
       "\n",
       "                                            SUV_bone  \\\n",
       "0  /home/ashish/Ashish/UCAN/ReshapedCollages/coll...   \n",
       "1  /home/ashish/Ashish/UCAN/ReshapedCollages/coll...   \n",
       "\n",
       "                                             CT_bone  \\\n",
       "0  /home/ashish/Ashish/UCAN/ReshapedCollages/coll...   \n",
       "1  /home/ashish/Ashish/UCAN/ReshapedCollages/coll...   \n",
       "\n",
       "                                            SUV_lean  \\\n",
       "0  /home/ashish/Ashish/UCAN/ReshapedCollages/coll...   \n",
       "1  /home/ashish/Ashish/UCAN/ReshapedCollages/coll...   \n",
       "\n",
       "                                             CT_lean  \\\n",
       "0  /home/ashish/Ashish/UCAN/ReshapedCollages/coll...   \n",
       "1  /home/ashish/Ashish/UCAN/ReshapedCollages/coll...   \n",
       "\n",
       "                                         SUV_adipose  \\\n",
       "0  /home/ashish/Ashish/UCAN/ReshapedCollages/coll...   \n",
       "1  /home/ashish/Ashish/UCAN/ReshapedCollages/coll...   \n",
       "\n",
       "                                          CT_adipose  \\\n",
       "0  /home/ashish/Ashish/UCAN/ReshapedCollages/coll...   \n",
       "1  /home/ashish/Ashish/UCAN/ReshapedCollages/coll...   \n",
       "\n",
       "                                             SUV_air  \\\n",
       "0  /home/ashish/Ashish/UCAN/ReshapedCollages/coll...   \n",
       "1  /home/ashish/Ashish/UCAN/ReshapedCollages/coll...   \n",
       "\n",
       "                                              CT_air  \n",
       "0  /home/ashish/Ashish/UCAN/ReshapedCollages/coll...  \n",
       "1  /home/ashish/Ashish/UCAN/ReshapedCollages/coll...  "
      ]
     },
     "execution_count": 6,
     "metadata": {},
     "output_type": "execute_result"
    }
   ],
   "source": [
    "data.head(2)"
   ]
  },
  {
   "cell_type": "code",
   "execution_count": 11,
   "metadata": {},
   "outputs": [],
   "source": [
    "for path in ['SUV_MIP', 'CT_MIP', 'SUV_bone', 'CT_bone', 'SUV_lean', 'CT_lean', 'SUV_adipose', 'CT_adipose', 'SUV_air', 'CT_air']:\n",
    "    data[path] = data[path].str.replace('/home/ashish/Ashish/UCAN/ReshapedCollages/collages', '/media/andres/T7 Shield1/UCAN_project/collages/reshaped_collages', regex=True)"
   ]
  },
  {
   "cell_type": "code",
   "execution_count": 12,
   "metadata": {},
   "outputs": [
    {
     "data": {
      "text/html": [
       "<div>\n",
       "<style scoped>\n",
       "    .dataframe tbody tr th:only-of-type {\n",
       "        vertical-align: middle;\n",
       "    }\n",
       "\n",
       "    .dataframe tbody tr th {\n",
       "        vertical-align: top;\n",
       "    }\n",
       "\n",
       "    .dataframe thead th {\n",
       "        text-align: right;\n",
       "    }\n",
       "</style>\n",
       "<table border=\"1\" class=\"dataframe\">\n",
       "  <thead>\n",
       "    <tr style=\"text-align: right;\">\n",
       "      <th></th>\n",
       "      <th>patient_ID</th>\n",
       "      <th>dob</th>\n",
       "      <th>scan_date</th>\n",
       "      <th>consent_date</th>\n",
       "      <th>diff_date (abs(sd-cd))</th>\n",
       "      <th>sex</th>\n",
       "      <th>age</th>\n",
       "      <th>diagnosis_groups</th>\n",
       "      <th>diagnosis</th>\n",
       "      <th>SUV_MIP</th>\n",
       "      <th>CT_MIP</th>\n",
       "      <th>SUV_bone</th>\n",
       "      <th>CT_bone</th>\n",
       "      <th>SUV_lean</th>\n",
       "      <th>CT_lean</th>\n",
       "      <th>SUV_adipose</th>\n",
       "      <th>CT_adipose</th>\n",
       "      <th>SUV_air</th>\n",
       "      <th>CT_air</th>\n",
       "    </tr>\n",
       "  </thead>\n",
       "  <tbody>\n",
       "    <tr>\n",
       "      <th>0</th>\n",
       "      <td>lpr385705046400</td>\n",
       "      <td>1980-11-15</td>\n",
       "      <td>2014-03-13</td>\n",
       "      <td>2014-03-18</td>\n",
       "      <td>5.0</td>\n",
       "      <td>UNKNOWN</td>\n",
       "      <td>33</td>\n",
       "      <td>C81</td>\n",
       "      <td>C81.9 - Hodgkins lymfom, ospecificerat</td>\n",
       "      <td>/media/andres/T7 Shield1/UCAN_project/collages...</td>\n",
       "      <td>/media/andres/T7 Shield1/UCAN_project/collages...</td>\n",
       "      <td>/media/andres/T7 Shield1/UCAN_project/collages...</td>\n",
       "      <td>/media/andres/T7 Shield1/UCAN_project/collages...</td>\n",
       "      <td>/media/andres/T7 Shield1/UCAN_project/collages...</td>\n",
       "      <td>/media/andres/T7 Shield1/UCAN_project/collages...</td>\n",
       "      <td>/media/andres/T7 Shield1/UCAN_project/collages...</td>\n",
       "      <td>/media/andres/T7 Shield1/UCAN_project/collages...</td>\n",
       "      <td>/media/andres/T7 Shield1/UCAN_project/collages...</td>\n",
       "      <td>/media/andres/T7 Shield1/UCAN_project/collages...</td>\n",
       "    </tr>\n",
       "    <tr>\n",
       "      <th>1</th>\n",
       "      <td>lpr415675513429</td>\n",
       "      <td>1986-02-15</td>\n",
       "      <td>2019-02-01</td>\n",
       "      <td>2019-02-13</td>\n",
       "      <td>12.0</td>\n",
       "      <td>UNKNOWN</td>\n",
       "      <td>32</td>\n",
       "      <td>C81</td>\n",
       "      <td>C81.9 - Hodgkins lymfom, ospecificerat</td>\n",
       "      <td>/media/andres/T7 Shield1/UCAN_project/collages...</td>\n",
       "      <td>/media/andres/T7 Shield1/UCAN_project/collages...</td>\n",
       "      <td>/media/andres/T7 Shield1/UCAN_project/collages...</td>\n",
       "      <td>/media/andres/T7 Shield1/UCAN_project/collages...</td>\n",
       "      <td>/media/andres/T7 Shield1/UCAN_project/collages...</td>\n",
       "      <td>/media/andres/T7 Shield1/UCAN_project/collages...</td>\n",
       "      <td>/media/andres/T7 Shield1/UCAN_project/collages...</td>\n",
       "      <td>/media/andres/T7 Shield1/UCAN_project/collages...</td>\n",
       "      <td>/media/andres/T7 Shield1/UCAN_project/collages...</td>\n",
       "      <td>/media/andres/T7 Shield1/UCAN_project/collages...</td>\n",
       "    </tr>\n",
       "  </tbody>\n",
       "</table>\n",
       "</div>"
      ],
      "text/plain": [
       "        patient_ID        dob  scan_date consent_date  diff_date (abs(sd-cd))  \\\n",
       "0  lpr385705046400 1980-11-15 2014-03-13   2014-03-18                     5.0   \n",
       "1  lpr415675513429 1986-02-15 2019-02-01   2019-02-13                    12.0   \n",
       "\n",
       "       sex  age diagnosis_groups                               diagnosis  \\\n",
       "0  UNKNOWN   33              C81  C81.9 - Hodgkins lymfom, ospecificerat   \n",
       "1  UNKNOWN   32              C81  C81.9 - Hodgkins lymfom, ospecificerat   \n",
       "\n",
       "                                             SUV_MIP  \\\n",
       "0  /media/andres/T7 Shield1/UCAN_project/collages...   \n",
       "1  /media/andres/T7 Shield1/UCAN_project/collages...   \n",
       "\n",
       "                                              CT_MIP  \\\n",
       "0  /media/andres/T7 Shield1/UCAN_project/collages...   \n",
       "1  /media/andres/T7 Shield1/UCAN_project/collages...   \n",
       "\n",
       "                                            SUV_bone  \\\n",
       "0  /media/andres/T7 Shield1/UCAN_project/collages...   \n",
       "1  /media/andres/T7 Shield1/UCAN_project/collages...   \n",
       "\n",
       "                                             CT_bone  \\\n",
       "0  /media/andres/T7 Shield1/UCAN_project/collages...   \n",
       "1  /media/andres/T7 Shield1/UCAN_project/collages...   \n",
       "\n",
       "                                            SUV_lean  \\\n",
       "0  /media/andres/T7 Shield1/UCAN_project/collages...   \n",
       "1  /media/andres/T7 Shield1/UCAN_project/collages...   \n",
       "\n",
       "                                             CT_lean  \\\n",
       "0  /media/andres/T7 Shield1/UCAN_project/collages...   \n",
       "1  /media/andres/T7 Shield1/UCAN_project/collages...   \n",
       "\n",
       "                                         SUV_adipose  \\\n",
       "0  /media/andres/T7 Shield1/UCAN_project/collages...   \n",
       "1  /media/andres/T7 Shield1/UCAN_project/collages...   \n",
       "\n",
       "                                          CT_adipose  \\\n",
       "0  /media/andres/T7 Shield1/UCAN_project/collages...   \n",
       "1  /media/andres/T7 Shield1/UCAN_project/collages...   \n",
       "\n",
       "                                             SUV_air  \\\n",
       "0  /media/andres/T7 Shield1/UCAN_project/collages...   \n",
       "1  /media/andres/T7 Shield1/UCAN_project/collages...   \n",
       "\n",
       "                                              CT_air  \n",
       "0  /media/andres/T7 Shield1/UCAN_project/collages...  \n",
       "1  /media/andres/T7 Shield1/UCAN_project/collages...  "
      ]
     },
     "execution_count": 12,
     "metadata": {},
     "output_type": "execute_result"
    }
   ],
   "source": [
    "data.head(2)"
   ]
  },
  {
   "cell_type": "code",
   "execution_count": 2,
   "metadata": {},
   "outputs": [
    {
     "name": "stdout",
     "output_type": "stream",
     "text": [
      "        patient_ID  scan_date                                                                                                SUV_MIP                                                                                                CT_MIP                                                                                                SUV_bone                                                                                                CT_bone                                                                                                SUV_lean                                                                                                CT_lean                                                                                                SUV_adipose                                                                                                CT_adipose                                                                                                SUV_air                                                                                                CT_air  sex diagnosis_groups  GT_diagnosis_label\n",
      "0  npr100169878450   20130412  /media/andres/T7 Shield1/UCAN_project/collages/reshaped_collages/npr100169878450/20130412/SUV_MIP.npy  /media/andres/T7 Shield1/UCAN_project/collages/reshaped_collages/npr100169878450/20130412/CT_MIP.npy  /media/andres/T7 Shield1/UCAN_project/collages/reshaped_collages/npr100169878450/20130412/SUV_bone.npy  /media/andres/T7 Shield1/UCAN_project/collages/reshaped_collages/npr100169878450/20130412/CT_bone.npy  /media/andres/T7 Shield1/UCAN_project/collages/reshaped_collages/npr100169878450/20130412/SUV_lean.npy  /media/andres/T7 Shield1/UCAN_project/collages/reshaped_collages/npr100169878450/20130412/CT_lean.npy  /media/andres/T7 Shield1/UCAN_project/collages/reshaped_collages/npr100169878450/20130412/SUV_adipose.npy  /media/andres/T7 Shield1/UCAN_project/collages/reshaped_collages/npr100169878450/20130412/CT_adipose.npy  /media/andres/T7 Shield1/UCAN_project/collages/reshaped_collages/npr100169878450/20130412/SUV_air.npy  /media/andres/T7 Shield1/UCAN_project/collages/reshaped_collages/npr100169878450/20130412/CT_air.npy    1              C81                   0\n",
      "1  npr100169878450   20130611  /media/andres/T7 Shield1/UCAN_project/collages/reshaped_collages/npr100169878450/20130611/SUV_MIP.npy  /media/andres/T7 Shield1/UCAN_project/collages/reshaped_collages/npr100169878450/20130611/CT_MIP.npy  /media/andres/T7 Shield1/UCAN_project/collages/reshaped_collages/npr100169878450/20130611/SUV_bone.npy  /media/andres/T7 Shield1/UCAN_project/collages/reshaped_collages/npr100169878450/20130611/CT_bone.npy  /media/andres/T7 Shield1/UCAN_project/collages/reshaped_collages/npr100169878450/20130611/SUV_lean.npy  /media/andres/T7 Shield1/UCAN_project/collages/reshaped_collages/npr100169878450/20130611/CT_lean.npy  /media/andres/T7 Shield1/UCAN_project/collages/reshaped_collages/npr100169878450/20130611/SUV_adipose.npy  /media/andres/T7 Shield1/UCAN_project/collages/reshaped_collages/npr100169878450/20130611/CT_adipose.npy  /media/andres/T7 Shield1/UCAN_project/collages/reshaped_collages/npr100169878450/20130611/SUV_air.npy  /media/andres/T7 Shield1/UCAN_project/collages/reshaped_collages/npr100169878450/20130611/CT_air.npy    1              C81                   0\n"
     ]
    }
   ],
   "source": [
    "data = pd.read_excel(\"/media/andres/T7 Shield1/UCAN_project/dataset_for_model_classification_training.xlsx\")\n",
    "display_full(data.head(2))"
   ]
  },
  {
   "cell_type": "code",
   "execution_count": 6,
   "metadata": {},
   "outputs": [
    {
     "data": {
      "text/plain": [
       "diagnosis_groups\n",
       "C81    302\n",
       "C83    223\n",
       "C85     97\n",
       "C82     51\n",
       "C84     28\n",
       "C88     11\n",
       "C86      8\n",
       "Name: count, dtype: int64"
      ]
     },
     "execution_count": 6,
     "metadata": {},
     "output_type": "execute_result"
    }
   ],
   "source": [
    "data[\"diagnosis_groups\"].value_counts()"
   ]
  },
  {
   "cell_type": "code",
   "execution_count": null,
   "metadata": {},
   "outputs": [],
   "source": [
    "metadata = pd.read_excel(\"/media/andres/T7 Shield1/UCAN_project/Finalized_dataset_1805_exams_with_Age.xlsx\")\n",
    "print(metadata.columns)\n",
    "metadata.head(2)"
   ]
  },
  {
   "cell_type": "code",
   "execution_count": null,
   "metadata": {},
   "outputs": [],
   "source": [
    "metadata = metadata[[\"npr\", \"scan_date\", \"patient_age\"]]\n",
    "print(metadata.shape)\n",
    "metadata.drop_duplicates(inplace=True)\n",
    "print(metadata.shape)\n",
    "metadata.head(2)"
   ]
  },
  {
   "cell_type": "code",
   "execution_count": null,
   "metadata": {},
   "outputs": [],
   "source": [
    "final = pd.merge(data, metadata, how=\"inner\", left_on=[\"patient_ID\", \"scan_date\"], right_on=[\"npr\", \"scan_date\"], suffixes=[\"_l\",\"_r\"])\n",
    "final.head(2)"
   ]
  },
  {
   "cell_type": "code",
   "execution_count": null,
   "metadata": {},
   "outputs": [],
   "source": [
    "final_data = final.drop(columns=[\"npr\"])"
   ]
  },
  {
   "cell_type": "code",
   "execution_count": null,
   "metadata": {},
   "outputs": [],
   "source": [
    "final_data.head()"
   ]
  },
  {
   "cell_type": "code",
   "execution_count": null,
   "metadata": {},
   "outputs": [],
   "source": [
    "final_data.to_excel(\"/media/andres/T7 Shield1/UCAN_project/dataset_for_training_regression.xlsx\", index=False)"
   ]
  },
  {
   "cell_type": "markdown",
   "metadata": {},
   "source": []
  },
  {
   "cell_type": "markdown",
   "metadata": {},
   "source": [
    "##### EXTRA CODE"
   ]
  },
  {
   "cell_type": "code",
   "execution_count": null,
   "metadata": {},
   "outputs": [],
   "source": [
    "testing = pd.read_excel(\"/media/andres/T7 Shield1/UCAN_project/dataset_for_training_regression.xlsx\")"
   ]
  },
  {
   "cell_type": "code",
   "execution_count": null,
   "metadata": {},
   "outputs": [],
   "source": [
    "testing"
   ]
  },
  {
   "cell_type": "code",
   "execution_count": null,
   "metadata": {},
   "outputs": [],
   "source": [
    "sort_test = testing.sort_values(by=\"patient_ID\")\n",
    "final_test = sort_test.drop(columns=\"Unnamed: 0\").reset_index(drop=True)\n",
    "final_test"
   ]
  },
  {
   "cell_type": "code",
   "execution_count": null,
   "metadata": {},
   "outputs": [],
   "source": [
    "train_data = final_test[:int(final_test.shape[0] * 0.7)].patient_ID.tolist()\n",
    "train = final_test[final_test.patient_ID.isin(train_data)]\n",
    "val = final_test[~final_test.patient_ID.isin(train_data)]"
   ]
  },
  {
   "cell_type": "code",
   "execution_count": null,
   "metadata": {},
   "outputs": [],
   "source": [
    "train.shape"
   ]
  },
  {
   "cell_type": "code",
   "execution_count": null,
   "metadata": {},
   "outputs": [],
   "source": [
    "val.shape"
   ]
  },
  {
   "cell_type": "code",
   "execution_count": null,
   "metadata": {},
   "outputs": [],
   "source": [
    "train[\"patient_age\"].nunique()"
   ]
  },
  {
   "cell_type": "code",
   "execution_count": null,
   "metadata": {},
   "outputs": [],
   "source": [
    "output_path = \"/media/andres/T7 Shield1/UCAN_project/collages/\"\n",
    "df_for_collages = pd.read_excel(\"/media/andres/T7 Shield1/UCAN_project/df_for_collages.xlsx\")\n",
    "df_for_collages.shape"
   ]
  },
  {
   "cell_type": "code",
   "execution_count": null,
   "metadata": {},
   "outputs": [],
   "source": [
    "df_for_collages[\"patient_ID\"].nunique()"
   ]
  },
  {
   "cell_type": "code",
   "execution_count": null,
   "metadata": {},
   "outputs": [],
   "source": [
    "df_for_collages[\"scan_date\"].nunique()"
   ]
  },
  {
   "cell_type": "markdown",
   "metadata": {},
   "source": [
    "### Updating file names for new system"
   ]
  },
  {
   "cell_type": "markdown",
   "metadata": {},
   "source": [
    "##### regression"
   ]
  },
  {
   "cell_type": "code",
   "execution_count": null,
   "metadata": {},
   "outputs": [],
   "source": [
    "testing = pd.read_excel(\"/home/ashish/Ashish/UCAN/ReshapedCollages/dataset_for_model_training.xlsx\")"
   ]
  },
  {
   "cell_type": "code",
   "execution_count": null,
   "metadata": {},
   "outputs": [],
   "source": [
    "display_full(testing.head(2))"
   ]
  },
  {
   "cell_type": "code",
   "execution_count": null,
   "metadata": {},
   "outputs": [],
   "source": [
    "testing = testing.replace('/media/andres/T7 Shield1/UCAN_project/collages', '/home/ashish/Ashish/UCAN/ReshapedCollages/collages/reshaped_collages', regex=True)\n",
    "display_full(testing.head(2))"
   ]
  },
  {
   "cell_type": "code",
   "execution_count": null,
   "metadata": {},
   "outputs": [],
   "source": [
    "testing.drop(columns='Unnamed: 0', inplace=True)\n",
    "display_full(testing.head(2))"
   ]
  },
  {
   "cell_type": "code",
   "execution_count": null,
   "metadata": {},
   "outputs": [],
   "source": [
    "testing.to_excel(\"/home/ashish/Ashish/UCAN/ReshapedCollages/dataset_for_model_training_v1.xlsx\", index=False)"
   ]
  },
  {
   "cell_type": "markdown",
   "metadata": {},
   "source": [
    "##### classification"
   ]
  },
  {
   "cell_type": "code",
   "execution_count": null,
   "metadata": {},
   "outputs": [],
   "source": [
    "#classification_data = pd.read_excel(\"/home/ashish/Ashish/UCAN/dataset_for_training_classification.xlsx\")\n",
    "classification_data = pd.read_excel(\"/home/ashish/Ashish/UCAN/ReshapedCollages/dataset_for_model_training.xlsx\")\n",
    "classification_data.shape"
   ]
  },
  {
   "cell_type": "code",
   "execution_count": null,
   "metadata": {},
   "outputs": [],
   "source": [
    "display_full(classification_data.head(2))"
   ]
  },
  {
   "cell_type": "code",
   "execution_count": null,
   "metadata": {},
   "outputs": [],
   "source": [
    "classification_data = classification_data.replace('/media/andres/T7 Shield1/UCAN_project', '/home/ashish/Ashish/UCAN/ReshapedCollages', regex=True)\n",
    "#classification_data.drop(columns=[\"patient_age\"], inplace=True)\n",
    "classification_data.patient_ID = classification_data.patient_ID.str.replace(\" \",\"\")\n",
    "display_full(classification_data.head(2))"
   ]
  },
  {
   "cell_type": "code",
   "execution_count": null,
   "metadata": {},
   "outputs": [],
   "source": [
    "classification_data.shape"
   ]
  },
  {
   "cell_type": "code",
   "execution_count": null,
   "metadata": {},
   "outputs": [],
   "source": [
    "#clinicaldata_path = \"/home/ashish/Ashish/UCAN/U-CAN Lymfom - Ahlström 211021 - utlämnat_pnr_removed.xlsx\"\n",
    "clinicaldata_path = \"/home/ashish/Ashish/UCAN/20231129_UCAN_lym_export/Lymphoma_Octopus_Export 2023-11-29_C80_only_n1291_incl_YYYY_MM_pnr_removed.xlsx\"\n",
    "clinical_data = pd.read_excel(clinicaldata_path, header=0)\n",
    "print(clinical_data.columns)\n",
    "clinical_data = clinical_data.sort_values(\"personReference\")\n",
    "clinical_data = clinical_data[[\"personReference\", \"BirthYear\", \"BirthMonth\", \"consentDate\", \"translatedDiagnosis\", \"sex\"]].copy()\n",
    "clinical_data.columns = clinical_data.columns.str.strip()\n",
    "clinical_data.npr = clinical_data.personReference.str.replace(\" \",\"\")\n",
    "print(clinical_data.shape)\n",
    "print(clinical_data.npr.nunique())\n",
    "display_full(clinical_data.head(2))"
   ]
  },
  {
   "cell_type": "code",
   "execution_count": null,
   "metadata": {},
   "outputs": [],
   "source": [
    "classification_data_v1 = pd.merge(classification_data, clinical_data, how=\"inner\", left_on=[\"patient_ID\"], right_on=[\"personReference\"], suffixes=['','_'])\n",
    "print(classification_data_v1.shape)\n",
    "display_full(classification_data_v1.head(2))"
   ]
  },
  {
   "cell_type": "code",
   "execution_count": null,
   "metadata": {},
   "outputs": [],
   "source": [
    "classification_data_v1.personReference.nunique()"
   ]
  },
  {
   "cell_type": "code",
   "execution_count": null,
   "metadata": {},
   "outputs": [],
   "source": [
    "classification_data_v1[\"diagnosis_groups\"] = classification_data_v1[\"translatedDiagnosis\"].apply(lambda x: x[:3])\n",
    "#[\"diaGroups_GT\"] = np.where(classification_data_v1[\"diaGroups_new\"]==\"C83\", 1, np.where(classification_data_v1[\"diaGroups_new\"]==\"C81\", 2, 3))"
   ]
  },
  {
   "cell_type": "code",
   "execution_count": null,
   "metadata": {},
   "outputs": [],
   "source": [
    "classification_data_v1.groupby(\"diagnosis_groups\")['patient_ID'].nunique().sort_values(ascending=False)"
   ]
  },
  {
   "cell_type": "code",
   "execution_count": null,
   "metadata": {},
   "outputs": [],
   "source": [
    "classification_data_v1[\"patientDOB\"] = classification_data_v1.apply(lambda x: str(x[\"BirthYear\"]) + (str(x[\"BirthMonth\"]) if len(str(x[\"BirthMonth\"]))>1 else \"0\" + str(x[\"BirthMonth\"])) + \"15\", axis=1)\n",
    "classification_data_v1[[\"scan_date\", \"patientDOB\"]][:5]"
   ]
  },
  {
   "cell_type": "code",
   "execution_count": null,
   "metadata": {},
   "outputs": [],
   "source": [
    "from datetime import date\n",
    "\n",
    "classification_data_v1[\"scan_date\"] = pd.to_datetime(classification_data_v1[\"scan_date\"], format=\"%Y%m%d\")\n",
    "classification_data_v1[\"patientDOB\"] = pd.to_datetime(classification_data_v1[\"patientDOB\"], format=\"%Y%m%d\")\n",
    "classification_data_v1[\"consentDate\"] = pd.to_datetime(classification_data_v1[\"consentDate\"], format=\"%Y-%m-%d\")\n",
    "classification_data_v1[[\"patientDOB\", \"scan_date\", \"consentDate\"]][:5]"
   ]
  },
  {
   "cell_type": "code",
   "execution_count": null,
   "metadata": {},
   "outputs": [],
   "source": [
    "def calculateAge(dob, scan_date):\n",
    "    return scan_date.year - dob.year - ((scan_date.month, scan_date.day) < (dob.month, dob.day))"
   ]
  },
  {
   "cell_type": "code",
   "execution_count": null,
   "metadata": {},
   "outputs": [],
   "source": [
    "classification_data_v1[\"age\"] = classification_data_v1.apply(lambda x: calculateAge(x[\"patientDOB\"], x[\"scan_date\"]), axis=1)\n",
    "classification_data_v1[[\"patientDOB\", \"scan_date\", \"age\"]][:5]"
   ]
  },
  {
   "cell_type": "code",
   "execution_count": null,
   "metadata": {},
   "outputs": [],
   "source": [
    "classification_data_v1[\"diff_date (abs(sd-cd))\"] = classification_data_v1.apply(lambda x: abs((x[\"scan_date\"] - x[\"consentDate\"])/np.timedelta64(1, 'D')), axis=1)"
   ]
  },
  {
   "cell_type": "code",
   "execution_count": null,
   "metadata": {},
   "outputs": [],
   "source": [
    "display_full(classification_data_v1)"
   ]
  },
  {
   "cell_type": "code",
   "execution_count": null,
   "metadata": {},
   "outputs": [],
   "source": [
    "classification_data_v1.columns"
   ]
  },
  {
   "cell_type": "code",
   "execution_count": null,
   "metadata": {},
   "outputs": [],
   "source": [
    "classification_data_v2 = classification_data_v1[['patient_ID', 'patientDOB', 'scan_date', 'consentDate', 'diff_date (abs(sd-cd))', 'sex', 'patient_age', 'diagnosis_groups', \n",
    "                                                 'translatedDiagnosis', 'SUV_MIP', 'CT_MIP', 'SUV_bone', 'CT_bone', 'SUV_lean', 'CT_lean', 'SUV_adipose', \n",
    "                                                 'CT_adipose', 'SUV_air', 'CT_air']].copy()\n",
    "classification_data_v2 = classification_data_v2.rename(columns={'patientDOB':'dob', 'patient_age':'age', 'consentDate':'consent_date', 'translatedDiagnosis':'diagnosis'})\n",
    "classification_data_v2 = classification_data_v2.sort_values([\"patient_ID\", \"scan_date\"])\n",
    "display_full(classification_data_v2.head(4))"
   ]
  },
  {
   "cell_type": "code",
   "execution_count": null,
   "metadata": {},
   "outputs": [],
   "source": [
    "display_full(classification_data_v2)"
   ]
  },
  {
   "cell_type": "code",
   "execution_count": null,
   "metadata": {},
   "outputs": [],
   "source": [
    "classification_data_v2.patient_ID.nunique()"
   ]
  },
  {
   "cell_type": "code",
   "execution_count": null,
   "metadata": {},
   "outputs": [],
   "source": [
    "#classification_data_v2[classification_data_v2.age != classification_data_v2.patient_age]"
   ]
  },
  {
   "cell_type": "code",
   "execution_count": null,
   "metadata": {},
   "outputs": [],
   "source": [
    "classification_data_v2.to_excel(\"/home/ashish/Ashish/UCAN/dataset_for_training_366patients_clinical20231129.xlsx\", index=False)"
   ]
  },
  {
   "cell_type": "code",
   "execution_count": null,
   "metadata": {},
   "outputs": [],
   "source": []
  },
  {
   "cell_type": "markdown",
   "metadata": {},
   "source": [
    "### select baseline scans with closest date to consent date"
   ]
  },
  {
   "cell_type": "code",
   "execution_count": null,
   "metadata": {},
   "outputs": [],
   "source": [
    "classification_data_v3 = classification_data_v2.copy()\n",
    "display_full(classification_data_v3.head(3))"
   ]
  },
  {
   "cell_type": "code",
   "execution_count": null,
   "metadata": {},
   "outputs": [],
   "source": [
    "classification_data_v3[\"rank\"] = classification_data_v3.groupby(\"patient_ID\")[\"diff_date (abs(sd-cd))\"].rank(method=\"min\", ascending=True)\n",
    "display_full(classification_data_v3[['patient_ID', 'dob', 'scan_date', 'consent_date', 'diff_date (abs(sd-cd))', \"rank\"]].sort_values([\"patient_ID\",\"rank\"]))"
   ]
  },
  {
   "cell_type": "code",
   "execution_count": null,
   "metadata": {},
   "outputs": [],
   "source": [
    "df1 = classification_data_v3[classification_data_v3[\"rank\"]==1].copy()\n",
    "df1.drop(columns=\"rank\", inplace=True)\n",
    "df1.shape"
   ]
  },
  {
   "cell_type": "code",
   "execution_count": null,
   "metadata": {},
   "outputs": [],
   "source": [
    "nan_df = classification_data_v3[classification_data_v3[\"rank\"].isin([np.nan])].copy()\n",
    "nan_df[\"rank1\"] = nan_df.groupby(\"patient_ID\")[\"scan_date\"].rank(method=\"first\", ascending=False)\n",
    "nan_df[[\"patient_ID\", \"scan_date\", \"rank1\"]]"
   ]
  },
  {
   "cell_type": "code",
   "execution_count": null,
   "metadata": {},
   "outputs": [],
   "source": [
    "df2 = nan_df[nan_df[\"rank1\"]==1].copy()\n",
    "df2.drop(columns=[\"rank\", \"rank1\"], inplace=True)\n",
    "df2.head(2)"
   ]
  },
  {
   "cell_type": "code",
   "execution_count": null,
   "metadata": {},
   "outputs": [],
   "source": [
    "classification_data_v4 = pd.concat([df1,df2], ignore_index=True).reset_index(drop=True)\n",
    "print(classification_data_v4.shape)\n",
    "display_full(classification_data_v4.head())"
   ]
  },
  {
   "cell_type": "code",
   "execution_count": null,
   "metadata": {},
   "outputs": [],
   "source": [
    "classification_data_v4.to_excel(\"/home/ashish/Ashish/UCAN/dataset_for_training_366patients_baseline_scans_clinical20231129.xlsx\", index=False)"
   ]
  },
  {
   "cell_type": "code",
   "execution_count": null,
   "metadata": {},
   "outputs": [],
   "source": []
  },
  {
   "cell_type": "markdown",
   "metadata": {},
   "source": [
    "### remove nan"
   ]
  },
  {
   "cell_type": "code",
   "execution_count": null,
   "metadata": {},
   "outputs": [],
   "source": [
    "images_with_nan_values = classification_data_v1.copy()\n",
    "images_with_nan_values['incorrect_projection'] = 'False'\n",
    "\n",
    "# Loop through each row of the dataset and check if there are any arrays with NaN values in them\n",
    "for index, row in images_with_nan_values.iterrows():\n",
    "    arr = np.load(row[\"SUV_MIP\"])\n",
    "    if np.isnan(arr).any():\n",
    "        images_with_nan_values.at[index, 'incorrect_projection'] = 'True'\n",
    "        print(row[\"SUV_MIP\"])\n",
    "        continue\n",
    "\n",
    "    arr = np.load(row[\"SUV_bone\"])\n",
    "    if np.isnan(arr).any():\n",
    "        images_with_nan_values.at[index, 'incorrect_projection'] = 'True'\n",
    "        print(row[\"SUV_bone\"])\n",
    "        continue\n",
    "        \n",
    "    arr = np.load(row[\"SUV_lean\"])\n",
    "    if np.isnan(arr).any():\n",
    "        images_with_nan_values.at[index, 'incorrect_projection'] = 'True'\n",
    "        print(row[\"SUV_lean\"])\n",
    "        continue\n",
    "        \n",
    "    arr = np.load(row[\"SUV_adipose\"])\n",
    "    if np.isnan(arr).any():\n",
    "        images_with_nan_values.at[index, 'incorrect_projection'] = 'True'\n",
    "        print(row[\"SUV_adipose\"])\n",
    "        continue\n",
    "        \n",
    "    arr = np.load(row[\"SUV_air\"])\n",
    "    if np.isnan(arr).any():\n",
    "        images_with_nan_values.at[index, 'incorrect_projection'] = 'True'\n",
    "        print(row[\"SUV_air\"])\n",
    "        continue\n",
    "        \n",
    "    arr = np.load(row[\"CT_MIP\"])\n",
    "    if np.isnan(arr).any():\n",
    "        images_with_nan_values.at[index, 'incorrect_projection'] = 'True'\n",
    "        print(row[\"CT_MIP\"])\n",
    "        continue\n",
    "        \n",
    "    arr = np.load(row[\"CT_bone\"])\n",
    "    if np.isnan(arr).any():\n",
    "        images_with_nan_values.at[index, 'incorrect_projection'] = 'True'\n",
    "        print(row[\"CT_bone\"])\n",
    "        continue\n",
    "        \n",
    "    arr = np.load(row[\"CT_lean\"])\n",
    "    if np.isnan(arr).any():\n",
    "        images_with_nan_values.at[index, 'incorrect_projection'] = 'True'\n",
    "        print(row[\"CT_lean\"])\n",
    "        continue\n",
    "        \n",
    "    arr = np.load(row[\"CT_adipose\"])\n",
    "    if np.isnan(arr).any():\n",
    "        images_with_nan_values.at[index, 'incorrect_projection'] = 'True'\n",
    "        print(row[\"CT_adipose\"])\n",
    "        continue\n",
    "        \n",
    "    arr = np.load(row[\"CT_air\"])\n",
    "    if np.isnan(arr).any():\n",
    "        images_with_nan_values.at[index, 'incorrect_projection'] = 'True'\n",
    "        print(row[\"CT_air\"])\n",
    "        continue\n",
    "\n",
    "display_full(images_with_nan_values[images_with_nan_values['incorrect_projection'] == 'True'])"
   ]
  },
  {
   "cell_type": "code",
   "execution_count": null,
   "metadata": {},
   "outputs": [],
   "source": [
    "classification_data_v2 = images_with_nan_values[images_with_nan_values['incorrect_projection'] == 'False'].copy()\n",
    "classification_data_v2 = classification_data_v2[classification_data_v2.sex.isin([\"MALE\", \"FEMALE\"])].copy()\n",
    "\n",
    "classification_data_v2['sex'] = np.where(classification_data_v2['sex']==\"MALE\", 1, 0)\n",
    "\n",
    "classification_data_v2.to_excel(\"/home/ashish/Ashish/UCAN/dataset_for_training_classification_v2.xlsx\", index=False)"
   ]
  },
  {
   "cell_type": "code",
   "execution_count": null,
   "metadata": {},
   "outputs": [],
   "source": [
    "classification_data_v2.npr.nunique()"
   ]
  },
  {
   "cell_type": "code",
   "execution_count": null,
   "metadata": {},
   "outputs": [],
   "source": [
    "classification_data_v2 = classification_data_v1[classification_data_v1.sex.isin([\"MALE\", \"FEMALE\"])].copy()\n",
    "\n",
    "classification_data_v2['sex'] = np.where(classification_data_v2['sex']==\"MALE\", 1, 0)\n",
    "display_full(classification_data_v2.head(2))\n",
    "classification_data_v2.to_excel(\"/home/ashish/Ashish/UCAN/ReshapedCollages/dataset_for_training_classification_v2.xlsx\", index=False)"
   ]
  },
  {
   "cell_type": "code",
   "execution_count": null,
   "metadata": {},
   "outputs": [],
   "source": [
    "classification_data_v2.sex.value_counts()\n",
    "classification_data_v2"
   ]
  },
  {
   "cell_type": "code",
   "execution_count": null,
   "metadata": {},
   "outputs": [],
   "source": [
    "df= pd.read_excel(\"/home/ashish/Ashish/UCAN/ReshapedCollages/dataset_for_training_classification_v2.xlsx\")\n",
    "df.columns"
   ]
  },
  {
   "cell_type": "code",
   "execution_count": null,
   "metadata": {},
   "outputs": [],
   "source": [
    "df[\"D_group\"] = df[\"Diagnosis\"].apply(lambda x: x[:3])\n",
    "df.head(3)"
   ]
  },
  {
   "cell_type": "code",
   "execution_count": null,
   "metadata": {},
   "outputs": [],
   "source": [
    "df.groupby(\"D_group\")['npr'].nunique().sort_values(ascending=False)"
   ]
  },
  {
   "cell_type": "code",
   "execution_count": null,
   "metadata": {},
   "outputs": [],
   "source": [
    "86+25+5+4+3+3+2+1+1"
   ]
  },
  {
   "cell_type": "code",
   "execution_count": null,
   "metadata": {},
   "outputs": [],
   "source": [
    "display_full(df.groupby(\"Diagnosis\")['npr'].nunique().sort_values(ascending=False))"
   ]
  },
  {
   "cell_type": "code",
   "execution_count": null,
   "metadata": {},
   "outputs": [],
   "source": [
    "display_full(df.Diagnosis.value_counts())"
   ]
  },
  {
   "cell_type": "code",
   "execution_count": 2,
   "metadata": {},
   "outputs": [],
   "source": [
    "df = pd.read_excel(\"/media/andres/T7 Shield1/UCAN_project/dataset_for_model_classification_training.xlsx\")"
   ]
  },
  {
   "cell_type": "code",
   "execution_count": 3,
   "metadata": {},
   "outputs": [],
   "source": [
    "df = df[\"patient_ID\"]"
   ]
  },
  {
   "cell_type": "code",
   "execution_count": 4,
   "metadata": {},
   "outputs": [
    {
     "data": {
      "text/plain": [
       "364"
      ]
     },
     "execution_count": 4,
     "metadata": {},
     "output_type": "execute_result"
    }
   ],
   "source": [
    "df.nunique()"
   ]
  },
  {
   "cell_type": "code",
   "execution_count": 5,
   "metadata": {},
   "outputs": [
    {
     "data": {
      "text/plain": [
       "(720,)"
      ]
     },
     "execution_count": 5,
     "metadata": {},
     "output_type": "execute_result"
    },
    {
     "ename": "",
     "evalue": "",
     "output_type": "error",
     "traceback": [
      "\u001b[1;31mThe Kernel crashed while executing code in the the current cell or a previous cell. Please review the code in the cell(s) to identify a possible cause of the failure. Click <a href='https://aka.ms/vscodeJupyterKernelCrash'>here</a> for more info. View Jupyter <a href='command:jupyter.viewOutput'>log</a> for further details."
     ]
    }
   ],
   "source": [
    "df.shape"
   ]
  },
  {
   "cell_type": "code",
   "execution_count": 3,
   "metadata": {},
   "outputs": [
    {
     "data": {
      "text/plain": [
       "Index(['Unnamed: 0', 'Unnamed: 0_x', 'directory', 'source_directory',\n",
       "       'patient_directory', 'PET-CT_info', 'system', 'npr', 'scan_date',\n",
       "       'Unnamed: 0_y', 'dicom_img', 'patient_id', 'patient_age',\n",
       "       'patient_weight', 'patient_size', 'imgsz_x', 'imgsz_y', 'num_slices',\n",
       "       'voxsz_x', 'voxsz_y', 'slice_thickness', 'image_size', 'voxel_size',\n",
       "       'img_pos', 'img_orient', 'for_uid', 'att_corr', 'recons_method',\n",
       "       'image_type', 'aquisition_dt', 'aquisition_time', 'study_desc',\n",
       "       'series_desc', 'protocol', 'corr_img', 'modality', 'manufacturer',\n",
       "       'manufacturer_model', 'radiopharmaceutical',\n",
       "       'radiopharmaceutical_volume', 'radiopharmaceutical_start_time',\n",
       "       'radionuclide_total_dose', 'radionuclide_half_life',\n",
       "       'radionuclide_positron_fraction',\n",
       "       'radiopharmaceutical_start_date_time'],\n",
       "      dtype='object')"
      ]
     },
     "execution_count": 3,
     "metadata": {},
     "output_type": "execute_result"
    }
   ],
   "source": [
    "finalized_dataset = pd.read_excel(\"/media/andres/T7 Shield1/UCAN_project/Finalized_dataset.xlsx\")\n",
    "finalized_dataset.columns"
   ]
  },
  {
   "cell_type": "code",
   "execution_count": 7,
   "metadata": {},
   "outputs": [],
   "source": [
    "finalized_dataset = finalized_dataset.drop(columns=['Unnamed: 0', 'Unnamed: 0_x', 'Unnamed: 0_y'])"
   ]
  },
  {
   "cell_type": "code",
   "execution_count": 8,
   "metadata": {},
   "outputs": [
    {
     "data": {
      "text/plain": [
       "Index(['directory', 'source_directory', 'patient_directory', 'PET-CT_info',\n",
       "       'system', 'npr', 'scan_date', 'dicom_img', 'patient_id', 'patient_age',\n",
       "       'patient_weight', 'patient_size', 'imgsz_x', 'imgsz_y', 'num_slices',\n",
       "       'voxsz_x', 'voxsz_y', 'slice_thickness', 'image_size', 'voxel_size',\n",
       "       'img_pos', 'img_orient', 'for_uid', 'att_corr', 'recons_method',\n",
       "       'image_type', 'aquisition_dt', 'aquisition_time', 'study_desc',\n",
       "       'series_desc', 'protocol', 'corr_img', 'modality', 'manufacturer',\n",
       "       'manufacturer_model', 'radiopharmaceutical',\n",
       "       'radiopharmaceutical_volume', 'radiopharmaceutical_start_time',\n",
       "       'radionuclide_total_dose', 'radionuclide_half_life',\n",
       "       'radionuclide_positron_fraction',\n",
       "       'radiopharmaceutical_start_date_time'],\n",
       "      dtype='object')"
      ]
     },
     "execution_count": 8,
     "metadata": {},
     "output_type": "execute_result"
    }
   ],
   "source": [
    "finalized_dataset.columns"
   ]
  },
  {
   "cell_type": "code",
   "execution_count": 13,
   "metadata": {},
   "outputs": [],
   "source": [
    "finalized_dataset = finalized_dataset.sort_values(by=\"scan_date\")\n",
    "finalized_dataset['scan_date'] = finalized_dataset['scan_date'].astype(str)\n",
    "finalized_dataset['unique_patient_ID_scan_date'] = finalized_dataset['npr'] + '_' + finalized_dataset['scan_date']\n",
    "finalized_dataset = finalized_dataset.drop(columns=['npr', 'scan_date'])"
   ]
  },
  {
   "cell_type": "code",
   "execution_count": 14,
   "metadata": {},
   "outputs": [
    {
     "data": {
      "text/plain": [
       "Index(['directory', 'source_directory', 'patient_directory', 'PET-CT_info',\n",
       "       'system', 'dicom_img', 'patient_id', 'patient_age', 'patient_weight',\n",
       "       'patient_size', 'imgsz_x', 'imgsz_y', 'num_slices', 'voxsz_x',\n",
       "       'voxsz_y', 'slice_thickness', 'image_size', 'voxel_size', 'img_pos',\n",
       "       'img_orient', 'for_uid', 'att_corr', 'recons_method', 'image_type',\n",
       "       'aquisition_dt', 'aquisition_time', 'study_desc', 'series_desc',\n",
       "       'protocol', 'corr_img', 'modality', 'manufacturer',\n",
       "       'manufacturer_model', 'radiopharmaceutical',\n",
       "       'radiopharmaceutical_volume', 'radiopharmaceutical_start_time',\n",
       "       'radionuclide_total_dose', 'radionuclide_half_life',\n",
       "       'radionuclide_positron_fraction', 'radiopharmaceutical_start_date_time',\n",
       "       'unique_patient_ID_scan_date'],\n",
       "      dtype='object')"
      ]
     },
     "execution_count": 14,
     "metadata": {},
     "output_type": "execute_result"
    }
   ],
   "source": [
    "finalized_dataset.columns"
   ]
  },
  {
   "cell_type": "code",
   "execution_count": 19,
   "metadata": {},
   "outputs": [],
   "source": [
    "cols = finalized_dataset.columns.tolist()\n",
    "cols = cols[-1:] + cols[:-1]\n",
    "finalized_dataset = finalized_dataset[cols]"
   ]
  },
  {
   "cell_type": "code",
   "execution_count": 22,
   "metadata": {},
   "outputs": [
    {
     "data": {
      "text/html": [
       "<div>\n",
       "<style scoped>\n",
       "    .dataframe tbody tr th:only-of-type {\n",
       "        vertical-align: middle;\n",
       "    }\n",
       "\n",
       "    .dataframe tbody tr th {\n",
       "        vertical-align: top;\n",
       "    }\n",
       "\n",
       "    .dataframe thead th {\n",
       "        text-align: right;\n",
       "    }\n",
       "</style>\n",
       "<table border=\"1\" class=\"dataframe\">\n",
       "  <thead>\n",
       "    <tr style=\"text-align: right;\">\n",
       "      <th></th>\n",
       "      <th>unique_patient_ID_scan_date</th>\n",
       "      <th>directory</th>\n",
       "      <th>source_directory</th>\n",
       "      <th>patient_directory</th>\n",
       "      <th>PET-CT_info</th>\n",
       "      <th>system</th>\n",
       "      <th>dicom_img</th>\n",
       "      <th>patient_id</th>\n",
       "      <th>patient_age</th>\n",
       "      <th>patient_weight</th>\n",
       "      <th>...</th>\n",
       "      <th>modality</th>\n",
       "      <th>manufacturer</th>\n",
       "      <th>manufacturer_model</th>\n",
       "      <th>radiopharmaceutical</th>\n",
       "      <th>radiopharmaceutical_volume</th>\n",
       "      <th>radiopharmaceutical_start_time</th>\n",
       "      <th>radionuclide_total_dose</th>\n",
       "      <th>radionuclide_half_life</th>\n",
       "      <th>radionuclide_positron_fraction</th>\n",
       "      <th>radiopharmaceutical_start_date_time</th>\n",
       "    </tr>\n",
       "  </thead>\n",
       "  <tbody>\n",
       "    <tr>\n",
       "      <th>2114</th>\n",
       "      <td>npr601608371367_20100224</td>\n",
       "      <td>/media/andres/T7 Shield/ucan_lymfom/ASPTCTX000...</td>\n",
       "      <td>/media/andres/T7 Shield/ucan_lymfom</td>\n",
       "      <td>ASPTCTX0001_npr601608371367-20100224</td>\n",
       "      <td>CT-20100224-105104-6.3_UAS-WB-FDG-3D-STANDARD_...</td>\n",
       "      <td>ASPTCTX0001</td>\n",
       "      <td>1.2.840.113619.2.55.3.4240671514.813.126691121...</td>\n",
       "      <td>npr601608371367</td>\n",
       "      <td>74.0</td>\n",
       "      <td>'68.0'</td>\n",
       "      <td>...</td>\n",
       "      <td>CT</td>\n",
       "      <td>'GE MEDICAL SYSTEMS'</td>\n",
       "      <td>'Discovery STE'</td>\n",
       "      <td>NaN</td>\n",
       "      <td>NaN</td>\n",
       "      <td>NaN</td>\n",
       "      <td>NaN</td>\n",
       "      <td>NaN</td>\n",
       "      <td>NaN</td>\n",
       "      <td>NaN</td>\n",
       "    </tr>\n",
       "    <tr>\n",
       "      <th>2115</th>\n",
       "      <td>npr601608371367_20100224</td>\n",
       "      <td>/media/andres/T7 Shield/ucan_lymfom/ASPTCTX000...</td>\n",
       "      <td>/media/andres/T7 Shield/ucan_lymfom</td>\n",
       "      <td>ASPTCTX0001_npr601608371367-20100224</td>\n",
       "      <td>PT-20100224-105256-UAS-WB-FDG-3D-UAS-WB-FDG-3D...</td>\n",
       "      <td>ASPTCTX0001</td>\n",
       "      <td>1.2.840.113619.2.131.4240671514.1267006537.774891</td>\n",
       "      <td>npr601608371367</td>\n",
       "      <td>74.0</td>\n",
       "      <td>'68.0'</td>\n",
       "      <td>...</td>\n",
       "      <td>PT</td>\n",
       "      <td>'GE MEDICAL SYSTEMS'</td>\n",
       "      <td>'Discovery STE'</td>\n",
       "      <td>'FDG -- fluorodeoxyglucose'</td>\n",
       "      <td>'0.0'</td>\n",
       "      <td>'094500.00'</td>\n",
       "      <td>'335003968.0'</td>\n",
       "      <td>'6588.0'</td>\n",
       "      <td>'0.97000002861023'</td>\n",
       "      <td>'20100224094500.00'</td>\n",
       "    </tr>\n",
       "    <tr>\n",
       "      <th>2276</th>\n",
       "      <td>npr642326741392_20100301</td>\n",
       "      <td>/media/andres/T7 Shield/ucan_lymfom/ASPTCTX000...</td>\n",
       "      <td>/media/andres/T7 Shield/ucan_lymfom</td>\n",
       "      <td>ASPTCTX0001_npr642326741392-20100301</td>\n",
       "      <td>CT-20100301-103244-6.3_UAS-WB-FDG-3D-STANDARD_...</td>\n",
       "      <td>ASPTCTX0001</td>\n",
       "      <td>1.2.840.113619.2.55.3.4240671514.761.126710894...</td>\n",
       "      <td>npr642326741392</td>\n",
       "      <td>59.0</td>\n",
       "      <td>'88.0'</td>\n",
       "      <td>...</td>\n",
       "      <td>CT</td>\n",
       "      <td>'GE MEDICAL SYSTEMS'</td>\n",
       "      <td>'Discovery STE'</td>\n",
       "      <td>NaN</td>\n",
       "      <td>NaN</td>\n",
       "      <td>NaN</td>\n",
       "      <td>NaN</td>\n",
       "      <td>NaN</td>\n",
       "      <td>NaN</td>\n",
       "      <td>NaN</td>\n",
       "    </tr>\n",
       "    <tr>\n",
       "      <th>2277</th>\n",
       "      <td>npr642326741392_20100301</td>\n",
       "      <td>/media/andres/T7 Shield/ucan_lymfom/ASPTCTX000...</td>\n",
       "      <td>/media/andres/T7 Shield/ucan_lymfom</td>\n",
       "      <td>ASPTCTX0001_npr642326741392-20100301</td>\n",
       "      <td>PT-20100301-103430-UAS-WB-FDG-3D-UAS-WB-FDG-3D...</td>\n",
       "      <td>ASPTCTX0001</td>\n",
       "      <td>1.2.840.113619.2.131.4240671514.1267437460.235016</td>\n",
       "      <td>npr642326741392</td>\n",
       "      <td>59.0</td>\n",
       "      <td>'88.0'</td>\n",
       "      <td>...</td>\n",
       "      <td>PT</td>\n",
       "      <td>'GE MEDICAL SYSTEMS'</td>\n",
       "      <td>'Discovery STE'</td>\n",
       "      <td>'FDG -- fluorodeoxyglucose'</td>\n",
       "      <td>'0.0'</td>\n",
       "      <td>'092200.00'</td>\n",
       "      <td>'459317088.0'</td>\n",
       "      <td>'6588.0'</td>\n",
       "      <td>'0.97000002861023'</td>\n",
       "      <td>'20100301092200.00'</td>\n",
       "    </tr>\n",
       "    <tr>\n",
       "      <th>3513</th>\n",
       "      <td>npr967652562138_20100730</td>\n",
       "      <td>/media/andres/T7 Shield/ucan_lymfom/ASPTCTX000...</td>\n",
       "      <td>/media/andres/T7 Shield/ucan_lymfom</td>\n",
       "      <td>ASPTCTX0001_npr967652562138-20100730</td>\n",
       "      <td>PT-20100730-094100-UAS-WB-FDG-3D-UAS-WB-FDG-3D...</td>\n",
       "      <td>ASPTCTX0001</td>\n",
       "      <td>1.2.840.113619.2.131.4240671514.1280477184.409224</td>\n",
       "      <td>npr967652562138</td>\n",
       "      <td>29.0</td>\n",
       "      <td>'95.0'</td>\n",
       "      <td>...</td>\n",
       "      <td>PT</td>\n",
       "      <td>'GE MEDICAL SYSTEMS'</td>\n",
       "      <td>'Discovery STE'</td>\n",
       "      <td>'FDG -- fluorodeoxyglucose'</td>\n",
       "      <td>'0.0'</td>\n",
       "      <td>'084100.00'</td>\n",
       "      <td>'492752448.0'</td>\n",
       "      <td>'6588.0'</td>\n",
       "      <td>'0.97000002861023'</td>\n",
       "      <td>'20100730084100.00'</td>\n",
       "    </tr>\n",
       "  </tbody>\n",
       "</table>\n",
       "<p>5 rows × 41 columns</p>\n",
       "</div>"
      ],
      "text/plain": [
       "     unique_patient_ID_scan_date  \\\n",
       "2114    npr601608371367_20100224   \n",
       "2115    npr601608371367_20100224   \n",
       "2276    npr642326741392_20100301   \n",
       "2277    npr642326741392_20100301   \n",
       "3513    npr967652562138_20100730   \n",
       "\n",
       "                                              directory  \\\n",
       "2114  /media/andres/T7 Shield/ucan_lymfom/ASPTCTX000...   \n",
       "2115  /media/andres/T7 Shield/ucan_lymfom/ASPTCTX000...   \n",
       "2276  /media/andres/T7 Shield/ucan_lymfom/ASPTCTX000...   \n",
       "2277  /media/andres/T7 Shield/ucan_lymfom/ASPTCTX000...   \n",
       "3513  /media/andres/T7 Shield/ucan_lymfom/ASPTCTX000...   \n",
       "\n",
       "                         source_directory  \\\n",
       "2114  /media/andres/T7 Shield/ucan_lymfom   \n",
       "2115  /media/andres/T7 Shield/ucan_lymfom   \n",
       "2276  /media/andres/T7 Shield/ucan_lymfom   \n",
       "2277  /media/andres/T7 Shield/ucan_lymfom   \n",
       "3513  /media/andres/T7 Shield/ucan_lymfom   \n",
       "\n",
       "                         patient_directory  \\\n",
       "2114  ASPTCTX0001_npr601608371367-20100224   \n",
       "2115  ASPTCTX0001_npr601608371367-20100224   \n",
       "2276  ASPTCTX0001_npr642326741392-20100301   \n",
       "2277  ASPTCTX0001_npr642326741392-20100301   \n",
       "3513  ASPTCTX0001_npr967652562138-20100730   \n",
       "\n",
       "                                            PET-CT_info       system  \\\n",
       "2114  CT-20100224-105104-6.3_UAS-WB-FDG-3D-STANDARD_...  ASPTCTX0001   \n",
       "2115  PT-20100224-105256-UAS-WB-FDG-3D-UAS-WB-FDG-3D...  ASPTCTX0001   \n",
       "2276  CT-20100301-103244-6.3_UAS-WB-FDG-3D-STANDARD_...  ASPTCTX0001   \n",
       "2277  PT-20100301-103430-UAS-WB-FDG-3D-UAS-WB-FDG-3D...  ASPTCTX0001   \n",
       "3513  PT-20100730-094100-UAS-WB-FDG-3D-UAS-WB-FDG-3D...  ASPTCTX0001   \n",
       "\n",
       "                                              dicom_img       patient_id  \\\n",
       "2114  1.2.840.113619.2.55.3.4240671514.813.126691121...  npr601608371367   \n",
       "2115  1.2.840.113619.2.131.4240671514.1267006537.774891  npr601608371367   \n",
       "2276  1.2.840.113619.2.55.3.4240671514.761.126710894...  npr642326741392   \n",
       "2277  1.2.840.113619.2.131.4240671514.1267437460.235016  npr642326741392   \n",
       "3513  1.2.840.113619.2.131.4240671514.1280477184.409224  npr967652562138   \n",
       "\n",
       "      patient_age patient_weight  ... modality           manufacturer  \\\n",
       "2114         74.0         '68.0'  ...       CT   'GE MEDICAL SYSTEMS'   \n",
       "2115         74.0         '68.0'  ...       PT   'GE MEDICAL SYSTEMS'   \n",
       "2276         59.0         '88.0'  ...       CT   'GE MEDICAL SYSTEMS'   \n",
       "2277         59.0         '88.0'  ...       PT   'GE MEDICAL SYSTEMS'   \n",
       "3513         29.0         '95.0'  ...       PT   'GE MEDICAL SYSTEMS'   \n",
       "\n",
       "      manufacturer_model           radiopharmaceutical  \\\n",
       "2114     'Discovery STE'                           NaN   \n",
       "2115     'Discovery STE'   'FDG -- fluorodeoxyglucose'   \n",
       "2276     'Discovery STE'                           NaN   \n",
       "2277     'Discovery STE'   'FDG -- fluorodeoxyglucose'   \n",
       "3513     'Discovery STE'   'FDG -- fluorodeoxyglucose'   \n",
       "\n",
       "      radiopharmaceutical_volume  radiopharmaceutical_start_time  \\\n",
       "2114                         NaN                             NaN   \n",
       "2115                       '0.0'                     '094500.00'   \n",
       "2276                         NaN                             NaN   \n",
       "2277                       '0.0'                     '092200.00'   \n",
       "3513                       '0.0'                     '084100.00'   \n",
       "\n",
       "      radionuclide_total_dose radionuclide_half_life  \\\n",
       "2114                      NaN                    NaN   \n",
       "2115            '335003968.0'               '6588.0'   \n",
       "2276                      NaN                    NaN   \n",
       "2277            '459317088.0'               '6588.0'   \n",
       "3513            '492752448.0'               '6588.0'   \n",
       "\n",
       "     radionuclide_positron_fraction radiopharmaceutical_start_date_time  \n",
       "2114                            NaN                                 NaN  \n",
       "2115             '0.97000002861023'                 '20100224094500.00'  \n",
       "2276                            NaN                                 NaN  \n",
       "2277             '0.97000002861023'                 '20100301092200.00'  \n",
       "3513             '0.97000002861023'                 '20100730084100.00'  \n",
       "\n",
       "[5 rows x 41 columns]"
      ]
     },
     "execution_count": 22,
     "metadata": {},
     "output_type": "execute_result"
    }
   ],
   "source": [
    "finalized_dataset.head()"
   ]
  },
  {
   "cell_type": "code",
   "execution_count": 23,
   "metadata": {},
   "outputs": [],
   "source": [
    "finalized_dataset.to_excel(\"/media/andres/T7 Shield1/UCAN_project/Finalized_dataset.xlsx\", index=False)\n"
   ]
  },
  {
   "cell_type": "code",
   "execution_count": 10,
   "metadata": {},
   "outputs": [],
   "source": [
    "dataset_with_collages = pd.read_excel(\"/media/andres/T7 Shield1/UCAN_project/df_of_collages_without_nan_arrays.xlsx\")"
   ]
  },
  {
   "cell_type": "code",
   "execution_count": 25,
   "metadata": {},
   "outputs": [
    {
     "data": {
      "text/plain": [
       "Index(['SUV_MIP', 'CT_MIP', 'SUV_bone', 'CT_bone', 'SUV_lean', 'CT_lean',\n",
       "       'SUV_adipose', 'CT_adipose', 'SUV_air', 'CT_air',\n",
       "       'unique_patient_ID_scan_date'],\n",
       "      dtype='object')"
      ]
     },
     "execution_count": 25,
     "metadata": {},
     "output_type": "execute_result"
    }
   ],
   "source": [
    "dataset_with_collages = dataset_with_collages.sort_values(by=\"scan_date\")\n",
    "dataset_with_collages['scan_date'] = dataset_with_collages['scan_date'].astype(str)\n",
    "dataset_with_collages['unique_patient_ID_scan_date'] = dataset_with_collages['patient_ID'] + '_' + dataset_with_collages['scan_date']\n",
    "dataset_with_collages = dataset_with_collages.drop(columns=['patient_ID', 'scan_date'])\n",
    "dataset_with_collages.columns"
   ]
  },
  {
   "cell_type": "code",
   "execution_count": 26,
   "metadata": {},
   "outputs": [],
   "source": [
    "cols = dataset_with_collages.columns.tolist()\n",
    "cols = cols[-1:] + cols[:-1]\n",
    "dataset_with_collages = dataset_with_collages[cols]"
   ]
  },
  {
   "cell_type": "code",
   "execution_count": 27,
   "metadata": {},
   "outputs": [
    {
     "data": {
      "text/plain": [
       "Index(['unique_patient_ID_scan_date', 'SUV_MIP', 'CT_MIP', 'SUV_bone',\n",
       "       'CT_bone', 'SUV_lean', 'CT_lean', 'SUV_adipose', 'CT_adipose',\n",
       "       'SUV_air', 'CT_air'],\n",
       "      dtype='object')"
      ]
     },
     "execution_count": 27,
     "metadata": {},
     "output_type": "execute_result"
    }
   ],
   "source": [
    "dataset_with_collages.columns"
   ]
  },
  {
   "cell_type": "code",
   "execution_count": null,
   "metadata": {},
   "outputs": [],
   "source": [
    "finalized_dataset = finalized_dataset.drop(columns=['directory', 'source_directory', 'patient_directory', 'PET-CT_info', 'patient_id'])"
   ]
  },
  {
   "cell_type": "code",
   "execution_count": 33,
   "metadata": {},
   "outputs": [
    {
     "data": {
      "text/plain": [
       "Index(['unique_patient_ID_scan_date', 'system', 'dicom_img', 'patient_age',\n",
       "       'patient_weight', 'patient_size', 'imgsz_x', 'imgsz_y', 'num_slices',\n",
       "       'voxsz_x', 'voxsz_y', 'slice_thickness', 'image_size', 'voxel_size',\n",
       "       'img_pos', 'img_orient', 'for_uid', 'att_corr', 'recons_method',\n",
       "       'image_type', 'aquisition_dt', 'aquisition_time', 'study_desc',\n",
       "       'series_desc', 'protocol', 'corr_img', 'modality', 'manufacturer',\n",
       "       'manufacturer_model', 'radiopharmaceutical',\n",
       "       'radiopharmaceutical_volume', 'radiopharmaceutical_start_time',\n",
       "       'radionuclide_total_dose', 'radionuclide_half_life',\n",
       "       'radionuclide_positron_fraction',\n",
       "       'radiopharmaceutical_start_date_time'],\n",
       "      dtype='object')"
      ]
     },
     "execution_count": 33,
     "metadata": {},
     "output_type": "execute_result"
    }
   ],
   "source": [
    "finalized_dataset.columns"
   ]
  },
  {
   "cell_type": "markdown",
   "metadata": {},
   "source": [
    "lean_volume, adipose_volume"
   ]
  },
  {
   "cell_type": "code",
   "execution_count": 34,
   "metadata": {},
   "outputs": [],
   "source": [
    "nifti_data = pd.read_excel(\"/media/andres/T7 Shield1/UCAN_project/nifti_dataframe.xlsx\")"
   ]
  },
  {
   "cell_type": "code",
   "execution_count": 36,
   "metadata": {},
   "outputs": [],
   "source": [
    "import SimpleITK as sitk"
   ]
  },
  {
   "cell_type": "code",
   "execution_count": 35,
   "metadata": {},
   "outputs": [],
   "source": [
    "def get_proj_after_mask(img):\n",
    "    \n",
    "    '''\n",
    "\n",
    "    Function to get 3D masks for CT scans to segment out the exact tissue type.\n",
    "\n",
    "    '''\n",
    "\n",
    "    pix_array=sitk.GetArrayFromImage(img)\n",
    "    max_i, min_i=float(pix_array.max()),float(pix_array.min())\n",
    "\n",
    "    #multiply= sitk.MultiplyImageFilter()\n",
    "    #if hu_type == 'Bone' or hu_type == 'bone' or hu_type == 'B':\n",
    "    bone_mask = sitk.BinaryThreshold(\n",
    "    img, lowerThreshold=200, upperThreshold=max_i,insideValue=1, outsideValue=0\n",
    "    )\n",
    "    \n",
    "    constrast_mask = sitk.BinaryThreshold(\n",
    "    img, lowerThreshold=151, upperThreshold=199,insideValue=1, outsideValue=0\n",
    "    )\n",
    "\n",
    "    #bone_mask = multiply.Execute(img,sitk.Cast(seg,img.GetPixelID()))\n",
    "        # path= img_n + r'_{0}_image.nii'.format(modality + '_' + type)\n",
    "        # save_as_gz(op_img,path)\n",
    "    #elif hu_type == 'Lean Tissue' or hu_type == 'lean' or hu_type == 'LT':\n",
    "    lean_mask = sitk.BinaryThreshold(\n",
    "    img, lowerThreshold=-29, upperThreshold=150, insideValue=1, outsideValue=0\n",
    "    )\n",
    "    #lean_mask = multiply.Execute(img,sitk.Cast(seg,img.GetPixelID()))\n",
    "\n",
    "    #elif hu_type == 'Adipose' or hu_type == 'adipose' or hu_type == 'AT':\n",
    "    adipose_mask = sitk.BinaryThreshold(\n",
    "    img, lowerThreshold=-199, upperThreshold=-30, insideValue=1, outsideValue=0\n",
    "    )\n",
    "    #adipose_mask = multiply.Execute(img,sitk.Cast(seg,img.GetPixelID()))\n",
    "        \n",
    "    #elif hu_type == 'Air' or hu_type == 'A':\n",
    "    air_mask = sitk.BinaryThreshold(\n",
    "    img, lowerThreshold=min_i, upperThreshold=-191, insideValue=1, outsideValue=0\n",
    "    )\n",
    "    #air_mask = multiply.Execute(img,sitk.Cast(seg,img.GetPixelID()))\n",
    "    \n",
    "    return bone_mask, lean_mask, adipose_mask, air_mask, constrast_mask"
   ]
  },
  {
   "cell_type": "code",
   "execution_count": 37,
   "metadata": {},
   "outputs": [],
   "source": [
    "voxel_spacing = [2.0364201068878174, 2.0364201068878174, 3.0]"
   ]
  },
  {
   "cell_type": "code",
   "execution_count": 111,
   "metadata": {},
   "outputs": [],
   "source": [
    "nifti_data['adipose_volume'] = 0\n",
    "nifti_data['lean_volume'] = 0\n",
    "for index, row in nifti_data.iterrows():\n",
    "    if \"CT.nii.gz\" in row['nifti_path']:\n",
    "        img = sitk.ReadImage(row['nifti_path'])\n",
    "        bone_mask, lean_mask, adipose_mask, air_mask, constrast_mask = get_proj_after_mask(img)\n",
    "        lean_mask_arr = sitk.GetArrayFromImage(lean_mask)\n",
    "        lean_volume = lean_mask_arr.sum() * voxel_spacing[0] * voxel_spacing[1] * voxel_spacing[2] * 1e-6\n",
    "        nifti_data.at[index, 'lean_volume'] = lean_volume\n",
    "        adipose_mask_arr = sitk.GetArrayFromImage(adipose_mask)\n",
    "        adipose_volume = adipose_mask_arr.sum() * voxel_spacing[0] * voxel_spacing[1] * voxel_spacing[2] * 1e-6\n",
    "        nifti_data.at[index, 'adipose_volume'] = adipose_volume\n",
    "    else:\n",
    "        row['nifti_path']"
   ]
  },
  {
   "cell_type": "code",
   "execution_count": 91,
   "metadata": {},
   "outputs": [
    {
     "data": {
      "text/plain": [
       "Index(['unique_patient_ID_scan_date', 'nifti_path', 'lean_volume',\n",
       "       'adipose_volume'],\n",
       "      dtype='object')"
      ]
     },
     "execution_count": 91,
     "metadata": {},
     "output_type": "execute_result"
    }
   ],
   "source": [
    "nifti_data.columns"
   ]
  },
  {
   "cell_type": "code",
   "execution_count": 159,
   "metadata": {},
   "outputs": [
    {
     "name": "stdout",
     "output_type": "stream",
     "text": [
      "   unique_patient_ID_scan_date                                                                                         nifti_path  lean_volume  adipose_volume\n",
      "0     lpr385705046400_20140313   /media/andres/T7 Shield1/UCAN_project/Resampled_SUV_CT/lpr385705046400_SUV_CT/20140313/CT.nii.gz    27.025181        9.392722\n",
      "1     lpr385705046400_20140313  /media/andres/T7 Shield1/UCAN_project/Resampled_SUV_CT/lpr385705046400_SUV_CT/20140313/SUV.nii.gz     0.000000        0.000000\n",
      "3     lpr415675513429_20190201  /media/andres/T7 Shield1/UCAN_project/Resampled_SUV_CT/lpr415675513429_SUV_CT/20190201/SUV.nii.gz     0.000000        0.000000\n",
      "2     lpr415675513429_20190201   /media/andres/T7 Shield1/UCAN_project/Resampled_SUV_CT/lpr415675513429_SUV_CT/20190201/CT.nii.gz    38.879272       18.603854\n",
      "4     lpr415675513429_20190320   /media/andres/T7 Shield1/UCAN_project/Resampled_SUV_CT/lpr415675513429_SUV_CT/20190320/CT.nii.gz    20.197126       10.562638\n",
      "5     lpr415675513429_20190320  /media/andres/T7 Shield1/UCAN_project/Resampled_SUV_CT/lpr415675513429_SUV_CT/20190320/SUV.nii.gz     0.000000        0.000000\n",
      "7     lpr884752331885_20181116  /media/andres/T7 Shield1/UCAN_project/Resampled_SUV_CT/lpr884752331885_SUV_CT/20181116/SUV.nii.gz     0.000000        0.000000\n",
      "6     lpr884752331885_20181116   /media/andres/T7 Shield1/UCAN_project/Resampled_SUV_CT/lpr884752331885_SUV_CT/20181116/CT.nii.gz    24.009391       20.203857\n",
      "8     npr100169878450_20130412   /media/andres/T7 Shield1/UCAN_project/Resampled_SUV_CT/npr100169878450_SUV_CT/20130412/CT.nii.gz    30.809640       22.802574\n",
      "9     npr100169878450_20130412  /media/andres/T7 Shield1/UCAN_project/Resampled_SUV_CT/npr100169878450_SUV_CT/20130412/SUV.nii.gz     0.000000        0.000000\n",
      "10    npr100169878450_20130611   /media/andres/T7 Shield1/UCAN_project/Resampled_SUV_CT/npr100169878450_SUV_CT/20130611/CT.nii.gz    30.946927       24.460900\n",
      "11    npr100169878450_20130611  /media/andres/T7 Shield1/UCAN_project/Resampled_SUV_CT/npr100169878450_SUV_CT/20130611/SUV.nii.gz     0.000000        0.000000\n",
      "12    npr100222372477_20160314   /media/andres/T7 Shield1/UCAN_project/Resampled_SUV_CT/npr100222372477_SUV_CT/20160314/CT.nii.gz    19.506948       38.698031\n",
      "13    npr100222372477_20160314  /media/andres/T7 Shield1/UCAN_project/Resampled_SUV_CT/npr100222372477_SUV_CT/20160314/SUV.nii.gz     0.000000        0.000000\n",
      "15    npr100222372477_20171207  /media/andres/T7 Shield1/UCAN_project/Resampled_SUV_CT/npr100222372477_SUV_CT/20171207/SUV.nii.gz     0.000000        0.000000\n",
      "14    npr100222372477_20171207   /media/andres/T7 Shield1/UCAN_project/Resampled_SUV_CT/npr100222372477_SUV_CT/20171207/CT.nii.gz    17.918118       36.055197\n",
      "16    npr100589333593_20190205   /media/andres/T7 Shield1/UCAN_project/Resampled_SUV_CT/npr100589333593_SUV_CT/20190205/CT.nii.gz    22.283323       20.293133\n",
      "17    npr100589333593_20190205  /media/andres/T7 Shield1/UCAN_project/Resampled_SUV_CT/npr100589333593_SUV_CT/20190205/SUV.nii.gz     0.000000        0.000000\n",
      "19    npr100825923056_20220510  /media/andres/T7 Shield1/UCAN_project/Resampled_SUV_CT/npr100825923056_SUV_CT/20220510/SUV.nii.gz     0.000000        0.000000\n",
      "18    npr100825923056_20220510   /media/andres/T7 Shield1/UCAN_project/Resampled_SUV_CT/npr100825923056_SUV_CT/20220510/CT.nii.gz    28.098928       22.296847\n"
     ]
    }
   ],
   "source": [
    "display_full(nifti_data.head(20))"
   ]
  },
  {
   "cell_type": "code",
   "execution_count": 47,
   "metadata": {},
   "outputs": [],
   "source": [
    "cols = nifti_data.columns.tolist()\n",
    "cols = cols[-1:] + cols[:-1]\n",
    "nifti_data = nifti_data[cols]"
   ]
  },
  {
   "cell_type": "code",
   "execution_count": null,
   "metadata": {},
   "outputs": [],
   "source": [
    "dataset_with_collages, finalized_dataset, nifti_data"
   ]
  },
  {
   "cell_type": "code",
   "execution_count": 50,
   "metadata": {},
   "outputs": [
    {
     "data": {
      "text/plain": [
       "(1801, 11)"
      ]
     },
     "execution_count": 50,
     "metadata": {},
     "output_type": "execute_result"
    }
   ],
   "source": [
    "dataset_with_collages.shape"
   ]
  },
  {
   "cell_type": "code",
   "execution_count": 52,
   "metadata": {},
   "outputs": [
    {
     "data": {
      "text/plain": [
       "(3646, 4)"
      ]
     },
     "execution_count": 52,
     "metadata": {},
     "output_type": "execute_result"
    }
   ],
   "source": [
    "nifti_data.shape"
   ]
  },
  {
   "cell_type": "code",
   "execution_count": 53,
   "metadata": {},
   "outputs": [
    {
     "data": {
      "text/plain": [
       "(3646, 36)"
      ]
     },
     "execution_count": 53,
     "metadata": {},
     "output_type": "execute_result"
    }
   ],
   "source": [
    "finalized_dataset.shape"
   ]
  },
  {
   "cell_type": "code",
   "execution_count": 118,
   "metadata": {},
   "outputs": [],
   "source": [
    "dataset_with_collages = dataset_with_collages.sort_values(by=\"unique_patient_ID_scan_date\")\n",
    "finalized_dataset = finalized_dataset.sort_values(by=\"unique_patient_ID_scan_date\")\n",
    "nifti_data= nifti_data.sort_values(by=\"unique_patient_ID_scan_date\")"
   ]
  },
  {
   "cell_type": "code",
   "execution_count": 119,
   "metadata": {},
   "outputs": [
    {
     "data": {
      "text/html": [
       "<div>\n",
       "<style scoped>\n",
       "    .dataframe tbody tr th:only-of-type {\n",
       "        vertical-align: middle;\n",
       "    }\n",
       "\n",
       "    .dataframe tbody tr th {\n",
       "        vertical-align: top;\n",
       "    }\n",
       "\n",
       "    .dataframe thead th {\n",
       "        text-align: right;\n",
       "    }\n",
       "</style>\n",
       "<table border=\"1\" class=\"dataframe\">\n",
       "  <thead>\n",
       "    <tr style=\"text-align: right;\">\n",
       "      <th></th>\n",
       "      <th>unique_patient_ID_scan_date</th>\n",
       "      <th>SUV_MIP</th>\n",
       "      <th>CT_MIP</th>\n",
       "      <th>SUV_bone</th>\n",
       "      <th>CT_bone</th>\n",
       "      <th>SUV_lean</th>\n",
       "      <th>CT_lean</th>\n",
       "      <th>SUV_adipose</th>\n",
       "      <th>CT_adipose</th>\n",
       "      <th>SUV_air</th>\n",
       "      <th>CT_air</th>\n",
       "    </tr>\n",
       "  </thead>\n",
       "  <tbody>\n",
       "    <tr>\n",
       "      <th>0</th>\n",
       "      <td>lpr385705046400_20140313</td>\n",
       "      <td>/media/andres/T7 Shield1/UCAN_project/collages...</td>\n",
       "      <td>/media/andres/T7 Shield1/UCAN_project/collages...</td>\n",
       "      <td>/media/andres/T7 Shield1/UCAN_project/collages...</td>\n",
       "      <td>/media/andres/T7 Shield1/UCAN_project/collages...</td>\n",
       "      <td>/media/andres/T7 Shield1/UCAN_project/collages...</td>\n",
       "      <td>/media/andres/T7 Shield1/UCAN_project/collages...</td>\n",
       "      <td>/media/andres/T7 Shield1/UCAN_project/collages...</td>\n",
       "      <td>/media/andres/T7 Shield1/UCAN_project/collages...</td>\n",
       "      <td>/media/andres/T7 Shield1/UCAN_project/collages...</td>\n",
       "      <td>/media/andres/T7 Shield1/UCAN_project/collages...</td>\n",
       "    </tr>\n",
       "  </tbody>\n",
       "</table>\n",
       "</div>"
      ],
      "text/plain": [
       "  unique_patient_ID_scan_date  \\\n",
       "0    lpr385705046400_20140313   \n",
       "\n",
       "                                             SUV_MIP  \\\n",
       "0  /media/andres/T7 Shield1/UCAN_project/collages...   \n",
       "\n",
       "                                              CT_MIP  \\\n",
       "0  /media/andres/T7 Shield1/UCAN_project/collages...   \n",
       "\n",
       "                                            SUV_bone  \\\n",
       "0  /media/andres/T7 Shield1/UCAN_project/collages...   \n",
       "\n",
       "                                             CT_bone  \\\n",
       "0  /media/andres/T7 Shield1/UCAN_project/collages...   \n",
       "\n",
       "                                            SUV_lean  \\\n",
       "0  /media/andres/T7 Shield1/UCAN_project/collages...   \n",
       "\n",
       "                                             CT_lean  \\\n",
       "0  /media/andres/T7 Shield1/UCAN_project/collages...   \n",
       "\n",
       "                                         SUV_adipose  \\\n",
       "0  /media/andres/T7 Shield1/UCAN_project/collages...   \n",
       "\n",
       "                                          CT_adipose  \\\n",
       "0  /media/andres/T7 Shield1/UCAN_project/collages...   \n",
       "\n",
       "                                             SUV_air  \\\n",
       "0  /media/andres/T7 Shield1/UCAN_project/collages...   \n",
       "\n",
       "                                              CT_air  \n",
       "0  /media/andres/T7 Shield1/UCAN_project/collages...  "
      ]
     },
     "execution_count": 119,
     "metadata": {},
     "output_type": "execute_result"
    }
   ],
   "source": [
    "dataset_with_collages.head(1)"
   ]
  },
  {
   "cell_type": "code",
   "execution_count": 120,
   "metadata": {},
   "outputs": [
    {
     "data": {
      "text/html": [
       "<div>\n",
       "<style scoped>\n",
       "    .dataframe tbody tr th:only-of-type {\n",
       "        vertical-align: middle;\n",
       "    }\n",
       "\n",
       "    .dataframe tbody tr th {\n",
       "        vertical-align: top;\n",
       "    }\n",
       "\n",
       "    .dataframe thead th {\n",
       "        text-align: right;\n",
       "    }\n",
       "</style>\n",
       "<table border=\"1\" class=\"dataframe\">\n",
       "  <thead>\n",
       "    <tr style=\"text-align: right;\">\n",
       "      <th></th>\n",
       "      <th>unique_patient_ID_scan_date</th>\n",
       "      <th>system</th>\n",
       "      <th>dicom_img</th>\n",
       "      <th>patient_age</th>\n",
       "      <th>patient_weight</th>\n",
       "      <th>patient_size</th>\n",
       "      <th>imgsz_x</th>\n",
       "      <th>imgsz_y</th>\n",
       "      <th>num_slices</th>\n",
       "      <th>voxsz_x</th>\n",
       "      <th>...</th>\n",
       "      <th>modality</th>\n",
       "      <th>manufacturer</th>\n",
       "      <th>manufacturer_model</th>\n",
       "      <th>radiopharmaceutical</th>\n",
       "      <th>radiopharmaceutical_volume</th>\n",
       "      <th>radiopharmaceutical_start_time</th>\n",
       "      <th>radionuclide_total_dose</th>\n",
       "      <th>radionuclide_half_life</th>\n",
       "      <th>radionuclide_positron_fraction</th>\n",
       "      <th>radiopharmaceutical_start_date_time</th>\n",
       "    </tr>\n",
       "  </thead>\n",
       "  <tbody>\n",
       "    <tr>\n",
       "      <th>1</th>\n",
       "      <td>lpr385705046400_20140313</td>\n",
       "      <td>ASPTCTX0001</td>\n",
       "      <td>1.2.840.113619.2.131.4240671514.1394722651.463822</td>\n",
       "      <td>33.0</td>\n",
       "      <td>'69.0'</td>\n",
       "      <td>'1.73'</td>\n",
       "      <td>128</td>\n",
       "      <td>128</td>\n",
       "      <td>247</td>\n",
       "      <td>3.90625</td>\n",
       "      <td>...</td>\n",
       "      <td>PT</td>\n",
       "      <td>'GE MEDICAL SYSTEMS'</td>\n",
       "      <td>'Discovery STE'</td>\n",
       "      <td>'FDG -- fluorodeoxyglucose'</td>\n",
       "      <td>'0.0'</td>\n",
       "      <td>'141400.00'</td>\n",
       "      <td>'259344912.0'</td>\n",
       "      <td>'6588.0'</td>\n",
       "      <td>'0.97000002861023'</td>\n",
       "      <td>'20140313141400.00'</td>\n",
       "    </tr>\n",
       "  </tbody>\n",
       "</table>\n",
       "<p>1 rows × 36 columns</p>\n",
       "</div>"
      ],
      "text/plain": [
       "  unique_patient_ID_scan_date       system  \\\n",
       "1    lpr385705046400_20140313  ASPTCTX0001   \n",
       "\n",
       "                                           dicom_img  patient_age  \\\n",
       "1  1.2.840.113619.2.131.4240671514.1394722651.463822         33.0   \n",
       "\n",
       "  patient_weight patient_size  imgsz_x  imgsz_y  num_slices  voxsz_x  ...  \\\n",
       "1         '69.0'       '1.73'      128      128         247  3.90625  ...   \n",
       "\n",
       "   modality           manufacturer manufacturer_model  \\\n",
       "1        PT   'GE MEDICAL SYSTEMS'    'Discovery STE'   \n",
       "\n",
       "            radiopharmaceutical radiopharmaceutical_volume  \\\n",
       "1   'FDG -- fluorodeoxyglucose'                      '0.0'   \n",
       "\n",
       "  radiopharmaceutical_start_time radionuclide_total_dose  \\\n",
       "1                    '141400.00'           '259344912.0'   \n",
       "\n",
       "  radionuclide_half_life radionuclide_positron_fraction  \\\n",
       "1               '6588.0'             '0.97000002861023'   \n",
       "\n",
       "  radiopharmaceutical_start_date_time  \n",
       "1                 '20140313141400.00'  \n",
       "\n",
       "[1 rows x 36 columns]"
      ]
     },
     "execution_count": 120,
     "metadata": {},
     "output_type": "execute_result"
    }
   ],
   "source": [
    "finalized_dataset.head(1)"
   ]
  },
  {
   "cell_type": "code",
   "execution_count": 121,
   "metadata": {},
   "outputs": [
    {
     "data": {
      "text/html": [
       "<div>\n",
       "<style scoped>\n",
       "    .dataframe tbody tr th:only-of-type {\n",
       "        vertical-align: middle;\n",
       "    }\n",
       "\n",
       "    .dataframe tbody tr th {\n",
       "        vertical-align: top;\n",
       "    }\n",
       "\n",
       "    .dataframe thead th {\n",
       "        text-align: right;\n",
       "    }\n",
       "</style>\n",
       "<table border=\"1\" class=\"dataframe\">\n",
       "  <thead>\n",
       "    <tr style=\"text-align: right;\">\n",
       "      <th></th>\n",
       "      <th>unique_patient_ID_scan_date</th>\n",
       "      <th>nifti_path</th>\n",
       "      <th>lean_volume</th>\n",
       "      <th>adipose_volume</th>\n",
       "    </tr>\n",
       "  </thead>\n",
       "  <tbody>\n",
       "    <tr>\n",
       "      <th>0</th>\n",
       "      <td>lpr385705046400_20140313</td>\n",
       "      <td>/media/andres/T7 Shield1/UCAN_project/Resample...</td>\n",
       "      <td>27.025181</td>\n",
       "      <td>9.392722</td>\n",
       "    </tr>\n",
       "  </tbody>\n",
       "</table>\n",
       "</div>"
      ],
      "text/plain": [
       "  unique_patient_ID_scan_date  \\\n",
       "0    lpr385705046400_20140313   \n",
       "\n",
       "                                          nifti_path  lean_volume  \\\n",
       "0  /media/andres/T7 Shield1/UCAN_project/Resample...    27.025181   \n",
       "\n",
       "   adipose_volume  \n",
       "0        9.392722  "
      ]
     },
     "execution_count": 121,
     "metadata": {},
     "output_type": "execute_result"
    }
   ],
   "source": [
    "nifti_data.head(1)"
   ]
  },
  {
   "cell_type": "code",
   "execution_count": 154,
   "metadata": {},
   "outputs": [],
   "source": [
    "frames = [dataset_with_collages, finalized_dataset, nifti_data]\n",
    "import functools as ft\n",
    "dataset_for_classification_and_regression = ft.reduce(lambda left, right: pd.merge(left, right, on='unique_patient_ID_scan_date'), frames)"
   ]
  },
  {
   "cell_type": "code",
   "execution_count": 153,
   "metadata": {},
   "outputs": [
    {
     "ename": "AttributeError",
     "evalue": "'NoneType' object has no attribute 'columns'",
     "output_type": "error",
     "traceback": [
      "\u001b[0;31m---------------------------------------------------------------------------\u001b[0m",
      "\u001b[0;31mAttributeError\u001b[0m                            Traceback (most recent call last)",
      "\u001b[1;32m/home/andres/VSCode/UCAN-PET-CT-image-data-handling-pipeline/Task4/generate_final_dataset.ipynb Cell 111\u001b[0m line \u001b[0;36m1\n\u001b[0;32m----> <a href='vscode-notebook-cell:/home/andres/VSCode/UCAN-PET-CT-image-data-handling-pipeline/Task4/generate_final_dataset.ipynb#Y245sZmlsZQ%3D%3D?line=0'>1</a>\u001b[0m \u001b[39mprint\u001b[39m(\u001b[39m\"\u001b[39m\u001b[39mColumns: \u001b[39m\u001b[39m\"\u001b[39m, dataset_for_classification_and_regression\u001b[39m.\u001b[39;49mcolumns)\n\u001b[1;32m      <a href='vscode-notebook-cell:/home/andres/VSCode/UCAN-PET-CT-image-data-handling-pipeline/Task4/generate_final_dataset.ipynb#Y245sZmlsZQ%3D%3D?line=1'>2</a>\u001b[0m \u001b[39mprint\u001b[39m(\u001b[39m\"\u001b[39m\u001b[39mShape: \u001b[39m\u001b[39m\"\u001b[39m, dataset_for_classification_and_regression\u001b[39m.\u001b[39mshape)\n",
      "\u001b[0;31mAttributeError\u001b[0m: 'NoneType' object has no attribute 'columns'"
     ]
    }
   ],
   "source": [
    "print(\"Columns: \", dataset_for_classification_and_regression.columns)\n",
    "print(\"Shape: \", dataset_for_classification_and_regression.shape)"
   ]
  },
  {
   "cell_type": "code",
   "execution_count": 151,
   "metadata": {},
   "outputs": [],
   "source": [
    "dataset_for_classification_and_regression = dataset_for_classification_and_regression.drop(columns=\"nifti_path\")"
   ]
  },
  {
   "cell_type": "code",
   "execution_count": 152,
   "metadata": {},
   "outputs": [],
   "source": [
    "dataset_for_classification_and_regression = dataset_for_classification_and_regression['unique_patient_ID_scan_date'].drop_duplicates(inplace=True)"
   ]
  },
  {
   "cell_type": "code",
   "execution_count": 141,
   "metadata": {},
   "outputs": [],
   "source": [
    "dataset_for_classification_and_regression = dataset_for_classification_and_regression.dropna()"
   ]
  },
  {
   "cell_type": "code",
   "execution_count": 148,
   "metadata": {},
   "outputs": [
    {
     "data": {
      "text/plain": [
       "0     lpr385705046400_20140313\n",
       "4     lpr415675513429_20190201\n",
       "10    lpr415675513429_20190320\n",
       "14    lpr884752331885_20181116\n",
       "18    npr100169878450_20130412\n",
       "Name: unique_patient_ID_scan_date, dtype: object"
      ]
     },
     "execution_count": 148,
     "metadata": {},
     "output_type": "execute_result"
    }
   ],
   "source": [
    "dataset_for_classification_and_regression.head()"
   ]
  },
  {
   "cell_type": "code",
   "execution_count": 66,
   "metadata": {},
   "outputs": [],
   "source": [
    "dataset_for_classification_and_regression.to_excel('/media/andres/T7 Shield1/UCAN_project/dataset_for_classification_and_regression.xlsx', index=False)"
   ]
  },
  {
   "cell_type": "code",
   "execution_count": 112,
   "metadata": {},
   "outputs": [],
   "source": [
    "nan_data = pd.read_excel(\"/media/andres/T7 Shield1/UCAN_project/df_of_arrays_with_nan_arrays.xlsx\")\n",
    "data = pd.read_excel(\"/media/andres/T7 Shield1/UCAN_project/df_of_collages_without_nan_arrays.xlsx\")"
   ]
  },
  {
   "cell_type": "code",
   "execution_count": 113,
   "metadata": {},
   "outputs": [
    {
     "data": {
      "text/plain": [
       "Index(['patient_ID', 'scan_date', 'SUV_MIP', 'CT_MIP', 'SUV_bone', 'CT_bone',\n",
       "       'SUV_lean', 'CT_lean', 'SUV_adipose', 'CT_adipose', 'SUV_air', 'CT_air',\n",
       "       'incorrect_projection'],\n",
       "      dtype='object')"
      ]
     },
     "execution_count": 113,
     "metadata": {},
     "output_type": "execute_result"
    }
   ],
   "source": [
    "data.columns"
   ]
  },
  {
   "cell_type": "code",
   "execution_count": 136,
   "metadata": {},
   "outputs": [
    {
     "data": {
      "text/html": [
       "<div>\n",
       "<style scoped>\n",
       "    .dataframe tbody tr th:only-of-type {\n",
       "        vertical-align: middle;\n",
       "    }\n",
       "\n",
       "    .dataframe tbody tr th {\n",
       "        vertical-align: top;\n",
       "    }\n",
       "\n",
       "    .dataframe thead th {\n",
       "        text-align: right;\n",
       "    }\n",
       "</style>\n",
       "<table border=\"1\" class=\"dataframe\">\n",
       "  <thead>\n",
       "    <tr style=\"text-align: right;\">\n",
       "      <th></th>\n",
       "      <th>patient_ID</th>\n",
       "      <th>scan_date</th>\n",
       "      <th>SUV_MIP</th>\n",
       "      <th>CT_MIP</th>\n",
       "      <th>SUV_bone</th>\n",
       "      <th>CT_bone</th>\n",
       "      <th>SUV_lean</th>\n",
       "      <th>CT_lean</th>\n",
       "      <th>SUV_adipose</th>\n",
       "      <th>CT_adipose</th>\n",
       "      <th>SUV_air</th>\n",
       "      <th>CT_air</th>\n",
       "      <th>incorrect_projection</th>\n",
       "    </tr>\n",
       "  </thead>\n",
       "  <tbody>\n",
       "    <tr>\n",
       "      <th>0</th>\n",
       "      <td>lpr385705046400</td>\n",
       "      <td>20140313</td>\n",
       "      <td>/media/andres/T7 Shield1/UCAN_project/collages...</td>\n",
       "      <td>/media/andres/T7 Shield1/UCAN_project/collages...</td>\n",
       "      <td>/media/andres/T7 Shield1/UCAN_project/collages...</td>\n",
       "      <td>/media/andres/T7 Shield1/UCAN_project/collages...</td>\n",
       "      <td>/media/andres/T7 Shield1/UCAN_project/collages...</td>\n",
       "      <td>/media/andres/T7 Shield1/UCAN_project/collages...</td>\n",
       "      <td>/media/andres/T7 Shield1/UCAN_project/collages...</td>\n",
       "      <td>/media/andres/T7 Shield1/UCAN_project/collages...</td>\n",
       "      <td>/media/andres/T7 Shield1/UCAN_project/collages...</td>\n",
       "      <td>/media/andres/T7 Shield1/UCAN_project/collages...</td>\n",
       "      <td>False</td>\n",
       "    </tr>\n",
       "    <tr>\n",
       "      <th>1</th>\n",
       "      <td>lpr415675513429</td>\n",
       "      <td>20190201</td>\n",
       "      <td>/media/andres/T7 Shield1/UCAN_project/collages...</td>\n",
       "      <td>/media/andres/T7 Shield1/UCAN_project/collages...</td>\n",
       "      <td>/media/andres/T7 Shield1/UCAN_project/collages...</td>\n",
       "      <td>/media/andres/T7 Shield1/UCAN_project/collages...</td>\n",
       "      <td>/media/andres/T7 Shield1/UCAN_project/collages...</td>\n",
       "      <td>/media/andres/T7 Shield1/UCAN_project/collages...</td>\n",
       "      <td>/media/andres/T7 Shield1/UCAN_project/collages...</td>\n",
       "      <td>/media/andres/T7 Shield1/UCAN_project/collages...</td>\n",
       "      <td>/media/andres/T7 Shield1/UCAN_project/collages...</td>\n",
       "      <td>/media/andres/T7 Shield1/UCAN_project/collages...</td>\n",
       "      <td>False</td>\n",
       "    </tr>\n",
       "    <tr>\n",
       "      <th>2</th>\n",
       "      <td>lpr415675513429</td>\n",
       "      <td>20190320</td>\n",
       "      <td>/media/andres/T7 Shield1/UCAN_project/collages...</td>\n",
       "      <td>/media/andres/T7 Shield1/UCAN_project/collages...</td>\n",
       "      <td>/media/andres/T7 Shield1/UCAN_project/collages...</td>\n",
       "      <td>/media/andres/T7 Shield1/UCAN_project/collages...</td>\n",
       "      <td>/media/andres/T7 Shield1/UCAN_project/collages...</td>\n",
       "      <td>/media/andres/T7 Shield1/UCAN_project/collages...</td>\n",
       "      <td>/media/andres/T7 Shield1/UCAN_project/collages...</td>\n",
       "      <td>/media/andres/T7 Shield1/UCAN_project/collages...</td>\n",
       "      <td>/media/andres/T7 Shield1/UCAN_project/collages...</td>\n",
       "      <td>/media/andres/T7 Shield1/UCAN_project/collages...</td>\n",
       "      <td>False</td>\n",
       "    </tr>\n",
       "    <tr>\n",
       "      <th>3</th>\n",
       "      <td>lpr884752331885</td>\n",
       "      <td>20181116</td>\n",
       "      <td>/media/andres/T7 Shield1/UCAN_project/collages...</td>\n",
       "      <td>/media/andres/T7 Shield1/UCAN_project/collages...</td>\n",
       "      <td>/media/andres/T7 Shield1/UCAN_project/collages...</td>\n",
       "      <td>/media/andres/T7 Shield1/UCAN_project/collages...</td>\n",
       "      <td>/media/andres/T7 Shield1/UCAN_project/collages...</td>\n",
       "      <td>/media/andres/T7 Shield1/UCAN_project/collages...</td>\n",
       "      <td>/media/andres/T7 Shield1/UCAN_project/collages...</td>\n",
       "      <td>/media/andres/T7 Shield1/UCAN_project/collages...</td>\n",
       "      <td>/media/andres/T7 Shield1/UCAN_project/collages...</td>\n",
       "      <td>/media/andres/T7 Shield1/UCAN_project/collages...</td>\n",
       "      <td>False</td>\n",
       "    </tr>\n",
       "    <tr>\n",
       "      <th>4</th>\n",
       "      <td>npr100169878450</td>\n",
       "      <td>20130412</td>\n",
       "      <td>/media/andres/T7 Shield1/UCAN_project/collages...</td>\n",
       "      <td>/media/andres/T7 Shield1/UCAN_project/collages...</td>\n",
       "      <td>/media/andres/T7 Shield1/UCAN_project/collages...</td>\n",
       "      <td>/media/andres/T7 Shield1/UCAN_project/collages...</td>\n",
       "      <td>/media/andres/T7 Shield1/UCAN_project/collages...</td>\n",
       "      <td>/media/andres/T7 Shield1/UCAN_project/collages...</td>\n",
       "      <td>/media/andres/T7 Shield1/UCAN_project/collages...</td>\n",
       "      <td>/media/andres/T7 Shield1/UCAN_project/collages...</td>\n",
       "      <td>/media/andres/T7 Shield1/UCAN_project/collages...</td>\n",
       "      <td>/media/andres/T7 Shield1/UCAN_project/collages...</td>\n",
       "      <td>False</td>\n",
       "    </tr>\n",
       "  </tbody>\n",
       "</table>\n",
       "</div>"
      ],
      "text/plain": [
       "        patient_ID  scan_date  \\\n",
       "0  lpr385705046400   20140313   \n",
       "1  lpr415675513429   20190201   \n",
       "2  lpr415675513429   20190320   \n",
       "3  lpr884752331885   20181116   \n",
       "4  npr100169878450   20130412   \n",
       "\n",
       "                                             SUV_MIP  \\\n",
       "0  /media/andres/T7 Shield1/UCAN_project/collages...   \n",
       "1  /media/andres/T7 Shield1/UCAN_project/collages...   \n",
       "2  /media/andres/T7 Shield1/UCAN_project/collages...   \n",
       "3  /media/andres/T7 Shield1/UCAN_project/collages...   \n",
       "4  /media/andres/T7 Shield1/UCAN_project/collages...   \n",
       "\n",
       "                                              CT_MIP  \\\n",
       "0  /media/andres/T7 Shield1/UCAN_project/collages...   \n",
       "1  /media/andres/T7 Shield1/UCAN_project/collages...   \n",
       "2  /media/andres/T7 Shield1/UCAN_project/collages...   \n",
       "3  /media/andres/T7 Shield1/UCAN_project/collages...   \n",
       "4  /media/andres/T7 Shield1/UCAN_project/collages...   \n",
       "\n",
       "                                            SUV_bone  \\\n",
       "0  /media/andres/T7 Shield1/UCAN_project/collages...   \n",
       "1  /media/andres/T7 Shield1/UCAN_project/collages...   \n",
       "2  /media/andres/T7 Shield1/UCAN_project/collages...   \n",
       "3  /media/andres/T7 Shield1/UCAN_project/collages...   \n",
       "4  /media/andres/T7 Shield1/UCAN_project/collages...   \n",
       "\n",
       "                                             CT_bone  \\\n",
       "0  /media/andres/T7 Shield1/UCAN_project/collages...   \n",
       "1  /media/andres/T7 Shield1/UCAN_project/collages...   \n",
       "2  /media/andres/T7 Shield1/UCAN_project/collages...   \n",
       "3  /media/andres/T7 Shield1/UCAN_project/collages...   \n",
       "4  /media/andres/T7 Shield1/UCAN_project/collages...   \n",
       "\n",
       "                                            SUV_lean  \\\n",
       "0  /media/andres/T7 Shield1/UCAN_project/collages...   \n",
       "1  /media/andres/T7 Shield1/UCAN_project/collages...   \n",
       "2  /media/andres/T7 Shield1/UCAN_project/collages...   \n",
       "3  /media/andres/T7 Shield1/UCAN_project/collages...   \n",
       "4  /media/andres/T7 Shield1/UCAN_project/collages...   \n",
       "\n",
       "                                             CT_lean  \\\n",
       "0  /media/andres/T7 Shield1/UCAN_project/collages...   \n",
       "1  /media/andres/T7 Shield1/UCAN_project/collages...   \n",
       "2  /media/andres/T7 Shield1/UCAN_project/collages...   \n",
       "3  /media/andres/T7 Shield1/UCAN_project/collages...   \n",
       "4  /media/andres/T7 Shield1/UCAN_project/collages...   \n",
       "\n",
       "                                         SUV_adipose  \\\n",
       "0  /media/andres/T7 Shield1/UCAN_project/collages...   \n",
       "1  /media/andres/T7 Shield1/UCAN_project/collages...   \n",
       "2  /media/andres/T7 Shield1/UCAN_project/collages...   \n",
       "3  /media/andres/T7 Shield1/UCAN_project/collages...   \n",
       "4  /media/andres/T7 Shield1/UCAN_project/collages...   \n",
       "\n",
       "                                          CT_adipose  \\\n",
       "0  /media/andres/T7 Shield1/UCAN_project/collages...   \n",
       "1  /media/andres/T7 Shield1/UCAN_project/collages...   \n",
       "2  /media/andres/T7 Shield1/UCAN_project/collages...   \n",
       "3  /media/andres/T7 Shield1/UCAN_project/collages...   \n",
       "4  /media/andres/T7 Shield1/UCAN_project/collages...   \n",
       "\n",
       "                                             SUV_air  \\\n",
       "0  /media/andres/T7 Shield1/UCAN_project/collages...   \n",
       "1  /media/andres/T7 Shield1/UCAN_project/collages...   \n",
       "2  /media/andres/T7 Shield1/UCAN_project/collages...   \n",
       "3  /media/andres/T7 Shield1/UCAN_project/collages...   \n",
       "4  /media/andres/T7 Shield1/UCAN_project/collages...   \n",
       "\n",
       "                                              CT_air  incorrect_projection  \n",
       "0  /media/andres/T7 Shield1/UCAN_project/collages...                 False  \n",
       "1  /media/andres/T7 Shield1/UCAN_project/collages...                 False  \n",
       "2  /media/andres/T7 Shield1/UCAN_project/collages...                 False  \n",
       "3  /media/andres/T7 Shield1/UCAN_project/collages...                 False  \n",
       "4  /media/andres/T7 Shield1/UCAN_project/collages...                 False  "
      ]
     },
     "execution_count": 136,
     "metadata": {},
     "output_type": "execute_result"
    }
   ],
   "source": [
    "data.head()"
   ]
  },
  {
   "cell_type": "code",
   "execution_count": 142,
   "metadata": {},
   "outputs": [
    {
     "data": {
      "text/plain": [
       "(array(['lpr385705046400', 'lpr415675513429', 'lpr884752331885', ...,\n",
       "        'npr999470312453', 'npr999561275820', 'npr999612862346'],\n",
       "       dtype=object),\n",
       " array([1, 2, 1, ..., 1, 1, 3]))"
      ]
     },
     "execution_count": 142,
     "metadata": {},
     "output_type": "execute_result"
    }
   ],
   "source": [
    "np.unique(data['patient_ID'], return_counts=True)"
   ]
  },
  {
   "cell_type": "code",
   "execution_count": null,
   "metadata": {},
   "outputs": [],
   "source": []
  }
 ],
 "metadata": {
  "kernelspec": {
   "display_name": "UCANProject",
   "language": "python",
   "name": "python3"
  },
  "language_info": {
   "codemirror_mode": {
    "name": "ipython",
    "version": 3
   },
   "file_extension": ".py",
   "mimetype": "text/x-python",
   "name": "python",
   "nbconvert_exporter": "python",
   "pygments_lexer": "ipython3",
   "version": "3.11.5"
  }
 },
 "nbformat": 4,
 "nbformat_minor": 2
}
