{
 "cells": [
  {
   "cell_type": "code",
   "execution_count": 1,
   "metadata": {},
   "outputs": [],
   "source": [
    "import pandas as pd\n",
    "import numpy as np\n",
    "\n",
    "def display_full(x):\n",
    "    with pd.option_context(\"display.max_rows\", None,\n",
    "                           \"display.max_columns\", None,\n",
    "                           \"display.width\", 20000,\n",
    "                           \"display.max_colwidth\", None,\n",
    "                           ):\n",
    "        print(x)"
   ]
  },
  {
   "cell_type": "code",
   "execution_count": 2,
   "metadata": {},
   "outputs": [
    {
     "name": "stdout",
     "output_type": "stream",
     "text": [
      "        patient_ID  scan_date                                                                                                SUV_MIP                                                                                                CT_MIP                                                                                                SUV_bone                                                                                                CT_bone                                                                                                SUV_lean                                                                                                CT_lean                                                                                                SUV_adipose                                                                                                CT_adipose                                                                                                SUV_air                                                                                                CT_air  sex diagnosis_groups  GT_diagnosis_label\n",
      "0  npr100169878450   20130412  /media/andres/T7 Shield1/UCAN_project/collages/reshaped_collages/npr100169878450/20130412/SUV_MIP.npy  /media/andres/T7 Shield1/UCAN_project/collages/reshaped_collages/npr100169878450/20130412/CT_MIP.npy  /media/andres/T7 Shield1/UCAN_project/collages/reshaped_collages/npr100169878450/20130412/SUV_bone.npy  /media/andres/T7 Shield1/UCAN_project/collages/reshaped_collages/npr100169878450/20130412/CT_bone.npy  /media/andres/T7 Shield1/UCAN_project/collages/reshaped_collages/npr100169878450/20130412/SUV_lean.npy  /media/andres/T7 Shield1/UCAN_project/collages/reshaped_collages/npr100169878450/20130412/CT_lean.npy  /media/andres/T7 Shield1/UCAN_project/collages/reshaped_collages/npr100169878450/20130412/SUV_adipose.npy  /media/andres/T7 Shield1/UCAN_project/collages/reshaped_collages/npr100169878450/20130412/CT_adipose.npy  /media/andres/T7 Shield1/UCAN_project/collages/reshaped_collages/npr100169878450/20130412/SUV_air.npy  /media/andres/T7 Shield1/UCAN_project/collages/reshaped_collages/npr100169878450/20130412/CT_air.npy    1              C81                   0\n",
      "1  npr100169878450   20130611  /media/andres/T7 Shield1/UCAN_project/collages/reshaped_collages/npr100169878450/20130611/SUV_MIP.npy  /media/andres/T7 Shield1/UCAN_project/collages/reshaped_collages/npr100169878450/20130611/CT_MIP.npy  /media/andres/T7 Shield1/UCAN_project/collages/reshaped_collages/npr100169878450/20130611/SUV_bone.npy  /media/andres/T7 Shield1/UCAN_project/collages/reshaped_collages/npr100169878450/20130611/CT_bone.npy  /media/andres/T7 Shield1/UCAN_project/collages/reshaped_collages/npr100169878450/20130611/SUV_lean.npy  /media/andres/T7 Shield1/UCAN_project/collages/reshaped_collages/npr100169878450/20130611/CT_lean.npy  /media/andres/T7 Shield1/UCAN_project/collages/reshaped_collages/npr100169878450/20130611/SUV_adipose.npy  /media/andres/T7 Shield1/UCAN_project/collages/reshaped_collages/npr100169878450/20130611/CT_adipose.npy  /media/andres/T7 Shield1/UCAN_project/collages/reshaped_collages/npr100169878450/20130611/SUV_air.npy  /media/andres/T7 Shield1/UCAN_project/collages/reshaped_collages/npr100169878450/20130611/CT_air.npy    1              C81                   0\n"
     ]
    }
   ],
   "source": [
    "data = pd.read_excel(\"/media/andres/T7 Shield1/UCAN_project/dataset_for_model_classification_training.xlsx\")\n",
    "display_full(data.head(2))"
   ]
  },
  {
   "cell_type": "code",
   "execution_count": 6,
   "metadata": {},
   "outputs": [
    {
     "data": {
      "text/plain": [
       "diagnosis_groups\n",
       "C81    302\n",
       "C83    223\n",
       "C85     97\n",
       "C82     51\n",
       "C84     28\n",
       "C88     11\n",
       "C86      8\n",
       "Name: count, dtype: int64"
      ]
     },
     "execution_count": 6,
     "metadata": {},
     "output_type": "execute_result"
    }
   ],
   "source": [
    "data[\"diagnosis_groups\"].value_counts()"
   ]
  },
  {
   "cell_type": "code",
   "execution_count": null,
   "metadata": {},
   "outputs": [],
   "source": [
    "metadata = pd.read_excel(\"/media/andres/T7 Shield1/UCAN_project/Finalized_dataset_1805_exams_with_Age.xlsx\")\n",
    "print(metadata.columns)\n",
    "metadata.head(2)"
   ]
  },
  {
   "cell_type": "code",
   "execution_count": null,
   "metadata": {},
   "outputs": [],
   "source": [
    "metadata = metadata[[\"npr\", \"scan_date\", \"patient_age\"]]\n",
    "print(metadata.shape)\n",
    "metadata.drop_duplicates(inplace=True)\n",
    "print(metadata.shape)\n",
    "metadata.head(2)"
   ]
  },
  {
   "cell_type": "code",
   "execution_count": null,
   "metadata": {},
   "outputs": [],
   "source": [
    "final = pd.merge(data, metadata, how=\"inner\", left_on=[\"patient_ID\", \"scan_date\"], right_on=[\"npr\", \"scan_date\"], suffixes=[\"_l\",\"_r\"])\n",
    "final.head(2)"
   ]
  },
  {
   "cell_type": "code",
   "execution_count": null,
   "metadata": {},
   "outputs": [],
   "source": [
    "final_data = final.drop(columns=[\"npr\"])"
   ]
  },
  {
   "cell_type": "code",
   "execution_count": null,
   "metadata": {},
   "outputs": [],
   "source": [
    "final_data.head()"
   ]
  },
  {
   "cell_type": "code",
   "execution_count": null,
   "metadata": {},
   "outputs": [],
   "source": [
    "final_data.to_excel(\"/media/andres/T7 Shield1/UCAN_project/dataset_for_training_regression.xlsx\", index=False)"
   ]
  },
  {
   "cell_type": "markdown",
   "metadata": {},
   "source": []
  },
  {
   "cell_type": "markdown",
   "metadata": {},
   "source": [
    "##### EXTRA CODE"
   ]
  },
  {
   "cell_type": "code",
   "execution_count": null,
   "metadata": {},
   "outputs": [],
   "source": [
    "testing = pd.read_excel(\"/media/andres/T7 Shield1/UCAN_project/dataset_for_training_regression.xlsx\")"
   ]
  },
  {
   "cell_type": "code",
   "execution_count": null,
   "metadata": {},
   "outputs": [],
   "source": [
    "testing"
   ]
  },
  {
   "cell_type": "code",
   "execution_count": null,
   "metadata": {},
   "outputs": [],
   "source": [
    "sort_test = testing.sort_values(by=\"patient_ID\")\n",
    "final_test = sort_test.drop(columns=\"Unnamed: 0\").reset_index(drop=True)\n",
    "final_test"
   ]
  },
  {
   "cell_type": "code",
   "execution_count": null,
   "metadata": {},
   "outputs": [],
   "source": [
    "train_data = final_test[:int(final_test.shape[0] * 0.7)].patient_ID.tolist()\n",
    "train = final_test[final_test.patient_ID.isin(train_data)]\n",
    "val = final_test[~final_test.patient_ID.isin(train_data)]"
   ]
  },
  {
   "cell_type": "code",
   "execution_count": null,
   "metadata": {},
   "outputs": [],
   "source": [
    "train.shape"
   ]
  },
  {
   "cell_type": "code",
   "execution_count": null,
   "metadata": {},
   "outputs": [],
   "source": [
    "val.shape"
   ]
  },
  {
   "cell_type": "code",
   "execution_count": null,
   "metadata": {},
   "outputs": [],
   "source": [
    "train[\"patient_age\"].nunique()"
   ]
  },
  {
   "cell_type": "code",
   "execution_count": null,
   "metadata": {},
   "outputs": [],
   "source": [
    "output_path = \"/media/andres/T7 Shield1/UCAN_project/collages/\"\n",
    "df_for_collages = pd.read_excel(\"/media/andres/T7 Shield1/UCAN_project/df_for_collages.xlsx\")\n",
    "df_for_collages.shape"
   ]
  },
  {
   "cell_type": "code",
   "execution_count": null,
   "metadata": {},
   "outputs": [],
   "source": [
    "df_for_collages[\"patient_ID\"].nunique()"
   ]
  },
  {
   "cell_type": "code",
   "execution_count": null,
   "metadata": {},
   "outputs": [],
   "source": [
    "df_for_collages[\"scan_date\"].nunique()"
   ]
  },
  {
   "cell_type": "markdown",
   "metadata": {},
   "source": [
    "### Updating file names for new system"
   ]
  },
  {
   "cell_type": "markdown",
   "metadata": {},
   "source": [
    "##### regression"
   ]
  },
  {
   "cell_type": "code",
   "execution_count": null,
   "metadata": {},
   "outputs": [],
   "source": [
    "testing = pd.read_excel(\"/home/ashish/Ashish/UCAN/ReshapedCollages/dataset_for_model_training.xlsx\")"
   ]
  },
  {
   "cell_type": "code",
   "execution_count": null,
   "metadata": {},
   "outputs": [],
   "source": [
    "display_full(testing.head(2))"
   ]
  },
  {
   "cell_type": "code",
   "execution_count": null,
   "metadata": {},
   "outputs": [],
   "source": [
    "testing = testing.replace('/media/andres/T7 Shield1/UCAN_project/collages', '/home/ashish/Ashish/UCAN/ReshapedCollages/collages/reshaped_collages', regex=True)\n",
    "display_full(testing.head(2))"
   ]
  },
  {
   "cell_type": "code",
   "execution_count": null,
   "metadata": {},
   "outputs": [],
   "source": [
    "testing.drop(columns='Unnamed: 0', inplace=True)\n",
    "display_full(testing.head(2))"
   ]
  },
  {
   "cell_type": "code",
   "execution_count": null,
   "metadata": {},
   "outputs": [],
   "source": [
    "testing.to_excel(\"/home/ashish/Ashish/UCAN/ReshapedCollages/dataset_for_model_training_v1.xlsx\", index=False)"
   ]
  },
  {
   "cell_type": "markdown",
   "metadata": {},
   "source": [
    "##### classification"
   ]
  },
  {
   "cell_type": "code",
   "execution_count": null,
   "metadata": {},
   "outputs": [],
   "source": [
    "#classification_data = pd.read_excel(\"/home/ashish/Ashish/UCAN/dataset_for_training_classification.xlsx\")\n",
    "classification_data = pd.read_excel(\"/home/ashish/Ashish/UCAN/ReshapedCollages/dataset_for_model_training.xlsx\")\n",
    "classification_data.shape"
   ]
  },
  {
   "cell_type": "code",
   "execution_count": null,
   "metadata": {},
   "outputs": [],
   "source": [
    "display_full(classification_data.head(2))"
   ]
  },
  {
   "cell_type": "code",
   "execution_count": null,
   "metadata": {},
   "outputs": [],
   "source": [
    "classification_data = classification_data.replace('/media/andres/T7 Shield1/UCAN_project', '/home/ashish/Ashish/UCAN/ReshapedCollages', regex=True)\n",
    "#classification_data.drop(columns=[\"patient_age\"], inplace=True)\n",
    "classification_data.patient_ID = classification_data.patient_ID.str.replace(\" \",\"\")\n",
    "display_full(classification_data.head(2))"
   ]
  },
  {
   "cell_type": "code",
   "execution_count": null,
   "metadata": {},
   "outputs": [],
   "source": [
    "classification_data.shape"
   ]
  },
  {
   "cell_type": "code",
   "execution_count": null,
   "metadata": {},
   "outputs": [],
   "source": [
    "#clinicaldata_path = \"/home/ashish/Ashish/UCAN/U-CAN Lymfom - Ahlström 211021 - utlämnat_pnr_removed.xlsx\"\n",
    "clinicaldata_path = \"/home/ashish/Ashish/UCAN/20231129_UCAN_lym_export/Lymphoma_Octopus_Export 2023-11-29_C80_only_n1291_incl_YYYY_MM_pnr_removed.xlsx\"\n",
    "clinical_data = pd.read_excel(clinicaldata_path, header=0)\n",
    "print(clinical_data.columns)\n",
    "clinical_data = clinical_data.sort_values(\"personReference\")\n",
    "clinical_data = clinical_data[[\"personReference\", \"BirthYear\", \"BirthMonth\", \"consentDate\", \"translatedDiagnosis\", \"sex\"]].copy()\n",
    "clinical_data.columns = clinical_data.columns.str.strip()\n",
    "clinical_data.npr = clinical_data.personReference.str.replace(\" \",\"\")\n",
    "print(clinical_data.shape)\n",
    "print(clinical_data.npr.nunique())\n",
    "display_full(clinical_data.head(2))"
   ]
  },
  {
   "cell_type": "code",
   "execution_count": null,
   "metadata": {},
   "outputs": [],
   "source": [
    "classification_data_v1 = pd.merge(classification_data, clinical_data, how=\"inner\", left_on=[\"patient_ID\"], right_on=[\"personReference\"], suffixes=['','_'])\n",
    "print(classification_data_v1.shape)\n",
    "display_full(classification_data_v1.head(2))"
   ]
  },
  {
   "cell_type": "code",
   "execution_count": null,
   "metadata": {},
   "outputs": [],
   "source": [
    "classification_data_v1.personReference.nunique()"
   ]
  },
  {
   "cell_type": "code",
   "execution_count": null,
   "metadata": {},
   "outputs": [],
   "source": [
    "classification_data_v1[\"diagnosis_groups\"] = classification_data_v1[\"translatedDiagnosis\"].apply(lambda x: x[:3])\n",
    "#[\"diaGroups_GT\"] = np.where(classification_data_v1[\"diaGroups_new\"]==\"C83\", 1, np.where(classification_data_v1[\"diaGroups_new\"]==\"C81\", 2, 3))"
   ]
  },
  {
   "cell_type": "code",
   "execution_count": null,
   "metadata": {},
   "outputs": [],
   "source": [
    "classification_data_v1.groupby(\"diagnosis_groups\")['patient_ID'].nunique().sort_values(ascending=False)"
   ]
  },
  {
   "cell_type": "code",
   "execution_count": null,
   "metadata": {},
   "outputs": [],
   "source": [
    "classification_data_v1[\"patientDOB\"] = classification_data_v1.apply(lambda x: str(x[\"BirthYear\"]) + (str(x[\"BirthMonth\"]) if len(str(x[\"BirthMonth\"]))>1 else \"0\" + str(x[\"BirthMonth\"])) + \"15\", axis=1)\n",
    "classification_data_v1[[\"scan_date\", \"patientDOB\"]][:5]"
   ]
  },
  {
   "cell_type": "code",
   "execution_count": null,
   "metadata": {},
   "outputs": [],
   "source": [
    "from datetime import date\n",
    "\n",
    "classification_data_v1[\"scan_date\"] = pd.to_datetime(classification_data_v1[\"scan_date\"], format=\"%Y%m%d\")\n",
    "classification_data_v1[\"patientDOB\"] = pd.to_datetime(classification_data_v1[\"patientDOB\"], format=\"%Y%m%d\")\n",
    "classification_data_v1[\"consentDate\"] = pd.to_datetime(classification_data_v1[\"consentDate\"], format=\"%Y-%m-%d\")\n",
    "classification_data_v1[[\"patientDOB\", \"scan_date\", \"consentDate\"]][:5]"
   ]
  },
  {
   "cell_type": "code",
   "execution_count": null,
   "metadata": {},
   "outputs": [],
   "source": [
    "def calculateAge(dob, scan_date):\n",
    "    return scan_date.year - dob.year - ((scan_date.month, scan_date.day) < (dob.month, dob.day))"
   ]
  },
  {
   "cell_type": "code",
   "execution_count": null,
   "metadata": {},
   "outputs": [],
   "source": [
    "classification_data_v1[\"age\"] = classification_data_v1.apply(lambda x: calculateAge(x[\"patientDOB\"], x[\"scan_date\"]), axis=1)\n",
    "classification_data_v1[[\"patientDOB\", \"scan_date\", \"age\"]][:5]"
   ]
  },
  {
   "cell_type": "code",
   "execution_count": null,
   "metadata": {},
   "outputs": [],
   "source": [
    "classification_data_v1[\"diff_date (abs(sd-cd))\"] = classification_data_v1.apply(lambda x: abs((x[\"scan_date\"] - x[\"consentDate\"])/np.timedelta64(1, 'D')), axis=1)"
   ]
  },
  {
   "cell_type": "code",
   "execution_count": null,
   "metadata": {},
   "outputs": [],
   "source": [
    "display_full(classification_data_v1)"
   ]
  },
  {
   "cell_type": "code",
   "execution_count": null,
   "metadata": {},
   "outputs": [],
   "source": [
    "classification_data_v1.columns"
   ]
  },
  {
   "cell_type": "code",
   "execution_count": null,
   "metadata": {},
   "outputs": [],
   "source": [
    "classification_data_v2 = classification_data_v1[['patient_ID', 'patientDOB', 'scan_date', 'consentDate', 'diff_date (abs(sd-cd))', 'sex', 'patient_age', 'diagnosis_groups', \n",
    "                                                 'translatedDiagnosis', 'SUV_MIP', 'CT_MIP', 'SUV_bone', 'CT_bone', 'SUV_lean', 'CT_lean', 'SUV_adipose', \n",
    "                                                 'CT_adipose', 'SUV_air', 'CT_air']].copy()\n",
    "classification_data_v2 = classification_data_v2.rename(columns={'patientDOB':'dob', 'patient_age':'age', 'consentDate':'consent_date', 'translatedDiagnosis':'diagnosis'})\n",
    "classification_data_v2 = classification_data_v2.sort_values([\"patient_ID\", \"scan_date\"])\n",
    "display_full(classification_data_v2.head(4))"
   ]
  },
  {
   "cell_type": "code",
   "execution_count": null,
   "metadata": {},
   "outputs": [],
   "source": [
    "display_full(classification_data_v2)"
   ]
  },
  {
   "cell_type": "code",
   "execution_count": null,
   "metadata": {},
   "outputs": [],
   "source": [
    "classification_data_v2.patient_ID.nunique()"
   ]
  },
  {
   "cell_type": "code",
   "execution_count": null,
   "metadata": {},
   "outputs": [],
   "source": [
    "#classification_data_v2[classification_data_v2.age != classification_data_v2.patient_age]"
   ]
  },
  {
   "cell_type": "code",
   "execution_count": null,
   "metadata": {},
   "outputs": [],
   "source": [
    "classification_data_v2.to_excel(\"/home/ashish/Ashish/UCAN/dataset_for_training_366patients_clinical20231129.xlsx\", index=False)"
   ]
  },
  {
   "cell_type": "code",
   "execution_count": null,
   "metadata": {},
   "outputs": [],
   "source": []
  },
  {
   "cell_type": "markdown",
   "metadata": {},
   "source": [
    "### select baseline scans with closest date to consent date"
   ]
  },
  {
   "cell_type": "code",
   "execution_count": null,
   "metadata": {},
   "outputs": [],
   "source": [
    "classification_data_v3 = classification_data_v2.copy()\n",
    "display_full(classification_data_v3.head(3))"
   ]
  },
  {
   "cell_type": "code",
   "execution_count": null,
   "metadata": {},
   "outputs": [],
   "source": [
    "classification_data_v3[\"rank\"] = classification_data_v3.groupby(\"patient_ID\")[\"diff_date (abs(sd-cd))\"].rank(method=\"min\", ascending=True)\n",
    "display_full(classification_data_v3[['patient_ID', 'dob', 'scan_date', 'consent_date', 'diff_date (abs(sd-cd))', \"rank\"]].sort_values([\"patient_ID\",\"rank\"]))"
   ]
  },
  {
   "cell_type": "code",
   "execution_count": null,
   "metadata": {},
   "outputs": [],
   "source": [
    "df1 = classification_data_v3[classification_data_v3[\"rank\"]==1].copy()\n",
    "df1.drop(columns=\"rank\", inplace=True)\n",
    "df1.shape"
   ]
  },
  {
   "cell_type": "code",
   "execution_count": null,
   "metadata": {},
   "outputs": [],
   "source": [
    "nan_df = classification_data_v3[classification_data_v3[\"rank\"].isin([np.nan])].copy()\n",
    "nan_df[\"rank1\"] = nan_df.groupby(\"patient_ID\")[\"scan_date\"].rank(method=\"first\", ascending=False)\n",
    "nan_df[[\"patient_ID\", \"scan_date\", \"rank1\"]]"
   ]
  },
  {
   "cell_type": "code",
   "execution_count": null,
   "metadata": {},
   "outputs": [],
   "source": [
    "df2 = nan_df[nan_df[\"rank1\"]==1].copy()\n",
    "df2.drop(columns=[\"rank\", \"rank1\"], inplace=True)\n",
    "df2.head(2)"
   ]
  },
  {
   "cell_type": "code",
   "execution_count": null,
   "metadata": {},
   "outputs": [],
   "source": [
    "classification_data_v4 = pd.concat([df1,df2], ignore_index=True).reset_index(drop=True)\n",
    "print(classification_data_v4.shape)\n",
    "display_full(classification_data_v4.head())"
   ]
  },
  {
   "cell_type": "code",
   "execution_count": null,
   "metadata": {},
   "outputs": [],
   "source": [
    "classification_data_v4.to_excel(\"/home/ashish/Ashish/UCAN/dataset_for_training_366patients_baseline_scans_clinical20231129.xlsx\", index=False)"
   ]
  },
  {
   "cell_type": "code",
   "execution_count": null,
   "metadata": {},
   "outputs": [],
   "source": []
  },
  {
   "cell_type": "markdown",
   "metadata": {},
   "source": [
    "### remove nan"
   ]
  },
  {
   "cell_type": "code",
   "execution_count": null,
   "metadata": {},
   "outputs": [],
   "source": [
    "images_with_nan_values = classification_data_v1.copy()\n",
    "images_with_nan_values['incorrect_projection'] = 'False'\n",
    "\n",
    "# Loop through each row of the dataset and check if there are any arrays with NaN values in them\n",
    "for index, row in images_with_nan_values.iterrows():\n",
    "    arr = np.load(row[\"SUV_MIP\"])\n",
    "    if np.isnan(arr).any():\n",
    "        images_with_nan_values.at[index, 'incorrect_projection'] = 'True'\n",
    "        print(row[\"SUV_MIP\"])\n",
    "        continue\n",
    "\n",
    "    arr = np.load(row[\"SUV_bone\"])\n",
    "    if np.isnan(arr).any():\n",
    "        images_with_nan_values.at[index, 'incorrect_projection'] = 'True'\n",
    "        print(row[\"SUV_bone\"])\n",
    "        continue\n",
    "        \n",
    "    arr = np.load(row[\"SUV_lean\"])\n",
    "    if np.isnan(arr).any():\n",
    "        images_with_nan_values.at[index, 'incorrect_projection'] = 'True'\n",
    "        print(row[\"SUV_lean\"])\n",
    "        continue\n",
    "        \n",
    "    arr = np.load(row[\"SUV_adipose\"])\n",
    "    if np.isnan(arr).any():\n",
    "        images_with_nan_values.at[index, 'incorrect_projection'] = 'True'\n",
    "        print(row[\"SUV_adipose\"])\n",
    "        continue\n",
    "        \n",
    "    arr = np.load(row[\"SUV_air\"])\n",
    "    if np.isnan(arr).any():\n",
    "        images_with_nan_values.at[index, 'incorrect_projection'] = 'True'\n",
    "        print(row[\"SUV_air\"])\n",
    "        continue\n",
    "        \n",
    "    arr = np.load(row[\"CT_MIP\"])\n",
    "    if np.isnan(arr).any():\n",
    "        images_with_nan_values.at[index, 'incorrect_projection'] = 'True'\n",
    "        print(row[\"CT_MIP\"])\n",
    "        continue\n",
    "        \n",
    "    arr = np.load(row[\"CT_bone\"])\n",
    "    if np.isnan(arr).any():\n",
    "        images_with_nan_values.at[index, 'incorrect_projection'] = 'True'\n",
    "        print(row[\"CT_bone\"])\n",
    "        continue\n",
    "        \n",
    "    arr = np.load(row[\"CT_lean\"])\n",
    "    if np.isnan(arr).any():\n",
    "        images_with_nan_values.at[index, 'incorrect_projection'] = 'True'\n",
    "        print(row[\"CT_lean\"])\n",
    "        continue\n",
    "        \n",
    "    arr = np.load(row[\"CT_adipose\"])\n",
    "    if np.isnan(arr).any():\n",
    "        images_with_nan_values.at[index, 'incorrect_projection'] = 'True'\n",
    "        print(row[\"CT_adipose\"])\n",
    "        continue\n",
    "        \n",
    "    arr = np.load(row[\"CT_air\"])\n",
    "    if np.isnan(arr).any():\n",
    "        images_with_nan_values.at[index, 'incorrect_projection'] = 'True'\n",
    "        print(row[\"CT_air\"])\n",
    "        continue\n",
    "\n",
    "display_full(images_with_nan_values[images_with_nan_values['incorrect_projection'] == 'True'])"
   ]
  },
  {
   "cell_type": "code",
   "execution_count": null,
   "metadata": {},
   "outputs": [],
   "source": [
    "classification_data_v2 = images_with_nan_values[images_with_nan_values['incorrect_projection'] == 'False'].copy()\n",
    "classification_data_v2 = classification_data_v2[classification_data_v2.sex.isin([\"MALE\", \"FEMALE\"])].copy()\n",
    "\n",
    "classification_data_v2['sex'] = np.where(classification_data_v2['sex']==\"MALE\", 1, 0)\n",
    "\n",
    "classification_data_v2.to_excel(\"/home/ashish/Ashish/UCAN/dataset_for_training_classification_v2.xlsx\", index=False)"
   ]
  },
  {
   "cell_type": "code",
   "execution_count": null,
   "metadata": {},
   "outputs": [],
   "source": [
    "classification_data_v2.npr.nunique()"
   ]
  },
  {
   "cell_type": "code",
   "execution_count": null,
   "metadata": {},
   "outputs": [],
   "source": [
    "classification_data_v2 = classification_data_v1[classification_data_v1.sex.isin([\"MALE\", \"FEMALE\"])].copy()\n",
    "\n",
    "classification_data_v2['sex'] = np.where(classification_data_v2['sex']==\"MALE\", 1, 0)\n",
    "display_full(classification_data_v2.head(2))\n",
    "classification_data_v2.to_excel(\"/home/ashish/Ashish/UCAN/ReshapedCollages/dataset_for_training_classification_v2.xlsx\", index=False)"
   ]
  },
  {
   "cell_type": "code",
   "execution_count": null,
   "metadata": {},
   "outputs": [],
   "source": [
    "classification_data_v2.sex.value_counts()\n",
    "classification_data_v2"
   ]
  },
  {
   "cell_type": "code",
   "execution_count": null,
   "metadata": {},
   "outputs": [],
   "source": [
    "df= pd.read_excel(\"/home/ashish/Ashish/UCAN/ReshapedCollages/dataset_for_training_classification_v2.xlsx\")\n",
    "df.columns"
   ]
  },
  {
   "cell_type": "code",
   "execution_count": null,
   "metadata": {},
   "outputs": [],
   "source": [
    "df[\"D_group\"] = df[\"Diagnosis\"].apply(lambda x: x[:3])\n",
    "df.head(3)"
   ]
  },
  {
   "cell_type": "code",
   "execution_count": null,
   "metadata": {},
   "outputs": [],
   "source": [
    "df.groupby(\"D_group\")['npr'].nunique().sort_values(ascending=False)"
   ]
  },
  {
   "cell_type": "code",
   "execution_count": null,
   "metadata": {},
   "outputs": [],
   "source": [
    "86+25+5+4+3+3+2+1+1"
   ]
  },
  {
   "cell_type": "code",
   "execution_count": null,
   "metadata": {},
   "outputs": [],
   "source": [
    "display_full(df.groupby(\"Diagnosis\")['npr'].nunique().sort_values(ascending=False))"
   ]
  },
  {
   "cell_type": "code",
   "execution_count": null,
   "metadata": {},
   "outputs": [],
   "source": [
    "display_full(df.Diagnosis.value_counts())"
   ]
  },
  {
   "cell_type": "code",
   "execution_count": 2,
   "metadata": {},
   "outputs": [],
   "source": [
    "df = pd.read_excel(\"/media/andres/T7 Shield1/UCAN_project/dataset_for_model_classification_training.xlsx\")"
   ]
  },
  {
   "cell_type": "code",
   "execution_count": 3,
   "metadata": {},
   "outputs": [],
   "source": [
    "df = df[\"patient_ID\"]"
   ]
  },
  {
   "cell_type": "code",
   "execution_count": 4,
   "metadata": {},
   "outputs": [
    {
     "data": {
      "text/plain": [
       "364"
      ]
     },
     "execution_count": 4,
     "metadata": {},
     "output_type": "execute_result"
    }
   ],
   "source": [
    "df.nunique()"
   ]
  },
  {
   "cell_type": "code",
   "execution_count": 5,
   "metadata": {},
   "outputs": [
    {
     "data": {
      "text/plain": [
       "(720,)"
      ]
     },
     "execution_count": 5,
     "metadata": {},
     "output_type": "execute_result"
    },
    {
     "ename": "",
     "evalue": "",
     "output_type": "error",
     "traceback": [
      "\u001b[1;31mThe Kernel crashed while executing code in the the current cell or a previous cell. Please review the code in the cell(s) to identify a possible cause of the failure. Click <a href='https://aka.ms/vscodeJupyterKernelCrash'>here</a> for more info. View Jupyter <a href='command:jupyter.viewOutput'>log</a> for further details."
     ]
    }
   ],
   "source": [
    "df.shape"
   ]
  },
  {
   "cell_type": "code",
   "execution_count": null,
   "metadata": {},
   "outputs": [],
   "source": []
  }
 ],
 "metadata": {
  "kernelspec": {
   "display_name": "UCANProject",
   "language": "python",
   "name": "python3"
  },
  "language_info": {
   "codemirror_mode": {
    "name": "ipython",
    "version": 3
   },
   "file_extension": ".py",
   "mimetype": "text/x-python",
   "name": "python",
   "nbconvert_exporter": "python",
   "pygments_lexer": "ipython3",
   "version": "3.11.5"
  }
 },
 "nbformat": 4,
 "nbformat_minor": 2
}
