{
 "cells": [
  {
   "cell_type": "code",
   "execution_count": 93,
   "metadata": {},
   "outputs": [],
   "source": [
    "import numpy as np\n",
    "import pandas as pd\n",
    "import SimpleITK as sitk\n",
    "from tqdm import tqdm\n",
    "import scipy.ndimage\n",
    "import cv2\n",
    "import os\n",
    "import sys\n",
    "\n",
    "def display_full(x):\n",
    "    with pd.option_context(\"display.max_rows\", None,\n",
    "                           \"display.max_columns\", None,\n",
    "                           \"display.width\", 20000,\n",
    "                           \"display.max_colwidth\", None,\n",
    "                           ):\n",
    "        print(x)"
   ]
  },
  {
   "cell_type": "code",
   "execution_count": 2,
   "metadata": {},
   "outputs": [],
   "source": [
    "selected_exams = pd.read_excel(\"/media/andres/T7 Shield/ucan_lymfom/Excel_files/06_11_2023/Finalized_dataset.xlsx\")\n",
    "collages_df = pd.read_excel(\"/media/andres/T7 Shield1/UCAN_project/df_for_collages.xlsx\")"
   ]
  },
  {
   "cell_type": "code",
   "execution_count": 18,
   "metadata": {},
   "outputs": [
    {
     "name": "stdout",
     "output_type": "stream",
     "text": [
      "        patient_ID  num_slices\n",
      "0  lpr385705046400         215\n",
      "1  lpr385705046400         247\n",
      "2  lpr415675513429         382\n",
      "3  lpr415675513429         341\n",
      "4  lpr415675513429        1337\n"
     ]
    }
   ],
   "source": [
    "patiend_ID_num_slices_df = selected_exams[[\"patient_id\", \"num_slices\"]]\n",
    "patiend_ID_num_slices_df = patiend_ID_num_slices_df.rename(columns={\"patient_id\": \"patient_ID\"})\n",
    "display_full(patiend_ID_num_slices_df.head())"
   ]
  },
  {
   "cell_type": "code",
   "execution_count": 20,
   "metadata": {},
   "outputs": [
    {
     "name": "stdout",
     "output_type": "stream",
     "text": [
      "        patient_ID  scan_date                                                                                                 SUV_MIP                                                                                                 CT_MIP                                                                                                 SUV_bone                                                                                                 CT_bone                                                                                                 SUV_lean                                                                                                 CT_lean                                                                                                 SUV_adipose                                                                                                 CT_adipose                                                                                                 SUV_air                                                                                                 CT_air  angle  num_slices\n",
      "0  lpr385705046400   20140313  /media/andres/T7 Shield1/UCAN_project/Resampled_Projections/lpr385705046400/20140313/SUV_MIP/-90.0.npy  /media/andres/T7 Shield1/UCAN_project/Resampled_Projections/lpr385705046400/20140313/CT_MIP/-90.0.npy  /media/andres/T7 Shield1/UCAN_project/Resampled_Projections/lpr385705046400/20140313/SUV_bone/-90.0.npy  /media/andres/T7 Shield1/UCAN_project/Resampled_Projections/lpr385705046400/20140313/CT_bone/-90.0.npy  /media/andres/T7 Shield1/UCAN_project/Resampled_Projections/lpr385705046400/20140313/SUV_lean/-90.0.npy  /media/andres/T7 Shield1/UCAN_project/Resampled_Projections/lpr385705046400/20140313/CT_lean/-90.0.npy  /media/andres/T7 Shield1/UCAN_project/Resampled_Projections/lpr385705046400/20140313/SUV_adipose/-90.0.npy  /media/andres/T7 Shield1/UCAN_project/Resampled_Projections/lpr385705046400/20140313/CT_adipose/-90.0.npy  /media/andres/T7 Shield1/UCAN_project/Resampled_Projections/lpr385705046400/20140313/SUV_air/-90.0.npy  /media/andres/T7 Shield1/UCAN_project/Resampled_Projections/lpr385705046400/20140313/CT_air/-90.0.npy    -90         215\n",
      "1  lpr385705046400   20140313  /media/andres/T7 Shield1/UCAN_project/Resampled_Projections/lpr385705046400/20140313/SUV_MIP/-90.0.npy  /media/andres/T7 Shield1/UCAN_project/Resampled_Projections/lpr385705046400/20140313/CT_MIP/-90.0.npy  /media/andres/T7 Shield1/UCAN_project/Resampled_Projections/lpr385705046400/20140313/SUV_bone/-90.0.npy  /media/andres/T7 Shield1/UCAN_project/Resampled_Projections/lpr385705046400/20140313/CT_bone/-90.0.npy  /media/andres/T7 Shield1/UCAN_project/Resampled_Projections/lpr385705046400/20140313/SUV_lean/-90.0.npy  /media/andres/T7 Shield1/UCAN_project/Resampled_Projections/lpr385705046400/20140313/CT_lean/-90.0.npy  /media/andres/T7 Shield1/UCAN_project/Resampled_Projections/lpr385705046400/20140313/SUV_adipose/-90.0.npy  /media/andres/T7 Shield1/UCAN_project/Resampled_Projections/lpr385705046400/20140313/CT_adipose/-90.0.npy  /media/andres/T7 Shield1/UCAN_project/Resampled_Projections/lpr385705046400/20140313/SUV_air/-90.0.npy  /media/andres/T7 Shield1/UCAN_project/Resampled_Projections/lpr385705046400/20140313/CT_air/-90.0.npy    -90         247\n",
      "2  lpr385705046400   20140313    /media/andres/T7 Shield1/UCAN_project/Resampled_Projections/lpr385705046400/20140313/SUV_MIP/0.0.npy    /media/andres/T7 Shield1/UCAN_project/Resampled_Projections/lpr385705046400/20140313/CT_MIP/0.0.npy    /media/andres/T7 Shield1/UCAN_project/Resampled_Projections/lpr385705046400/20140313/SUV_bone/0.0.npy    /media/andres/T7 Shield1/UCAN_project/Resampled_Projections/lpr385705046400/20140313/CT_bone/0.0.npy    /media/andres/T7 Shield1/UCAN_project/Resampled_Projections/lpr385705046400/20140313/SUV_lean/0.0.npy    /media/andres/T7 Shield1/UCAN_project/Resampled_Projections/lpr385705046400/20140313/CT_lean/0.0.npy    /media/andres/T7 Shield1/UCAN_project/Resampled_Projections/lpr385705046400/20140313/SUV_adipose/0.0.npy    /media/andres/T7 Shield1/UCAN_project/Resampled_Projections/lpr385705046400/20140313/CT_adipose/0.0.npy    /media/andres/T7 Shield1/UCAN_project/Resampled_Projections/lpr385705046400/20140313/SUV_air/0.0.npy    /media/andres/T7 Shield1/UCAN_project/Resampled_Projections/lpr385705046400/20140313/CT_air/0.0.npy      0         215\n",
      "3  lpr385705046400   20140313    /media/andres/T7 Shield1/UCAN_project/Resampled_Projections/lpr385705046400/20140313/SUV_MIP/0.0.npy    /media/andres/T7 Shield1/UCAN_project/Resampled_Projections/lpr385705046400/20140313/CT_MIP/0.0.npy    /media/andres/T7 Shield1/UCAN_project/Resampled_Projections/lpr385705046400/20140313/SUV_bone/0.0.npy    /media/andres/T7 Shield1/UCAN_project/Resampled_Projections/lpr385705046400/20140313/CT_bone/0.0.npy    /media/andres/T7 Shield1/UCAN_project/Resampled_Projections/lpr385705046400/20140313/SUV_lean/0.0.npy    /media/andres/T7 Shield1/UCAN_project/Resampled_Projections/lpr385705046400/20140313/CT_lean/0.0.npy    /media/andres/T7 Shield1/UCAN_project/Resampled_Projections/lpr385705046400/20140313/SUV_adipose/0.0.npy    /media/andres/T7 Shield1/UCAN_project/Resampled_Projections/lpr385705046400/20140313/CT_adipose/0.0.npy    /media/andres/T7 Shield1/UCAN_project/Resampled_Projections/lpr385705046400/20140313/SUV_air/0.0.npy    /media/andres/T7 Shield1/UCAN_project/Resampled_Projections/lpr385705046400/20140313/CT_air/0.0.npy      0         247\n",
      "4  lpr415675513429   20190201  /media/andres/T7 Shield1/UCAN_project/Resampled_Projections/lpr415675513429/20190201/SUV_MIP/-90.0.npy  /media/andres/T7 Shield1/UCAN_project/Resampled_Projections/lpr415675513429/20190201/CT_MIP/-90.0.npy  /media/andres/T7 Shield1/UCAN_project/Resampled_Projections/lpr415675513429/20190201/SUV_bone/-90.0.npy  /media/andres/T7 Shield1/UCAN_project/Resampled_Projections/lpr415675513429/20190201/CT_bone/-90.0.npy  /media/andres/T7 Shield1/UCAN_project/Resampled_Projections/lpr415675513429/20190201/SUV_lean/-90.0.npy  /media/andres/T7 Shield1/UCAN_project/Resampled_Projections/lpr415675513429/20190201/CT_lean/-90.0.npy  /media/andres/T7 Shield1/UCAN_project/Resampled_Projections/lpr415675513429/20190201/SUV_adipose/-90.0.npy  /media/andres/T7 Shield1/UCAN_project/Resampled_Projections/lpr415675513429/20190201/CT_adipose/-90.0.npy  /media/andres/T7 Shield1/UCAN_project/Resampled_Projections/lpr415675513429/20190201/SUV_air/-90.0.npy  /media/andres/T7 Shield1/UCAN_project/Resampled_Projections/lpr415675513429/20190201/CT_air/-90.0.npy    -90         382\n"
     ]
    }
   ],
   "source": [
    "temp = pd.merge(collages_df, patiend_ID_num_slices_df, on=\"patient_ID\")\n",
    "display_full(temp.head())"
   ]
  },
  {
   "cell_type": "code",
   "execution_count": 57,
   "metadata": {},
   "outputs": [],
   "source": [
    "temp[\"dimensions\"] = 0"
   ]
  },
  {
   "cell_type": "code",
   "execution_count": 59,
   "metadata": {},
   "outputs": [
    {
     "name": "stdout",
     "output_type": "stream",
     "text": [
      "0     362\n",
      "1     362\n",
      "2     362\n",
      "3     362\n",
      "4     501\n",
      "5     501\n",
      "6     501\n",
      "7     501\n",
      "8     501\n",
      "9     501\n",
      "10    501\n",
      "11    501\n",
      "12    421\n",
      "13    421\n",
      "14    421\n",
      "15    421\n",
      "16    421\n",
      "17    421\n",
      "18    421\n",
      "19    421\n",
      "20    501\n",
      "21    501\n",
      "22    501\n",
      "23    501\n",
      "24    421\n",
      "Name: dimensions, dtype: int64\n"
     ]
    }
   ],
   "source": [
    "for row, image in temp.iterrows():\n",
    "    temp_array = np.load(image[\"SUV_MIP\"])\n",
    "    temp.loc[row, \"dimensions\"] = temp_array.shape[0]\n",
    "\n",
    "display_full(temp[\"dimensions\"].head(25))"
   ]
  },
  {
   "cell_type": "code",
   "execution_count": 61,
   "metadata": {},
   "outputs": [
    {
     "name": "stdout",
     "output_type": "stream",
     "text": [
      "Highest number of dimensions: 1056\n"
     ]
    }
   ],
   "source": [
    "print(f\"Highest number of dimensions: {temp['dimensions'].max()}\")"
   ]
  },
  {
   "cell_type": "code",
   "execution_count": 112,
   "metadata": {},
   "outputs": [],
   "source": [
    "for row, image in temp.iterrows():\n",
    "    SUV_MIP = np.load(image[\"SUV_MIP\"])\n",
    "    size = SUV_MIP.shape[0]\n",
    "\n",
    "    temp_pad_int = (1056 - size)//2\n",
    "    temp_pad_float = (1056 - size)/2\n",
    "\n",
    "    pad_before_x = temp_pad_int\n",
    "    pad_after_x = temp_pad_int\n",
    "\n",
    "    if temp_pad_int < temp_pad_float:\n",
    "        pad_before_x = temp_pad_int + 1\n",
    "\n",
    "    result = np.pad(SUV_MIP, ((pad_before_x, pad_after_x), (0,0)))\n",
    "    np.save(image[\"SUV_MIP\"], result)\n",
    "\n",
    "    SUV_bone = np.load(image[\"SUV_bone\"])\n",
    "    result = np.pad(SUV_MIP, ((pad_before_x, pad_after_x), (0,0)))\n",
    "    np.save(image[\"SUV_lean\"], result)\n",
    "\n",
    "    SUV_lean = np.load(image[\"SUV_lean\"])\n",
    "    result = np.pad(SUV_MIP, ((pad_before_x, pad_after_x), (0,0)))\n",
    "    np.save(image[\"SUV_lean\"], result)\n",
    "\n",
    "    SUV_adipose = np.load(image[\"SUV_adipose\"])\n",
    "    result = np.pad(SUV_MIP, ((pad_before_x, pad_after_x), (0,0)))\n",
    "    np.save(image[\"SUV_adipose\"], result)\n",
    "\n",
    "    SUV_air = np.load(image[\"SUV_air\"])\n",
    "    result = np.pad(SUV_MIP, ((pad_before_x, pad_after_x), (0,0)))\n",
    "    np.save(image[\"SUV_air\"], result)\n",
    "    \n",
    "    CT_MIP = np.load(image[\"CT_MIP\"])\n",
    "    result = np.pad(SUV_MIP, ((pad_before_x, pad_after_x), (0,0)))\n",
    "    np.save(image[\"CT_MIP\"], result)\n",
    "\n",
    "    CT_bone = np.load(image[\"CT_bone\"])\n",
    "    result = np.pad(SUV_MIP, ((pad_before_x, pad_after_x), (0,0)))\n",
    "    np.save(image[\"CT_bone\"], result)\n",
    "\n",
    "    CT_lean = np.load(image[\"CT_lean\"])\n",
    "    result = np.pad(SUV_MIP, ((pad_before_x, pad_after_x), (0,0)))\n",
    "    np.save(image[\"CT_lean\"], result)\n",
    "\n",
    "    CT_adipose = np.load(image[\"CT_adipose\"])\n",
    "    result = np.pad(SUV_MIP, ((pad_before_x, pad_after_x), (0,0)))\n",
    "    np.save(image[\"CT_adipose\"], result)\n",
    "\n",
    "    CT_air = np.load(image[\"CT_air\"])\n",
    "    result = np.pad(SUV_MIP, ((pad_before_x, pad_after_x), (0,0)))\n",
    "    np.save(image[\"CT_air\"], result)"
   ]
  },
  {
   "cell_type": "code",
   "execution_count": 114,
   "metadata": {},
   "outputs": [
    {
     "data": {
      "text/plain": [
       "(1056, 256)"
      ]
     },
     "execution_count": 114,
     "metadata": {},
     "output_type": "execute_result"
    }
   ],
   "source": [
    "file = \"/media/andres/T7 Shield1/UCAN_project/Resampled_Projections/lpr385705046400/20140313/CT_MIP/-90.0.npy\"\n",
    "image = np.load(file)\n",
    "image.shape"
   ]
  },
  {
   "cell_type": "code",
   "execution_count": null,
   "metadata": {},
   "outputs": [],
   "source": []
  }
 ],
 "metadata": {
  "kernelspec": {
   "display_name": "UCANProject",
   "language": "python",
   "name": "python3"
  },
  "language_info": {
   "codemirror_mode": {
    "name": "ipython",
    "version": 3
   },
   "file_extension": ".py",
   "mimetype": "text/x-python",
   "name": "python",
   "nbconvert_exporter": "python",
   "pygments_lexer": "ipython3",
   "version": "3.11.5"
  }
 },
 "nbformat": 4,
 "nbformat_minor": 2
}
