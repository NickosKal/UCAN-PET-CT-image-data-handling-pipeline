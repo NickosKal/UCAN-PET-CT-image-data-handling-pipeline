{
 "cells": [
  {
   "cell_type": "code",
   "execution_count": 1,
   "metadata": {},
   "outputs": [],
   "source": [
    "import numpy as np\n",
    "import pandas as pd\n",
    "import SimpleITK as sitk\n",
    "from tqdm import tqdm\n",
    "import scipy.ndimage\n",
    "import cv2\n",
    "import os\n",
    "\n",
    "import sys"
   ]
  },
  {
   "cell_type": "code",
   "execution_count": 3,
   "metadata": {},
   "outputs": [
    {
     "name": "stderr",
     "output_type": "stream",
     "text": [
      "100%|██████████| 1168/1168 [06:49<00:00,  2.85it/s]\n"
     ]
    }
   ],
   "source": [
    "output_path = \"/media/andres/T7 Shield1/UCAN_project/collages/\"\n",
    "df_for_collages = pd.read_excel(\"/media/andres/T7 Shield1/UCAN_project/df_for_collages.xlsx\")\n",
    "scan_dates = np.unique(df_for_collages[\"scan_date\"])\n",
    "\n",
    "for scan_date in tqdm(scan_dates):\n",
    "    temp = df_for_collages[df_for_collages[\"scan_date\"] == scan_date]\n",
    "    save_path = os.path.join(output_path, str(temp[\"patient_ID\"].iloc[0]), str(temp[\"scan_date\"].iloc[0]))\n",
    "\n",
    "    if not os.path.exists(save_path):\n",
    "        os.makedirs(save_path)\n",
    "\n",
    "    SUV_MIP_list = []\n",
    "    SUV_bone_list = []\n",
    "    SUV_lean_list = []\n",
    "    SUV_adipose_list = []\n",
    "    SUV_air_list = []\n",
    "\n",
    "    CT_MIP_list = []\n",
    "    CT_bone_list = []\n",
    "    CT_lean_list = []\n",
    "    CT_adipose_list = []\n",
    "    CT_air_list = []\n",
    "\n",
    "    for idx, row in temp.iterrows():\n",
    "        SUV_MIP_list.append(np.load(row[\"SUV_MIP\"]))\n",
    "        SUV_bone_list.append(np.load(row[\"SUV_bone\"]))\n",
    "        SUV_lean_list.append(np.load(row[\"SUV_lean\"]))\n",
    "        SUV_adipose_list.append(np.load(row[\"SUV_adipose\"]))\n",
    "        SUV_air_list.append(np.load(row[\"SUV_air\"]))\n",
    "        \n",
    "        CT_MIP_list.append(np.load(row[\"CT_MIP\"]))\n",
    "        CT_bone_list.append(np.load(row[\"CT_bone\"]))\n",
    "        CT_lean_list.append(np.load(row[\"CT_lean\"]))\n",
    "        CT_adipose_list.append(np.load(row[\"CT_adipose\"]))\n",
    "        CT_air_list.append(np.load(row[\"CT_air\"]))\n",
    "    \n",
    "    SUV_MIP = np.concatenate((SUV_MIP_list[0], SUV_MIP_list[1]), axis=1)\n",
    "    np.save(os.path.join(save_path, \"SUV_MIP.npy\"), SUV_MIP)\n",
    "\n",
    "    SUV_bone = np.concatenate((SUV_bone_list[0], SUV_bone_list[1]), axis=1)\n",
    "    np.save(os.path.join(save_path, \"SUV_bone.npy\"), SUV_bone)\n",
    "\n",
    "    SUV_lean = np.concatenate((SUV_lean_list[0], SUV_lean_list[1]), axis=1)\n",
    "    np.save(os.path.join(save_path, \"SUV_lean.npy\"), SUV_lean)\n",
    "\n",
    "    SUV_adipose = np.concatenate((SUV_adipose_list[0], SUV_adipose_list[1]), axis=1)\n",
    "    np.save(os.path.join(save_path, \"SUV_adipose.npy\"), SUV_adipose)\n",
    "\n",
    "    SUV_air = np.concatenate((SUV_air_list[0], SUV_air_list[1]), axis=1)\n",
    "    np.save(os.path.join(save_path, \"SUV_air.npy\"), SUV_air)\n",
    "\n",
    "    CT_MIP = np.concatenate((CT_MIP_list[0], CT_MIP_list[1]), axis=1)\n",
    "    np.save(os.path.join(save_path, \"CT_MIP.npy\"), CT_MIP)\n",
    "\n",
    "    CT_bone = np.concatenate((CT_bone_list[0], CT_bone_list[1]), axis=1)\n",
    "    np.save(os.path.join(save_path, \"CT_bone.npy\"), CT_bone)\n",
    "\n",
    "    CT_lean = np.concatenate((CT_lean_list[0], CT_lean_list[1]), axis=1)\n",
    "    np.save(os.path.join(save_path, \"CT_lean.npy\"), CT_lean)\n",
    "\n",
    "    CT_adipose = np.concatenate((CT_adipose_list[0], CT_adipose_list[1]), axis=1)\n",
    "    np.save(os.path.join(save_path, \"CT_adipose.npy\"), CT_adipose)\n",
    "\n",
    "    CT_air = np.concatenate((CT_air_list[0], CT_air_list[1]), axis=1)\n",
    "    np.save(os.path.join(save_path, \"CT_air.npy\"), CT_air)\n",
    "\n",
    "\n"
   ]
  },
  {
   "cell_type": "code",
   "execution_count": null,
   "metadata": {},
   "outputs": [],
   "source": []
  }
 ],
 "metadata": {
  "kernelspec": {
   "display_name": "UCANProject",
   "language": "python",
   "name": "python3"
  },
  "language_info": {
   "codemirror_mode": {
    "name": "ipython",
    "version": 3
   },
   "file_extension": ".py",
   "mimetype": "text/x-python",
   "name": "python",
   "nbconvert_exporter": "python",
   "pygments_lexer": "ipython3",
   "version": "3.11.5"
  }
 },
 "nbformat": 4,
 "nbformat_minor": 2
}
