{
 "cells": [
  {
   "cell_type": "code",
   "execution_count": 2,
   "metadata": {},
   "outputs": [],
   "source": [
    "import numpy as np\n",
    "import pandas as pd\n",
    "import SimpleITK as sitk\n",
    "from tqdm import tqdm\n",
    "import scipy.ndimage\n",
    "import cv2\n",
    "import os\n",
    "from matplotlib import pyplot as plt\n",
    "import sys\n",
    "\n",
    "# Get the home directory\n",
    "home_directory = os.path.expanduser('~')\n",
    "\n",
    "# Append the parent directory to the Python path\n",
    "sys.path.append(os.path.join(home_directory, 'Ashish/UCAN', 'UCAN-PET-CT-image-data-handling-pipeline'))\n",
    "\n",
    "from Utils import utils\n",
    "\n",
    "def display_full(x):\n",
    "    with pd.option_context(\"display.max_rows\", None,\n",
    "                           \"display.max_columns\", None,\n",
    "                           \"display.width\", 20000,\n",
    "                           \"display.max_colwidth\", None,\n",
    "                           ):\n",
    "        print(x)"
   ]
  },
  {
   "cell_type": "code",
   "execution_count": 3,
   "metadata": {},
   "outputs": [],
   "source": [
    "def get_proj_after_mask(img):\n",
    "    \n",
    "    '''\n",
    "\n",
    "    Function to get 3D masks for CT scans to segment out the exact tissue type.\n",
    "\n",
    "    '''\n",
    "\n",
    "    pix_array=sitk.GetArrayFromImage(img)\n",
    "    max_i, min_i=float(pix_array.max()),float(pix_array.min())\n",
    "\n",
    "    #multiply= sitk.MultiplyImageFilter()\n",
    "    #if hu_type == 'Bone' or hu_type == 'bone' or hu_type == 'B':\n",
    "    bone_mask = sitk.BinaryThreshold(\n",
    "    img, lowerThreshold=200, upperThreshold=max_i,insideValue=1, outsideValue=0\n",
    "    )\n",
    "    \n",
    "    tracer_contrast_mask = sitk.BinaryThreshold(\n",
    "    img, lowerThreshold=151, upperThreshold=199,insideValue=1, outsideValue=0\n",
    "    )\n",
    "\n",
    "    #bone_mask = multiply.Execute(img,sitk.Cast(seg,img.GetPixelID()))\n",
    "        # path= img_n + r'_{0}_image.nii'.format(modality + '_' + type)\n",
    "        # save_as_gz(op_img,path)\n",
    "    #elif hu_type == 'Lean Tissue' or hu_type == 'lean' or hu_type == 'LT':\n",
    "    lean_mask = sitk.BinaryThreshold(\n",
    "    img, lowerThreshold=-29, upperThreshold=150, insideValue=1, outsideValue=0\n",
    "    )\n",
    "    #lean_mask = multiply.Execute(img,sitk.Cast(seg,img.GetPixelID()))\n",
    "\n",
    "    #elif hu_type == 'Adipose' or hu_type == 'adipose' or hu_type == 'AT':\n",
    "    adipose_mask = sitk.BinaryThreshold(\n",
    "    img, lowerThreshold=-199, upperThreshold=-30, insideValue=1, outsideValue=0\n",
    "    )\n",
    "    #adipose_mask = multiply.Execute(img,sitk.Cast(seg,img.GetPixelID()))\n",
    "        \n",
    "    #elif hu_type == 'Air' or hu_type == 'A':\n",
    "    air_mask = sitk.BinaryThreshold(\n",
    "    img, lowerThreshold=min_i, upperThreshold=-191, insideValue=1, outsideValue=0\n",
    "    )\n",
    "    #air_mask = multiply.Execute(img,sitk.Cast(seg,img.GetPixelID()))\n",
    "    \n",
    "    return bone_mask, lean_mask, adipose_mask, air_mask, tracer_contrast_mask"
   ]
  },
  {
   "cell_type": "code",
   "execution_count": 4,
   "metadata": {},
   "outputs": [],
   "source": [
    "CT_path = \"/home/ashish/Ashish/UCAN/Resampled_SUV_CT/npr100169878450_SUV_CT/20130412/CT.nii.gz\""
   ]
  },
  {
   "cell_type": "code",
   "execution_count": 5,
   "metadata": {},
   "outputs": [],
   "source": [
    "CT_img = sitk.ReadImage(CT_path)"
   ]
  },
  {
   "cell_type": "code",
   "execution_count": 6,
   "metadata": {},
   "outputs": [],
   "source": [
    "bone_mask, lean_mask, adipose_mask, air_mask, tracer_contrast_mask = get_proj_after_mask(CT_img)"
   ]
  },
  {
   "cell_type": "code",
   "execution_count": 7,
   "metadata": {},
   "outputs": [
    {
     "data": {
      "text/plain": [
       "array([0, 1], dtype=uint8)"
      ]
     },
     "execution_count": 7,
     "metadata": {},
     "output_type": "execute_result"
    }
   ],
   "source": [
    "lean_mask_arr = sitk.GetArrayFromImage(lean_mask)\n",
    "np.unique(lean_mask_arr)"
   ]
  },
  {
   "cell_type": "code",
   "execution_count": 8,
   "metadata": {},
   "outputs": [
    {
     "data": {
      "text/plain": [
       "2479840"
      ]
     },
     "execution_count": 8,
     "metadata": {},
     "output_type": "execute_result"
    }
   ],
   "source": [
    "lean_mask_arr.sum()"
   ]
  },
  {
   "cell_type": "code",
   "execution_count": 9,
   "metadata": {},
   "outputs": [
    {
     "data": {
      "text/plain": [
       "(array([0, 1], dtype=uint8), array([16328992,  2479840]))"
      ]
     },
     "execution_count": 9,
     "metadata": {},
     "output_type": "execute_result"
    }
   ],
   "source": [
    "np.unique(lean_mask_arr, return_counts=True)"
   ]
  },
  {
   "cell_type": "code",
   "execution_count": 10,
   "metadata": {},
   "outputs": [],
   "source": [
    "voxel_spacing = [2.0364201068878174, 2.0364201068878174, 3.0]"
   ]
  },
  {
   "cell_type": "code",
   "execution_count": 11,
   "metadata": {},
   "outputs": [
    {
     "data": {
      "text/plain": [
       "30.851740413634367"
      ]
     },
     "execution_count": 11,
     "metadata": {},
     "output_type": "execute_result"
    }
   ],
   "source": [
    "# calculate lean density of lean muscle # multiply with 1e-3 to covert mm3 to cm3 (ml)  # ml * 1e-3 litres\n",
    "density = lean_mask_arr.sum() * voxel_spacing[0] * voxel_spacing[1] * voxel_spacing[2] * 1e-6\n",
    "density"
   ]
  },
  {
   "cell_type": "code",
   "execution_count": 12,
   "metadata": {},
   "outputs": [
    {
     "name": "stdout",
     "output_type": "stream",
     "text": [
      "[0 1]\n",
      "266094\n",
      "(array([0, 1], dtype=uint8), array([18542738,   266094]))\n"
     ]
    },
    {
     "data": {
      "text/plain": [
       "3.3104809236183073"
      ]
     },
     "execution_count": 12,
     "metadata": {},
     "output_type": "execute_result"
    }
   ],
   "source": [
    "# calculate bone skeleton density\n",
    "bone_mask_arr = sitk.GetArrayFromImage(bone_mask)\n",
    "print(np.unique(bone_mask_arr))\n",
    "print(bone_mask_arr.sum())\n",
    "print(np.unique(bone_mask_arr, return_counts=True))\n",
    "bone_mask_arr.sum() * voxel_spacing[0] * voxel_spacing[1] * voxel_spacing[2] * 1e-6"
   ]
  },
  {
   "cell_type": "code",
   "execution_count": 13,
   "metadata": {},
   "outputs": [
    {
     "name": "stdout",
     "output_type": "stream",
     "text": [
      "Finished generating 3 - mean intensity 2D projections from the CT volume image! \n"
     ]
    }
   ],
   "source": [
    "multiply= sitk.MultiplyImageFilter()\n",
    "CT_tracer_contrast = multiply.Execute(CT_img,sitk.Cast(tracer_contrast_mask,CT_img.GetPixelID()))\n",
    "\n",
    "CT_ptype = 'mean'\n",
    "SUV_ptype = 'max'\n",
    "angle = 90\n",
    "\n",
    "raw_projections_path = \"/home/ashish/Ashish/UCAN/Testing/test_new_projections/\"\n",
    "\n",
    "utils.get_2D_projections(CT_tracer_contrast, 'CT', CT_ptype, angle, invert_intensity= True, img_n=raw_projections_path)\n",
    "    "
   ]
  },
  {
   "cell_type": "code",
   "execution_count": 15,
   "metadata": {},
   "outputs": [
    {
     "name": "stdout",
     "output_type": "stream",
     "text": [
      "                            source_directory       patient_directory scan_date              npr\n",
      "0  /home/ashish/Ashish/UCAN/Resampled_SUV_CT  npr865130139443_SUV_CT  20210622  npr865130139443\n",
      "2  /home/ashish/Ashish/UCAN/Resampled_SUV_CT  npr865130139443_SUV_CT  20211126  npr865130139443\n"
     ]
    },
    {
     "ename": "RuntimeError",
     "evalue": "Exception thrown in SimpleITK ImageFileWriter_Execute: /tmp/SimpleITK-build/ITK/Modules/IO/PNG/src/itkPNGImageIO.cxx:518:\nProblem while opening the file.",
     "output_type": "error",
     "traceback": [
      "\u001b[0;31m---------------------------------------------------------------------------\u001b[0m",
      "\u001b[0;31mRuntimeError\u001b[0m                              Traceback (most recent call last)",
      "\u001b[0;32m/tmp/ipykernel_2206504/15291621.py\u001b[0m in \u001b[0;36m?\u001b[0;34m()\u001b[0m\n\u001b[1;32m     33\u001b[0m     \u001b[0mmultiply\u001b[0m\u001b[0;34m=\u001b[0m \u001b[0msitk\u001b[0m\u001b[0;34m.\u001b[0m\u001b[0mMultiplyImageFilter\u001b[0m\u001b[0;34m(\u001b[0m\u001b[0;34m)\u001b[0m\u001b[0;34m\u001b[0m\u001b[0;34m\u001b[0m\u001b[0m\n\u001b[1;32m     34\u001b[0m     \u001b[0;31m#try:\u001b[0m\u001b[0;34m\u001b[0m\u001b[0;34m\u001b[0m\u001b[0m\n\u001b[1;32m     35\u001b[0m \u001b[0;34m\u001b[0m\u001b[0m\n\u001b[1;32m     36\u001b[0m     \u001b[0mCT_tracer_contrast\u001b[0m \u001b[0;34m=\u001b[0m \u001b[0mmultiply\u001b[0m\u001b[0;34m.\u001b[0m\u001b[0mExecute\u001b[0m\u001b[0;34m(\u001b[0m\u001b[0mCT_img\u001b[0m\u001b[0;34m,\u001b[0m\u001b[0msitk\u001b[0m\u001b[0;34m.\u001b[0m\u001b[0mCast\u001b[0m\u001b[0;34m(\u001b[0m\u001b[0mtracer_contrast_mask\u001b[0m\u001b[0;34m,\u001b[0m\u001b[0mCT_img\u001b[0m\u001b[0;34m.\u001b[0m\u001b[0mGetPixelID\u001b[0m\u001b[0;34m(\u001b[0m\u001b[0;34m)\u001b[0m\u001b[0;34m)\u001b[0m\u001b[0;34m)\u001b[0m\u001b[0;34m\u001b[0m\u001b[0;34m\u001b[0m\u001b[0m\n\u001b[0;32m---> 37\u001b[0;31m     \u001b[0mutils\u001b[0m\u001b[0;34m.\u001b[0m\u001b[0mget_2D_projections\u001b[0m\u001b[0;34m(\u001b[0m\u001b[0mCT_tracer_contrast\u001b[0m\u001b[0;34m,\u001b[0m \u001b[0;34m'CT'\u001b[0m\u001b[0;34m,\u001b[0m \u001b[0;34m\"max\"\u001b[0m\u001b[0;34m,\u001b[0m \u001b[0mangle\u001b[0m\u001b[0;34m,\u001b[0m \u001b[0minvert_intensity\u001b[0m\u001b[0;34m=\u001b[0m \u001b[0;32mTrue\u001b[0m\u001b[0;34m,\u001b[0m \u001b[0mimg_n\u001b[0m\u001b[0;34m=\u001b[0m\u001b[0mraw_projections_path\u001b[0m \u001b[0;34m+\u001b[0m \u001b[0mstr\u001b[0m\u001b[0;34m(\u001b[0m\u001b[0mrow\u001b[0m\u001b[0;34m[\u001b[0m\u001b[0;34m'npr'\u001b[0m\u001b[0;34m]\u001b[0m\u001b[0;34m)\u001b[0m \u001b[0;34m+\u001b[0m \u001b[0;34m'_'\u001b[0m \u001b[0;34m+\u001b[0m \u001b[0mstr\u001b[0m\u001b[0;34m(\u001b[0m\u001b[0mrow\u001b[0m\u001b[0;34m[\u001b[0m\u001b[0;34m'scan_date'\u001b[0m\u001b[0;34m]\u001b[0m\u001b[0;34m)\u001b[0m \u001b[0;34m+\u001b[0m \u001b[0;34m'_CT_tracer_contrast_MaxIP_'\u001b[0m\u001b[0;34m)\u001b[0m\u001b[0;34m\u001b[0m\u001b[0;34m\u001b[0m\u001b[0m\n\u001b[0m\u001b[1;32m     38\u001b[0m     \u001b[0mutils\u001b[0m\u001b[0;34m.\u001b[0m\u001b[0mget_2D_projections\u001b[0m\u001b[0;34m(\u001b[0m\u001b[0mCT_tracer_contrast\u001b[0m\u001b[0;34m,\u001b[0m \u001b[0;34m'CT'\u001b[0m\u001b[0;34m,\u001b[0m \u001b[0;34m\"mean\"\u001b[0m\u001b[0;34m,\u001b[0m \u001b[0mangle\u001b[0m\u001b[0;34m,\u001b[0m \u001b[0minvert_intensity\u001b[0m\u001b[0;34m=\u001b[0m \u001b[0;32mTrue\u001b[0m\u001b[0;34m,\u001b[0m \u001b[0mimg_n\u001b[0m\u001b[0;34m=\u001b[0m\u001b[0mraw_projections_path\u001b[0m \u001b[0;34m+\u001b[0m \u001b[0mstr\u001b[0m\u001b[0;34m(\u001b[0m\u001b[0mrow\u001b[0m\u001b[0;34m[\u001b[0m\u001b[0;34m'npr'\u001b[0m\u001b[0;34m]\u001b[0m\u001b[0;34m)\u001b[0m \u001b[0;34m+\u001b[0m \u001b[0;34m'_'\u001b[0m \u001b[0;34m+\u001b[0m \u001b[0mstr\u001b[0m\u001b[0;34m(\u001b[0m\u001b[0mrow\u001b[0m\u001b[0;34m[\u001b[0m\u001b[0;34m'scan_date'\u001b[0m\u001b[0;34m]\u001b[0m\u001b[0;34m)\u001b[0m \u001b[0;34m+\u001b[0m \u001b[0;34m'_CT_tracer_contrast_MeanIP_'\u001b[0m\u001b[0;34m)\u001b[0m\u001b[0;34m\u001b[0m\u001b[0;34m\u001b[0m\u001b[0m\n\u001b[1;32m     39\u001b[0m     \u001b[0mutils\u001b[0m\u001b[0;34m.\u001b[0m\u001b[0mget_2D_projections\u001b[0m\u001b[0;34m(\u001b[0m\u001b[0mCT_tracer_contrast\u001b[0m\u001b[0;34m,\u001b[0m \u001b[0;34m'CT'\u001b[0m\u001b[0;34m,\u001b[0m \u001b[0;34m\"min\"\u001b[0m\u001b[0;34m,\u001b[0m \u001b[0mangle\u001b[0m\u001b[0;34m,\u001b[0m \u001b[0minvert_intensity\u001b[0m\u001b[0;34m=\u001b[0m \u001b[0;32mTrue\u001b[0m\u001b[0;34m,\u001b[0m \u001b[0mimg_n\u001b[0m\u001b[0;34m=\u001b[0m\u001b[0mraw_projections_path\u001b[0m \u001b[0;34m+\u001b[0m \u001b[0mstr\u001b[0m\u001b[0;34m(\u001b[0m\u001b[0mrow\u001b[0m\u001b[0;34m[\u001b[0m\u001b[0;34m'npr'\u001b[0m\u001b[0;34m]\u001b[0m\u001b[0;34m)\u001b[0m \u001b[0;34m+\u001b[0m \u001b[0;34m'_'\u001b[0m \u001b[0;34m+\u001b[0m \u001b[0mstr\u001b[0m\u001b[0;34m(\u001b[0m\u001b[0mrow\u001b[0m\u001b[0;34m[\u001b[0m\u001b[0;34m'scan_date'\u001b[0m\u001b[0;34m]\u001b[0m\u001b[0;34m)\u001b[0m \u001b[0;34m+\u001b[0m \u001b[0;34m'_CT_tracer_contrast_MinIP_'\u001b[0m\u001b[0;34m)\u001b[0m\u001b[0;34m\u001b[0m\u001b[0;34m\u001b[0m\u001b[0m\n\u001b[1;32m     40\u001b[0m \u001b[0;34m\u001b[0m\u001b[0m\n",
      "\u001b[0;32m~/Ashish/UCAN/UCAN-PET-CT-image-data-handling-pipeline/Utils/utils.py\u001b[0m in \u001b[0;36m?\u001b[0;34m(vol_img, modality, ptype, angle, invert_intensity, clip_value, t_type, save_img, img_n)\u001b[0m\n\u001b[1;32m    235\u001b[0m \u001b[0;34m\u001b[0m\u001b[0m\n\u001b[1;32m    236\u001b[0m         \u001b[0;32mif\u001b[0m \u001b[0msave_img\u001b[0m\u001b[0;34m:\u001b[0m\u001b[0;34m\u001b[0m\u001b[0;34m\u001b[0m\u001b[0m\n\u001b[1;32m    237\u001b[0m             \u001b[0;31m#Save the projections as image or np array\u001b[0m\u001b[0;34m\u001b[0m\u001b[0;34m\u001b[0m\u001b[0m\n\u001b[1;32m    238\u001b[0m             \u001b[0mimgname\u001b[0m\u001b[0;34m=\u001b[0m \u001b[0mimg_n\u001b[0m \u001b[0;34m+\u001b[0m \u001b[0;34mr'{0}'\u001b[0m\u001b[0;34m.\u001b[0m\u001b[0mformat\u001b[0m\u001b[0;34m(\u001b[0m\u001b[0;34m(\u001b[0m\u001b[0;36m180\u001b[0m \u001b[0;34m*\u001b[0m \u001b[0mang\u001b[0m\u001b[0;34m/\u001b[0m\u001b[0mnp\u001b[0m\u001b[0;34m.\u001b[0m\u001b[0mpi\u001b[0m\u001b[0;34m)\u001b[0m\u001b[0;34m)\u001b[0m\u001b[0;34m\u001b[0m\u001b[0;34m\u001b[0m\u001b[0m\n\u001b[0;32m--> 239\u001b[0;31m             \u001b[0msave_projections_as_png\u001b[0m\u001b[0;34m(\u001b[0m\u001b[0maxes_shifted_pi\u001b[0m\u001b[0;34m,\u001b[0m \u001b[0mimgname\u001b[0m \u001b[0;34m+\u001b[0m \u001b[0;34m'.png'\u001b[0m\u001b[0;34m,\u001b[0m \u001b[0minvert_intensity\u001b[0m\u001b[0;34m)\u001b[0m\u001b[0;34m\u001b[0m\u001b[0;34m\u001b[0m\u001b[0m\n\u001b[0m\u001b[1;32m    240\u001b[0m             \u001b[0msave_projections_as_nparr\u001b[0m\u001b[0;34m(\u001b[0m\u001b[0maxes_shifted_pi\u001b[0m\u001b[0;34m,\u001b[0m \u001b[0mimgname\u001b[0m\u001b[0;34m,\u001b[0m \u001b[0minvert_intensity\u001b[0m\u001b[0;34m)\u001b[0m\u001b[0;34m\u001b[0m\u001b[0;34m\u001b[0m\u001b[0m\n\u001b[1;32m    241\u001b[0m     \u001b[0mprint\u001b[0m\u001b[0;34m(\u001b[0m\u001b[0;34mf'Finished generating {int(180.0/angle)+1} - {ptype} intensity 2D projections from the {modality} volume image! '\u001b[0m\u001b[0;34m)\u001b[0m\u001b[0;34m\u001b[0m\u001b[0;34m\u001b[0m\u001b[0m\n",
      "\u001b[0;32m~/Ashish/UCAN/UCAN-PET-CT-image-data-handling-pipeline/Utils/utils.py\u001b[0m in \u001b[0;36m?\u001b[0;34m(image, img_name, invert)\u001b[0m\n\u001b[1;32m     74\u001b[0m     \u001b[0;32mif\u001b[0m \u001b[0minvert\u001b[0m\u001b[0;34m:\u001b[0m\u001b[0;34m\u001b[0m\u001b[0;34m\u001b[0m\u001b[0m\n\u001b[1;32m     75\u001b[0m         \u001b[0mimg_write\u001b[0m   \u001b[0;34m=\u001b[0m \u001b[0msitk\u001b[0m\u001b[0;34m.\u001b[0m\u001b[0mInvertIntensity\u001b[0m\u001b[0;34m(\u001b[0m\u001b[0mimg_write\u001b[0m\u001b[0;34m,\u001b[0m\u001b[0mmaximum\u001b[0m\u001b[0;34m=\u001b[0m\u001b[0;36m255\u001b[0m\u001b[0;34m)\u001b[0m\u001b[0;34m\u001b[0m\u001b[0;34m\u001b[0m\u001b[0m\n\u001b[1;32m     76\u001b[0m     \u001b[0;32melse\u001b[0m\u001b[0;34m:\u001b[0m\u001b[0;34m\u001b[0m\u001b[0;34m\u001b[0m\u001b[0m\n\u001b[1;32m     77\u001b[0m         \u001b[0;32mpass\u001b[0m\u001b[0;34m\u001b[0m\u001b[0;34m\u001b[0m\u001b[0m\n\u001b[0;32m---> 78\u001b[0;31m     \u001b[0mwriter\u001b[0m\u001b[0;34m.\u001b[0m\u001b[0mExecute\u001b[0m\u001b[0;34m(\u001b[0m\u001b[0mimg_write\u001b[0m\u001b[0;34m)\u001b[0m  \u001b[0;31m#sitk.Cast(sitk.RescaleIntensity(img,outputMinimum=0,outputMaximum=15)\u001b[0m\u001b[0;34m\u001b[0m\u001b[0;34m\u001b[0m\u001b[0m\n\u001b[0m",
      "\u001b[0;32m~/anaconda3/envs/dlfia/lib/python3.11/site-packages/SimpleITK/SimpleITK.py\u001b[0m in \u001b[0;36m?\u001b[0;34m(self, *args)\u001b[0m\n\u001b[1;32m   7903\u001b[0m         \u001b[0mExecute\u001b[0m\u001b[0;34m(\u001b[0m\u001b[0mImageFileWriter\u001b[0m \u001b[0mself\u001b[0m\u001b[0;34m,\u001b[0m \u001b[0mImage\u001b[0m \u001b[0marg2\u001b[0m\u001b[0;34m,\u001b[0m \u001b[0mstd\u001b[0m\u001b[0;34m:\u001b[0m\u001b[0;34m:\u001b[0m\u001b[0mstring\u001b[0m \u001b[0mconst\u001b[0m \u001b[0;34m&\u001b[0m \u001b[0minFileName\u001b[0m\u001b[0;34m,\u001b[0m \u001b[0mbool\u001b[0m \u001b[0museCompression\u001b[0m\u001b[0;34m,\u001b[0m \u001b[0mint\u001b[0m \u001b[0mcompressionLevel\u001b[0m\u001b[0;34m)\u001b[0m\u001b[0;34m\u001b[0m\u001b[0;34m\u001b[0m\u001b[0m\n\u001b[1;32m   7904\u001b[0m \u001b[0;34m\u001b[0m\u001b[0m\n\u001b[1;32m   7905\u001b[0m \u001b[0;34m\u001b[0m\u001b[0m\n\u001b[1;32m   7906\u001b[0m         \"\"\"\n\u001b[0;32m-> 7907\u001b[0;31m         \u001b[0;32mreturn\u001b[0m \u001b[0m_SimpleITK\u001b[0m\u001b[0;34m.\u001b[0m\u001b[0mImageFileWriter_Execute\u001b[0m\u001b[0;34m(\u001b[0m\u001b[0mself\u001b[0m\u001b[0;34m,\u001b[0m \u001b[0;34m*\u001b[0m\u001b[0margs\u001b[0m\u001b[0;34m)\u001b[0m\u001b[0;34m\u001b[0m\u001b[0;34m\u001b[0m\u001b[0m\n\u001b[0m",
      "\u001b[0;31mRuntimeError\u001b[0m: Exception thrown in SimpleITK ImageFileWriter_Execute: /tmp/SimpleITK-build/ITK/Modules/IO/PNG/src/itkPNGImageIO.cxx:518:\nProblem while opening the file."
     ]
    }
   ],
   "source": [
    "resampled_directory_list = []\n",
    "resampled_SUV_CT_path = \"/home/ashish/Ashish/UCAN/Resampled_SUV_CT/\"\n",
    "\n",
    "for dirs, subdirs, files in os.walk(resampled_SUV_CT_path):\n",
    "    for file in files:\n",
    "        file_path = str(os.path.join(dirs, file))\n",
    "        file_path = file_path.replace('\\\\','/')\n",
    "        resampled_directory_list.append(file_path)\n",
    "\n",
    "resampled_directory_df = pd.DataFrame(resampled_directory_list, columns=['directory'])\n",
    "resampled_directory_df[['source_directory', 'patient_directory', 'scan_date', 'SUV_CT']] = resampled_directory_df['directory'].str.rsplit(pat='/', n=3, expand=True)\n",
    "resampled_directory_df[['npr', 'extra']] = resampled_directory_df['patient_directory'].str.split(pat='_', n=1, expand=True)\n",
    "resampled_directory_df.drop(columns=['directory','extra', 'SUV_CT'], inplace=True)\n",
    "resampled_directory_df.drop_duplicates(inplace=True)\n",
    "\n",
    "utils.display_full(resampled_directory_df.head(2))\n",
    "\n",
    "count = 0\n",
    "# Generate the raw 2D projections\n",
    "for index, row in resampled_directory_df.iterrows():\n",
    "    raw_projections_path = \"/home/ashish/Ashish/UCAN/Results/test_new_proj/\"\n",
    "    angle = 90\n",
    "\n",
    "    CTnii_path = resampled_SUV_CT_path + str(row['npr']) + '_SUV_CT/' + str(row['scan_date']) + '/' + 'CT.nii.gz'\n",
    "    \n",
    "    CT_img =sitk.ReadImage(CTnii_path)\n",
    "\n",
    "    SUVnii_path = resampled_SUV_CT_path + str(row['npr']) + '_SUV_CT/' + str(row['scan_date']) + '/' + 'SUV.nii.gz'\n",
    "    SUV_img =sitk.ReadImage(SUVnii_path)\n",
    "\n",
    "    bone_mask, lean_mask, adipose_mask, air_mask, tracer_contrast_mask = get_proj_after_mask(CT_img)\n",
    "\n",
    "    multiply= sitk.MultiplyImageFilter()\n",
    "    #try:\n",
    "\n",
    "    CT_tracer_contrast = multiply.Execute(CT_img,sitk.Cast(tracer_contrast_mask,CT_img.GetPixelID()))\n",
    "    utils.get_2D_projections(CT_tracer_contrast, 'CT', \"max\", angle, invert_intensity= True, img_n=raw_projections_path + str(row['npr']) + '_' + str(row['scan_date']) + '_CT_tracer_contrast_MaxIP_')\n",
    "    utils.get_2D_projections(CT_tracer_contrast, 'CT', \"mean\", angle, invert_intensity= True, img_n=raw_projections_path + str(row['npr']) + '_' + str(row['scan_date']) + '_CT_tracer_contrast_MeanIP_')\n",
    "    utils.get_2D_projections(CT_tracer_contrast, 'CT', \"min\", angle, invert_intensity= True, img_n=raw_projections_path + str(row['npr']) + '_' + str(row['scan_date']) + '_CT_tracer_contrast_MinIP_')\n",
    "\n",
    "    SUV_tracer_contrast = multiply.Execute(SUV_img,sitk.Cast(tracer_contrast_mask,SUV_img.GetPixelID()))\n",
    "    utils.get_2D_projections(SUV_tracer_contrast, 'SUV', \"max\", angle, invert_intensity= True, img_n=raw_projections_path + str(row['npr']) + '_' + str(row['scan_date']) + '_SUV_tracer_contrast_MaxIP_')\n",
    "    utils.get_2D_projections(SUV_tracer_contrast, 'SUV', \"mean\", angle, invert_intensity= True, img_n=raw_projections_path + str(row['npr']) + '_' + str(row['scan_date']) + '_SUV_tracer_contrast_MeanIP_')\n",
    "    utils.get_2D_projections(SUV_tracer_contrast, 'SUV', \"min\", angle, invert_intensity= True, img_n=raw_projections_path + str(row['npr']) + '_' + str(row['scan_date']) + '_SUV_tracer_contrast_MinIP_')\n",
    "\n",
    "\n",
    "    CT_bone = multiply.Execute(CT_img,sitk.Cast(bone_mask,CT_img.GetPixelID()))\n",
    "    utils.get_2D_projections(CT_bone, 'CT', \"max\", angle, invert_intensity= True, img_n=raw_projections_path + str(row['npr']) + '_' + str(row['scan_date']) + '_CT_bone_MaxIP_')\n",
    "    utils.get_2D_projections(CT_bone, 'CT', \"min\", angle, invert_intensity= True, img_n=raw_projections_path + str(row['npr']) + '_' + str(row['scan_date']) + '_CT_bone_MinIP_')\n",
    "\n",
    "    CT_lean = multiply.Execute(CT_img,sitk.Cast(lean_mask,CT_img.GetPixelID()))\n",
    "    utils.get_2D_projections(CT_lean, 'CT', \"max\", angle, invert_intensity= True, img_n=raw_projections_path + str(row['npr']) + '_' + str(row['scan_date']) + '_CT_lean_MaxIP_')\n",
    "    utils.get_2D_projections(CT_lean, 'CT', \"min\", angle, invert_intensity= True, img_n=raw_projections_path + str(row['npr']) + '_' + str(row['scan_date']) + '_CT_lean_MinIP_')\n",
    "    \n",
    "    count += 1\n",
    "    print(str(row['npr']) + '_' + str(row['scan_date']))\n",
    "    print(\"count: \", count)\n",
    "    #except: \n",
    "        #print(str(row['npr']) + '_' + str(row['scan_date']))\n",
    "    #    pass\n",
    "\n",
    "    if count > 10:\n",
    "        break\n",
    "    \n",
    "\n"
   ]
  },
  {
   "cell_type": "code",
   "execution_count": 18,
   "metadata": {},
   "outputs": [
    {
     "data": {
      "text/html": [
       "<div>\n",
       "<style scoped>\n",
       "    .dataframe tbody tr th:only-of-type {\n",
       "        vertical-align: middle;\n",
       "    }\n",
       "\n",
       "    .dataframe tbody tr th {\n",
       "        vertical-align: top;\n",
       "    }\n",
       "\n",
       "    .dataframe thead th {\n",
       "        text-align: right;\n",
       "    }\n",
       "</style>\n",
       "<table border=\"1\" class=\"dataframe\">\n",
       "  <thead>\n",
       "    <tr style=\"text-align: right;\">\n",
       "      <th></th>\n",
       "      <th>source_directory</th>\n",
       "      <th>patient_directory</th>\n",
       "      <th>scan_date</th>\n",
       "      <th>npr</th>\n",
       "    </tr>\n",
       "  </thead>\n",
       "  <tbody>\n",
       "    <tr>\n",
       "      <th>0</th>\n",
       "      <td>/home/ashish/Ashish/UCAN/Resampled_SUV_CT</td>\n",
       "      <td>npr865130139443_SUV_CT</td>\n",
       "      <td>20210622</td>\n",
       "      <td>npr865130139443</td>\n",
       "    </tr>\n",
       "    <tr>\n",
       "      <th>2</th>\n",
       "      <td>/home/ashish/Ashish/UCAN/Resampled_SUV_CT</td>\n",
       "      <td>npr865130139443_SUV_CT</td>\n",
       "      <td>20211126</td>\n",
       "      <td>npr865130139443</td>\n",
       "    </tr>\n",
       "    <tr>\n",
       "      <th>4</th>\n",
       "      <td>/home/ashish/Ashish/UCAN/Resampled_SUV_CT</td>\n",
       "      <td>npr382894159583_SUV_CT</td>\n",
       "      <td>20150127</td>\n",
       "      <td>npr382894159583</td>\n",
       "    </tr>\n",
       "    <tr>\n",
       "      <th>6</th>\n",
       "      <td>/home/ashish/Ashish/UCAN/Resampled_SUV_CT</td>\n",
       "      <td>npr382894159583_SUV_CT</td>\n",
       "      <td>20140828</td>\n",
       "      <td>npr382894159583</td>\n",
       "    </tr>\n",
       "    <tr>\n",
       "      <th>8</th>\n",
       "      <td>/home/ashish/Ashish/UCAN/Resampled_SUV_CT</td>\n",
       "      <td>npr717322658733_SUV_CT</td>\n",
       "      <td>20180718</td>\n",
       "      <td>npr717322658733</td>\n",
       "    </tr>\n",
       "  </tbody>\n",
       "</table>\n",
       "</div>"
      ],
      "text/plain": [
       "                            source_directory       patient_directory  \\\n",
       "0  /home/ashish/Ashish/UCAN/Resampled_SUV_CT  npr865130139443_SUV_CT   \n",
       "2  /home/ashish/Ashish/UCAN/Resampled_SUV_CT  npr865130139443_SUV_CT   \n",
       "4  /home/ashish/Ashish/UCAN/Resampled_SUV_CT  npr382894159583_SUV_CT   \n",
       "6  /home/ashish/Ashish/UCAN/Resampled_SUV_CT  npr382894159583_SUV_CT   \n",
       "8  /home/ashish/Ashish/UCAN/Resampled_SUV_CT  npr717322658733_SUV_CT   \n",
       "\n",
       "  scan_date              npr  \n",
       "0  20210622  npr865130139443  \n",
       "2  20211126  npr865130139443  \n",
       "4  20150127  npr382894159583  \n",
       "6  20140828  npr382894159583  \n",
       "8  20180718  npr717322658733  "
      ]
     },
     "execution_count": 18,
     "metadata": {},
     "output_type": "execute_result"
    }
   ],
   "source": [
    "resampled_directory_df.head()"
   ]
  },
  {
   "cell_type": "code",
   "execution_count": null,
   "metadata": {},
   "outputs": [],
   "source": []
  }
 ],
 "metadata": {
  "kernelspec": {
   "display_name": "dlfia",
   "language": "python",
   "name": "python3"
  },
  "language_info": {
   "codemirror_mode": {
    "name": "ipython",
    "version": 3
   },
   "file_extension": ".py",
   "mimetype": "text/x-python",
   "name": "python",
   "nbconvert_exporter": "python",
   "pygments_lexer": "ipython3",
   "version": "3.11.5"
  }
 },
 "nbformat": 4,
 "nbformat_minor": 2
}
