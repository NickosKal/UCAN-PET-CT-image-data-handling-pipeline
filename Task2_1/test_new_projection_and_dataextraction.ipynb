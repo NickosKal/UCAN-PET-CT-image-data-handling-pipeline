{
 "cells": [
  {
   "cell_type": "code",
   "execution_count": 47,
   "metadata": {},
   "outputs": [
    {
     "name": "stdout",
     "output_type": "stream",
     "text": [
      "env: SITK_SHOW_COMMAND='/home/andres/Downloads/Slicer-5.4.0-linux-amd64/Slicer'\n"
     ]
    }
   ],
   "source": [
    "import numpy as np\n",
    "import pandas as pd\n",
    "import SimpleITK as sitk\n",
    "from tqdm import tqdm\n",
    "import scipy.ndimage\n",
    "import cv2\n",
    "import os\n",
    "from matplotlib import pyplot as plt\n",
    "import sys\n",
    "\n",
    "# Get the home directory\n",
    "home_directory = os.path.expanduser('~')\n",
    "\n",
    "%env SITK_SHOW_COMMAND '/home/andres/Downloads/Slicer-5.4.0-linux-amd64/Slicer'\n",
    "# Append the parent directory to the Python path\n",
    "#sys.path.append(os.path.join(home_directory, 'Ashish/UCAN', 'UCAN-PET-CT-image-data-handling-pipeline'))\n",
    "sys.path.append(os.path.join(home_directory, '/home/andres/VSCode/', 'UCAN-PET-CT-image-data-handling-pipeline'))\n",
    "\n",
    "from Utils import utils\n",
    "\n",
    "def display_full(x):\n",
    "    with pd.option_context(\"display.max_rows\", None,\n",
    "                           \"display.max_columns\", None,\n",
    "                           \"display.width\", 20000,\n",
    "                           \"display.max_colwidth\", None,\n",
    "                           ):\n",
    "        print(x)"
   ]
  },
  {
   "cell_type": "code",
   "execution_count": 3,
   "metadata": {},
   "outputs": [],
   "source": [
    "def get_proj_after_mask(img):\n",
    "    \n",
    "    '''\n",
    "\n",
    "    Function to get 3D masks for CT scans to segment out the exact tissue type.\n",
    "\n",
    "    '''\n",
    "\n",
    "    pix_array=sitk.GetArrayFromImage(img)\n",
    "    max_i, min_i=float(pix_array.max()),float(pix_array.min())\n",
    "\n",
    "    #multiply= sitk.MultiplyImageFilter()\n",
    "    #if hu_type == 'Bone' or hu_type == 'bone' or hu_type == 'B':\n",
    "    bone_mask = sitk.BinaryThreshold(\n",
    "    img, lowerThreshold=200, upperThreshold=max_i,insideValue=1, outsideValue=0\n",
    "    )\n",
    "    \n",
    "    tracer_contrast_mask = sitk.BinaryThreshold(\n",
    "    img, lowerThreshold=151, upperThreshold=199,insideValue=1, outsideValue=0\n",
    "    )\n",
    "\n",
    "    #bone_mask = multiply.Execute(img,sitk.Cast(seg,img.GetPixelID()))\n",
    "        # path= img_n + r'_{0}_image.nii'.format(modality + '_' + type)\n",
    "        # save_as_gz(op_img,path)\n",
    "    #elif hu_type == 'Lean Tissue' or hu_type == 'lean' or hu_type == 'LT':\n",
    "    lean_mask = sitk.BinaryThreshold(\n",
    "    img, lowerThreshold=-29, upperThreshold=150, insideValue=1, outsideValue=0\n",
    "    )\n",
    "    #lean_mask = multiply.Execute(img,sitk.Cast(seg,img.GetPixelID()))\n",
    "\n",
    "    #elif hu_type == 'Adipose' or hu_type == 'adipose' or hu_type == 'AT':\n",
    "    adipose_mask = sitk.BinaryThreshold(\n",
    "    img, lowerThreshold=-199, upperThreshold=-30, insideValue=1, outsideValue=0\n",
    "    )\n",
    "    #adipose_mask = multiply.Execute(img,sitk.Cast(seg,img.GetPixelID()))\n",
    "        \n",
    "    #elif hu_type == 'Air' or hu_type == 'A':\n",
    "    air_mask = sitk.BinaryThreshold(\n",
    "    img, lowerThreshold=min_i, upperThreshold=-191, insideValue=1, outsideValue=0\n",
    "    )\n",
    "    #air_mask = multiply.Execute(img,sitk.Cast(seg,img.GetPixelID()))\n",
    "    \n",
    "    return bone_mask, lean_mask, adipose_mask, air_mask, tracer_contrast_mask"
   ]
  },
  {
   "cell_type": "code",
   "execution_count": 4,
   "metadata": {},
   "outputs": [],
   "source": [
    "#CT_path = \"/home/ashish/Ashish/UCAN/Resampled_SUV_CT/npr100169878450_SUV_CT/20130412/CT.nii.gz\"\n",
    "CT_path = \"/media/andres/T7 Shield1/UCAN_project/Resampled_SUV_CT/npr100169878450_SUV_CT/20130412/CT.nii.gz\""
   ]
  },
  {
   "cell_type": "code",
   "execution_count": 14,
   "metadata": {},
   "outputs": [],
   "source": [
    "CT_img = sitk.ReadImage(CT_path)"
   ]
  },
  {
   "cell_type": "code",
   "execution_count": 15,
   "metadata": {},
   "outputs": [],
   "source": [
    "bone_mask, lean_mask, adipose_mask, air_mask, tracer_contrast_mask = get_proj_after_mask(CT_img)"
   ]
  },
  {
   "cell_type": "code",
   "execution_count": 16,
   "metadata": {},
   "outputs": [
    {
     "data": {
      "text/plain": [
       "array([0, 1], dtype=uint8)"
      ]
     },
     "execution_count": 16,
     "metadata": {},
     "output_type": "execute_result"
    }
   ],
   "source": [
    "lean_mask_arr = sitk.GetArrayFromImage(lean_mask)\n",
    "np.unique(lean_mask_arr)"
   ]
  },
  {
   "cell_type": "code",
   "execution_count": 17,
   "metadata": {},
   "outputs": [
    {
     "data": {
      "text/plain": [
       "2476456"
      ]
     },
     "execution_count": 17,
     "metadata": {},
     "output_type": "execute_result"
    }
   ],
   "source": [
    "lean_mask_arr.sum()"
   ]
  },
  {
   "cell_type": "code",
   "execution_count": 18,
   "metadata": {},
   "outputs": [
    {
     "data": {
      "text/plain": [
       "(array([0, 1], dtype=uint8), array([16332376,  2476456]))"
      ]
     },
     "execution_count": 18,
     "metadata": {},
     "output_type": "execute_result"
    }
   ],
   "source": [
    "np.unique(lean_mask_arr, return_counts=True)"
   ]
  },
  {
   "cell_type": "code",
   "execution_count": 19,
   "metadata": {},
   "outputs": [],
   "source": [
    "voxel_spacing = [2.0364201068878174, 2.0364201068878174, 3.0]"
   ]
  },
  {
   "cell_type": "code",
   "execution_count": 20,
   "metadata": {},
   "outputs": [
    {
     "data": {
      "text/plain": [
       "30.809640000075532"
      ]
     },
     "execution_count": 20,
     "metadata": {},
     "output_type": "execute_result"
    }
   ],
   "source": [
    "# calculate lean density of lean muscle # multiply with 1e-3 to covert mm3 to cm3 (ml)  # ml * 1e-3 litres\n",
    "density = lean_mask_arr.sum() * voxel_spacing[0] * voxel_spacing[1] * voxel_spacing[2] * 1e-6\n",
    "density"
   ]
  },
  {
   "cell_type": "code",
   "execution_count": 21,
   "metadata": {},
   "outputs": [
    {
     "name": "stdout",
     "output_type": "stream",
     "text": [
      "[0 1]\n",
      "262629\n",
      "(array([0, 1], dtype=uint8), array([18546203,   262629]))\n"
     ]
    },
    {
     "data": {
      "text/plain": [
       "3.2673727873945015"
      ]
     },
     "execution_count": 21,
     "metadata": {},
     "output_type": "execute_result"
    }
   ],
   "source": [
    "# calculate bone skeleton density\n",
    "bone_mask_arr = sitk.GetArrayFromImage(bone_mask)\n",
    "print(np.unique(bone_mask_arr))\n",
    "print(bone_mask_arr.sum())\n",
    "print(np.unique(bone_mask_arr, return_counts=True))\n",
    "bone_mask_arr.sum() * voxel_spacing[0] * voxel_spacing[1] * voxel_spacing[2] * 1e-6"
   ]
  },
  {
   "cell_type": "code",
   "execution_count": 36,
   "metadata": {},
   "outputs": [
    {
     "name": "stdout",
     "output_type": "stream",
     "text": [
      "[0 1]\n",
      "2476456\n",
      "(287, 256, 256)\n",
      "(array([0, 1], dtype=uint8), array([16332376,  2476456]))\n"
     ]
    }
   ],
   "source": [
    "# remove noise from lean mask\n",
    "lean_mask_arr = sitk.GetArrayFromImage(lean_mask)\n",
    "print(np.unique(lean_mask_arr))\n",
    "print(lean_mask_arr.sum())\n",
    "print(lean_mask_arr.shape)\n",
    "print(np.unique(lean_mask_arr, return_counts=True))"
   ]
  },
  {
   "cell_type": "code",
   "execution_count": 54,
   "metadata": {},
   "outputs": [],
   "source": [
    "import skimage\n",
    "from  scipy import ndimage"
   ]
  },
  {
   "cell_type": "code",
   "execution_count": 109,
   "metadata": {},
   "outputs": [
    {
     "name": "stdout",
     "output_type": "stream",
     "text": [
      "[0 1]\n",
      "1072746\n",
      "(287, 256, 256)\n",
      "(array([0, 1]), array([17736086,  1072746]))\n",
      "(256, 256, 287)\n"
     ]
    }
   ],
   "source": [
    "temp = 1 - lean_mask_arr\n",
    "#temp = lean_mask_arr.copy()\n",
    "#lean_mask_arr1 = skimage.morphology.remove_small_objects(temp, min_size=1500, connectivity=124, out=temp)\n",
    "#footprint = skimage.morphology.octahedron(1)\n",
    "#footprint = skimage.morphology.cube(5)\n",
    "#lean_mask_arr1 = skimage.morphology.white_tophat(temp, footprint)\n",
    "lean_mask_arr1 = skimage.morphology.binary_erosion(temp).astype(int)\n",
    "lean_mask_arr1 = skimage.morphology.binary_erosion(lean_mask_arr1).astype(int)\n",
    "#lean_mask_arr1 = skimage.morphology.binary_erosion(lean_mask_arr1, footprint=[(np.ones((3, 3, 3)), 2)]).astype(int)\n",
    "print(np.unique(lean_mask_arr1))\n",
    "print(lean_mask_arr1.sum())\n",
    "print(lean_mask_arr1.shape)\n",
    "print(np.unique(lean_mask_arr1, return_counts=True))\n",
    "lean_mask_img1 = sitk.GetImageFromArray(lean_mask_arr1.astype(int))\n",
    "print(lean_mask_img1.GetSize())\n",
    "#multiply= sitk.MultiplyImageFilter()\n",
    "#CT_lean = multiply.Execute(CT_img,sitk.Cast(lean_mask_img1,CT_img.GetPixelID()))\n",
    "sitk.Show(lean_mask_img1)#, CT_img.GetPixelID())"
   ]
  },
  {
   "cell_type": "code",
   "execution_count": 105,
   "metadata": {},
   "outputs": [
    {
     "data": {
      "text/plain": [
       "(256, 256, 287)"
      ]
     },
     "execution_count": 105,
     "metadata": {},
     "output_type": "execute_result"
    }
   ],
   "source": [
    "CT_img.GetSize()"
   ]
  },
  {
   "cell_type": "code",
   "execution_count": 108,
   "metadata": {},
   "outputs": [
    {
     "name": "stdout",
     "output_type": "stream",
     "text": [
      "[0 1]\n",
      "16348356\n",
      "(287, 256, 256)\n",
      "(array([0, 1]), array([ 2460476, 16348356]))\n"
     ]
    },
    {
     "ename": "NameError",
     "evalue": "name 'uint8' is not defined",
     "output_type": "error",
     "traceback": [
      "\u001b[0;31m---------------------------------------------------------------------------\u001b[0m",
      "\u001b[0;31mNameError\u001b[0m                                 Traceback (most recent call last)",
      "\u001b[1;32m/home/andres/VSCode/UCAN-PET-CT-image-data-handling-pipeline/Task2_1/test_new_projection_and_dataextraction.ipynb Cell 16\u001b[0m line \u001b[0;36m7\n\u001b[1;32m      <a href='vscode-notebook-cell:/home/andres/VSCode/UCAN-PET-CT-image-data-handling-pipeline/Task2_1/test_new_projection_and_dataextraction.ipynb#X24sZmlsZQ%3D%3D?line=4'>5</a>\u001b[0m \u001b[39mprint\u001b[39m(lean_mask_arr1\u001b[39m.\u001b[39mshape)\n\u001b[1;32m      <a href='vscode-notebook-cell:/home/andres/VSCode/UCAN-PET-CT-image-data-handling-pipeline/Task2_1/test_new_projection_and_dataextraction.ipynb#X24sZmlsZQ%3D%3D?line=5'>6</a>\u001b[0m \u001b[39mprint\u001b[39m(np\u001b[39m.\u001b[39munique(lean_mask_arr1, return_counts\u001b[39m=\u001b[39m\u001b[39mTrue\u001b[39;00m))\n\u001b[0;32m----> <a href='vscode-notebook-cell:/home/andres/VSCode/UCAN-PET-CT-image-data-handling-pipeline/Task2_1/test_new_projection_and_dataextraction.ipynb#X24sZmlsZQ%3D%3D?line=6'>7</a>\u001b[0m lean_mask_img1 \u001b[39m=\u001b[39m sitk\u001b[39m.\u001b[39mGetImageFromArray(lean_mask_arr1\u001b[39m.\u001b[39mastype(uint8))\n\u001b[1;32m      <a href='vscode-notebook-cell:/home/andres/VSCode/UCAN-PET-CT-image-data-handling-pipeline/Task2_1/test_new_projection_and_dataextraction.ipynb#X24sZmlsZQ%3D%3D?line=7'>8</a>\u001b[0m \u001b[39m#multiply= sitk.MultiplyImageFilter()\u001b[39;00m\n\u001b[1;32m      <a href='vscode-notebook-cell:/home/andres/VSCode/UCAN-PET-CT-image-data-handling-pipeline/Task2_1/test_new_projection_and_dataextraction.ipynb#X24sZmlsZQ%3D%3D?line=8'>9</a>\u001b[0m \u001b[39m#CT_lean = multiply.Execute(CT_img,sitk.Cast(lean_mask_img1,CT_img.GetPixelID()))\u001b[39;00m\n\u001b[1;32m     <a href='vscode-notebook-cell:/home/andres/VSCode/UCAN-PET-CT-image-data-handling-pipeline/Task2_1/test_new_projection_and_dataextraction.ipynb#X24sZmlsZQ%3D%3D?line=9'>10</a>\u001b[0m sitk\u001b[39m.\u001b[39mShow(lean_mask_img1)\u001b[39m#, CT_img.GetPixelID())\u001b[39;00m\n",
      "\u001b[0;31mNameError\u001b[0m: name 'uint8' is not defined"
     ]
    }
   ],
   "source": [
    "temp = lean_mask_arr.copy()\n",
    "lean_mask_arr1 = ndimage.binary_fill_holes(temp, structure=np.ones((3,3,3)) ).astype(int)\n",
    "print(np.unique(lean_mask_arr1))\n",
    "print(lean_mask_arr1.sum())\n",
    "print(lean_mask_arr1.shape)\n",
    "print(np.unique(lean_mask_arr1, return_counts=True))\n",
    "lean_mask_img1 = sitk.GetImageFromArray(lean_mask_arr1)\n",
    "#multiply= sitk.MultiplyImageFilter()\n",
    "#CT_lean = multiply.Execute(CT_img,sitk.Cast(lean_mask_img1,CT_img.GetPixelID()))\n",
    "sitk.Show(lean_mask_img1)#, CT_img.GetPixelID())"
   ]
  },
  {
   "cell_type": "code",
   "execution_count": 110,
   "metadata": {},
   "outputs": [
    {
     "ename": "RuntimeError",
     "evalue": "Exception thrown in SimpleITK MultiplyImageFilter_Execute: /tmp/SimpleITK-build/ITK-prefix/include/ITK-5.3/itkImageToImageFilter.hxx:218:\nITK ERROR: MultiplyImageFilter(0x3e114c0): Inputs do not occupy the same physical space! \nInputImage Origin: [-2.4804688e+02, -2.4804688e+02, -7.3870001e+02], InputImage_1 Origin: [0.0000000e+00, 0.0000000e+00, 0.0000000e+00]\n\tTolerance: 2.0364201e-06\nInputImage Spacing: [2.0364201e+00, 2.0364201e+00, 3.0000000e+00], InputImage_1 Spacing: [1.0000000e+00, 1.0000000e+00, 1.0000000e+00]\n\tTolerance: 2.0364201e-06\n",
     "output_type": "error",
     "traceback": [
      "\u001b[0;31m---------------------------------------------------------------------------\u001b[0m",
      "\u001b[0;31mRuntimeError\u001b[0m                              Traceback (most recent call last)",
      "\u001b[0;32m/tmp/ipykernel_3168/3638186973.py\u001b[0m in \u001b[0;36m?\u001b[0;34m()\u001b[0m\n\u001b[1;32m      1\u001b[0m \u001b[0mraw_projections_path\u001b[0m \u001b[0;34m=\u001b[0m \u001b[0;34m\"/media/andres/T7 Shield1/UCAN_project/Testing/test_lean_projection_after_removing_noise/\"\u001b[0m\u001b[0;34m\u001b[0m\u001b[0;34m\u001b[0m\u001b[0m\n\u001b[1;32m      2\u001b[0m \u001b[0;34m\u001b[0m\u001b[0m\n\u001b[1;32m      3\u001b[0m \u001b[0mmultiply\u001b[0m\u001b[0;34m=\u001b[0m \u001b[0msitk\u001b[0m\u001b[0;34m.\u001b[0m\u001b[0mMultiplyImageFilter\u001b[0m\u001b[0;34m(\u001b[0m\u001b[0;34m)\u001b[0m\u001b[0;34m\u001b[0m\u001b[0;34m\u001b[0m\u001b[0m\n\u001b[0;32m----> 4\u001b[0;31m \u001b[0mCT_lean\u001b[0m \u001b[0;34m=\u001b[0m \u001b[0mmultiply\u001b[0m\u001b[0;34m.\u001b[0m\u001b[0mExecute\u001b[0m\u001b[0;34m(\u001b[0m\u001b[0mCT_img\u001b[0m\u001b[0;34m,\u001b[0m\u001b[0msitk\u001b[0m\u001b[0;34m.\u001b[0m\u001b[0mCast\u001b[0m\u001b[0;34m(\u001b[0m\u001b[0mlean_mask_img1\u001b[0m\u001b[0;34m,\u001b[0m\u001b[0mCT_img\u001b[0m\u001b[0;34m.\u001b[0m\u001b[0mGetPixelID\u001b[0m\u001b[0;34m(\u001b[0m\u001b[0;34m)\u001b[0m\u001b[0;34m)\u001b[0m\u001b[0;34m)\u001b[0m\u001b[0;34m\u001b[0m\u001b[0;34m\u001b[0m\u001b[0m\n\u001b[0m\u001b[1;32m      5\u001b[0m \u001b[0mutils\u001b[0m\u001b[0;34m.\u001b[0m\u001b[0mget_2D_projections\u001b[0m\u001b[0;34m(\u001b[0m\u001b[0mCT_lean\u001b[0m\u001b[0;34m,\u001b[0m \u001b[0;34m'CT'\u001b[0m\u001b[0;34m,\u001b[0m \u001b[0;34m\"max\"\u001b[0m\u001b[0;34m,\u001b[0m \u001b[0mangle\u001b[0m\u001b[0;34m=\u001b[0m\u001b[0;36m90\u001b[0m\u001b[0;34m,\u001b[0m \u001b[0minvert_intensity\u001b[0m\u001b[0;34m=\u001b[0m \u001b[0;32mTrue\u001b[0m\u001b[0;34m,\u001b[0m \u001b[0mimg_n\u001b[0m\u001b[0;34m=\u001b[0m\u001b[0mraw_projections_path\u001b[0m \u001b[0;34m+\u001b[0m \u001b[0;34m'npr100169878450_SUV_CT_20130412_CT_lean_MaxIP_'\u001b[0m\u001b[0;34m)\u001b[0m\u001b[0;34m\u001b[0m\u001b[0;34m\u001b[0m\u001b[0m\n\u001b[1;32m      6\u001b[0m \u001b[0mutils\u001b[0m\u001b[0;34m.\u001b[0m\u001b[0mget_2D_projections\u001b[0m\u001b[0;34m(\u001b[0m\u001b[0mCT_lean\u001b[0m\u001b[0;34m,\u001b[0m \u001b[0;34m'CT'\u001b[0m\u001b[0;34m,\u001b[0m \u001b[0;34m\"min\"\u001b[0m\u001b[0;34m,\u001b[0m \u001b[0mangle\u001b[0m\u001b[0;34m=\u001b[0m\u001b[0;36m90\u001b[0m\u001b[0;34m,\u001b[0m \u001b[0minvert_intensity\u001b[0m\u001b[0;34m=\u001b[0m \u001b[0;32mTrue\u001b[0m\u001b[0;34m,\u001b[0m \u001b[0mimg_n\u001b[0m\u001b[0;34m=\u001b[0m\u001b[0mraw_projections_path\u001b[0m \u001b[0;34m+\u001b[0m \u001b[0;34m'npr100169878450_SUV_CT_20130412_CT_lean_MinIP_'\u001b[0m\u001b[0;34m)\u001b[0m\u001b[0;34m\u001b[0m\u001b[0;34m\u001b[0m\u001b[0m\n",
      "\u001b[0;32m~/anaconda3/envs/UCANProject/lib/python3.11/site-packages/SimpleITK/SimpleITK.py\u001b[0m in \u001b[0;36m?\u001b[0;34m(self, *args)\u001b[0m\n\u001b[1;32m  43876\u001b[0m         \u001b[0mExecute\u001b[0m\u001b[0;34m(\u001b[0m\u001b[0mMultiplyImageFilter\u001b[0m \u001b[0mself\u001b[0m\u001b[0;34m,\u001b[0m \u001b[0mdouble\u001b[0m \u001b[0mconstant\u001b[0m\u001b[0;34m,\u001b[0m \u001b[0mImage\u001b[0m \u001b[0mimage2\u001b[0m\u001b[0;34m)\u001b[0m \u001b[0;34m->\u001b[0m \u001b[0mImage\u001b[0m\u001b[0;34m\u001b[0m\u001b[0;34m\u001b[0m\u001b[0m\n\u001b[1;32m  43877\u001b[0m \u001b[0;34m\u001b[0m\u001b[0m\n\u001b[1;32m  43878\u001b[0m \u001b[0;34m\u001b[0m\u001b[0m\n\u001b[1;32m  43879\u001b[0m         \"\"\"\n\u001b[0;32m> 43880\u001b[0;31m         \u001b[0;32mreturn\u001b[0m \u001b[0m_SimpleITK\u001b[0m\u001b[0;34m.\u001b[0m\u001b[0mMultiplyImageFilter_Execute\u001b[0m\u001b[0;34m(\u001b[0m\u001b[0mself\u001b[0m\u001b[0;34m,\u001b[0m \u001b[0;34m*\u001b[0m\u001b[0margs\u001b[0m\u001b[0;34m)\u001b[0m\u001b[0;34m\u001b[0m\u001b[0;34m\u001b[0m\u001b[0m\n\u001b[0m",
      "\u001b[0;31mRuntimeError\u001b[0m: Exception thrown in SimpleITK MultiplyImageFilter_Execute: /tmp/SimpleITK-build/ITK-prefix/include/ITK-5.3/itkImageToImageFilter.hxx:218:\nITK ERROR: MultiplyImageFilter(0x3e114c0): Inputs do not occupy the same physical space! \nInputImage Origin: [-2.4804688e+02, -2.4804688e+02, -7.3870001e+02], InputImage_1 Origin: [0.0000000e+00, 0.0000000e+00, 0.0000000e+00]\n\tTolerance: 2.0364201e-06\nInputImage Spacing: [2.0364201e+00, 2.0364201e+00, 3.0000000e+00], InputImage_1 Spacing: [1.0000000e+00, 1.0000000e+00, 1.0000000e+00]\n\tTolerance: 2.0364201e-06\n"
     ]
    },
    {
     "name": "stdout",
     "output_type": "stream",
     "text": [
      "Switch to module:  \"Welcome\"\n",
      "Local filepath received via command-line:  \"/tmp/TempFile-3168-36.mha\"\n",
      "\"Volume\" Reader has successfully read the file \"/tmp/TempFile-3168-36.mha\" \"[0.28s]\"\n",
      "Switch to module:  \"\"\n",
      "Switch to module:  \"\"\n",
      "Switch to module:  \"\"\n",
      "Switch to module:  \"\"\n",
      "Switch to module:  \"\"\n",
      "Switch to module:  \"\"\n",
      "Switch to module:  \"\"\n",
      "Switch to module:  \"\"\n"
     ]
    }
   ],
   "source": [
    "raw_projections_path = \"/media/andres/T7 Shield1/UCAN_project/Testing/test_lean_projection_after_removing_noise/\"\n",
    "\n",
    "multiply= sitk.MultiplyImageFilter()\n",
    "CT_lean = multiply.Execute(CT_img,sitk.Cast(lean_mask_img1,CT_img.GetPixelID()))\n",
    "utils.get_2D_projections(CT_lean, 'CT', \"max\", angle=90, invert_intensity= True, img_n=raw_projections_path + 'npr100169878450_SUV_CT_20130412_CT_lean_MaxIP_')\n",
    "utils.get_2D_projections(CT_lean, 'CT', \"min\", angle=90, invert_intensity= True, img_n=raw_projections_path + 'npr100169878450_SUV_CT_20130412_CT_lean_MinIP_')\n"
   ]
  },
  {
   "cell_type": "code",
   "execution_count": null,
   "metadata": {},
   "outputs": [],
   "source": []
  },
  {
   "cell_type": "code",
   "execution_count": 13,
   "metadata": {},
   "outputs": [
    {
     "name": "stdout",
     "output_type": "stream",
     "text": [
      "Finished generating 3 - mean intensity 2D projections from the CT volume image! \n"
     ]
    }
   ],
   "source": [
    "multiply= sitk.MultiplyImageFilter()\n",
    "CT_tracer_contrast = multiply.Execute(CT_img,sitk.Cast(tracer_contrast_mask,CT_img.GetPixelID()))\n",
    "\n",
    "CT_ptype = 'mean'\n",
    "SUV_ptype = 'max'\n",
    "angle = 90\n",
    "\n",
    "#raw_projections_path = \"/home/ashish/Ashish/UCAN/Testing/test_new_projections/\"\n",
    "raw_projections_path = \"/media/andres/T7 Shield1/UCAN_project/Testing/test_new_projections/\"\n",
    "\n",
    "utils.get_2D_projections(CT_tracer_contrast, 'CT', CT_ptype, angle, invert_intensity= True, img_n=raw_projections_path)"
   ]
  },
  {
   "cell_type": "code",
   "execution_count": null,
   "metadata": {},
   "outputs": [],
   "source": []
  },
  {
   "cell_type": "code",
   "execution_count": null,
   "metadata": {},
   "outputs": [],
   "source": []
  },
  {
   "cell_type": "code",
   "execution_count": 27,
   "metadata": {},
   "outputs": [
    {
     "name": "stdout",
     "output_type": "stream",
     "text": [
      "                                         source_directory       patient_directory scan_date              npr\n",
      "0  /media/andres/T7 Shield1/UCAN_project/Resampled_SUV_CT  lpr385705046400_SUV_CT  20140313  lpr385705046400\n",
      "2  /media/andres/T7 Shield1/UCAN_project/Resampled_SUV_CT  lpr415675513429_SUV_CT  20190201  lpr415675513429\n",
      "Finished generating 3 - max intensity 2D projections from the CT volume image! \n",
      "Finished generating 3 - mean intensity 2D projections from the CT volume image! \n",
      "Finished generating 3 - max intensity 2D projections from the SUV volume image! \n",
      "Finished generating 3 - mean intensity 2D projections from the SUV volume image! \n",
      "Finished generating 3 - max intensity 2D projections from the CT volume image! \n",
      "Finished generating 3 - max intensity 2D projections from the CT volume image! \n",
      "Finished generating 3 - min intensity 2D projections from the CT volume image! \n",
      "lpr385705046400_20140313\n",
      "count:  1\n",
      "Finished generating 3 - max intensity 2D projections from the CT volume image! \n",
      "Finished generating 3 - mean intensity 2D projections from the CT volume image! \n",
      "Finished generating 3 - max intensity 2D projections from the SUV volume image! \n",
      "Finished generating 3 - mean intensity 2D projections from the SUV volume image! \n",
      "Finished generating 3 - max intensity 2D projections from the CT volume image! \n",
      "Finished generating 3 - max intensity 2D projections from the CT volume image! \n",
      "Finished generating 3 - min intensity 2D projections from the CT volume image! \n",
      "lpr415675513429_20190201\n",
      "count:  2\n",
      "Finished generating 3 - max intensity 2D projections from the CT volume image! \n",
      "Finished generating 3 - mean intensity 2D projections from the CT volume image! \n",
      "Finished generating 3 - max intensity 2D projections from the SUV volume image! \n",
      "Finished generating 3 - mean intensity 2D projections from the SUV volume image! \n",
      "Finished generating 3 - max intensity 2D projections from the CT volume image! \n",
      "Finished generating 3 - max intensity 2D projections from the CT volume image! \n",
      "Finished generating 3 - min intensity 2D projections from the CT volume image! \n",
      "lpr415675513429_20190320\n",
      "count:  3\n",
      "Finished generating 3 - max intensity 2D projections from the CT volume image! \n",
      "Finished generating 3 - mean intensity 2D projections from the CT volume image! \n",
      "Finished generating 3 - max intensity 2D projections from the SUV volume image! \n",
      "Finished generating 3 - mean intensity 2D projections from the SUV volume image! \n",
      "Finished generating 3 - max intensity 2D projections from the CT volume image! \n",
      "Finished generating 3 - max intensity 2D projections from the CT volume image! \n",
      "Finished generating 3 - min intensity 2D projections from the CT volume image! \n",
      "lpr884752331885_20181116\n",
      "count:  4\n",
      "Finished generating 3 - max intensity 2D projections from the CT volume image! \n",
      "Finished generating 3 - mean intensity 2D projections from the CT volume image! \n",
      "Finished generating 3 - max intensity 2D projections from the SUV volume image! \n",
      "Finished generating 3 - mean intensity 2D projections from the SUV volume image! \n",
      "Finished generating 3 - max intensity 2D projections from the CT volume image! \n",
      "Finished generating 3 - max intensity 2D projections from the CT volume image! \n",
      "Finished generating 3 - min intensity 2D projections from the CT volume image! \n",
      "npr100169878450_20130412\n",
      "count:  5\n",
      "Finished generating 3 - max intensity 2D projections from the CT volume image! \n",
      "Finished generating 3 - mean intensity 2D projections from the CT volume image! \n",
      "Finished generating 3 - max intensity 2D projections from the SUV volume image! \n",
      "Finished generating 3 - mean intensity 2D projections from the SUV volume image! \n",
      "Finished generating 3 - max intensity 2D projections from the CT volume image! \n",
      "Finished generating 3 - max intensity 2D projections from the CT volume image! \n",
      "Finished generating 3 - min intensity 2D projections from the CT volume image! \n",
      "npr100169878450_20130611\n",
      "count:  6\n",
      "Finished generating 3 - max intensity 2D projections from the CT volume image! \n",
      "Finished generating 3 - mean intensity 2D projections from the CT volume image! \n",
      "Finished generating 3 - max intensity 2D projections from the SUV volume image! \n",
      "Finished generating 3 - mean intensity 2D projections from the SUV volume image! \n",
      "Finished generating 3 - max intensity 2D projections from the CT volume image! \n",
      "Finished generating 3 - max intensity 2D projections from the CT volume image! \n",
      "Finished generating 3 - min intensity 2D projections from the CT volume image! \n",
      "npr100222372477_20160314\n",
      "count:  7\n",
      "Finished generating 3 - max intensity 2D projections from the CT volume image! \n",
      "Finished generating 3 - mean intensity 2D projections from the CT volume image! \n",
      "Finished generating 3 - max intensity 2D projections from the SUV volume image! \n",
      "Finished generating 3 - mean intensity 2D projections from the SUV volume image! \n",
      "Finished generating 3 - max intensity 2D projections from the CT volume image! \n",
      "Finished generating 3 - max intensity 2D projections from the CT volume image! \n",
      "Finished generating 3 - min intensity 2D projections from the CT volume image! \n",
      "npr100222372477_20171207\n",
      "count:  8\n",
      "Finished generating 3 - max intensity 2D projections from the CT volume image! \n",
      "Finished generating 3 - mean intensity 2D projections from the CT volume image! \n",
      "Finished generating 3 - max intensity 2D projections from the SUV volume image! \n",
      "Finished generating 3 - mean intensity 2D projections from the SUV volume image! \n",
      "Finished generating 3 - max intensity 2D projections from the CT volume image! \n",
      "Finished generating 3 - max intensity 2D projections from the CT volume image! \n",
      "Finished generating 3 - min intensity 2D projections from the CT volume image! \n",
      "npr100589333593_20190205\n",
      "count:  9\n",
      "Finished generating 3 - max intensity 2D projections from the CT volume image! \n",
      "Finished generating 3 - mean intensity 2D projections from the CT volume image! \n",
      "Finished generating 3 - max intensity 2D projections from the SUV volume image! \n",
      "Finished generating 3 - mean intensity 2D projections from the SUV volume image! \n",
      "Finished generating 3 - max intensity 2D projections from the CT volume image! \n",
      "Finished generating 3 - max intensity 2D projections from the CT volume image! \n",
      "Finished generating 3 - min intensity 2D projections from the CT volume image! \n",
      "npr100825923056_20220510\n",
      "count:  10\n",
      "Finished generating 3 - max intensity 2D projections from the CT volume image! \n",
      "Finished generating 3 - mean intensity 2D projections from the CT volume image! \n",
      "Finished generating 3 - max intensity 2D projections from the SUV volume image! \n",
      "Finished generating 3 - mean intensity 2D projections from the SUV volume image! \n",
      "Finished generating 3 - max intensity 2D projections from the CT volume image! \n",
      "Finished generating 3 - max intensity 2D projections from the CT volume image! \n",
      "Finished generating 3 - min intensity 2D projections from the CT volume image! \n",
      "npr102928239238_20101115\n",
      "count:  11\n"
     ]
    }
   ],
   "source": [
    "resampled_directory_list = []\n",
    "#resampled_SUV_CT_path = \"/home/ashish/Ashish/UCAN/Resampled_SUV_CT/\"\n",
    "resampled_SUV_CT_path = \"/media/andres/T7 Shield1/UCAN_project/Resampled_SUV_CT/\"\n",
    "\n",
    "for dirs, subdirs, files in os.walk(resampled_SUV_CT_path):\n",
    "    for file in files:\n",
    "        file_path = str(os.path.join(dirs, file))\n",
    "        file_path = file_path.replace('\\\\','/')\n",
    "        resampled_directory_list.append(file_path)\n",
    "\n",
    "resampled_directory_df = pd.DataFrame(resampled_directory_list, columns=['directory'])\n",
    "resampled_directory_df[['source_directory', 'patient_directory', 'scan_date', 'SUV_CT']] = resampled_directory_df['directory'].str.rsplit(pat='/', n=3, expand=True)\n",
    "resampled_directory_df[['npr', 'extra']] = resampled_directory_df['patient_directory'].str.split(pat='_', n=1, expand=True)\n",
    "resampled_directory_df.drop(columns=['directory','extra', 'SUV_CT'], inplace=True)\n",
    "resampled_directory_df.drop_duplicates(inplace=True)\n",
    "\n",
    "utils.display_full(resampled_directory_df.head(2))\n",
    "\n",
    "count = 0\n",
    "# Generate the raw 2D projections\n",
    "for index, row in resampled_directory_df.iterrows():\n",
    "    #raw_projections_path = \"/home/ashish/Ashish/UCAN/Results/test_new_proj/\"\n",
    "    raw_projections_path = \"/media/andres/T7 Shield1/UCAN_project/Testing/test_new_projections/\"\n",
    "    angle = 90\n",
    "\n",
    "    CTnii_path = resampled_SUV_CT_path + str(row[\"patient_directory\"]) + '/' + str(row['scan_date']) + '/' + 'CT.nii.gz'\n",
    "    #print(\"CTnii_path\", CTnii_path)\n",
    "    \n",
    "    CT_img =sitk.ReadImage(CTnii_path)\n",
    "    #print(\"info:\", CT_img.GetSize())\n",
    "    #utils.save_as_gz(CT_img, raw_projections_path + 'test_CT.nii.gz')\n",
    "    #sitk.WriteImage(CT_img, raw_projections_path + 'test_CT.nii.gz')\n",
    "\n",
    "    SUVnii_path = resampled_SUV_CT_path + str(row[\"patient_directory\"]) + '/' + str(row['scan_date']) + '/' + 'SUV.nii.gz'\n",
    "    SUV_img =sitk.ReadImage(SUVnii_path)\n",
    "    #print(\"SUVnii_path\", SUVnii_path)\n",
    "    #utils.save_as_gz(SUV_img, raw_projections_path + 'test_SUV.nii.gz')\n",
    "    \n",
    "    bone_mask, lean_mask, adipose_mask, air_mask, tracer_contrast_mask = get_proj_after_mask(CT_img)\n",
    "\n",
    "    multiply= sitk.MultiplyImageFilter()\n",
    "    #try:\n",
    "\n",
    "    CT_tracer_contrast = multiply.Execute(CT_img,sitk.Cast(tracer_contrast_mask,CT_img.GetPixelID()))\n",
    " \n",
    "    utils.get_2D_projections(CT_tracer_contrast, 'CT', \"max\", angle, invert_intensity= True, img_n=raw_projections_path + str(row['npr']) + '_' + str(row['scan_date']) + '_CT_tracer_contrast_MaxIP_')\n",
    "    utils.get_2D_projections(CT_tracer_contrast, 'CT', \"mean\", angle, invert_intensity= True, img_n=raw_projections_path + str(row['npr']) + '_' + str(row['scan_date']) + '_CT_tracer_contrast_MeanIP_')\n",
    "    #utils.get_2D_projections(CT_tracer_contrast, 'CT', \"min\", angle, invert_intensity= True, img_n=raw_projections_path + str(row['npr']) + '_' + str(row['scan_date']) + '_CT_tracer_contrast_MinIP_')\n",
    "\n",
    "    SUV_tracer_contrast = multiply.Execute(SUV_img,sitk.Cast(tracer_contrast_mask,SUV_img.GetPixelID()))\n",
    "    utils.get_2D_projections(SUV_tracer_contrast, 'SUV', \"max\", angle, invert_intensity= True, img_n=raw_projections_path + str(row['npr']) + '_' + str(row['scan_date']) + '_SUV_tracer_contrast_MaxIP_')\n",
    "    utils.get_2D_projections(SUV_tracer_contrast, 'SUV', \"mean\", angle, invert_intensity= True, img_n=raw_projections_path + str(row['npr']) + '_' + str(row['scan_date']) + '_SUV_tracer_contrast_MeanIP_')\n",
    "    #utils.get_2D_projections(SUV_tracer_contrast, 'SUV', \"min\", angle, invert_intensity= True, img_n=raw_projections_path + str(row['npr']) + '_' + str(row['scan_date']) + '_SUV_tracer_contrast_MinIP_')\n",
    "\n",
    "\n",
    "    CT_bone = multiply.Execute(CT_img,sitk.Cast(bone_mask,CT_img.GetPixelID()))\n",
    "    utils.get_2D_projections(CT_bone, 'CT', \"max\", angle, invert_intensity= True, img_n=raw_projections_path + str(row['npr']) + '_' + str(row['scan_date']) + '_CT_bone_MaxIP_')\n",
    "    #utils.get_2D_projections(CT_bone, 'CT', \"min\", angle, invert_intensity= True, img_n=raw_projections_path + str(row['npr']) + '_' + str(row['scan_date']) + '_CT_bone_MinIP_')\n",
    "\n",
    "    CT_lean = multiply.Execute(CT_img,sitk.Cast(lean_mask,CT_img.GetPixelID()))\n",
    "    utils.get_2D_projections(CT_lean, 'CT', \"max\", angle, invert_intensity= True, img_n=raw_projections_path + str(row['npr']) + '_' + str(row['scan_date']) + '_CT_lean_MaxIP_')\n",
    "    utils.get_2D_projections(CT_lean, 'CT', \"min\", angle, invert_intensity= True, img_n=raw_projections_path + str(row['npr']) + '_' + str(row['scan_date']) + '_CT_lean_MinIP_')\n",
    "    \n",
    "    count += 1\n",
    "    print(str(row['npr']) + '_' + str(row['scan_date']))\n",
    "    print(\"count: \", count)\n",
    "    #except: \n",
    "        #print(str(row['npr']) + '_' + str(row['scan_date']))\n",
    "    #    pass\n",
    "\n",
    "    if count > 10:\n",
    "        break"
   ]
  },
  {
   "cell_type": "code",
   "execution_count": 18,
   "metadata": {},
   "outputs": [
    {
     "data": {
      "text/html": [
       "<div>\n",
       "<style scoped>\n",
       "    .dataframe tbody tr th:only-of-type {\n",
       "        vertical-align: middle;\n",
       "    }\n",
       "\n",
       "    .dataframe tbody tr th {\n",
       "        vertical-align: top;\n",
       "    }\n",
       "\n",
       "    .dataframe thead th {\n",
       "        text-align: right;\n",
       "    }\n",
       "</style>\n",
       "<table border=\"1\" class=\"dataframe\">\n",
       "  <thead>\n",
       "    <tr style=\"text-align: right;\">\n",
       "      <th></th>\n",
       "      <th>source_directory</th>\n",
       "      <th>patient_directory</th>\n",
       "      <th>scan_date</th>\n",
       "      <th>npr</th>\n",
       "    </tr>\n",
       "  </thead>\n",
       "  <tbody>\n",
       "    <tr>\n",
       "      <th>0</th>\n",
       "      <td>/home/ashish/Ashish/UCAN/Resampled_SUV_CT</td>\n",
       "      <td>npr865130139443_SUV_CT</td>\n",
       "      <td>20210622</td>\n",
       "      <td>npr865130139443</td>\n",
       "    </tr>\n",
       "    <tr>\n",
       "      <th>2</th>\n",
       "      <td>/home/ashish/Ashish/UCAN/Resampled_SUV_CT</td>\n",
       "      <td>npr865130139443_SUV_CT</td>\n",
       "      <td>20211126</td>\n",
       "      <td>npr865130139443</td>\n",
       "    </tr>\n",
       "    <tr>\n",
       "      <th>4</th>\n",
       "      <td>/home/ashish/Ashish/UCAN/Resampled_SUV_CT</td>\n",
       "      <td>npr382894159583_SUV_CT</td>\n",
       "      <td>20150127</td>\n",
       "      <td>npr382894159583</td>\n",
       "    </tr>\n",
       "    <tr>\n",
       "      <th>6</th>\n",
       "      <td>/home/ashish/Ashish/UCAN/Resampled_SUV_CT</td>\n",
       "      <td>npr382894159583_SUV_CT</td>\n",
       "      <td>20140828</td>\n",
       "      <td>npr382894159583</td>\n",
       "    </tr>\n",
       "    <tr>\n",
       "      <th>8</th>\n",
       "      <td>/home/ashish/Ashish/UCAN/Resampled_SUV_CT</td>\n",
       "      <td>npr717322658733_SUV_CT</td>\n",
       "      <td>20180718</td>\n",
       "      <td>npr717322658733</td>\n",
       "    </tr>\n",
       "  </tbody>\n",
       "</table>\n",
       "</div>"
      ],
      "text/plain": [
       "                            source_directory       patient_directory  \\\n",
       "0  /home/ashish/Ashish/UCAN/Resampled_SUV_CT  npr865130139443_SUV_CT   \n",
       "2  /home/ashish/Ashish/UCAN/Resampled_SUV_CT  npr865130139443_SUV_CT   \n",
       "4  /home/ashish/Ashish/UCAN/Resampled_SUV_CT  npr382894159583_SUV_CT   \n",
       "6  /home/ashish/Ashish/UCAN/Resampled_SUV_CT  npr382894159583_SUV_CT   \n",
       "8  /home/ashish/Ashish/UCAN/Resampled_SUV_CT  npr717322658733_SUV_CT   \n",
       "\n",
       "  scan_date              npr  \n",
       "0  20210622  npr865130139443  \n",
       "2  20211126  npr865130139443  \n",
       "4  20150127  npr382894159583  \n",
       "6  20140828  npr382894159583  \n",
       "8  20180718  npr717322658733  "
      ]
     },
     "execution_count": 18,
     "metadata": {},
     "output_type": "execute_result"
    }
   ],
   "source": [
    "resampled_directory_df.head()"
   ]
  },
  {
   "cell_type": "code",
   "execution_count": null,
   "metadata": {},
   "outputs": [],
   "source": []
  }
 ],
 "metadata": {
  "kernelspec": {
   "display_name": "dlfia",
   "language": "python",
   "name": "python3"
  },
  "language_info": {
   "codemirror_mode": {
    "name": "ipython",
    "version": 3
   },
   "file_extension": ".py",
   "mimetype": "text/x-python",
   "name": "python",
   "nbconvert_exporter": "python",
   "pygments_lexer": "ipython3",
   "version": "3.11.5"
  }
 },
 "nbformat": 4,
 "nbformat_minor": 2
}
