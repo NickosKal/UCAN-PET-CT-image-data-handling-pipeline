{
 "cells": [
  {
   "cell_type": "code",
   "execution_count": 1,
   "metadata": {},
   "outputs": [
    {
     "name": "stdout",
     "output_type": "stream",
     "text": [
      "env: SITK_SHOW_COMMAND='C:\\ProgramData\\slicer.org\\Slicer 5.4.0\\Slicer'\n"
     ]
    }
   ],
   "source": [
    "import SimpleITK as sitk\n",
    "import matplotlib.pyplot as plt\n",
    "import numpy as np\n",
    "import pandas as pd\n",
    "import scipy.ndimage\n",
    "import os\n",
    "import cv2\n",
    "from tqdm import tqdm\n",
    "from utils import get_2D_projections\n",
    "from datetime import datetime\n",
    "import traceback\n",
    "\n",
    "%env SITK_SHOW_COMMAND 'C:\\ProgramData\\slicer.org\\Slicer 5.4.0\\Slicer'"
   ]
  },
  {
   "cell_type": "code",
   "execution_count": 2,
   "metadata": {},
   "outputs": [],
   "source": [
    "import sys\n",
    "\n",
    "parent_dir = os.path.abspath('..')\n",
    "if parent_dir not in sys.path:\n",
    "    sys.path.append(parent_dir)\n",
    "\n",
    "from Utils import utils"
   ]
  },
  {
   "cell_type": "code",
   "execution_count": 3,
   "metadata": {},
   "outputs": [
    {
     "data": {
      "text/plain": [
       "{'common': {'paths': {'source_path_wd': 'E:/U-CAN-Lymfom_A',\n",
       "   'source_path_bd': '/media/andres/T7 Shield/ucan_lymfom'}},\n",
       " 'selection': {'filenames': {'rejected_folder_filename': 'Rejected_exams_from_U-CAN-Lymfom.xlsx',\n",
       "   'sourcefiltered_folder_filename': 'SourceFiltered_exams_from_U-CAN-Lymfom.xlsx',\n",
       "   'incomplete_folders_filename_initial': 'No_PTorCT_exams_from_U-CAN-Lymfom1.xlsx',\n",
       "   'incomplete_folders_filename_final': 'No_PTorCT_exams_from_U-CAN-Lymfom2.xlsx',\n",
       "   'selected_folders_beforefiltering_filename': 'Selected_exams_beforefiltering_from_U-CAN-Lymfom.xlsx',\n",
       "   'selected_folders_afterfiltering_filename': 'Selected_exams_afterfiltering_from_U-CAN-Lymfom.xlsx',\n",
       "   'final_selected_images_filename': 'Excel_files/06_11_2023/Final_Selected_exams_from_U-CAN-Lymfom.xlsx',\n",
       "   'list_of_distorted_images_filename': 'Distorted_exams_from_U-CAN-Lymfom.xlsx'}},\n",
       " 'metadata': {'filenames': {'final_selected_images_filename': 'Finalized_dataset.xlsx'}},\n",
       " 'resampling': {'voxel_spacing': [2.0364201068878174, 2.0364201068878174, 3.0],\n",
       "  'image_size': [256, 256, 256]},\n",
       " 'projections': {'paths': {'destination_path': 'Selected_for_UCAN_project/2dprojections'},\n",
       "  'variables': {'modality': ['CT', 'PT', 'SUV'],\n",
       "   'tissue_type': ['LT', 'AT', 'LT', 'B', 'N'],\n",
       "   'projection_type': ['sum', 'min', 'max', 'mean', 'std'],\n",
       "   'angles': [0, 90]}}}"
      ]
     },
     "execution_count": 3,
     "metadata": {},
     "output_type": "execute_result"
    }
   ],
   "source": [
    "config = utils.read_config()\n",
    "config"
   ]
  },
  {
   "cell_type": "code",
   "execution_count": 4,
   "metadata": {},
   "outputs": [
    {
     "data": {
      "text/plain": [
       "'G:/U-CAN-Lymfom_A/Projections/2DProjections_ResampledImages_8Nov2023/'"
      ]
     },
     "execution_count": 4,
     "metadata": {},
     "output_type": "execute_result"
    }
   ],
   "source": [
    "source_path_wd = config['common']['paths']['source_path_wd']\n",
    "source_path_bd = config['common']['paths']['source_path_bd']\n",
    "final_selected_images_filename = config['metadata']['filenames']['final_selected_images_filename']\n",
    "#projection_path = 'E:\\\\Sambit\\\\Project_10\\\\Data\\\\2D Projections\\\\' #config['projections']['paths']['destination_path']\n",
    "projection_path = 'G:/U-CAN-Lymfom_A/Projections/2DProjections_ResampledImages_8Nov2023/'\n",
    "\n",
    "selection_dataframe = os.path.join(source_path_wd, final_selected_images_filename)\n",
    "final_projections = os.path.join(source_path_wd, projection_path)\n",
    "final_projections"
   ]
  },
  {
   "cell_type": "code",
   "execution_count": 5,
   "metadata": {},
   "outputs": [
    {
     "data": {
      "text/plain": [
       "'E:/U-CAN-Lymfom_A\\\\Finalized_dataset.xlsx'"
      ]
     },
     "execution_count": 5,
     "metadata": {},
     "output_type": "execute_result"
    }
   ],
   "source": [
    "selection_dataframe"
   ]
  },
  {
   "cell_type": "code",
   "execution_count": 6,
   "metadata": {},
   "outputs": [
    {
     "data": {
      "text/plain": [
       "{'paths': {'destination_path': 'Selected_for_UCAN_project/2dprojections'},\n",
       " 'variables': {'modality': ['CT', 'PT', 'SUV'],\n",
       "  'tissue_type': ['LT', 'AT', 'LT', 'B', 'N'],\n",
       "  'projection_type': ['sum', 'min', 'max', 'mean', 'std'],\n",
       "  'angles': [0, 90]}}"
      ]
     },
     "execution_count": 6,
     "metadata": {},
     "output_type": "execute_result"
    }
   ],
   "source": [
    "projections = config['projections']\n",
    "projections"
   ]
  },
  {
   "cell_type": "code",
   "execution_count": 7,
   "metadata": {},
   "outputs": [],
   "source": [
    "modality = projections['variables']['modality']\n",
    "ttype = projections['variables']['tissue_type'][:-1]\n",
    "ptype = projections['variables']['projection_type']\n",
    "angles = projections['variables']['angles']"
   ]
  },
  {
   "cell_type": "code",
   "execution_count": 8,
   "metadata": {},
   "outputs": [
    {
     "data": {
      "text/plain": [
       "['LT', 'AT', 'LT', 'B']"
      ]
     },
     "execution_count": 8,
     "metadata": {},
     "output_type": "execute_result"
    }
   ],
   "source": [
    "ttype"
   ]
  },
  {
   "cell_type": "code",
   "execution_count": 9,
   "metadata": {},
   "outputs": [
    {
     "name": "stdout",
     "output_type": "stream",
     "text": [
      "config_size:  [256, 256, 256]\n",
      "config_spacing:  [2.0364201068878174, 2.0364201068878174, 3.0]\n"
     ]
    }
   ],
   "source": [
    "config_size = config['resampling']['image_size']\n",
    "config_spacing = config['resampling']['voxel_spacing']\n",
    "print('config_size: ', config_size)\n",
    "print('config_spacing: ', config_spacing)"
   ]
  },
  {
   "cell_type": "code",
   "execution_count": 10,
   "metadata": {},
   "outputs": [],
   "source": [
    "#resampled_destination_path = 'E:/Sambit/Other_Projects/UCAN/Resampled_SUV_CT/'\n",
    "#resampled_destination_path = 'E:/Sambit/Project_10/Data/Resampled_SUV_CT/'\n",
    "resampled_destination_path = 'G:/UCAN_project/'\n",
    "#resampled_destination_path = 'F:/ucan_lymfom/Resampled_SUV_CT/Sample31Oct2023/'"
   ]
  },
  {
   "cell_type": "code",
   "execution_count": 11,
   "metadata": {},
   "outputs": [
    {
     "name": "stdout",
     "output_type": "stream",
     "text": [
      "G:/UCAN_project/npr100169878450_SUV_CT/20130611/CT.nii.gz\n",
      "G:/UCAN_project/npr100169878450_SUV_CT/20130611/SUV.nii.gz\n",
      "G:/UCAN_project/npr100169878450_SUV_CT/20130412/CT.nii.gz\n",
      "G:/UCAN_project/npr100169878450_SUV_CT/20130412/SUV.nii.gz\n",
      "G:/UCAN_project/npr100222372477_SUV_CT/20171207/CT.nii.gz\n",
      "G:/UCAN_project/npr100222372477_SUV_CT/20171207/SUV.nii.gz\n",
      "G:/UCAN_project/npr100222372477_SUV_CT/20160314/CT.nii.gz\n",
      "G:/UCAN_project/npr100222372477_SUV_CT/20160314/SUV.nii.gz\n",
      "G:/UCAN_project/npr100589333593_SUV_CT/20190205/CT.nii.gz\n",
      "G:/UCAN_project/npr100589333593_SUV_CT/20190205/SUV.nii.gz\n",
      "G:/UCAN_project/npr100825923056_SUV_CT/20220510/CT.nii.gz\n",
      "G:/UCAN_project/npr100825923056_SUV_CT/20220510/SUV.nii.gz\n",
      "G:/UCAN_project/npr102928239238_SUV_CT/20190108/CT.nii.gz\n",
      "G:/UCAN_project/npr102928239238_SUV_CT/20190108/SUV.nii.gz\n",
      "G:/UCAN_project/npr102928239238_SUV_CT/20110601/CT.nii.gz\n",
      "G:/UCAN_project/npr102928239238_SUV_CT/20110601/SUV.nii.gz\n",
      "G:/UCAN_project/npr102928239238_SUV_CT/20101115/CT.nii.gz\n",
      "G:/UCAN_project/npr102928239238_SUV_CT/20101115/SUV.nii.gz\n",
      "G:/UCAN_project/npr103622823947_SUV_CT/20160322/CT.nii.gz\n",
      "G:/UCAN_project/npr103622823947_SUV_CT/20160322/SUV.nii.gz\n",
      "G:/UCAN_project/npr104155030926_SUV_CT/20200612/CT.nii.gz\n",
      "G:/UCAN_project/npr104155030926_SUV_CT/20200612/SUV.nii.gz\n"
     ]
    }
   ],
   "source": [
    "resampled_directory_list = []\n",
    "\n",
    "for dirs, subdirs, files in os.walk(resampled_destination_path):\n",
    "    for file in files:\n",
    "        file_path = str(os.path.join(dirs, file))\n",
    "        file_path = file_path.replace('\\\\','/')\n",
    "        resampled_directory_list.append(file_path)\n",
    "        print(file_path)"
   ]
  },
  {
   "cell_type": "code",
   "execution_count": 12,
   "metadata": {},
   "outputs": [
    {
     "data": {
      "text/html": [
       "<div>\n",
       "<style scoped>\n",
       "    .dataframe tbody tr th:only-of-type {\n",
       "        vertical-align: middle;\n",
       "    }\n",
       "\n",
       "    .dataframe tbody tr th {\n",
       "        vertical-align: top;\n",
       "    }\n",
       "\n",
       "    .dataframe thead th {\n",
       "        text-align: right;\n",
       "    }\n",
       "</style>\n",
       "<table border=\"1\" class=\"dataframe\">\n",
       "  <thead>\n",
       "    <tr style=\"text-align: right;\">\n",
       "      <th></th>\n",
       "      <th>source_directory</th>\n",
       "      <th>patient_directory</th>\n",
       "      <th>scan_date</th>\n",
       "      <th>npr</th>\n",
       "    </tr>\n",
       "  </thead>\n",
       "  <tbody>\n",
       "    <tr>\n",
       "      <th>0</th>\n",
       "      <td>G:/UCAN_project</td>\n",
       "      <td>npr100169878450_SUV_CT</td>\n",
       "      <td>20130611</td>\n",
       "      <td>npr100169878450</td>\n",
       "    </tr>\n",
       "    <tr>\n",
       "      <th>2</th>\n",
       "      <td>G:/UCAN_project</td>\n",
       "      <td>npr100169878450_SUV_CT</td>\n",
       "      <td>20130412</td>\n",
       "      <td>npr100169878450</td>\n",
       "    </tr>\n",
       "    <tr>\n",
       "      <th>4</th>\n",
       "      <td>G:/UCAN_project</td>\n",
       "      <td>npr100222372477_SUV_CT</td>\n",
       "      <td>20171207</td>\n",
       "      <td>npr100222372477</td>\n",
       "    </tr>\n",
       "    <tr>\n",
       "      <th>6</th>\n",
       "      <td>G:/UCAN_project</td>\n",
       "      <td>npr100222372477_SUV_CT</td>\n",
       "      <td>20160314</td>\n",
       "      <td>npr100222372477</td>\n",
       "    </tr>\n",
       "    <tr>\n",
       "      <th>8</th>\n",
       "      <td>G:/UCAN_project</td>\n",
       "      <td>npr100589333593_SUV_CT</td>\n",
       "      <td>20190205</td>\n",
       "      <td>npr100589333593</td>\n",
       "    </tr>\n",
       "  </tbody>\n",
       "</table>\n",
       "</div>"
      ],
      "text/plain": [
       "  source_directory       patient_directory scan_date              npr\n",
       "0  G:/UCAN_project  npr100169878450_SUV_CT  20130611  npr100169878450\n",
       "2  G:/UCAN_project  npr100169878450_SUV_CT  20130412  npr100169878450\n",
       "4  G:/UCAN_project  npr100222372477_SUV_CT  20171207  npr100222372477\n",
       "6  G:/UCAN_project  npr100222372477_SUV_CT  20160314  npr100222372477\n",
       "8  G:/UCAN_project  npr100589333593_SUV_CT  20190205  npr100589333593"
      ]
     },
     "execution_count": 12,
     "metadata": {},
     "output_type": "execute_result"
    }
   ],
   "source": [
    "resampled_directory_df = pd.DataFrame(resampled_directory_list, columns=['directory'])\n",
    "resampled_directory_df[['source_directory', 'patient_directory', 'scan_date', 'SUV_CT']] = resampled_directory_df['directory'].str.rsplit(pat='/', n=3, expand=True)\n",
    "resampled_directory_df[['npr', 'extra']] = resampled_directory_df['patient_directory'].str.split(pat='_', n=1, expand=True)\n",
    "resampled_directory_df.drop(columns=['directory','extra', 'SUV_CT'], inplace=True)\n",
    "resampled_directory_df.drop_duplicates(inplace=True)\n",
    "\n",
    "resampled_directory_df.head()"
   ]
  },
  {
   "cell_type": "code",
   "execution_count": 13,
   "metadata": {},
   "outputs": [
    {
     "data": {
      "text/plain": [
       "(11, 4)"
      ]
     },
     "execution_count": 13,
     "metadata": {},
     "output_type": "execute_result"
    }
   ],
   "source": [
    "resampled_directory_df.shape"
   ]
  },
  {
   "cell_type": "code",
   "execution_count": 14,
   "metadata": {},
   "outputs": [
    {
     "data": {
      "text/plain": [
       "Index(['source_directory', 'patient_directory', 'scan_date', 'npr'], dtype='object')"
      ]
     },
     "execution_count": 14,
     "metadata": {},
     "output_type": "execute_result"
    }
   ],
   "source": [
    "resampled_directory_df.columns"
   ]
  },
  {
   "cell_type": "code",
   "execution_count": 15,
   "metadata": {},
   "outputs": [
    {
     "name": "stdout",
     "output_type": "stream",
     "text": [
      "Finished generating 3 - mean intensity 2D projections from the CT volume image! \n",
      "Finished generating 3 - mean intensity 2D projections from the CT volume image! \n",
      "Finished generating 3 - mean intensity 2D projections from the CT volume image! \n",
      "Finished generating 3 - mean intensity 2D projections from the CT volume image! \n",
      "Finished generating 3 - mean intensity 2D projections from the CT volume image! \n",
      "Finished generating 3 - max intensity 2D projections from the SUV volume image! \n",
      "Finished generating 3 - max intensity 2D projections from the SUV volume image! \n",
      "Finished generating 3 - max intensity 2D projections from the SUV volume image! \n",
      "Finished generating 3 - max intensity 2D projections from the SUV volume image! \n",
      "Finished generating 3 - max intensity 2D projections from the SUV volume image! \n",
      "Finished generating 3 - mean intensity 2D projections from the CT volume image! \n",
      "Finished generating 3 - mean intensity 2D projections from the CT volume image! \n",
      "Finished generating 3 - mean intensity 2D projections from the CT volume image! \n",
      "Finished generating 3 - mean intensity 2D projections from the CT volume image! \n",
      "Finished generating 3 - mean intensity 2D projections from the CT volume image! \n",
      "Finished generating 3 - max intensity 2D projections from the SUV volume image! \n",
      "Finished generating 3 - max intensity 2D projections from the SUV volume image! \n",
      "Finished generating 3 - max intensity 2D projections from the SUV volume image! \n",
      "Finished generating 3 - max intensity 2D projections from the SUV volume image! \n",
      "Finished generating 3 - max intensity 2D projections from the SUV volume image! \n",
      "Finished generating 3 - mean intensity 2D projections from the CT volume image! \n",
      "Finished generating 3 - mean intensity 2D projections from the CT volume image! \n",
      "Finished generating 3 - mean intensity 2D projections from the CT volume image! \n",
      "Finished generating 3 - mean intensity 2D projections from the CT volume image! \n",
      "Finished generating 3 - mean intensity 2D projections from the CT volume image! \n",
      "Finished generating 3 - max intensity 2D projections from the SUV volume image! \n",
      "Finished generating 3 - max intensity 2D projections from the SUV volume image! \n",
      "Finished generating 3 - max intensity 2D projections from the SUV volume image! \n",
      "Finished generating 3 - max intensity 2D projections from the SUV volume image! \n",
      "Finished generating 3 - max intensity 2D projections from the SUV volume image! \n",
      "Finished generating 3 - mean intensity 2D projections from the CT volume image! \n",
      "Finished generating 3 - mean intensity 2D projections from the CT volume image! \n",
      "Finished generating 3 - mean intensity 2D projections from the CT volume image! \n",
      "Finished generating 3 - mean intensity 2D projections from the CT volume image! \n",
      "Finished generating 3 - mean intensity 2D projections from the CT volume image! \n",
      "Finished generating 3 - max intensity 2D projections from the SUV volume image! \n",
      "Finished generating 3 - max intensity 2D projections from the SUV volume image! \n",
      "Finished generating 3 - max intensity 2D projections from the SUV volume image! \n",
      "Finished generating 3 - max intensity 2D projections from the SUV volume image! \n",
      "Finished generating 3 - max intensity 2D projections from the SUV volume image! \n",
      "Finished generating 3 - mean intensity 2D projections from the CT volume image! \n",
      "Finished generating 3 - mean intensity 2D projections from the CT volume image! \n",
      "Finished generating 3 - mean intensity 2D projections from the CT volume image! \n",
      "Finished generating 3 - mean intensity 2D projections from the CT volume image! \n",
      "Finished generating 3 - mean intensity 2D projections from the CT volume image! \n",
      "Finished generating 3 - max intensity 2D projections from the SUV volume image! \n",
      "Finished generating 3 - max intensity 2D projections from the SUV volume image! \n",
      "Finished generating 3 - max intensity 2D projections from the SUV volume image! \n",
      "Finished generating 3 - max intensity 2D projections from the SUV volume image! \n",
      "Finished generating 3 - max intensity 2D projections from the SUV volume image! \n",
      "Finished generating 3 - mean intensity 2D projections from the CT volume image! \n",
      "Finished generating 3 - mean intensity 2D projections from the CT volume image! \n",
      "Finished generating 3 - mean intensity 2D projections from the CT volume image! \n",
      "Finished generating 3 - mean intensity 2D projections from the CT volume image! \n",
      "Finished generating 3 - mean intensity 2D projections from the CT volume image! \n",
      "Finished generating 3 - max intensity 2D projections from the SUV volume image! \n",
      "Finished generating 3 - max intensity 2D projections from the SUV volume image! \n",
      "Finished generating 3 - max intensity 2D projections from the SUV volume image! \n",
      "Finished generating 3 - max intensity 2D projections from the SUV volume image! \n",
      "Finished generating 3 - max intensity 2D projections from the SUV volume image! \n",
      "Finished generating 3 - mean intensity 2D projections from the CT volume image! \n",
      "Finished generating 3 - mean intensity 2D projections from the CT volume image! \n",
      "Finished generating 3 - mean intensity 2D projections from the CT volume image! \n",
      "Finished generating 3 - mean intensity 2D projections from the CT volume image! \n",
      "Finished generating 3 - mean intensity 2D projections from the CT volume image! \n",
      "Finished generating 3 - max intensity 2D projections from the SUV volume image! \n",
      "Finished generating 3 - max intensity 2D projections from the SUV volume image! \n",
      "Finished generating 3 - max intensity 2D projections from the SUV volume image! \n",
      "Finished generating 3 - max intensity 2D projections from the SUV volume image! \n",
      "Finished generating 3 - max intensity 2D projections from the SUV volume image! \n",
      "Finished generating 3 - mean intensity 2D projections from the CT volume image! \n",
      "Finished generating 3 - mean intensity 2D projections from the CT volume image! \n",
      "Finished generating 3 - mean intensity 2D projections from the CT volume image! \n",
      "Finished generating 3 - mean intensity 2D projections from the CT volume image! \n",
      "Finished generating 3 - mean intensity 2D projections from the CT volume image! \n",
      "Finished generating 3 - max intensity 2D projections from the SUV volume image! \n",
      "Finished generating 3 - max intensity 2D projections from the SUV volume image! \n",
      "Finished generating 3 - max intensity 2D projections from the SUV volume image! \n",
      "Finished generating 3 - max intensity 2D projections from the SUV volume image! \n",
      "Finished generating 3 - max intensity 2D projections from the SUV volume image! \n",
      "Finished generating 3 - mean intensity 2D projections from the CT volume image! \n",
      "Finished generating 3 - mean intensity 2D projections from the CT volume image! \n",
      "Finished generating 3 - mean intensity 2D projections from the CT volume image! \n",
      "Finished generating 3 - mean intensity 2D projections from the CT volume image! \n",
      "Finished generating 3 - mean intensity 2D projections from the CT volume image! \n",
      "Finished generating 3 - max intensity 2D projections from the SUV volume image! \n",
      "Finished generating 3 - max intensity 2D projections from the SUV volume image! \n",
      "Finished generating 3 - max intensity 2D projections from the SUV volume image! \n",
      "Finished generating 3 - max intensity 2D projections from the SUV volume image! \n",
      "Finished generating 3 - max intensity 2D projections from the SUV volume image! \n",
      "Finished generating 3 - mean intensity 2D projections from the CT volume image! \n",
      "Finished generating 3 - mean intensity 2D projections from the CT volume image! \n",
      "Finished generating 3 - mean intensity 2D projections from the CT volume image! \n",
      "Finished generating 3 - mean intensity 2D projections from the CT volume image! \n",
      "Finished generating 3 - mean intensity 2D projections from the CT volume image! \n",
      "Finished generating 3 - max intensity 2D projections from the SUV volume image! \n",
      "Finished generating 3 - max intensity 2D projections from the SUV volume image! \n",
      "Finished generating 3 - max intensity 2D projections from the SUV volume image! \n",
      "Finished generating 3 - max intensity 2D projections from the SUV volume image! \n",
      "Finished generating 3 - max intensity 2D projections from the SUV volume image! \n",
      "Finished generating 3 - mean intensity 2D projections from the CT volume image! \n",
      "Finished generating 3 - mean intensity 2D projections from the CT volume image! \n",
      "Finished generating 3 - mean intensity 2D projections from the CT volume image! \n",
      "Finished generating 3 - mean intensity 2D projections from the CT volume image! \n",
      "Finished generating 3 - mean intensity 2D projections from the CT volume image! \n",
      "Finished generating 3 - max intensity 2D projections from the SUV volume image! \n",
      "Finished generating 3 - max intensity 2D projections from the SUV volume image! \n",
      "Finished generating 3 - max intensity 2D projections from the SUV volume image! \n",
      "Finished generating 3 - max intensity 2D projections from the SUV volume image! \n",
      "Finished generating 3 - max intensity 2D projections from the SUV volume image! \n"
     ]
    }
   ],
   "source": [
    "for index, row in resampled_directory_df.iterrows():\n",
    "\n",
    "    CT_ptype = 'mean'\n",
    "    SUV_ptype = 'max'\n",
    "    angle = 90\n",
    "    \n",
    "    for mod in ['CT','SUV']:\n",
    "        for item in ['MIP', 'bone', 'lean', 'adipose', 'air']:\n",
    "            dir_path = projection_path + str(row['npr']) + '/' + str(row['scan_date']) + '/' + mod + '_' + item\n",
    "            if not os.path.exists(dir_path):\n",
    "                os.makedirs(dir_path)\n",
    "\n",
    "    \n",
    "    CTnii_path = resampled_destination_path + str(row['npr']) + '_SUV_CT/' + str(row['scan_date']) + '/' + 'CT.nii.gz'\n",
    "    SUVnii_path = resampled_destination_path + str(row['npr']) + '_SUV_CT/' + str(row['scan_date']) + '/' + 'SUV.nii.gz'\n",
    "\n",
    "    CT_img =sitk.ReadImage(CTnii_path)\n",
    "    SUV_img =sitk.ReadImage(SUVnii_path)\n",
    "\n",
    "    bone_mask, lean_mask, adipose_mask, air_mask = utils.get_proj_after_mask(CT_img)\n",
    "\n",
    "    multiply= sitk.MultiplyImageFilter()\n",
    "\n",
    "    CT_bone = multiply.Execute(CT_img,sitk.Cast(bone_mask,CT_img.GetPixelID()))\n",
    "    CT_lean = multiply.Execute(CT_img,sitk.Cast(lean_mask,CT_img.GetPixelID()))\n",
    "    CT_adipose = multiply.Execute(CT_img,sitk.Cast(adipose_mask,CT_img.GetPixelID()))\n",
    "    CT_air = multiply.Execute(CT_img,sitk.Cast(air_mask,CT_img.GetPixelID()))\n",
    "\n",
    "    utils.get_2D_projections(CT_img, 'CT', CT_ptype, angle, invert_intensity= False, img_n=projection_path + str(row['npr']) + '/' + str(row['scan_date']) + '/CT_MIP/')\n",
    "    utils.get_2D_projections(CT_bone, 'CT', CT_ptype, angle, img_n=projection_path + str(row['npr']) + '/' + str(row['scan_date']) + '/CT_bone/')\n",
    "    utils.get_2D_projections(CT_lean, 'CT', CT_ptype, angle, img_n=projection_path + str(row['npr']) + '/' + str(row['scan_date']) + '/CT_lean/')\n",
    "    utils.get_2D_projections(CT_adipose, 'CT', CT_ptype, angle, invert_intensity= False, img_n=projection_path + str(row['npr']) + '/' + str(row['scan_date']) + '/CT_adipose/')\n",
    "    utils.get_2D_projections(CT_air, 'CT', CT_ptype, angle, img_n=projection_path + str(row['npr']) + '/' + str(row['scan_date']) + '/CT_air/')\n",
    "    \n",
    "    SUV_bone = multiply.Execute(SUV_img,sitk.Cast(bone_mask,SUV_img.GetPixelID()))\n",
    "    SUV_lean = multiply.Execute(SUV_img,sitk.Cast(lean_mask,SUV_img.GetPixelID()))\n",
    "    SUV_adipose = multiply.Execute(SUV_img,sitk.Cast(adipose_mask,SUV_img.GetPixelID()))\n",
    "    SUV_air = multiply.Execute(SUV_img,sitk.Cast(air_mask,SUV_img.GetPixelID()))\n",
    "\n",
    "    utils.get_2D_projections(SUV_img, 'SUV', SUV_ptype, angle, img_n=projection_path + str(row['npr']) + '/' + str(row['scan_date']) + '/SUV_MIP/')\n",
    "    utils.get_2D_projections(SUV_bone, 'SUV', SUV_ptype, angle, img_n=projection_path + str(row['npr']) + '/' + str(row['scan_date']) + '/SUV_bone/')\n",
    "    utils.get_2D_projections(SUV_lean, 'SUV', SUV_ptype, angle, img_n=projection_path + str(row['npr']) + '/' + str(row['scan_date']) + '/SUV_lean/')\n",
    "    utils.get_2D_projections(SUV_adipose, 'SUV', SUV_ptype, angle, img_n=projection_path + str(row['npr']) + '/' + str(row['scan_date']) + '/SUV_adipose/')\n",
    "    utils.get_2D_projections(SUV_air, 'SUV', SUV_ptype, angle, img_n=projection_path + str(row['npr']) + '/' + str(row['scan_date']) + '/SUV_air/')\n",
    "\n",
    "    \n",
    "\n",
    "\n",
    "\n"
   ]
  },
  {
   "cell_type": "markdown",
   "metadata": {},
   "source": [
    "### Testing projections\n",
    "\n",
    "folder structure: patient / scandate / CT_tissuetype/angle.npy"
   ]
  },
  {
   "cell_type": "code",
   "execution_count": 30,
   "metadata": {},
   "outputs": [
    {
     "data": {
      "text/plain": [
       "<matplotlib.image.AxesImage at 0x11704660190>"
      ]
     },
     "execution_count": 30,
     "metadata": {},
     "output_type": "execute_result"
    },
    {
     "data": {
      "image/png": "[encoded data removed]",
      "text/plain": [
       "<Figure size 640x480 with 1 Axes>"
      ]
     },
     "metadata": {},
     "output_type": "display_data"
    }
   ],
   "source": [
    "file_path = r'g:\\U-CAN-Lymfom_A\\Projections\\2DProjections_ResampledImages_8Nov2023\\npr104155030926\\20200612\\CT_bone\\90.0.npy'\n",
    "temp = np.load(file_path)\n",
    "plt.imshow(temp, cmap=\"gray\")"
   ]
  },
  {
   "cell_type": "code",
   "execution_count": null,
   "metadata": {},
   "outputs": [],
   "source": []
  }
 ],
 "metadata": {
  "kernelspec": {
   "display_name": "UCANProject",
   "language": "python",
   "name": "python3"
  },
  "language_info": {
   "codemirror_mode": {
    "name": "ipython",
    "version": 3
   },
   "file_extension": ".py",
   "mimetype": "text/x-python",
   "name": "python",
   "nbconvert_exporter": "python",
   "pygments_lexer": "ipython3",
   "version": "3.10.9"
  }
 },
 "nbformat": 4,
 "nbformat_minor": 2
}
