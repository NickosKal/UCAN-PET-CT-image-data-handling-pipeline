{
 "cells": [
  {
   "cell_type": "code",
   "execution_count": 2,
   "metadata": {},
   "outputs": [],
   "source": [
    "import pandas as pd"
   ]
  },
  {
   "cell_type": "code",
   "execution_count": 30,
   "metadata": {},
   "outputs": [],
   "source": [
    "black_disk_files_txt_path = \"/media/andres/T7 Shield/blackdisk_filelist.txt\"\n",
    "total_folders_txt_path = \"/media/andres/T7 Shield/UCAN_lymphoma_Network_disk_foldername_dump.txt\"\n",
    "\n",
    "black_disk_files = pd.read_csv(black_disk_files_txt_path, sep=' ', names=[\"Date\", \"Time\", \"DIR\", \"patient_directory\"])\n",
    "total_files = pd.read_csv(total_folders_txt_path, sep=' ', names=[\"Date\", \"Time\", \"DIR\", \"patient_directory\"])"
   ]
  },
  {
   "cell_type": "code",
   "execution_count": 48,
   "metadata": {},
   "outputs": [
    {
     "data": {
      "text/plain": [
       "(2047, 4)"
      ]
     },
     "execution_count": 48,
     "metadata": {},
     "output_type": "execute_result"
    }
   ],
   "source": [
    "total_files.shape"
   ]
  },
  {
   "cell_type": "code",
   "execution_count": 31,
   "metadata": {},
   "outputs": [
    {
     "data": {
      "text/plain": [
       "(1883, 4)"
      ]
     },
     "execution_count": 31,
     "metadata": {},
     "output_type": "execute_result"
    }
   ],
   "source": [
    "black_disk_files.shape"
   ]
  },
  {
   "cell_type": "code",
   "execution_count": 32,
   "metadata": {},
   "outputs": [
    {
     "data": {
      "text/plain": [
       "pandas.core.frame.DataFrame"
      ]
     },
     "execution_count": 32,
     "metadata": {},
     "output_type": "execute_result"
    }
   ],
   "source": [
    "type(black_disk_files)"
   ]
  },
  {
   "cell_type": "code",
   "execution_count": 7,
   "metadata": {},
   "outputs": [],
   "source": [
    "def display_full(x):\n",
    "    with pd.option_context(\"display.max_rows\", None,\n",
    "                           \"display.max_columns\", None,\n",
    "                           \"display.width\", 20000,\n",
    "                           \"display.max_colwidth\", None,\n",
    "                           ):\n",
    "        print(x)"
   ]
  },
  {
   "cell_type": "code",
   "execution_count": null,
   "metadata": {},
   "outputs": [],
   "source": [
    "merged_df = black_disk_files.merge(total_files, how=\"outer\", indicator=True)\n",
    "\n",
    "missing_rows_df = merged_df[merged_df[\"_merge\"] == \"right_only\"]\n",
    "\n",
    "missing_rows_df.reset_index(drop=True, inplace=True)\n",
    "\n",
    "display_full(missing_rows_df.patient_directory)\n",
    "missing_from_black_disk = missing_rows_df.patient_directory\n",
    "missing_from_black_disk.to_excel(\"files_missing_from_black_disk.xlsx\")"
   ]
  },
  {
   "cell_type": "code",
   "execution_count": null,
   "metadata": {},
   "outputs": [],
   "source": [
    "missing_from_black_disk.shape"
   ]
  },
  {
   "cell_type": "code",
   "execution_count": 13,
   "metadata": {},
   "outputs": [
    {
     "name": "stdout",
     "output_type": "stream",
     "text": [
      "Final dataset shape: (2332, 8)\n",
      "----------------------------\n",
      "Final dataset columns: Index(['Unnamed: 0', 'directory', 'source_directory', 'patient_directory',\n",
      "       'PET-CT_info', 'system', 'npr', 'scan_date'],\n",
      "      dtype='object')\n",
      "----------------------------\n",
      "0    D:/ucan_lymfom/ASPTCTX0001_npr900031979078-20220919/PT-20220919-141702-3.11_WB_F18_FDG_VENFAS__THORAX_INANDAD-QCFX-S_400_M.Free-2.8000mm\n",
      "1     D:/ucan_lymfom/ASPTCTX0001_npr900031979078-20220919/CT-20220919-143055-3.11_WB_F18_FDG_VENFAS__THORAX_INANDAD-WB_Venfas_3_ax-3.000000mm\n",
      "2    D:/ucan_lymfom/ASPTCTX0001_npr748236341307-20220908/PT-20220908-103801-3.11_WB_F18_FDG_VENFAS__THORAX_INANDAD-QCFX-S_400_M.Free-2.8000mm\n",
      "Name: directory, dtype: object\n",
      "----------------------------\n",
      "Patient identity: ASPTCTX0001_npr900031979078-20220919\n",
      "Patient identity: ASPTCTX0001_npr900031979078-20220919\n",
      "Patient identity: ASPTCTX0001_npr748236341307-20220908\n",
      "Patient identity: ASPTCTX0001_npr748236341307-20220908\n",
      "Patient identity: ASPTCTX0001_npr652851209495-20220829\n",
      "----------------------------\n",
      "Number of unique patients in the final dataset: 1166\n"
     ]
    }
   ],
   "source": [
    "dataset_path = \"/media/andres/T7 Shield/ucan_lymfom/Excel_files/Final_Selected_exams_from_U-CAN-Lymfom.xlsx\"\n",
    "\n",
    "dataset = pd.read_excel(dataset_path)\n",
    "print(f\"Final dataset shape: {dataset.shape}\")\n",
    "print(\"----------------------------\")\n",
    "print(f\"Final dataset columns: {dataset.columns}\")\n",
    "print(\"----------------------------\")\n",
    "display_full(dataset[\"directory\"].head(3))\n",
    "print(\"----------------------------\")\n",
    "for folder_path in dataset[\"directory\"].head(5):\n",
    "    patient = folder_path.rsplit(sep='/', maxsplit=2)[1]\n",
    "    print(f\"Patient identity: {patient}\")\n",
    "print(\"----------------------------\")\n",
    "print(f'Number of unique patients in the final dataset: {dataset[\"patient_directory\"].nunique()}')\n"
   ]
  },
  {
   "cell_type": "code",
   "execution_count": 14,
   "metadata": {},
   "outputs": [
    {
     "name": "stdout",
     "output_type": "stream",
     "text": [
      "Missing information dataset shape: (688, 8)\n",
      "----------------------------\n",
      "Missing information columns: Index(['Unnamed: 0', 'directory', 'source_directory', 'patient_directory',\n",
      "       'PET-CT_info', 'system', 'npr', 'scan_date'],\n",
      "      dtype='object')\n",
      "----------------------------\n",
      "0    D:/ucan_lymfom/ASPTCTX0001_npr826756003305-20220810/CT-20220810-114931-3.12_WB_F18_FDG_VENFAS__THORAX_INANDAD_XL-WB_Venfas_3_ax-3.000000mm\n",
      "1                        D:/ucan_lymfom/ASPTCTX0001_npr349552492905-20220727/CT-20220727-131613-3.8_WB_F18_FDG_VENFAS-WB_Venfas_3_ax-3.000000mm\n",
      "2                        D:/ucan_lymfom/ASPTCTX0001_npr464385153056-20220706/CT-20220706-113806-3.8_WB_F18_FDG_VENFAS-WB_Venfas_3_ax-3.000000mm\n",
      "Name: directory, dtype: object\n",
      "----------------------------\n",
      "Patient identity: ASPTCTX0001_npr826756003305-20220810\n",
      "Patient identity: ASPTCTX0001_npr349552492905-20220727\n",
      "Patient identity: ASPTCTX0001_npr464385153056-20220706\n",
      "Patient identity: ASPTCTX0001_npr980877691796-20220623\n",
      "Patient identity: ASPTCTX0001_npr969621150620-20220622\n",
      "----------------------------\n",
      "Number of unique patients in the missing information dataset: 688\n"
     ]
    }
   ],
   "source": [
    "no_PET_or_CT_info_after_filtering_path = \"/media/andres/T7 Shield/ucan_lymfom/Excel_files/No_PTorCT_exams_from_U-CAN-Lymfom_after_selection_process.xlsx\"\n",
    "\n",
    "missing_info_dataset = pd.read_excel(no_PET_or_CT_info_after_filtering_path)\n",
    "print(f\"Missing information dataset shape: {missing_info_dataset.shape}\")\n",
    "print(\"----------------------------\")\n",
    "print(f\"Missing information columns: {missing_info_dataset.columns}\")\n",
    "print(\"----------------------------\")\n",
    "display_full(missing_info_dataset[\"directory\"].head(3))\n",
    "print(\"----------------------------\")\n",
    "for folder_path in missing_info_dataset[\"directory\"].head(5):\n",
    "    patient = folder_path.rsplit(sep='/', maxsplit=2)[1]\n",
    "    print(f\"Patient identity: {patient}\")\n",
    "print(\"----------------------------\")\n",
    "print(f'Number of unique patients in the missing information dataset: {missing_info_dataset[\"patient_directory\"].nunique()}')"
   ]
  },
  {
   "cell_type": "code",
   "execution_count": 17,
   "metadata": {},
   "outputs": [
    {
     "name": "stdout",
     "output_type": "stream",
     "text": [
      "Number of folders in the black disk: (1883, 4)\n",
      "Number of unique patients in the black disk: 1883\n"
     ]
    }
   ],
   "source": [
    "black_disk_files_txt_path = \"/media/andres/T7 Shield/ucan_lymfom/Excel_files/blackdisk_filelist.txt\"\n",
    "black_disk_files = pd.read_csv(black_disk_files_txt_path, sep=' ', names=[\"Date\", \"Time\", \"DIR\", \"patient_directory\"])\n",
    "print(f\"Number of folders in the black disk: {black_disk_files.shape}\")\n",
    "print(f\"Number of unique patients in the black disk: {black_disk_files['patient_directory'].nunique()}\")"
   ]
  },
  {
   "cell_type": "code",
   "execution_count": 18,
   "metadata": {},
   "outputs": [
    {
     "name": "stdout",
     "output_type": "stream",
     "text": [
      "Distorted exams dataset shape: (167, 2)\n",
      "----------------------------\n",
      "Distorted exams columns: Index(['Unnamed: 0', 'directory'], dtype='object')\n",
      "----------------------------\n",
      "0                      D:/ucan_lymfom/ASPTCTX0001_npr207978513481-20190903/CT-20190903-122850-3.6_WB_FDG_CT_VENFAS-WB_Venfas_3_ax-3.000000mm\n",
      "1    D:/ucan_lymfom/ASPTCTX0001_npr988864921432-20210721/CT-20210721-124711-3.11_WB_F18_FDG_VENFAS__THORAX_INANDAD-WB_Venfas_3_ax-3.000000mm\n",
      "2                              D:/ucan_lymfom/ASPTCTX0001_npr298455374530-20170112/CT-20170112-124030-6.40_FDG__DT-WB_Venfas_1_ax-1.367188mm\n",
      "Name: directory, dtype: object\n",
      "----------------------------\n",
      "Patient identity: ASPTCTX0001_npr826756003305-20220810\n",
      "Patient identity: ASPTCTX0001_npr349552492905-20220727\n",
      "Patient identity: ASPTCTX0001_npr464385153056-20220706\n",
      "Patient identity: ASPTCTX0001_npr980877691796-20220623\n",
      "Patient identity: ASPTCTX0001_npr969621150620-20220622\n",
      "----------------------------\n",
      "Number of unique patients in the distorted exams dataset: 167\n"
     ]
    }
   ],
   "source": [
    "distorted_exams_path = \"/media/andres/T7 Shield/ucan_lymfom/Excel_files/Distorted_exams_from_U-CAN-Lymfom.xlsx\"\n",
    "\n",
    "distorted_exams_dataset = pd.read_excel(distorted_exams_path)\n",
    "print(f\"Distorted exams dataset shape: {distorted_exams_dataset.shape}\")\n",
    "print(\"----------------------------\")\n",
    "print(f\"Distorted exams columns: {distorted_exams_dataset.columns}\")\n",
    "distorted_exams_dataset[['source_directory', 'patient_directory', 'PET-CT_info']] = distorted_exams_dataset['directory'].str.rsplit(pat='/', n=2, expand=True)\n",
    "print(\"----------------------------\")\n",
    "display_full(distorted_exams_dataset[\"directory\"].head(3))\n",
    "print(\"----------------------------\")\n",
    "for folder_path in missing_info_dataset[\"directory\"].head(5):\n",
    "    patient = folder_path.rsplit(sep='/', maxsplit=2)[1]\n",
    "    print(f\"Patient identity: {patient}\")\n",
    "print(\"----------------------------\")\n",
    "print(f'Number of unique patients in the distorted exams dataset: {distorted_exams_dataset[\"patient_directory\"].nunique()}')"
   ]
  },
  {
   "cell_type": "code",
   "execution_count": 21,
   "metadata": {},
   "outputs": [
    {
     "data": {
      "text/html": [
       "<div>\n",
       "<style scoped>\n",
       "    .dataframe tbody tr th:only-of-type {\n",
       "        vertical-align: middle;\n",
       "    }\n",
       "\n",
       "    .dataframe tbody tr th {\n",
       "        vertical-align: top;\n",
       "    }\n",
       "\n",
       "    .dataframe thead th {\n",
       "        text-align: right;\n",
       "    }\n",
       "</style>\n",
       "<table border=\"1\" class=\"dataframe\">\n",
       "  <thead>\n",
       "    <tr style=\"text-align: right;\">\n",
       "      <th></th>\n",
       "      <th>Unnamed: 0</th>\n",
       "      <th>directory</th>\n",
       "      <th>source_directory</th>\n",
       "      <th>patient_directory</th>\n",
       "      <th>PET-CT_info</th>\n",
       "    </tr>\n",
       "  </thead>\n",
       "  <tbody>\n",
       "    <tr>\n",
       "      <th>0</th>\n",
       "      <td>0</td>\n",
       "      <td>D:/ucan_lymfom/ASPTCTX0001_npr207978513481-201...</td>\n",
       "      <td>D:/ucan_lymfom</td>\n",
       "      <td>ASPTCTX0001_npr207978513481-20190903</td>\n",
       "      <td>CT-20190903-122850-3.6_WB_FDG_CT_VENFAS-WB_Ven...</td>\n",
       "    </tr>\n",
       "    <tr>\n",
       "      <th>1</th>\n",
       "      <td>1</td>\n",
       "      <td>D:/ucan_lymfom/ASPTCTX0001_npr988864921432-202...</td>\n",
       "      <td>D:/ucan_lymfom</td>\n",
       "      <td>ASPTCTX0001_npr988864921432-20210721</td>\n",
       "      <td>CT-20210721-124711-3.11_WB_F18_FDG_VENFAS__THO...</td>\n",
       "    </tr>\n",
       "    <tr>\n",
       "      <th>2</th>\n",
       "      <td>2</td>\n",
       "      <td>D:/ucan_lymfom/ASPTCTX0001_npr298455374530-201...</td>\n",
       "      <td>D:/ucan_lymfom</td>\n",
       "      <td>ASPTCTX0001_npr298455374530-20170112</td>\n",
       "      <td>CT-20170112-124030-6.40_FDG__DT-WB_Venfas_1_ax...</td>\n",
       "    </tr>\n",
       "    <tr>\n",
       "      <th>3</th>\n",
       "      <td>3</td>\n",
       "      <td>D:/ucan_lymfom/ASPTCTX0001_npr834522932360-201...</td>\n",
       "      <td>D:/ucan_lymfom</td>\n",
       "      <td>ASPTCTX0001_npr834522932360-20170112</td>\n",
       "      <td>CT-20170112-152413-6.41_FDG__THORAX-WB_Venfas_...</td>\n",
       "    </tr>\n",
       "    <tr>\n",
       "      <th>4</th>\n",
       "      <td>4</td>\n",
       "      <td>D:/ucan_lymfom/ASPTCTX0001_npr612146277420-201...</td>\n",
       "      <td>D:/ucan_lymfom</td>\n",
       "      <td>ASPTCTX0001_npr612146277420-20161220</td>\n",
       "      <td>CT-20161220-142442-6.17_FDG__DT-WB_Venfas_1_ax...</td>\n",
       "    </tr>\n",
       "    <tr>\n",
       "      <th>...</th>\n",
       "      <td>...</td>\n",
       "      <td>...</td>\n",
       "      <td>...</td>\n",
       "      <td>...</td>\n",
       "      <td>...</td>\n",
       "    </tr>\n",
       "    <tr>\n",
       "      <th>162</th>\n",
       "      <td>162</td>\n",
       "      <td>D:/ucan_lymfom/ASPTCTX0001_npr633111903730-201...</td>\n",
       "      <td>D:/ucan_lymfom</td>\n",
       "      <td>ASPTCTX0001_npr633111903730-20180110</td>\n",
       "      <td>CT-20180112-080432-6.6_UAS-WB-FDG-3D_VENFASTHO...</td>\n",
       "    </tr>\n",
       "    <tr>\n",
       "      <th>163</th>\n",
       "      <td>163</td>\n",
       "      <td>D:/ucan_lymfom/ASPTCTX0001_npr205346582030-201...</td>\n",
       "      <td>D:/ucan_lymfom</td>\n",
       "      <td>ASPTCTX0001_npr205346582030-20151012</td>\n",
       "      <td>CT-20151012-130521-6.3_UAS-WB-FDG-3D_CT_THORAX...</td>\n",
       "    </tr>\n",
       "    <tr>\n",
       "      <th>164</th>\n",
       "      <td>164</td>\n",
       "      <td>D:/ucan_lymfom/ASPTCTX0001_npr567278394863-201...</td>\n",
       "      <td>D:/ucan_lymfom</td>\n",
       "      <td>ASPTCTX0001_npr567278394863-20150820</td>\n",
       "      <td>CT-20150820-112425-6.3_UAS-WB-FDG-3D_CT_THORAX...</td>\n",
       "    </tr>\n",
       "    <tr>\n",
       "      <th>165</th>\n",
       "      <td>165</td>\n",
       "      <td>D:/ucan_lymfom/ASPTCTX0001_npr762728449668-201...</td>\n",
       "      <td>D:/ucan_lymfom</td>\n",
       "      <td>ASPTCTX0001_npr762728449668-20150819</td>\n",
       "      <td>CT-20150819-124136-6.3_UAS-WB-FDG-3D_CT_THORAX...</td>\n",
       "    </tr>\n",
       "    <tr>\n",
       "      <th>166</th>\n",
       "      <td>166</td>\n",
       "      <td>D:/ucan_lymfom/ASPTCTX0001_npr624055670870-201...</td>\n",
       "      <td>D:/ucan_lymfom</td>\n",
       "      <td>ASPTCTX0001_npr624055670870-20150928</td>\n",
       "      <td>CT-20150928-141058-6.3_UAS-WB-FDG-3D_CT_THORAX...</td>\n",
       "    </tr>\n",
       "  </tbody>\n",
       "</table>\n",
       "<p>167 rows × 5 columns</p>\n",
       "</div>"
      ],
      "text/plain": [
       "     Unnamed: 0                                          directory  \\\n",
       "0             0  D:/ucan_lymfom/ASPTCTX0001_npr207978513481-201...   \n",
       "1             1  D:/ucan_lymfom/ASPTCTX0001_npr988864921432-202...   \n",
       "2             2  D:/ucan_lymfom/ASPTCTX0001_npr298455374530-201...   \n",
       "3             3  D:/ucan_lymfom/ASPTCTX0001_npr834522932360-201...   \n",
       "4             4  D:/ucan_lymfom/ASPTCTX0001_npr612146277420-201...   \n",
       "..          ...                                                ...   \n",
       "162         162  D:/ucan_lymfom/ASPTCTX0001_npr633111903730-201...   \n",
       "163         163  D:/ucan_lymfom/ASPTCTX0001_npr205346582030-201...   \n",
       "164         164  D:/ucan_lymfom/ASPTCTX0001_npr567278394863-201...   \n",
       "165         165  D:/ucan_lymfom/ASPTCTX0001_npr762728449668-201...   \n",
       "166         166  D:/ucan_lymfom/ASPTCTX0001_npr624055670870-201...   \n",
       "\n",
       "    source_directory                     patient_directory  \\\n",
       "0     D:/ucan_lymfom  ASPTCTX0001_npr207978513481-20190903   \n",
       "1     D:/ucan_lymfom  ASPTCTX0001_npr988864921432-20210721   \n",
       "2     D:/ucan_lymfom  ASPTCTX0001_npr298455374530-20170112   \n",
       "3     D:/ucan_lymfom  ASPTCTX0001_npr834522932360-20170112   \n",
       "4     D:/ucan_lymfom  ASPTCTX0001_npr612146277420-20161220   \n",
       "..               ...                                   ...   \n",
       "162   D:/ucan_lymfom  ASPTCTX0001_npr633111903730-20180110   \n",
       "163   D:/ucan_lymfom  ASPTCTX0001_npr205346582030-20151012   \n",
       "164   D:/ucan_lymfom  ASPTCTX0001_npr567278394863-20150820   \n",
       "165   D:/ucan_lymfom  ASPTCTX0001_npr762728449668-20150819   \n",
       "166   D:/ucan_lymfom  ASPTCTX0001_npr624055670870-20150928   \n",
       "\n",
       "                                           PET-CT_info  \n",
       "0    CT-20190903-122850-3.6_WB_FDG_CT_VENFAS-WB_Ven...  \n",
       "1    CT-20210721-124711-3.11_WB_F18_FDG_VENFAS__THO...  \n",
       "2    CT-20170112-124030-6.40_FDG__DT-WB_Venfas_1_ax...  \n",
       "3    CT-20170112-152413-6.41_FDG__THORAX-WB_Venfas_...  \n",
       "4    CT-20161220-142442-6.17_FDG__DT-WB_Venfas_1_ax...  \n",
       "..                                                 ...  \n",
       "162  CT-20180112-080432-6.6_UAS-WB-FDG-3D_VENFASTHO...  \n",
       "163  CT-20151012-130521-6.3_UAS-WB-FDG-3D_CT_THORAX...  \n",
       "164  CT-20150820-112425-6.3_UAS-WB-FDG-3D_CT_THORAX...  \n",
       "165  CT-20150819-124136-6.3_UAS-WB-FDG-3D_CT_THORAX...  \n",
       "166  CT-20150928-141058-6.3_UAS-WB-FDG-3D_CT_THORAX...  \n",
       "\n",
       "[167 rows x 5 columns]"
      ]
     },
     "execution_count": 21,
     "metadata": {},
     "output_type": "execute_result"
    }
   ],
   "source": [
    "missing_info_dataset[~missing_info_dataset.index.isin(distorted_exams_dataset.index)]"
   ]
  },
  {
   "cell_type": "code",
   "execution_count": 3,
   "metadata": {},
   "outputs": [],
   "source": [
    "data = pd.read_excel(\"/media/andres/T7 Shield/ucan_lymfom/Excel_files/06_11_2023/Final_Selected_exams_from_U-CAN-Lymfom.xlsx\")"
   ]
  },
  {
   "cell_type": "code",
   "execution_count": 5,
   "metadata": {},
   "outputs": [
    {
     "data": {
      "text/plain": [
       "(3646, 8)"
      ]
     },
     "execution_count": 5,
     "metadata": {},
     "output_type": "execute_result"
    }
   ],
   "source": [
    "data.shape"
   ]
  },
  {
   "cell_type": "code",
   "execution_count": 8,
   "metadata": {},
   "outputs": [
    {
     "name": "stdout",
     "output_type": "stream",
     "text": [
      "Distorted exams dataset shape: (3646, 8)\n",
      "----------------------------\n",
      "Distorted exams columns: Index(['Unnamed: 0', 'directory', 'source_directory', 'patient_directory',\n",
      "       'PET-CT_info', 'system', 'npr', 'scan_date'],\n",
      "      dtype='object')\n",
      "----------------------------\n",
      "0      /media/andres/T7 Shield/ucan_lymfom/ASPTCTX0001_npr999612862346-20210628/CT-20210628-114331-3.11_WB_F18_FDG_VENFAS__THORAX_INANDAD-WB_Venfas_3_ax-3.000000mm\n",
      "1     /media/andres/T7 Shield/ucan_lymfom/ASPTCTX0001_npr999612862346-20210628/PT-20210628-112746-3.11_WB_F18_FDG_VENFAS__THORAX_INANDAD-QCFX-S_400_M.Free-2.8000mm\n",
      "2    /media/andres/T7 Shield/ucan_lymfom/ASPTCTX0001_npr999612862346-20210407/CT-20210407-105418-3.12_WB_F18_FDG_VENFAS__THORAX_INANDAD-WB_Venfas_0.6_ax-0.625000mm\n",
      "Name: directory, dtype: object\n",
      "----------------------------\n",
      "Patient identity: ASPTCTX0001_npr999612862346-20210628\n",
      "Patient identity: ASPTCTX0001_npr999612862346-20210628\n",
      "Patient identity: ASPTCTX0001_npr999612862346-20210407\n",
      "Patient identity: ASPTCTX0001_npr999612862346-20210407\n",
      "Patient identity: ASPTCTX0001_npr999612862346-20210212\n",
      "----------------------------\n",
      "Number of unique patients in the final selected exams dataset: 1823\n"
     ]
    }
   ],
   "source": [
    "print(f\"Distorted exams dataset shape: {data.shape}\")\n",
    "print(\"----------------------------\")\n",
    "print(f\"Distorted exams columns: {data.columns}\")\n",
    "data[['source_directory', 'patient_directory', 'PET-CT_info']] = data['directory'].str.rsplit(pat='/', n=2, expand=True)\n",
    "print(\"----------------------------\")\n",
    "display_full(data[\"directory\"].head(3))\n",
    "print(\"----------------------------\")\n",
    "for folder_path in data[\"directory\"].head(5):\n",
    "    patient = folder_path.rsplit(sep='/', maxsplit=2)[1]\n",
    "    print(f\"Patient identity: {patient}\")\n",
    "print(\"----------------------------\")\n",
    "print(f'Number of unique patients in the final selected exams dataset: {data[\"patient_directory\"].nunique()}')"
   ]
  },
  {
   "cell_type": "code",
   "execution_count": null,
   "metadata": {},
   "outputs": [],
   "source": []
  }
 ],
 "metadata": {
  "kernelspec": {
   "display_name": "UCANProject",
   "language": "python",
   "name": "python3"
  },
  "language_info": {
   "codemirror_mode": {
    "name": "ipython",
    "version": 3
   },
   "file_extension": ".py",
   "mimetype": "text/x-python",
   "name": "python",
   "nbconvert_exporter": "python",
   "pygments_lexer": "ipython3",
   "version": "3.11.5"
  }
 },
 "nbformat": 4,
 "nbformat_minor": 2
}
